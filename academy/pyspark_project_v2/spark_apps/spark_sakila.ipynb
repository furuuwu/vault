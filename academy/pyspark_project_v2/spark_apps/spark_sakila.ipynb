{
 "cells": [
  {
   "cell_type": "code",
   "execution_count": 1,
   "metadata": {},
   "outputs": [],
   "source": [
    "from pyspark.sql import SparkSession"
   ]
  },
  {
   "cell_type": "code",
   "execution_count": 2,
   "metadata": {},
   "outputs": [],
   "source": [
    "# spark = SparkSession.builder.appName(\"Test\").getOrCreate()"
   ]
  },
  {
   "cell_type": "code",
   "execution_count": 3,
   "metadata": {},
   "outputs": [],
   "source": [
    "# spark.range(10).show()"
   ]
  },
  {
   "cell_type": "markdown",
   "metadata": {},
   "source": [
    "This works fine so far but, to connect to the database, you need a database driver and they didn't come included in this repo.\n",
    "\n",
    "Here i wanted to get the MySQL JDBC driver\n",
    "* i didn't get it to work but one way of doing that would (in theory) be to download the file from here https://dev.mysql.com/downloads/connector/j/ (i placed it under `requirements/mysql-connector-j-9.1.0.jar`). Then need to make it available to the container\n",
    "\n",
    "    eg. by changing the Dockerfile\n",
    "\n",
    "    ```Dockerfile\n",
    "    # Download and install Spark\n",
    "    RUN curl https://dlcdn.apache.org/spark/spark-3.5.3/spark-3.5.3-bin-hadoop3.tgz -o spark-${SPARK_VERSION}-bin-hadoop3.tgz \\\n",
    "    && tar xvzf spark-${SPARK_VERSION}-bin-hadoop3.tgz --directory /opt/spark --strip-components 1 \\\n",
    "    && rm -rf spark-${SPARK_VERSION}-bin-hadoop3.tgz\n",
    "\n",
    "    # new\n",
    "    # Add MySQL JDBC driver to the Spark classpath\n",
    "    COPY requirements/mysql-connector-j-9.1.0.jar /opt/spark/jars/\n",
    "\n",
    "    FROM spark-base as pyspark\n",
    "    ```\n",
    "\n",
    "    and then you'd change the spark-submit call to include it\n",
    "\n",
    "    eg. on a jupyter notebook,\n",
    "    ```python\n",
    "    # Set the environment variable to include the MySQL JDBC JAR\n",
    "    os.environ['PYSPARK_SUBMIT_ARGS'] = '--jars file:///opt/spark/jars/mysql-connector-j-9.1.0.jar pyspark-shell'\n",
    "    ```\n",
    "\n",
    "    BUT didn't work for me so... Any advice on that is appreciated.\n",
    "\n",
    "* the way it worked for me, was this\n",
    "\n",
    "    ```python\n",
    "    # Set the environment variable to include the MySQL JDBC driver using --packages\n",
    "    os.environ['PYSPARK_SUBMIT_ARGS'] = '--packages mysql:mysql-connector-java:8.0.28 pyspark-shell'\n",
    "    ```\n",
    "\n",
    "    this will download the package for me at the time the command is issued... it is slower but works at least\n",
    "\n",
    "    Also, see this\n",
    "\n",
    "    https://stackoverflow.com/questions/63677107/how-to-set-up-jdbc-driver-for-mysql-in-jupyter-notebook-for-pyspark"
   ]
  },
  {
   "cell_type": "code",
   "execution_count": 4,
   "metadata": {},
   "outputs": [],
   "source": [
    "from pyspark.sql import SparkSession, DataFrame\n",
    "import pyspark.sql.functions as F\n",
    "import pyspark.sql.types as T"
   ]
  },
  {
   "cell_type": "code",
   "execution_count": 5,
   "metadata": {},
   "outputs": [],
   "source": [
    "import os"
   ]
  },
  {
   "cell_type": "code",
   "execution_count": 6,
   "metadata": {},
   "outputs": [],
   "source": [
    "# Set the environment variable to include the MySQL JDBC driver using --packages\n",
    "os.environ['PYSPARK_SUBMIT_ARGS'] = '--packages mysql:mysql-connector-java:8.0.28 pyspark-shell'"
   ]
  },
  {
   "cell_type": "code",
   "execution_count": 7,
   "metadata": {},
   "outputs": [
    {
     "name": "stderr",
     "output_type": "stream",
     "text": [
      "your 131072x1 screen size is bogus. expect trouble\n"
     ]
    },
    {
     "name": "stdout",
     "output_type": "stream",
     "text": [
      "25/01/03 14:02:37 WARN Utils: Your hostname, LPT-5CG129083D resolves to a loopback address: 127.0.1.1; using 10.255.255.254 instead (on interface lo)\n",
      "25/01/03 14:02:37 WARN Utils: Set SPARK_LOCAL_IP if you need to bind to another address\n",
      ":: loading settings :: url = jar:file:/home/devcontainers/.pyenv/versions/3.10.0/lib/python3.10/site-packages/pyspark/jars/ivy-2.5.1.jar!/org/apache/ivy/core/settings/ivysettings.xml\n"
     ]
    },
    {
     "name": "stderr",
     "output_type": "stream",
     "text": [
      "Ivy Default Cache set to: /home/devcontainers/.ivy2/cache\n",
      "The jars for the packages stored in: /home/devcontainers/.ivy2/jars\n",
      "mysql#mysql-connector-java added as a dependency\n",
      ":: resolving dependencies :: org.apache.spark#spark-submit-parent-ede11084-a863-4f73-b979-be8e0dff76e9;1.0\n",
      "\tconfs: [default]\n",
      "\tfound mysql#mysql-connector-java;8.0.28 in central\n",
      "\tfound com.google.protobuf#protobuf-java;3.11.4 in central\n",
      ":: resolution report :: resolve 225ms :: artifacts dl 7ms\n",
      "\t:: modules in use:\n",
      "\tcom.google.protobuf#protobuf-java;3.11.4 from central in [default]\n",
      "\tmysql#mysql-connector-java;8.0.28 from central in [default]\n",
      "\t---------------------------------------------------------------------\n",
      "\t|                  |            modules            ||   artifacts   |\n",
      "\t|       conf       | number| search|dwnlded|evicted|| number|dwnlded|\n",
      "\t---------------------------------------------------------------------\n",
      "\t|      default     |   2   |   0   |   0   |   0   ||   2   |   0   |\n",
      "\t---------------------------------------------------------------------\n",
      ":: retrieving :: org.apache.spark#spark-submit-parent-ede11084-a863-4f73-b979-be8e0dff76e9\n",
      "\tconfs: [default]\n",
      "\t0 artifacts copied, 2 already retrieved (0kB/7ms)\n"
     ]
    },
    {
     "name": "stdout",
     "output_type": "stream",
     "text": [
      "25/01/03 14:02:38 WARN NativeCodeLoader: Unable to load native-hadoop library for your platform... using builtin-java classes where applicable\n"
     ]
    },
    {
     "name": "stderr",
     "output_type": "stream",
     "text": [
      "Setting default log level to \"WARN\".\n",
      "To adjust logging level use sc.setLogLevel(newLevel). For SparkR, use setLogLevel(newLevel).\n"
     ]
    }
   ],
   "source": [
    "spark = SparkSession.builder.appName(\"MySQL Test\").getOrCreate()"
   ]
  },
  {
   "cell_type": "code",
   "execution_count": 12,
   "metadata": {},
   "outputs": [],
   "source": [
    "mysql_url = \"jdbc:mysql://localhost:3307/sakila\"\n",
    "\n",
    "properties = {\n",
    "    \"user\": \"root\",  # Replace with your MySQL username\n",
    "    \"password\": \"rootpassword\",  # Replace with your MySQL password\n",
    "    \"driver\": \"com.mysql.cj.jdbc.Driver\"\n",
    "}"
   ]
  },
  {
   "cell_type": "code",
   "execution_count": 13,
   "metadata": {},
   "outputs": [],
   "source": [
    "# Read the data from MySQL tables into Spark DataFrames\n",
    "df_actor = spark.read.jdbc(mysql_url, \"actor\", properties=properties)\n",
    "df_customer = spark.read.jdbc(mysql_url, \"customer\", properties=properties)\n",
    "df_film = spark.read.jdbc(mysql_url, \"film\", properties=properties)"
   ]
  },
  {
   "cell_type": "code",
   "execution_count": 14,
   "metadata": {},
   "outputs": [
    {
     "data": {
      "text/plain": [
       "DataFrame[actor_id: int, first_name: string, last_name: string, last_update: timestamp]"
      ]
     },
     "execution_count": 14,
     "metadata": {},
     "output_type": "execute_result"
    }
   ],
   "source": [
    "df_actor"
   ]
  },
  {
   "cell_type": "code",
   "execution_count": 13,
   "metadata": {},
   "outputs": [
    {
     "name": "stdout",
     "output_type": "stream",
     "text": [
      "+--------+----------+------------+-------------------+\n",
      "|actor_id|first_name|   last_name|        last_update|\n",
      "+--------+----------+------------+-------------------+\n",
      "|       1|  PENELOPE|     GUINESS|2006-02-15 04:34:33|\n",
      "|       2|      NICK|    WAHLBERG|2006-02-15 04:34:33|\n",
      "|       3|        ED|       CHASE|2006-02-15 04:34:33|\n",
      "|       4|  JENNIFER|       DAVIS|2006-02-15 04:34:33|\n",
      "|       5|    JOHNNY|LOLLOBRIGIDA|2006-02-15 04:34:33|\n",
      "+--------+----------+------------+-------------------+\n",
      "only showing top 5 rows\n",
      "\n",
      "+-----------+--------+----------+---------+--------------------+----------+------+-------------------+-------------------+\n",
      "|customer_id|store_id|first_name|last_name|               email|address_id|active|        create_date|        last_update|\n",
      "+-----------+--------+----------+---------+--------------------+----------+------+-------------------+-------------------+\n",
      "|          1|       1|      MARY|    SMITH|MARY.SMITH@sakila...|         5|  true|2006-02-14 22:04:36|2006-02-15 04:57:20|\n",
      "|          2|       1|  PATRICIA|  JOHNSON|PATRICIA.JOHNSON@...|         6|  true|2006-02-14 22:04:36|2006-02-15 04:57:20|\n",
      "|          3|       1|     LINDA| WILLIAMS|LINDA.WILLIAMS@sa...|         7|  true|2006-02-14 22:04:36|2006-02-15 04:57:20|\n",
      "|          4|       2|   BARBARA|    JONES|BARBARA.JONES@sak...|         8|  true|2006-02-14 22:04:36|2006-02-15 04:57:20|\n",
      "|          5|       1| ELIZABETH|    BROWN|ELIZABETH.BROWN@s...|         9|  true|2006-02-14 22:04:36|2006-02-15 04:57:20|\n",
      "+-----------+--------+----------+---------+--------------------+----------+------+-------------------+-------------------+\n",
      "only showing top 5 rows\n",
      "\n",
      "+-------+----------------+--------------------+------------+-----------+--------------------+---------------+-----------+------+----------------+------+--------------------+-------------------+\n",
      "|film_id|           title|         description|release_year|language_id|original_language_id|rental_duration|rental_rate|length|replacement_cost|rating|    special_features|        last_update|\n",
      "+-------+----------------+--------------------+------------+-----------+--------------------+---------------+-----------+------+----------------+------+--------------------+-------------------+\n",
      "|      1|ACADEMY DINOSAUR|A Epic Drama of a...|  2006-01-01|          1|                null|              6|       0.99|    86|           20.99|    PG|Deleted Scenes,Be...|2006-02-15 05:03:42|\n",
      "|      2|  ACE GOLDFINGER|A Astounding Epis...|  2006-01-01|          1|                null|              3|       4.99|    48|           12.99|     G|Trailers,Deleted ...|2006-02-15 05:03:42|\n",
      "|      3|ADAPTATION HOLES|A Astounding Refl...|  2006-01-01|          1|                null|              7|       2.99|    50|           18.99| NC-17|Trailers,Deleted ...|2006-02-15 05:03:42|\n",
      "|      4|AFFAIR PREJUDICE|A Fanciful Docume...|  2006-01-01|          1|                null|              5|       2.99|   117|           26.99|     G|Commentaries,Behi...|2006-02-15 05:03:42|\n",
      "|      5|     AFRICAN EGG|A Fast-Paced Docu...|  2006-01-01|          1|                null|              6|       2.99|   130|           22.99|     G|      Deleted Scenes|2006-02-15 05:03:42|\n",
      "+-------+----------------+--------------------+------------+-----------+--------------------+---------------+-----------+------+----------------+------+--------------------+-------------------+\n",
      "only showing top 5 rows\n",
      "\n"
     ]
    }
   ],
   "source": [
    "# Show data\n",
    "df_actor.show(5)\n",
    "df_customer.show(5)\n",
    "df_film.show(5)"
   ]
  },
  {
   "cell_type": "markdown",
   "metadata": {},
   "source": [
    "Examples..."
   ]
  },
  {
   "cell_type": "code",
   "execution_count": 14,
   "metadata": {},
   "outputs": [
    {
     "name": "stdout",
     "output_type": "stream",
     "text": [
      "+---------+-------------------+------------+-----------+-------------------+--------+-------------------+\n",
      "|rental_id|        rental_date|inventory_id|customer_id|        return_date|staff_id|        last_update|\n",
      "+---------+-------------------+------------+-----------+-------------------+--------+-------------------+\n",
      "|        1|2005-05-24 22:53:30|         367|        130|2005-05-26 22:04:30|       1|2006-02-15 21:30:53|\n",
      "|        2|2005-05-24 22:54:33|        1525|        459|2005-05-28 19:40:33|       1|2006-02-15 21:30:53|\n",
      "|        3|2005-05-24 23:03:39|        1711|        408|2005-06-01 22:12:39|       1|2006-02-15 21:30:53|\n",
      "|        4|2005-05-24 23:04:41|        2452|        333|2005-06-03 01:43:41|       2|2006-02-15 21:30:53|\n",
      "|        5|2005-05-24 23:05:21|        2079|        222|2005-06-02 04:33:21|       1|2006-02-15 21:30:53|\n",
      "+---------+-------------------+------------+-----------+-------------------+--------+-------------------+\n",
      "only showing top 5 rows\n",
      "\n",
      "+----------+-----------+--------+---------+------+-------------------+-------------------+\n",
      "|payment_id|customer_id|staff_id|rental_id|amount|       payment_date|        last_update|\n",
      "+----------+-----------+--------+---------+------+-------------------+-------------------+\n",
      "|         1|          1|       1|       76|  2.99|2005-05-25 11:30:37|2006-02-15 22:12:30|\n",
      "|         2|          1|       1|      573|  0.99|2005-05-28 10:35:23|2006-02-15 22:12:30|\n",
      "|         3|          1|       1|     1185|  5.99|2005-06-15 00:54:12|2006-02-15 22:12:30|\n",
      "|         4|          1|       2|     1422|  0.99|2005-06-15 18:02:53|2006-02-15 22:12:30|\n",
      "|         5|          1|       2|     1476|  9.99|2005-06-15 21:08:46|2006-02-15 22:12:30|\n",
      "+----------+-----------+--------+---------+------+-------------------+-------------------+\n",
      "only showing top 5 rows\n",
      "\n",
      "+-----------+--------+----------+---------+--------------------+----------+------+-------------------+-------------------+---------+-------------------+------------+-----------+-------------------+--------+-------------------+----------+-----------+--------+---------+------+-------------------+-------------------+\n",
      "|customer_id|store_id|first_name|last_name|               email|address_id|active|        create_date|        last_update|rental_id|        rental_date|inventory_id|customer_id|        return_date|staff_id|        last_update|payment_id|customer_id|staff_id|rental_id|amount|       payment_date|        last_update|\n",
      "+-----------+--------+----------+---------+--------------------+----------+------+-------------------+-------------------+---------+-------------------+------------+-----------+-------------------+--------+-------------------+----------+-----------+--------+---------+------+-------------------+-------------------+\n",
      "|        496|       2|     TYLER|     WREN|TYLER.WREN@sakila...|       501|  true|2006-02-14 22:04:37|2006-02-15 04:57:20|      322|2005-05-27 00:47:35|        4556|        496|2005-06-02 00:32:35|       1|2006-02-15 21:30:53|     13356|        496|       2|      322|  4.99|2005-05-27 00:47:35|2006-02-15 22:20:14|\n",
      "|        463|       2|   DARRELL|    POWER|DARRELL.POWER@sak...|       468|  true|2006-02-14 22:04:37|2006-02-15 04:57:20|      560|2005-05-28 08:53:02|         644|        463|2005-06-04 12:27:02|       2|2006-02-15 21:30:53|     12501|        463|       1|      560|  1.99|2005-05-28 08:53:02|2006-02-15 22:19:23|\n",
      "|        471|       1|      DEAN|    SAUER|DEAN.SAUER@sakila...|       476|  true|2006-02-14 22:04:37|2006-02-15 04:57:20|      616|2005-05-28 15:45:39|         989|        471|2005-06-02 09:55:39|       1|2006-02-15 21:30:53|     12722|        471|       1|      616|  2.99|2005-05-28 15:45:39|2006-02-15 22:19:36|\n",
      "|        148|       1|   ELEANOR|     HUNT|ELEANOR.HUNT@saki...|       152|  true|2006-02-14 22:04:36|2006-02-15 04:57:20|      682|2005-05-28 23:53:18|        3160|        148|2005-05-29 19:14:18|       2|2006-02-15 21:30:53|      4012|        148|       1|      682|  4.99|2005-05-28 23:53:18|2006-02-15 22:13:28|\n",
      "|        496|       2|     TYLER|     WREN|TYLER.WREN@sakila...|       501|  true|2006-02-14 22:04:37|2006-02-15 04:57:20|      966|2005-05-30 19:00:37|        1294|        496|2005-05-31 23:51:37|       1|2006-02-15 21:30:53|     13357|        496|       2|      966|  0.99|2005-05-30 19:00:37|2006-02-15 22:20:14|\n",
      "+-----------+--------+----------+---------+--------------------+----------+------+-------------------+-------------------+---------+-------------------+------------+-----------+-------------------+--------+-------------------+----------+-----------+--------+---------+------+-------------------+-------------------+\n",
      "only showing top 5 rows\n",
      "\n"
     ]
    }
   ],
   "source": [
    "# Filtering Customers Who Have Rented a Film\n",
    "\n",
    "# Load the rental and payment tables\n",
    "df_rental = spark.read.jdbc(mysql_url, \"rental\", properties=properties)\n",
    "df_payment = spark.read.jdbc(mysql_url, \"payment\", properties=properties)\n",
    "\n",
    "df_rental.show(5)\n",
    "df_payment.show(5)\n",
    "\n",
    "# Join customer, rental, and payment data to analyze customer activity\n",
    "df_customer_rentals = df_customer.join(df_rental, df_customer.customer_id == df_rental.customer_id) \\\n",
    "                                 .join(df_payment, df_rental.rental_id == df_payment.rental_id)\n",
    "\n",
    "# Show customer rental and payment data\n",
    "df_customer_rentals.show(5)"
   ]
  },
  {
   "cell_type": "code",
   "execution_count": 18,
   "metadata": {},
   "outputs": [
    {
     "name": "stdout",
     "output_type": "stream",
     "text": [
      "+-------+-----------+-------------------+\n",
      "|film_id|category_id|        last_update|\n",
      "+-------+-----------+-------------------+\n",
      "|      1|          6|2006-02-15 05:07:09|\n",
      "|      2|         11|2006-02-15 05:07:09|\n",
      "|      3|          6|2006-02-15 05:07:09|\n",
      "|      4|         11|2006-02-15 05:07:09|\n",
      "|      5|          8|2006-02-15 05:07:09|\n",
      "+-------+-----------+-------------------+\n",
      "only showing top 5 rows\n",
      "\n",
      "+---------+-----------+\n",
      "| category|total_sales|\n",
      "+---------+-----------+\n",
      "|   Sports|    5314.21|\n",
      "|   Sci-Fi|    4756.98|\n",
      "|Animation|    4656.30|\n",
      "|    Drama|    4587.39|\n",
      "|   Comedy|    4383.58|\n",
      "+---------+-----------+\n",
      "only showing top 5 rows\n",
      "\n",
      "+-----------+---------+-------------------+\n",
      "|category_id|     name|        last_update|\n",
      "+-----------+---------+-------------------+\n",
      "|          1|   Action|2006-02-15 04:46:27|\n",
      "|          2|Animation|2006-02-15 04:46:27|\n",
      "|          3| Children|2006-02-15 04:46:27|\n",
      "|          4| Classics|2006-02-15 04:46:27|\n",
      "|          5|   Comedy|2006-02-15 04:46:27|\n",
      "+-----------+---------+-------------------+\n",
      "only showing top 5 rows\n",
      "\n",
      "+-----------+----------------+\n",
      "|   category|sum(total_sales)|\n",
      "+-----------+----------------+\n",
      "|    Foreign|       311758.91|\n",
      "|     Sports|       393251.54|\n",
      "|      Drama|       284418.18|\n",
      "|Documentary|       286791.36|\n",
      "|     Travel|       202329.48|\n",
      "|     Family|       291598.83|\n",
      "|      Games|       261161.13|\n",
      "|   Classics|       207456.63|\n",
      "|  Animation|       307315.80|\n",
      "|      Music|       174303.72|\n",
      "|     Horror|       208462.24|\n",
      "|        New|       274152.06|\n",
      "|     Comedy|       254247.64|\n",
      "|   Children|       219333.00|\n",
      "|     Action|       280054.40|\n",
      "|     Sci-Fi|       290175.78|\n",
      "+-----------+----------------+\n",
      "\n"
     ]
    }
   ],
   "source": [
    "# Aggregation Example (Total Sales by Category)\n",
    "\n",
    "# Load film_category and sales_by_film_category tables\n",
    "df_film_category = spark.read.jdbc(mysql_url, \"film_category\", properties=properties)\n",
    "df_sales_by_film_category = spark.read.jdbc(mysql_url, \"sales_by_film_category\", properties=properties)\n",
    "df_category = spark.read.jdbc(mysql_url, \"category\", properties=properties)\n",
    "\n",
    "df_film_category.show(5)  # film_id, category_id, last_update\n",
    "df_sales_by_film_category.show(5)  # category, total_sales\n",
    "df_category.show(5)  # category_id, name, last_update\n",
    "\n",
    "# Join film_category with category table to get category name\n",
    "df_film_category_with_name = df_film_category.join(df_category, df_film_category.category_id == df_category.category_id) \\\n",
    "                                             .select(df_category.name.alias(\"category\"), df_film_category.film_id)\n",
    "\n",
    "# Join the above result with sales_by_film_category on category\n",
    "df_sales_category = df_film_category_with_name.join(df_sales_by_film_category, \n",
    "                                                    df_film_category_with_name.category == df_sales_by_film_category.category) \\\n",
    "                                              .select(df_sales_by_film_category.category, df_sales_by_film_category.total_sales)\n",
    "\n",
    "# Aggregate total sales by category\n",
    "df_sales_category_grouped = df_sales_category.groupBy(\"category\").sum(\"total_sales\")\n",
    "\n",
    "df_sales_category_grouped.show()"
   ]
  },
  {
   "cell_type": "code",
   "execution_count": 19,
   "metadata": {},
   "outputs": [
    {
     "name": "stdout",
     "output_type": "stream",
     "text": [
      "Requirement already satisfied: matplotlib in /home/devcontainers/.pyenv/versions/3.10.0/lib/python3.10/site-packages (3.10.0)\n",
      "Requirement already satisfied: kiwisolver>=1.3.1 in /home/devcontainers/.pyenv/versions/3.10.0/lib/python3.10/site-packages (from matplotlib) (1.4.8)\n",
      "Requirement already satisfied: numpy>=1.23 in /home/devcontainers/.pyenv/versions/3.10.0/lib/python3.10/site-packages (from matplotlib) (2.2.1)\n",
      "Requirement already satisfied: cycler>=0.10 in /home/devcontainers/.pyenv/versions/3.10.0/lib/python3.10/site-packages (from matplotlib) (0.12.1)\n",
      "Requirement already satisfied: pyparsing>=2.3.1 in /home/devcontainers/.pyenv/versions/3.10.0/lib/python3.10/site-packages (from matplotlib) (3.2.1)\n",
      "Requirement already satisfied: python-dateutil>=2.7 in /home/devcontainers/.pyenv/versions/3.10.0/lib/python3.10/site-packages (from matplotlib) (2.9.0.post0)\n",
      "Requirement already satisfied: pillow>=8 in /home/devcontainers/.pyenv/versions/3.10.0/lib/python3.10/site-packages (from matplotlib) (11.1.0)\n",
      "Requirement already satisfied: fonttools>=4.22.0 in /home/devcontainers/.pyenv/versions/3.10.0/lib/python3.10/site-packages (from matplotlib) (4.55.3)\n",
      "Requirement already satisfied: packaging>=20.0 in /home/devcontainers/.pyenv/versions/3.10.0/lib/python3.10/site-packages (from matplotlib) (24.2)\n",
      "Requirement already satisfied: contourpy>=1.0.1 in /home/devcontainers/.pyenv/versions/3.10.0/lib/python3.10/site-packages (from matplotlib) (1.3.1)\n",
      "Requirement already satisfied: six>=1.5 in /home/devcontainers/.pyenv/versions/3.10.0/lib/python3.10/site-packages (from python-dateutil>=2.7->matplotlib) (1.17.0)\n",
      "\u001b[33mWARNING: You are using pip version 21.2.3; however, version 24.3.1 is available.\n",
      "You should consider upgrading via the '/home/devcontainers/.pyenv/versions/3.10.0/bin/python -m pip install --upgrade pip' command.\u001b[0m\n",
      "Note: you may need to restart the kernel to use updated packages.\n"
     ]
    }
   ],
   "source": [
    "# Visualization with Matplotlib and PySpark\n",
    "%pip install matplotlib # questionable\n",
    "import matplotlib.pyplot as plt\n",
    "import pandas as pd"
   ]
  },
  {
   "cell_type": "code",
   "execution_count": 20,
   "metadata": {},
   "outputs": [
    {
     "data": {
      "image/png": "[encoded data removed]",
      "text/plain": [
       "<Figure size 1000x600 with 1 Axes>"
      ]
     },
     "metadata": {},
     "output_type": "display_data"
    }
   ],
   "source": [
    "# Convert Spark DataFrame to Pandas DataFrame for plotting\n",
    "df_sales_category_pandas = df_sales_category_grouped.toPandas()\n",
    "\n",
    "# Create a bar plot\n",
    "plt.figure(figsize=(10, 6))\n",
    "plt.bar(df_sales_category_pandas['category'], df_sales_category_pandas['sum(total_sales)'])\n",
    "plt.xlabel('Category')\n",
    "plt.ylabel('Total Sales')\n",
    "plt.title('Total Sales by Category')\n",
    "plt.xticks(rotation=45)\n",
    "plt.show()"
   ]
  },
  {
   "cell_type": "code",
   "execution_count": null,
   "metadata": {},
   "outputs": [],
   "source": []
  }
 ],
 "metadata": {
  "kernelspec": {
   "display_name": "3.10.0",
   "language": "python",
   "name": "python3"
  },
  "language_info": {
   "codemirror_mode": {
    "name": "ipython",
    "version": 3
   },
   "file_extension": ".py",
   "mimetype": "text/x-python",
   "name": "python",
   "nbconvert_exporter": "python",
   "pygments_lexer": "ipython3",
   "version": "3.10.0"
  }
 },
 "nbformat": 4,
 "nbformat_minor": 2
}
