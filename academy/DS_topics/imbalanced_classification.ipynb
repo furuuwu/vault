{
  "cells": [
    {
      "cell_type": "markdown",
      "source": [
        "goal: classify a highly imbalanced dataset in which the number of examples in one class greatly outnumbers the examples in another."
      ],
      "metadata": {
        "id": "QtnDbsV4FeZ6"
      }
    },
    {
      "cell_type": "code",
      "execution_count": 35,
      "metadata": {
        "id": "qH7vChUOelwE"
      },
      "outputs": [],
      "source": [
        "import numpy as np\n",
        "import pandas as pd\n",
        "from sklearn.model_selection import train_test_split, StratifiedKFold\n",
        "from sklearn.preprocessing import StandardScaler\n",
        "from imblearn.under_sampling import RandomUnderSampler\n",
        "from sklearn.pipeline import Pipeline\n",
        "from imblearn.pipeline import Pipeline as ImbPipeline"
      ]
    },
    {
      "cell_type": "markdown",
      "metadata": {
        "id": "Euoze8_hHz9g"
      },
      "source": [
        "* https://github.com/scikit-learn/scikit-learn\n",
        "* https://github.com/scikit-learn-contrib/imbalanced-learn"
      ]
    },
    {
      "cell_type": "code",
      "execution_count": 36,
      "metadata": {
        "id": "HDA82GoYHRTi"
      },
      "outputs": [],
      "source": [
        "# metrics\n",
        "from sklearn.metrics import (\n",
        "    precision_score, recall_score, f1_score, roc_auc_score,\n",
        "    average_precision_score, balanced_accuracy_score,\n",
        "    matthews_corrcoef, confusion_matrix\n",
        ")\n",
        "from imblearn.metrics import geometric_mean_score"
      ]
    },
    {
      "cell_type": "code",
      "execution_count": 37,
      "metadata": {
        "id": "98yl-n9hsKlf"
      },
      "outputs": [],
      "source": [
        "# models\n",
        "from sklearn.neighbors import KNeighborsClassifier\n",
        "from sklearn.linear_model import LogisticRegression\n",
        "from sklearn.ensemble import HistGradientBoostingClassifier\n",
        "from sklearn.svm import SVC\n",
        "from sklearn.neural_network import MLPClassifier\n",
        "\n",
        "# %pip install xgboost\n",
        "# import xgboost as xgb"
      ]
    },
    {
      "cell_type": "markdown",
      "source": [
        "dataset: [Credit Card Fraud Detection](https://www.kaggle.com/mlg-ulb/creditcardfraud) dataset hosted on Kaggle. The aim is to detect the 492 fraudulent transactions from 284,807 transactions in total."
      ],
      "metadata": {
        "id": "mslpFPacFXVf"
      }
    },
    {
      "cell_type": "code",
      "execution_count": 38,
      "metadata": {
        "id": "FzHTNFOVfFoc"
      },
      "outputs": [],
      "source": [
        "# Load the dataset\n",
        "raw_df = pd.read_csv('https://storage.googleapis.com/download.tensorflow.org/data/creditcard.csv')"
      ]
    },
    {
      "cell_type": "code",
      "execution_count": 39,
      "metadata": {
        "colab": {
          "base_uri": "https://localhost:8080/",
          "height": 255
        },
        "id": "kbHAzKPVfJyS",
        "outputId": "48c09d16-3930-4250-9421-bb4a1e39849b"
      },
      "outputs": [
        {
          "output_type": "execute_result",
          "data": {
            "text/plain": [
              "   Time        V1        V2        V3        V4        V5        V6        V7  \\\n",
              "0   0.0 -1.359807 -0.072781  2.536347  1.378155 -0.338321  0.462388  0.239599   \n",
              "1   0.0  1.191857  0.266151  0.166480  0.448154  0.060018 -0.082361 -0.078803   \n",
              "2   1.0 -1.358354 -1.340163  1.773209  0.379780 -0.503198  1.800499  0.791461   \n",
              "3   1.0 -0.966272 -0.185226  1.792993 -0.863291 -0.010309  1.247203  0.237609   \n",
              "4   2.0 -1.158233  0.877737  1.548718  0.403034 -0.407193  0.095921  0.592941   \n",
              "\n",
              "         V8        V9  ...       V21       V22       V23       V24       V25  \\\n",
              "0  0.098698  0.363787  ... -0.018307  0.277838 -0.110474  0.066928  0.128539   \n",
              "1  0.085102 -0.255425  ... -0.225775 -0.638672  0.101288 -0.339846  0.167170   \n",
              "2  0.247676 -1.514654  ...  0.247998  0.771679  0.909412 -0.689281 -0.327642   \n",
              "3  0.377436 -1.387024  ... -0.108300  0.005274 -0.190321 -1.175575  0.647376   \n",
              "4 -0.270533  0.817739  ... -0.009431  0.798278 -0.137458  0.141267 -0.206010   \n",
              "\n",
              "        V26       V27       V28  Amount  Class  \n",
              "0 -0.189115  0.133558 -0.021053  149.62      0  \n",
              "1  0.125895 -0.008983  0.014724    2.69      0  \n",
              "2 -0.139097 -0.055353 -0.059752  378.66      0  \n",
              "3 -0.221929  0.062723  0.061458  123.50      0  \n",
              "4  0.502292  0.219422  0.215153   69.99      0  \n",
              "\n",
              "[5 rows x 31 columns]"
            ],
            "text/html": [
              "\n",
              "  <div id=\"df-b5fb853b-5e75-4c03-9b8f-24a14d2a61be\" class=\"colab-df-container\">\n",
              "    <div>\n",
              "<style scoped>\n",
              "    .dataframe tbody tr th:only-of-type {\n",
              "        vertical-align: middle;\n",
              "    }\n",
              "\n",
              "    .dataframe tbody tr th {\n",
              "        vertical-align: top;\n",
              "    }\n",
              "\n",
              "    .dataframe thead th {\n",
              "        text-align: right;\n",
              "    }\n",
              "</style>\n",
              "<table border=\"1\" class=\"dataframe\">\n",
              "  <thead>\n",
              "    <tr style=\"text-align: right;\">\n",
              "      <th></th>\n",
              "      <th>Time</th>\n",
              "      <th>V1</th>\n",
              "      <th>V2</th>\n",
              "      <th>V3</th>\n",
              "      <th>V4</th>\n",
              "      <th>V5</th>\n",
              "      <th>V6</th>\n",
              "      <th>V7</th>\n",
              "      <th>V8</th>\n",
              "      <th>V9</th>\n",
              "      <th>...</th>\n",
              "      <th>V21</th>\n",
              "      <th>V22</th>\n",
              "      <th>V23</th>\n",
              "      <th>V24</th>\n",
              "      <th>V25</th>\n",
              "      <th>V26</th>\n",
              "      <th>V27</th>\n",
              "      <th>V28</th>\n",
              "      <th>Amount</th>\n",
              "      <th>Class</th>\n",
              "    </tr>\n",
              "  </thead>\n",
              "  <tbody>\n",
              "    <tr>\n",
              "      <th>0</th>\n",
              "      <td>0.0</td>\n",
              "      <td>-1.359807</td>\n",
              "      <td>-0.072781</td>\n",
              "      <td>2.536347</td>\n",
              "      <td>1.378155</td>\n",
              "      <td>-0.338321</td>\n",
              "      <td>0.462388</td>\n",
              "      <td>0.239599</td>\n",
              "      <td>0.098698</td>\n",
              "      <td>0.363787</td>\n",
              "      <td>...</td>\n",
              "      <td>-0.018307</td>\n",
              "      <td>0.277838</td>\n",
              "      <td>-0.110474</td>\n",
              "      <td>0.066928</td>\n",
              "      <td>0.128539</td>\n",
              "      <td>-0.189115</td>\n",
              "      <td>0.133558</td>\n",
              "      <td>-0.021053</td>\n",
              "      <td>149.62</td>\n",
              "      <td>0</td>\n",
              "    </tr>\n",
              "    <tr>\n",
              "      <th>1</th>\n",
              "      <td>0.0</td>\n",
              "      <td>1.191857</td>\n",
              "      <td>0.266151</td>\n",
              "      <td>0.166480</td>\n",
              "      <td>0.448154</td>\n",
              "      <td>0.060018</td>\n",
              "      <td>-0.082361</td>\n",
              "      <td>-0.078803</td>\n",
              "      <td>0.085102</td>\n",
              "      <td>-0.255425</td>\n",
              "      <td>...</td>\n",
              "      <td>-0.225775</td>\n",
              "      <td>-0.638672</td>\n",
              "      <td>0.101288</td>\n",
              "      <td>-0.339846</td>\n",
              "      <td>0.167170</td>\n",
              "      <td>0.125895</td>\n",
              "      <td>-0.008983</td>\n",
              "      <td>0.014724</td>\n",
              "      <td>2.69</td>\n",
              "      <td>0</td>\n",
              "    </tr>\n",
              "    <tr>\n",
              "      <th>2</th>\n",
              "      <td>1.0</td>\n",
              "      <td>-1.358354</td>\n",
              "      <td>-1.340163</td>\n",
              "      <td>1.773209</td>\n",
              "      <td>0.379780</td>\n",
              "      <td>-0.503198</td>\n",
              "      <td>1.800499</td>\n",
              "      <td>0.791461</td>\n",
              "      <td>0.247676</td>\n",
              "      <td>-1.514654</td>\n",
              "      <td>...</td>\n",
              "      <td>0.247998</td>\n",
              "      <td>0.771679</td>\n",
              "      <td>0.909412</td>\n",
              "      <td>-0.689281</td>\n",
              "      <td>-0.327642</td>\n",
              "      <td>-0.139097</td>\n",
              "      <td>-0.055353</td>\n",
              "      <td>-0.059752</td>\n",
              "      <td>378.66</td>\n",
              "      <td>0</td>\n",
              "    </tr>\n",
              "    <tr>\n",
              "      <th>3</th>\n",
              "      <td>1.0</td>\n",
              "      <td>-0.966272</td>\n",
              "      <td>-0.185226</td>\n",
              "      <td>1.792993</td>\n",
              "      <td>-0.863291</td>\n",
              "      <td>-0.010309</td>\n",
              "      <td>1.247203</td>\n",
              "      <td>0.237609</td>\n",
              "      <td>0.377436</td>\n",
              "      <td>-1.387024</td>\n",
              "      <td>...</td>\n",
              "      <td>-0.108300</td>\n",
              "      <td>0.005274</td>\n",
              "      <td>-0.190321</td>\n",
              "      <td>-1.175575</td>\n",
              "      <td>0.647376</td>\n",
              "      <td>-0.221929</td>\n",
              "      <td>0.062723</td>\n",
              "      <td>0.061458</td>\n",
              "      <td>123.50</td>\n",
              "      <td>0</td>\n",
              "    </tr>\n",
              "    <tr>\n",
              "      <th>4</th>\n",
              "      <td>2.0</td>\n",
              "      <td>-1.158233</td>\n",
              "      <td>0.877737</td>\n",
              "      <td>1.548718</td>\n",
              "      <td>0.403034</td>\n",
              "      <td>-0.407193</td>\n",
              "      <td>0.095921</td>\n",
              "      <td>0.592941</td>\n",
              "      <td>-0.270533</td>\n",
              "      <td>0.817739</td>\n",
              "      <td>...</td>\n",
              "      <td>-0.009431</td>\n",
              "      <td>0.798278</td>\n",
              "      <td>-0.137458</td>\n",
              "      <td>0.141267</td>\n",
              "      <td>-0.206010</td>\n",
              "      <td>0.502292</td>\n",
              "      <td>0.219422</td>\n",
              "      <td>0.215153</td>\n",
              "      <td>69.99</td>\n",
              "      <td>0</td>\n",
              "    </tr>\n",
              "  </tbody>\n",
              "</table>\n",
              "<p>5 rows × 31 columns</p>\n",
              "</div>\n",
              "    <div class=\"colab-df-buttons\">\n",
              "\n",
              "  <div class=\"colab-df-container\">\n",
              "    <button class=\"colab-df-convert\" onclick=\"convertToInteractive('df-b5fb853b-5e75-4c03-9b8f-24a14d2a61be')\"\n",
              "            title=\"Convert this dataframe to an interactive table.\"\n",
              "            style=\"display:none;\">\n",
              "\n",
              "  <svg xmlns=\"http://www.w3.org/2000/svg\" height=\"24px\" viewBox=\"0 -960 960 960\">\n",
              "    <path d=\"M120-120v-720h720v720H120Zm60-500h600v-160H180v160Zm220 220h160v-160H400v160Zm0 220h160v-160H400v160ZM180-400h160v-160H180v160Zm440 0h160v-160H620v160ZM180-180h160v-160H180v160Zm440 0h160v-160H620v160Z\"/>\n",
              "  </svg>\n",
              "    </button>\n",
              "\n",
              "  <style>\n",
              "    .colab-df-container {\n",
              "      display:flex;\n",
              "      gap: 12px;\n",
              "    }\n",
              "\n",
              "    .colab-df-convert {\n",
              "      background-color: #E8F0FE;\n",
              "      border: none;\n",
              "      border-radius: 50%;\n",
              "      cursor: pointer;\n",
              "      display: none;\n",
              "      fill: #1967D2;\n",
              "      height: 32px;\n",
              "      padding: 0 0 0 0;\n",
              "      width: 32px;\n",
              "    }\n",
              "\n",
              "    .colab-df-convert:hover {\n",
              "      background-color: #E2EBFA;\n",
              "      box-shadow: 0px 1px 2px rgba(60, 64, 67, 0.3), 0px 1px 3px 1px rgba(60, 64, 67, 0.15);\n",
              "      fill: #174EA6;\n",
              "    }\n",
              "\n",
              "    .colab-df-buttons div {\n",
              "      margin-bottom: 4px;\n",
              "    }\n",
              "\n",
              "    [theme=dark] .colab-df-convert {\n",
              "      background-color: #3B4455;\n",
              "      fill: #D2E3FC;\n",
              "    }\n",
              "\n",
              "    [theme=dark] .colab-df-convert:hover {\n",
              "      background-color: #434B5C;\n",
              "      box-shadow: 0px 1px 3px 1px rgba(0, 0, 0, 0.15);\n",
              "      filter: drop-shadow(0px 1px 2px rgba(0, 0, 0, 0.3));\n",
              "      fill: #FFFFFF;\n",
              "    }\n",
              "  </style>\n",
              "\n",
              "    <script>\n",
              "      const buttonEl =\n",
              "        document.querySelector('#df-b5fb853b-5e75-4c03-9b8f-24a14d2a61be button.colab-df-convert');\n",
              "      buttonEl.style.display =\n",
              "        google.colab.kernel.accessAllowed ? 'block' : 'none';\n",
              "\n",
              "      async function convertToInteractive(key) {\n",
              "        const element = document.querySelector('#df-b5fb853b-5e75-4c03-9b8f-24a14d2a61be');\n",
              "        const dataTable =\n",
              "          await google.colab.kernel.invokeFunction('convertToInteractive',\n",
              "                                                    [key], {});\n",
              "        if (!dataTable) return;\n",
              "\n",
              "        const docLinkHtml = 'Like what you see? Visit the ' +\n",
              "          '<a target=\"_blank\" href=https://colab.research.google.com/notebooks/data_table.ipynb>data table notebook</a>'\n",
              "          + ' to learn more about interactive tables.';\n",
              "        element.innerHTML = '';\n",
              "        dataTable['output_type'] = 'display_data';\n",
              "        await google.colab.output.renderOutput(dataTable, element);\n",
              "        const docLink = document.createElement('div');\n",
              "        docLink.innerHTML = docLinkHtml;\n",
              "        element.appendChild(docLink);\n",
              "      }\n",
              "    </script>\n",
              "  </div>\n",
              "\n",
              "\n",
              "<div id=\"df-f5cba1fc-0483-4c3a-87c0-4f0ff2df13b0\">\n",
              "  <button class=\"colab-df-quickchart\" onclick=\"quickchart('df-f5cba1fc-0483-4c3a-87c0-4f0ff2df13b0')\"\n",
              "            title=\"Suggest charts\"\n",
              "            style=\"display:none;\">\n",
              "\n",
              "<svg xmlns=\"http://www.w3.org/2000/svg\" height=\"24px\"viewBox=\"0 0 24 24\"\n",
              "     width=\"24px\">\n",
              "    <g>\n",
              "        <path d=\"M19 3H5c-1.1 0-2 .9-2 2v14c0 1.1.9 2 2 2h14c1.1 0 2-.9 2-2V5c0-1.1-.9-2-2-2zM9 17H7v-7h2v7zm4 0h-2V7h2v10zm4 0h-2v-4h2v4z\"/>\n",
              "    </g>\n",
              "</svg>\n",
              "  </button>\n",
              "\n",
              "<style>\n",
              "  .colab-df-quickchart {\n",
              "      --bg-color: #E8F0FE;\n",
              "      --fill-color: #1967D2;\n",
              "      --hover-bg-color: #E2EBFA;\n",
              "      --hover-fill-color: #174EA6;\n",
              "      --disabled-fill-color: #AAA;\n",
              "      --disabled-bg-color: #DDD;\n",
              "  }\n",
              "\n",
              "  [theme=dark] .colab-df-quickchart {\n",
              "      --bg-color: #3B4455;\n",
              "      --fill-color: #D2E3FC;\n",
              "      --hover-bg-color: #434B5C;\n",
              "      --hover-fill-color: #FFFFFF;\n",
              "      --disabled-bg-color: #3B4455;\n",
              "      --disabled-fill-color: #666;\n",
              "  }\n",
              "\n",
              "  .colab-df-quickchart {\n",
              "    background-color: var(--bg-color);\n",
              "    border: none;\n",
              "    border-radius: 50%;\n",
              "    cursor: pointer;\n",
              "    display: none;\n",
              "    fill: var(--fill-color);\n",
              "    height: 32px;\n",
              "    padding: 0;\n",
              "    width: 32px;\n",
              "  }\n",
              "\n",
              "  .colab-df-quickchart:hover {\n",
              "    background-color: var(--hover-bg-color);\n",
              "    box-shadow: 0 1px 2px rgba(60, 64, 67, 0.3), 0 1px 3px 1px rgba(60, 64, 67, 0.15);\n",
              "    fill: var(--button-hover-fill-color);\n",
              "  }\n",
              "\n",
              "  .colab-df-quickchart-complete:disabled,\n",
              "  .colab-df-quickchart-complete:disabled:hover {\n",
              "    background-color: var(--disabled-bg-color);\n",
              "    fill: var(--disabled-fill-color);\n",
              "    box-shadow: none;\n",
              "  }\n",
              "\n",
              "  .colab-df-spinner {\n",
              "    border: 2px solid var(--fill-color);\n",
              "    border-color: transparent;\n",
              "    border-bottom-color: var(--fill-color);\n",
              "    animation:\n",
              "      spin 1s steps(1) infinite;\n",
              "  }\n",
              "\n",
              "  @keyframes spin {\n",
              "    0% {\n",
              "      border-color: transparent;\n",
              "      border-bottom-color: var(--fill-color);\n",
              "      border-left-color: var(--fill-color);\n",
              "    }\n",
              "    20% {\n",
              "      border-color: transparent;\n",
              "      border-left-color: var(--fill-color);\n",
              "      border-top-color: var(--fill-color);\n",
              "    }\n",
              "    30% {\n",
              "      border-color: transparent;\n",
              "      border-left-color: var(--fill-color);\n",
              "      border-top-color: var(--fill-color);\n",
              "      border-right-color: var(--fill-color);\n",
              "    }\n",
              "    40% {\n",
              "      border-color: transparent;\n",
              "      border-right-color: var(--fill-color);\n",
              "      border-top-color: var(--fill-color);\n",
              "    }\n",
              "    60% {\n",
              "      border-color: transparent;\n",
              "      border-right-color: var(--fill-color);\n",
              "    }\n",
              "    80% {\n",
              "      border-color: transparent;\n",
              "      border-right-color: var(--fill-color);\n",
              "      border-bottom-color: var(--fill-color);\n",
              "    }\n",
              "    90% {\n",
              "      border-color: transparent;\n",
              "      border-bottom-color: var(--fill-color);\n",
              "    }\n",
              "  }\n",
              "</style>\n",
              "\n",
              "  <script>\n",
              "    async function quickchart(key) {\n",
              "      const quickchartButtonEl =\n",
              "        document.querySelector('#' + key + ' button');\n",
              "      quickchartButtonEl.disabled = true;  // To prevent multiple clicks.\n",
              "      quickchartButtonEl.classList.add('colab-df-spinner');\n",
              "      try {\n",
              "        const charts = await google.colab.kernel.invokeFunction(\n",
              "            'suggestCharts', [key], {});\n",
              "      } catch (error) {\n",
              "        console.error('Error during call to suggestCharts:', error);\n",
              "      }\n",
              "      quickchartButtonEl.classList.remove('colab-df-spinner');\n",
              "      quickchartButtonEl.classList.add('colab-df-quickchart-complete');\n",
              "    }\n",
              "    (() => {\n",
              "      let quickchartButtonEl =\n",
              "        document.querySelector('#df-f5cba1fc-0483-4c3a-87c0-4f0ff2df13b0 button');\n",
              "      quickchartButtonEl.style.display =\n",
              "        google.colab.kernel.accessAllowed ? 'block' : 'none';\n",
              "    })();\n",
              "  </script>\n",
              "</div>\n",
              "\n",
              "    </div>\n",
              "  </div>\n"
            ],
            "application/vnd.google.colaboratory.intrinsic+json": {
              "type": "dataframe",
              "variable_name": "raw_df"
            }
          },
          "metadata": {},
          "execution_count": 39
        }
      ],
      "source": [
        "raw_df.head()"
      ]
    },
    {
      "cell_type": "code",
      "execution_count": 40,
      "metadata": {
        "colab": {
          "base_uri": "https://localhost:8080/"
        },
        "id": "9dpEIFTKoF1Y",
        "outputId": "45c02e30-e012-4d99-9dc1-0b67bbf8e9db"
      },
      "outputs": [
        {
          "output_type": "stream",
          "name": "stdout",
          "text": [
            "Examples:\n",
            "    Total: 284807\n",
            "    Positive: 492 (0.17% of total)\n",
            "\n"
          ]
        }
      ],
      "source": [
        "neg, pos = np.bincount(raw_df['Class'])\n",
        "total = neg + pos\n",
        "print('Examples:\\n    Total: {}\\n    Positive: {} ({:.2f}% of total)\\n'.format(\n",
        "    total, pos, 100 * pos / total))"
      ]
    },
    {
      "cell_type": "code",
      "execution_count": 41,
      "metadata": {
        "id": "miGB1L9yfNBh"
      },
      "outputs": [],
      "source": [
        "# Drop the 'Time' column\n",
        "raw_df = raw_df.drop(columns=['Time'])"
      ]
    },
    {
      "cell_type": "markdown",
      "metadata": {
        "id": "pV4jvE94I3m-"
      },
      "source": [
        "## Ignoring the class imbalance"
      ]
    },
    {
      "cell_type": "code",
      "execution_count": 42,
      "metadata": {
        "id": "ZnT9BbC-fSrg"
      },
      "outputs": [],
      "source": [
        "# Convert 'Amount' to log space\n",
        "# eps = 0.001  # To avoid log(0)\n",
        "# raw_df['Log Amount'] = np.log(raw_df.pop('Amount') + eps)"
      ]
    },
    {
      "cell_type": "code",
      "execution_count": 43,
      "metadata": {
        "id": "0TfDsvR9fWYf"
      },
      "outputs": [],
      "source": [
        "# Extract features and labels\n",
        "X = raw_df.drop(columns=['Class'])\n",
        "y = raw_df['Class']"
      ]
    },
    {
      "cell_type": "code",
      "execution_count": 44,
      "metadata": {
        "id": "Cvxb5SoRJKMW"
      },
      "outputs": [],
      "source": [
        "# Logistic Regression Pipeline\n",
        "log_reg_pipeline = ImbPipeline([\n",
        "    ('scaler', StandardScaler()),\n",
        "    ('logreg', LogisticRegression(class_weight=None)) # solver='liblinear'\n",
        "])"
      ]
    },
    {
      "cell_type": "code",
      "execution_count": 45,
      "metadata": {
        "id": "RystMoi4JM6t"
      },
      "outputs": [],
      "source": [
        "# KNN Pipeline\n",
        "# this one takes too long so i'm excluding it for now\n",
        "knn_pipeline = ImbPipeline([\n",
        "    ('scaler', StandardScaler()),\n",
        "    ('knn', KNeighborsClassifier(weights='uniform'))\n",
        "])"
      ]
    },
    {
      "cell_type": "markdown",
      "metadata": {
        "id": "EursP2WTLXB5"
      },
      "source": [
        "We observe that the parameter weights has an impact on the decision boundary. When weights=\"unifom\" all nearest neighbors will have the same impact on the decision. Whereas when weights=\"distance\" the weight given to each neighbor is proportional to the inverse of the distance from that neighbor to the query point."
      ]
    },
    {
      "cell_type": "code",
      "execution_count": 46,
      "metadata": {
        "id": "xMu5b6a7JPQt"
      },
      "outputs": [],
      "source": [
        "# HistGradientBoostingClassifier pipeline\n",
        "hgb_pipeline = ImbPipeline([\n",
        "    ('scaler', StandardScaler()),\n",
        "    ('hgb', HistGradientBoostingClassifier(max_iter=100, random_state=42, class_weight=None))\n",
        "])"
      ]
    },
    {
      "cell_type": "code",
      "execution_count": 47,
      "metadata": {
        "id": "YJ25nM4oJSW8"
      },
      "outputs": [],
      "source": [
        "# SVM with RBF kernel pipeline\n",
        "# this one takes too long so i'm excluding it for now\n",
        "svm_pipeline = ImbPipeline([\n",
        "    ('scaler', StandardScaler()),\n",
        "    ('svm', SVC(kernel='rbf', probability=True, random_state=42, class_weight=None)) # default kernel\n",
        "])"
      ]
    },
    {
      "cell_type": "markdown",
      "metadata": {
        "id": "I97DW1jVumSa"
      },
      "source": [
        "* SVC(kernel='rbf'): This specifies the RBF kernel for the Support Vector Machine.\n",
        "* probability=True: This allows us to compute the predicted probabilities (needed for PR-AUC and ROC-AUC)."
      ]
    },
    {
      "cell_type": "code",
      "execution_count": 48,
      "metadata": {
        "id": "ud2_0I2nMSVn"
      },
      "outputs": [],
      "source": [
        "# MLPClassifier pipeline\n",
        "mlp_pipeline = ImbPipeline([\n",
        "    ('scaler', StandardScaler()),\n",
        "    ('mlp', MLPClassifier(hidden_layer_sizes=(128, 64), max_iter=100, random_state=42))\n",
        "])"
      ]
    },
    {
      "cell_type": "markdown",
      "metadata": {
        "id": "5YIW2DIFuupB"
      },
      "source": [
        "* hidden_layer_sizes=(128, 64): Defines the architecture of the neural network with two hidden layers.\n",
        "* max_iter=100: Limits the number of iterations for training.\n",
        "* The MLPClassifier handles classification and is suitable for tabular data, but its performance can depend heavily on the choice of hyperparameters."
      ]
    },
    {
      "cell_type": "code",
      "execution_count": 49,
      "metadata": {
        "id": "dzL-pgH5PgOY"
      },
      "outputs": [],
      "source": [
        "# Define evaluation metrics\n",
        "def evaluate_model(y_true, y_pred, y_probs):\n",
        "    # Calculate confusion matrix components\n",
        "    tn, fp, fn, tp = confusion_matrix(y_true, y_pred).ravel()\n",
        "\n",
        "    # Metrics derived from the confusion matrix\n",
        "    accuracy = (tp + tn) / (tp + tn + fp + fn)\n",
        "    sensitivity = tp / (tp + fn) if (tp + fn) > 0 else 0.0  # Same as recall\n",
        "    specificity = tn / (tn + fp) if (tn + fp) > 0 else 0.0\n",
        "    npv = tn / (tn + fn) if (tn + fn) > 0 else 0.0  # Negative Predictive Value\n",
        "    fpr = fp / (fp + tn) if (fp + tn) > 0 else 0.0  # False Positive Rate\n",
        "    fnr = fn / (fn + tp) if (fn + tp) > 0 else 0.0  # False Negative Rate\n",
        "    prevalence = (tp + fn) / (tp + tn + fp + fn)\n",
        "\n",
        "    # Standard metrics\n",
        "    precision = precision_score(y_true, y_pred, zero_division=0)\n",
        "    recall = recall_score(y_true, y_pred)  # Same as sensitivity\n",
        "    f1 = f1_score(y_true, y_pred)\n",
        "    roc_auc = roc_auc_score(y_true, y_probs) if len(np.unique(y_true)) > 1 else 0.0\n",
        "    pr_auc = average_precision_score(y_true, y_probs)\n",
        "    balanced_acc = balanced_accuracy_score(y_true, y_pred)\n",
        "    mcc = matthews_corrcoef(y_true, y_pred)\n",
        "    gmean = geometric_mean_score(y_true, y_pred)\n",
        "\n",
        "    return {\n",
        "        \"Accuracy\": accuracy,\n",
        "        \"Precision\": precision,\n",
        "        \"Recall (Sensitivity)\": recall,\n",
        "        \"Specificity\": specificity,\n",
        "        \"Negative Predictive Value (NPV)\": npv,\n",
        "        \"False Positive Rate (FPR)\": fpr,\n",
        "        \"False Negative Rate (FNR)\": fnr,\n",
        "        \"Prevalence\": prevalence,\n",
        "        \"F1\": f1,\n",
        "        \"ROC-AUC\": roc_auc,\n",
        "        \"PR-AUC\": pr_auc,\n",
        "        \"Balanced Accuracy\": balanced_acc,\n",
        "        \"MCC\": mcc,\n",
        "        \"G-Mean\": gmean\n",
        "    }"
      ]
    },
    {
      "cell_type": "markdown",
      "metadata": {
        "id": "DO542sBgdj1Q"
      },
      "source": [
        "![{6D2E474E-700F-469B-9691-4AB8916B60EF}.png](data:image/png;base64,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)"
      ]
    },
    {
      "cell_type": "markdown",
      "metadata": {
        "id": "C7Sa0pLuPrWn"
      },
      "source": [
        "**Accuracy**: The ratio of correctly classified samples.\n",
        "   $$\n",
        "   \\text{Accuracy} =\n",
        "\\frac{\\text{correct classifications}}{\\text{total classifications}}\n",
        "= \\frac{TP+TN}{TP+TN+FP+FN}\n",
        "   $$\n",
        "\n",
        "**Sensitivity (Recall or TPR)**: The proportion of actual positives correctly identified.\n",
        "   $$\n",
        "   \\text{Recall (or Sensitivity or TPR)} =\n",
        "\\frac{\\text{correctly classified actual positives}}{\\text{all actual positives}}\n",
        "= \\frac{TP}{TP+FN}\n",
        "   $$\n",
        "**Specificity**: The proportion of actual negatives correctly identified.\n",
        "   $$\n",
        "   \\text{Specificity} = \\frac{TN}{TN + FP}\n",
        "   $$\n",
        "**Negative Predictive Value (NPV)**: The proportion of predicted negatives that are true negatives.\n",
        "   $$\n",
        "   \\text{NPV} = \\frac{TN}{TN + FN}\n",
        "   $$\n",
        "**False Positive Rate (FPR)**: The proportion of actual negatives incorrectly identified as positives.\n",
        "   $$\n",
        "   \\text{FPR} = \\frac{FP}{FP + TN}\n",
        "   $$\n",
        "**False Negative Rate (FNR)**: The proportion of actual positives incorrectly identified as negatives.\n",
        "   $$\n",
        "   \\text{FNR} = \\frac{FN}{FN + TP}\n",
        "   $$\n",
        "**Prevalence**: The proportion of positive cases in the dataset.\n",
        "   $$\n",
        "   \\text{Prevalence} = \\frac{TP + FN}{TP + TN + FP + FN}\n",
        "   $$"
      ]
    },
    {
      "cell_type": "code",
      "execution_count": 50,
      "metadata": {
        "id": "ay2Z7ao0QDwv"
      },
      "outputs": [],
      "source": [
        "# Perform k-fold cross-validation\n",
        "kf = StratifiedKFold(n_splits=5, shuffle=True, random_state=42)"
      ]
    },
    {
      "cell_type": "code",
      "execution_count": 51,
      "metadata": {
        "id": "mEqWKfBCQHCe"
      },
      "outputs": [],
      "source": [
        "models = {\n",
        "    \"Logistic Regression\": log_reg_pipeline,\n",
        "    \"KNN\": knn_pipeline\n",
        "}"
      ]
    },
    {
      "cell_type": "code",
      "execution_count": 52,
      "metadata": {
        "id": "w0po5niRQKZ-"
      },
      "outputs": [],
      "source": [
        "# Add the HistGradientBoostingClassifier model to the models dictionary\n",
        "models[\"Histogram-based Gradient Boosting\"] = hgb_pipeline"
      ]
    },
    {
      "cell_type": "code",
      "execution_count": 53,
      "metadata": {
        "id": "inJ1yToXQN-u"
      },
      "outputs": [],
      "source": [
        "# models[\"SVM (RBF Kernel)\"] = svm_pipeline\n",
        "models[\"MLPClassifier\"] = mlp_pipeline"
      ]
    },
    {
      "cell_type": "markdown",
      "metadata": {
        "id": "4-H85H61cV44"
      },
      "source": [
        "<div style=\"color:red;\">warning: 15min, or at best 5min (without the knn)</div> 😰"
      ]
    },
    {
      "cell_type": "code",
      "execution_count": null,
      "metadata": {
        "colab": {
          "background_save": true,
          "base_uri": "https://localhost:8080/"
        },
        "id": "FCgBDVE9QR3e",
        "outputId": "d0fc70b1-ca42-449c-d02d-7aef308a0da4"
      },
      "outputs": [
        {
          "output_type": "stream",
          "name": "stdout",
          "text": [
            "\n",
            "Training model: Logistic Regression\n",
            "  Fold: 1\n",
            "  Fold: 2\n",
            "  Fold: 3\n",
            "  Fold: 4\n",
            "  Fold: 5\n",
            "\n",
            "Training model: KNN\n",
            "  Fold: 1\n",
            "  Fold: 2\n",
            "  Fold: 3\n",
            "  Fold: 4\n",
            "  Fold: 5\n",
            "\n",
            "Training model: Histogram-based Gradient Boosting\n",
            "  Fold: 1\n",
            "  Fold: 2\n",
            "  Fold: 3\n",
            "  Fold: 4\n",
            "  Fold: 5\n",
            "\n",
            "Training model: MLPClassifier\n",
            "  Fold: 1\n",
            "  Fold: 2\n",
            "  Fold: 3\n"
          ]
        }
      ],
      "source": [
        "results = {}\n",
        "\n",
        "for model_name, pipeline in models.items():\n",
        "    print(f\"\\nTraining model: {model_name}\")\n",
        "    fold_results = []\n",
        "    for train_idx, test_idx in kf.split(X, y):\n",
        "        print(f\"  Fold: {len(fold_results) + 1}\")\n",
        "        X_train, X_test = X.iloc[train_idx], X.iloc[test_idx]\n",
        "        y_train, y_test = y.iloc[train_idx], y.iloc[test_idx]\n",
        "\n",
        "        # Fit and predict\n",
        "        pipeline.fit(X_train, y_train)\n",
        "        y_pred = pipeline.predict(X_test)\n",
        "        y_probs = pipeline.predict_proba(X_test)[:, 1]\n",
        "\n",
        "        # Evaluate metrics\n",
        "        metrics = evaluate_model(y_test, y_pred, y_probs)\n",
        "        fold_results.append(metrics)\n",
        "\n",
        "    # Aggregate results\n",
        "    results[model_name] = pd.DataFrame(fold_results).mean().to_dict()"
      ]
    },
    {
      "cell_type": "code",
      "execution_count": null,
      "metadata": {
        "colab": {
          "background_save": true
        },
        "id": "hHE5fadCQVeO"
      },
      "outputs": [],
      "source": [
        "results_df = pd.DataFrame(results).T\n",
        "results_df"
      ]
    },
    {
      "cell_type": "code",
      "execution_count": null,
      "metadata": {
        "colab": {
          "background_save": true
        },
        "id": "-xcLDK2ekpT3"
      },
      "outputs": [],
      "source": [
        "results_df.to_csv('results.csv', index=True)  # index=True includes the index in the CSV"
      ]
    },
    {
      "cell_type": "markdown",
      "metadata": {
        "id": "wBkZQsNXQfL9"
      },
      "source": [
        "## Dealing with imbalance"
      ]
    },
    {
      "cell_type": "markdown",
      "metadata": {
        "id": "CZuJe_7NQq6T"
      },
      "source": [
        "Only one strategy will be used - the one described in here\n",
        "\n",
        "https://developers.google.com/machine-learning/crash-course/overfitting/imbalanced-datasets"
      ]
    },
    {
      "cell_type": "markdown",
      "metadata": {
        "id": "_GxD-iZcQ5vm"
      },
      "source": [
        "* Step 1: Downsample the majority class.\n",
        "* Step 2: Upweight the downsampled class"
      ]
    },
    {
      "cell_type": "markdown",
      "metadata": {
        "id": "7mJnQMqVRx0C"
      },
      "source": [
        "<table>\n",
        "<thead>\n",
        "<tr>\n",
        "<th>Percentage of data belonging to minority class</th>\n",
        "<th>Degree of imbalance</th>\n",
        "</tr>\n",
        "</thead>\n",
        "\n",
        "<tbody>\n",
        "<tr>\n",
        "<td>20-40% of the dataset</td>\n",
        "<td>Mild</td>\n",
        "</tr>\n",
        "<tr>\n",
        "<td>1-20% of the dataset</td>\n",
        "<td>Moderate</td>\n",
        "</tr>\n",
        "<tr>\n",
        "<td>&lt;1% of the dataset</td>\n",
        "<td>Extreme</td>\n",
        "</tr>\n",
        "</tbody>\n",
        "</table>"
      ]
    },
    {
      "cell_type": "code",
      "execution_count": null,
      "metadata": {
        "colab": {
          "background_save": true
        },
        "id": "vRm6lsFOfZQO"
      },
      "outputs": [],
      "source": [
        "# Define class distribution for undersampling\n",
        "minority_ratio = 0.2  # Desired ratio of minority class\n",
        "majority_ratio = 1 - minority_ratio"
      ]
    },
    {
      "cell_type": "code",
      "execution_count": null,
      "metadata": {
        "colab": {
          "background_save": true
        },
        "id": "js-T6Spxfjjs"
      },
      "outputs": [],
      "source": [
        "# Define class weights based on original data distribution\n",
        "neg, pos = np.bincount(y)\n",
        "class_weight = {0: len(y) / (2 * neg), 1: len(y) / (2 * pos)}"
      ]
    },
    {
      "cell_type": "code",
      "execution_count": null,
      "metadata": {
        "colab": {
          "background_save": true
        },
        "id": "A-RDdb1ZfmuL"
      },
      "outputs": [],
      "source": [
        "log_reg_pipeline = ImbPipeline([\n",
        "    ('scaler', StandardScaler()),\n",
        "    ('undersample', RandomUnderSampler(sampling_strategy=minority_ratio, random_state=42)),\n",
        "    ('logreg', LogisticRegression(class_weight=class_weight))\n",
        "])"
      ]
    },
    {
      "cell_type": "code",
      "execution_count": null,
      "metadata": {
        "colab": {
          "background_save": true
        },
        "id": "8vO3BGLMfsdq"
      },
      "outputs": [],
      "source": [
        "# this one is without custom weights\n",
        "knn_pipeline = ImbPipeline([\n",
        "    ('scaler', StandardScaler()),\n",
        "    ('undersample', RandomUnderSampler(sampling_strategy=minority_ratio, random_state=42)),\n",
        "    ('knn', KNeighborsClassifier(weights='uniform'))\n",
        "])"
      ]
    },
    {
      "cell_type": "code",
      "execution_count": null,
      "metadata": {
        "colab": {
          "background_save": true
        },
        "id": "F2H6Y0X8qOnc"
      },
      "outputs": [],
      "source": [
        "hgb_pipeline = ImbPipeline([\n",
        "    ('scaler', StandardScaler()),\n",
        "    ('undersample', RandomUnderSampler(sampling_strategy=minority_ratio, random_state=42)),\n",
        "    ('hgb', HistGradientBoostingClassifier(max_iter=100, random_state=42))\n",
        "])"
      ]
    },
    {
      "cell_type": "code",
      "execution_count": null,
      "metadata": {
        "colab": {
          "background_save": true
        },
        "id": "2ejFxVAQuGj7"
      },
      "outputs": [],
      "source": [
        "# class_weight='balanced'  # or a dictionary of weights\n",
        "svm_pipeline = ImbPipeline([\n",
        "    ('scaler', StandardScaler()),\n",
        "    ('undersample', RandomUnderSampler(sampling_strategy=minority_ratio, random_state=42)),\n",
        "    ('svm', SVC(kernel='rbf', probability=True, random_state=42, class_weight=class_weight))\n",
        "])"
      ]
    },
    {
      "cell_type": "markdown",
      "metadata": {
        "id": "dE6WT4qtOYV7"
      },
      "source": [
        "* class_weight='balanced': This automatically adjusts weights to handle class imbalance."
      ]
    },
    {
      "cell_type": "code",
      "execution_count": null,
      "metadata": {
        "colab": {
          "background_save": true
        },
        "id": "wsaKdpXUuJZb"
      },
      "outputs": [],
      "source": [
        "mlp_pipeline = ImbPipeline([\n",
        "    ('scaler', StandardScaler()),\n",
        "    ('undersample', RandomUnderSampler(sampling_strategy=minority_ratio, random_state=42)),\n",
        "    ('mlp', MLPClassifier(hidden_layer_sizes=(128, 64), max_iter=100, random_state=42))\n",
        "]) # does not support the class_weight parameter"
      ]
    },
    {
      "cell_type": "code",
      "execution_count": null,
      "metadata": {
        "colab": {
          "background_save": true
        },
        "id": "PrM2oNB_fxtQ"
      },
      "outputs": [],
      "source": [
        "# kf = StratifiedKFold(n_splits=5, shuffle=True, random_state=42)"
      ]
    },
    {
      "cell_type": "code",
      "execution_count": null,
      "metadata": {
        "colab": {
          "background_save": true
        },
        "id": "vNv4t0v2f1NH"
      },
      "outputs": [],
      "source": [
        "models = {\n",
        "    \"Logistic Regression\": log_reg_pipeline,\n",
        "    \"KNN\": knn_pipeline,\n",
        "    \"Histogram-based Gradient Boosting\": hgb_pipeline,\n",
        "    \"SVM (RBF Kernel)\": svm_pipeline,\n",
        "    \"MLPClassifier\": mlp_pipeline\n",
        "}"
      ]
    },
    {
      "cell_type": "code",
      "execution_count": null,
      "metadata": {
        "colab": {
          "background_save": true
        },
        "id": "rLRsRiiyf4Ym"
      },
      "outputs": [],
      "source": [
        "results = {}\n",
        "\n",
        "for model_name, pipeline in models.items():\n",
        "    print(f\"\\nTraining model: {model_name}\")\n",
        "    fold_results = []\n",
        "    for train_idx, test_idx in kf.split(X, y):\n",
        "        print(f\"  Fold: {len(fold_results) + 1}\")\n",
        "        X_train, X_test = X.iloc[train_idx], X.iloc[test_idx]\n",
        "        y_train, y_test = y.iloc[train_idx], y.iloc[test_idx]\n",
        "\n",
        "        # Fit and predict\n",
        "        pipeline.fit(X_train, y_train)\n",
        "        y_pred = pipeline.predict(X_test)\n",
        "        y_probs = pipeline.predict_proba(X_test)[:, 1]\n",
        "\n",
        "        # Evaluate metrics\n",
        "        metrics = evaluate_model(y_test, y_pred, y_probs)\n",
        "        fold_results.append(metrics)\n",
        "\n",
        "    # Aggregate results\n",
        "    results[model_name] = pd.DataFrame(fold_results).mean().to_dict()"
      ]
    },
    {
      "cell_type": "code",
      "execution_count": null,
      "metadata": {
        "colab": {
          "background_save": true
        },
        "id": "ZUA6Rwrmlwl1"
      },
      "outputs": [],
      "source": [
        "results_df = pd.DataFrame(results).T\n",
        "results_df"
      ]
    },
    {
      "cell_type": "code",
      "execution_count": null,
      "metadata": {
        "colab": {
          "background_save": true
        },
        "id": "95KG4dJyjE4i"
      },
      "outputs": [],
      "source": [
        "# need to downsample first... TODO\n",
        "\"\"\"\n",
        "# Custom weight function for KNeighborsClassifier\n",
        "def custom_weights(distances):\n",
        "    return 1 / (distances + 1e-5)  # Inverse distance weighting\n",
        "\n",
        "# Function to perform cross-validation\n",
        "def cross_validate_knn(X, y, class_weight, n_neighbors=5):\n",
        "    kf = StratifiedKFold(n_splits=5, shuffle=True, random_state=42)\n",
        "    fold_results = []\n",
        "\n",
        "    for fold, (train_idx, test_idx) in enumerate(kf.split(X, y), 1):\n",
        "        print(f\"Fold {fold}:\")\n",
        "        X_train, X_test = X.iloc[train_idx], X.iloc[test_idx]\n",
        "        y_train, y_test = y.iloc[train_idx], y.iloc[test_idx]\n",
        "\n",
        "        # Create and fit KNeighborsClassifier with custom weights\n",
        "        knn = KNeighborsClassifier(n_neighbors=n_neighbors,\n",
        "                                   weights=custom_weights,  # Use custom weighting\n",
        "                                   metric='minkowski')\n",
        "        knn.fit(X_train, y_train)\n",
        "\n",
        "        # Predict and evaluate\n",
        "        y_pred = knn.predict(X_test)\n",
        "        y_probs = knn.predict_proba(X_test)[:, 1]\n",
        "\n",
        "        # Evaluate metrics\n",
        "        metrics = evaluate_model(y_test, y_pred, y_probs)\n",
        "        fold_results.append(metrics)\n",
        "\n",
        "    # Aggregate results\n",
        "    results = pd.DataFrame(fold_results).mean().to_dict()\n",
        "    return results\n",
        "\n",
        "# Example usage\n",
        "results = cross_validate_knn(X, y, class_weight, n_neighbors=5)\n",
        "print(\"Cross-Validation Results:\", results)\n",
        "\"\"\""
      ]
    },
    {
      "cell_type": "markdown",
      "metadata": {
        "id": "dmq8b0VLvm8H"
      },
      "source": [
        "### Precision and Recall Analysis:\n",
        "- **Precision**: A low precision indicates that the model is often predicting false positives. In the context of fraud detection (assuming you're working with financial data), the model might be predicting legitimate transactions as fraudulent (i.e., predicting a positive class when it's actually negative).\n",
        "  \n",
        "- **Recall**: A high recall suggests that the model is good at detecting the true positives (fraudulent transactions in this case), meaning it's identifying most of the fraudulent cases but with many false positives.\n",
        "\n",
        "In imbalanced datasets (like fraud detection, where fraudulent transactions are rare), models tend to favor the majority class (non-fraudulent), so you see this trade-off where **recall is high, but precision is low**. This is especially true when trying to capture as many fraudulent transactions as possible.\n",
        "\n",
        "### Why this happens:\n",
        "- **Imbalanced Classes**: The dataset is heavily imbalanced, with a very small percentage of fraudulent transactions. Many models will classify a lot of legitimate transactions (the majority class) as negative and predict fraudulent transactions (the minority class) less accurately.\n",
        "- **Class Imbalance Handling**: In imbalanced datasets, it is common for recall to be prioritized because detecting all fraudulent cases (even with many false positives) is often seen as more critical than minimizing false positives.\n",
        "\n",
        "### Which model performs best?\n",
        "Let's review the models' performance:\n",
        "\n",
        "#### Key Observations:\n",
        "1. **Logistic Regression**:  \n",
        "   - **Precision is very low**, which suggests it's making too many false positive predictions. It's good at **recall** (detecting the majority of fraudulent cases) but at the cost of precision.\n",
        "   \n",
        "2. **KNN**:\n",
        "   - **Precision and Recall** are more balanced than Logistic Regression. **Good F1** score and **Balanced Accuracy** indicate it's doing well overall, but may still be struggling with the class imbalance, just less so than Logistic Regression.\n",
        "\n",
        "3. **Histogram-based Gradient Boosting**:\n",
        "   - **High ROC-AUC and PR-AUC**: This model stands out as it offers excellent ability to distinguish between classes. The **high recall** and **good precision** indicate that it is doing a better job at handling the imbalance.\n",
        "\n",
        "4. **SVM (RBF Kernel)**:\n",
        "   - **Slightly better precision** compared to the previous models but still not great. The **high recall** shows that it's identifying a good amount of fraudulent transactions, and it has a solid **balanced accuracy**. This model seems to be quite competitive.\n",
        "\n",
        "5. **MLPClassifier**:\n",
        "   - **Better F1 score than SVM**: This model is showing good performance with **balanced precision and recall**, and **excellent G-Mean** and **Balanced Accuracy**, meaning it's good at handling the class imbalance.\n",
        "   - **Very high PR-AUC**: This model seems to be the best at capturing the minority class (fraudulent transactions).\n",
        "\n",
        "### The Best Model:\n",
        "From your results, **MLPClassifier** seems to be the best-performing model overall based on these metrics:\n",
        "- **Balanced Accuracy**: Shows the model is handling both classes well.\n",
        "- **F1 Score**: Indicates a better trade-off between precision and recall.\n",
        "- **PR-AUC and G-Mean**: Suggest it is excellent at capturing the minority class (fraudulent transactions).\n",
        "  \n",
        "It also performs **better than the SVM with RBF kernel** and **Gradient Boosting** in terms of overall F1 and G-Mean, making it a strong contender.\n",
        "\n",
        "### Recommendations:\n",
        "- **Tune the Model**: If you have the resources, you can try tuning the **MLPClassifier** (e.g., adjusting the number of layers, learning rate, etc.). Sometimes a simple adjustment can lead to even better performance.\n",
        "- **Class Weight Adjustments**: For SVM, KNN, and other models, adjusting class weights (like you did with `SVC(class_weight='balanced')`) can sometimes improve performance.\n",
        "- **Try Feature Engineering**: If the current set of features is not capturing the problem well, additional feature engineering might help, such as aggregating transaction data or extracting domain-specific features related to fraudulent transactions.\n",
        "\n",
        "### Conclusion:\n",
        "- **Best Model**: **MLPClassifier** appears to be the best performing based on your metrics.\n",
        "- **Trade-off between Precision and Recall**: In imbalanced datasets, it’s common for recall to be high but precision to be low. Focusing on the **PR-AUC** and **F1 score** will give you a more holistic view of the model’s performance.\n",
        "  \n",
        "Would you like to try further tuning the MLP or explore other adjustments?"
      ]
    },
    {
      "cell_type": "code",
      "execution_count": null,
      "metadata": {
        "colab": {
          "background_save": true
        },
        "id": "Y2qAbWkEf79l"
      },
      "outputs": [],
      "source": []
    }
  ],
  "metadata": {
    "colab": {
      "provenance": []
    },
    "kernelspec": {
      "display_name": "Python 3",
      "name": "python3"
    },
    "language_info": {
      "name": "python"
    }
  },
  "nbformat": 4,
  "nbformat_minor": 0
}