{
 "cells": [
  {
   "cell_type": "code",
   "execution_count": 0,
   "metadata": {
    "application/vnd.databricks.v1+cell": {
     "cellMetadata": {
      "byteLimit": 2048000,
      "rowLimit": 10000
     },
     "inputWidgets": {},
     "nuid": "ea6a2440-666a-400e-bc63-1d6c4a5834bc",
     "showTitle": false,
     "tableResultSettingsMap": {},
     "title": ""
    }
   },
   "outputs": [
    {
     "output_type": "stream",
     "name": "stderr",
     "output_type": "stream",
     "text": [
      "rm: cannot remove '/dbfs/mlflow_lab': No such file or directory\n--2025-01-23 11:57:49--  https://raw.githubusercontent.com/MicrosoftLearning/mslearn-databricks/main/data/penguins.csv\nResolving raw.githubusercontent.com (raw.githubusercontent.com)... 185.199.109.133, 185.199.110.133, 185.199.111.133, ...\nConnecting to raw.githubusercontent.com (raw.githubusercontent.com)|185.199.109.133|:443... connected.\nHTTP request sent, awaiting response... 200 OK\nLength: 9533 (9.3K) [text/plain]\nSaving to: ‘/dbfs/mlflow_lab/penguins.csv’\n\n     0K .........                                             100%  552K=0.02s\n\n2025-01-23 11:57:49 (552 KB/s) - ‘/dbfs/mlflow_lab/penguins.csv’ saved [9533/9533]\n\n"
     ]
    }
   ],
   "source": [
    "%sh\n",
    "rm -r /dbfs/mlflow_lab\n",
    "mkdir /dbfs/mlflow_lab\n",
    "wget -O /dbfs/mlflow_lab/penguins.csv https://raw.githubusercontent.com/MicrosoftLearning/mslearn-databricks/main/data/penguins.csv"
   ]
  },
  {
   "cell_type": "markdown",
   "metadata": {
    "application/vnd.databricks.v1+cell": {
     "cellMetadata": {},
     "inputWidgets": {},
     "nuid": "4e16f124-60c4-44d3-a1bf-86a28e428848",
     "showTitle": false,
     "tableResultSettingsMap": {},
     "title": ""
    }
   },
   "source": [
    "prepare the data"
   ]
  },
  {
   "cell_type": "code",
   "execution_count": 0,
   "metadata": {
    "application/vnd.databricks.v1+cell": {
     "cellMetadata": {
      "byteLimit": 2048000,
      "rowLimit": 10000
     },
     "inputWidgets": {},
     "nuid": "1c5f3b5d-6df1-4aac-a7a9-95c963336704",
     "showTitle": false,
     "tableResultSettingsMap": {},
     "title": ""
    }
   },
   "outputs": [
    {
     "output_type": "display_data",
     "data": {
      "text/html": [
       "<style scoped>\n",
       "  .table-result-container {\n",
       "    max-height: 300px;\n",
       "    overflow: auto;\n",
       "  }\n",
       "  table, th, td {\n",
       "    border: 1px solid black;\n",
       "    border-collapse: collapse;\n",
       "  }\n",
       "  th, td {\n",
       "    padding: 5px;\n",
       "  }\n",
       "  th {\n",
       "    text-align: left;\n",
       "  }\n",
       "</style><div class='table-result-container'><table class='table-result'><thead style='background-color: white'><tr><th>Island</th><th>CulmenLength</th><th>CulmenDepth</th><th>FlipperLength</th><th>BodyMass</th><th>Species</th></tr></thead><tbody><tr><td>Torgersen</td><td>39.1</td><td>18.7</td><td>181.0</td><td>3750.0</td><td>0</td></tr><tr><td>Torgersen</td><td>40.3</td><td>18.0</td><td>195.0</td><td>3250.0</td><td>0</td></tr><tr><td>Torgersen</td><td>42.0</td><td>20.2</td><td>190.0</td><td>4250.0</td><td>0</td></tr><tr><td>Torgersen</td><td>34.6</td><td>21.1</td><td>198.0</td><td>4400.0</td><td>0</td></tr><tr><td>Torgersen</td><td>38.7</td><td>19.0</td><td>195.0</td><td>3450.0</td><td>0</td></tr><tr><td>Dream</td><td>42.2</td><td>18.5</td><td>180.0</td><td>3550.0</td><td>0</td></tr><tr><td>Dream</td><td>37.0</td><td>16.9</td><td>185.0</td><td>3000.0</td><td>0</td></tr><tr><td>Dream</td><td>41.1</td><td>19.0</td><td>182.0</td><td>3425.0</td><td>0</td></tr><tr><td>Dream</td><td>37.5</td><td>18.9</td><td>179.0</td><td>2975.0</td><td>0</td></tr><tr><td>Dream</td><td>42.3</td><td>21.2</td><td>191.0</td><td>4150.0</td><td>0</td></tr><tr><td>Biscoe</td><td>35.0</td><td>17.9</td><td>190.0</td><td>3450.0</td><td>0</td></tr><tr><td>Biscoe</td><td>42.0</td><td>19.5</td><td>200.0</td><td>4050.0</td><td>0</td></tr><tr><td>Biscoe</td><td>39.0</td><td>17.5</td><td>186.0</td><td>3550.0</td><td>0</td></tr><tr><td>Biscoe</td><td>40.6</td><td>18.8</td><td>193.0</td><td>3800.0</td><td>0</td></tr><tr><td>Biscoe</td><td>36.5</td><td>16.6</td><td>181.0</td><td>2850.0</td><td>0</td></tr><tr><td>Biscoe</td><td>37.6</td><td>19.1</td><td>194.0</td><td>3750.0</td><td>0</td></tr><tr><td>Torgersen</td><td>35.9</td><td>16.6</td><td>190.0</td><td>3050.0</td><td>0</td></tr><tr><td>Torgersen</td><td>37.2</td><td>19.4</td><td>184.0</td><td>3900.0</td><td>0</td></tr><tr><td>Torgersen</td><td>36.2</td><td>16.1</td><td>187.0</td><td>3550.0</td><td>0</td></tr><tr><td>Biscoe</td><td>39.7</td><td>18.9</td><td>184.0</td><td>3550.0</td><td>0</td></tr><tr><td>Biscoe</td><td>38.2</td><td>20.0</td><td>190.0</td><td>3900.0</td><td>0</td></tr><tr><td>Biscoe</td><td>38.1</td><td>17.0</td><td>181.0</td><td>3175.0</td><td>0</td></tr><tr><td>Biscoe</td><td>43.2</td><td>19.0</td><td>197.0</td><td>4775.0</td><td>0</td></tr><tr><td>Torgersen</td><td>41.1</td><td>18.6</td><td>189.0</td><td>3325.0</td><td>0</td></tr><tr><td>Torgersen</td><td>36.2</td><td>17.2</td><td>187.0</td><td>3150.0</td><td>0</td></tr><tr><td>Torgersen</td><td>41.4</td><td>18.5</td><td>202.0</td><td>3875.0</td><td>0</td></tr><tr><td>Torgersen</td><td>44.1</td><td>18.0</td><td>210.0</td><td>4000.0</td><td>0</td></tr><tr><td>Dream</td><td>38.1</td><td>17.6</td><td>187.0</td><td>3425.0</td><td>0</td></tr><tr><td>Dream</td><td>40.2</td><td>17.1</td><td>193.0</td><td>3400.0</td><td>0</td></tr><tr><td>Dream</td><td>39.2</td><td>18.6</td><td>190.0</td><td>4250.0</td><td>0</td></tr><tr><td>Dream</td><td>36.0</td><td>17.8</td><td>195.0</td><td>3450.0</td><td>0</td></tr><tr><td>Dream</td><td>41.5</td><td>18.5</td><td>201.0</td><td>4000.0</td><td>0</td></tr><tr><td>Biscoe</td><td>46.8</td><td>15.4</td><td>215.0</td><td>5150.0</td><td>1</td></tr><tr><td>Biscoe</td><td>45.5</td><td>13.7</td><td>214.0</td><td>4650.0</td><td>1</td></tr><tr><td>Biscoe</td><td>48.4</td><td>14.6</td><td>213.0</td><td>5850.0</td><td>1</td></tr><tr><td>Biscoe</td><td>49.2</td><td>15.2</td><td>221.0</td><td>6300.0</td><td>1</td></tr><tr><td>Biscoe</td><td>48.7</td><td>15.1</td><td>222.0</td><td>5350.0</td><td>1</td></tr><tr><td>Biscoe</td><td>46.1</td><td>15.1</td><td>215.0</td><td>5100.0</td><td>1</td></tr><tr><td>Biscoe</td><td>44.5</td><td>14.3</td><td>216.0</td><td>4100.0</td><td>1</td></tr><tr><td>Biscoe</td><td>48.2</td><td>14.3</td><td>210.0</td><td>4600.0</td><td>1</td></tr><tr><td>Biscoe</td><td>44.0</td><td>13.6</td><td>208.0</td><td>4350.0</td><td>1</td></tr><tr><td>Biscoe</td><td>49.6</td><td>16.0</td><td>225.0</td><td>5700.0</td><td>1</td></tr><tr><td>Biscoe</td><td>50.5</td><td>15.9</td><td>222.0</td><td>5550.0</td><td>1</td></tr><tr><td>Biscoe</td><td>50.5</td><td>15.9</td><td>225.0</td><td>5400.0</td><td>1</td></tr><tr><td>Biscoe</td><td>45.1</td><td>14.4</td><td>210.0</td><td>4400.0</td><td>1</td></tr><tr><td>Biscoe</td><td>46.5</td><td>14.4</td><td>217.0</td><td>4900.0</td><td>1</td></tr><tr><td>Biscoe</td><td>45.0</td><td>15.4</td><td>220.0</td><td>5050.0</td><td>1</td></tr><tr><td>Biscoe</td><td>46.2</td><td>14.9</td><td>221.0</td><td>5300.0</td><td>1</td></tr><tr><td>Biscoe</td><td>48.2</td><td>15.6</td><td>221.0</td><td>5100.0</td><td>1</td></tr><tr><td>Biscoe</td><td>46.5</td><td>14.8</td><td>217.0</td><td>5200.0</td><td>1</td></tr><tr><td>Biscoe</td><td>48.6</td><td>16.0</td><td>230.0</td><td>5800.0</td><td>1</td></tr><tr><td>Biscoe</td><td>45.2</td><td>13.8</td><td>215.0</td><td>4750.0</td><td>1</td></tr><tr><td>Biscoe</td><td>43.4</td><td>14.4</td><td>218.0</td><td>4600.0</td><td>1</td></tr><tr><td>Biscoe</td><td>51.3</td><td>14.2</td><td>218.0</td><td>5300.0</td><td>1</td></tr><tr><td>Biscoe</td><td>52.2</td><td>17.1</td><td>228.0</td><td>5400.0</td><td>1</td></tr><tr><td>Biscoe</td><td>51.1</td><td>16.5</td><td>225.0</td><td>5250.0</td><td>1</td></tr><tr><td>Biscoe</td><td>48.5</td><td>15.0</td><td>219.0</td><td>4850.0</td><td>1</td></tr><tr><td>Biscoe</td><td>49.8</td><td>15.9</td><td>229.0</td><td>5950.0</td><td>1</td></tr><tr><td>Biscoe</td><td>51.5</td><td>16.3</td><td>230.0</td><td>5500.0</td><td>1</td></tr><tr><td>Biscoe</td><td>55.1</td><td>16.0</td><td>230.0</td><td>5850.0</td><td>1</td></tr><tr><td>Biscoe</td><td>46.8</td><td>14.3</td><td>215.0</td><td>4850.0</td><td>1</td></tr><tr><td>Biscoe</td><td>45.2</td><td>14.8</td><td>212.0</td><td>5200.0</td><td>1</td></tr><tr><td>Dream</td><td>45.4</td><td>18.7</td><td>188.0</td><td>3525.0</td><td>2</td></tr><tr><td>Dream</td><td>45.2</td><td>17.8</td><td>198.0</td><td>3950.0</td><td>2</td></tr><tr><td>Dream</td><td>46.6</td><td>17.8</td><td>193.0</td><td>3800.0</td><td>2</td></tr><tr><td>Dream</td><td>47.0</td><td>17.3</td><td>185.0</td><td>3700.0</td><td>2</td></tr><tr><td>Dream</td><td>51.0</td><td>18.8</td><td>203.0</td><td>4100.0</td><td>2</td></tr><tr><td>Dream</td><td>50.9</td><td>19.1</td><td>196.0</td><td>3550.0</td><td>2</td></tr><tr><td>Dream</td><td>45.7</td><td>17.3</td><td>193.0</td><td>3600.0</td><td>2</td></tr><tr><td>Dream</td><td>50.7</td><td>19.7</td><td>203.0</td><td>4050.0</td><td>2</td></tr><tr><td>Dream</td><td>45.2</td><td>16.6</td><td>191.0</td><td>3250.0</td><td>2</td></tr><tr><td>Dream</td><td>49.3</td><td>19.9</td><td>203.0</td><td>4050.0</td><td>2</td></tr><tr><td>Dream</td><td>45.6</td><td>19.4</td><td>194.0</td><td>3525.0</td><td>2</td></tr><tr><td>Dream</td><td>50.8</td><td>19.0</td><td>210.0</td><td>4100.0</td><td>2</td></tr></tbody></table></div>"
      ]
     },
     "metadata": {
      "application/vnd.databricks.v1+output": {
       "addedWidgets": {},
       "aggData": [],
       "aggError": "",
       "aggOverflow": false,
       "aggSchema": [],
       "aggSeriesLimitReached": false,
       "aggType": "",
       "arguments": {},
       "columnCustomDisplayInfos": {},
       "data": [
        [
         "Torgersen",
         39.1,
         18.7,
         181.0,
         3750.0,
         0
        ],
        [
         "Torgersen",
         40.3,
         18.0,
         195.0,
         3250.0,
         0
        ],
        [
         "Torgersen",
         42.0,
         20.2,
         190.0,
         4250.0,
         0
        ],
        [
         "Torgersen",
         34.6,
         21.1,
         198.0,
         4400.0,
         0
        ],
        [
         "Torgersen",
         38.7,
         19.0,
         195.0,
         3450.0,
         0
        ],
        [
         "Dream",
         42.2,
         18.5,
         180.0,
         3550.0,
         0
        ],
        [
         "Dream",
         37.0,
         16.9,
         185.0,
         3000.0,
         0
        ],
        [
         "Dream",
         41.1,
         19.0,
         182.0,
         3425.0,
         0
        ],
        [
         "Dream",
         37.5,
         18.9,
         179.0,
         2975.0,
         0
        ],
        [
         "Dream",
         42.3,
         21.2,
         191.0,
         4150.0,
         0
        ],
        [
         "Biscoe",
         35.0,
         17.9,
         190.0,
         3450.0,
         0
        ],
        [
         "Biscoe",
         42.0,
         19.5,
         200.0,
         4050.0,
         0
        ],
        [
         "Biscoe",
         39.0,
         17.5,
         186.0,
         3550.0,
         0
        ],
        [
         "Biscoe",
         40.6,
         18.8,
         193.0,
         3800.0,
         0
        ],
        [
         "Biscoe",
         36.5,
         16.6,
         181.0,
         2850.0,
         0
        ],
        [
         "Biscoe",
         37.6,
         19.1,
         194.0,
         3750.0,
         0
        ],
        [
         "Torgersen",
         35.9,
         16.6,
         190.0,
         3050.0,
         0
        ],
        [
         "Torgersen",
         37.2,
         19.4,
         184.0,
         3900.0,
         0
        ],
        [
         "Torgersen",
         36.2,
         16.1,
         187.0,
         3550.0,
         0
        ],
        [
         "Biscoe",
         39.7,
         18.9,
         184.0,
         3550.0,
         0
        ],
        [
         "Biscoe",
         38.2,
         20.0,
         190.0,
         3900.0,
         0
        ],
        [
         "Biscoe",
         38.1,
         17.0,
         181.0,
         3175.0,
         0
        ],
        [
         "Biscoe",
         43.2,
         19.0,
         197.0,
         4775.0,
         0
        ],
        [
         "Torgersen",
         41.1,
         18.6,
         189.0,
         3325.0,
         0
        ],
        [
         "Torgersen",
         36.2,
         17.2,
         187.0,
         3150.0,
         0
        ],
        [
         "Torgersen",
         41.4,
         18.5,
         202.0,
         3875.0,
         0
        ],
        [
         "Torgersen",
         44.1,
         18.0,
         210.0,
         4000.0,
         0
        ],
        [
         "Dream",
         38.1,
         17.6,
         187.0,
         3425.0,
         0
        ],
        [
         "Dream",
         40.2,
         17.1,
         193.0,
         3400.0,
         0
        ],
        [
         "Dream",
         39.2,
         18.6,
         190.0,
         4250.0,
         0
        ],
        [
         "Dream",
         36.0,
         17.8,
         195.0,
         3450.0,
         0
        ],
        [
         "Dream",
         41.5,
         18.5,
         201.0,
         4000.0,
         0
        ],
        [
         "Biscoe",
         46.8,
         15.4,
         215.0,
         5150.0,
         1
        ],
        [
         "Biscoe",
         45.5,
         13.7,
         214.0,
         4650.0,
         1
        ],
        [
         "Biscoe",
         48.4,
         14.6,
         213.0,
         5850.0,
         1
        ],
        [
         "Biscoe",
         49.2,
         15.2,
         221.0,
         6300.0,
         1
        ],
        [
         "Biscoe",
         48.7,
         15.1,
         222.0,
         5350.0,
         1
        ],
        [
         "Biscoe",
         46.1,
         15.1,
         215.0,
         5100.0,
         1
        ],
        [
         "Biscoe",
         44.5,
         14.3,
         216.0,
         4100.0,
         1
        ],
        [
         "Biscoe",
         48.2,
         14.3,
         210.0,
         4600.0,
         1
        ],
        [
         "Biscoe",
         44.0,
         13.6,
         208.0,
         4350.0,
         1
        ],
        [
         "Biscoe",
         49.6,
         16.0,
         225.0,
         5700.0,
         1
        ],
        [
         "Biscoe",
         50.5,
         15.9,
         222.0,
         5550.0,
         1
        ],
        [
         "Biscoe",
         50.5,
         15.9,
         225.0,
         5400.0,
         1
        ],
        [
         "Biscoe",
         45.1,
         14.4,
         210.0,
         4400.0,
         1
        ],
        [
         "Biscoe",
         46.5,
         14.4,
         217.0,
         4900.0,
         1
        ],
        [
         "Biscoe",
         45.0,
         15.4,
         220.0,
         5050.0,
         1
        ],
        [
         "Biscoe",
         46.2,
         14.9,
         221.0,
         5300.0,
         1
        ],
        [
         "Biscoe",
         48.2,
         15.6,
         221.0,
         5100.0,
         1
        ],
        [
         "Biscoe",
         46.5,
         14.8,
         217.0,
         5200.0,
         1
        ],
        [
         "Biscoe",
         48.6,
         16.0,
         230.0,
         5800.0,
         1
        ],
        [
         "Biscoe",
         45.2,
         13.8,
         215.0,
         4750.0,
         1
        ],
        [
         "Biscoe",
         43.4,
         14.4,
         218.0,
         4600.0,
         1
        ],
        [
         "Biscoe",
         51.3,
         14.2,
         218.0,
         5300.0,
         1
        ],
        [
         "Biscoe",
         52.2,
         17.1,
         228.0,
         5400.0,
         1
        ],
        [
         "Biscoe",
         51.1,
         16.5,
         225.0,
         5250.0,
         1
        ],
        [
         "Biscoe",
         48.5,
         15.0,
         219.0,
         4850.0,
         1
        ],
        [
         "Biscoe",
         49.8,
         15.9,
         229.0,
         5950.0,
         1
        ],
        [
         "Biscoe",
         51.5,
         16.3,
         230.0,
         5500.0,
         1
        ],
        [
         "Biscoe",
         55.1,
         16.0,
         230.0,
         5850.0,
         1
        ],
        [
         "Biscoe",
         46.8,
         14.3,
         215.0,
         4850.0,
         1
        ],
        [
         "Biscoe",
         45.2,
         14.8,
         212.0,
         5200.0,
         1
        ],
        [
         "Dream",
         45.4,
         18.7,
         188.0,
         3525.0,
         2
        ],
        [
         "Dream",
         45.2,
         17.8,
         198.0,
         3950.0,
         2
        ],
        [
         "Dream",
         46.6,
         17.8,
         193.0,
         3800.0,
         2
        ],
        [
         "Dream",
         47.0,
         17.3,
         185.0,
         3700.0,
         2
        ],
        [
         "Dream",
         51.0,
         18.8,
         203.0,
         4100.0,
         2
        ],
        [
         "Dream",
         50.9,
         19.1,
         196.0,
         3550.0,
         2
        ],
        [
         "Dream",
         45.7,
         17.3,
         193.0,
         3600.0,
         2
        ],
        [
         "Dream",
         50.7,
         19.7,
         203.0,
         4050.0,
         2
        ],
        [
         "Dream",
         45.2,
         16.6,
         191.0,
         3250.0,
         2
        ],
        [
         "Dream",
         49.3,
         19.9,
         203.0,
         4050.0,
         2
        ],
        [
         "Dream",
         45.6,
         19.4,
         194.0,
         3525.0,
         2
        ],
        [
         "Dream",
         50.8,
         19.0,
         210.0,
         4100.0,
         2
        ]
       ],
       "datasetInfos": [],
       "dbfsResultPath": null,
       "isJsonSchema": true,
       "metadata": {},
       "overflow": false,
       "plotOptions": {
        "customPlotOptions": {},
        "displayType": "table",
        "pivotAggregation": null,
        "pivotColumns": null,
        "xColumns": null,
        "yColumns": null
       },
       "removedWidgets": [],
       "schema": [
        {
         "metadata": "{}",
         "name": "Island",
         "type": "\"string\""
        },
        {
         "metadata": "{}",
         "name": "CulmenLength",
         "type": "\"float\""
        },
        {
         "metadata": "{}",
         "name": "CulmenDepth",
         "type": "\"float\""
        },
        {
         "metadata": "{}",
         "name": "FlipperLength",
         "type": "\"float\""
        },
        {
         "metadata": "{}",
         "name": "BodyMass",
         "type": "\"float\""
        },
        {
         "metadata": "{}",
         "name": "Species",
         "type": "\"integer\""
        }
       ],
       "type": "table"
      }
     },
     "output_type": "display_data"
    },
    {
     "output_type": "stream",
     "name": "stdout",
     "output_type": "stream",
     "text": [
      "Training Rows: 245  Testing Rows: 97\n"
     ]
    }
   ],
   "source": [
    "from pyspark.sql.types import *\n",
    "from pyspark.sql.functions import *\n",
    "   \n",
    "data = spark.read.format(\"csv\").option(\"header\", \"true\").load(\"/mlflow_lab/penguins.csv\")\n",
    "data = data.dropna().select(col(\"Island\").astype(\"string\"),\n",
    "                            col(\"CulmenLength\").astype(\"float\"),\n",
    "                            col(\"CulmenDepth\").astype(\"float\"),\n",
    "                            col(\"FlipperLength\").astype(\"float\"),\n",
    "                            col(\"BodyMass\").astype(\"float\"),\n",
    "                            col(\"Species\").astype(\"int\")\n",
    "                          )\n",
    "display(data.sample(0.2))\n",
    "   \n",
    "splits = data.randomSplit([0.7, 0.3])\n",
    "train = splits[0]\n",
    "test = splits[1]\n",
    "print (\"Training Rows:\", train.count(), \" Testing Rows:\", test.count())"
   ]
  },
  {
   "cell_type": "markdown",
   "metadata": {
    "application/vnd.databricks.v1+cell": {
     "cellMetadata": {},
     "inputWidgets": {},
     "nuid": "a9bc2995-a9a1-4a40-8075-36f0c2f5bc17",
     "showTitle": false,
     "tableResultSettingsMap": {},
     "title": ""
    }
   },
   "source": [
    "### Run an MLflow experiment\n",
    "\n",
    "You can use the same libraries and techniques you normally use to train and evaluate a model (in this case, we’ll use the Spark MLLib library), but do so within the context of an MLflow experiment that includes additional commands to log important metrics and information during the process.\n"
   ]
  },
  {
   "cell_type": "code",
   "execution_count": 0,
   "metadata": {
    "application/vnd.databricks.v1+cell": {
     "cellMetadata": {
      "byteLimit": 2048000,
      "rowLimit": 10000
     },
     "inputWidgets": {},
     "nuid": "d5d09e88-b8d3-44df-b194-9452415108a5",
     "showTitle": false,
     "tableResultSettingsMap": {},
     "title": ""
    }
   },
   "outputs": [
    {
     "output_type": "stream",
     "name": "stderr",
     "output_type": "stream",
     "text": [
      "/databricks/python/lib/python3.12/site-packages/databricks/sdk/service/jobs.py:60: SyntaxWarning: invalid escape sequence '\\.'\n  \"\"\"The sequence number of this run attempt for a triggered job run. The initial attempt of a run\n/databricks/python/lib/python3.12/site-packages/databricks/sdk/service/jobs.py:2570: SyntaxWarning: invalid escape sequence '\\.'\n  \"\"\"The sequence number of this run attempt for a triggered job run. The initial attempt of a run\n/databricks/python/lib/python3.12/site-packages/databricks/sdk/service/jobs.py:3431: SyntaxWarning: invalid escape sequence '\\.'\n  \"\"\"The sequence number of this run attempt for a triggered job run. The initial attempt of a run\n"
     ]
    },
    {
     "output_type": "stream",
     "name": "stdout",
     "output_type": "stream",
     "text": [
      "Training Logistic Regression model...\naccuracy: 0.8350515463917526\nweightedRecall: 0.8350515463917525\nweightedPrecision: 0.8813528667028395\n"
     ]
    },
    {
     "output_type": "display_data",
     "data": {
      "application/vnd.jupyter.widget-view+json": {
       "model_id": "05421216c25841cfb5433415585e3f55",
       "version_major": 2,
       "version_minor": 0
      },
      "text/plain": [
       "Uploading artifacts:   0%|          | 0/4 [00:00<?, ?it/s]"
      ]
     },
     "metadata": {},
     "output_type": "display_data"
    },
    {
     "output_type": "stream",
     "name": "stderr",
     "output_type": "stream",
     "text": [
      "2025/01/23 11:59:20 INFO mlflow.tracking._tracking_service.client: 🏃 View run whimsical-grouse-485 at: adb-3941174412663662.2.azuredatabricks.net/ml/experiments/887869904992919/runs/541d7443d1d440109b9b40b7729a4fb3.\n2025/01/23 11:59:20 INFO mlflow.tracking._tracking_service.client: 🧪 View experiment at: adb-3941174412663662.2.azuredatabricks.net/ml/experiments/887869904992919.\n"
     ]
    },
    {
     "output_type": "stream",
     "name": "stdout",
     "output_type": "stream",
     "text": [
      "Experiment run complete.\n"
     ]
    }
   ],
   "source": [
    "import mlflow\n",
    "import mlflow.spark\n",
    "from pyspark.ml import Pipeline\n",
    "from pyspark.ml.feature import StringIndexer, VectorAssembler, MinMaxScaler\n",
    "from pyspark.ml.classification import LogisticRegression\n",
    "from pyspark.ml.evaluation import MulticlassClassificationEvaluator\n",
    "import time\n",
    "   \n",
    "# Start an MLflow run\n",
    "with mlflow.start_run():\n",
    "    catFeature = \"Island\"\n",
    "    numFeatures = [\"CulmenLength\", \"CulmenDepth\", \"FlipperLength\", \"BodyMass\"]\n",
    "     \n",
    "    # parameters\n",
    "    maxIterations = 5\n",
    "    regularization = 0.5\n",
    "   \n",
    "    # Define the feature engineering and model steps\n",
    "    catIndexer = StringIndexer(inputCol=catFeature, outputCol=catFeature + \"Idx\")\n",
    "    numVector = VectorAssembler(inputCols=numFeatures, outputCol=\"numericFeatures\")\n",
    "    numScaler = MinMaxScaler(inputCol = numVector.getOutputCol(), outputCol=\"normalizedFeatures\")\n",
    "    featureVector = VectorAssembler(inputCols=[\"IslandIdx\", \"normalizedFeatures\"], outputCol=\"Features\")\n",
    "    algo = LogisticRegression(labelCol=\"Species\", featuresCol=\"Features\", maxIter=maxIterations, regParam=regularization)\n",
    "   \n",
    "    # Chain the steps as stages in a pipeline\n",
    "    pipeline = Pipeline(stages=[catIndexer, numVector, numScaler, featureVector, algo])\n",
    "   \n",
    "    # Log training parameter values\n",
    "    print (\"Training Logistic Regression model...\")\n",
    "    mlflow.log_param('maxIter', algo.getMaxIter())\n",
    "    mlflow.log_param('regParam', algo.getRegParam())\n",
    "    model = pipeline.fit(train)\n",
    "      \n",
    "    # Evaluate the model and log metrics\n",
    "    prediction = model.transform(test)\n",
    "    metrics = [\"accuracy\", \"weightedRecall\", \"weightedPrecision\"]\n",
    "    for metric in metrics:\n",
    "        evaluator = MulticlassClassificationEvaluator(labelCol=\"Species\", predictionCol=\"prediction\", metricName=metric)\n",
    "        metricValue = evaluator.evaluate(prediction)\n",
    "        print(\"%s: %s\" % (metric, metricValue))\n",
    "        mlflow.log_metric(metric, metricValue)\n",
    "   \n",
    "           \n",
    "    # Log the model itself\n",
    "    unique_model_name = \"classifier-\" + str(time.time())\n",
    "    mlflow.spark.log_model(model, unique_model_name, mlflow.spark.get_default_conda_env())\n",
    "    modelpath = \"/model/%s\" % (unique_model_name)\n",
    "    mlflow.spark.save_model(model, modelpath)\n",
    "       \n",
    "    print(\"Experiment run complete.\")"
   ]
  },
  {
   "cell_type": "markdown",
   "metadata": {
    "application/vnd.databricks.v1+cell": {
     "cellMetadata": {},
     "inputWidgets": {},
     "nuid": "04559194-25fb-499f-a32b-6f5b8035bc05",
     "showTitle": false,
     "tableResultSettingsMap": {},
     "title": ""
    }
   },
   "source": [
    "* Create a function\n",
    "\n",
    "In machine learning projects, data scientists often try training models with different parameters, logging the results each time. To accomplish that, it’s common to create a function that encapsulates the training process and call it with the parameters you want to try.\n",
    "\n",
    "Create a function based on the training code you used previously"
   ]
  },
  {
   "cell_type": "code",
   "execution_count": 0,
   "metadata": {
    "application/vnd.databricks.v1+cell": {
     "cellMetadata": {
      "byteLimit": 2048000,
      "rowLimit": 10000
     },
     "inputWidgets": {},
     "nuid": "80e35a54-53dd-4d5c-a181-6a73c4fe300d",
     "showTitle": false,
     "tableResultSettingsMap": {},
     "title": ""
    }
   },
   "outputs": [],
   "source": [
    "def train_penguin_model(training_data, test_data, maxIterations, regularization):\n",
    "    import mlflow\n",
    "    import mlflow.spark\n",
    "    from pyspark.ml import Pipeline\n",
    "    from pyspark.ml.feature import StringIndexer, VectorAssembler, MinMaxScaler\n",
    "    from pyspark.ml.classification import LogisticRegression\n",
    "    from pyspark.ml.evaluation import MulticlassClassificationEvaluator\n",
    "    import time\n",
    "   \n",
    "    # Start an MLflow run\n",
    "    with mlflow.start_run():\n",
    "   \n",
    "        catFeature = \"Island\"\n",
    "        numFeatures = [\"CulmenLength\", \"CulmenDepth\", \"FlipperLength\", \"BodyMass\"]\n",
    "   \n",
    "        # Define the feature engineering and model steps\n",
    "        catIndexer = StringIndexer(inputCol=catFeature, outputCol=catFeature + \"Idx\")\n",
    "        numVector = VectorAssembler(inputCols=numFeatures, outputCol=\"numericFeatures\")\n",
    "        numScaler = MinMaxScaler(inputCol = numVector.getOutputCol(), outputCol=\"normalizedFeatures\")\n",
    "        featureVector = VectorAssembler(inputCols=[\"IslandIdx\", \"normalizedFeatures\"], outputCol=\"Features\")\n",
    "        algo = LogisticRegression(labelCol=\"Species\", featuresCol=\"Features\", maxIter=maxIterations, regParam=regularization)\n",
    "   \n",
    "        # Chain the steps as stages in a pipeline\n",
    "        pipeline = Pipeline(stages=[catIndexer, numVector, numScaler, featureVector, algo])\n",
    "   \n",
    "        # Log training parameter values\n",
    "        print (\"Training Logistic Regression model...\")\n",
    "        mlflow.log_param('maxIter', algo.getMaxIter())\n",
    "        mlflow.log_param('regParam', algo.getRegParam())\n",
    "        model = pipeline.fit(training_data)\n",
    "   \n",
    "        # Evaluate the model and log metrics\n",
    "        prediction = model.transform(test_data)\n",
    "        metrics = [\"accuracy\", \"weightedRecall\", \"weightedPrecision\"]\n",
    "        for metric in metrics:\n",
    "            evaluator = MulticlassClassificationEvaluator(labelCol=\"Species\", predictionCol=\"prediction\", metricName=metric)\n",
    "            metricValue = evaluator.evaluate(prediction)\n",
    "            print(\"%s: %s\" % (metric, metricValue))\n",
    "            mlflow.log_metric(metric, metricValue)\n",
    "   \n",
    "   \n",
    "        # Log the model itself\n",
    "        unique_model_name = \"classifier-\" + str(time.time())\n",
    "        mlflow.spark.log_model(model, unique_model_name, mlflow.spark.get_default_conda_env())\n",
    "        modelpath = \"/model/%s\" % (unique_model_name)\n",
    "        mlflow.spark.save_model(model, modelpath)\n",
    "   \n",
    "        print(\"Experiment run complete.\")"
   ]
  },
  {
   "cell_type": "markdown",
   "metadata": {
    "application/vnd.databricks.v1+cell": {
     "cellMetadata": {},
     "inputWidgets": {},
     "nuid": "90ac14c4-b775-4148-a711-ab6fa4cd2b5a",
     "showTitle": false,
     "tableResultSettingsMap": {},
     "title": ""
    }
   },
   "source": [
    "call it"
   ]
  },
  {
   "cell_type": "code",
   "execution_count": 0,
   "metadata": {
    "application/vnd.databricks.v1+cell": {
     "cellMetadata": {
      "byteLimit": 2048000,
      "rowLimit": 10000
     },
     "inputWidgets": {},
     "nuid": "6c2feb03-826e-4c8d-939a-ae8ac55d156b",
     "showTitle": false,
     "tableResultSettingsMap": {},
     "title": ""
    }
   },
   "outputs": [
    {
     "output_type": "stream",
     "name": "stdout",
     "output_type": "stream",
     "text": [
      "Training Logistic Regression model...\naccuracy: 0.8865979381443299\nweightedRecall: 0.8865979381443299\nweightedPrecision: 0.9105868358445677\n"
     ]
    },
    {
     "output_type": "display_data",
     "data": {
      "application/vnd.jupyter.widget-view+json": {
       "model_id": "99ff4a8ca02443199f84bebadde75c91",
       "version_major": 2,
       "version_minor": 0
      },
      "text/plain": [
       "Uploading artifacts:   0%|          | 0/4 [00:00<?, ?it/s]"
      ]
     },
     "metadata": {},
     "output_type": "display_data"
    },
    {
     "output_type": "stream",
     "name": "stderr",
     "output_type": "stream",
     "text": [
      "2025/01/23 12:08:50 INFO mlflow.tracking._tracking_service.client: 🏃 View run lyrical-dove-351 at: adb-3941174412663662.2.azuredatabricks.net/ml/experiments/887869904992919/runs/0ebc86ef3a6f458183263c2e332b9964.\n2025/01/23 12:08:50 INFO mlflow.tracking._tracking_service.client: 🧪 View experiment at: adb-3941174412663662.2.azuredatabricks.net/ml/experiments/887869904992919.\n"
     ]
    },
    {
     "output_type": "stream",
     "name": "stdout",
     "output_type": "stream",
     "text": [
      "Experiment run complete.\n"
     ]
    }
   ],
   "source": [
    "train_penguin_model(train, test, 10, 0.2)"
   ]
  },
  {
   "cell_type": "code",
   "execution_count": 0,
   "metadata": {
    "application/vnd.databricks.v1+cell": {
     "cellMetadata": {},
     "inputWidgets": {},
     "nuid": "5c8488fb-de58-4d3b-9024-7730316c9cff",
     "showTitle": false,
     "tableResultSettingsMap": {},
     "title": ""
    }
   },
   "outputs": [],
   "source": []
  }
 ],
 "metadata": {
  "application/vnd.databricks.v1+notebook": {
   "computePreferences": null,
   "dashboards": [],
   "environmentMetadata": {
    "base_environment": "",
    "client": "1"
   },
   "language": "python",
   "notebookMetadata": {
    "mostRecentlyExecutedCommandWithImplicitDF": {
     "commandId": 8555177593267111,
     "dataframes": [
      "_sqldf"
     ]
    },
    "pythonIndentUnit": 4
   },
   "notebookName": "MLflow",
   "widgets": {}
  },
  "language_info": {
   "name": "python"
  }
 },
 "nbformat": 4,
 "nbformat_minor": 0
}