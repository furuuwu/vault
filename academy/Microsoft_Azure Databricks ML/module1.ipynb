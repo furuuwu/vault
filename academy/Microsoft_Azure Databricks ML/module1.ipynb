{
 "cells": [
  {
   "cell_type": "markdown",
   "metadata": {
    "application/vnd.databricks.v1+cell": {
     "cellMetadata": {},
     "inputWidgets": {},
     "nuid": "a64dc306-7327-4b15-94bd-85a31aaa47a4",
     "showTitle": false,
     "tableResultSettingsMap": {},
     "title": ""
    }
   },
   "source": [
    "### Create a cluster\n",
    "\n",
    "* Cluster name: User Name’s cluster (the default cluster name)\n",
    "* Policy: Unrestricted\n",
    "* Cluster mode: Single Node\n",
    "* Access mode: Single user (with your user account selected)\n",
    "* Databricks runtime version: Select the ML edition of the latest non-beta version of the runtime (Not a Standard runtime version) that:\n",
    "  * Does not use a GPU\n",
    "  * Includes Scala > 2.11\n",
    "  * Includes Spark > 3.4\n",
    "* Use Photon Acceleration: Unselected\n",
    "* Node type: Standard_D4ds_v5\n",
    "* Terminate after 20 minutes of inactivity"
   ]
  },
  {
   "cell_type": "markdown",
   "metadata": {
    "application/vnd.databricks.v1+cell": {
     "cellMetadata": {},
     "inputWidgets": {},
     "nuid": "8644bdb4-40d3-41be-b737-5719f77cc8ff",
     "showTitle": false,
     "tableResultSettingsMap": {},
     "title": ""
    }
   },
   "source": [
    "### Ingest the data\n",
    "\n",
    "[`penguins.csv`](https://raw.githubusercontent.com/MicrosoftLearning/mslearn-databricks/main/data/penguins.csv)"
   ]
  },
  {
   "cell_type": "code",
   "execution_count": 0,
   "metadata": {
    "application/vnd.databricks.v1+cell": {
     "cellMetadata": {
      "byteLimit": 2048000,
      "rowLimit": 10000
     },
     "inputWidgets": {},
     "nuid": "47e4feba-e965-4696-a8b3-0955cda04e83",
     "showTitle": false,
     "tableResultSettingsMap": {},
     "title": ""
    }
   },
   "outputs": [
    {
     "name": "stderr",
     "output_type": "stream",
     "text": [
      "rm: cannot remove '/dbfs/ml_lab': No such file or directory\n",
      "--2025-01-23 10:35:00--  https://raw.githubusercontent.com/MicrosoftLearning/mslearn-databricks/main/data/penguins.csv\n",
      "Resolving raw.githubusercontent.com (raw.githubusercontent.com)... 185.199.110.133, 185.199.111.133, 185.199.108.133, ...\n",
      "Connecting to raw.githubusercontent.com (raw.githubusercontent.com)|185.199.110.133|:443... connected.\n",
      "HTTP request sent, awaiting response... 200 OK\n",
      "Length: 9533 (9.3K) [text/plain]\n",
      "Saving to: ‘/dbfs/ml_lab/penguins.csv’\n",
      "\n",
      "     0K .........                                             100%  582K=0.02s\n",
      "\n",
      "2025-01-23 10:35:00 (582 KB/s) - ‘/dbfs/ml_lab/penguins.csv’ saved [9533/9533]\n",
      "\n"
     ]
    }
   ],
   "source": [
    "%sh\n",
    "rm -r /dbfs/ml_lab\n",
    "mkdir /dbfs/ml_lab\n",
    "wget -O /dbfs/ml_lab/penguins.csv https://raw.githubusercontent.com/MicrosoftLearning/mslearn-databricks/main/data/penguins.csv"
   ]
  },
  {
   "cell_type": "markdown",
   "metadata": {
    "application/vnd.databricks.v1+cell": {
     "cellMetadata": {},
     "inputWidgets": {},
     "nuid": "bee0f6df-bc71-4eca-9e8f-c5a23d28b398",
     "showTitle": false,
     "tableResultSettingsMap": {},
     "title": ""
    }
   },
   "source": [
    "### Explore and clean up the data\n",
    "\n",
    "* Load into a dataframe"
   ]
  },
  {
   "cell_type": "code",
   "execution_count": 0,
   "metadata": {
    "application/vnd.databricks.v1+cell": {
     "cellMetadata": {
      "byteLimit": 2048000,
      "rowLimit": 10000
     },
     "inputWidgets": {},
     "nuid": "e3ab27d6-2eb5-40e6-aded-54907404179c",
     "showTitle": false,
     "tableResultSettingsMap": {},
     "title": ""
    }
   },
   "outputs": [
    {
     "data": {
      "text/html": [
       "<style scoped>\n",
       "  .table-result-container {\n",
       "    max-height: 300px;\n",
       "    overflow: auto;\n",
       "  }\n",
       "  table, th, td {\n",
       "    border: 1px solid black;\n",
       "    border-collapse: collapse;\n",
       "  }\n",
       "  th, td {\n",
       "    padding: 5px;\n",
       "  }\n",
       "  th {\n",
       "    text-align: left;\n",
       "  }\n",
       "</style><div class='table-result-container'><table class='table-result'><thead style='background-color: white'><tr><th>Island</th><th>CulmenLength</th><th>CulmenDepth</th><th>FlipperLength</th><th>BodyMass</th><th>Species</th></tr></thead><tbody><tr><td>Torgersen</td><td>39.1</td><td>18.7</td><td>181</td><td>3750</td><td>0</td></tr><tr><td>Torgersen</td><td>39.5</td><td>17.4</td><td>186</td><td>3800</td><td>0</td></tr><tr><td>Torgersen</td><td>40.3</td><td>18</td><td>195</td><td>3250</td><td>0</td></tr><tr><td>Torgersen</td><td>null</td><td>null</td><td>null</td><td>null</td><td>0</td></tr><tr><td>Torgersen</td><td>36.7</td><td>19.3</td><td>193</td><td>3450</td><td>0</td></tr><tr><td>Torgersen</td><td>39.3</td><td>20.6</td><td>190</td><td>3650</td><td>0</td></tr><tr><td>Torgersen</td><td>38.9</td><td>17.8</td><td>181</td><td>3625</td><td>0</td></tr><tr><td>Torgersen</td><td>39.2</td><td>19.6</td><td>195</td><td>4675</td><td>0</td></tr><tr><td>Torgersen</td><td>34.1</td><td>18.1</td><td>193</td><td>3475</td><td>0</td></tr><tr><td>Torgersen</td><td>42</td><td>20.2</td><td>190</td><td>4250</td><td>0</td></tr><tr><td>Torgersen</td><td>37.8</td><td>17.1</td><td>186</td><td>3300</td><td>0</td></tr><tr><td>Torgersen</td><td>37.8</td><td>17.3</td><td>180</td><td>3700</td><td>0</td></tr><tr><td>Torgersen</td><td>41.1</td><td>17.6</td><td>182</td><td>3200</td><td>0</td></tr><tr><td>Torgersen</td><td>38.6</td><td>21.2</td><td>191</td><td>3800</td><td>0</td></tr><tr><td>Torgersen</td><td>34.6</td><td>21.1</td><td>198</td><td>4400</td><td>0</td></tr><tr><td>Torgersen</td><td>36.6</td><td>17.8</td><td>185</td><td>3700</td><td>0</td></tr><tr><td>Torgersen</td><td>38.7</td><td>19</td><td>195</td><td>3450</td><td>0</td></tr><tr><td>Torgersen</td><td>42.5</td><td>20.7</td><td>197</td><td>4500</td><td>0</td></tr><tr><td>Torgersen</td><td>34.4</td><td>18.4</td><td>184</td><td>3325</td><td>0</td></tr><tr><td>Torgersen</td><td>46</td><td>21.5</td><td>194</td><td>4200</td><td>0</td></tr><tr><td>Biscoe</td><td>37.8</td><td>18.3</td><td>174</td><td>3400</td><td>0</td></tr><tr><td>Biscoe</td><td>37.7</td><td>18.7</td><td>180</td><td>3600</td><td>0</td></tr><tr><td>Biscoe</td><td>35.9</td><td>19.2</td><td>189</td><td>3800</td><td>0</td></tr><tr><td>Biscoe</td><td>38.2</td><td>18.1</td><td>185</td><td>3950</td><td>0</td></tr><tr><td>Biscoe</td><td>38.8</td><td>17.2</td><td>180</td><td>3800</td><td>0</td></tr><tr><td>Biscoe</td><td>35.3</td><td>18.9</td><td>187</td><td>3800</td><td>0</td></tr><tr><td>Biscoe</td><td>40.6</td><td>18.6</td><td>183</td><td>3550</td><td>0</td></tr><tr><td>Biscoe</td><td>40.5</td><td>17.9</td><td>187</td><td>3200</td><td>0</td></tr><tr><td>Biscoe</td><td>37.9</td><td>18.6</td><td>172</td><td>3150</td><td>0</td></tr><tr><td>Biscoe</td><td>40.5</td><td>18.9</td><td>180</td><td>3950</td><td>0</td></tr><tr><td>Dream</td><td>39.5</td><td>16.7</td><td>178</td><td>3250</td><td>0</td></tr><tr><td>Dream</td><td>37.2</td><td>18.1</td><td>178</td><td>3900</td><td>0</td></tr><tr><td>Dream</td><td>39.5</td><td>17.8</td><td>188</td><td>3300</td><td>0</td></tr><tr><td>Dream</td><td>40.9</td><td>18.9</td><td>184</td><td>3900</td><td>0</td></tr><tr><td>Dream</td><td>36.4</td><td>17</td><td>195</td><td>3325</td><td>0</td></tr><tr><td>Dream</td><td>39.2</td><td>21.1</td><td>196</td><td>4150</td><td>0</td></tr><tr><td>Dream</td><td>38.8</td><td>20</td><td>190</td><td>3950</td><td>0</td></tr><tr><td>Dream</td><td>42.2</td><td>18.5</td><td>180</td><td>3550</td><td>0</td></tr><tr><td>Dream</td><td>37.6</td><td>19.3</td><td>181</td><td>3300</td><td>0</td></tr><tr><td>Dream</td><td>39.8</td><td>19.1</td><td>184</td><td>4650</td><td>0</td></tr><tr><td>Dream</td><td>36.5</td><td>18</td><td>182</td><td>3150</td><td>0</td></tr><tr><td>Dream</td><td>40.8</td><td>18.4</td><td>195</td><td>3900</td><td>0</td></tr><tr><td>Dream</td><td>36</td><td>18.5</td><td>186</td><td>3100</td><td>0</td></tr><tr><td>Dream</td><td>44.1</td><td>19.7</td><td>196</td><td>4400</td><td>0</td></tr><tr><td>Dream</td><td>37</td><td>16.9</td><td>185</td><td>3000</td><td>0</td></tr><tr><td>Dream</td><td>39.6</td><td>18.8</td><td>190</td><td>4600</td><td>0</td></tr><tr><td>Dream</td><td>41.1</td><td>19</td><td>182</td><td>3425</td><td>0</td></tr><tr><td>Dream</td><td>37.5</td><td>18.9</td><td>179</td><td>2975</td><td>0</td></tr><tr><td>Dream</td><td>36</td><td>17.9</td><td>190</td><td>3450</td><td>0</td></tr><tr><td>Dream</td><td>42.3</td><td>21.2</td><td>191</td><td>4150</td><td>0</td></tr><tr><td>Biscoe</td><td>39.6</td><td>17.7</td><td>186</td><td>3500</td><td>0</td></tr><tr><td>Biscoe</td><td>40.1</td><td>18.9</td><td>188</td><td>4300</td><td>0</td></tr><tr><td>Biscoe</td><td>35</td><td>17.9</td><td>190</td><td>3450</td><td>0</td></tr><tr><td>Biscoe</td><td>42</td><td>19.5</td><td>200</td><td>4050</td><td>0</td></tr><tr><td>Biscoe</td><td>34.5</td><td>18.1</td><td>187</td><td>2900</td><td>0</td></tr><tr><td>Biscoe</td><td>41.4</td><td>18.6</td><td>191</td><td>3700</td><td>0</td></tr><tr><td>Biscoe</td><td>39</td><td>17.5</td><td>186</td><td>3550</td><td>0</td></tr><tr><td>Biscoe</td><td>40.6</td><td>18.8</td><td>193</td><td>3800</td><td>0</td></tr><tr><td>Biscoe</td><td>36.5</td><td>16.6</td><td>181</td><td>2850</td><td>0</td></tr><tr><td>Biscoe</td><td>37.6</td><td>19.1</td><td>194</td><td>3750</td><td>0</td></tr><tr><td>Biscoe</td><td>35.7</td><td>16.9</td><td>185</td><td>3150</td><td>0</td></tr><tr><td>Biscoe</td><td>41.3</td><td>21.1</td><td>195</td><td>4400</td><td>0</td></tr><tr><td>Biscoe</td><td>37.6</td><td>17</td><td>185</td><td>3600</td><td>0</td></tr><tr><td>Biscoe</td><td>41.1</td><td>18.2</td><td>192</td><td>4050</td><td>0</td></tr><tr><td>Biscoe</td><td>36.4</td><td>17.1</td><td>184</td><td>2850</td><td>0</td></tr><tr><td>Biscoe</td><td>41.6</td><td>18</td><td>192</td><td>3950</td><td>0</td></tr><tr><td>Biscoe</td><td>35.5</td><td>16.2</td><td>195</td><td>3350</td><td>0</td></tr><tr><td>Biscoe</td><td>41.1</td><td>19.1</td><td>188</td><td>4100</td><td>0</td></tr><tr><td>Torgersen</td><td>35.9</td><td>16.6</td><td>190</td><td>3050</td><td>0</td></tr><tr><td>Torgersen</td><td>41.8</td><td>19.4</td><td>198</td><td>4450</td><td>0</td></tr><tr><td>Torgersen</td><td>33.5</td><td>19</td><td>190</td><td>3600</td><td>0</td></tr><tr><td>Torgersen</td><td>39.7</td><td>18.4</td><td>190</td><td>3900</td><td>0</td></tr><tr><td>Torgersen</td><td>39.6</td><td>17.2</td><td>196</td><td>3550</td><td>0</td></tr><tr><td>Torgersen</td><td>45.8</td><td>18.9</td><td>197</td><td>4150</td><td>0</td></tr><tr><td>Torgersen</td><td>35.5</td><td>17.5</td><td>190</td><td>3700</td><td>0</td></tr><tr><td>Torgersen</td><td>42.8</td><td>18.5</td><td>195</td><td>4250</td><td>0</td></tr><tr><td>Torgersen</td><td>40.9</td><td>16.8</td><td>191</td><td>3700</td><td>0</td></tr><tr><td>Torgersen</td><td>37.2</td><td>19.4</td><td>184</td><td>3900</td><td>0</td></tr><tr><td>Torgersen</td><td>36.2</td><td>16.1</td><td>187</td><td>3550</td><td>0</td></tr><tr><td>Torgersen</td><td>42.1</td><td>19.1</td><td>195</td><td>4000</td><td>0</td></tr><tr><td>Torgersen</td><td>34.6</td><td>17.2</td><td>189</td><td>3200</td><td>0</td></tr><tr><td>Torgersen</td><td>42.9</td><td>17.6</td><td>196</td><td>4700</td><td>0</td></tr><tr><td>Torgersen</td><td>36.7</td><td>18.8</td><td>187</td><td>3800</td><td>0</td></tr><tr><td>Torgersen</td><td>35.1</td><td>19.4</td><td>193</td><td>4200</td><td>0</td></tr><tr><td>Dream</td><td>37.3</td><td>17.8</td><td>191</td><td>3350</td><td>0</td></tr><tr><td>Dream</td><td>41.3</td><td>20.3</td><td>194</td><td>3550</td><td>0</td></tr><tr><td>Dream</td><td>36.3</td><td>19.5</td><td>190</td><td>3800</td><td>0</td></tr><tr><td>Dream</td><td>36.9</td><td>18.6</td><td>189</td><td>3500</td><td>0</td></tr><tr><td>Dream</td><td>38.3</td><td>19.2</td><td>189</td><td>3950</td><td>0</td></tr><tr><td>Dream</td><td>38.9</td><td>18.8</td><td>190</td><td>3600</td><td>0</td></tr><tr><td>Dream</td><td>35.7</td><td>18</td><td>202</td><td>3550</td><td>0</td></tr><tr><td>Dream</td><td>41.1</td><td>18.1</td><td>205</td><td>4300</td><td>0</td></tr><tr><td>Dream</td><td>34</td><td>17.1</td><td>185</td><td>3400</td><td>0</td></tr><tr><td>Dream</td><td>39.6</td><td>18.1</td><td>186</td><td>4450</td><td>0</td></tr><tr><td>Dream</td><td>36.2</td><td>17.3</td><td>187</td><td>3300</td><td>0</td></tr><tr><td>Dream</td><td>40.8</td><td>18.9</td><td>208</td><td>4300</td><td>0</td></tr><tr><td>Dream</td><td>38.1</td><td>18.6</td><td>190</td><td>3700</td><td>0</td></tr><tr><td>Dream</td><td>40.3</td><td>18.5</td><td>196</td><td>4350</td><td>0</td></tr><tr><td>Dream</td><td>33.1</td><td>16.1</td><td>178</td><td>2900</td><td>0</td></tr><tr><td>Dream</td><td>43.2</td><td>18.5</td><td>192</td><td>4100</td><td>0</td></tr><tr><td>Biscoe</td><td>35</td><td>17.9</td><td>192</td><td>3725</td><td>0</td></tr><tr><td>Biscoe</td><td>41</td><td>20</td><td>203</td><td>4725</td><td>0</td></tr><tr><td>Biscoe</td><td>37.7</td><td>16</td><td>183</td><td>3075</td><td>0</td></tr><tr><td>Biscoe</td><td>37.8</td><td>20</td><td>190</td><td>4250</td><td>0</td></tr><tr><td>Biscoe</td><td>37.9</td><td>18.6</td><td>193</td><td>2925</td><td>0</td></tr><tr><td>Biscoe</td><td>39.7</td><td>18.9</td><td>184</td><td>3550</td><td>0</td></tr><tr><td>Biscoe</td><td>38.6</td><td>17.2</td><td>199</td><td>3750</td><td>0</td></tr><tr><td>Biscoe</td><td>38.2</td><td>20</td><td>190</td><td>3900</td><td>0</td></tr><tr><td>Biscoe</td><td>38.1</td><td>17</td><td>181</td><td>3175</td><td>0</td></tr><tr><td>Biscoe</td><td>43.2</td><td>19</td><td>197</td><td>4775</td><td>0</td></tr><tr><td>Biscoe</td><td>38.1</td><td>16.5</td><td>198</td><td>3825</td><td>0</td></tr><tr><td>Biscoe</td><td>45.6</td><td>20.3</td><td>191</td><td>4600</td><td>0</td></tr><tr><td>Biscoe</td><td>39.7</td><td>17.7</td><td>193</td><td>3200</td><td>0</td></tr><tr><td>Biscoe</td><td>42.2</td><td>19.5</td><td>197</td><td>4275</td><td>0</td></tr><tr><td>Biscoe</td><td>39.6</td><td>20.7</td><td>191</td><td>3900</td><td>0</td></tr><tr><td>Biscoe</td><td>42.7</td><td>18.3</td><td>196</td><td>4075</td><td>0</td></tr><tr><td>Torgersen</td><td>38.6</td><td>17</td><td>188</td><td>2900</td><td>0</td></tr><tr><td>Torgersen</td><td>37.3</td><td>20.5</td><td>199</td><td>3775</td><td>0</td></tr><tr><td>Torgersen</td><td>35.7</td><td>17</td><td>189</td><td>3350</td><td>0</td></tr><tr><td>Torgersen</td><td>41.1</td><td>18.6</td><td>189</td><td>3325</td><td>0</td></tr><tr><td>Torgersen</td><td>36.2</td><td>17.2</td><td>187</td><td>3150</td><td>0</td></tr><tr><td>Torgersen</td><td>37.7</td><td>19.8</td><td>198</td><td>3500</td><td>0</td></tr><tr><td>Torgersen</td><td>40.2</td><td>17</td><td>176</td><td>3450</td><td>0</td></tr><tr><td>Torgersen</td><td>41.4</td><td>18.5</td><td>202</td><td>3875</td><td>0</td></tr><tr><td>Torgersen</td><td>35.2</td><td>15.9</td><td>186</td><td>3050</td><td>0</td></tr><tr><td>Torgersen</td><td>40.6</td><td>19</td><td>199</td><td>4000</td><td>0</td></tr><tr><td>Torgersen</td><td>38.8</td><td>17.6</td><td>191</td><td>3275</td><td>0</td></tr><tr><td>Torgersen</td><td>41.5</td><td>18.3</td><td>195</td><td>4300</td><td>0</td></tr><tr><td>Torgersen</td><td>39</td><td>17.1</td><td>191</td><td>3050</td><td>0</td></tr><tr><td>Torgersen</td><td>44.1</td><td>18</td><td>210</td><td>4000</td><td>0</td></tr><tr><td>Torgersen</td><td>38.5</td><td>17.9</td><td>190</td><td>3325</td><td>0</td></tr><tr><td>Torgersen</td><td>43.1</td><td>19.2</td><td>197</td><td>3500</td><td>0</td></tr><tr><td>Dream</td><td>36.8</td><td>18.5</td><td>193</td><td>3500</td><td>0</td></tr><tr><td>Dream</td><td>37.5</td><td>18.5</td><td>199</td><td>4475</td><td>0</td></tr><tr><td>Dream</td><td>38.1</td><td>17.6</td><td>187</td><td>3425</td><td>0</td></tr><tr><td>Dream</td><td>41.1</td><td>17.5</td><td>190</td><td>3900</td><td>0</td></tr><tr><td>Dream</td><td>35.6</td><td>17.5</td><td>191</td><td>3175</td><td>0</td></tr><tr><td>Dream</td><td>40.2</td><td>20.1</td><td>200</td><td>3975</td><td>0</td></tr><tr><td>Dream</td><td>37</td><td>16.5</td><td>185</td><td>3400</td><td>0</td></tr><tr><td>Dream</td><td>39.7</td><td>17.9</td><td>193</td><td>4250</td><td>0</td></tr><tr><td>Dream</td><td>40.2</td><td>17.1</td><td>193</td><td>3400</td><td>0</td></tr><tr><td>Dream</td><td>40.6</td><td>17.2</td><td>187</td><td>3475</td><td>0</td></tr><tr><td>Dream</td><td>32.1</td><td>15.5</td><td>188</td><td>3050</td><td>0</td></tr><tr><td>Dream</td><td>40.7</td><td>17</td><td>190</td><td>3725</td><td>0</td></tr><tr><td>Dream</td><td>37.3</td><td>16.8</td><td>192</td><td>3000</td><td>0</td></tr><tr><td>Dream</td><td>39</td><td>18.7</td><td>185</td><td>3650</td><td>0</td></tr><tr><td>Dream</td><td>39.2</td><td>18.6</td><td>190</td><td>4250</td><td>0</td></tr><tr><td>Dream</td><td>36.6</td><td>18.4</td><td>184</td><td>3475</td><td>0</td></tr><tr><td>Dream</td><td>36</td><td>17.8</td><td>195</td><td>3450</td><td>0</td></tr><tr><td>Dream</td><td>37.8</td><td>18.1</td><td>193</td><td>3750</td><td>0</td></tr><tr><td>Dream</td><td>36</td><td>17.1</td><td>187</td><td>3700</td><td>0</td></tr><tr><td>Dream</td><td>41.5</td><td>18.5</td><td>201</td><td>4000</td><td>0</td></tr><tr><td>Biscoe</td><td>46.1</td><td>13.2</td><td>211</td><td>4500</td><td>1</td></tr><tr><td>Biscoe</td><td>50</td><td>16.3</td><td>230</td><td>5700</td><td>1</td></tr><tr><td>Biscoe</td><td>48.7</td><td>14.1</td><td>210</td><td>4450</td><td>1</td></tr><tr><td>Biscoe</td><td>50</td><td>15.2</td><td>218</td><td>5700</td><td>1</td></tr><tr><td>Biscoe</td><td>47.6</td><td>14.5</td><td>215</td><td>5400</td><td>1</td></tr><tr><td>Biscoe</td><td>46.5</td><td>13.5</td><td>210</td><td>4550</td><td>1</td></tr><tr><td>Biscoe</td><td>45.4</td><td>14.6</td><td>211</td><td>4800</td><td>1</td></tr><tr><td>Biscoe</td><td>46.7</td><td>15.3</td><td>219</td><td>5200</td><td>1</td></tr><tr><td>Biscoe</td><td>43.3</td><td>13.4</td><td>209</td><td>4400</td><td>1</td></tr><tr><td>Biscoe</td><td>46.8</td><td>15.4</td><td>215</td><td>5150</td><td>1</td></tr><tr><td>Biscoe</td><td>40.9</td><td>13.7</td><td>214</td><td>4650</td><td>1</td></tr><tr><td>Biscoe</td><td>49</td><td>16.1</td><td>216</td><td>5550</td><td>1</td></tr><tr><td>Biscoe</td><td>45.5</td><td>13.7</td><td>214</td><td>4650</td><td>1</td></tr><tr><td>Biscoe</td><td>48.4</td><td>14.6</td><td>213</td><td>5850</td><td>1</td></tr><tr><td>Biscoe</td><td>45.8</td><td>14.6</td><td>210</td><td>4200</td><td>1</td></tr><tr><td>Biscoe</td><td>49.3</td><td>15.7</td><td>217</td><td>5850</td><td>1</td></tr><tr><td>Biscoe</td><td>42</td><td>13.5</td><td>210</td><td>4150</td><td>1</td></tr><tr><td>Biscoe</td><td>49.2</td><td>15.2</td><td>221</td><td>6300</td><td>1</td></tr><tr><td>Biscoe</td><td>46.2</td><td>14.5</td><td>209</td><td>4800</td><td>1</td></tr><tr><td>Biscoe</td><td>48.7</td><td>15.1</td><td>222</td><td>5350</td><td>1</td></tr><tr><td>Biscoe</td><td>50.2</td><td>14.3</td><td>218</td><td>5700</td><td>1</td></tr><tr><td>Biscoe</td><td>45.1</td><td>14.5</td><td>215</td><td>5000</td><td>1</td></tr><tr><td>Biscoe</td><td>46.5</td><td>14.5</td><td>213</td><td>4400</td><td>1</td></tr><tr><td>Biscoe</td><td>46.3</td><td>15.8</td><td>215</td><td>5050</td><td>1</td></tr><tr><td>Biscoe</td><td>42.9</td><td>13.1</td><td>215</td><td>5000</td><td>1</td></tr><tr><td>Biscoe</td><td>46.1</td><td>15.1</td><td>215</td><td>5100</td><td>1</td></tr><tr><td>Biscoe</td><td>44.5</td><td>14.3</td><td>216</td><td>4100</td><td>1</td></tr><tr><td>Biscoe</td><td>47.8</td><td>15</td><td>215</td><td>5650</td><td>1</td></tr><tr><td>Biscoe</td><td>48.2</td><td>14.3</td><td>210</td><td>4600</td><td>1</td></tr><tr><td>Biscoe</td><td>50</td><td>15.3</td><td>220</td><td>5550</td><td>1</td></tr><tr><td>Biscoe</td><td>47.3</td><td>15.3</td><td>222</td><td>5250</td><td>1</td></tr><tr><td>Biscoe</td><td>42.8</td><td>14.2</td><td>209</td><td>4700</td><td>1</td></tr><tr><td>Biscoe</td><td>45.1</td><td>14.5</td><td>207</td><td>5050</td><td>1</td></tr><tr><td>Biscoe</td><td>59.6</td><td>17</td><td>230</td><td>6050</td><td>1</td></tr><tr><td>Biscoe</td><td>49.1</td><td>14.8</td><td>220</td><td>5150</td><td>1</td></tr><tr><td>Biscoe</td><td>48.4</td><td>16.3</td><td>220</td><td>5400</td><td>1</td></tr><tr><td>Biscoe</td><td>42.6</td><td>13.7</td><td>213</td><td>4950</td><td>1</td></tr><tr><td>Biscoe</td><td>44.4</td><td>17.3</td><td>219</td><td>5250</td><td>1</td></tr><tr><td>Biscoe</td><td>44</td><td>13.6</td><td>208</td><td>4350</td><td>1</td></tr><tr><td>Biscoe</td><td>48.7</td><td>15.7</td><td>208</td><td>5350</td><td>1</td></tr><tr><td>Biscoe</td><td>42.7</td><td>13.7</td><td>208</td><td>3950</td><td>1</td></tr><tr><td>Biscoe</td><td>49.6</td><td>16</td><td>225</td><td>5700</td><td>1</td></tr><tr><td>Biscoe</td><td>45.3</td><td>13.7</td><td>210</td><td>4300</td><td>1</td></tr><tr><td>Biscoe</td><td>49.6</td><td>15</td><td>216</td><td>4750</td><td>1</td></tr><tr><td>Biscoe</td><td>50.5</td><td>15.9</td><td>222</td><td>5550</td><td>1</td></tr><tr><td>Biscoe</td><td>43.6</td><td>13.9</td><td>217</td><td>4900</td><td>1</td></tr><tr><td>Biscoe</td><td>45.5</td><td>13.9</td><td>210</td><td>4200</td><td>1</td></tr><tr><td>Biscoe</td><td>50.5</td><td>15.9</td><td>225</td><td>5400</td><td>1</td></tr><tr><td>Biscoe</td><td>44.9</td><td>13.3</td><td>213</td><td>5100</td><td>1</td></tr><tr><td>Biscoe</td><td>45.2</td><td>15.8</td><td>215</td><td>5300</td><td>1</td></tr><tr><td>Biscoe</td><td>46.6</td><td>14.2</td><td>210</td><td>4850</td><td>1</td></tr><tr><td>Biscoe</td><td>48.5</td><td>14.1</td><td>220</td><td>5300</td><td>1</td></tr><tr><td>Biscoe</td><td>45.1</td><td>14.4</td><td>210</td><td>4400</td><td>1</td></tr><tr><td>Biscoe</td><td>50.1</td><td>15</td><td>225</td><td>5000</td><td>1</td></tr><tr><td>Biscoe</td><td>46.5</td><td>14.4</td><td>217</td><td>4900</td><td>1</td></tr><tr><td>Biscoe</td><td>45</td><td>15.4</td><td>220</td><td>5050</td><td>1</td></tr><tr><td>Biscoe</td><td>43.8</td><td>13.9</td><td>208</td><td>4300</td><td>1</td></tr><tr><td>Biscoe</td><td>45.5</td><td>15</td><td>220</td><td>5000</td><td>1</td></tr><tr><td>Biscoe</td><td>43.2</td><td>14.5</td><td>208</td><td>4450</td><td>1</td></tr><tr><td>Biscoe</td><td>50.4</td><td>15.3</td><td>224</td><td>5550</td><td>1</td></tr><tr><td>Biscoe</td><td>45.3</td><td>13.8</td><td>208</td><td>4200</td><td>1</td></tr><tr><td>Biscoe</td><td>46.2</td><td>14.9</td><td>221</td><td>5300</td><td>1</td></tr><tr><td>Biscoe</td><td>45.7</td><td>13.9</td><td>214</td><td>4400</td><td>1</td></tr><tr><td>Biscoe</td><td>54.3</td><td>15.7</td><td>231</td><td>5650</td><td>1</td></tr><tr><td>Biscoe</td><td>45.8</td><td>14.2</td><td>219</td><td>4700</td><td>1</td></tr><tr><td>Biscoe</td><td>49.8</td><td>16.8</td><td>230</td><td>5700</td><td>1</td></tr><tr><td>Biscoe</td><td>46.2</td><td>14.4</td><td>214</td><td>4650</td><td>1</td></tr><tr><td>Biscoe</td><td>49.5</td><td>16.2</td><td>229</td><td>5800</td><td>1</td></tr><tr><td>Biscoe</td><td>43.5</td><td>14.2</td><td>220</td><td>4700</td><td>1</td></tr><tr><td>Biscoe</td><td>50.7</td><td>15</td><td>223</td><td>5550</td><td>1</td></tr><tr><td>Biscoe</td><td>47.7</td><td>15</td><td>216</td><td>4750</td><td>1</td></tr><tr><td>Biscoe</td><td>46.4</td><td>15.6</td><td>221</td><td>5000</td><td>1</td></tr><tr><td>Biscoe</td><td>48.2</td><td>15.6</td><td>221</td><td>5100</td><td>1</td></tr><tr><td>Biscoe</td><td>46.5</td><td>14.8</td><td>217</td><td>5200</td><td>1</td></tr><tr><td>Biscoe</td><td>46.4</td><td>15</td><td>216</td><td>4700</td><td>1</td></tr><tr><td>Biscoe</td><td>48.6</td><td>16</td><td>230</td><td>5800</td><td>1</td></tr><tr><td>Biscoe</td><td>47.5</td><td>14.2</td><td>209</td><td>4600</td><td>1</td></tr><tr><td>Biscoe</td><td>51.1</td><td>16.3</td><td>220</td><td>6000</td><td>1</td></tr><tr><td>Biscoe</td><td>45.2</td><td>13.8</td><td>215</td><td>4750</td><td>1</td></tr><tr><td>Biscoe</td><td>45.2</td><td>16.4</td><td>223</td><td>5950</td><td>1</td></tr><tr><td>Biscoe</td><td>49.1</td><td>14.5</td><td>212</td><td>4625</td><td>1</td></tr><tr><td>Biscoe</td><td>52.5</td><td>15.6</td><td>221</td><td>5450</td><td>1</td></tr><tr><td>Biscoe</td><td>47.4</td><td>14.6</td><td>212</td><td>4725</td><td>1</td></tr><tr><td>Biscoe</td><td>50</td><td>15.9</td><td>224</td><td>5350</td><td>1</td></tr><tr><td>Biscoe</td><td>44.9</td><td>13.8</td><td>212</td><td>4750</td><td>1</td></tr><tr><td>Biscoe</td><td>50.8</td><td>17.3</td><td>228</td><td>5600</td><td>1</td></tr><tr><td>Biscoe</td><td>43.4</td><td>14.4</td><td>218</td><td>4600</td><td>1</td></tr><tr><td>Biscoe</td><td>51.3</td><td>14.2</td><td>218</td><td>5300</td><td>1</td></tr><tr><td>Biscoe</td><td>47.5</td><td>14</td><td>212</td><td>4875</td><td>1</td></tr><tr><td>Biscoe</td><td>52.1</td><td>17</td><td>230</td><td>5550</td><td>1</td></tr><tr><td>Biscoe</td><td>47.5</td><td>15</td><td>218</td><td>4950</td><td>1</td></tr><tr><td>Biscoe</td><td>52.2</td><td>17.1</td><td>228</td><td>5400</td><td>1</td></tr><tr><td>Biscoe</td><td>45.5</td><td>14.5</td><td>212</td><td>4750</td><td>1</td></tr><tr><td>Biscoe</td><td>49.5</td><td>16.1</td><td>224</td><td>5650</td><td>1</td></tr><tr><td>Biscoe</td><td>44.5</td><td>14.7</td><td>214</td><td>4850</td><td>1</td></tr><tr><td>Biscoe</td><td>50.8</td><td>15.7</td><td>226</td><td>5200</td><td>1</td></tr><tr><td>Biscoe</td><td>49.4</td><td>15.8</td><td>216</td><td>4925</td><td>1</td></tr><tr><td>Biscoe</td><td>46.9</td><td>14.6</td><td>222</td><td>4875</td><td>1</td></tr><tr><td>Biscoe</td><td>48.4</td><td>14.4</td><td>203</td><td>4625</td><td>1</td></tr><tr><td>Biscoe</td><td>51.1</td><td>16.5</td><td>225</td><td>5250</td><td>1</td></tr><tr><td>Biscoe</td><td>48.5</td><td>15</td><td>219</td><td>4850</td><td>1</td></tr><tr><td>Biscoe</td><td>55.9</td><td>17</td><td>228</td><td>5600</td><td>1</td></tr><tr><td>Biscoe</td><td>47.2</td><td>15.5</td><td>215</td><td>4975</td><td>1</td></tr><tr><td>Biscoe</td><td>49.1</td><td>15</td><td>228</td><td>5500</td><td>1</td></tr><tr><td>Biscoe</td><td>47.3</td><td>13.8</td><td>216</td><td>4725</td><td>1</td></tr><tr><td>Biscoe</td><td>46.8</td><td>16.1</td><td>215</td><td>5500</td><td>1</td></tr><tr><td>Biscoe</td><td>41.7</td><td>14.7</td><td>210</td><td>4700</td><td>1</td></tr><tr><td>Biscoe</td><td>53.4</td><td>15.8</td><td>219</td><td>5500</td><td>1</td></tr><tr><td>Biscoe</td><td>43.3</td><td>14</td><td>208</td><td>4575</td><td>1</td></tr><tr><td>Biscoe</td><td>48.1</td><td>15.1</td><td>209</td><td>5500</td><td>1</td></tr><tr><td>Biscoe</td><td>50.5</td><td>15.2</td><td>216</td><td>5000</td><td>1</td></tr><tr><td>Biscoe</td><td>49.8</td><td>15.9</td><td>229</td><td>5950</td><td>1</td></tr><tr><td>Biscoe</td><td>43.5</td><td>15.2</td><td>213</td><td>4650</td><td>1</td></tr><tr><td>Biscoe</td><td>51.5</td><td>16.3</td><td>230</td><td>5500</td><td>1</td></tr><tr><td>Biscoe</td><td>46.2</td><td>14.1</td><td>217</td><td>4375</td><td>1</td></tr><tr><td>Biscoe</td><td>55.1</td><td>16</td><td>230</td><td>5850</td><td>1</td></tr><tr><td>Biscoe</td><td>44.5</td><td>15.7</td><td>217</td><td>4875</td><td>1</td></tr><tr><td>Biscoe</td><td>48.8</td><td>16.2</td><td>222</td><td>6000</td><td>1</td></tr><tr><td>Biscoe</td><td>47.2</td><td>13.7</td><td>214</td><td>4925</td><td>1</td></tr><tr><td>Biscoe</td><td>null</td><td>null</td><td>null</td><td>null</td><td>1</td></tr><tr><td>Biscoe</td><td>46.8</td><td>14.3</td><td>215</td><td>4850</td><td>1</td></tr><tr><td>Biscoe</td><td>50.4</td><td>15.7</td><td>222</td><td>5750</td><td>1</td></tr><tr><td>Biscoe</td><td>45.2</td><td>14.8</td><td>212</td><td>5200</td><td>1</td></tr><tr><td>Biscoe</td><td>49.9</td><td>16.1</td><td>213</td><td>5400</td><td>1</td></tr><tr><td>Dream</td><td>46.5</td><td>17.9</td><td>192</td><td>3500</td><td>2</td></tr><tr><td>Dream</td><td>50</td><td>19.5</td><td>196</td><td>3900</td><td>2</td></tr><tr><td>Dream</td><td>51.3</td><td>19.2</td><td>193</td><td>3650</td><td>2</td></tr><tr><td>Dream</td><td>45.4</td><td>18.7</td><td>188</td><td>3525</td><td>2</td></tr><tr><td>Dream</td><td>52.7</td><td>19.8</td><td>197</td><td>3725</td><td>2</td></tr><tr><td>Dream</td><td>45.2</td><td>17.8</td><td>198</td><td>3950</td><td>2</td></tr><tr><td>Dream</td><td>46.1</td><td>18.2</td><td>178</td><td>3250</td><td>2</td></tr><tr><td>Dream</td><td>51.3</td><td>18.2</td><td>197</td><td>3750</td><td>2</td></tr><tr><td>Dream</td><td>46</td><td>18.9</td><td>195</td><td>4150</td><td>2</td></tr><tr><td>Dream</td><td>51.3</td><td>19.9</td><td>198</td><td>3700</td><td>2</td></tr><tr><td>Dream</td><td>46.6</td><td>17.8</td><td>193</td><td>3800</td><td>2</td></tr><tr><td>Dream</td><td>51.7</td><td>20.3</td><td>194</td><td>3775</td><td>2</td></tr><tr><td>Dream</td><td>47</td><td>17.3</td><td>185</td><td>3700</td><td>2</td></tr><tr><td>Dream</td><td>52</td><td>18.1</td><td>201</td><td>4050</td><td>2</td></tr><tr><td>Dream</td><td>45.9</td><td>17.1</td><td>190</td><td>3575</td><td>2</td></tr><tr><td>Dream</td><td>50.5</td><td>19.6</td><td>201</td><td>4050</td><td>2</td></tr><tr><td>Dream</td><td>50.3</td><td>20</td><td>197</td><td>3300</td><td>2</td></tr><tr><td>Dream</td><td>58</td><td>17.8</td><td>181</td><td>3700</td><td>2</td></tr><tr><td>Dream</td><td>46.4</td><td>18.6</td><td>190</td><td>3450</td><td>2</td></tr><tr><td>Dream</td><td>49.2</td><td>18.2</td><td>195</td><td>4400</td><td>2</td></tr><tr><td>Dream</td><td>42.4</td><td>17.3</td><td>181</td><td>3600</td><td>2</td></tr><tr><td>Dream</td><td>48.5</td><td>17.5</td><td>191</td><td>3400</td><td>2</td></tr><tr><td>Dream</td><td>43.2</td><td>16.6</td><td>187</td><td>2900</td><td>2</td></tr><tr><td>Dream</td><td>50.6</td><td>19.4</td><td>193</td><td>3800</td><td>2</td></tr><tr><td>Dream</td><td>46.7</td><td>17.9</td><td>195</td><td>3300</td><td>2</td></tr><tr><td>Dream</td><td>52</td><td>19</td><td>197</td><td>4150</td><td>2</td></tr><tr><td>Dream</td><td>50.5</td><td>18.4</td><td>200</td><td>3400</td><td>2</td></tr><tr><td>Dream</td><td>49.5</td><td>19</td><td>200</td><td>3800</td><td>2</td></tr><tr><td>Dream</td><td>46.4</td><td>17.8</td><td>191</td><td>3700</td><td>2</td></tr><tr><td>Dream</td><td>52.8</td><td>20</td><td>205</td><td>4550</td><td>2</td></tr><tr><td>Dream</td><td>40.9</td><td>16.6</td><td>187</td><td>3200</td><td>2</td></tr><tr><td>Dream</td><td>54.2</td><td>20.8</td><td>201</td><td>4300</td><td>2</td></tr><tr><td>Dream</td><td>42.5</td><td>16.7</td><td>187</td><td>3350</td><td>2</td></tr><tr><td>Dream</td><td>51</td><td>18.8</td><td>203</td><td>4100</td><td>2</td></tr><tr><td>Dream</td><td>49.7</td><td>18.6</td><td>195</td><td>3600</td><td>2</td></tr><tr><td>Dream</td><td>47.5</td><td>16.8</td><td>199</td><td>3900</td><td>2</td></tr><tr><td>Dream</td><td>47.6</td><td>18.3</td><td>195</td><td>3850</td><td>2</td></tr><tr><td>Dream</td><td>52</td><td>20.7</td><td>210</td><td>4800</td><td>2</td></tr><tr><td>Dream</td><td>46.9</td><td>16.6</td><td>192</td><td>2700</td><td>2</td></tr><tr><td>Dream</td><td>53.5</td><td>19.9</td><td>205</td><td>4500</td><td>2</td></tr><tr><td>Dream</td><td>49</td><td>19.5</td><td>210</td><td>3950</td><td>2</td></tr><tr><td>Dream</td><td>46.2</td><td>17.5</td><td>187</td><td>3650</td><td>2</td></tr><tr><td>Dream</td><td>50.9</td><td>19.1</td><td>196</td><td>3550</td><td>2</td></tr><tr><td>Dream</td><td>45.5</td><td>17</td><td>196</td><td>3500</td><td>2</td></tr><tr><td>Dream</td><td>50.9</td><td>17.9</td><td>196</td><td>3675</td><td>2</td></tr><tr><td>Dream</td><td>50.8</td><td>18.5</td><td>201</td><td>4450</td><td>2</td></tr><tr><td>Dream</td><td>50.1</td><td>17.9</td><td>190</td><td>3400</td><td>2</td></tr><tr><td>Dream</td><td>49</td><td>19.6</td><td>212</td><td>4300</td><td>2</td></tr><tr><td>Dream</td><td>51.5</td><td>18.7</td><td>187</td><td>3250</td><td>2</td></tr><tr><td>Dream</td><td>49.8</td><td>17.3</td><td>198</td><td>3675</td><td>2</td></tr><tr><td>Dream</td><td>48.1</td><td>16.4</td><td>199</td><td>3325</td><td>2</td></tr><tr><td>Dream</td><td>51.4</td><td>19</td><td>201</td><td>3950</td><td>2</td></tr><tr><td>Dream</td><td>45.7</td><td>17.3</td><td>193</td><td>3600</td><td>2</td></tr><tr><td>Dream</td><td>50.7</td><td>19.7</td><td>203</td><td>4050</td><td>2</td></tr><tr><td>Dream</td><td>42.5</td><td>17.3</td><td>187</td><td>3350</td><td>2</td></tr><tr><td>Dream</td><td>52.2</td><td>18.8</td><td>197</td><td>3450</td><td>2</td></tr><tr><td>Dream</td><td>45.2</td><td>16.6</td><td>191</td><td>3250</td><td>2</td></tr><tr><td>Dream</td><td>49.3</td><td>19.9</td><td>203</td><td>4050</td><td>2</td></tr><tr><td>Dream</td><td>50.2</td><td>18.8</td><td>202</td><td>3800</td><td>2</td></tr><tr><td>Dream</td><td>45.6</td><td>19.4</td><td>194</td><td>3525</td><td>2</td></tr><tr><td>Dream</td><td>51.9</td><td>19.5</td><td>206</td><td>3950</td><td>2</td></tr><tr><td>Dream</td><td>46.8</td><td>16.5</td><td>189</td><td>3650</td><td>2</td></tr><tr><td>Dream</td><td>45.7</td><td>17</td><td>195</td><td>3650</td><td>2</td></tr><tr><td>Dream</td><td>55.8</td><td>19.8</td><td>207</td><td>4000</td><td>2</td></tr><tr><td>Dream</td><td>43.5</td><td>18.1</td><td>202</td><td>3400</td><td>2</td></tr><tr><td>Dream</td><td>49.6</td><td>18.2</td><td>193</td><td>3775</td><td>2</td></tr><tr><td>Dream</td><td>50.8</td><td>19</td><td>210</td><td>4100</td><td>2</td></tr><tr><td>Dream</td><td>50.2</td><td>18.7</td><td>198</td><td>3775</td><td>2</td></tr></tbody></table></div>"
      ]
     },
     "metadata": {
      "application/vnd.databricks.v1+output": {
       "addedWidgets": {},
       "aggData": [],
       "aggError": "",
       "aggOverflow": false,
       "aggSchema": [],
       "aggSeriesLimitReached": false,
       "aggType": "",
       "arguments": {},
       "columnCustomDisplayInfos": {},
       "data": [
        [
         "Torgersen",
         "39.1",
         "18.7",
         "181",
         "3750",
         "0"
        ],
        [
         "Torgersen",
         "39.5",
         "17.4",
         "186",
         "3800",
         "0"
        ],
        [
         "Torgersen",
         "40.3",
         "18",
         "195",
         "3250",
         "0"
        ],
        [
         "Torgersen",
         null,
         null,
         null,
         null,
         "0"
        ],
        [
         "Torgersen",
         "36.7",
         "19.3",
         "193",
         "3450",
         "0"
        ],
        [
         "Torgersen",
         "39.3",
         "20.6",
         "190",
         "3650",
         "0"
        ],
        [
         "Torgersen",
         "38.9",
         "17.8",
         "181",
         "3625",
         "0"
        ],
        [
         "Torgersen",
         "39.2",
         "19.6",
         "195",
         "4675",
         "0"
        ],
        [
         "Torgersen",
         "34.1",
         "18.1",
         "193",
         "3475",
         "0"
        ],
        [
         "Torgersen",
         "42",
         "20.2",
         "190",
         "4250",
         "0"
        ],
        [
         "Torgersen",
         "37.8",
         "17.1",
         "186",
         "3300",
         "0"
        ],
        [
         "Torgersen",
         "37.8",
         "17.3",
         "180",
         "3700",
         "0"
        ],
        [
         "Torgersen",
         "41.1",
         "17.6",
         "182",
         "3200",
         "0"
        ],
        [
         "Torgersen",
         "38.6",
         "21.2",
         "191",
         "3800",
         "0"
        ],
        [
         "Torgersen",
         "34.6",
         "21.1",
         "198",
         "4400",
         "0"
        ],
        [
         "Torgersen",
         "36.6",
         "17.8",
         "185",
         "3700",
         "0"
        ],
        [
         "Torgersen",
         "38.7",
         "19",
         "195",
         "3450",
         "0"
        ],
        [
         "Torgersen",
         "42.5",
         "20.7",
         "197",
         "4500",
         "0"
        ],
        [
         "Torgersen",
         "34.4",
         "18.4",
         "184",
         "3325",
         "0"
        ],
        [
         "Torgersen",
         "46",
         "21.5",
         "194",
         "4200",
         "0"
        ],
        [
         "Biscoe",
         "37.8",
         "18.3",
         "174",
         "3400",
         "0"
        ],
        [
         "Biscoe",
         "37.7",
         "18.7",
         "180",
         "3600",
         "0"
        ],
        [
         "Biscoe",
         "35.9",
         "19.2",
         "189",
         "3800",
         "0"
        ],
        [
         "Biscoe",
         "38.2",
         "18.1",
         "185",
         "3950",
         "0"
        ],
        [
         "Biscoe",
         "38.8",
         "17.2",
         "180",
         "3800",
         "0"
        ],
        [
         "Biscoe",
         "35.3",
         "18.9",
         "187",
         "3800",
         "0"
        ],
        [
         "Biscoe",
         "40.6",
         "18.6",
         "183",
         "3550",
         "0"
        ],
        [
         "Biscoe",
         "40.5",
         "17.9",
         "187",
         "3200",
         "0"
        ],
        [
         "Biscoe",
         "37.9",
         "18.6",
         "172",
         "3150",
         "0"
        ],
        [
         "Biscoe",
         "40.5",
         "18.9",
         "180",
         "3950",
         "0"
        ],
        [
         "Dream",
         "39.5",
         "16.7",
         "178",
         "3250",
         "0"
        ],
        [
         "Dream",
         "37.2",
         "18.1",
         "178",
         "3900",
         "0"
        ],
        [
         "Dream",
         "39.5",
         "17.8",
         "188",
         "3300",
         "0"
        ],
        [
         "Dream",
         "40.9",
         "18.9",
         "184",
         "3900",
         "0"
        ],
        [
         "Dream",
         "36.4",
         "17",
         "195",
         "3325",
         "0"
        ],
        [
         "Dream",
         "39.2",
         "21.1",
         "196",
         "4150",
         "0"
        ],
        [
         "Dream",
         "38.8",
         "20",
         "190",
         "3950",
         "0"
        ],
        [
         "Dream",
         "42.2",
         "18.5",
         "180",
         "3550",
         "0"
        ],
        [
         "Dream",
         "37.6",
         "19.3",
         "181",
         "3300",
         "0"
        ],
        [
         "Dream",
         "39.8",
         "19.1",
         "184",
         "4650",
         "0"
        ],
        [
         "Dream",
         "36.5",
         "18",
         "182",
         "3150",
         "0"
        ],
        [
         "Dream",
         "40.8",
         "18.4",
         "195",
         "3900",
         "0"
        ],
        [
         "Dream",
         "36",
         "18.5",
         "186",
         "3100",
         "0"
        ],
        [
         "Dream",
         "44.1",
         "19.7",
         "196",
         "4400",
         "0"
        ],
        [
         "Dream",
         "37",
         "16.9",
         "185",
         "3000",
         "0"
        ],
        [
         "Dream",
         "39.6",
         "18.8",
         "190",
         "4600",
         "0"
        ],
        [
         "Dream",
         "41.1",
         "19",
         "182",
         "3425",
         "0"
        ],
        [
         "Dream",
         "37.5",
         "18.9",
         "179",
         "2975",
         "0"
        ],
        [
         "Dream",
         "36",
         "17.9",
         "190",
         "3450",
         "0"
        ],
        [
         "Dream",
         "42.3",
         "21.2",
         "191",
         "4150",
         "0"
        ],
        [
         "Biscoe",
         "39.6",
         "17.7",
         "186",
         "3500",
         "0"
        ],
        [
         "Biscoe",
         "40.1",
         "18.9",
         "188",
         "4300",
         "0"
        ],
        [
         "Biscoe",
         "35",
         "17.9",
         "190",
         "3450",
         "0"
        ],
        [
         "Biscoe",
         "42",
         "19.5",
         "200",
         "4050",
         "0"
        ],
        [
         "Biscoe",
         "34.5",
         "18.1",
         "187",
         "2900",
         "0"
        ],
        [
         "Biscoe",
         "41.4",
         "18.6",
         "191",
         "3700",
         "0"
        ],
        [
         "Biscoe",
         "39",
         "17.5",
         "186",
         "3550",
         "0"
        ],
        [
         "Biscoe",
         "40.6",
         "18.8",
         "193",
         "3800",
         "0"
        ],
        [
         "Biscoe",
         "36.5",
         "16.6",
         "181",
         "2850",
         "0"
        ],
        [
         "Biscoe",
         "37.6",
         "19.1",
         "194",
         "3750",
         "0"
        ],
        [
         "Biscoe",
         "35.7",
         "16.9",
         "185",
         "3150",
         "0"
        ],
        [
         "Biscoe",
         "41.3",
         "21.1",
         "195",
         "4400",
         "0"
        ],
        [
         "Biscoe",
         "37.6",
         "17",
         "185",
         "3600",
         "0"
        ],
        [
         "Biscoe",
         "41.1",
         "18.2",
         "192",
         "4050",
         "0"
        ],
        [
         "Biscoe",
         "36.4",
         "17.1",
         "184",
         "2850",
         "0"
        ],
        [
         "Biscoe",
         "41.6",
         "18",
         "192",
         "3950",
         "0"
        ],
        [
         "Biscoe",
         "35.5",
         "16.2",
         "195",
         "3350",
         "0"
        ],
        [
         "Biscoe",
         "41.1",
         "19.1",
         "188",
         "4100",
         "0"
        ],
        [
         "Torgersen",
         "35.9",
         "16.6",
         "190",
         "3050",
         "0"
        ],
        [
         "Torgersen",
         "41.8",
         "19.4",
         "198",
         "4450",
         "0"
        ],
        [
         "Torgersen",
         "33.5",
         "19",
         "190",
         "3600",
         "0"
        ],
        [
         "Torgersen",
         "39.7",
         "18.4",
         "190",
         "3900",
         "0"
        ],
        [
         "Torgersen",
         "39.6",
         "17.2",
         "196",
         "3550",
         "0"
        ],
        [
         "Torgersen",
         "45.8",
         "18.9",
         "197",
         "4150",
         "0"
        ],
        [
         "Torgersen",
         "35.5",
         "17.5",
         "190",
         "3700",
         "0"
        ],
        [
         "Torgersen",
         "42.8",
         "18.5",
         "195",
         "4250",
         "0"
        ],
        [
         "Torgersen",
         "40.9",
         "16.8",
         "191",
         "3700",
         "0"
        ],
        [
         "Torgersen",
         "37.2",
         "19.4",
         "184",
         "3900",
         "0"
        ],
        [
         "Torgersen",
         "36.2",
         "16.1",
         "187",
         "3550",
         "0"
        ],
        [
         "Torgersen",
         "42.1",
         "19.1",
         "195",
         "4000",
         "0"
        ],
        [
         "Torgersen",
         "34.6",
         "17.2",
         "189",
         "3200",
         "0"
        ],
        [
         "Torgersen",
         "42.9",
         "17.6",
         "196",
         "4700",
         "0"
        ],
        [
         "Torgersen",
         "36.7",
         "18.8",
         "187",
         "3800",
         "0"
        ],
        [
         "Torgersen",
         "35.1",
         "19.4",
         "193",
         "4200",
         "0"
        ],
        [
         "Dream",
         "37.3",
         "17.8",
         "191",
         "3350",
         "0"
        ],
        [
         "Dream",
         "41.3",
         "20.3",
         "194",
         "3550",
         "0"
        ],
        [
         "Dream",
         "36.3",
         "19.5",
         "190",
         "3800",
         "0"
        ],
        [
         "Dream",
         "36.9",
         "18.6",
         "189",
         "3500",
         "0"
        ],
        [
         "Dream",
         "38.3",
         "19.2",
         "189",
         "3950",
         "0"
        ],
        [
         "Dream",
         "38.9",
         "18.8",
         "190",
         "3600",
         "0"
        ],
        [
         "Dream",
         "35.7",
         "18",
         "202",
         "3550",
         "0"
        ],
        [
         "Dream",
         "41.1",
         "18.1",
         "205",
         "4300",
         "0"
        ],
        [
         "Dream",
         "34",
         "17.1",
         "185",
         "3400",
         "0"
        ],
        [
         "Dream",
         "39.6",
         "18.1",
         "186",
         "4450",
         "0"
        ],
        [
         "Dream",
         "36.2",
         "17.3",
         "187",
         "3300",
         "0"
        ],
        [
         "Dream",
         "40.8",
         "18.9",
         "208",
         "4300",
         "0"
        ],
        [
         "Dream",
         "38.1",
         "18.6",
         "190",
         "3700",
         "0"
        ],
        [
         "Dream",
         "40.3",
         "18.5",
         "196",
         "4350",
         "0"
        ],
        [
         "Dream",
         "33.1",
         "16.1",
         "178",
         "2900",
         "0"
        ],
        [
         "Dream",
         "43.2",
         "18.5",
         "192",
         "4100",
         "0"
        ],
        [
         "Biscoe",
         "35",
         "17.9",
         "192",
         "3725",
         "0"
        ],
        [
         "Biscoe",
         "41",
         "20",
         "203",
         "4725",
         "0"
        ],
        [
         "Biscoe",
         "37.7",
         "16",
         "183",
         "3075",
         "0"
        ],
        [
         "Biscoe",
         "37.8",
         "20",
         "190",
         "4250",
         "0"
        ],
        [
         "Biscoe",
         "37.9",
         "18.6",
         "193",
         "2925",
         "0"
        ],
        [
         "Biscoe",
         "39.7",
         "18.9",
         "184",
         "3550",
         "0"
        ],
        [
         "Biscoe",
         "38.6",
         "17.2",
         "199",
         "3750",
         "0"
        ],
        [
         "Biscoe",
         "38.2",
         "20",
         "190",
         "3900",
         "0"
        ],
        [
         "Biscoe",
         "38.1",
         "17",
         "181",
         "3175",
         "0"
        ],
        [
         "Biscoe",
         "43.2",
         "19",
         "197",
         "4775",
         "0"
        ],
        [
         "Biscoe",
         "38.1",
         "16.5",
         "198",
         "3825",
         "0"
        ],
        [
         "Biscoe",
         "45.6",
         "20.3",
         "191",
         "4600",
         "0"
        ],
        [
         "Biscoe",
         "39.7",
         "17.7",
         "193",
         "3200",
         "0"
        ],
        [
         "Biscoe",
         "42.2",
         "19.5",
         "197",
         "4275",
         "0"
        ],
        [
         "Biscoe",
         "39.6",
         "20.7",
         "191",
         "3900",
         "0"
        ],
        [
         "Biscoe",
         "42.7",
         "18.3",
         "196",
         "4075",
         "0"
        ],
        [
         "Torgersen",
         "38.6",
         "17",
         "188",
         "2900",
         "0"
        ],
        [
         "Torgersen",
         "37.3",
         "20.5",
         "199",
         "3775",
         "0"
        ],
        [
         "Torgersen",
         "35.7",
         "17",
         "189",
         "3350",
         "0"
        ],
        [
         "Torgersen",
         "41.1",
         "18.6",
         "189",
         "3325",
         "0"
        ],
        [
         "Torgersen",
         "36.2",
         "17.2",
         "187",
         "3150",
         "0"
        ],
        [
         "Torgersen",
         "37.7",
         "19.8",
         "198",
         "3500",
         "0"
        ],
        [
         "Torgersen",
         "40.2",
         "17",
         "176",
         "3450",
         "0"
        ],
        [
         "Torgersen",
         "41.4",
         "18.5",
         "202",
         "3875",
         "0"
        ],
        [
         "Torgersen",
         "35.2",
         "15.9",
         "186",
         "3050",
         "0"
        ],
        [
         "Torgersen",
         "40.6",
         "19",
         "199",
         "4000",
         "0"
        ],
        [
         "Torgersen",
         "38.8",
         "17.6",
         "191",
         "3275",
         "0"
        ],
        [
         "Torgersen",
         "41.5",
         "18.3",
         "195",
         "4300",
         "0"
        ],
        [
         "Torgersen",
         "39",
         "17.1",
         "191",
         "3050",
         "0"
        ],
        [
         "Torgersen",
         "44.1",
         "18",
         "210",
         "4000",
         "0"
        ],
        [
         "Torgersen",
         "38.5",
         "17.9",
         "190",
         "3325",
         "0"
        ],
        [
         "Torgersen",
         "43.1",
         "19.2",
         "197",
         "3500",
         "0"
        ],
        [
         "Dream",
         "36.8",
         "18.5",
         "193",
         "3500",
         "0"
        ],
        [
         "Dream",
         "37.5",
         "18.5",
         "199",
         "4475",
         "0"
        ],
        [
         "Dream",
         "38.1",
         "17.6",
         "187",
         "3425",
         "0"
        ],
        [
         "Dream",
         "41.1",
         "17.5",
         "190",
         "3900",
         "0"
        ],
        [
         "Dream",
         "35.6",
         "17.5",
         "191",
         "3175",
         "0"
        ],
        [
         "Dream",
         "40.2",
         "20.1",
         "200",
         "3975",
         "0"
        ],
        [
         "Dream",
         "37",
         "16.5",
         "185",
         "3400",
         "0"
        ],
        [
         "Dream",
         "39.7",
         "17.9",
         "193",
         "4250",
         "0"
        ],
        [
         "Dream",
         "40.2",
         "17.1",
         "193",
         "3400",
         "0"
        ],
        [
         "Dream",
         "40.6",
         "17.2",
         "187",
         "3475",
         "0"
        ],
        [
         "Dream",
         "32.1",
         "15.5",
         "188",
         "3050",
         "0"
        ],
        [
         "Dream",
         "40.7",
         "17",
         "190",
         "3725",
         "0"
        ],
        [
         "Dream",
         "37.3",
         "16.8",
         "192",
         "3000",
         "0"
        ],
        [
         "Dream",
         "39",
         "18.7",
         "185",
         "3650",
         "0"
        ],
        [
         "Dream",
         "39.2",
         "18.6",
         "190",
         "4250",
         "0"
        ],
        [
         "Dream",
         "36.6",
         "18.4",
         "184",
         "3475",
         "0"
        ],
        [
         "Dream",
         "36",
         "17.8",
         "195",
         "3450",
         "0"
        ],
        [
         "Dream",
         "37.8",
         "18.1",
         "193",
         "3750",
         "0"
        ],
        [
         "Dream",
         "36",
         "17.1",
         "187",
         "3700",
         "0"
        ],
        [
         "Dream",
         "41.5",
         "18.5",
         "201",
         "4000",
         "0"
        ],
        [
         "Biscoe",
         "46.1",
         "13.2",
         "211",
         "4500",
         "1"
        ],
        [
         "Biscoe",
         "50",
         "16.3",
         "230",
         "5700",
         "1"
        ],
        [
         "Biscoe",
         "48.7",
         "14.1",
         "210",
         "4450",
         "1"
        ],
        [
         "Biscoe",
         "50",
         "15.2",
         "218",
         "5700",
         "1"
        ],
        [
         "Biscoe",
         "47.6",
         "14.5",
         "215",
         "5400",
         "1"
        ],
        [
         "Biscoe",
         "46.5",
         "13.5",
         "210",
         "4550",
         "1"
        ],
        [
         "Biscoe",
         "45.4",
         "14.6",
         "211",
         "4800",
         "1"
        ],
        [
         "Biscoe",
         "46.7",
         "15.3",
         "219",
         "5200",
         "1"
        ],
        [
         "Biscoe",
         "43.3",
         "13.4",
         "209",
         "4400",
         "1"
        ],
        [
         "Biscoe",
         "46.8",
         "15.4",
         "215",
         "5150",
         "1"
        ],
        [
         "Biscoe",
         "40.9",
         "13.7",
         "214",
         "4650",
         "1"
        ],
        [
         "Biscoe",
         "49",
         "16.1",
         "216",
         "5550",
         "1"
        ],
        [
         "Biscoe",
         "45.5",
         "13.7",
         "214",
         "4650",
         "1"
        ],
        [
         "Biscoe",
         "48.4",
         "14.6",
         "213",
         "5850",
         "1"
        ],
        [
         "Biscoe",
         "45.8",
         "14.6",
         "210",
         "4200",
         "1"
        ],
        [
         "Biscoe",
         "49.3",
         "15.7",
         "217",
         "5850",
         "1"
        ],
        [
         "Biscoe",
         "42",
         "13.5",
         "210",
         "4150",
         "1"
        ],
        [
         "Biscoe",
         "49.2",
         "15.2",
         "221",
         "6300",
         "1"
        ],
        [
         "Biscoe",
         "46.2",
         "14.5",
         "209",
         "4800",
         "1"
        ],
        [
         "Biscoe",
         "48.7",
         "15.1",
         "222",
         "5350",
         "1"
        ],
        [
         "Biscoe",
         "50.2",
         "14.3",
         "218",
         "5700",
         "1"
        ],
        [
         "Biscoe",
         "45.1",
         "14.5",
         "215",
         "5000",
         "1"
        ],
        [
         "Biscoe",
         "46.5",
         "14.5",
         "213",
         "4400",
         "1"
        ],
        [
         "Biscoe",
         "46.3",
         "15.8",
         "215",
         "5050",
         "1"
        ],
        [
         "Biscoe",
         "42.9",
         "13.1",
         "215",
         "5000",
         "1"
        ],
        [
         "Biscoe",
         "46.1",
         "15.1",
         "215",
         "5100",
         "1"
        ],
        [
         "Biscoe",
         "44.5",
         "14.3",
         "216",
         "4100",
         "1"
        ],
        [
         "Biscoe",
         "47.8",
         "15",
         "215",
         "5650",
         "1"
        ],
        [
         "Biscoe",
         "48.2",
         "14.3",
         "210",
         "4600",
         "1"
        ],
        [
         "Biscoe",
         "50",
         "15.3",
         "220",
         "5550",
         "1"
        ],
        [
         "Biscoe",
         "47.3",
         "15.3",
         "222",
         "5250",
         "1"
        ],
        [
         "Biscoe",
         "42.8",
         "14.2",
         "209",
         "4700",
         "1"
        ],
        [
         "Biscoe",
         "45.1",
         "14.5",
         "207",
         "5050",
         "1"
        ],
        [
         "Biscoe",
         "59.6",
         "17",
         "230",
         "6050",
         "1"
        ],
        [
         "Biscoe",
         "49.1",
         "14.8",
         "220",
         "5150",
         "1"
        ],
        [
         "Biscoe",
         "48.4",
         "16.3",
         "220",
         "5400",
         "1"
        ],
        [
         "Biscoe",
         "42.6",
         "13.7",
         "213",
         "4950",
         "1"
        ],
        [
         "Biscoe",
         "44.4",
         "17.3",
         "219",
         "5250",
         "1"
        ],
        [
         "Biscoe",
         "44",
         "13.6",
         "208",
         "4350",
         "1"
        ],
        [
         "Biscoe",
         "48.7",
         "15.7",
         "208",
         "5350",
         "1"
        ],
        [
         "Biscoe",
         "42.7",
         "13.7",
         "208",
         "3950",
         "1"
        ],
        [
         "Biscoe",
         "49.6",
         "16",
         "225",
         "5700",
         "1"
        ],
        [
         "Biscoe",
         "45.3",
         "13.7",
         "210",
         "4300",
         "1"
        ],
        [
         "Biscoe",
         "49.6",
         "15",
         "216",
         "4750",
         "1"
        ],
        [
         "Biscoe",
         "50.5",
         "15.9",
         "222",
         "5550",
         "1"
        ],
        [
         "Biscoe",
         "43.6",
         "13.9",
         "217",
         "4900",
         "1"
        ],
        [
         "Biscoe",
         "45.5",
         "13.9",
         "210",
         "4200",
         "1"
        ],
        [
         "Biscoe",
         "50.5",
         "15.9",
         "225",
         "5400",
         "1"
        ],
        [
         "Biscoe",
         "44.9",
         "13.3",
         "213",
         "5100",
         "1"
        ],
        [
         "Biscoe",
         "45.2",
         "15.8",
         "215",
         "5300",
         "1"
        ],
        [
         "Biscoe",
         "46.6",
         "14.2",
         "210",
         "4850",
         "1"
        ],
        [
         "Biscoe",
         "48.5",
         "14.1",
         "220",
         "5300",
         "1"
        ],
        [
         "Biscoe",
         "45.1",
         "14.4",
         "210",
         "4400",
         "1"
        ],
        [
         "Biscoe",
         "50.1",
         "15",
         "225",
         "5000",
         "1"
        ],
        [
         "Biscoe",
         "46.5",
         "14.4",
         "217",
         "4900",
         "1"
        ],
        [
         "Biscoe",
         "45",
         "15.4",
         "220",
         "5050",
         "1"
        ],
        [
         "Biscoe",
         "43.8",
         "13.9",
         "208",
         "4300",
         "1"
        ],
        [
         "Biscoe",
         "45.5",
         "15",
         "220",
         "5000",
         "1"
        ],
        [
         "Biscoe",
         "43.2",
         "14.5",
         "208",
         "4450",
         "1"
        ],
        [
         "Biscoe",
         "50.4",
         "15.3",
         "224",
         "5550",
         "1"
        ],
        [
         "Biscoe",
         "45.3",
         "13.8",
         "208",
         "4200",
         "1"
        ],
        [
         "Biscoe",
         "46.2",
         "14.9",
         "221",
         "5300",
         "1"
        ],
        [
         "Biscoe",
         "45.7",
         "13.9",
         "214",
         "4400",
         "1"
        ],
        [
         "Biscoe",
         "54.3",
         "15.7",
         "231",
         "5650",
         "1"
        ],
        [
         "Biscoe",
         "45.8",
         "14.2",
         "219",
         "4700",
         "1"
        ],
        [
         "Biscoe",
         "49.8",
         "16.8",
         "230",
         "5700",
         "1"
        ],
        [
         "Biscoe",
         "46.2",
         "14.4",
         "214",
         "4650",
         "1"
        ],
        [
         "Biscoe",
         "49.5",
         "16.2",
         "229",
         "5800",
         "1"
        ],
        [
         "Biscoe",
         "43.5",
         "14.2",
         "220",
         "4700",
         "1"
        ],
        [
         "Biscoe",
         "50.7",
         "15",
         "223",
         "5550",
         "1"
        ],
        [
         "Biscoe",
         "47.7",
         "15",
         "216",
         "4750",
         "1"
        ],
        [
         "Biscoe",
         "46.4",
         "15.6",
         "221",
         "5000",
         "1"
        ],
        [
         "Biscoe",
         "48.2",
         "15.6",
         "221",
         "5100",
         "1"
        ],
        [
         "Biscoe",
         "46.5",
         "14.8",
         "217",
         "5200",
         "1"
        ],
        [
         "Biscoe",
         "46.4",
         "15",
         "216",
         "4700",
         "1"
        ],
        [
         "Biscoe",
         "48.6",
         "16",
         "230",
         "5800",
         "1"
        ],
        [
         "Biscoe",
         "47.5",
         "14.2",
         "209",
         "4600",
         "1"
        ],
        [
         "Biscoe",
         "51.1",
         "16.3",
         "220",
         "6000",
         "1"
        ],
        [
         "Biscoe",
         "45.2",
         "13.8",
         "215",
         "4750",
         "1"
        ],
        [
         "Biscoe",
         "45.2",
         "16.4",
         "223",
         "5950",
         "1"
        ],
        [
         "Biscoe",
         "49.1",
         "14.5",
         "212",
         "4625",
         "1"
        ],
        [
         "Biscoe",
         "52.5",
         "15.6",
         "221",
         "5450",
         "1"
        ],
        [
         "Biscoe",
         "47.4",
         "14.6",
         "212",
         "4725",
         "1"
        ],
        [
         "Biscoe",
         "50",
         "15.9",
         "224",
         "5350",
         "1"
        ],
        [
         "Biscoe",
         "44.9",
         "13.8",
         "212",
         "4750",
         "1"
        ],
        [
         "Biscoe",
         "50.8",
         "17.3",
         "228",
         "5600",
         "1"
        ],
        [
         "Biscoe",
         "43.4",
         "14.4",
         "218",
         "4600",
         "1"
        ],
        [
         "Biscoe",
         "51.3",
         "14.2",
         "218",
         "5300",
         "1"
        ],
        [
         "Biscoe",
         "47.5",
         "14",
         "212",
         "4875",
         "1"
        ],
        [
         "Biscoe",
         "52.1",
         "17",
         "230",
         "5550",
         "1"
        ],
        [
         "Biscoe",
         "47.5",
         "15",
         "218",
         "4950",
         "1"
        ],
        [
         "Biscoe",
         "52.2",
         "17.1",
         "228",
         "5400",
         "1"
        ],
        [
         "Biscoe",
         "45.5",
         "14.5",
         "212",
         "4750",
         "1"
        ],
        [
         "Biscoe",
         "49.5",
         "16.1",
         "224",
         "5650",
         "1"
        ],
        [
         "Biscoe",
         "44.5",
         "14.7",
         "214",
         "4850",
         "1"
        ],
        [
         "Biscoe",
         "50.8",
         "15.7",
         "226",
         "5200",
         "1"
        ],
        [
         "Biscoe",
         "49.4",
         "15.8",
         "216",
         "4925",
         "1"
        ],
        [
         "Biscoe",
         "46.9",
         "14.6",
         "222",
         "4875",
         "1"
        ],
        [
         "Biscoe",
         "48.4",
         "14.4",
         "203",
         "4625",
         "1"
        ],
        [
         "Biscoe",
         "51.1",
         "16.5",
         "225",
         "5250",
         "1"
        ],
        [
         "Biscoe",
         "48.5",
         "15",
         "219",
         "4850",
         "1"
        ],
        [
         "Biscoe",
         "55.9",
         "17",
         "228",
         "5600",
         "1"
        ],
        [
         "Biscoe",
         "47.2",
         "15.5",
         "215",
         "4975",
         "1"
        ],
        [
         "Biscoe",
         "49.1",
         "15",
         "228",
         "5500",
         "1"
        ],
        [
         "Biscoe",
         "47.3",
         "13.8",
         "216",
         "4725",
         "1"
        ],
        [
         "Biscoe",
         "46.8",
         "16.1",
         "215",
         "5500",
         "1"
        ],
        [
         "Biscoe",
         "41.7",
         "14.7",
         "210",
         "4700",
         "1"
        ],
        [
         "Biscoe",
         "53.4",
         "15.8",
         "219",
         "5500",
         "1"
        ],
        [
         "Biscoe",
         "43.3",
         "14",
         "208",
         "4575",
         "1"
        ],
        [
         "Biscoe",
         "48.1",
         "15.1",
         "209",
         "5500",
         "1"
        ],
        [
         "Biscoe",
         "50.5",
         "15.2",
         "216",
         "5000",
         "1"
        ],
        [
         "Biscoe",
         "49.8",
         "15.9",
         "229",
         "5950",
         "1"
        ],
        [
         "Biscoe",
         "43.5",
         "15.2",
         "213",
         "4650",
         "1"
        ],
        [
         "Biscoe",
         "51.5",
         "16.3",
         "230",
         "5500",
         "1"
        ],
        [
         "Biscoe",
         "46.2",
         "14.1",
         "217",
         "4375",
         "1"
        ],
        [
         "Biscoe",
         "55.1",
         "16",
         "230",
         "5850",
         "1"
        ],
        [
         "Biscoe",
         "44.5",
         "15.7",
         "217",
         "4875",
         "1"
        ],
        [
         "Biscoe",
         "48.8",
         "16.2",
         "222",
         "6000",
         "1"
        ],
        [
         "Biscoe",
         "47.2",
         "13.7",
         "214",
         "4925",
         "1"
        ],
        [
         "Biscoe",
         null,
         null,
         null,
         null,
         "1"
        ],
        [
         "Biscoe",
         "46.8",
         "14.3",
         "215",
         "4850",
         "1"
        ],
        [
         "Biscoe",
         "50.4",
         "15.7",
         "222",
         "5750",
         "1"
        ],
        [
         "Biscoe",
         "45.2",
         "14.8",
         "212",
         "5200",
         "1"
        ],
        [
         "Biscoe",
         "49.9",
         "16.1",
         "213",
         "5400",
         "1"
        ],
        [
         "Dream",
         "46.5",
         "17.9",
         "192",
         "3500",
         "2"
        ],
        [
         "Dream",
         "50",
         "19.5",
         "196",
         "3900",
         "2"
        ],
        [
         "Dream",
         "51.3",
         "19.2",
         "193",
         "3650",
         "2"
        ],
        [
         "Dream",
         "45.4",
         "18.7",
         "188",
         "3525",
         "2"
        ],
        [
         "Dream",
         "52.7",
         "19.8",
         "197",
         "3725",
         "2"
        ],
        [
         "Dream",
         "45.2",
         "17.8",
         "198",
         "3950",
         "2"
        ],
        [
         "Dream",
         "46.1",
         "18.2",
         "178",
         "3250",
         "2"
        ],
        [
         "Dream",
         "51.3",
         "18.2",
         "197",
         "3750",
         "2"
        ],
        [
         "Dream",
         "46",
         "18.9",
         "195",
         "4150",
         "2"
        ],
        [
         "Dream",
         "51.3",
         "19.9",
         "198",
         "3700",
         "2"
        ],
        [
         "Dream",
         "46.6",
         "17.8",
         "193",
         "3800",
         "2"
        ],
        [
         "Dream",
         "51.7",
         "20.3",
         "194",
         "3775",
         "2"
        ],
        [
         "Dream",
         "47",
         "17.3",
         "185",
         "3700",
         "2"
        ],
        [
         "Dream",
         "52",
         "18.1",
         "201",
         "4050",
         "2"
        ],
        [
         "Dream",
         "45.9",
         "17.1",
         "190",
         "3575",
         "2"
        ],
        [
         "Dream",
         "50.5",
         "19.6",
         "201",
         "4050",
         "2"
        ],
        [
         "Dream",
         "50.3",
         "20",
         "197",
         "3300",
         "2"
        ],
        [
         "Dream",
         "58",
         "17.8",
         "181",
         "3700",
         "2"
        ],
        [
         "Dream",
         "46.4",
         "18.6",
         "190",
         "3450",
         "2"
        ],
        [
         "Dream",
         "49.2",
         "18.2",
         "195",
         "4400",
         "2"
        ],
        [
         "Dream",
         "42.4",
         "17.3",
         "181",
         "3600",
         "2"
        ],
        [
         "Dream",
         "48.5",
         "17.5",
         "191",
         "3400",
         "2"
        ],
        [
         "Dream",
         "43.2",
         "16.6",
         "187",
         "2900",
         "2"
        ],
        [
         "Dream",
         "50.6",
         "19.4",
         "193",
         "3800",
         "2"
        ],
        [
         "Dream",
         "46.7",
         "17.9",
         "195",
         "3300",
         "2"
        ],
        [
         "Dream",
         "52",
         "19",
         "197",
         "4150",
         "2"
        ],
        [
         "Dream",
         "50.5",
         "18.4",
         "200",
         "3400",
         "2"
        ],
        [
         "Dream",
         "49.5",
         "19",
         "200",
         "3800",
         "2"
        ],
        [
         "Dream",
         "46.4",
         "17.8",
         "191",
         "3700",
         "2"
        ],
        [
         "Dream",
         "52.8",
         "20",
         "205",
         "4550",
         "2"
        ],
        [
         "Dream",
         "40.9",
         "16.6",
         "187",
         "3200",
         "2"
        ],
        [
         "Dream",
         "54.2",
         "20.8",
         "201",
         "4300",
         "2"
        ],
        [
         "Dream",
         "42.5",
         "16.7",
         "187",
         "3350",
         "2"
        ],
        [
         "Dream",
         "51",
         "18.8",
         "203",
         "4100",
         "2"
        ],
        [
         "Dream",
         "49.7",
         "18.6",
         "195",
         "3600",
         "2"
        ],
        [
         "Dream",
         "47.5",
         "16.8",
         "199",
         "3900",
         "2"
        ],
        [
         "Dream",
         "47.6",
         "18.3",
         "195",
         "3850",
         "2"
        ],
        [
         "Dream",
         "52",
         "20.7",
         "210",
         "4800",
         "2"
        ],
        [
         "Dream",
         "46.9",
         "16.6",
         "192",
         "2700",
         "2"
        ],
        [
         "Dream",
         "53.5",
         "19.9",
         "205",
         "4500",
         "2"
        ],
        [
         "Dream",
         "49",
         "19.5",
         "210",
         "3950",
         "2"
        ],
        [
         "Dream",
         "46.2",
         "17.5",
         "187",
         "3650",
         "2"
        ],
        [
         "Dream",
         "50.9",
         "19.1",
         "196",
         "3550",
         "2"
        ],
        [
         "Dream",
         "45.5",
         "17",
         "196",
         "3500",
         "2"
        ],
        [
         "Dream",
         "50.9",
         "17.9",
         "196",
         "3675",
         "2"
        ],
        [
         "Dream",
         "50.8",
         "18.5",
         "201",
         "4450",
         "2"
        ],
        [
         "Dream",
         "50.1",
         "17.9",
         "190",
         "3400",
         "2"
        ],
        [
         "Dream",
         "49",
         "19.6",
         "212",
         "4300",
         "2"
        ],
        [
         "Dream",
         "51.5",
         "18.7",
         "187",
         "3250",
         "2"
        ],
        [
         "Dream",
         "49.8",
         "17.3",
         "198",
         "3675",
         "2"
        ],
        [
         "Dream",
         "48.1",
         "16.4",
         "199",
         "3325",
         "2"
        ],
        [
         "Dream",
         "51.4",
         "19",
         "201",
         "3950",
         "2"
        ],
        [
         "Dream",
         "45.7",
         "17.3",
         "193",
         "3600",
         "2"
        ],
        [
         "Dream",
         "50.7",
         "19.7",
         "203",
         "4050",
         "2"
        ],
        [
         "Dream",
         "42.5",
         "17.3",
         "187",
         "3350",
         "2"
        ],
        [
         "Dream",
         "52.2",
         "18.8",
         "197",
         "3450",
         "2"
        ],
        [
         "Dream",
         "45.2",
         "16.6",
         "191",
         "3250",
         "2"
        ],
        [
         "Dream",
         "49.3",
         "19.9",
         "203",
         "4050",
         "2"
        ],
        [
         "Dream",
         "50.2",
         "18.8",
         "202",
         "3800",
         "2"
        ],
        [
         "Dream",
         "45.6",
         "19.4",
         "194",
         "3525",
         "2"
        ],
        [
         "Dream",
         "51.9",
         "19.5",
         "206",
         "3950",
         "2"
        ],
        [
         "Dream",
         "46.8",
         "16.5",
         "189",
         "3650",
         "2"
        ],
        [
         "Dream",
         "45.7",
         "17",
         "195",
         "3650",
         "2"
        ],
        [
         "Dream",
         "55.8",
         "19.8",
         "207",
         "4000",
         "2"
        ],
        [
         "Dream",
         "43.5",
         "18.1",
         "202",
         "3400",
         "2"
        ],
        [
         "Dream",
         "49.6",
         "18.2",
         "193",
         "3775",
         "2"
        ],
        [
         "Dream",
         "50.8",
         "19",
         "210",
         "4100",
         "2"
        ],
        [
         "Dream",
         "50.2",
         "18.7",
         "198",
         "3775",
         "2"
        ]
       ],
       "datasetInfos": [],
       "dbfsResultPath": null,
       "isJsonSchema": true,
       "metadata": {},
       "overflow": false,
       "plotOptions": {
        "customPlotOptions": {},
        "displayType": "table",
        "pivotAggregation": null,
        "pivotColumns": null,
        "xColumns": null,
        "yColumns": null
       },
       "removedWidgets": [],
       "schema": [
        {
         "metadata": "{}",
         "name": "Island",
         "type": "\"string\""
        },
        {
         "metadata": "{}",
         "name": "CulmenLength",
         "type": "\"string\""
        },
        {
         "metadata": "{}",
         "name": "CulmenDepth",
         "type": "\"string\""
        },
        {
         "metadata": "{}",
         "name": "FlipperLength",
         "type": "\"string\""
        },
        {
         "metadata": "{}",
         "name": "BodyMass",
         "type": "\"string\""
        },
        {
         "metadata": "{}",
         "name": "Species",
         "type": "\"string\""
        }
       ],
       "type": "table"
      }
     },
     "output_type": "display_data"
    }
   ],
   "source": [
    "df = spark.read.format(\"csv\").option(\"header\", \"true\").load(\"/ml_lab/penguins.csv\")\n",
    "display(df)"
   ]
  },
  {
   "cell_type": "markdown",
   "metadata": {
    "application/vnd.databricks.v1+cell": {
     "cellMetadata": {},
     "inputWidgets": {},
     "nuid": "89ba3f32-5a6d-4aa3-8c3c-2c02c190cdc4",
     "showTitle": false,
     "tableResultSettingsMap": {},
     "title": ""
    }
   },
   "source": [
    "Since this data was loaded from a text file and contained some blank values, Spark has assigned a string data type to all of the columns.\n",
    "\n",
    "The data itself consists of measurements of the following details of penguins that have been observed in Antarctica:\n",
    "\n",
    "* Island: The island in Antarctica where the penguin was observed.\n",
    "* CulmenLength: The length in mm of the penguin’s culmen (bill).\n",
    "* CulmenDepth: The depth in mm of the penguin’s culmen.\n",
    "* FlipperLength: The length in mm of the penguin’s flipper.\n",
    "* BodyMass: The body mass of the penguin in grams.\n",
    "* Species: An integer value that represents the species of the penguin:\n",
    "  * 0: Adelie\n",
    "  * 1: Gentoo\n",
    "  * 2: Chinstrap\n",
    "\n",
    "Our goal in this project is to use the observed characteristics of a penguin (its features) in order to predict its species (which in machine learning terminology, we call the label)."
   ]
  },
  {
   "cell_type": "markdown",
   "metadata": {
    "application/vnd.databricks.v1+cell": {
     "cellMetadata": {},
     "inputWidgets": {},
     "nuid": "67a785f2-cb38-4a8d-9f78-94476b5582b6",
     "showTitle": false,
     "tableResultSettingsMap": {},
     "title": ""
    }
   },
   "source": [
    "* Transform data\n",
    "\n",
    "remove the rows with incomplete data by using the dropna method; apply appropriate data types to the data by using the select method with the col and astype functions"
   ]
  },
  {
   "cell_type": "code",
   "execution_count": 0,
   "metadata": {
    "application/vnd.databricks.v1+cell": {
     "cellMetadata": {
      "byteLimit": 2048000,
      "rowLimit": 10000
     },
     "inputWidgets": {},
     "nuid": "e0113fe0-0ff2-46b5-811a-b991c70ded34",
     "showTitle": false,
     "tableResultSettingsMap": {},
     "title": ""
    }
   },
   "outputs": [
    {
     "data": {
      "text/html": [
       "<style scoped>\n",
       "  .table-result-container {\n",
       "    max-height: 300px;\n",
       "    overflow: auto;\n",
       "  }\n",
       "  table, th, td {\n",
       "    border: 1px solid black;\n",
       "    border-collapse: collapse;\n",
       "  }\n",
       "  th, td {\n",
       "    padding: 5px;\n",
       "  }\n",
       "  th {\n",
       "    text-align: left;\n",
       "  }\n",
       "</style><div class='table-result-container'><table class='table-result'><thead style='background-color: white'><tr><th>Island</th><th>CulmenLength</th><th>CulmenDepth</th><th>FlipperLength</th><th>BodyMass</th><th>Species</th></tr></thead><tbody><tr><td>Torgersen</td><td>39.1</td><td>18.7</td><td>181.0</td><td>3750.0</td><td>0</td></tr><tr><td>Torgersen</td><td>39.5</td><td>17.4</td><td>186.0</td><td>3800.0</td><td>0</td></tr><tr><td>Torgersen</td><td>40.3</td><td>18.0</td><td>195.0</td><td>3250.0</td><td>0</td></tr><tr><td>Torgersen</td><td>36.7</td><td>19.3</td><td>193.0</td><td>3450.0</td><td>0</td></tr><tr><td>Torgersen</td><td>39.3</td><td>20.6</td><td>190.0</td><td>3650.0</td><td>0</td></tr><tr><td>Torgersen</td><td>38.9</td><td>17.8</td><td>181.0</td><td>3625.0</td><td>0</td></tr><tr><td>Torgersen</td><td>39.2</td><td>19.6</td><td>195.0</td><td>4675.0</td><td>0</td></tr><tr><td>Torgersen</td><td>34.1</td><td>18.1</td><td>193.0</td><td>3475.0</td><td>0</td></tr><tr><td>Torgersen</td><td>42.0</td><td>20.2</td><td>190.0</td><td>4250.0</td><td>0</td></tr><tr><td>Torgersen</td><td>37.8</td><td>17.1</td><td>186.0</td><td>3300.0</td><td>0</td></tr><tr><td>Torgersen</td><td>37.8</td><td>17.3</td><td>180.0</td><td>3700.0</td><td>0</td></tr><tr><td>Torgersen</td><td>41.1</td><td>17.6</td><td>182.0</td><td>3200.0</td><td>0</td></tr><tr><td>Torgersen</td><td>38.6</td><td>21.2</td><td>191.0</td><td>3800.0</td><td>0</td></tr><tr><td>Torgersen</td><td>34.6</td><td>21.1</td><td>198.0</td><td>4400.0</td><td>0</td></tr><tr><td>Torgersen</td><td>36.6</td><td>17.8</td><td>185.0</td><td>3700.0</td><td>0</td></tr><tr><td>Torgersen</td><td>38.7</td><td>19.0</td><td>195.0</td><td>3450.0</td><td>0</td></tr><tr><td>Torgersen</td><td>42.5</td><td>20.7</td><td>197.0</td><td>4500.0</td><td>0</td></tr><tr><td>Torgersen</td><td>34.4</td><td>18.4</td><td>184.0</td><td>3325.0</td><td>0</td></tr><tr><td>Torgersen</td><td>46.0</td><td>21.5</td><td>194.0</td><td>4200.0</td><td>0</td></tr><tr><td>Biscoe</td><td>37.8</td><td>18.3</td><td>174.0</td><td>3400.0</td><td>0</td></tr><tr><td>Biscoe</td><td>37.7</td><td>18.7</td><td>180.0</td><td>3600.0</td><td>0</td></tr><tr><td>Biscoe</td><td>35.9</td><td>19.2</td><td>189.0</td><td>3800.0</td><td>0</td></tr><tr><td>Biscoe</td><td>38.2</td><td>18.1</td><td>185.0</td><td>3950.0</td><td>0</td></tr><tr><td>Biscoe</td><td>38.8</td><td>17.2</td><td>180.0</td><td>3800.0</td><td>0</td></tr><tr><td>Biscoe</td><td>35.3</td><td>18.9</td><td>187.0</td><td>3800.0</td><td>0</td></tr><tr><td>Biscoe</td><td>40.6</td><td>18.6</td><td>183.0</td><td>3550.0</td><td>0</td></tr><tr><td>Biscoe</td><td>40.5</td><td>17.9</td><td>187.0</td><td>3200.0</td><td>0</td></tr><tr><td>Biscoe</td><td>37.9</td><td>18.6</td><td>172.0</td><td>3150.0</td><td>0</td></tr><tr><td>Biscoe</td><td>40.5</td><td>18.9</td><td>180.0</td><td>3950.0</td><td>0</td></tr><tr><td>Dream</td><td>39.5</td><td>16.7</td><td>178.0</td><td>3250.0</td><td>0</td></tr><tr><td>Dream</td><td>37.2</td><td>18.1</td><td>178.0</td><td>3900.0</td><td>0</td></tr><tr><td>Dream</td><td>39.5</td><td>17.8</td><td>188.0</td><td>3300.0</td><td>0</td></tr><tr><td>Dream</td><td>40.9</td><td>18.9</td><td>184.0</td><td>3900.0</td><td>0</td></tr><tr><td>Dream</td><td>36.4</td><td>17.0</td><td>195.0</td><td>3325.0</td><td>0</td></tr><tr><td>Dream</td><td>39.2</td><td>21.1</td><td>196.0</td><td>4150.0</td><td>0</td></tr><tr><td>Dream</td><td>38.8</td><td>20.0</td><td>190.0</td><td>3950.0</td><td>0</td></tr><tr><td>Dream</td><td>42.2</td><td>18.5</td><td>180.0</td><td>3550.0</td><td>0</td></tr><tr><td>Dream</td><td>37.6</td><td>19.3</td><td>181.0</td><td>3300.0</td><td>0</td></tr><tr><td>Dream</td><td>39.8</td><td>19.1</td><td>184.0</td><td>4650.0</td><td>0</td></tr><tr><td>Dream</td><td>36.5</td><td>18.0</td><td>182.0</td><td>3150.0</td><td>0</td></tr><tr><td>Dream</td><td>40.8</td><td>18.4</td><td>195.0</td><td>3900.0</td><td>0</td></tr><tr><td>Dream</td><td>36.0</td><td>18.5</td><td>186.0</td><td>3100.0</td><td>0</td></tr><tr><td>Dream</td><td>44.1</td><td>19.7</td><td>196.0</td><td>4400.0</td><td>0</td></tr><tr><td>Dream</td><td>37.0</td><td>16.9</td><td>185.0</td><td>3000.0</td><td>0</td></tr><tr><td>Dream</td><td>39.6</td><td>18.8</td><td>190.0</td><td>4600.0</td><td>0</td></tr><tr><td>Dream</td><td>41.1</td><td>19.0</td><td>182.0</td><td>3425.0</td><td>0</td></tr><tr><td>Dream</td><td>37.5</td><td>18.9</td><td>179.0</td><td>2975.0</td><td>0</td></tr><tr><td>Dream</td><td>36.0</td><td>17.9</td><td>190.0</td><td>3450.0</td><td>0</td></tr><tr><td>Dream</td><td>42.3</td><td>21.2</td><td>191.0</td><td>4150.0</td><td>0</td></tr><tr><td>Biscoe</td><td>39.6</td><td>17.7</td><td>186.0</td><td>3500.0</td><td>0</td></tr><tr><td>Biscoe</td><td>40.1</td><td>18.9</td><td>188.0</td><td>4300.0</td><td>0</td></tr><tr><td>Biscoe</td><td>35.0</td><td>17.9</td><td>190.0</td><td>3450.0</td><td>0</td></tr><tr><td>Biscoe</td><td>42.0</td><td>19.5</td><td>200.0</td><td>4050.0</td><td>0</td></tr><tr><td>Biscoe</td><td>34.5</td><td>18.1</td><td>187.0</td><td>2900.0</td><td>0</td></tr><tr><td>Biscoe</td><td>41.4</td><td>18.6</td><td>191.0</td><td>3700.0</td><td>0</td></tr><tr><td>Biscoe</td><td>39.0</td><td>17.5</td><td>186.0</td><td>3550.0</td><td>0</td></tr><tr><td>Biscoe</td><td>40.6</td><td>18.8</td><td>193.0</td><td>3800.0</td><td>0</td></tr><tr><td>Biscoe</td><td>36.5</td><td>16.6</td><td>181.0</td><td>2850.0</td><td>0</td></tr><tr><td>Biscoe</td><td>37.6</td><td>19.1</td><td>194.0</td><td>3750.0</td><td>0</td></tr><tr><td>Biscoe</td><td>35.7</td><td>16.9</td><td>185.0</td><td>3150.0</td><td>0</td></tr><tr><td>Biscoe</td><td>41.3</td><td>21.1</td><td>195.0</td><td>4400.0</td><td>0</td></tr><tr><td>Biscoe</td><td>37.6</td><td>17.0</td><td>185.0</td><td>3600.0</td><td>0</td></tr><tr><td>Biscoe</td><td>41.1</td><td>18.2</td><td>192.0</td><td>4050.0</td><td>0</td></tr><tr><td>Biscoe</td><td>36.4</td><td>17.1</td><td>184.0</td><td>2850.0</td><td>0</td></tr><tr><td>Biscoe</td><td>41.6</td><td>18.0</td><td>192.0</td><td>3950.0</td><td>0</td></tr><tr><td>Biscoe</td><td>35.5</td><td>16.2</td><td>195.0</td><td>3350.0</td><td>0</td></tr><tr><td>Biscoe</td><td>41.1</td><td>19.1</td><td>188.0</td><td>4100.0</td><td>0</td></tr><tr><td>Torgersen</td><td>35.9</td><td>16.6</td><td>190.0</td><td>3050.0</td><td>0</td></tr><tr><td>Torgersen</td><td>41.8</td><td>19.4</td><td>198.0</td><td>4450.0</td><td>0</td></tr><tr><td>Torgersen</td><td>33.5</td><td>19.0</td><td>190.0</td><td>3600.0</td><td>0</td></tr><tr><td>Torgersen</td><td>39.7</td><td>18.4</td><td>190.0</td><td>3900.0</td><td>0</td></tr><tr><td>Torgersen</td><td>39.6</td><td>17.2</td><td>196.0</td><td>3550.0</td><td>0</td></tr><tr><td>Torgersen</td><td>45.8</td><td>18.9</td><td>197.0</td><td>4150.0</td><td>0</td></tr><tr><td>Torgersen</td><td>35.5</td><td>17.5</td><td>190.0</td><td>3700.0</td><td>0</td></tr><tr><td>Torgersen</td><td>42.8</td><td>18.5</td><td>195.0</td><td>4250.0</td><td>0</td></tr><tr><td>Torgersen</td><td>40.9</td><td>16.8</td><td>191.0</td><td>3700.0</td><td>0</td></tr><tr><td>Torgersen</td><td>37.2</td><td>19.4</td><td>184.0</td><td>3900.0</td><td>0</td></tr><tr><td>Torgersen</td><td>36.2</td><td>16.1</td><td>187.0</td><td>3550.0</td><td>0</td></tr><tr><td>Torgersen</td><td>42.1</td><td>19.1</td><td>195.0</td><td>4000.0</td><td>0</td></tr><tr><td>Torgersen</td><td>34.6</td><td>17.2</td><td>189.0</td><td>3200.0</td><td>0</td></tr><tr><td>Torgersen</td><td>42.9</td><td>17.6</td><td>196.0</td><td>4700.0</td><td>0</td></tr><tr><td>Torgersen</td><td>36.7</td><td>18.8</td><td>187.0</td><td>3800.0</td><td>0</td></tr><tr><td>Torgersen</td><td>35.1</td><td>19.4</td><td>193.0</td><td>4200.0</td><td>0</td></tr><tr><td>Dream</td><td>37.3</td><td>17.8</td><td>191.0</td><td>3350.0</td><td>0</td></tr><tr><td>Dream</td><td>41.3</td><td>20.3</td><td>194.0</td><td>3550.0</td><td>0</td></tr><tr><td>Dream</td><td>36.3</td><td>19.5</td><td>190.0</td><td>3800.0</td><td>0</td></tr><tr><td>Dream</td><td>36.9</td><td>18.6</td><td>189.0</td><td>3500.0</td><td>0</td></tr><tr><td>Dream</td><td>38.3</td><td>19.2</td><td>189.0</td><td>3950.0</td><td>0</td></tr><tr><td>Dream</td><td>38.9</td><td>18.8</td><td>190.0</td><td>3600.0</td><td>0</td></tr><tr><td>Dream</td><td>35.7</td><td>18.0</td><td>202.0</td><td>3550.0</td><td>0</td></tr><tr><td>Dream</td><td>41.1</td><td>18.1</td><td>205.0</td><td>4300.0</td><td>0</td></tr><tr><td>Dream</td><td>34.0</td><td>17.1</td><td>185.0</td><td>3400.0</td><td>0</td></tr><tr><td>Dream</td><td>39.6</td><td>18.1</td><td>186.0</td><td>4450.0</td><td>0</td></tr><tr><td>Dream</td><td>36.2</td><td>17.3</td><td>187.0</td><td>3300.0</td><td>0</td></tr><tr><td>Dream</td><td>40.8</td><td>18.9</td><td>208.0</td><td>4300.0</td><td>0</td></tr><tr><td>Dream</td><td>38.1</td><td>18.6</td><td>190.0</td><td>3700.0</td><td>0</td></tr><tr><td>Dream</td><td>40.3</td><td>18.5</td><td>196.0</td><td>4350.0</td><td>0</td></tr><tr><td>Dream</td><td>33.1</td><td>16.1</td><td>178.0</td><td>2900.0</td><td>0</td></tr><tr><td>Dream</td><td>43.2</td><td>18.5</td><td>192.0</td><td>4100.0</td><td>0</td></tr><tr><td>Biscoe</td><td>35.0</td><td>17.9</td><td>192.0</td><td>3725.0</td><td>0</td></tr><tr><td>Biscoe</td><td>41.0</td><td>20.0</td><td>203.0</td><td>4725.0</td><td>0</td></tr><tr><td>Biscoe</td><td>37.7</td><td>16.0</td><td>183.0</td><td>3075.0</td><td>0</td></tr><tr><td>Biscoe</td><td>37.8</td><td>20.0</td><td>190.0</td><td>4250.0</td><td>0</td></tr><tr><td>Biscoe</td><td>37.9</td><td>18.6</td><td>193.0</td><td>2925.0</td><td>0</td></tr><tr><td>Biscoe</td><td>39.7</td><td>18.9</td><td>184.0</td><td>3550.0</td><td>0</td></tr><tr><td>Biscoe</td><td>38.6</td><td>17.2</td><td>199.0</td><td>3750.0</td><td>0</td></tr><tr><td>Biscoe</td><td>38.2</td><td>20.0</td><td>190.0</td><td>3900.0</td><td>0</td></tr><tr><td>Biscoe</td><td>38.1</td><td>17.0</td><td>181.0</td><td>3175.0</td><td>0</td></tr><tr><td>Biscoe</td><td>43.2</td><td>19.0</td><td>197.0</td><td>4775.0</td><td>0</td></tr><tr><td>Biscoe</td><td>38.1</td><td>16.5</td><td>198.0</td><td>3825.0</td><td>0</td></tr><tr><td>Biscoe</td><td>45.6</td><td>20.3</td><td>191.0</td><td>4600.0</td><td>0</td></tr><tr><td>Biscoe</td><td>39.7</td><td>17.7</td><td>193.0</td><td>3200.0</td><td>0</td></tr><tr><td>Biscoe</td><td>42.2</td><td>19.5</td><td>197.0</td><td>4275.0</td><td>0</td></tr><tr><td>Biscoe</td><td>39.6</td><td>20.7</td><td>191.0</td><td>3900.0</td><td>0</td></tr><tr><td>Biscoe</td><td>42.7</td><td>18.3</td><td>196.0</td><td>4075.0</td><td>0</td></tr><tr><td>Torgersen</td><td>38.6</td><td>17.0</td><td>188.0</td><td>2900.0</td><td>0</td></tr><tr><td>Torgersen</td><td>37.3</td><td>20.5</td><td>199.0</td><td>3775.0</td><td>0</td></tr><tr><td>Torgersen</td><td>35.7</td><td>17.0</td><td>189.0</td><td>3350.0</td><td>0</td></tr><tr><td>Torgersen</td><td>41.1</td><td>18.6</td><td>189.0</td><td>3325.0</td><td>0</td></tr><tr><td>Torgersen</td><td>36.2</td><td>17.2</td><td>187.0</td><td>3150.0</td><td>0</td></tr><tr><td>Torgersen</td><td>37.7</td><td>19.8</td><td>198.0</td><td>3500.0</td><td>0</td></tr><tr><td>Torgersen</td><td>40.2</td><td>17.0</td><td>176.0</td><td>3450.0</td><td>0</td></tr><tr><td>Torgersen</td><td>41.4</td><td>18.5</td><td>202.0</td><td>3875.0</td><td>0</td></tr><tr><td>Torgersen</td><td>35.2</td><td>15.9</td><td>186.0</td><td>3050.0</td><td>0</td></tr><tr><td>Torgersen</td><td>40.6</td><td>19.0</td><td>199.0</td><td>4000.0</td><td>0</td></tr><tr><td>Torgersen</td><td>38.8</td><td>17.6</td><td>191.0</td><td>3275.0</td><td>0</td></tr><tr><td>Torgersen</td><td>41.5</td><td>18.3</td><td>195.0</td><td>4300.0</td><td>0</td></tr><tr><td>Torgersen</td><td>39.0</td><td>17.1</td><td>191.0</td><td>3050.0</td><td>0</td></tr><tr><td>Torgersen</td><td>44.1</td><td>18.0</td><td>210.0</td><td>4000.0</td><td>0</td></tr><tr><td>Torgersen</td><td>38.5</td><td>17.9</td><td>190.0</td><td>3325.0</td><td>0</td></tr><tr><td>Torgersen</td><td>43.1</td><td>19.2</td><td>197.0</td><td>3500.0</td><td>0</td></tr><tr><td>Dream</td><td>36.8</td><td>18.5</td><td>193.0</td><td>3500.0</td><td>0</td></tr><tr><td>Dream</td><td>37.5</td><td>18.5</td><td>199.0</td><td>4475.0</td><td>0</td></tr><tr><td>Dream</td><td>38.1</td><td>17.6</td><td>187.0</td><td>3425.0</td><td>0</td></tr><tr><td>Dream</td><td>41.1</td><td>17.5</td><td>190.0</td><td>3900.0</td><td>0</td></tr><tr><td>Dream</td><td>35.6</td><td>17.5</td><td>191.0</td><td>3175.0</td><td>0</td></tr><tr><td>Dream</td><td>40.2</td><td>20.1</td><td>200.0</td><td>3975.0</td><td>0</td></tr><tr><td>Dream</td><td>37.0</td><td>16.5</td><td>185.0</td><td>3400.0</td><td>0</td></tr><tr><td>Dream</td><td>39.7</td><td>17.9</td><td>193.0</td><td>4250.0</td><td>0</td></tr><tr><td>Dream</td><td>40.2</td><td>17.1</td><td>193.0</td><td>3400.0</td><td>0</td></tr><tr><td>Dream</td><td>40.6</td><td>17.2</td><td>187.0</td><td>3475.0</td><td>0</td></tr><tr><td>Dream</td><td>32.1</td><td>15.5</td><td>188.0</td><td>3050.0</td><td>0</td></tr><tr><td>Dream</td><td>40.7</td><td>17.0</td><td>190.0</td><td>3725.0</td><td>0</td></tr><tr><td>Dream</td><td>37.3</td><td>16.8</td><td>192.0</td><td>3000.0</td><td>0</td></tr><tr><td>Dream</td><td>39.0</td><td>18.7</td><td>185.0</td><td>3650.0</td><td>0</td></tr><tr><td>Dream</td><td>39.2</td><td>18.6</td><td>190.0</td><td>4250.0</td><td>0</td></tr><tr><td>Dream</td><td>36.6</td><td>18.4</td><td>184.0</td><td>3475.0</td><td>0</td></tr><tr><td>Dream</td><td>36.0</td><td>17.8</td><td>195.0</td><td>3450.0</td><td>0</td></tr><tr><td>Dream</td><td>37.8</td><td>18.1</td><td>193.0</td><td>3750.0</td><td>0</td></tr><tr><td>Dream</td><td>36.0</td><td>17.1</td><td>187.0</td><td>3700.0</td><td>0</td></tr><tr><td>Dream</td><td>41.5</td><td>18.5</td><td>201.0</td><td>4000.0</td><td>0</td></tr><tr><td>Biscoe</td><td>46.1</td><td>13.2</td><td>211.0</td><td>4500.0</td><td>1</td></tr><tr><td>Biscoe</td><td>50.0</td><td>16.3</td><td>230.0</td><td>5700.0</td><td>1</td></tr><tr><td>Biscoe</td><td>48.7</td><td>14.1</td><td>210.0</td><td>4450.0</td><td>1</td></tr><tr><td>Biscoe</td><td>50.0</td><td>15.2</td><td>218.0</td><td>5700.0</td><td>1</td></tr><tr><td>Biscoe</td><td>47.6</td><td>14.5</td><td>215.0</td><td>5400.0</td><td>1</td></tr><tr><td>Biscoe</td><td>46.5</td><td>13.5</td><td>210.0</td><td>4550.0</td><td>1</td></tr><tr><td>Biscoe</td><td>45.4</td><td>14.6</td><td>211.0</td><td>4800.0</td><td>1</td></tr><tr><td>Biscoe</td><td>46.7</td><td>15.3</td><td>219.0</td><td>5200.0</td><td>1</td></tr><tr><td>Biscoe</td><td>43.3</td><td>13.4</td><td>209.0</td><td>4400.0</td><td>1</td></tr><tr><td>Biscoe</td><td>46.8</td><td>15.4</td><td>215.0</td><td>5150.0</td><td>1</td></tr><tr><td>Biscoe</td><td>40.9</td><td>13.7</td><td>214.0</td><td>4650.0</td><td>1</td></tr><tr><td>Biscoe</td><td>49.0</td><td>16.1</td><td>216.0</td><td>5550.0</td><td>1</td></tr><tr><td>Biscoe</td><td>45.5</td><td>13.7</td><td>214.0</td><td>4650.0</td><td>1</td></tr><tr><td>Biscoe</td><td>48.4</td><td>14.6</td><td>213.0</td><td>5850.0</td><td>1</td></tr><tr><td>Biscoe</td><td>45.8</td><td>14.6</td><td>210.0</td><td>4200.0</td><td>1</td></tr><tr><td>Biscoe</td><td>49.3</td><td>15.7</td><td>217.0</td><td>5850.0</td><td>1</td></tr><tr><td>Biscoe</td><td>42.0</td><td>13.5</td><td>210.0</td><td>4150.0</td><td>1</td></tr><tr><td>Biscoe</td><td>49.2</td><td>15.2</td><td>221.0</td><td>6300.0</td><td>1</td></tr><tr><td>Biscoe</td><td>46.2</td><td>14.5</td><td>209.0</td><td>4800.0</td><td>1</td></tr><tr><td>Biscoe</td><td>48.7</td><td>15.1</td><td>222.0</td><td>5350.0</td><td>1</td></tr><tr><td>Biscoe</td><td>50.2</td><td>14.3</td><td>218.0</td><td>5700.0</td><td>1</td></tr><tr><td>Biscoe</td><td>45.1</td><td>14.5</td><td>215.0</td><td>5000.0</td><td>1</td></tr><tr><td>Biscoe</td><td>46.5</td><td>14.5</td><td>213.0</td><td>4400.0</td><td>1</td></tr><tr><td>Biscoe</td><td>46.3</td><td>15.8</td><td>215.0</td><td>5050.0</td><td>1</td></tr><tr><td>Biscoe</td><td>42.9</td><td>13.1</td><td>215.0</td><td>5000.0</td><td>1</td></tr><tr><td>Biscoe</td><td>46.1</td><td>15.1</td><td>215.0</td><td>5100.0</td><td>1</td></tr><tr><td>Biscoe</td><td>44.5</td><td>14.3</td><td>216.0</td><td>4100.0</td><td>1</td></tr><tr><td>Biscoe</td><td>47.8</td><td>15.0</td><td>215.0</td><td>5650.0</td><td>1</td></tr><tr><td>Biscoe</td><td>48.2</td><td>14.3</td><td>210.0</td><td>4600.0</td><td>1</td></tr><tr><td>Biscoe</td><td>50.0</td><td>15.3</td><td>220.0</td><td>5550.0</td><td>1</td></tr><tr><td>Biscoe</td><td>47.3</td><td>15.3</td><td>222.0</td><td>5250.0</td><td>1</td></tr><tr><td>Biscoe</td><td>42.8</td><td>14.2</td><td>209.0</td><td>4700.0</td><td>1</td></tr><tr><td>Biscoe</td><td>45.1</td><td>14.5</td><td>207.0</td><td>5050.0</td><td>1</td></tr><tr><td>Biscoe</td><td>59.6</td><td>17.0</td><td>230.0</td><td>6050.0</td><td>1</td></tr><tr><td>Biscoe</td><td>49.1</td><td>14.8</td><td>220.0</td><td>5150.0</td><td>1</td></tr><tr><td>Biscoe</td><td>48.4</td><td>16.3</td><td>220.0</td><td>5400.0</td><td>1</td></tr><tr><td>Biscoe</td><td>42.6</td><td>13.7</td><td>213.0</td><td>4950.0</td><td>1</td></tr><tr><td>Biscoe</td><td>44.4</td><td>17.3</td><td>219.0</td><td>5250.0</td><td>1</td></tr><tr><td>Biscoe</td><td>44.0</td><td>13.6</td><td>208.0</td><td>4350.0</td><td>1</td></tr><tr><td>Biscoe</td><td>48.7</td><td>15.7</td><td>208.0</td><td>5350.0</td><td>1</td></tr><tr><td>Biscoe</td><td>42.7</td><td>13.7</td><td>208.0</td><td>3950.0</td><td>1</td></tr><tr><td>Biscoe</td><td>49.6</td><td>16.0</td><td>225.0</td><td>5700.0</td><td>1</td></tr><tr><td>Biscoe</td><td>45.3</td><td>13.7</td><td>210.0</td><td>4300.0</td><td>1</td></tr><tr><td>Biscoe</td><td>49.6</td><td>15.0</td><td>216.0</td><td>4750.0</td><td>1</td></tr><tr><td>Biscoe</td><td>50.5</td><td>15.9</td><td>222.0</td><td>5550.0</td><td>1</td></tr><tr><td>Biscoe</td><td>43.6</td><td>13.9</td><td>217.0</td><td>4900.0</td><td>1</td></tr><tr><td>Biscoe</td><td>45.5</td><td>13.9</td><td>210.0</td><td>4200.0</td><td>1</td></tr><tr><td>Biscoe</td><td>50.5</td><td>15.9</td><td>225.0</td><td>5400.0</td><td>1</td></tr><tr><td>Biscoe</td><td>44.9</td><td>13.3</td><td>213.0</td><td>5100.0</td><td>1</td></tr><tr><td>Biscoe</td><td>45.2</td><td>15.8</td><td>215.0</td><td>5300.0</td><td>1</td></tr><tr><td>Biscoe</td><td>46.6</td><td>14.2</td><td>210.0</td><td>4850.0</td><td>1</td></tr><tr><td>Biscoe</td><td>48.5</td><td>14.1</td><td>220.0</td><td>5300.0</td><td>1</td></tr><tr><td>Biscoe</td><td>45.1</td><td>14.4</td><td>210.0</td><td>4400.0</td><td>1</td></tr><tr><td>Biscoe</td><td>50.1</td><td>15.0</td><td>225.0</td><td>5000.0</td><td>1</td></tr><tr><td>Biscoe</td><td>46.5</td><td>14.4</td><td>217.0</td><td>4900.0</td><td>1</td></tr><tr><td>Biscoe</td><td>45.0</td><td>15.4</td><td>220.0</td><td>5050.0</td><td>1</td></tr><tr><td>Biscoe</td><td>43.8</td><td>13.9</td><td>208.0</td><td>4300.0</td><td>1</td></tr><tr><td>Biscoe</td><td>45.5</td><td>15.0</td><td>220.0</td><td>5000.0</td><td>1</td></tr><tr><td>Biscoe</td><td>43.2</td><td>14.5</td><td>208.0</td><td>4450.0</td><td>1</td></tr><tr><td>Biscoe</td><td>50.4</td><td>15.3</td><td>224.0</td><td>5550.0</td><td>1</td></tr><tr><td>Biscoe</td><td>45.3</td><td>13.8</td><td>208.0</td><td>4200.0</td><td>1</td></tr><tr><td>Biscoe</td><td>46.2</td><td>14.9</td><td>221.0</td><td>5300.0</td><td>1</td></tr><tr><td>Biscoe</td><td>45.7</td><td>13.9</td><td>214.0</td><td>4400.0</td><td>1</td></tr><tr><td>Biscoe</td><td>54.3</td><td>15.7</td><td>231.0</td><td>5650.0</td><td>1</td></tr><tr><td>Biscoe</td><td>45.8</td><td>14.2</td><td>219.0</td><td>4700.0</td><td>1</td></tr><tr><td>Biscoe</td><td>49.8</td><td>16.8</td><td>230.0</td><td>5700.0</td><td>1</td></tr><tr><td>Biscoe</td><td>46.2</td><td>14.4</td><td>214.0</td><td>4650.0</td><td>1</td></tr><tr><td>Biscoe</td><td>49.5</td><td>16.2</td><td>229.0</td><td>5800.0</td><td>1</td></tr><tr><td>Biscoe</td><td>43.5</td><td>14.2</td><td>220.0</td><td>4700.0</td><td>1</td></tr><tr><td>Biscoe</td><td>50.7</td><td>15.0</td><td>223.0</td><td>5550.0</td><td>1</td></tr><tr><td>Biscoe</td><td>47.7</td><td>15.0</td><td>216.0</td><td>4750.0</td><td>1</td></tr><tr><td>Biscoe</td><td>46.4</td><td>15.6</td><td>221.0</td><td>5000.0</td><td>1</td></tr><tr><td>Biscoe</td><td>48.2</td><td>15.6</td><td>221.0</td><td>5100.0</td><td>1</td></tr><tr><td>Biscoe</td><td>46.5</td><td>14.8</td><td>217.0</td><td>5200.0</td><td>1</td></tr><tr><td>Biscoe</td><td>46.4</td><td>15.0</td><td>216.0</td><td>4700.0</td><td>1</td></tr><tr><td>Biscoe</td><td>48.6</td><td>16.0</td><td>230.0</td><td>5800.0</td><td>1</td></tr><tr><td>Biscoe</td><td>47.5</td><td>14.2</td><td>209.0</td><td>4600.0</td><td>1</td></tr><tr><td>Biscoe</td><td>51.1</td><td>16.3</td><td>220.0</td><td>6000.0</td><td>1</td></tr><tr><td>Biscoe</td><td>45.2</td><td>13.8</td><td>215.0</td><td>4750.0</td><td>1</td></tr><tr><td>Biscoe</td><td>45.2</td><td>16.4</td><td>223.0</td><td>5950.0</td><td>1</td></tr><tr><td>Biscoe</td><td>49.1</td><td>14.5</td><td>212.0</td><td>4625.0</td><td>1</td></tr><tr><td>Biscoe</td><td>52.5</td><td>15.6</td><td>221.0</td><td>5450.0</td><td>1</td></tr><tr><td>Biscoe</td><td>47.4</td><td>14.6</td><td>212.0</td><td>4725.0</td><td>1</td></tr><tr><td>Biscoe</td><td>50.0</td><td>15.9</td><td>224.0</td><td>5350.0</td><td>1</td></tr><tr><td>Biscoe</td><td>44.9</td><td>13.8</td><td>212.0</td><td>4750.0</td><td>1</td></tr><tr><td>Biscoe</td><td>50.8</td><td>17.3</td><td>228.0</td><td>5600.0</td><td>1</td></tr><tr><td>Biscoe</td><td>43.4</td><td>14.4</td><td>218.0</td><td>4600.0</td><td>1</td></tr><tr><td>Biscoe</td><td>51.3</td><td>14.2</td><td>218.0</td><td>5300.0</td><td>1</td></tr><tr><td>Biscoe</td><td>47.5</td><td>14.0</td><td>212.0</td><td>4875.0</td><td>1</td></tr><tr><td>Biscoe</td><td>52.1</td><td>17.0</td><td>230.0</td><td>5550.0</td><td>1</td></tr><tr><td>Biscoe</td><td>47.5</td><td>15.0</td><td>218.0</td><td>4950.0</td><td>1</td></tr><tr><td>Biscoe</td><td>52.2</td><td>17.1</td><td>228.0</td><td>5400.0</td><td>1</td></tr><tr><td>Biscoe</td><td>45.5</td><td>14.5</td><td>212.0</td><td>4750.0</td><td>1</td></tr><tr><td>Biscoe</td><td>49.5</td><td>16.1</td><td>224.0</td><td>5650.0</td><td>1</td></tr><tr><td>Biscoe</td><td>44.5</td><td>14.7</td><td>214.0</td><td>4850.0</td><td>1</td></tr><tr><td>Biscoe</td><td>50.8</td><td>15.7</td><td>226.0</td><td>5200.0</td><td>1</td></tr><tr><td>Biscoe</td><td>49.4</td><td>15.8</td><td>216.0</td><td>4925.0</td><td>1</td></tr><tr><td>Biscoe</td><td>46.9</td><td>14.6</td><td>222.0</td><td>4875.0</td><td>1</td></tr><tr><td>Biscoe</td><td>48.4</td><td>14.4</td><td>203.0</td><td>4625.0</td><td>1</td></tr><tr><td>Biscoe</td><td>51.1</td><td>16.5</td><td>225.0</td><td>5250.0</td><td>1</td></tr><tr><td>Biscoe</td><td>48.5</td><td>15.0</td><td>219.0</td><td>4850.0</td><td>1</td></tr><tr><td>Biscoe</td><td>55.9</td><td>17.0</td><td>228.0</td><td>5600.0</td><td>1</td></tr><tr><td>Biscoe</td><td>47.2</td><td>15.5</td><td>215.0</td><td>4975.0</td><td>1</td></tr><tr><td>Biscoe</td><td>49.1</td><td>15.0</td><td>228.0</td><td>5500.0</td><td>1</td></tr><tr><td>Biscoe</td><td>47.3</td><td>13.8</td><td>216.0</td><td>4725.0</td><td>1</td></tr><tr><td>Biscoe</td><td>46.8</td><td>16.1</td><td>215.0</td><td>5500.0</td><td>1</td></tr><tr><td>Biscoe</td><td>41.7</td><td>14.7</td><td>210.0</td><td>4700.0</td><td>1</td></tr><tr><td>Biscoe</td><td>53.4</td><td>15.8</td><td>219.0</td><td>5500.0</td><td>1</td></tr><tr><td>Biscoe</td><td>43.3</td><td>14.0</td><td>208.0</td><td>4575.0</td><td>1</td></tr><tr><td>Biscoe</td><td>48.1</td><td>15.1</td><td>209.0</td><td>5500.0</td><td>1</td></tr><tr><td>Biscoe</td><td>50.5</td><td>15.2</td><td>216.0</td><td>5000.0</td><td>1</td></tr><tr><td>Biscoe</td><td>49.8</td><td>15.9</td><td>229.0</td><td>5950.0</td><td>1</td></tr><tr><td>Biscoe</td><td>43.5</td><td>15.2</td><td>213.0</td><td>4650.0</td><td>1</td></tr><tr><td>Biscoe</td><td>51.5</td><td>16.3</td><td>230.0</td><td>5500.0</td><td>1</td></tr><tr><td>Biscoe</td><td>46.2</td><td>14.1</td><td>217.0</td><td>4375.0</td><td>1</td></tr><tr><td>Biscoe</td><td>55.1</td><td>16.0</td><td>230.0</td><td>5850.0</td><td>1</td></tr><tr><td>Biscoe</td><td>44.5</td><td>15.7</td><td>217.0</td><td>4875.0</td><td>1</td></tr><tr><td>Biscoe</td><td>48.8</td><td>16.2</td><td>222.0</td><td>6000.0</td><td>1</td></tr><tr><td>Biscoe</td><td>47.2</td><td>13.7</td><td>214.0</td><td>4925.0</td><td>1</td></tr><tr><td>Biscoe</td><td>46.8</td><td>14.3</td><td>215.0</td><td>4850.0</td><td>1</td></tr><tr><td>Biscoe</td><td>50.4</td><td>15.7</td><td>222.0</td><td>5750.0</td><td>1</td></tr><tr><td>Biscoe</td><td>45.2</td><td>14.8</td><td>212.0</td><td>5200.0</td><td>1</td></tr><tr><td>Biscoe</td><td>49.9</td><td>16.1</td><td>213.0</td><td>5400.0</td><td>1</td></tr><tr><td>Dream</td><td>46.5</td><td>17.9</td><td>192.0</td><td>3500.0</td><td>2</td></tr><tr><td>Dream</td><td>50.0</td><td>19.5</td><td>196.0</td><td>3900.0</td><td>2</td></tr><tr><td>Dream</td><td>51.3</td><td>19.2</td><td>193.0</td><td>3650.0</td><td>2</td></tr><tr><td>Dream</td><td>45.4</td><td>18.7</td><td>188.0</td><td>3525.0</td><td>2</td></tr><tr><td>Dream</td><td>52.7</td><td>19.8</td><td>197.0</td><td>3725.0</td><td>2</td></tr><tr><td>Dream</td><td>45.2</td><td>17.8</td><td>198.0</td><td>3950.0</td><td>2</td></tr><tr><td>Dream</td><td>46.1</td><td>18.2</td><td>178.0</td><td>3250.0</td><td>2</td></tr><tr><td>Dream</td><td>51.3</td><td>18.2</td><td>197.0</td><td>3750.0</td><td>2</td></tr><tr><td>Dream</td><td>46.0</td><td>18.9</td><td>195.0</td><td>4150.0</td><td>2</td></tr><tr><td>Dream</td><td>51.3</td><td>19.9</td><td>198.0</td><td>3700.0</td><td>2</td></tr><tr><td>Dream</td><td>46.6</td><td>17.8</td><td>193.0</td><td>3800.0</td><td>2</td></tr><tr><td>Dream</td><td>51.7</td><td>20.3</td><td>194.0</td><td>3775.0</td><td>2</td></tr><tr><td>Dream</td><td>47.0</td><td>17.3</td><td>185.0</td><td>3700.0</td><td>2</td></tr><tr><td>Dream</td><td>52.0</td><td>18.1</td><td>201.0</td><td>4050.0</td><td>2</td></tr><tr><td>Dream</td><td>45.9</td><td>17.1</td><td>190.0</td><td>3575.0</td><td>2</td></tr><tr><td>Dream</td><td>50.5</td><td>19.6</td><td>201.0</td><td>4050.0</td><td>2</td></tr><tr><td>Dream</td><td>50.3</td><td>20.0</td><td>197.0</td><td>3300.0</td><td>2</td></tr><tr><td>Dream</td><td>58.0</td><td>17.8</td><td>181.0</td><td>3700.0</td><td>2</td></tr><tr><td>Dream</td><td>46.4</td><td>18.6</td><td>190.0</td><td>3450.0</td><td>2</td></tr><tr><td>Dream</td><td>49.2</td><td>18.2</td><td>195.0</td><td>4400.0</td><td>2</td></tr><tr><td>Dream</td><td>42.4</td><td>17.3</td><td>181.0</td><td>3600.0</td><td>2</td></tr><tr><td>Dream</td><td>48.5</td><td>17.5</td><td>191.0</td><td>3400.0</td><td>2</td></tr><tr><td>Dream</td><td>43.2</td><td>16.6</td><td>187.0</td><td>2900.0</td><td>2</td></tr><tr><td>Dream</td><td>50.6</td><td>19.4</td><td>193.0</td><td>3800.0</td><td>2</td></tr><tr><td>Dream</td><td>46.7</td><td>17.9</td><td>195.0</td><td>3300.0</td><td>2</td></tr><tr><td>Dream</td><td>52.0</td><td>19.0</td><td>197.0</td><td>4150.0</td><td>2</td></tr><tr><td>Dream</td><td>50.5</td><td>18.4</td><td>200.0</td><td>3400.0</td><td>2</td></tr><tr><td>Dream</td><td>49.5</td><td>19.0</td><td>200.0</td><td>3800.0</td><td>2</td></tr><tr><td>Dream</td><td>46.4</td><td>17.8</td><td>191.0</td><td>3700.0</td><td>2</td></tr><tr><td>Dream</td><td>52.8</td><td>20.0</td><td>205.0</td><td>4550.0</td><td>2</td></tr><tr><td>Dream</td><td>40.9</td><td>16.6</td><td>187.0</td><td>3200.0</td><td>2</td></tr><tr><td>Dream</td><td>54.2</td><td>20.8</td><td>201.0</td><td>4300.0</td><td>2</td></tr><tr><td>Dream</td><td>42.5</td><td>16.7</td><td>187.0</td><td>3350.0</td><td>2</td></tr><tr><td>Dream</td><td>51.0</td><td>18.8</td><td>203.0</td><td>4100.0</td><td>2</td></tr><tr><td>Dream</td><td>49.7</td><td>18.6</td><td>195.0</td><td>3600.0</td><td>2</td></tr><tr><td>Dream</td><td>47.5</td><td>16.8</td><td>199.0</td><td>3900.0</td><td>2</td></tr><tr><td>Dream</td><td>47.6</td><td>18.3</td><td>195.0</td><td>3850.0</td><td>2</td></tr><tr><td>Dream</td><td>52.0</td><td>20.7</td><td>210.0</td><td>4800.0</td><td>2</td></tr><tr><td>Dream</td><td>46.9</td><td>16.6</td><td>192.0</td><td>2700.0</td><td>2</td></tr><tr><td>Dream</td><td>53.5</td><td>19.9</td><td>205.0</td><td>4500.0</td><td>2</td></tr><tr><td>Dream</td><td>49.0</td><td>19.5</td><td>210.0</td><td>3950.0</td><td>2</td></tr><tr><td>Dream</td><td>46.2</td><td>17.5</td><td>187.0</td><td>3650.0</td><td>2</td></tr><tr><td>Dream</td><td>50.9</td><td>19.1</td><td>196.0</td><td>3550.0</td><td>2</td></tr><tr><td>Dream</td><td>45.5</td><td>17.0</td><td>196.0</td><td>3500.0</td><td>2</td></tr><tr><td>Dream</td><td>50.9</td><td>17.9</td><td>196.0</td><td>3675.0</td><td>2</td></tr><tr><td>Dream</td><td>50.8</td><td>18.5</td><td>201.0</td><td>4450.0</td><td>2</td></tr><tr><td>Dream</td><td>50.1</td><td>17.9</td><td>190.0</td><td>3400.0</td><td>2</td></tr><tr><td>Dream</td><td>49.0</td><td>19.6</td><td>212.0</td><td>4300.0</td><td>2</td></tr><tr><td>Dream</td><td>51.5</td><td>18.7</td><td>187.0</td><td>3250.0</td><td>2</td></tr><tr><td>Dream</td><td>49.8</td><td>17.3</td><td>198.0</td><td>3675.0</td><td>2</td></tr><tr><td>Dream</td><td>48.1</td><td>16.4</td><td>199.0</td><td>3325.0</td><td>2</td></tr><tr><td>Dream</td><td>51.4</td><td>19.0</td><td>201.0</td><td>3950.0</td><td>2</td></tr><tr><td>Dream</td><td>45.7</td><td>17.3</td><td>193.0</td><td>3600.0</td><td>2</td></tr><tr><td>Dream</td><td>50.7</td><td>19.7</td><td>203.0</td><td>4050.0</td><td>2</td></tr><tr><td>Dream</td><td>42.5</td><td>17.3</td><td>187.0</td><td>3350.0</td><td>2</td></tr><tr><td>Dream</td><td>52.2</td><td>18.8</td><td>197.0</td><td>3450.0</td><td>2</td></tr><tr><td>Dream</td><td>45.2</td><td>16.6</td><td>191.0</td><td>3250.0</td><td>2</td></tr><tr><td>Dream</td><td>49.3</td><td>19.9</td><td>203.0</td><td>4050.0</td><td>2</td></tr><tr><td>Dream</td><td>50.2</td><td>18.8</td><td>202.0</td><td>3800.0</td><td>2</td></tr><tr><td>Dream</td><td>45.6</td><td>19.4</td><td>194.0</td><td>3525.0</td><td>2</td></tr><tr><td>Dream</td><td>51.9</td><td>19.5</td><td>206.0</td><td>3950.0</td><td>2</td></tr><tr><td>Dream</td><td>46.8</td><td>16.5</td><td>189.0</td><td>3650.0</td><td>2</td></tr><tr><td>Dream</td><td>45.7</td><td>17.0</td><td>195.0</td><td>3650.0</td><td>2</td></tr><tr><td>Dream</td><td>55.8</td><td>19.8</td><td>207.0</td><td>4000.0</td><td>2</td></tr><tr><td>Dream</td><td>43.5</td><td>18.1</td><td>202.0</td><td>3400.0</td><td>2</td></tr><tr><td>Dream</td><td>49.6</td><td>18.2</td><td>193.0</td><td>3775.0</td><td>2</td></tr><tr><td>Dream</td><td>50.8</td><td>19.0</td><td>210.0</td><td>4100.0</td><td>2</td></tr><tr><td>Dream</td><td>50.2</td><td>18.7</td><td>198.0</td><td>3775.0</td><td>2</td></tr></tbody></table></div>"
      ]
     },
     "metadata": {
      "application/vnd.databricks.v1+output": {
       "addedWidgets": {},
       "aggData": [],
       "aggError": "",
       "aggOverflow": false,
       "aggSchema": [],
       "aggSeriesLimitReached": false,
       "aggType": "",
       "arguments": {},
       "columnCustomDisplayInfos": {},
       "data": [
        [
         "Torgersen",
         39.1,
         18.7,
         181,
         3750,
         0
        ],
        [
         "Torgersen",
         39.5,
         17.4,
         186,
         3800,
         0
        ],
        [
         "Torgersen",
         40.3,
         18,
         195,
         3250,
         0
        ],
        [
         "Torgersen",
         36.7,
         19.3,
         193,
         3450,
         0
        ],
        [
         "Torgersen",
         39.3,
         20.6,
         190,
         3650,
         0
        ],
        [
         "Torgersen",
         38.9,
         17.8,
         181,
         3625,
         0
        ],
        [
         "Torgersen",
         39.2,
         19.6,
         195,
         4675,
         0
        ],
        [
         "Torgersen",
         34.1,
         18.1,
         193,
         3475,
         0
        ],
        [
         "Torgersen",
         42,
         20.2,
         190,
         4250,
         0
        ],
        [
         "Torgersen",
         37.8,
         17.1,
         186,
         3300,
         0
        ],
        [
         "Torgersen",
         37.8,
         17.3,
         180,
         3700,
         0
        ],
        [
         "Torgersen",
         41.1,
         17.6,
         182,
         3200,
         0
        ],
        [
         "Torgersen",
         38.6,
         21.2,
         191,
         3800,
         0
        ],
        [
         "Torgersen",
         34.6,
         21.1,
         198,
         4400,
         0
        ],
        [
         "Torgersen",
         36.6,
         17.8,
         185,
         3700,
         0
        ],
        [
         "Torgersen",
         38.7,
         19,
         195,
         3450,
         0
        ],
        [
         "Torgersen",
         42.5,
         20.7,
         197,
         4500,
         0
        ],
        [
         "Torgersen",
         34.4,
         18.4,
         184,
         3325,
         0
        ],
        [
         "Torgersen",
         46,
         21.5,
         194,
         4200,
         0
        ],
        [
         "Biscoe",
         37.8,
         18.3,
         174,
         3400,
         0
        ],
        [
         "Biscoe",
         37.7,
         18.7,
         180,
         3600,
         0
        ],
        [
         "Biscoe",
         35.9,
         19.2,
         189,
         3800,
         0
        ],
        [
         "Biscoe",
         38.2,
         18.1,
         185,
         3950,
         0
        ],
        [
         "Biscoe",
         38.8,
         17.2,
         180,
         3800,
         0
        ],
        [
         "Biscoe",
         35.3,
         18.9,
         187,
         3800,
         0
        ],
        [
         "Biscoe",
         40.6,
         18.6,
         183,
         3550,
         0
        ],
        [
         "Biscoe",
         40.5,
         17.9,
         187,
         3200,
         0
        ],
        [
         "Biscoe",
         37.9,
         18.6,
         172,
         3150,
         0
        ],
        [
         "Biscoe",
         40.5,
         18.9,
         180,
         3950,
         0
        ],
        [
         "Dream",
         39.5,
         16.7,
         178,
         3250,
         0
        ],
        [
         "Dream",
         37.2,
         18.1,
         178,
         3900,
         0
        ],
        [
         "Dream",
         39.5,
         17.8,
         188,
         3300,
         0
        ],
        [
         "Dream",
         40.9,
         18.9,
         184,
         3900,
         0
        ],
        [
         "Dream",
         36.4,
         17,
         195,
         3325,
         0
        ],
        [
         "Dream",
         39.2,
         21.1,
         196,
         4150,
         0
        ],
        [
         "Dream",
         38.8,
         20,
         190,
         3950,
         0
        ],
        [
         "Dream",
         42.2,
         18.5,
         180,
         3550,
         0
        ],
        [
         "Dream",
         37.6,
         19.3,
         181,
         3300,
         0
        ],
        [
         "Dream",
         39.8,
         19.1,
         184,
         4650,
         0
        ],
        [
         "Dream",
         36.5,
         18,
         182,
         3150,
         0
        ],
        [
         "Dream",
         40.8,
         18.4,
         195,
         3900,
         0
        ],
        [
         "Dream",
         36,
         18.5,
         186,
         3100,
         0
        ],
        [
         "Dream",
         44.1,
         19.7,
         196,
         4400,
         0
        ],
        [
         "Dream",
         37,
         16.9,
         185,
         3000,
         0
        ],
        [
         "Dream",
         39.6,
         18.8,
         190,
         4600,
         0
        ],
        [
         "Dream",
         41.1,
         19,
         182,
         3425,
         0
        ],
        [
         "Dream",
         37.5,
         18.9,
         179,
         2975,
         0
        ],
        [
         "Dream",
         36,
         17.9,
         190,
         3450,
         0
        ],
        [
         "Dream",
         42.3,
         21.2,
         191,
         4150,
         0
        ],
        [
         "Biscoe",
         39.6,
         17.7,
         186,
         3500,
         0
        ],
        [
         "Biscoe",
         40.1,
         18.9,
         188,
         4300,
         0
        ],
        [
         "Biscoe",
         35,
         17.9,
         190,
         3450,
         0
        ],
        [
         "Biscoe",
         42,
         19.5,
         200,
         4050,
         0
        ],
        [
         "Biscoe",
         34.5,
         18.1,
         187,
         2900,
         0
        ],
        [
         "Biscoe",
         41.4,
         18.6,
         191,
         3700,
         0
        ],
        [
         "Biscoe",
         39,
         17.5,
         186,
         3550,
         0
        ],
        [
         "Biscoe",
         40.6,
         18.8,
         193,
         3800,
         0
        ],
        [
         "Biscoe",
         36.5,
         16.6,
         181,
         2850,
         0
        ],
        [
         "Biscoe",
         37.6,
         19.1,
         194,
         3750,
         0
        ],
        [
         "Biscoe",
         35.7,
         16.9,
         185,
         3150,
         0
        ],
        [
         "Biscoe",
         41.3,
         21.1,
         195,
         4400,
         0
        ],
        [
         "Biscoe",
         37.6,
         17,
         185,
         3600,
         0
        ],
        [
         "Biscoe",
         41.1,
         18.2,
         192,
         4050,
         0
        ],
        [
         "Biscoe",
         36.4,
         17.1,
         184,
         2850,
         0
        ],
        [
         "Biscoe",
         41.6,
         18,
         192,
         3950,
         0
        ],
        [
         "Biscoe",
         35.5,
         16.2,
         195,
         3350,
         0
        ],
        [
         "Biscoe",
         41.1,
         19.1,
         188,
         4100,
         0
        ],
        [
         "Torgersen",
         35.9,
         16.6,
         190,
         3050,
         0
        ],
        [
         "Torgersen",
         41.8,
         19.4,
         198,
         4450,
         0
        ],
        [
         "Torgersen",
         33.5,
         19,
         190,
         3600,
         0
        ],
        [
         "Torgersen",
         39.7,
         18.4,
         190,
         3900,
         0
        ],
        [
         "Torgersen",
         39.6,
         17.2,
         196,
         3550,
         0
        ],
        [
         "Torgersen",
         45.8,
         18.9,
         197,
         4150,
         0
        ],
        [
         "Torgersen",
         35.5,
         17.5,
         190,
         3700,
         0
        ],
        [
         "Torgersen",
         42.8,
         18.5,
         195,
         4250,
         0
        ],
        [
         "Torgersen",
         40.9,
         16.8,
         191,
         3700,
         0
        ],
        [
         "Torgersen",
         37.2,
         19.4,
         184,
         3900,
         0
        ],
        [
         "Torgersen",
         36.2,
         16.1,
         187,
         3550,
         0
        ],
        [
         "Torgersen",
         42.1,
         19.1,
         195,
         4000,
         0
        ],
        [
         "Torgersen",
         34.6,
         17.2,
         189,
         3200,
         0
        ],
        [
         "Torgersen",
         42.9,
         17.6,
         196,
         4700,
         0
        ],
        [
         "Torgersen",
         36.7,
         18.8,
         187,
         3800,
         0
        ],
        [
         "Torgersen",
         35.1,
         19.4,
         193,
         4200,
         0
        ],
        [
         "Dream",
         37.3,
         17.8,
         191,
         3350,
         0
        ],
        [
         "Dream",
         41.3,
         20.3,
         194,
         3550,
         0
        ],
        [
         "Dream",
         36.3,
         19.5,
         190,
         3800,
         0
        ],
        [
         "Dream",
         36.9,
         18.6,
         189,
         3500,
         0
        ],
        [
         "Dream",
         38.3,
         19.2,
         189,
         3950,
         0
        ],
        [
         "Dream",
         38.9,
         18.8,
         190,
         3600,
         0
        ],
        [
         "Dream",
         35.7,
         18,
         202,
         3550,
         0
        ],
        [
         "Dream",
         41.1,
         18.1,
         205,
         4300,
         0
        ],
        [
         "Dream",
         34,
         17.1,
         185,
         3400,
         0
        ],
        [
         "Dream",
         39.6,
         18.1,
         186,
         4450,
         0
        ],
        [
         "Dream",
         36.2,
         17.3,
         187,
         3300,
         0
        ],
        [
         "Dream",
         40.8,
         18.9,
         208,
         4300,
         0
        ],
        [
         "Dream",
         38.1,
         18.6,
         190,
         3700,
         0
        ],
        [
         "Dream",
         40.3,
         18.5,
         196,
         4350,
         0
        ],
        [
         "Dream",
         33.1,
         16.1,
         178,
         2900,
         0
        ],
        [
         "Dream",
         43.2,
         18.5,
         192,
         4100,
         0
        ],
        [
         "Biscoe",
         35,
         17.9,
         192,
         3725,
         0
        ],
        [
         "Biscoe",
         41,
         20,
         203,
         4725,
         0
        ],
        [
         "Biscoe",
         37.7,
         16,
         183,
         3075,
         0
        ],
        [
         "Biscoe",
         37.8,
         20,
         190,
         4250,
         0
        ],
        [
         "Biscoe",
         37.9,
         18.6,
         193,
         2925,
         0
        ],
        [
         "Biscoe",
         39.7,
         18.9,
         184,
         3550,
         0
        ],
        [
         "Biscoe",
         38.6,
         17.2,
         199,
         3750,
         0
        ],
        [
         "Biscoe",
         38.2,
         20,
         190,
         3900,
         0
        ],
        [
         "Biscoe",
         38.1,
         17,
         181,
         3175,
         0
        ],
        [
         "Biscoe",
         43.2,
         19,
         197,
         4775,
         0
        ],
        [
         "Biscoe",
         38.1,
         16.5,
         198,
         3825,
         0
        ],
        [
         "Biscoe",
         45.6,
         20.3,
         191,
         4600,
         0
        ],
        [
         "Biscoe",
         39.7,
         17.7,
         193,
         3200,
         0
        ],
        [
         "Biscoe",
         42.2,
         19.5,
         197,
         4275,
         0
        ],
        [
         "Biscoe",
         39.6,
         20.7,
         191,
         3900,
         0
        ],
        [
         "Biscoe",
         42.7,
         18.3,
         196,
         4075,
         0
        ],
        [
         "Torgersen",
         38.6,
         17,
         188,
         2900,
         0
        ],
        [
         "Torgersen",
         37.3,
         20.5,
         199,
         3775,
         0
        ],
        [
         "Torgersen",
         35.7,
         17,
         189,
         3350,
         0
        ],
        [
         "Torgersen",
         41.1,
         18.6,
         189,
         3325,
         0
        ],
        [
         "Torgersen",
         36.2,
         17.2,
         187,
         3150,
         0
        ],
        [
         "Torgersen",
         37.7,
         19.8,
         198,
         3500,
         0
        ],
        [
         "Torgersen",
         40.2,
         17,
         176,
         3450,
         0
        ],
        [
         "Torgersen",
         41.4,
         18.5,
         202,
         3875,
         0
        ],
        [
         "Torgersen",
         35.2,
         15.9,
         186,
         3050,
         0
        ],
        [
         "Torgersen",
         40.6,
         19,
         199,
         4000,
         0
        ],
        [
         "Torgersen",
         38.8,
         17.6,
         191,
         3275,
         0
        ],
        [
         "Torgersen",
         41.5,
         18.3,
         195,
         4300,
         0
        ],
        [
         "Torgersen",
         39,
         17.1,
         191,
         3050,
         0
        ],
        [
         "Torgersen",
         44.1,
         18,
         210,
         4000,
         0
        ],
        [
         "Torgersen",
         38.5,
         17.9,
         190,
         3325,
         0
        ],
        [
         "Torgersen",
         43.1,
         19.2,
         197,
         3500,
         0
        ],
        [
         "Dream",
         36.8,
         18.5,
         193,
         3500,
         0
        ],
        [
         "Dream",
         37.5,
         18.5,
         199,
         4475,
         0
        ],
        [
         "Dream",
         38.1,
         17.6,
         187,
         3425,
         0
        ],
        [
         "Dream",
         41.1,
         17.5,
         190,
         3900,
         0
        ],
        [
         "Dream",
         35.6,
         17.5,
         191,
         3175,
         0
        ],
        [
         "Dream",
         40.2,
         20.1,
         200,
         3975,
         0
        ],
        [
         "Dream",
         37,
         16.5,
         185,
         3400,
         0
        ],
        [
         "Dream",
         39.7,
         17.9,
         193,
         4250,
         0
        ],
        [
         "Dream",
         40.2,
         17.1,
         193,
         3400,
         0
        ],
        [
         "Dream",
         40.6,
         17.2,
         187,
         3475,
         0
        ],
        [
         "Dream",
         32.1,
         15.5,
         188,
         3050,
         0
        ],
        [
         "Dream",
         40.7,
         17,
         190,
         3725,
         0
        ],
        [
         "Dream",
         37.3,
         16.8,
         192,
         3000,
         0
        ],
        [
         "Dream",
         39,
         18.7,
         185,
         3650,
         0
        ],
        [
         "Dream",
         39.2,
         18.6,
         190,
         4250,
         0
        ],
        [
         "Dream",
         36.6,
         18.4,
         184,
         3475,
         0
        ],
        [
         "Dream",
         36,
         17.8,
         195,
         3450,
         0
        ],
        [
         "Dream",
         37.8,
         18.1,
         193,
         3750,
         0
        ],
        [
         "Dream",
         36,
         17.1,
         187,
         3700,
         0
        ],
        [
         "Dream",
         41.5,
         18.5,
         201,
         4000,
         0
        ],
        [
         "Biscoe",
         46.1,
         13.2,
         211,
         4500,
         1
        ],
        [
         "Biscoe",
         50,
         16.3,
         230,
         5700,
         1
        ],
        [
         "Biscoe",
         48.7,
         14.1,
         210,
         4450,
         1
        ],
        [
         "Biscoe",
         50,
         15.2,
         218,
         5700,
         1
        ],
        [
         "Biscoe",
         47.6,
         14.5,
         215,
         5400,
         1
        ],
        [
         "Biscoe",
         46.5,
         13.5,
         210,
         4550,
         1
        ],
        [
         "Biscoe",
         45.4,
         14.6,
         211,
         4800,
         1
        ],
        [
         "Biscoe",
         46.7,
         15.3,
         219,
         5200,
         1
        ],
        [
         "Biscoe",
         43.3,
         13.4,
         209,
         4400,
         1
        ],
        [
         "Biscoe",
         46.8,
         15.4,
         215,
         5150,
         1
        ],
        [
         "Biscoe",
         40.9,
         13.7,
         214,
         4650,
         1
        ],
        [
         "Biscoe",
         49,
         16.1,
         216,
         5550,
         1
        ],
        [
         "Biscoe",
         45.5,
         13.7,
         214,
         4650,
         1
        ],
        [
         "Biscoe",
         48.4,
         14.6,
         213,
         5850,
         1
        ],
        [
         "Biscoe",
         45.8,
         14.6,
         210,
         4200,
         1
        ],
        [
         "Biscoe",
         49.3,
         15.7,
         217,
         5850,
         1
        ],
        [
         "Biscoe",
         42,
         13.5,
         210,
         4150,
         1
        ],
        [
         "Biscoe",
         49.2,
         15.2,
         221,
         6300,
         1
        ],
        [
         "Biscoe",
         46.2,
         14.5,
         209,
         4800,
         1
        ],
        [
         "Biscoe",
         48.7,
         15.1,
         222,
         5350,
         1
        ],
        [
         "Biscoe",
         50.2,
         14.3,
         218,
         5700,
         1
        ],
        [
         "Biscoe",
         45.1,
         14.5,
         215,
         5000,
         1
        ],
        [
         "Biscoe",
         46.5,
         14.5,
         213,
         4400,
         1
        ],
        [
         "Biscoe",
         46.3,
         15.8,
         215,
         5050,
         1
        ],
        [
         "Biscoe",
         42.9,
         13.1,
         215,
         5000,
         1
        ],
        [
         "Biscoe",
         46.1,
         15.1,
         215,
         5100,
         1
        ],
        [
         "Biscoe",
         44.5,
         14.3,
         216,
         4100,
         1
        ],
        [
         "Biscoe",
         47.8,
         15,
         215,
         5650,
         1
        ],
        [
         "Biscoe",
         48.2,
         14.3,
         210,
         4600,
         1
        ],
        [
         "Biscoe",
         50,
         15.3,
         220,
         5550,
         1
        ],
        [
         "Biscoe",
         47.3,
         15.3,
         222,
         5250,
         1
        ],
        [
         "Biscoe",
         42.8,
         14.2,
         209,
         4700,
         1
        ],
        [
         "Biscoe",
         45.1,
         14.5,
         207,
         5050,
         1
        ],
        [
         "Biscoe",
         59.6,
         17,
         230,
         6050,
         1
        ],
        [
         "Biscoe",
         49.1,
         14.8,
         220,
         5150,
         1
        ],
        [
         "Biscoe",
         48.4,
         16.3,
         220,
         5400,
         1
        ],
        [
         "Biscoe",
         42.6,
         13.7,
         213,
         4950,
         1
        ],
        [
         "Biscoe",
         44.4,
         17.3,
         219,
         5250,
         1
        ],
        [
         "Biscoe",
         44,
         13.6,
         208,
         4350,
         1
        ],
        [
         "Biscoe",
         48.7,
         15.7,
         208,
         5350,
         1
        ],
        [
         "Biscoe",
         42.7,
         13.7,
         208,
         3950,
         1
        ],
        [
         "Biscoe",
         49.6,
         16,
         225,
         5700,
         1
        ],
        [
         "Biscoe",
         45.3,
         13.7,
         210,
         4300,
         1
        ],
        [
         "Biscoe",
         49.6,
         15,
         216,
         4750,
         1
        ],
        [
         "Biscoe",
         50.5,
         15.9,
         222,
         5550,
         1
        ],
        [
         "Biscoe",
         43.6,
         13.9,
         217,
         4900,
         1
        ],
        [
         "Biscoe",
         45.5,
         13.9,
         210,
         4200,
         1
        ],
        [
         "Biscoe",
         50.5,
         15.9,
         225,
         5400,
         1
        ],
        [
         "Biscoe",
         44.9,
         13.3,
         213,
         5100,
         1
        ],
        [
         "Biscoe",
         45.2,
         15.8,
         215,
         5300,
         1
        ],
        [
         "Biscoe",
         46.6,
         14.2,
         210,
         4850,
         1
        ],
        [
         "Biscoe",
         48.5,
         14.1,
         220,
         5300,
         1
        ],
        [
         "Biscoe",
         45.1,
         14.4,
         210,
         4400,
         1
        ],
        [
         "Biscoe",
         50.1,
         15,
         225,
         5000,
         1
        ],
        [
         "Biscoe",
         46.5,
         14.4,
         217,
         4900,
         1
        ],
        [
         "Biscoe",
         45,
         15.4,
         220,
         5050,
         1
        ],
        [
         "Biscoe",
         43.8,
         13.9,
         208,
         4300,
         1
        ],
        [
         "Biscoe",
         45.5,
         15,
         220,
         5000,
         1
        ],
        [
         "Biscoe",
         43.2,
         14.5,
         208,
         4450,
         1
        ],
        [
         "Biscoe",
         50.4,
         15.3,
         224,
         5550,
         1
        ],
        [
         "Biscoe",
         45.3,
         13.8,
         208,
         4200,
         1
        ],
        [
         "Biscoe",
         46.2,
         14.9,
         221,
         5300,
         1
        ],
        [
         "Biscoe",
         45.7,
         13.9,
         214,
         4400,
         1
        ],
        [
         "Biscoe",
         54.3,
         15.7,
         231,
         5650,
         1
        ],
        [
         "Biscoe",
         45.8,
         14.2,
         219,
         4700,
         1
        ],
        [
         "Biscoe",
         49.8,
         16.8,
         230,
         5700,
         1
        ],
        [
         "Biscoe",
         46.2,
         14.4,
         214,
         4650,
         1
        ],
        [
         "Biscoe",
         49.5,
         16.2,
         229,
         5800,
         1
        ],
        [
         "Biscoe",
         43.5,
         14.2,
         220,
         4700,
         1
        ],
        [
         "Biscoe",
         50.7,
         15,
         223,
         5550,
         1
        ],
        [
         "Biscoe",
         47.7,
         15,
         216,
         4750,
         1
        ],
        [
         "Biscoe",
         46.4,
         15.6,
         221,
         5000,
         1
        ],
        [
         "Biscoe",
         48.2,
         15.6,
         221,
         5100,
         1
        ],
        [
         "Biscoe",
         46.5,
         14.8,
         217,
         5200,
         1
        ],
        [
         "Biscoe",
         46.4,
         15,
         216,
         4700,
         1
        ],
        [
         "Biscoe",
         48.6,
         16,
         230,
         5800,
         1
        ],
        [
         "Biscoe",
         47.5,
         14.2,
         209,
         4600,
         1
        ],
        [
         "Biscoe",
         51.1,
         16.3,
         220,
         6000,
         1
        ],
        [
         "Biscoe",
         45.2,
         13.8,
         215,
         4750,
         1
        ],
        [
         "Biscoe",
         45.2,
         16.4,
         223,
         5950,
         1
        ],
        [
         "Biscoe",
         49.1,
         14.5,
         212,
         4625,
         1
        ],
        [
         "Biscoe",
         52.5,
         15.6,
         221,
         5450,
         1
        ],
        [
         "Biscoe",
         47.4,
         14.6,
         212,
         4725,
         1
        ],
        [
         "Biscoe",
         50,
         15.9,
         224,
         5350,
         1
        ],
        [
         "Biscoe",
         44.9,
         13.8,
         212,
         4750,
         1
        ],
        [
         "Biscoe",
         50.8,
         17.3,
         228,
         5600,
         1
        ],
        [
         "Biscoe",
         43.4,
         14.4,
         218,
         4600,
         1
        ],
        [
         "Biscoe",
         51.3,
         14.2,
         218,
         5300,
         1
        ],
        [
         "Biscoe",
         47.5,
         14,
         212,
         4875,
         1
        ],
        [
         "Biscoe",
         52.1,
         17,
         230,
         5550,
         1
        ],
        [
         "Biscoe",
         47.5,
         15,
         218,
         4950,
         1
        ],
        [
         "Biscoe",
         52.2,
         17.1,
         228,
         5400,
         1
        ],
        [
         "Biscoe",
         45.5,
         14.5,
         212,
         4750,
         1
        ],
        [
         "Biscoe",
         49.5,
         16.1,
         224,
         5650,
         1
        ],
        [
         "Biscoe",
         44.5,
         14.7,
         214,
         4850,
         1
        ],
        [
         "Biscoe",
         50.8,
         15.7,
         226,
         5200,
         1
        ],
        [
         "Biscoe",
         49.4,
         15.8,
         216,
         4925,
         1
        ],
        [
         "Biscoe",
         46.9,
         14.6,
         222,
         4875,
         1
        ],
        [
         "Biscoe",
         48.4,
         14.4,
         203,
         4625,
         1
        ],
        [
         "Biscoe",
         51.1,
         16.5,
         225,
         5250,
         1
        ],
        [
         "Biscoe",
         48.5,
         15,
         219,
         4850,
         1
        ],
        [
         "Biscoe",
         55.9,
         17,
         228,
         5600,
         1
        ],
        [
         "Biscoe",
         47.2,
         15.5,
         215,
         4975,
         1
        ],
        [
         "Biscoe",
         49.1,
         15,
         228,
         5500,
         1
        ],
        [
         "Biscoe",
         47.3,
         13.8,
         216,
         4725,
         1
        ],
        [
         "Biscoe",
         46.8,
         16.1,
         215,
         5500,
         1
        ],
        [
         "Biscoe",
         41.7,
         14.7,
         210,
         4700,
         1
        ],
        [
         "Biscoe",
         53.4,
         15.8,
         219,
         5500,
         1
        ],
        [
         "Biscoe",
         43.3,
         14,
         208,
         4575,
         1
        ],
        [
         "Biscoe",
         48.1,
         15.1,
         209,
         5500,
         1
        ],
        [
         "Biscoe",
         50.5,
         15.2,
         216,
         5000,
         1
        ],
        [
         "Biscoe",
         49.8,
         15.9,
         229,
         5950,
         1
        ],
        [
         "Biscoe",
         43.5,
         15.2,
         213,
         4650,
         1
        ],
        [
         "Biscoe",
         51.5,
         16.3,
         230,
         5500,
         1
        ],
        [
         "Biscoe",
         46.2,
         14.1,
         217,
         4375,
         1
        ],
        [
         "Biscoe",
         55.1,
         16,
         230,
         5850,
         1
        ],
        [
         "Biscoe",
         44.5,
         15.7,
         217,
         4875,
         1
        ],
        [
         "Biscoe",
         48.8,
         16.2,
         222,
         6000,
         1
        ],
        [
         "Biscoe",
         47.2,
         13.7,
         214,
         4925,
         1
        ],
        [
         "Biscoe",
         46.8,
         14.3,
         215,
         4850,
         1
        ],
        [
         "Biscoe",
         50.4,
         15.7,
         222,
         5750,
         1
        ],
        [
         "Biscoe",
         45.2,
         14.8,
         212,
         5200,
         1
        ],
        [
         "Biscoe",
         49.9,
         16.1,
         213,
         5400,
         1
        ],
        [
         "Dream",
         46.5,
         17.9,
         192,
         3500,
         2
        ],
        [
         "Dream",
         50,
         19.5,
         196,
         3900,
         2
        ],
        [
         "Dream",
         51.3,
         19.2,
         193,
         3650,
         2
        ],
        [
         "Dream",
         45.4,
         18.7,
         188,
         3525,
         2
        ],
        [
         "Dream",
         52.7,
         19.8,
         197,
         3725,
         2
        ],
        [
         "Dream",
         45.2,
         17.8,
         198,
         3950,
         2
        ],
        [
         "Dream",
         46.1,
         18.2,
         178,
         3250,
         2
        ],
        [
         "Dream",
         51.3,
         18.2,
         197,
         3750,
         2
        ],
        [
         "Dream",
         46,
         18.9,
         195,
         4150,
         2
        ],
        [
         "Dream",
         51.3,
         19.9,
         198,
         3700,
         2
        ],
        [
         "Dream",
         46.6,
         17.8,
         193,
         3800,
         2
        ],
        [
         "Dream",
         51.7,
         20.3,
         194,
         3775,
         2
        ],
        [
         "Dream",
         47,
         17.3,
         185,
         3700,
         2
        ],
        [
         "Dream",
         52,
         18.1,
         201,
         4050,
         2
        ],
        [
         "Dream",
         45.9,
         17.1,
         190,
         3575,
         2
        ],
        [
         "Dream",
         50.5,
         19.6,
         201,
         4050,
         2
        ],
        [
         "Dream",
         50.3,
         20,
         197,
         3300,
         2
        ],
        [
         "Dream",
         58,
         17.8,
         181,
         3700,
         2
        ],
        [
         "Dream",
         46.4,
         18.6,
         190,
         3450,
         2
        ],
        [
         "Dream",
         49.2,
         18.2,
         195,
         4400,
         2
        ],
        [
         "Dream",
         42.4,
         17.3,
         181,
         3600,
         2
        ],
        [
         "Dream",
         48.5,
         17.5,
         191,
         3400,
         2
        ],
        [
         "Dream",
         43.2,
         16.6,
         187,
         2900,
         2
        ],
        [
         "Dream",
         50.6,
         19.4,
         193,
         3800,
         2
        ],
        [
         "Dream",
         46.7,
         17.9,
         195,
         3300,
         2
        ],
        [
         "Dream",
         52,
         19,
         197,
         4150,
         2
        ],
        [
         "Dream",
         50.5,
         18.4,
         200,
         3400,
         2
        ],
        [
         "Dream",
         49.5,
         19,
         200,
         3800,
         2
        ],
        [
         "Dream",
         46.4,
         17.8,
         191,
         3700,
         2
        ],
        [
         "Dream",
         52.8,
         20,
         205,
         4550,
         2
        ],
        [
         "Dream",
         40.9,
         16.6,
         187,
         3200,
         2
        ],
        [
         "Dream",
         54.2,
         20.8,
         201,
         4300,
         2
        ],
        [
         "Dream",
         42.5,
         16.7,
         187,
         3350,
         2
        ],
        [
         "Dream",
         51,
         18.8,
         203,
         4100,
         2
        ],
        [
         "Dream",
         49.7,
         18.6,
         195,
         3600,
         2
        ],
        [
         "Dream",
         47.5,
         16.8,
         199,
         3900,
         2
        ],
        [
         "Dream",
         47.6,
         18.3,
         195,
         3850,
         2
        ],
        [
         "Dream",
         52,
         20.7,
         210,
         4800,
         2
        ],
        [
         "Dream",
         46.9,
         16.6,
         192,
         2700,
         2
        ],
        [
         "Dream",
         53.5,
         19.9,
         205,
         4500,
         2
        ],
        [
         "Dream",
         49,
         19.5,
         210,
         3950,
         2
        ],
        [
         "Dream",
         46.2,
         17.5,
         187,
         3650,
         2
        ],
        [
         "Dream",
         50.9,
         19.1,
         196,
         3550,
         2
        ],
        [
         "Dream",
         45.5,
         17,
         196,
         3500,
         2
        ],
        [
         "Dream",
         50.9,
         17.9,
         196,
         3675,
         2
        ],
        [
         "Dream",
         50.8,
         18.5,
         201,
         4450,
         2
        ],
        [
         "Dream",
         50.1,
         17.9,
         190,
         3400,
         2
        ],
        [
         "Dream",
         49,
         19.6,
         212,
         4300,
         2
        ],
        [
         "Dream",
         51.5,
         18.7,
         187,
         3250,
         2
        ],
        [
         "Dream",
         49.8,
         17.3,
         198,
         3675,
         2
        ],
        [
         "Dream",
         48.1,
         16.4,
         199,
         3325,
         2
        ],
        [
         "Dream",
         51.4,
         19,
         201,
         3950,
         2
        ],
        [
         "Dream",
         45.7,
         17.3,
         193,
         3600,
         2
        ],
        [
         "Dream",
         50.7,
         19.7,
         203,
         4050,
         2
        ],
        [
         "Dream",
         42.5,
         17.3,
         187,
         3350,
         2
        ],
        [
         "Dream",
         52.2,
         18.8,
         197,
         3450,
         2
        ],
        [
         "Dream",
         45.2,
         16.6,
         191,
         3250,
         2
        ],
        [
         "Dream",
         49.3,
         19.9,
         203,
         4050,
         2
        ],
        [
         "Dream",
         50.2,
         18.8,
         202,
         3800,
         2
        ],
        [
         "Dream",
         45.6,
         19.4,
         194,
         3525,
         2
        ],
        [
         "Dream",
         51.9,
         19.5,
         206,
         3950,
         2
        ],
        [
         "Dream",
         46.8,
         16.5,
         189,
         3650,
         2
        ],
        [
         "Dream",
         45.7,
         17,
         195,
         3650,
         2
        ],
        [
         "Dream",
         55.8,
         19.8,
         207,
         4000,
         2
        ],
        [
         "Dream",
         43.5,
         18.1,
         202,
         3400,
         2
        ],
        [
         "Dream",
         49.6,
         18.2,
         193,
         3775,
         2
        ],
        [
         "Dream",
         50.8,
         19,
         210,
         4100,
         2
        ],
        [
         "Dream",
         50.2,
         18.7,
         198,
         3775,
         2
        ]
       ],
       "datasetInfos": [],
       "dbfsResultPath": null,
       "isJsonSchema": true,
       "metadata": {},
       "overflow": false,
       "plotOptions": {
        "customPlotOptions": {},
        "displayType": "table",
        "pivotAggregation": null,
        "pivotColumns": null,
        "xColumns": null,
        "yColumns": null
       },
       "removedWidgets": [],
       "schema": [
        {
         "metadata": "{}",
         "name": "Island",
         "type": "\"string\""
        },
        {
         "metadata": "{}",
         "name": "CulmenLength",
         "type": "\"float\""
        },
        {
         "metadata": "{}",
         "name": "CulmenDepth",
         "type": "\"float\""
        },
        {
         "metadata": "{}",
         "name": "FlipperLength",
         "type": "\"float\""
        },
        {
         "metadata": "{}",
         "name": "BodyMass",
         "type": "\"float\""
        },
        {
         "metadata": "{}",
         "name": "Species",
         "type": "\"integer\""
        }
       ],
       "type": "table"
      }
     },
     "output_type": "display_data"
    }
   ],
   "source": [
    "from pyspark.sql.types import *\n",
    "from pyspark.sql.functions import *\n",
    "   \n",
    "data = df.dropna().select(col(\"Island\").astype(\"string\"), col(\"CulmenLength\").astype(\"float\"),\n",
    "  col(\"CulmenDepth\").astype(\"float\"),\n",
    "  col(\"FlipperLength\").astype(\"float\"),\n",
    "  col(\"BodyMass\").astype(\"float\"),\n",
    "  col(\"Species\").astype(\"int\")\n",
    ")\n",
    "display(data)"
   ]
  },
  {
   "cell_type": "markdown",
   "metadata": {
    "application/vnd.databricks.v1+cell": {
     "cellMetadata": {
      "byteLimit": 2048000,
      "rowLimit": 10000
     },
     "inputWidgets": {},
     "nuid": "dd0e8b65-596c-4925-b12c-29cbe337aeeb",
     "showTitle": false,
     "tableResultSettingsMap": {},
     "title": ""
    }
   },
   "source": [
    "other tasks - fix (or remove) errors in the data, identify and remove outliers (untypically large or small values), or to balance the data so there’s a reasonably equal number of rows for each label you’re trying to predict."
   ]
  },
  {
   "cell_type": "markdown",
   "metadata": {
    "application/vnd.databricks.v1+cell": {
     "cellMetadata": {},
     "inputWidgets": {},
     "nuid": "0673415c-2d89-4d65-b641-1276c69e390b",
     "showTitle": false,
     "tableResultSettingsMap": {},
     "title": ""
    }
   },
   "source": [
    "### Split the data\n",
    "\n",
    "split the full data set into two randomized subsets"
   ]
  },
  {
   "cell_type": "code",
   "execution_count": 0,
   "metadata": {
    "application/vnd.databricks.v1+cell": {
     "cellMetadata": {
      "byteLimit": 2048000,
      "rowLimit": 10000
     },
     "inputWidgets": {},
     "nuid": "8c44f56f-8a5a-42e3-b2dc-4d0dd03e2270",
     "showTitle": false,
     "tableResultSettingsMap": {},
     "title": ""
    }
   },
   "outputs": [
    {
     "name": "stdout",
     "output_type": "stream",
     "text": [
      "Training Rows: 251  Testing Rows: 91\n"
     ]
    }
   ],
   "source": [
    "splits = data.randomSplit([0.7, 0.3])\n",
    "train = splits[0]\n",
    "test = splits[1]\n",
    "print (\"Training Rows:\", train.count(), \" Testing Rows:\", test.count())"
   ]
  },
  {
   "cell_type": "markdown",
   "metadata": {
    "application/vnd.databricks.v1+cell": {
     "cellMetadata": {},
     "inputWidgets": {},
     "nuid": "25c07ff5-1529-4187-9435-51ef7e0fea18",
     "showTitle": false,
     "tableResultSettingsMap": {},
     "title": ""
    }
   },
   "source": [
    "### Perform feature engineering\n",
    "\n",
    "* Encode categorical features\n",
    "\n",
    "encode the Island categorical column values as numeric indexes."
   ]
  },
  {
   "cell_type": "code",
   "execution_count": 0,
   "metadata": {
    "application/vnd.databricks.v1+cell": {
     "cellMetadata": {
      "byteLimit": 2048000,
      "rowLimit": 10000
     },
     "inputWidgets": {},
     "nuid": "8ca4296b-cfe2-4b61-8eef-2bcee4eb7081",
     "showTitle": false,
     "tableResultSettingsMap": {},
     "title": ""
    }
   },
   "outputs": [
    {
     "data": {
      "text/html": [
       "<style scoped>\n",
       "  .table-result-container {\n",
       "    max-height: 300px;\n",
       "    overflow: auto;\n",
       "  }\n",
       "  table, th, td {\n",
       "    border: 1px solid black;\n",
       "    border-collapse: collapse;\n",
       "  }\n",
       "  th, td {\n",
       "    padding: 5px;\n",
       "  }\n",
       "  th {\n",
       "    text-align: left;\n",
       "  }\n",
       "</style><div class='table-result-container'><table class='table-result'><thead style='background-color: white'><tr><th>CulmenLength</th><th>CulmenDepth</th><th>FlipperLength</th><th>BodyMass</th><th>Species</th><th>IslandIdx</th></tr></thead><tbody><tr><td>35.0</td><td>17.9</td><td>190.0</td><td>3450.0</td><td>0</td><td>0.0</td></tr><tr><td>35.7</td><td>16.9</td><td>185.0</td><td>3150.0</td><td>0</td><td>0.0</td></tr><tr><td>35.9</td><td>19.2</td><td>189.0</td><td>3800.0</td><td>0</td><td>0.0</td></tr><tr><td>36.5</td><td>16.6</td><td>181.0</td><td>2850.0</td><td>0</td><td>0.0</td></tr><tr><td>37.6</td><td>17.0</td><td>185.0</td><td>3600.0</td><td>0</td><td>0.0</td></tr><tr><td>37.6</td><td>19.1</td><td>194.0</td><td>3750.0</td><td>0</td><td>0.0</td></tr><tr><td>37.7</td><td>16.0</td><td>183.0</td><td>3075.0</td><td>0</td><td>0.0</td></tr><tr><td>37.7</td><td>18.7</td><td>180.0</td><td>3600.0</td><td>0</td><td>0.0</td></tr><tr><td>37.8</td><td>18.3</td><td>174.0</td><td>3400.0</td><td>0</td><td>0.0</td></tr><tr><td>37.8</td><td>20.0</td><td>190.0</td><td>4250.0</td><td>0</td><td>0.0</td></tr><tr><td>37.9</td><td>18.6</td><td>172.0</td><td>3150.0</td><td>0</td><td>0.0</td></tr><tr><td>38.1</td><td>16.5</td><td>198.0</td><td>3825.0</td><td>0</td><td>0.0</td></tr><tr><td>38.1</td><td>17.0</td><td>181.0</td><td>3175.0</td><td>0</td><td>0.0</td></tr><tr><td>38.2</td><td>18.1</td><td>185.0</td><td>3950.0</td><td>0</td><td>0.0</td></tr><tr><td>38.2</td><td>20.0</td><td>190.0</td><td>3900.0</td><td>0</td><td>0.0</td></tr><tr><td>38.6</td><td>17.2</td><td>199.0</td><td>3750.0</td><td>0</td><td>0.0</td></tr><tr><td>38.8</td><td>17.2</td><td>180.0</td><td>3800.0</td><td>0</td><td>0.0</td></tr><tr><td>39.0</td><td>17.5</td><td>186.0</td><td>3550.0</td><td>0</td><td>0.0</td></tr><tr><td>39.6</td><td>17.7</td><td>186.0</td><td>3500.0</td><td>0</td><td>0.0</td></tr><tr><td>39.6</td><td>20.7</td><td>191.0</td><td>3900.0</td><td>0</td><td>0.0</td></tr><tr><td>39.7</td><td>17.7</td><td>193.0</td><td>3200.0</td><td>0</td><td>0.0</td></tr><tr><td>39.7</td><td>18.9</td><td>184.0</td><td>3550.0</td><td>0</td><td>0.0</td></tr><tr><td>40.1</td><td>18.9</td><td>188.0</td><td>4300.0</td><td>0</td><td>0.0</td></tr><tr><td>40.5</td><td>17.9</td><td>187.0</td><td>3200.0</td><td>0</td><td>0.0</td></tr><tr><td>40.5</td><td>18.9</td><td>180.0</td><td>3950.0</td><td>0</td><td>0.0</td></tr><tr><td>40.6</td><td>18.6</td><td>183.0</td><td>3550.0</td><td>0</td><td>0.0</td></tr><tr><td>41.0</td><td>20.0</td><td>203.0</td><td>4725.0</td><td>0</td><td>0.0</td></tr><tr><td>41.1</td><td>19.1</td><td>188.0</td><td>4100.0</td><td>0</td><td>0.0</td></tr><tr><td>41.3</td><td>21.1</td><td>195.0</td><td>4400.0</td><td>0</td><td>0.0</td></tr><tr><td>41.4</td><td>18.6</td><td>191.0</td><td>3700.0</td><td>0</td><td>0.0</td></tr><tr><td>42.0</td><td>13.5</td><td>210.0</td><td>4150.0</td><td>1</td><td>0.0</td></tr><tr><td>42.0</td><td>19.5</td><td>200.0</td><td>4050.0</td><td>0</td><td>0.0</td></tr><tr><td>42.2</td><td>19.5</td><td>197.0</td><td>4275.0</td><td>0</td><td>0.0</td></tr><tr><td>42.6</td><td>13.7</td><td>213.0</td><td>4950.0</td><td>1</td><td>0.0</td></tr><tr><td>42.7</td><td>13.7</td><td>208.0</td><td>3950.0</td><td>1</td><td>0.0</td></tr><tr><td>42.7</td><td>18.3</td><td>196.0</td><td>4075.0</td><td>0</td><td>0.0</td></tr><tr><td>42.9</td><td>13.1</td><td>215.0</td><td>5000.0</td><td>1</td><td>0.0</td></tr><tr><td>43.2</td><td>14.5</td><td>208.0</td><td>4450.0</td><td>1</td><td>0.0</td></tr><tr><td>43.2</td><td>19.0</td><td>197.0</td><td>4775.0</td><td>0</td><td>0.0</td></tr><tr><td>43.3</td><td>13.4</td><td>209.0</td><td>4400.0</td><td>1</td><td>0.0</td></tr><tr><td>43.3</td><td>14.0</td><td>208.0</td><td>4575.0</td><td>1</td><td>0.0</td></tr><tr><td>43.4</td><td>14.4</td><td>218.0</td><td>4600.0</td><td>1</td><td>0.0</td></tr><tr><td>43.5</td><td>15.2</td><td>213.0</td><td>4650.0</td><td>1</td><td>0.0</td></tr><tr><td>43.6</td><td>13.9</td><td>217.0</td><td>4900.0</td><td>1</td><td>0.0</td></tr><tr><td>44.0</td><td>13.6</td><td>208.0</td><td>4350.0</td><td>1</td><td>0.0</td></tr><tr><td>44.5</td><td>14.3</td><td>216.0</td><td>4100.0</td><td>1</td><td>0.0</td></tr><tr><td>44.5</td><td>14.7</td><td>214.0</td><td>4850.0</td><td>1</td><td>0.0</td></tr><tr><td>44.5</td><td>15.7</td><td>217.0</td><td>4875.0</td><td>1</td><td>0.0</td></tr><tr><td>44.9</td><td>13.3</td><td>213.0</td><td>5100.0</td><td>1</td><td>0.0</td></tr><tr><td>44.9</td><td>13.8</td><td>212.0</td><td>4750.0</td><td>1</td><td>0.0</td></tr><tr><td>45.0</td><td>15.4</td><td>220.0</td><td>5050.0</td><td>1</td><td>0.0</td></tr><tr><td>45.2</td><td>13.8</td><td>215.0</td><td>4750.0</td><td>1</td><td>0.0</td></tr><tr><td>45.2</td><td>15.8</td><td>215.0</td><td>5300.0</td><td>1</td><td>0.0</td></tr><tr><td>45.3</td><td>13.7</td><td>210.0</td><td>4300.0</td><td>1</td><td>0.0</td></tr><tr><td>45.3</td><td>13.8</td><td>208.0</td><td>4200.0</td><td>1</td><td>0.0</td></tr><tr><td>45.4</td><td>14.6</td><td>211.0</td><td>4800.0</td><td>1</td><td>0.0</td></tr><tr><td>45.5</td><td>13.7</td><td>214.0</td><td>4650.0</td><td>1</td><td>0.0</td></tr><tr><td>45.5</td><td>13.9</td><td>210.0</td><td>4200.0</td><td>1</td><td>0.0</td></tr><tr><td>45.5</td><td>14.5</td><td>212.0</td><td>4750.0</td><td>1</td><td>0.0</td></tr><tr><td>45.5</td><td>15.0</td><td>220.0</td><td>5000.0</td><td>1</td><td>0.0</td></tr><tr><td>45.7</td><td>13.9</td><td>214.0</td><td>4400.0</td><td>1</td><td>0.0</td></tr><tr><td>45.8</td><td>14.6</td><td>210.0</td><td>4200.0</td><td>1</td><td>0.0</td></tr><tr><td>46.1</td><td>13.2</td><td>211.0</td><td>4500.0</td><td>1</td><td>0.0</td></tr><tr><td>46.1</td><td>15.1</td><td>215.0</td><td>5100.0</td><td>1</td><td>0.0</td></tr><tr><td>46.2</td><td>14.1</td><td>217.0</td><td>4375.0</td><td>1</td><td>0.0</td></tr><tr><td>46.2</td><td>14.5</td><td>209.0</td><td>4800.0</td><td>1</td><td>0.0</td></tr><tr><td>46.2</td><td>14.9</td><td>221.0</td><td>5300.0</td><td>1</td><td>0.0</td></tr><tr><td>46.3</td><td>15.8</td><td>215.0</td><td>5050.0</td><td>1</td><td>0.0</td></tr><tr><td>46.4</td><td>15.0</td><td>216.0</td><td>4700.0</td><td>1</td><td>0.0</td></tr><tr><td>46.5</td><td>13.5</td><td>210.0</td><td>4550.0</td><td>1</td><td>0.0</td></tr><tr><td>46.5</td><td>14.4</td><td>217.0</td><td>4900.0</td><td>1</td><td>0.0</td></tr><tr><td>46.5</td><td>14.5</td><td>213.0</td><td>4400.0</td><td>1</td><td>0.0</td></tr><tr><td>46.5</td><td>14.8</td><td>217.0</td><td>5200.0</td><td>1</td><td>0.0</td></tr><tr><td>46.6</td><td>14.2</td><td>210.0</td><td>4850.0</td><td>1</td><td>0.0</td></tr><tr><td>46.7</td><td>15.3</td><td>219.0</td><td>5200.0</td><td>1</td><td>0.0</td></tr><tr><td>46.8</td><td>14.3</td><td>215.0</td><td>4850.0</td><td>1</td><td>0.0</td></tr><tr><td>46.8</td><td>15.4</td><td>215.0</td><td>5150.0</td><td>1</td><td>0.0</td></tr><tr><td>46.8</td><td>16.1</td><td>215.0</td><td>5500.0</td><td>1</td><td>0.0</td></tr><tr><td>46.9</td><td>14.6</td><td>222.0</td><td>4875.0</td><td>1</td><td>0.0</td></tr><tr><td>47.2</td><td>13.7</td><td>214.0</td><td>4925.0</td><td>1</td><td>0.0</td></tr><tr><td>47.2</td><td>15.5</td><td>215.0</td><td>4975.0</td><td>1</td><td>0.0</td></tr><tr><td>47.3</td><td>13.8</td><td>216.0</td><td>4725.0</td><td>1</td><td>0.0</td></tr><tr><td>47.3</td><td>15.3</td><td>222.0</td><td>5250.0</td><td>1</td><td>0.0</td></tr><tr><td>47.4</td><td>14.6</td><td>212.0</td><td>4725.0</td><td>1</td><td>0.0</td></tr><tr><td>47.5</td><td>14.0</td><td>212.0</td><td>4875.0</td><td>1</td><td>0.0</td></tr><tr><td>47.5</td><td>14.2</td><td>209.0</td><td>4600.0</td><td>1</td><td>0.0</td></tr><tr><td>47.5</td><td>15.0</td><td>218.0</td><td>4950.0</td><td>1</td><td>0.0</td></tr><tr><td>47.6</td><td>14.5</td><td>215.0</td><td>5400.0</td><td>1</td><td>0.0</td></tr><tr><td>47.7</td><td>15.0</td><td>216.0</td><td>4750.0</td><td>1</td><td>0.0</td></tr><tr><td>47.8</td><td>15.0</td><td>215.0</td><td>5650.0</td><td>1</td><td>0.0</td></tr><tr><td>48.1</td><td>15.1</td><td>209.0</td><td>5500.0</td><td>1</td><td>0.0</td></tr><tr><td>48.2</td><td>14.3</td><td>210.0</td><td>4600.0</td><td>1</td><td>0.0</td></tr><tr><td>48.4</td><td>14.4</td><td>203.0</td><td>4625.0</td><td>1</td><td>0.0</td></tr><tr><td>48.5</td><td>14.1</td><td>220.0</td><td>5300.0</td><td>1</td><td>0.0</td></tr><tr><td>48.5</td><td>15.0</td><td>219.0</td><td>4850.0</td><td>1</td><td>0.0</td></tr><tr><td>48.6</td><td>16.0</td><td>230.0</td><td>5800.0</td><td>1</td><td>0.0</td></tr><tr><td>48.7</td><td>14.1</td><td>210.0</td><td>4450.0</td><td>1</td><td>0.0</td></tr><tr><td>48.7</td><td>15.7</td><td>208.0</td><td>5350.0</td><td>1</td><td>0.0</td></tr><tr><td>48.8</td><td>16.2</td><td>222.0</td><td>6000.0</td><td>1</td><td>0.0</td></tr><tr><td>49.0</td><td>16.1</td><td>216.0</td><td>5550.0</td><td>1</td><td>0.0</td></tr><tr><td>49.1</td><td>14.5</td><td>212.0</td><td>4625.0</td><td>1</td><td>0.0</td></tr><tr><td>49.1</td><td>14.8</td><td>220.0</td><td>5150.0</td><td>1</td><td>0.0</td></tr><tr><td>49.1</td><td>15.0</td><td>228.0</td><td>5500.0</td><td>1</td><td>0.0</td></tr><tr><td>49.3</td><td>15.7</td><td>217.0</td><td>5850.0</td><td>1</td><td>0.0</td></tr><tr><td>49.5</td><td>16.1</td><td>224.0</td><td>5650.0</td><td>1</td><td>0.0</td></tr><tr><td>49.5</td><td>16.2</td><td>229.0</td><td>5800.0</td><td>1</td><td>0.0</td></tr><tr><td>49.6</td><td>15.0</td><td>216.0</td><td>4750.0</td><td>1</td><td>0.0</td></tr><tr><td>49.8</td><td>15.9</td><td>229.0</td><td>5950.0</td><td>1</td><td>0.0</td></tr><tr><td>49.8</td><td>16.8</td><td>230.0</td><td>5700.0</td><td>1</td><td>0.0</td></tr><tr><td>49.9</td><td>16.1</td><td>213.0</td><td>5400.0</td><td>1</td><td>0.0</td></tr><tr><td>50.0</td><td>16.3</td><td>230.0</td><td>5700.0</td><td>1</td><td>0.0</td></tr><tr><td>50.2</td><td>14.3</td><td>218.0</td><td>5700.0</td><td>1</td><td>0.0</td></tr><tr><td>50.4</td><td>15.7</td><td>222.0</td><td>5750.0</td><td>1</td><td>0.0</td></tr><tr><td>50.5</td><td>15.2</td><td>216.0</td><td>5000.0</td><td>1</td><td>0.0</td></tr><tr><td>50.5</td><td>15.9</td><td>225.0</td><td>5400.0</td><td>1</td><td>0.0</td></tr><tr><td>50.7</td><td>15.0</td><td>223.0</td><td>5550.0</td><td>1</td><td>0.0</td></tr><tr><td>50.8</td><td>15.7</td><td>226.0</td><td>5200.0</td><td>1</td><td>0.0</td></tr><tr><td>50.8</td><td>17.3</td><td>228.0</td><td>5600.0</td><td>1</td><td>0.0</td></tr><tr><td>51.1</td><td>16.5</td><td>225.0</td><td>5250.0</td><td>1</td><td>0.0</td></tr><tr><td>51.5</td><td>16.3</td><td>230.0</td><td>5500.0</td><td>1</td><td>0.0</td></tr><tr><td>52.2</td><td>17.1</td><td>228.0</td><td>5400.0</td><td>1</td><td>0.0</td></tr><tr><td>52.5</td><td>15.6</td><td>221.0</td><td>5450.0</td><td>1</td><td>0.0</td></tr><tr><td>53.4</td><td>15.8</td><td>219.0</td><td>5500.0</td><td>1</td><td>0.0</td></tr><tr><td>54.3</td><td>15.7</td><td>231.0</td><td>5650.0</td><td>1</td><td>0.0</td></tr><tr><td>55.9</td><td>17.0</td><td>228.0</td><td>5600.0</td><td>1</td><td>0.0</td></tr><tr><td>59.6</td><td>17.0</td><td>230.0</td><td>6050.0</td><td>1</td><td>0.0</td></tr><tr><td>32.1</td><td>15.5</td><td>188.0</td><td>3050.0</td><td>0</td><td>1.0</td></tr><tr><td>33.1</td><td>16.1</td><td>178.0</td><td>2900.0</td><td>0</td><td>1.0</td></tr><tr><td>34.0</td><td>17.1</td><td>185.0</td><td>3400.0</td><td>0</td><td>1.0</td></tr><tr><td>35.6</td><td>17.5</td><td>191.0</td><td>3175.0</td><td>0</td><td>1.0</td></tr><tr><td>35.7</td><td>18.0</td><td>202.0</td><td>3550.0</td><td>0</td><td>1.0</td></tr><tr><td>36.0</td><td>17.8</td><td>195.0</td><td>3450.0</td><td>0</td><td>1.0</td></tr><tr><td>36.0</td><td>17.9</td><td>190.0</td><td>3450.0</td><td>0</td><td>1.0</td></tr><tr><td>36.0</td><td>18.5</td><td>186.0</td><td>3100.0</td><td>0</td><td>1.0</td></tr><tr><td>36.2</td><td>17.3</td><td>187.0</td><td>3300.0</td><td>0</td><td>1.0</td></tr><tr><td>36.4</td><td>17.0</td><td>195.0</td><td>3325.0</td><td>0</td><td>1.0</td></tr><tr><td>36.5</td><td>18.0</td><td>182.0</td><td>3150.0</td><td>0</td><td>1.0</td></tr><tr><td>36.6</td><td>18.4</td><td>184.0</td><td>3475.0</td><td>0</td><td>1.0</td></tr><tr><td>36.8</td><td>18.5</td><td>193.0</td><td>3500.0</td><td>0</td><td>1.0</td></tr><tr><td>36.9</td><td>18.6</td><td>189.0</td><td>3500.0</td><td>0</td><td>1.0</td></tr><tr><td>37.0</td><td>16.9</td><td>185.0</td><td>3000.0</td><td>0</td><td>1.0</td></tr><tr><td>37.2</td><td>18.1</td><td>178.0</td><td>3900.0</td><td>0</td><td>1.0</td></tr><tr><td>37.3</td><td>16.8</td><td>192.0</td><td>3000.0</td><td>0</td><td>1.0</td></tr><tr><td>37.5</td><td>18.5</td><td>199.0</td><td>4475.0</td><td>0</td><td>1.0</td></tr><tr><td>37.5</td><td>18.9</td><td>179.0</td><td>2975.0</td><td>0</td><td>1.0</td></tr><tr><td>37.6</td><td>19.3</td><td>181.0</td><td>3300.0</td><td>0</td><td>1.0</td></tr><tr><td>37.8</td><td>18.1</td><td>193.0</td><td>3750.0</td><td>0</td><td>1.0</td></tr><tr><td>38.1</td><td>18.6</td><td>190.0</td><td>3700.0</td><td>0</td><td>1.0</td></tr><tr><td>38.8</td><td>20.0</td><td>190.0</td><td>3950.0</td><td>0</td><td>1.0</td></tr><tr><td>38.9</td><td>18.8</td><td>190.0</td><td>3600.0</td><td>0</td><td>1.0</td></tr><tr><td>39.2</td><td>18.6</td><td>190.0</td><td>4250.0</td><td>0</td><td>1.0</td></tr><tr><td>39.5</td><td>16.7</td><td>178.0</td><td>3250.0</td><td>0</td><td>1.0</td></tr><tr><td>39.5</td><td>17.8</td><td>188.0</td><td>3300.0</td><td>0</td><td>1.0</td></tr><tr><td>39.6</td><td>18.1</td><td>186.0</td><td>4450.0</td><td>0</td><td>1.0</td></tr><tr><td>39.6</td><td>18.8</td><td>190.0</td><td>4600.0</td><td>0</td><td>1.0</td></tr><tr><td>39.8</td><td>19.1</td><td>184.0</td><td>4650.0</td><td>0</td><td>1.0</td></tr><tr><td>40.2</td><td>20.1</td><td>200.0</td><td>3975.0</td><td>0</td><td>1.0</td></tr><tr><td>40.8</td><td>18.4</td><td>195.0</td><td>3900.0</td><td>0</td><td>1.0</td></tr><tr><td>40.8</td><td>18.9</td><td>208.0</td><td>4300.0</td><td>0</td><td>1.0</td></tr><tr><td>40.9</td><td>16.6</td><td>187.0</td><td>3200.0</td><td>2</td><td>1.0</td></tr><tr><td>41.1</td><td>17.5</td><td>190.0</td><td>3900.0</td><td>0</td><td>1.0</td></tr><tr><td>41.1</td><td>18.1</td><td>205.0</td><td>4300.0</td><td>0</td><td>1.0</td></tr><tr><td>41.1</td><td>19.0</td><td>182.0</td><td>3425.0</td><td>0</td><td>1.0</td></tr><tr><td>41.3</td><td>20.3</td><td>194.0</td><td>3550.0</td><td>0</td><td>1.0</td></tr><tr><td>41.5</td><td>18.5</td><td>201.0</td><td>4000.0</td><td>0</td><td>1.0</td></tr><tr><td>42.2</td><td>18.5</td><td>180.0</td><td>3550.0</td><td>0</td><td>1.0</td></tr><tr><td>42.4</td><td>17.3</td><td>181.0</td><td>3600.0</td><td>2</td><td>1.0</td></tr><tr><td>42.5</td><td>16.7</td><td>187.0</td><td>3350.0</td><td>2</td><td>1.0</td></tr><tr><td>42.5</td><td>17.3</td><td>187.0</td><td>3350.0</td><td>2</td><td>1.0</td></tr><tr><td>43.2</td><td>16.6</td><td>187.0</td><td>2900.0</td><td>2</td><td>1.0</td></tr><tr><td>43.2</td><td>18.5</td><td>192.0</td><td>4100.0</td><td>0</td><td>1.0</td></tr><tr><td>44.1</td><td>19.7</td><td>196.0</td><td>4400.0</td><td>0</td><td>1.0</td></tr><tr><td>45.2</td><td>16.6</td><td>191.0</td><td>3250.0</td><td>2</td><td>1.0</td></tr><tr><td>45.2</td><td>17.8</td><td>198.0</td><td>3950.0</td><td>2</td><td>1.0</td></tr><tr><td>45.6</td><td>19.4</td><td>194.0</td><td>3525.0</td><td>2</td><td>1.0</td></tr><tr><td>45.7</td><td>17.0</td><td>195.0</td><td>3650.0</td><td>2</td><td>1.0</td></tr><tr><td>45.7</td><td>17.3</td><td>193.0</td><td>3600.0</td><td>2</td><td>1.0</td></tr><tr><td>45.9</td><td>17.1</td><td>190.0</td><td>3575.0</td><td>2</td><td>1.0</td></tr><tr><td>46.2</td><td>17.5</td><td>187.0</td><td>3650.0</td><td>2</td><td>1.0</td></tr><tr><td>46.6</td><td>17.8</td><td>193.0</td><td>3800.0</td><td>2</td><td>1.0</td></tr><tr><td>46.7</td><td>17.9</td><td>195.0</td><td>3300.0</td><td>2</td><td>1.0</td></tr><tr><td>46.8</td><td>16.5</td><td>189.0</td><td>3650.0</td><td>2</td><td>1.0</td></tr><tr><td>47.5</td><td>16.8</td><td>199.0</td><td>3900.0</td><td>2</td><td>1.0</td></tr><tr><td>47.6</td><td>18.3</td><td>195.0</td><td>3850.0</td><td>2</td><td>1.0</td></tr><tr><td>48.1</td><td>16.4</td><td>199.0</td><td>3325.0</td><td>2</td><td>1.0</td></tr><tr><td>48.5</td><td>17.5</td><td>191.0</td><td>3400.0</td><td>2</td><td>1.0</td></tr><tr><td>49.0</td><td>19.6</td><td>212.0</td><td>4300.0</td><td>2</td><td>1.0</td></tr><tr><td>49.2</td><td>18.2</td><td>195.0</td><td>4400.0</td><td>2</td><td>1.0</td></tr><tr><td>49.3</td><td>19.9</td><td>203.0</td><td>4050.0</td><td>2</td><td>1.0</td></tr><tr><td>49.5</td><td>19.0</td><td>200.0</td><td>3800.0</td><td>2</td><td>1.0</td></tr><tr><td>49.6</td><td>18.2</td><td>193.0</td><td>3775.0</td><td>2</td><td>1.0</td></tr><tr><td>49.7</td><td>18.6</td><td>195.0</td><td>3600.0</td><td>2</td><td>1.0</td></tr><tr><td>49.8</td><td>17.3</td><td>198.0</td><td>3675.0</td><td>2</td><td>1.0</td></tr><tr><td>50.1</td><td>17.9</td><td>190.0</td><td>3400.0</td><td>2</td><td>1.0</td></tr><tr><td>50.2</td><td>18.7</td><td>198.0</td><td>3775.0</td><td>2</td><td>1.0</td></tr><tr><td>50.2</td><td>18.8</td><td>202.0</td><td>3800.0</td><td>2</td><td>1.0</td></tr><tr><td>50.3</td><td>20.0</td><td>197.0</td><td>3300.0</td><td>2</td><td>1.0</td></tr><tr><td>50.5</td><td>18.4</td><td>200.0</td><td>3400.0</td><td>2</td><td>1.0</td></tr><tr><td>50.6</td><td>19.4</td><td>193.0</td><td>3800.0</td><td>2</td><td>1.0</td></tr><tr><td>50.7</td><td>19.7</td><td>203.0</td><td>4050.0</td><td>2</td><td>1.0</td></tr><tr><td>51.0</td><td>18.8</td><td>203.0</td><td>4100.0</td><td>2</td><td>1.0</td></tr><tr><td>51.3</td><td>18.2</td><td>197.0</td><td>3750.0</td><td>2</td><td>1.0</td></tr><tr><td>51.4</td><td>19.0</td><td>201.0</td><td>3950.0</td><td>2</td><td>1.0</td></tr><tr><td>51.5</td><td>18.7</td><td>187.0</td><td>3250.0</td><td>2</td><td>1.0</td></tr><tr><td>51.7</td><td>20.3</td><td>194.0</td><td>3775.0</td><td>2</td><td>1.0</td></tr><tr><td>51.9</td><td>19.5</td><td>206.0</td><td>3950.0</td><td>2</td><td>1.0</td></tr><tr><td>52.0</td><td>18.1</td><td>201.0</td><td>4050.0</td><td>2</td><td>1.0</td></tr><tr><td>52.0</td><td>20.7</td><td>210.0</td><td>4800.0</td><td>2</td><td>1.0</td></tr><tr><td>52.2</td><td>18.8</td><td>197.0</td><td>3450.0</td><td>2</td><td>1.0</td></tr><tr><td>52.7</td><td>19.8</td><td>197.0</td><td>3725.0</td><td>2</td><td>1.0</td></tr><tr><td>52.8</td><td>20.0</td><td>205.0</td><td>4550.0</td><td>2</td><td>1.0</td></tr><tr><td>33.5</td><td>19.0</td><td>190.0</td><td>3600.0</td><td>0</td><td>2.0</td></tr><tr><td>34.1</td><td>18.1</td><td>193.0</td><td>3475.0</td><td>0</td><td>2.0</td></tr><tr><td>34.4</td><td>18.4</td><td>184.0</td><td>3325.0</td><td>0</td><td>2.0</td></tr><tr><td>34.6</td><td>17.2</td><td>189.0</td><td>3200.0</td><td>0</td><td>2.0</td></tr><tr><td>34.6</td><td>21.1</td><td>198.0</td><td>4400.0</td><td>0</td><td>2.0</td></tr><tr><td>35.1</td><td>19.4</td><td>193.0</td><td>4200.0</td><td>0</td><td>2.0</td></tr><tr><td>35.2</td><td>15.9</td><td>186.0</td><td>3050.0</td><td>0</td><td>2.0</td></tr><tr><td>35.5</td><td>17.5</td><td>190.0</td><td>3700.0</td><td>0</td><td>2.0</td></tr><tr><td>35.7</td><td>17.0</td><td>189.0</td><td>3350.0</td><td>0</td><td>2.0</td></tr><tr><td>35.9</td><td>16.6</td><td>190.0</td><td>3050.0</td><td>0</td><td>2.0</td></tr><tr><td>36.2</td><td>17.2</td><td>187.0</td><td>3150.0</td><td>0</td><td>2.0</td></tr><tr><td>36.6</td><td>17.8</td><td>185.0</td><td>3700.0</td><td>0</td><td>2.0</td></tr><tr><td>36.7</td><td>18.8</td><td>187.0</td><td>3800.0</td><td>0</td><td>2.0</td></tr><tr><td>37.7</td><td>19.8</td><td>198.0</td><td>3500.0</td><td>0</td><td>2.0</td></tr><tr><td>37.8</td><td>17.1</td><td>186.0</td><td>3300.0</td><td>0</td><td>2.0</td></tr><tr><td>37.8</td><td>17.3</td><td>180.0</td><td>3700.0</td><td>0</td><td>2.0</td></tr><tr><td>38.5</td><td>17.9</td><td>190.0</td><td>3325.0</td><td>0</td><td>2.0</td></tr><tr><td>38.6</td><td>21.2</td><td>191.0</td><td>3800.0</td><td>0</td><td>2.0</td></tr><tr><td>38.8</td><td>17.6</td><td>191.0</td><td>3275.0</td><td>0</td><td>2.0</td></tr><tr><td>38.9</td><td>17.8</td><td>181.0</td><td>3625.0</td><td>0</td><td>2.0</td></tr><tr><td>39.0</td><td>17.1</td><td>191.0</td><td>3050.0</td><td>0</td><td>2.0</td></tr><tr><td>39.1</td><td>18.7</td><td>181.0</td><td>3750.0</td><td>0</td><td>2.0</td></tr><tr><td>39.2</td><td>19.6</td><td>195.0</td><td>4675.0</td><td>0</td><td>2.0</td></tr><tr><td>39.3</td><td>20.6</td><td>190.0</td><td>3650.0</td><td>0</td><td>2.0</td></tr><tr><td>39.5</td><td>17.4</td><td>186.0</td><td>3800.0</td><td>0</td><td>2.0</td></tr><tr><td>40.2</td><td>17.0</td><td>176.0</td><td>3450.0</td><td>0</td><td>2.0</td></tr><tr><td>40.3</td><td>18.0</td><td>195.0</td><td>3250.0</td><td>0</td><td>2.0</td></tr><tr><td>40.6</td><td>19.0</td><td>199.0</td><td>4000.0</td><td>0</td><td>2.0</td></tr><tr><td>40.9</td><td>16.8</td><td>191.0</td><td>3700.0</td><td>0</td><td>2.0</td></tr><tr><td>41.1</td><td>17.6</td><td>182.0</td><td>3200.0</td><td>0</td><td>2.0</td></tr><tr><td>41.1</td><td>18.6</td><td>189.0</td><td>3325.0</td><td>0</td><td>2.0</td></tr><tr><td>41.4</td><td>18.5</td><td>202.0</td><td>3875.0</td><td>0</td><td>2.0</td></tr><tr><td>41.5</td><td>18.3</td><td>195.0</td><td>4300.0</td><td>0</td><td>2.0</td></tr><tr><td>42.0</td><td>20.2</td><td>190.0</td><td>4250.0</td><td>0</td><td>2.0</td></tr><tr><td>42.1</td><td>19.1</td><td>195.0</td><td>4000.0</td><td>0</td><td>2.0</td></tr><tr><td>42.8</td><td>18.5</td><td>195.0</td><td>4250.0</td><td>0</td><td>2.0</td></tr><tr><td>43.1</td><td>19.2</td><td>197.0</td><td>3500.0</td><td>0</td><td>2.0</td></tr><tr><td>44.1</td><td>18.0</td><td>210.0</td><td>4000.0</td><td>0</td><td>2.0</td></tr><tr><td>45.8</td><td>18.9</td><td>197.0</td><td>4150.0</td><td>0</td><td>2.0</td></tr><tr><td>46.0</td><td>21.5</td><td>194.0</td><td>4200.0</td><td>0</td><td>2.0</td></tr></tbody></table></div>"
      ]
     },
     "metadata": {
      "application/vnd.databricks.v1+output": {
       "addedWidgets": {},
       "aggData": [],
       "aggError": "",
       "aggOverflow": false,
       "aggSchema": [],
       "aggSeriesLimitReached": false,
       "aggType": "",
       "arguments": {},
       "columnCustomDisplayInfos": {},
       "data": [
        [
         35,
         17.9,
         190,
         3450,
         0,
         0
        ],
        [
         35.7,
         16.9,
         185,
         3150,
         0,
         0
        ],
        [
         35.9,
         19.2,
         189,
         3800,
         0,
         0
        ],
        [
         36.5,
         16.6,
         181,
         2850,
         0,
         0
        ],
        [
         37.6,
         17,
         185,
         3600,
         0,
         0
        ],
        [
         37.6,
         19.1,
         194,
         3750,
         0,
         0
        ],
        [
         37.7,
         16,
         183,
         3075,
         0,
         0
        ],
        [
         37.7,
         18.7,
         180,
         3600,
         0,
         0
        ],
        [
         37.8,
         18.3,
         174,
         3400,
         0,
         0
        ],
        [
         37.8,
         20,
         190,
         4250,
         0,
         0
        ],
        [
         37.9,
         18.6,
         172,
         3150,
         0,
         0
        ],
        [
         38.1,
         16.5,
         198,
         3825,
         0,
         0
        ],
        [
         38.1,
         17,
         181,
         3175,
         0,
         0
        ],
        [
         38.2,
         18.1,
         185,
         3950,
         0,
         0
        ],
        [
         38.2,
         20,
         190,
         3900,
         0,
         0
        ],
        [
         38.6,
         17.2,
         199,
         3750,
         0,
         0
        ],
        [
         38.8,
         17.2,
         180,
         3800,
         0,
         0
        ],
        [
         39,
         17.5,
         186,
         3550,
         0,
         0
        ],
        [
         39.6,
         17.7,
         186,
         3500,
         0,
         0
        ],
        [
         39.6,
         20.7,
         191,
         3900,
         0,
         0
        ],
        [
         39.7,
         17.7,
         193,
         3200,
         0,
         0
        ],
        [
         39.7,
         18.9,
         184,
         3550,
         0,
         0
        ],
        [
         40.1,
         18.9,
         188,
         4300,
         0,
         0
        ],
        [
         40.5,
         17.9,
         187,
         3200,
         0,
         0
        ],
        [
         40.5,
         18.9,
         180,
         3950,
         0,
         0
        ],
        [
         40.6,
         18.6,
         183,
         3550,
         0,
         0
        ],
        [
         41,
         20,
         203,
         4725,
         0,
         0
        ],
        [
         41.1,
         19.1,
         188,
         4100,
         0,
         0
        ],
        [
         41.3,
         21.1,
         195,
         4400,
         0,
         0
        ],
        [
         41.4,
         18.6,
         191,
         3700,
         0,
         0
        ],
        [
         42,
         13.5,
         210,
         4150,
         1,
         0
        ],
        [
         42,
         19.5,
         200,
         4050,
         0,
         0
        ],
        [
         42.2,
         19.5,
         197,
         4275,
         0,
         0
        ],
        [
         42.6,
         13.7,
         213,
         4950,
         1,
         0
        ],
        [
         42.7,
         13.7,
         208,
         3950,
         1,
         0
        ],
        [
         42.7,
         18.3,
         196,
         4075,
         0,
         0
        ],
        [
         42.9,
         13.1,
         215,
         5000,
         1,
         0
        ],
        [
         43.2,
         14.5,
         208,
         4450,
         1,
         0
        ],
        [
         43.2,
         19,
         197,
         4775,
         0,
         0
        ],
        [
         43.3,
         13.4,
         209,
         4400,
         1,
         0
        ],
        [
         43.3,
         14,
         208,
         4575,
         1,
         0
        ],
        [
         43.4,
         14.4,
         218,
         4600,
         1,
         0
        ],
        [
         43.5,
         15.2,
         213,
         4650,
         1,
         0
        ],
        [
         43.6,
         13.9,
         217,
         4900,
         1,
         0
        ],
        [
         44,
         13.6,
         208,
         4350,
         1,
         0
        ],
        [
         44.5,
         14.3,
         216,
         4100,
         1,
         0
        ],
        [
         44.5,
         14.7,
         214,
         4850,
         1,
         0
        ],
        [
         44.5,
         15.7,
         217,
         4875,
         1,
         0
        ],
        [
         44.9,
         13.3,
         213,
         5100,
         1,
         0
        ],
        [
         44.9,
         13.8,
         212,
         4750,
         1,
         0
        ],
        [
         45,
         15.4,
         220,
         5050,
         1,
         0
        ],
        [
         45.2,
         13.8,
         215,
         4750,
         1,
         0
        ],
        [
         45.2,
         15.8,
         215,
         5300,
         1,
         0
        ],
        [
         45.3,
         13.7,
         210,
         4300,
         1,
         0
        ],
        [
         45.3,
         13.8,
         208,
         4200,
         1,
         0
        ],
        [
         45.4,
         14.6,
         211,
         4800,
         1,
         0
        ],
        [
         45.5,
         13.7,
         214,
         4650,
         1,
         0
        ],
        [
         45.5,
         13.9,
         210,
         4200,
         1,
         0
        ],
        [
         45.5,
         14.5,
         212,
         4750,
         1,
         0
        ],
        [
         45.5,
         15,
         220,
         5000,
         1,
         0
        ],
        [
         45.7,
         13.9,
         214,
         4400,
         1,
         0
        ],
        [
         45.8,
         14.6,
         210,
         4200,
         1,
         0
        ],
        [
         46.1,
         13.2,
         211,
         4500,
         1,
         0
        ],
        [
         46.1,
         15.1,
         215,
         5100,
         1,
         0
        ],
        [
         46.2,
         14.1,
         217,
         4375,
         1,
         0
        ],
        [
         46.2,
         14.5,
         209,
         4800,
         1,
         0
        ],
        [
         46.2,
         14.9,
         221,
         5300,
         1,
         0
        ],
        [
         46.3,
         15.8,
         215,
         5050,
         1,
         0
        ],
        [
         46.4,
         15,
         216,
         4700,
         1,
         0
        ],
        [
         46.5,
         13.5,
         210,
         4550,
         1,
         0
        ],
        [
         46.5,
         14.4,
         217,
         4900,
         1,
         0
        ],
        [
         46.5,
         14.5,
         213,
         4400,
         1,
         0
        ],
        [
         46.5,
         14.8,
         217,
         5200,
         1,
         0
        ],
        [
         46.6,
         14.2,
         210,
         4850,
         1,
         0
        ],
        [
         46.7,
         15.3,
         219,
         5200,
         1,
         0
        ],
        [
         46.8,
         14.3,
         215,
         4850,
         1,
         0
        ],
        [
         46.8,
         15.4,
         215,
         5150,
         1,
         0
        ],
        [
         46.8,
         16.1,
         215,
         5500,
         1,
         0
        ],
        [
         46.9,
         14.6,
         222,
         4875,
         1,
         0
        ],
        [
         47.2,
         13.7,
         214,
         4925,
         1,
         0
        ],
        [
         47.2,
         15.5,
         215,
         4975,
         1,
         0
        ],
        [
         47.3,
         13.8,
         216,
         4725,
         1,
         0
        ],
        [
         47.3,
         15.3,
         222,
         5250,
         1,
         0
        ],
        [
         47.4,
         14.6,
         212,
         4725,
         1,
         0
        ],
        [
         47.5,
         14,
         212,
         4875,
         1,
         0
        ],
        [
         47.5,
         14.2,
         209,
         4600,
         1,
         0
        ],
        [
         47.5,
         15,
         218,
         4950,
         1,
         0
        ],
        [
         47.6,
         14.5,
         215,
         5400,
         1,
         0
        ],
        [
         47.7,
         15,
         216,
         4750,
         1,
         0
        ],
        [
         47.8,
         15,
         215,
         5650,
         1,
         0
        ],
        [
         48.1,
         15.1,
         209,
         5500,
         1,
         0
        ],
        [
         48.2,
         14.3,
         210,
         4600,
         1,
         0
        ],
        [
         48.4,
         14.4,
         203,
         4625,
         1,
         0
        ],
        [
         48.5,
         14.1,
         220,
         5300,
         1,
         0
        ],
        [
         48.5,
         15,
         219,
         4850,
         1,
         0
        ],
        [
         48.6,
         16,
         230,
         5800,
         1,
         0
        ],
        [
         48.7,
         14.1,
         210,
         4450,
         1,
         0
        ],
        [
         48.7,
         15.7,
         208,
         5350,
         1,
         0
        ],
        [
         48.8,
         16.2,
         222,
         6000,
         1,
         0
        ],
        [
         49,
         16.1,
         216,
         5550,
         1,
         0
        ],
        [
         49.1,
         14.5,
         212,
         4625,
         1,
         0
        ],
        [
         49.1,
         14.8,
         220,
         5150,
         1,
         0
        ],
        [
         49.1,
         15,
         228,
         5500,
         1,
         0
        ],
        [
         49.3,
         15.7,
         217,
         5850,
         1,
         0
        ],
        [
         49.5,
         16.1,
         224,
         5650,
         1,
         0
        ],
        [
         49.5,
         16.2,
         229,
         5800,
         1,
         0
        ],
        [
         49.6,
         15,
         216,
         4750,
         1,
         0
        ],
        [
         49.8,
         15.9,
         229,
         5950,
         1,
         0
        ],
        [
         49.8,
         16.8,
         230,
         5700,
         1,
         0
        ],
        [
         49.9,
         16.1,
         213,
         5400,
         1,
         0
        ],
        [
         50,
         16.3,
         230,
         5700,
         1,
         0
        ],
        [
         50.2,
         14.3,
         218,
         5700,
         1,
         0
        ],
        [
         50.4,
         15.7,
         222,
         5750,
         1,
         0
        ],
        [
         50.5,
         15.2,
         216,
         5000,
         1,
         0
        ],
        [
         50.5,
         15.9,
         225,
         5400,
         1,
         0
        ],
        [
         50.7,
         15,
         223,
         5550,
         1,
         0
        ],
        [
         50.8,
         15.7,
         226,
         5200,
         1,
         0
        ],
        [
         50.8,
         17.3,
         228,
         5600,
         1,
         0
        ],
        [
         51.1,
         16.5,
         225,
         5250,
         1,
         0
        ],
        [
         51.5,
         16.3,
         230,
         5500,
         1,
         0
        ],
        [
         52.2,
         17.1,
         228,
         5400,
         1,
         0
        ],
        [
         52.5,
         15.6,
         221,
         5450,
         1,
         0
        ],
        [
         53.4,
         15.8,
         219,
         5500,
         1,
         0
        ],
        [
         54.3,
         15.7,
         231,
         5650,
         1,
         0
        ],
        [
         55.9,
         17,
         228,
         5600,
         1,
         0
        ],
        [
         59.6,
         17,
         230,
         6050,
         1,
         0
        ],
        [
         32.1,
         15.5,
         188,
         3050,
         0,
         1
        ],
        [
         33.1,
         16.1,
         178,
         2900,
         0,
         1
        ],
        [
         34,
         17.1,
         185,
         3400,
         0,
         1
        ],
        [
         35.6,
         17.5,
         191,
         3175,
         0,
         1
        ],
        [
         35.7,
         18,
         202,
         3550,
         0,
         1
        ],
        [
         36,
         17.8,
         195,
         3450,
         0,
         1
        ],
        [
         36,
         17.9,
         190,
         3450,
         0,
         1
        ],
        [
         36,
         18.5,
         186,
         3100,
         0,
         1
        ],
        [
         36.2,
         17.3,
         187,
         3300,
         0,
         1
        ],
        [
         36.4,
         17,
         195,
         3325,
         0,
         1
        ],
        [
         36.5,
         18,
         182,
         3150,
         0,
         1
        ],
        [
         36.6,
         18.4,
         184,
         3475,
         0,
         1
        ],
        [
         36.8,
         18.5,
         193,
         3500,
         0,
         1
        ],
        [
         36.9,
         18.6,
         189,
         3500,
         0,
         1
        ],
        [
         37,
         16.9,
         185,
         3000,
         0,
         1
        ],
        [
         37.2,
         18.1,
         178,
         3900,
         0,
         1
        ],
        [
         37.3,
         16.8,
         192,
         3000,
         0,
         1
        ],
        [
         37.5,
         18.5,
         199,
         4475,
         0,
         1
        ],
        [
         37.5,
         18.9,
         179,
         2975,
         0,
         1
        ],
        [
         37.6,
         19.3,
         181,
         3300,
         0,
         1
        ],
        [
         37.8,
         18.1,
         193,
         3750,
         0,
         1
        ],
        [
         38.1,
         18.6,
         190,
         3700,
         0,
         1
        ],
        [
         38.8,
         20,
         190,
         3950,
         0,
         1
        ],
        [
         38.9,
         18.8,
         190,
         3600,
         0,
         1
        ],
        [
         39.2,
         18.6,
         190,
         4250,
         0,
         1
        ],
        [
         39.5,
         16.7,
         178,
         3250,
         0,
         1
        ],
        [
         39.5,
         17.8,
         188,
         3300,
         0,
         1
        ],
        [
         39.6,
         18.1,
         186,
         4450,
         0,
         1
        ],
        [
         39.6,
         18.8,
         190,
         4600,
         0,
         1
        ],
        [
         39.8,
         19.1,
         184,
         4650,
         0,
         1
        ],
        [
         40.2,
         20.1,
         200,
         3975,
         0,
         1
        ],
        [
         40.8,
         18.4,
         195,
         3900,
         0,
         1
        ],
        [
         40.8,
         18.9,
         208,
         4300,
         0,
         1
        ],
        [
         40.9,
         16.6,
         187,
         3200,
         2,
         1
        ],
        [
         41.1,
         17.5,
         190,
         3900,
         0,
         1
        ],
        [
         41.1,
         18.1,
         205,
         4300,
         0,
         1
        ],
        [
         41.1,
         19,
         182,
         3425,
         0,
         1
        ],
        [
         41.3,
         20.3,
         194,
         3550,
         0,
         1
        ],
        [
         41.5,
         18.5,
         201,
         4000,
         0,
         1
        ],
        [
         42.2,
         18.5,
         180,
         3550,
         0,
         1
        ],
        [
         42.4,
         17.3,
         181,
         3600,
         2,
         1
        ],
        [
         42.5,
         16.7,
         187,
         3350,
         2,
         1
        ],
        [
         42.5,
         17.3,
         187,
         3350,
         2,
         1
        ],
        [
         43.2,
         16.6,
         187,
         2900,
         2,
         1
        ],
        [
         43.2,
         18.5,
         192,
         4100,
         0,
         1
        ],
        [
         44.1,
         19.7,
         196,
         4400,
         0,
         1
        ],
        [
         45.2,
         16.6,
         191,
         3250,
         2,
         1
        ],
        [
         45.2,
         17.8,
         198,
         3950,
         2,
         1
        ],
        [
         45.6,
         19.4,
         194,
         3525,
         2,
         1
        ],
        [
         45.7,
         17,
         195,
         3650,
         2,
         1
        ],
        [
         45.7,
         17.3,
         193,
         3600,
         2,
         1
        ],
        [
         45.9,
         17.1,
         190,
         3575,
         2,
         1
        ],
        [
         46.2,
         17.5,
         187,
         3650,
         2,
         1
        ],
        [
         46.6,
         17.8,
         193,
         3800,
         2,
         1
        ],
        [
         46.7,
         17.9,
         195,
         3300,
         2,
         1
        ],
        [
         46.8,
         16.5,
         189,
         3650,
         2,
         1
        ],
        [
         47.5,
         16.8,
         199,
         3900,
         2,
         1
        ],
        [
         47.6,
         18.3,
         195,
         3850,
         2,
         1
        ],
        [
         48.1,
         16.4,
         199,
         3325,
         2,
         1
        ],
        [
         48.5,
         17.5,
         191,
         3400,
         2,
         1
        ],
        [
         49,
         19.6,
         212,
         4300,
         2,
         1
        ],
        [
         49.2,
         18.2,
         195,
         4400,
         2,
         1
        ],
        [
         49.3,
         19.9,
         203,
         4050,
         2,
         1
        ],
        [
         49.5,
         19,
         200,
         3800,
         2,
         1
        ],
        [
         49.6,
         18.2,
         193,
         3775,
         2,
         1
        ],
        [
         49.7,
         18.6,
         195,
         3600,
         2,
         1
        ],
        [
         49.8,
         17.3,
         198,
         3675,
         2,
         1
        ],
        [
         50.1,
         17.9,
         190,
         3400,
         2,
         1
        ],
        [
         50.2,
         18.7,
         198,
         3775,
         2,
         1
        ],
        [
         50.2,
         18.8,
         202,
         3800,
         2,
         1
        ],
        [
         50.3,
         20,
         197,
         3300,
         2,
         1
        ],
        [
         50.5,
         18.4,
         200,
         3400,
         2,
         1
        ],
        [
         50.6,
         19.4,
         193,
         3800,
         2,
         1
        ],
        [
         50.7,
         19.7,
         203,
         4050,
         2,
         1
        ],
        [
         51,
         18.8,
         203,
         4100,
         2,
         1
        ],
        [
         51.3,
         18.2,
         197,
         3750,
         2,
         1
        ],
        [
         51.4,
         19,
         201,
         3950,
         2,
         1
        ],
        [
         51.5,
         18.7,
         187,
         3250,
         2,
         1
        ],
        [
         51.7,
         20.3,
         194,
         3775,
         2,
         1
        ],
        [
         51.9,
         19.5,
         206,
         3950,
         2,
         1
        ],
        [
         52,
         18.1,
         201,
         4050,
         2,
         1
        ],
        [
         52,
         20.7,
         210,
         4800,
         2,
         1
        ],
        [
         52.2,
         18.8,
         197,
         3450,
         2,
         1
        ],
        [
         52.7,
         19.8,
         197,
         3725,
         2,
         1
        ],
        [
         52.8,
         20,
         205,
         4550,
         2,
         1
        ],
        [
         33.5,
         19,
         190,
         3600,
         0,
         2
        ],
        [
         34.1,
         18.1,
         193,
         3475,
         0,
         2
        ],
        [
         34.4,
         18.4,
         184,
         3325,
         0,
         2
        ],
        [
         34.6,
         17.2,
         189,
         3200,
         0,
         2
        ],
        [
         34.6,
         21.1,
         198,
         4400,
         0,
         2
        ],
        [
         35.1,
         19.4,
         193,
         4200,
         0,
         2
        ],
        [
         35.2,
         15.9,
         186,
         3050,
         0,
         2
        ],
        [
         35.5,
         17.5,
         190,
         3700,
         0,
         2
        ],
        [
         35.7,
         17,
         189,
         3350,
         0,
         2
        ],
        [
         35.9,
         16.6,
         190,
         3050,
         0,
         2
        ],
        [
         36.2,
         17.2,
         187,
         3150,
         0,
         2
        ],
        [
         36.6,
         17.8,
         185,
         3700,
         0,
         2
        ],
        [
         36.7,
         18.8,
         187,
         3800,
         0,
         2
        ],
        [
         37.7,
         19.8,
         198,
         3500,
         0,
         2
        ],
        [
         37.8,
         17.1,
         186,
         3300,
         0,
         2
        ],
        [
         37.8,
         17.3,
         180,
         3700,
         0,
         2
        ],
        [
         38.5,
         17.9,
         190,
         3325,
         0,
         2
        ],
        [
         38.6,
         21.2,
         191,
         3800,
         0,
         2
        ],
        [
         38.8,
         17.6,
         191,
         3275,
         0,
         2
        ],
        [
         38.9,
         17.8,
         181,
         3625,
         0,
         2
        ],
        [
         39,
         17.1,
         191,
         3050,
         0,
         2
        ],
        [
         39.1,
         18.7,
         181,
         3750,
         0,
         2
        ],
        [
         39.2,
         19.6,
         195,
         4675,
         0,
         2
        ],
        [
         39.3,
         20.6,
         190,
         3650,
         0,
         2
        ],
        [
         39.5,
         17.4,
         186,
         3800,
         0,
         2
        ],
        [
         40.2,
         17,
         176,
         3450,
         0,
         2
        ],
        [
         40.3,
         18,
         195,
         3250,
         0,
         2
        ],
        [
         40.6,
         19,
         199,
         4000,
         0,
         2
        ],
        [
         40.9,
         16.8,
         191,
         3700,
         0,
         2
        ],
        [
         41.1,
         17.6,
         182,
         3200,
         0,
         2
        ],
        [
         41.1,
         18.6,
         189,
         3325,
         0,
         2
        ],
        [
         41.4,
         18.5,
         202,
         3875,
         0,
         2
        ],
        [
         41.5,
         18.3,
         195,
         4300,
         0,
         2
        ],
        [
         42,
         20.2,
         190,
         4250,
         0,
         2
        ],
        [
         42.1,
         19.1,
         195,
         4000,
         0,
         2
        ],
        [
         42.8,
         18.5,
         195,
         4250,
         0,
         2
        ],
        [
         43.1,
         19.2,
         197,
         3500,
         0,
         2
        ],
        [
         44.1,
         18,
         210,
         4000,
         0,
         2
        ],
        [
         45.8,
         18.9,
         197,
         4150,
         0,
         2
        ],
        [
         46,
         21.5,
         194,
         4200,
         0,
         2
        ]
       ],
       "datasetInfos": [],
       "dbfsResultPath": null,
       "isJsonSchema": true,
       "metadata": {},
       "overflow": false,
       "plotOptions": {
        "customPlotOptions": {},
        "displayType": "table",
        "pivotAggregation": null,
        "pivotColumns": null,
        "xColumns": null,
        "yColumns": null
       },
       "removedWidgets": [],
       "schema": [
        {
         "metadata": "{}",
         "name": "CulmenLength",
         "type": "\"float\""
        },
        {
         "metadata": "{}",
         "name": "CulmenDepth",
         "type": "\"float\""
        },
        {
         "metadata": "{}",
         "name": "FlipperLength",
         "type": "\"float\""
        },
        {
         "metadata": "{}",
         "name": "BodyMass",
         "type": "\"float\""
        },
        {
         "metadata": "{}",
         "name": "Species",
         "type": "\"integer\""
        },
        {
         "metadata": "{\"ml_attr\":{\"vals\":[\"Biscoe\",\"Dream\",\"Torgersen\"],\"type\":\"nominal\",\"name\":\"IslandIdx\"}}",
         "name": "IslandIdx",
         "type": "\"double\""
        }
       ],
       "type": "table"
      }
     },
     "output_type": "display_data"
    }
   ],
   "source": [
    "from pyspark.ml.feature import StringIndexer\n",
    "\n",
    "indexer = StringIndexer(inputCol=\"Island\", outputCol=\"IslandIdx\")\n",
    "indexedData = indexer.fit(train).transform(train).drop(\"Island\")\n",
    "display(indexedData)"
   ]
  },
  {
   "cell_type": "markdown",
   "metadata": {
    "application/vnd.databricks.v1+cell": {
     "cellMetadata": {},
     "inputWidgets": {},
     "nuid": "6c4fb04a-f873-411f-9730-21f3925bcdc4",
     "showTitle": false,
     "tableResultSettingsMap": {},
     "title": ""
    }
   },
   "source": [
    "* Normalize (scale) numeric features\n",
    "\n",
    "These values (CulmenLength, CulmenDepth, FlipperLength, and BodyMass) all represent measurements of one sort or another, but they’re in different scales.\n",
    "\n",
    "We need to scale multiple column values at the same time, so the technique we use is to create a single column containing a vector (essentially an array) of all the numeric features, and then apply a scaler to produce a new vector column with the equivalent normalized values."
   ]
  },
  {
   "cell_type": "code",
   "execution_count": 0,
   "metadata": {
    "application/vnd.databricks.v1+cell": {
     "cellMetadata": {
      "byteLimit": 2048000,
      "rowLimit": 10000
     },
     "inputWidgets": {},
     "nuid": "fd9b0a77-70ac-4190-bbfe-71183b9646f2",
     "showTitle": false,
     "tableResultSettingsMap": {},
     "title": ""
    }
   },
   "outputs": [
    {
     "data": {
      "text/html": [
       "<style scoped>\n",
       "  .table-result-container {\n",
       "    max-height: 300px;\n",
       "    overflow: auto;\n",
       "  }\n",
       "  table, th, td {\n",
       "    border: 1px solid black;\n",
       "    border-collapse: collapse;\n",
       "  }\n",
       "  th, td {\n",
       "    padding: 5px;\n",
       "  }\n",
       "  th {\n",
       "    text-align: left;\n",
       "  }\n",
       "</style><div class='table-result-container'><table class='table-result'><thead style='background-color: white'><tr><th>numericFeatures</th><th>normalizedFeatures</th></tr></thead><tbody><tr><td>Map(vectorType -> dense, length -> 4, values -> List(35.0, 17.899999618530273, 190.0, 3450.0))</td><td>Map(vectorType -> dense, length -> 4, values -> List(0.10545460094105114, 0.5714285065527647, 0.3050847457627119, 0.1875))</td></tr><tr><td>Map(vectorType -> dense, length -> 4, values -> List(35.70000076293945, 16.899999618530273, 185.0, 3150.0))</td><td>Map(vectorType -> dense, length -> 4, values -> List(0.13090917413884942, 0.4523808820988284, 0.22033898305084745, 0.09375))</td></tr><tr><td>Map(vectorType -> dense, length -> 4, values -> List(35.900001525878906, 19.200000762939453, 189.0, 3800.0))</td><td>Map(vectorType -> dense, length -> 4, values -> List(0.13818192915482955, 0.726190554582076, 0.288135593220339, 0.296875))</td></tr><tr><td>Map(vectorType -> dense, length -> 4, values -> List(36.5, 16.600000381469727, 181.0, 2850.0))</td><td>Map(vectorType -> dense, length -> 4, values -> List(0.16000005548650567, 0.416666685588777, 0.15254237288135594, 0.0))</td></tr><tr><td>Map(vectorType -> dense, length -> 4, values -> List(37.599998474121094, 17.0, 185.0, 3600.0))</td><td>Map(vectorType -> dense, length -> 4, values -> List(0.19999999999999998, 0.46428568995728675, 0.22033898305084745, 0.234375))</td></tr><tr><td>Map(vectorType -> dense, length -> 4, values -> List(37.599998474121094, 19.100000381469727, 194.0, 3750.0))</td><td>Map(vectorType -> dense, length -> 4, values -> List(0.19999999999999998, 0.7142857467236177, 0.3728813559322034, 0.28125))</td></tr><tr><td>Map(vectorType -> dense, length -> 4, values -> List(37.70000076293945, 16.0, 183.0, 3075.0))</td><td>Map(vectorType -> dense, length -> 4, values -> List(0.20363644686612214, 0.34523806550335046, 0.1864406779661017, 0.0703125))</td></tr><tr><td>Map(vectorType -> dense, length -> 4, values -> List(37.70000076293945, 18.700000762939453, 180.0, 3600.0))</td><td>Map(vectorType -> dense, length -> 4, values -> List(0.20363644686612214, 0.6666667423551079, 0.13559322033898305, 0.234375))</td></tr><tr><td>Map(vectorType -> dense, length -> 4, values -> List(37.79999923706055, 18.299999237060547, 174.0, 3400.0))</td><td>Map(vectorType -> dense, length -> 4, values -> List(0.2072727550159801, 0.6190475109212744, 0.03389830508474576, 0.171875))</td></tr><tr><td>Map(vectorType -> dense, length -> 4, values -> List(37.79999923706055, 20.0, 190.0, 4250.0))</td><td>Map(vectorType -> dense, length -> 4, values -> List(0.2072727550159801, 0.8214285633190956, 0.3050847457627119, 0.4375))</td></tr><tr><td>Map(vectorType -> dense, length -> 4, values -> List(37.900001525878906, 18.600000381469727, 172.0, 3150.0))</td><td>Map(vectorType -> dense, length -> 4, values -> List(0.21090920188210227, 0.6547619344966495, 0.0, 0.09375))</td></tr><tr><td>Map(vectorType -> dense, length -> 4, values -> List(38.099998474121094, 16.5, 198.0, 3825.0))</td><td>Map(vectorType -> dense, length -> 4, values -> List(0.21818181818181817, 0.40476187773031863, 0.4406779661016949, 0.3046875))</td></tr><tr><td>Map(vectorType -> dense, length -> 4, values -> List(38.099998474121094, 17.0, 181.0, 3175.0))</td><td>Map(vectorType -> dense, length -> 4, values -> List(0.21818181818181817, 0.46428568995728675, 0.15254237288135594, 0.1015625))</td></tr><tr><td>Map(vectorType -> dense, length -> 4, values -> List(38.20000076293945, 18.100000381469727, 185.0, 3950.0))</td><td>Map(vectorType -> dense, length -> 4, values -> List(0.22181826504794033, 0.5952381222696814, 0.22033898305084745, 0.34375))</td></tr><tr><td>Map(vectorType -> dense, length -> 4, values -> List(38.20000076293945, 20.0, 190.0, 3900.0))</td><td>Map(vectorType -> dense, length -> 4, values -> List(0.22181826504794033, 0.8214285633190956, 0.3050847457627119, 0.328125))</td></tr><tr><td>Map(vectorType -> dense, length -> 4, values -> List(38.599998474121094, 17.200000762939453, 199.0, 3750.0))</td><td>Map(vectorType -> dense, length -> 4, values -> List(0.23636363636363636, 0.4880953056742035, 0.4576271186440678, 0.28125))</td></tr><tr><td>Map(vectorType -> dense, length -> 4, values -> List(38.79999923706055, 17.200000762939453, 180.0, 3800.0))</td><td>Map(vectorType -> dense, length -> 4, values -> List(0.24363639137961646, 0.4880953056742035, 0.13559322033898305, 0.296875))</td></tr><tr><td>Map(vectorType -> dense, length -> 4, values -> List(39.0, 17.5, 186.0, 3550.0))</td><td>Map(vectorType -> dense, length -> 4, values -> List(0.2509091463955966, 0.5238095021842549, 0.23728813559322035, 0.21875))</td></tr><tr><td>Map(vectorType -> dense, length -> 4, values -> List(39.599998474121094, 17.700000762939453, 186.0, 3500.0))</td><td>Map(vectorType -> dense, length -> 4, values -> List(0.2727272727272727, 0.5476191179011717, 0.23728813559322035, 0.203125))</td></tr><tr><td>Map(vectorType -> dense, length -> 4, values -> List(39.599998474121094, 20.700000762939453, 191.0, 3900.0))</td><td>Map(vectorType -> dense, length -> 4, values -> List(0.2727272727272727, 0.9047619912629805, 0.3220338983050847, 0.328125))</td></tr><tr><td>Map(vectorType -> dense, length -> 4, values -> List(39.70000076293945, 17.700000762939453, 193.0, 3200.0))</td><td>Map(vectorType -> dense, length -> 4, values -> List(0.2763637195933949, 0.5476191179011717, 0.3559322033898305, 0.109375))</td></tr><tr><td>Map(vectorType -> dense, length -> 4, values -> List(39.70000076293945, 18.899999618530273, 184.0, 3550.0))</td><td>Map(vectorType -> dense, length -> 4, values -> List(0.2763637195933949, 0.6904761310067009, 0.2033898305084746, 0.21875))</td></tr><tr><td>Map(vectorType -> dense, length -> 4, values -> List(40.099998474121094, 18.899999618530273, 188.0, 4300.0))</td><td>Map(vectorType -> dense, length -> 4, values -> List(0.2909090909090909, 0.6904761310067009, 0.2711864406779661, 0.453125))</td></tr><tr><td>Map(vectorType -> dense, length -> 4, values -> List(40.5, 17.899999618530273, 187.0, 3200.0))</td><td>Map(vectorType -> dense, length -> 4, values -> List(0.30545460094105115, 0.5714285065527647, 0.2542372881355932, 0.109375))</td></tr><tr><td>Map(vectorType -> dense, length -> 4, values -> List(40.5, 18.899999618530273, 180.0, 3950.0))</td><td>Map(vectorType -> dense, length -> 4, values -> List(0.30545460094105115, 0.6904761310067009, 0.13559322033898305, 0.34375))</td></tr><tr><td>Map(vectorType -> dense, length -> 4, values -> List(40.599998474121094, 18.600000381469727, 183.0, 3550.0))</td><td>Map(vectorType -> dense, length -> 4, values -> List(0.3090909090909091, 0.6547619344966495, 0.1864406779661017, 0.21875))</td></tr><tr><td>Map(vectorType -> dense, length -> 4, values -> List(41.0, 20.0, 203.0, 4725.0))</td><td>Map(vectorType -> dense, length -> 4, values -> List(0.3236364191228693, 0.8214285633190956, 0.5254237288135594, 0.5859375))</td></tr><tr><td>Map(vectorType -> dense, length -> 4, values -> List(41.099998474121094, 19.100000381469727, 188.0, 4100.0))</td><td>Map(vectorType -> dense, length -> 4, values -> List(0.32727272727272727, 0.7142857467236177, 0.2711864406779661, 0.390625))</td></tr><tr><td>Map(vectorType -> dense, length -> 4, values -> List(41.29999923706055, 21.100000381469727, 195.0, 4400.0))</td><td>Map(vectorType -> dense, length -> 4, values -> List(0.3345454822887074, 0.9523809956314903, 0.3898305084745763, 0.484375))</td></tr><tr><td>Map(vectorType -> dense, length -> 4, values -> List(41.400001525878906, 18.600000381469727, 191.0, 3700.0))</td><td>Map(vectorType -> dense, length -> 4, values -> List(0.33818192915482953, 0.6547619344966495, 0.3220338983050847, 0.265625))</td></tr><tr><td>Map(vectorType -> dense, length -> 4, values -> List(42.0, 13.5, 210.0, 4150.0))</td><td>Map(vectorType -> dense, length -> 4, values -> List(0.36000005548650565, 0.047619004368509764, 0.6440677966101694, 0.40625))</td></tr><tr><td>Map(vectorType -> dense, length -> 4, values -> List(42.0, 19.5, 200.0, 4050.0))</td><td>Map(vectorType -> dense, length -> 4, values -> List(0.36000005548650565, 0.7619047510921274, 0.4745762711864407, 0.375))</td></tr><tr><td>Map(vectorType -> dense, length -> 4, values -> List(42.20000076293945, 19.5, 197.0, 4275.0))</td><td>Map(vectorType -> dense, length -> 4, values -> List(0.3672728105024858, 0.7619047510921274, 0.423728813559322, 0.4453125))</td></tr><tr><td>Map(vectorType -> dense, length -> 4, values -> List(42.599998474121094, 13.699999809265137, 213.0, 4950.0))</td><td>Map(vectorType -> dense, length -> 4, values -> List(0.3818181818181818, 0.07142850655276464, 0.6949152542372882, 0.65625))</td></tr><tr><td>Map(vectorType -> dense, length -> 4, values -> List(42.70000076293945, 13.699999809265137, 208.0, 3950.0))</td><td>Map(vectorType -> dense, length -> 4, values -> List(0.38545462868430397, 0.07142850655276464, 0.6101694915254238, 0.34375))</td></tr><tr><td>Map(vectorType -> dense, length -> 4, values -> List(42.70000076293945, 18.299999237060547, 196.0, 4075.0))</td><td>Map(vectorType -> dense, length -> 4, values -> List(0.38545462868430397, 0.6190475109212744, 0.4067796610169492, 0.3828125))</td></tr><tr><td>Map(vectorType -> dense, length -> 4, values -> List(42.900001525878906, 13.100000381469727, 215.0, 5000.0))</td><td>Map(vectorType -> dense, length -> 4, values -> List(0.3927273837002841, 0.0, 0.7288135593220338, 0.671875))</td></tr><tr><td>Map(vectorType -> dense, length -> 4, values -> List(43.20000076293945, 14.5, 208.0, 4450.0))</td><td>Map(vectorType -> dense, length -> 4, values -> List(0.40363644686612216, 0.16666662882244604, 0.6101694915254238, 0.5))</td></tr><tr><td>Map(vectorType -> dense, length -> 4, values -> List(43.20000076293945, 19.0, 197.0, 4775.0))</td><td>Map(vectorType -> dense, length -> 4, values -> List(0.40363644686612216, 0.7023809388651593, 0.423728813559322, 0.6015625))</td></tr><tr><td>Map(vectorType -> dense, length -> 4, values -> List(43.29999923706055, 13.399999618530273, 209.0, 4400.0))</td><td>Map(vectorType -> dense, length -> 4, values -> List(0.4072727550159801, 0.03571419651005139, 0.6271186440677966, 0.484375))</td></tr><tr><td>Map(vectorType -> dense, length -> 4, values -> List(43.29999923706055, 14.0, 208.0, 4575.0))</td><td>Map(vectorType -> dense, length -> 4, values -> List(0.4072727550159801, 0.1071428165954779, 0.6101694915254238, 0.5390625))</td></tr><tr><td>Map(vectorType -> dense, length -> 4, values -> List(43.400001525878906, 14.399999618530273, 218.0, 4600.0))</td><td>Map(vectorType -> dense, length -> 4, values -> List(0.4109092018821022, 0.15476182096398766, 0.7796610169491526, 0.546875))</td></tr><tr><td>Map(vectorType -> dense, length -> 4, values -> List(43.5, 15.199999809265137, 213.0, 4650.0))</td><td>Map(vectorType -> dense, length -> 4, values -> List(0.4145455100319602, 0.24999994323366906, 0.6949152542372882, 0.5625))</td></tr><tr><td>Map(vectorType -> dense, length -> 4, values -> List(43.599998474121094, 13.899999618530273, 217.0, 4900.0))</td><td>Map(vectorType -> dense, length -> 4, values -> List(0.41818181818181815, 0.09523800873701953, 0.7627118644067796, 0.640625))</td></tr><tr><td>Map(vectorType -> dense, length -> 4, values -> List(44.0, 13.600000381469727, 208.0, 4350.0))</td><td>Map(vectorType -> dense, length -> 4, values -> List(0.4327273282137784, 0.05952381222696814, 0.6101694915254238, 0.46875))</td></tr><tr><td>Map(vectorType -> dense, length -> 4, values -> List(44.5, 14.300000190734863, 216.0, 4100.0))</td><td>Map(vectorType -> dense, length -> 4, values -> List(0.4509091463955966, 0.14285712663819117, 0.7457627118644068, 0.390625))</td></tr><tr><td>Map(vectorType -> dense, length -> 4, values -> List(44.5, 14.699999809265137, 214.0, 4850.0))</td><td>Map(vectorType -> dense, length -> 4, values -> List(0.4509091463955966, 0.19047613100670094, 0.711864406779661, 0.625))</td></tr><tr><td>Map(vectorType -> dense, length -> 4, values -> List(44.5, 15.699999809265137, 217.0, 4875.0))</td><td>Map(vectorType -> dense, length -> 4, values -> List(0.4509091463955966, 0.3095237554606372, 0.7627118644067796, 0.6328125))</td></tr><tr><td>Map(vectorType -> dense, length -> 4, values -> List(44.900001525878906, 13.300000190734863, 213.0, 5100.0))</td><td>Map(vectorType -> dense, length -> 4, values -> List(0.4654546564275568, 0.023809502184254882, 0.6949152542372882, 0.703125))</td></tr><tr><td>Map(vectorType -> dense, length -> 4, values -> List(44.900001525878906, 13.800000190734863, 212.0, 4750.0))</td><td>Map(vectorType -> dense, length -> 4, values -> List(0.4654546564275568, 0.08333331441122302, 0.6779661016949152, 0.59375))</td></tr><tr><td>Map(vectorType -> dense, length -> 4, values -> List(45.0, 15.399999618530273, 220.0, 5050.0))</td><td>Map(vectorType -> dense, length -> 4, values -> List(0.4690909645774147, 0.27380944541792396, 0.8135593220338984, 0.6875))</td></tr><tr><td>Map(vectorType -> dense, length -> 4, values -> List(45.20000076293945, 13.800000190734863, 215.0, 4750.0))</td><td>Map(vectorType -> dense, length -> 4, values -> List(0.47636371959339485, 0.08333331441122302, 0.7288135593220338, 0.59375))</td></tr><tr><td>Map(vectorType -> dense, length -> 4, values -> List(45.20000076293945, 15.800000190734863, 215.0, 5300.0))</td><td>Map(vectorType -> dense, length -> 4, values -> List(0.47636371959339485, 0.3214285633190956, 0.7288135593220338, 0.765625))</td></tr><tr><td>Map(vectorType -> dense, length -> 4, values -> List(45.29999923706055, 13.699999809265137, 210.0, 4300.0))</td><td>Map(vectorType -> dense, length -> 4, values -> List(0.48000002774325284, 0.07142850655276464, 0.6440677966101694, 0.453125))</td></tr><tr><td>Map(vectorType -> dense, length -> 4, values -> List(45.29999923706055, 13.800000190734863, 208.0, 4200.0))</td><td>Map(vectorType -> dense, length -> 4, values -> List(0.48000002774325284, 0.08333331441122302, 0.6101694915254238, 0.421875))</td></tr><tr><td>Map(vectorType -> dense, length -> 4, values -> List(45.400001525878906, 14.600000381469727, 211.0, 4800.0))</td><td>Map(vectorType -> dense, length -> 4, values -> List(0.483636474609375, 0.17857143668090442, 0.6610169491525424, 0.609375))</td></tr><tr><td>Map(vectorType -> dense, length -> 4, values -> List(45.5, 13.699999809265137, 214.0, 4650.0))</td><td>Map(vectorType -> dense, length -> 4, values -> List(0.4872727827592329, 0.07142850655276464, 0.711864406779661, 0.5625))</td></tr><tr><td>Map(vectorType -> dense, length -> 4, values -> List(45.5, 13.899999618530273, 210.0, 4200.0))</td><td>Map(vectorType -> dense, length -> 4, values -> List(0.4872727827592329, 0.09523800873701953, 0.6440677966101694, 0.421875))</td></tr><tr><td>Map(vectorType -> dense, length -> 4, values -> List(45.5, 14.5, 212.0, 4750.0))</td><td>Map(vectorType -> dense, length -> 4, values -> List(0.4872727827592329, 0.16666662882244604, 0.6779661016949152, 0.59375))</td></tr><tr><td>Map(vectorType -> dense, length -> 4, values -> List(45.5, 15.0, 220.0, 5000.0))</td><td>Map(vectorType -> dense, length -> 4, values -> List(0.4872727827592329, 0.2261904410494142, 0.8135593220338984, 0.671875))</td></tr><tr><td>Map(vectorType -> dense, length -> 4, values -> List(45.70000076293945, 13.899999618530273, 214.0, 4400.0))</td><td>Map(vectorType -> dense, length -> 4, values -> List(0.49454553777521304, 0.09523800873701953, 0.711864406779661, 0.484375))</td></tr><tr><td>Map(vectorType -> dense, length -> 4, values -> List(45.79999923706055, 14.600000381469727, 210.0, 4200.0))</td><td>Map(vectorType -> dense, length -> 4, values -> List(0.498181845925071, 0.17857143668090442, 0.6440677966101694, 0.421875))</td></tr><tr><td>Map(vectorType -> dense, length -> 4, values -> List(46.099998474121094, 13.199999809265137, 211.0, 4500.0))</td><td>Map(vectorType -> dense, length -> 4, values -> List(0.509090909090909, 0.011904694325796506, 0.6610169491525424, 0.515625))</td></tr><tr><td>Map(vectorType -> dense, length -> 4, values -> List(46.099998474121094, 15.100000381469727, 215.0, 5100.0))</td><td>Map(vectorType -> dense, length -> 4, values -> List(0.509090909090909, 0.23809524890787256, 0.7288135593220338, 0.703125))</td></tr><tr><td>Map(vectorType -> dense, length -> 4, values -> List(46.20000076293945, 14.100000381469727, 217.0, 4375.0))</td><td>Map(vectorType -> dense, length -> 4, values -> List(0.5127273559570312, 0.11904762445393628, 0.7627118644067796, 0.4765625))</td></tr><tr><td>Map(vectorType -> dense, length -> 4, values -> List(46.20000076293945, 14.5, 209.0, 4800.0))</td><td>Map(vectorType -> dense, length -> 4, values -> List(0.5127273559570312, 0.16666662882244604, 0.6271186440677966, 0.609375))</td></tr><tr><td>Map(vectorType -> dense, length -> 4, values -> List(46.20000076293945, 14.899999618530273, 221.0, 5300.0))</td><td>Map(vectorType -> dense, length -> 4, values -> List(0.5127273559570312, 0.2142856331909558, 0.8305084745762712, 0.765625))</td></tr><tr><td>Map(vectorType -> dense, length -> 4, values -> List(46.29999923706055, 15.800000190734863, 215.0, 5050.0))</td><td>Map(vectorType -> dense, length -> 4, values -> List(0.5163636641068892, 0.3214285633190956, 0.7288135593220338, 0.6875))</td></tr><tr><td>Map(vectorType -> dense, length -> 4, values -> List(46.400001525878906, 15.0, 216.0, 4700.0))</td><td>Map(vectorType -> dense, length -> 4, values -> List(0.5200001109730114, 0.2261904410494142, 0.7457627118644068, 0.578125))</td></tr><tr><td>Map(vectorType -> dense, length -> 4, values -> List(46.5, 13.5, 210.0, 4550.0))</td><td>Map(vectorType -> dense, length -> 4, values -> List(0.5236364191228693, 0.047619004368509764, 0.6440677966101694, 0.53125))</td></tr><tr><td>Map(vectorType -> dense, length -> 4, values -> List(46.5, 14.399999618530273, 217.0, 4900.0))</td><td>Map(vectorType -> dense, length -> 4, values -> List(0.5236364191228693, 0.15476182096398766, 0.7627118644067796, 0.640625))</td></tr><tr><td>Map(vectorType -> dense, length -> 4, values -> List(46.5, 14.5, 213.0, 4400.0))</td><td>Map(vectorType -> dense, length -> 4, values -> List(0.5236364191228693, 0.16666662882244604, 0.6949152542372882, 0.484375))</td></tr><tr><td>Map(vectorType -> dense, length -> 4, values -> List(46.5, 14.800000190734863, 217.0, 5200.0))</td><td>Map(vectorType -> dense, length -> 4, values -> List(0.5236364191228693, 0.20238093886515932, 0.7627118644067796, 0.734375))</td></tr><tr><td>Map(vectorType -> dense, length -> 4, values -> List(46.599998474121094, 14.199999809265137, 210.0, 4850.0))</td><td>Map(vectorType -> dense, length -> 4, values -> List(0.5272727272727272, 0.1309523187797328, 0.6440677966101694, 0.625))</td></tr><tr><td>Map(vectorType -> dense, length -> 4, values -> List(46.70000076293945, 15.300000190734863, 219.0, 5200.0))</td><td>Map(vectorType -> dense, length -> 4, values -> List(0.5309091741388494, 0.26190475109212746, 0.7966101694915254, 0.734375))</td></tr><tr><td>Map(vectorType -> dense, length -> 4, values -> List(46.79999923706055, 14.300000190734863, 215.0, 4850.0))</td><td>Map(vectorType -> dense, length -> 4, values -> List(0.5345454822887074, 0.14285712663819117, 0.7288135593220338, 0.625))</td></tr><tr><td>Map(vectorType -> dense, length -> 4, values -> List(46.79999923706055, 15.399999618530273, 215.0, 5150.0))</td><td>Map(vectorType -> dense, length -> 4, values -> List(0.5345454822887074, 0.27380944541792396, 0.7288135593220338, 0.71875))</td></tr><tr><td>Map(vectorType -> dense, length -> 4, values -> List(46.79999923706055, 16.100000381469727, 215.0, 5500.0))</td><td>Map(vectorType -> dense, length -> 4, values -> List(0.5345454822887074, 0.35714287336180883, 0.7288135593220338, 0.828125))</td></tr><tr><td>Map(vectorType -> dense, length -> 4, values -> List(46.900001525878906, 14.600000381469727, 222.0, 4875.0))</td><td>Map(vectorType -> dense, length -> 4, values -> List(0.5381819291548295, 0.17857143668090442, 0.847457627118644, 0.6328125))</td></tr><tr><td>Map(vectorType -> dense, length -> 4, values -> List(47.20000076293945, 13.699999809265137, 214.0, 4925.0))</td><td>Map(vectorType -> dense, length -> 4, values -> List(0.5490909923206676, 0.07142850655276464, 0.711864406779661, 0.6484375))</td></tr><tr><td>Map(vectorType -> dense, length -> 4, values -> List(47.20000076293945, 15.5, 215.0, 4975.0))</td><td>Map(vectorType -> dense, length -> 4, values -> List(0.5490909923206676, 0.28571425327638234, 0.7288135593220338, 0.6640625))</td></tr><tr><td>Map(vectorType -> dense, length -> 4, values -> List(47.29999923706055, 13.800000190734863, 216.0, 4725.0))</td><td>Map(vectorType -> dense, length -> 4, values -> List(0.5527273004705255, 0.08333331441122302, 0.7457627118644068, 0.5859375))</td></tr><tr><td>Map(vectorType -> dense, length -> 4, values -> List(47.29999923706055, 15.300000190734863, 222.0, 5250.0))</td><td>Map(vectorType -> dense, length -> 4, values -> List(0.5527273004705255, 0.26190475109212746, 0.847457627118644, 0.75))</td></tr><tr><td>Map(vectorType -> dense, length -> 4, values -> List(47.400001525878906, 14.600000381469727, 212.0, 4725.0))</td><td>Map(vectorType -> dense, length -> 4, values -> List(0.5563637473366477, 0.17857143668090442, 0.6779661016949152, 0.5859375))</td></tr><tr><td>Map(vectorType -> dense, length -> 4, values -> List(47.5, 14.0, 212.0, 4875.0))</td><td>Map(vectorType -> dense, length -> 4, values -> List(0.5600000554865057, 0.1071428165954779, 0.6779661016949152, 0.6328125))</td></tr><tr><td>Map(vectorType -> dense, length -> 4, values -> List(47.5, 14.199999809265137, 209.0, 4600.0))</td><td>Map(vectorType -> dense, length -> 4, values -> List(0.5600000554865057, 0.1309523187797328, 0.6271186440677966, 0.546875))</td></tr><tr><td>Map(vectorType -> dense, length -> 4, values -> List(47.5, 15.0, 218.0, 4950.0))</td><td>Map(vectorType -> dense, length -> 4, values -> List(0.5600000554865057, 0.2261904410494142, 0.7796610169491526, 0.65625))</td></tr><tr><td>Map(vectorType -> dense, length -> 4, values -> List(47.599998474121094, 14.5, 215.0, 5400.0))</td><td>Map(vectorType -> dense, length -> 4, values -> List(0.5636363636363636, 0.16666662882244604, 0.7288135593220338, 0.796875))</td></tr><tr><td>Map(vectorType -> dense, length -> 4, values -> List(47.70000076293945, 15.0, 216.0, 4750.0))</td><td>Map(vectorType -> dense, length -> 4, values -> List(0.5672728105024858, 0.2261904410494142, 0.7457627118644068, 0.59375))</td></tr><tr><td>Map(vectorType -> dense, length -> 4, values -> List(47.79999923706055, 15.0, 215.0, 5650.0))</td><td>Map(vectorType -> dense, length -> 4, values -> List(0.5709091186523437, 0.2261904410494142, 0.7288135593220338, 0.875))</td></tr><tr><td>Map(vectorType -> dense, length -> 4, values -> List(48.099998474121094, 15.100000381469727, 209.0, 5500.0))</td><td>Map(vectorType -> dense, length -> 4, values -> List(0.5818181818181818, 0.23809524890787256, 0.6271186440677966, 0.828125))</td></tr><tr><td>Map(vectorType -> dense, length -> 4, values -> List(48.20000076293945, 14.300000190734863, 210.0, 4600.0))</td><td>Map(vectorType -> dense, length -> 4, values -> List(0.585454628684304, 0.14285712663819117, 0.6440677966101694, 0.546875))</td></tr><tr><td>Map(vectorType -> dense, length -> 4, values -> List(48.400001525878906, 14.399999618530273, 203.0, 4625.0))</td><td>Map(vectorType -> dense, length -> 4, values -> List(0.5927273837002841, 0.15476182096398766, 0.5254237288135594, 0.5546875))</td></tr><tr><td>Map(vectorType -> dense, length -> 4, values -> List(48.5, 14.100000381469727, 220.0, 5300.0))</td><td>Map(vectorType -> dense, length -> 4, values -> List(0.596363691850142, 0.11904762445393628, 0.8135593220338984, 0.765625))</td></tr><tr><td>Map(vectorType -> dense, length -> 4, values -> List(48.5, 15.0, 219.0, 4850.0))</td><td>Map(vectorType -> dense, length -> 4, values -> List(0.596363691850142, 0.2261904410494142, 0.7966101694915254, 0.625))</td></tr><tr><td>Map(vectorType -> dense, length -> 4, values -> List(48.599998474121094, 16.0, 230.0, 5800.0))</td><td>Map(vectorType -> dense, length -> 4, values -> List(0.6, 0.34523806550335046, 0.9830508474576272, 0.921875))</td></tr><tr><td>Map(vectorType -> dense, length -> 4, values -> List(48.70000076293945, 14.100000381469727, 210.0, 4450.0))</td><td>Map(vectorType -> dense, length -> 4, values -> List(0.6036364468661222, 0.11904762445393628, 0.6440677966101694, 0.5))</td></tr><tr><td>Map(vectorType -> dense, length -> 4, values -> List(48.70000076293945, 15.699999809265137, 208.0, 5350.0))</td><td>Map(vectorType -> dense, length -> 4, values -> List(0.6036364468661222, 0.3095237554606372, 0.6101694915254238, 0.78125))</td></tr><tr><td>Map(vectorType -> dense, length -> 4, values -> List(48.79999923706055, 16.200000762939453, 222.0, 6000.0))</td><td>Map(vectorType -> dense, length -> 4, values -> List(0.6072727550159801, 0.3690476812202672, 0.847457627118644, 0.984375))</td></tr><tr><td>Map(vectorType -> dense, length -> 4, values -> List(49.0, 16.100000381469727, 216.0, 5550.0))</td><td>Map(vectorType -> dense, length -> 4, values -> List(0.6145455100319602, 0.35714287336180883, 0.7457627118644068, 0.84375))</td></tr><tr><td>Map(vectorType -> dense, length -> 4, values -> List(49.099998474121094, 14.5, 212.0, 4625.0))</td><td>Map(vectorType -> dense, length -> 4, values -> List(0.6181818181818182, 0.16666662882244604, 0.6779661016949152, 0.5546875))</td></tr><tr><td>Map(vectorType -> dense, length -> 4, values -> List(49.099998474121094, 14.800000190734863, 220.0, 5150.0))</td><td>Map(vectorType -> dense, length -> 4, values -> List(0.6181818181818182, 0.20238093886515932, 0.8135593220338984, 0.71875))</td></tr><tr><td>Map(vectorType -> dense, length -> 4, values -> List(49.099998474121094, 15.0, 228.0, 5500.0))</td><td>Map(vectorType -> dense, length -> 4, values -> List(0.6181818181818182, 0.2261904410494142, 0.9491525423728814, 0.828125))</td></tr><tr><td>Map(vectorType -> dense, length -> 4, values -> List(49.29999923706055, 15.699999809265137, 217.0, 5850.0))</td><td>Map(vectorType -> dense, length -> 4, values -> List(0.6254545731977983, 0.3095237554606372, 0.7627118644067796, 0.9375))</td></tr><tr><td>Map(vectorType -> dense, length -> 4, values -> List(49.5, 16.100000381469727, 224.0, 5650.0))</td><td>Map(vectorType -> dense, length -> 4, values -> List(0.6327273282137784, 0.35714287336180883, 0.8813559322033898, 0.875))</td></tr><tr><td>Map(vectorType -> dense, length -> 4, values -> List(49.5, 16.200000762939453, 229.0, 5800.0))</td><td>Map(vectorType -> dense, length -> 4, values -> List(0.6327273282137784, 0.3690476812202672, 0.9661016949152542, 0.921875))</td></tr><tr><td>Map(vectorType -> dense, length -> 4, values -> List(49.599998474121094, 15.0, 216.0, 4750.0))</td><td>Map(vectorType -> dense, length -> 4, values -> List(0.6363636363636364, 0.2261904410494142, 0.7457627118644068, 0.59375))</td></tr><tr><td>Map(vectorType -> dense, length -> 4, values -> List(49.79999923706055, 15.899999618530273, 229.0, 5950.0))</td><td>Map(vectorType -> dense, length -> 4, values -> List(0.6436363913796165, 0.3333332576448921, 0.9661016949152542, 0.96875))</td></tr><tr><td>Map(vectorType -> dense, length -> 4, values -> List(49.79999923706055, 16.799999237060547, 230.0, 5700.0))</td><td>Map(vectorType -> dense, length -> 4, values -> List(0.6436363913796165, 0.44047607424037, 0.9830508474576272, 0.890625))</td></tr><tr><td>Map(vectorType -> dense, length -> 4, values -> List(49.900001525878906, 16.100000381469727, 213.0, 5400.0))</td><td>Map(vectorType -> dense, length -> 4, values -> List(0.6472728382457386, 0.35714287336180883, 0.6949152542372882, 0.796875))</td></tr><tr><td>Map(vectorType -> dense, length -> 4, values -> List(50.0, 16.299999237060547, 230.0, 5700.0))</td><td>Map(vectorType -> dense, length -> 4, values -> List(0.6509091463955966, 0.3809522620134019, 0.9830508474576272, 0.890625))</td></tr><tr><td>Map(vectorType -> dense, length -> 4, values -> List(50.20000076293945, 14.300000190734863, 218.0, 5700.0))</td><td>Map(vectorType -> dense, length -> 4, values -> List(0.6581819014115766, 0.14285712663819117, 0.7796610169491526, 0.890625))</td></tr><tr><td>Map(vectorType -> dense, length -> 4, values -> List(50.400001525878906, 15.699999809265137, 222.0, 5750.0))</td><td>Map(vectorType -> dense, length -> 4, values -> List(0.6654546564275567, 0.3095237554606372, 0.847457627118644, 0.90625))</td></tr><tr><td>Map(vectorType -> dense, length -> 4, values -> List(50.5, 15.199999809265137, 216.0, 5000.0))</td><td>Map(vectorType -> dense, length -> 4, values -> List(0.6690909645774148, 0.24999994323366906, 0.7457627118644068, 0.671875))</td></tr><tr><td>Map(vectorType -> dense, length -> 4, values -> List(50.5, 15.899999618530273, 225.0, 5400.0))</td><td>Map(vectorType -> dense, length -> 4, values -> List(0.6690909645774148, 0.3333332576448921, 0.8983050847457628, 0.796875))</td></tr><tr><td>Map(vectorType -> dense, length -> 4, values -> List(50.70000076293945, 15.0, 223.0, 5550.0))</td><td>Map(vectorType -> dense, length -> 4, values -> List(0.6763637195933948, 0.2261904410494142, 0.864406779661017, 0.84375))</td></tr><tr><td>Map(vectorType -> dense, length -> 4, values -> List(50.79999923706055, 15.699999809265137, 226.0, 5200.0))</td><td>Map(vectorType -> dense, length -> 4, values -> List(0.6800000277432529, 0.3095237554606372, 0.9152542372881356, 0.734375))</td></tr><tr><td>Map(vectorType -> dense, length -> 4, values -> List(50.79999923706055, 17.299999237060547, 228.0, 5600.0))</td><td>Map(vectorType -> dense, length -> 4, values -> List(0.6800000277432529, 0.4999998864673381, 0.9491525423728814, 0.859375))</td></tr><tr><td>Map(vectorType -> dense, length -> 4, values -> List(51.099998474121094, 16.5, 225.0, 5250.0))</td><td>Map(vectorType -> dense, length -> 4, values -> List(0.6909090909090909, 0.40476187773031863, 0.8983050847457628, 0.75))</td></tr><tr><td>Map(vectorType -> dense, length -> 4, values -> List(51.5, 16.299999237060547, 230.0, 5500.0))</td><td>Map(vectorType -> dense, length -> 4, values -> List(0.7054546009410511, 0.3809522620134019, 0.9830508474576272, 0.828125))</td></tr><tr><td>Map(vectorType -> dense, length -> 4, values -> List(52.20000076293945, 17.100000381469727, 228.0, 5400.0))</td><td>Map(vectorType -> dense, length -> 4, values -> List(0.7309091741388494, 0.47619049781574513, 0.9491525423728814, 0.796875))</td></tr><tr><td>Map(vectorType -> dense, length -> 4, values -> List(52.5, 15.600000381469727, 221.0, 5450.0))</td><td>Map(vectorType -> dense, length -> 4, values -> List(0.7418182373046874, 0.2976190611348407, 0.8305084745762712, 0.8125))</td></tr><tr><td>Map(vectorType -> dense, length -> 4, values -> List(53.400001525878906, 15.800000190734863, 219.0, 5500.0))</td><td>Map(vectorType -> dense, length -> 4, values -> List(0.7745455655184659, 0.3214285633190956, 0.7966101694915254, 0.828125))</td></tr><tr><td>Map(vectorType -> dense, length -> 4, values -> List(54.29999923706055, 15.699999809265137, 231.0, 5650.0))</td><td>Map(vectorType -> dense, length -> 4, values -> List(0.8072727550159801, 0.3095237554606372, 1.0, 0.875))</td></tr><tr><td>Map(vectorType -> dense, length -> 4, values -> List(55.900001525878906, 17.0, 228.0, 5600.0))</td><td>Map(vectorType -> dense, length -> 4, values -> List(0.8654546564275568, 0.46428568995728675, 0.9491525423728814, 0.859375))</td></tr><tr><td>Map(vectorType -> dense, length -> 4, values -> List(59.599998474121094, 17.0, 230.0, 6050.0))</td><td>Map(vectorType -> dense, length -> 4, values -> List(1.0, 0.46428568995728675, 0.9830508474576272, 1.0))</td></tr><tr><td>Map(vectorType -> dense, length -> 4, values -> List(32.099998474121094, 15.5, 188.0, 3050.0))</td><td>Map(vectorType -> dense, length -> 4, values -> List(0.0, 0.28571425327638234, 0.2711864406779661, 0.0625))</td></tr><tr><td>Map(vectorType -> dense, length -> 4, values -> List(33.099998474121094, 16.100000381469727, 178.0, 2900.0))</td><td>Map(vectorType -> dense, length -> 4, values -> List(0.03636363636363636, 0.35714287336180883, 0.1016949152542373, 0.015625))</td></tr><tr><td>Map(vectorType -> dense, length -> 4, values -> List(34.0, 17.100000381469727, 185.0, 3400.0))</td><td>Map(vectorType -> dense, length -> 4, values -> List(0.06909096457741477, 0.47619049781574513, 0.22033898305084745, 0.171875))</td></tr><tr><td>Map(vectorType -> dense, length -> 4, values -> List(35.599998474121094, 17.5, 191.0, 3175.0))</td><td>Map(vectorType -> dense, length -> 4, values -> List(0.12727272727272726, 0.5238095021842549, 0.3220338983050847, 0.1015625))</td></tr><tr><td>Map(vectorType -> dense, length -> 4, values -> List(35.70000076293945, 18.0, 202.0, 3550.0))</td><td>Map(vectorType -> dense, length -> 4, values -> List(0.13090917413884942, 0.583333314411223, 0.5084745762711864, 0.21875))</td></tr><tr><td>Map(vectorType -> dense, length -> 4, values -> List(36.0, 17.799999237060547, 195.0, 3450.0))</td><td>Map(vectorType -> dense, length -> 4, values -> List(0.14181823730468748, 0.5595236986943063, 0.3898305084745763, 0.1875))</td></tr><tr><td>Map(vectorType -> dense, length -> 4, values -> List(36.0, 17.899999618530273, 190.0, 3450.0))</td><td>Map(vectorType -> dense, length -> 4, values -> List(0.14181823730468748, 0.5714285065527647, 0.3050847457627119, 0.1875))</td></tr><tr><td>Map(vectorType -> dense, length -> 4, values -> List(36.0, 18.5, 186.0, 3100.0))</td><td>Map(vectorType -> dense, length -> 4, values -> List(0.14181823730468748, 0.6428571266381912, 0.23728813559322035, 0.078125))</td></tr><tr><td>Map(vectorType -> dense, length -> 4, values -> List(36.20000076293945, 17.299999237060547, 187.0, 3300.0))</td><td>Map(vectorType -> dense, length -> 4, values -> List(0.1490909923206676, 0.4999998864673381, 0.2542372881355932, 0.140625))</td></tr><tr><td>Map(vectorType -> dense, length -> 4, values -> List(36.400001525878906, 17.0, 195.0, 3325.0))</td><td>Map(vectorType -> dense, length -> 4, values -> List(0.1563637473366477, 0.46428568995728675, 0.3898305084745763, 0.1484375))</td></tr><tr><td>Map(vectorType -> dense, length -> 4, values -> List(36.5, 18.0, 182.0, 3150.0))</td><td>Map(vectorType -> dense, length -> 4, values -> List(0.16000005548650567, 0.583333314411223, 0.1694915254237288, 0.09375))</td></tr><tr><td>Map(vectorType -> dense, length -> 4, values -> List(36.599998474121094, 18.399999618530273, 184.0, 3475.0))</td><td>Map(vectorType -> dense, length -> 4, values -> List(0.16363636363636364, 0.6309523187797328, 0.2033898305084746, 0.1953125))</td></tr><tr><td>Map(vectorType -> dense, length -> 4, values -> List(36.79999923706055, 18.5, 193.0, 3500.0))</td><td>Map(vectorType -> dense, length -> 4, values -> List(0.17090911865234373, 0.6428571266381912, 0.3559322033898305, 0.203125))</td></tr><tr><td>Map(vectorType -> dense, length -> 4, values -> List(36.900001525878906, 18.600000381469727, 189.0, 3500.0))</td><td>Map(vectorType -> dense, length -> 4, values -> List(0.1745455655184659, 0.6547619344966495, 0.288135593220339, 0.203125))</td></tr><tr><td>Map(vectorType -> dense, length -> 4, values -> List(37.0, 16.899999618530273, 185.0, 3000.0))</td><td>Map(vectorType -> dense, length -> 4, values -> List(0.17818187366832386, 0.4523808820988284, 0.22033898305084745, 0.046875))</td></tr><tr><td>Map(vectorType -> dense, length -> 4, values -> List(37.20000076293945, 18.100000381469727, 178.0, 3900.0))</td><td>Map(vectorType -> dense, length -> 4, values -> List(0.18545462868430396, 0.5952381222696814, 0.1016949152542373, 0.328125))</td></tr><tr><td>Map(vectorType -> dense, length -> 4, values -> List(37.29999923706055, 16.799999237060547, 192.0, 3000.0))</td><td>Map(vectorType -> dense, length -> 4, values -> List(0.18909093683416192, 0.44047607424037, 0.3389830508474576, 0.046875))</td></tr><tr><td>Map(vectorType -> dense, length -> 4, values -> List(37.5, 18.5, 199.0, 4475.0))</td><td>Map(vectorType -> dense, length -> 4, values -> List(0.19636369185014205, 0.6428571266381912, 0.4576271186440678, 0.5078125))</td></tr><tr><td>Map(vectorType -> dense, length -> 4, values -> List(37.5, 18.899999618530273, 179.0, 2975.0))</td><td>Map(vectorType -> dense, length -> 4, values -> List(0.19636369185014205, 0.6904761310067009, 0.11864406779661017, 0.0390625))</td></tr><tr><td>Map(vectorType -> dense, length -> 4, values -> List(37.599998474121094, 19.299999237060547, 181.0, 3300.0))</td><td>Map(vectorType -> dense, length -> 4, values -> List(0.19999999999999998, 0.7380951353752107, 0.15254237288135594, 0.140625))</td></tr><tr><td>Map(vectorType -> dense, length -> 4, values -> List(37.79999923706055, 18.100000381469727, 193.0, 3750.0))</td><td>Map(vectorType -> dense, length -> 4, values -> List(0.2072727550159801, 0.5952381222696814, 0.3559322033898305, 0.28125))</td></tr><tr><td>Map(vectorType -> dense, length -> 4, values -> List(38.099998474121094, 18.600000381469727, 190.0, 3700.0))</td><td>Map(vectorType -> dense, length -> 4, values -> List(0.21818181818181817, 0.6547619344966495, 0.3050847457627119, 0.265625))</td></tr><tr><td>Map(vectorType -> dense, length -> 4, values -> List(38.79999923706055, 20.0, 190.0, 3950.0))</td><td>Map(vectorType -> dense, length -> 4, values -> List(0.24363639137961646, 0.8214285633190956, 0.3050847457627119, 0.34375))</td></tr><tr><td>Map(vectorType -> dense, length -> 4, values -> List(38.900001525878906, 18.799999237060547, 190.0, 3600.0))</td><td>Map(vectorType -> dense, length -> 4, values -> List(0.24727283824573862, 0.6785713231482425, 0.3050847457627119, 0.234375))</td></tr><tr><td>Map(vectorType -> dense, length -> 4, values -> List(39.20000076293945, 18.600000381469727, 190.0, 4250.0))</td><td>Map(vectorType -> dense, length -> 4, values -> List(0.2581819014115767, 0.6547619344966495, 0.3050847457627119, 0.4375))</td></tr><tr><td>Map(vectorType -> dense, length -> 4, values -> List(39.5, 16.700000762939453, 178.0, 3250.0))</td><td>Map(vectorType -> dense, length -> 4, values -> List(0.26909096457741477, 0.4285714934472354, 0.1016949152542373, 0.125))</td></tr><tr><td>Map(vectorType -> dense, length -> 4, values -> List(39.5, 17.799999237060547, 188.0, 3300.0))</td><td>Map(vectorType -> dense, length -> 4, values -> List(0.26909096457741477, 0.5595236986943063, 0.2711864406779661, 0.140625))</td></tr><tr><td>Map(vectorType -> dense, length -> 4, values -> List(39.599998474121094, 18.100000381469727, 186.0, 4450.0))</td><td>Map(vectorType -> dense, length -> 4, values -> List(0.2727272727272727, 0.5952381222696814, 0.23728813559322035, 0.5))</td></tr><tr><td>Map(vectorType -> dense, length -> 4, values -> List(39.599998474121094, 18.799999237060547, 190.0, 4600.0))</td><td>Map(vectorType -> dense, length -> 4, values -> List(0.2727272727272727, 0.6785713231482425, 0.3050847457627119, 0.546875))</td></tr><tr><td>Map(vectorType -> dense, length -> 4, values -> List(39.79999923706055, 19.100000381469727, 184.0, 4650.0))</td><td>Map(vectorType -> dense, length -> 4, values -> List(0.28000002774325283, 0.7142857467236177, 0.2033898305084746, 0.5625))</td></tr><tr><td>Map(vectorType -> dense, length -> 4, values -> List(40.20000076293945, 20.100000381469727, 200.0, 3975.0))</td><td>Map(vectorType -> dense, length -> 4, values -> List(0.29454553777521303, 0.833333371177554, 0.4745762711864407, 0.3515625))</td></tr><tr><td>Map(vectorType -> dense, length -> 4, values -> List(40.79999923706055, 18.399999618530273, 195.0, 3900.0))</td><td>Map(vectorType -> dense, length -> 4, values -> List(0.3163636641068892, 0.6309523187797328, 0.3898305084745763, 0.328125))</td></tr><tr><td>Map(vectorType -> dense, length -> 4, values -> List(40.79999923706055, 18.899999618530273, 208.0, 4300.0))</td><td>Map(vectorType -> dense, length -> 4, values -> List(0.3163636641068892, 0.6904761310067009, 0.6101694915254238, 0.453125))</td></tr><tr><td>Map(vectorType -> dense, length -> 4, values -> List(40.900001525878906, 16.600000381469727, 187.0, 3200.0))</td><td>Map(vectorType -> dense, length -> 4, values -> List(0.32000011097301134, 0.416666685588777, 0.2542372881355932, 0.109375))</td></tr><tr><td>Map(vectorType -> dense, length -> 4, values -> List(41.099998474121094, 17.5, 190.0, 3900.0))</td><td>Map(vectorType -> dense, length -> 4, values -> List(0.32727272727272727, 0.5238095021842549, 0.3050847457627119, 0.328125))</td></tr><tr><td>Map(vectorType -> dense, length -> 4, values -> List(41.099998474121094, 18.100000381469727, 205.0, 4300.0))</td><td>Map(vectorType -> dense, length -> 4, values -> List(0.32727272727272727, 0.5952381222696814, 0.559322033898305, 0.453125))</td></tr><tr><td>Map(vectorType -> dense, length -> 4, values -> List(41.099998474121094, 19.0, 182.0, 3425.0))</td><td>Map(vectorType -> dense, length -> 4, values -> List(0.32727272727272727, 0.7023809388651593, 0.1694915254237288, 0.1796875))</td></tr><tr><td>Map(vectorType -> dense, length -> 4, values -> List(41.29999923706055, 20.299999237060547, 194.0, 3550.0))</td><td>Map(vectorType -> dense, length -> 4, values -> List(0.3345454822887074, 0.857142759829147, 0.3728813559322034, 0.21875))</td></tr><tr><td>Map(vectorType -> dense, length -> 4, values -> List(41.5, 18.5, 201.0, 4000.0))</td><td>Map(vectorType -> dense, length -> 4, values -> List(0.34181823730468747, 0.6428571266381912, 0.4915254237288136, 0.359375))</td></tr><tr><td>Map(vectorType -> dense, length -> 4, values -> List(42.20000076293945, 18.5, 180.0, 3550.0))</td><td>Map(vectorType -> dense, length -> 4, values -> List(0.3672728105024858, 0.6428571266381912, 0.13559322033898305, 0.21875))</td></tr><tr><td>Map(vectorType -> dense, length -> 4, values -> List(42.400001525878906, 17.299999237060547, 181.0, 3600.0))</td><td>Map(vectorType -> dense, length -> 4, values -> List(0.3745455655184659, 0.4999998864673381, 0.15254237288135594, 0.234375))</td></tr><tr><td>Map(vectorType -> dense, length -> 4, values -> List(42.5, 16.700000762939453, 187.0, 3350.0))</td><td>Map(vectorType -> dense, length -> 4, values -> List(0.37818187366832384, 0.4285714934472354, 0.2542372881355932, 0.15625))</td></tr><tr><td>Map(vectorType -> dense, length -> 4, values -> List(42.5, 17.299999237060547, 187.0, 3350.0))</td><td>Map(vectorType -> dense, length -> 4, values -> List(0.37818187366832384, 0.4999998864673381, 0.2542372881355932, 0.15625))</td></tr><tr><td>Map(vectorType -> dense, length -> 4, values -> List(43.20000076293945, 16.600000381469727, 187.0, 2900.0))</td><td>Map(vectorType -> dense, length -> 4, values -> List(0.40363644686612216, 0.416666685588777, 0.2542372881355932, 0.015625))</td></tr><tr><td>Map(vectorType -> dense, length -> 4, values -> List(43.20000076293945, 18.5, 192.0, 4100.0))</td><td>Map(vectorType -> dense, length -> 4, values -> List(0.40363644686612216, 0.6428571266381912, 0.3389830508474576, 0.390625))</td></tr><tr><td>Map(vectorType -> dense, length -> 4, values -> List(44.099998474121094, 19.700000762939453, 196.0, 4400.0))</td><td>Map(vectorType -> dense, length -> 4, values -> List(0.43636363636363634, 0.7857143668090442, 0.4067796610169492, 0.484375))</td></tr><tr><td>Map(vectorType -> dense, length -> 4, values -> List(45.20000076293945, 16.600000381469727, 191.0, 3250.0))</td><td>Map(vectorType -> dense, length -> 4, values -> List(0.47636371959339485, 0.416666685588777, 0.3220338983050847, 0.125))</td></tr><tr><td>Map(vectorType -> dense, length -> 4, values -> List(45.20000076293945, 17.799999237060547, 198.0, 3950.0))</td><td>Map(vectorType -> dense, length -> 4, values -> List(0.47636371959339485, 0.5595236986943063, 0.4406779661016949, 0.34375))</td></tr><tr><td>Map(vectorType -> dense, length -> 4, values -> List(45.599998474121094, 19.399999618530273, 194.0, 3525.0))</td><td>Map(vectorType -> dense, length -> 4, values -> List(0.4909090909090909, 0.749999943233669, 0.3728813559322034, 0.2109375))</td></tr><tr><td>Map(vectorType -> dense, length -> 4, values -> List(45.70000076293945, 17.0, 195.0, 3650.0))</td><td>Map(vectorType -> dense, length -> 4, values -> List(0.49454553777521304, 0.46428568995728675, 0.3898305084745763, 0.25))</td></tr><tr><td>Map(vectorType -> dense, length -> 4, values -> List(45.70000076293945, 17.299999237060547, 193.0, 3600.0))</td><td>Map(vectorType -> dense, length -> 4, values -> List(0.49454553777521304, 0.4999998864673381, 0.3559322033898305, 0.234375))</td></tr><tr><td>Map(vectorType -> dense, length -> 4, values -> List(45.900001525878906, 17.100000381469727, 190.0, 3575.0))</td><td>Map(vectorType -> dense, length -> 4, values -> List(0.5018182927911932, 0.47619049781574513, 0.3050847457627119, 0.2265625))</td></tr><tr><td>Map(vectorType -> dense, length -> 4, values -> List(46.20000076293945, 17.5, 187.0, 3650.0))</td><td>Map(vectorType -> dense, length -> 4, values -> List(0.5127273559570312, 0.5238095021842549, 0.2542372881355932, 0.25))</td></tr><tr><td>Map(vectorType -> dense, length -> 4, values -> List(46.599998474121094, 17.799999237060547, 193.0, 3800.0))</td><td>Map(vectorType -> dense, length -> 4, values -> List(0.5272727272727272, 0.5595236986943063, 0.3559322033898305, 0.296875))</td></tr><tr><td>Map(vectorType -> dense, length -> 4, values -> List(46.70000076293945, 17.899999618530273, 195.0, 3300.0))</td><td>Map(vectorType -> dense, length -> 4, values -> List(0.5309091741388494, 0.5714285065527647, 0.3898305084745763, 0.140625))</td></tr><tr><td>Map(vectorType -> dense, length -> 4, values -> List(46.79999923706055, 16.5, 189.0, 3650.0))</td><td>Map(vectorType -> dense, length -> 4, values -> List(0.5345454822887074, 0.40476187773031863, 0.288135593220339, 0.25))</td></tr><tr><td>Map(vectorType -> dense, length -> 4, values -> List(47.5, 16.799999237060547, 199.0, 3900.0))</td><td>Map(vectorType -> dense, length -> 4, values -> List(0.5600000554865057, 0.44047607424037, 0.4576271186440678, 0.328125))</td></tr><tr><td>Map(vectorType -> dense, length -> 4, values -> List(47.599998474121094, 18.299999237060547, 195.0, 3850.0))</td><td>Map(vectorType -> dense, length -> 4, values -> List(0.5636363636363636, 0.6190475109212744, 0.3898305084745763, 0.3125))</td></tr><tr><td>Map(vectorType -> dense, length -> 4, values -> List(48.099998474121094, 16.399999618530273, 199.0, 3325.0))</td><td>Map(vectorType -> dense, length -> 4, values -> List(0.5818181818181818, 0.39285706987186025, 0.4576271186440678, 0.1484375))</td></tr><tr><td>Map(vectorType -> dense, length -> 4, values -> List(48.5, 17.5, 191.0, 3400.0))</td><td>Map(vectorType -> dense, length -> 4, values -> List(0.596363691850142, 0.5238095021842549, 0.3220338983050847, 0.171875))</td></tr><tr><td>Map(vectorType -> dense, length -> 4, values -> List(49.0, 19.600000381469727, 212.0, 4300.0))</td><td>Map(vectorType -> dense, length -> 4, values -> List(0.6145455100319602, 0.7738095589505858, 0.6779661016949152, 0.453125))</td></tr><tr><td>Map(vectorType -> dense, length -> 4, values -> List(49.20000076293945, 18.200000762939453, 195.0, 4400.0))</td><td>Map(vectorType -> dense, length -> 4, values -> List(0.6218182650479404, 0.6071429301281398, 0.3898305084745763, 0.484375))</td></tr><tr><td>Map(vectorType -> dense, length -> 4, values -> List(49.29999923706055, 19.899999618530273, 203.0, 4050.0))</td><td>Map(vectorType -> dense, length -> 4, values -> List(0.6254545731977983, 0.8095237554606373, 0.5254237288135594, 0.375))</td></tr><tr><td>Map(vectorType -> dense, length -> 4, values -> List(49.5, 19.0, 200.0, 3800.0))</td><td>Map(vectorType -> dense, length -> 4, values -> List(0.6327273282137784, 0.7023809388651593, 0.4745762711864407, 0.296875))</td></tr><tr><td>Map(vectorType -> dense, length -> 4, values -> List(49.599998474121094, 18.200000762939453, 193.0, 3775.0))</td><td>Map(vectorType -> dense, length -> 4, values -> List(0.6363636363636364, 0.6071429301281398, 0.3559322033898305, 0.2890625))</td></tr><tr><td>Map(vectorType -> dense, length -> 4, values -> List(49.70000076293945, 18.600000381469727, 195.0, 3600.0))</td><td>Map(vectorType -> dense, length -> 4, values -> List(0.6400000832297585, 0.6547619344966495, 0.3898305084745763, 0.234375))</td></tr><tr><td>Map(vectorType -> dense, length -> 4, values -> List(49.79999923706055, 17.299999237060547, 198.0, 3675.0))</td><td>Map(vectorType -> dense, length -> 4, values -> List(0.6436363913796165, 0.4999998864673381, 0.4406779661016949, 0.2578125))</td></tr><tr><td>Map(vectorType -> dense, length -> 4, values -> List(50.099998474121094, 17.899999618530273, 190.0, 3400.0))</td><td>Map(vectorType -> dense, length -> 4, values -> List(0.6545454545454545, 0.5714285065527647, 0.3050847457627119, 0.171875))</td></tr><tr><td>Map(vectorType -> dense, length -> 4, values -> List(50.20000076293945, 18.700000762939453, 198.0, 3775.0))</td><td>Map(vectorType -> dense, length -> 4, values -> List(0.6581819014115766, 0.6666667423551079, 0.4406779661016949, 0.2890625))</td></tr><tr><td>Map(vectorType -> dense, length -> 4, values -> List(50.20000076293945, 18.799999237060547, 202.0, 3800.0))</td><td>Map(vectorType -> dense, length -> 4, values -> List(0.6581819014115766, 0.6785713231482425, 0.5084745762711864, 0.296875))</td></tr><tr><td>Map(vectorType -> dense, length -> 4, values -> List(50.29999923706055, 20.0, 197.0, 3300.0))</td><td>Map(vectorType -> dense, length -> 4, values -> List(0.6618182095614347, 0.8214285633190956, 0.423728813559322, 0.140625))</td></tr><tr><td>Map(vectorType -> dense, length -> 4, values -> List(50.5, 18.399999618530273, 200.0, 3400.0))</td><td>Map(vectorType -> dense, length -> 4, values -> List(0.6690909645774148, 0.6309523187797328, 0.4745762711864407, 0.171875))</td></tr><tr><td>Map(vectorType -> dense, length -> 4, values -> List(50.599998474121094, 19.399999618530273, 193.0, 3800.0))</td><td>Map(vectorType -> dense, length -> 4, values -> List(0.6727272727272727, 0.749999943233669, 0.3559322033898305, 0.296875))</td></tr><tr><td>Map(vectorType -> dense, length -> 4, values -> List(50.70000076293945, 19.700000762939453, 203.0, 4050.0))</td><td>Map(vectorType -> dense, length -> 4, values -> List(0.6763637195933948, 0.7857143668090442, 0.5254237288135594, 0.375))</td></tr><tr><td>Map(vectorType -> dense, length -> 4, values -> List(51.0, 18.799999237060547, 203.0, 4100.0))</td><td>Map(vectorType -> dense, length -> 4, values -> List(0.6872727827592329, 0.6785713231482425, 0.5254237288135594, 0.390625))</td></tr><tr><td>Map(vectorType -> dense, length -> 4, values -> List(51.29999923706055, 18.200000762939453, 197.0, 3750.0))</td><td>Map(vectorType -> dense, length -> 4, values -> List(0.698181845925071, 0.6071429301281398, 0.423728813559322, 0.28125))</td></tr><tr><td>Map(vectorType -> dense, length -> 4, values -> List(51.400001525878906, 19.0, 201.0, 3950.0))</td><td>Map(vectorType -> dense, length -> 4, values -> List(0.7018182927911931, 0.7023809388651593, 0.4915254237288136, 0.34375))</td></tr><tr><td>Map(vectorType -> dense, length -> 4, values -> List(51.5, 18.700000762939453, 187.0, 3250.0))</td><td>Map(vectorType -> dense, length -> 4, values -> List(0.7054546009410511, 0.6666667423551079, 0.2542372881355932, 0.125))</td></tr><tr><td>Map(vectorType -> dense, length -> 4, values -> List(51.70000076293945, 20.299999237060547, 194.0, 3775.0))</td><td>Map(vectorType -> dense, length -> 4, values -> List(0.7127273559570312, 0.857142759829147, 0.3728813559322034, 0.2890625))</td></tr><tr><td>Map(vectorType -> dense, length -> 4, values -> List(51.900001525878906, 19.5, 206.0, 3950.0))</td><td>Map(vectorType -> dense, length -> 4, values -> List(0.7200001109730113, 0.7619047510921274, 0.576271186440678, 0.34375))</td></tr><tr><td>Map(vectorType -> dense, length -> 4, values -> List(52.0, 18.100000381469727, 201.0, 4050.0))</td><td>Map(vectorType -> dense, length -> 4, values -> List(0.7236364191228692, 0.5952381222696814, 0.4915254237288136, 0.375))</td></tr><tr><td>Map(vectorType -> dense, length -> 4, values -> List(52.0, 20.700000762939453, 210.0, 4800.0))</td><td>Map(vectorType -> dense, length -> 4, values -> List(0.7236364191228692, 0.9047619912629805, 0.6440677966101694, 0.609375))</td></tr><tr><td>Map(vectorType -> dense, length -> 4, values -> List(52.20000076293945, 18.799999237060547, 197.0, 3450.0))</td><td>Map(vectorType -> dense, length -> 4, values -> List(0.7309091741388494, 0.6785713231482425, 0.423728813559322, 0.1875))</td></tr><tr><td>Map(vectorType -> dense, length -> 4, values -> List(52.70000076293945, 19.799999237060547, 197.0, 3725.0))</td><td>Map(vectorType -> dense, length -> 4, values -> List(0.7490909923206676, 0.7976189476021789, 0.423728813559322, 0.2734375))</td></tr><tr><td>Map(vectorType -> dense, length -> 4, values -> List(52.79999923706055, 20.0, 205.0, 4550.0))</td><td>Map(vectorType -> dense, length -> 4, values -> List(0.7527273004705255, 0.8214285633190956, 0.559322033898305, 0.53125))</td></tr><tr><td>Map(vectorType -> dense, length -> 4, values -> List(33.5, 19.0, 190.0, 3600.0))</td><td>Map(vectorType -> dense, length -> 4, values -> List(0.050909146395596586, 0.7023809388651593, 0.3050847457627119, 0.234375))</td></tr><tr><td>Map(vectorType -> dense, length -> 4, values -> List(34.099998474121094, 18.100000381469727, 193.0, 3475.0))</td><td>Map(vectorType -> dense, length -> 4, values -> List(0.07272727272727272, 0.5952381222696814, 0.3559322033898305, 0.1953125))</td></tr><tr><td>Map(vectorType -> dense, length -> 4, values -> List(34.400001525878906, 18.399999618530273, 184.0, 3325.0))</td><td>Map(vectorType -> dense, length -> 4, values -> List(0.083636474609375, 0.6309523187797328, 0.2033898305084746, 0.1484375))</td></tr><tr><td>Map(vectorType -> dense, length -> 4, values -> List(34.599998474121094, 17.200000762939453, 189.0, 3200.0))</td><td>Map(vectorType -> dense, length -> 4, values -> List(0.09090909090909091, 0.4880953056742035, 0.288135593220339, 0.109375))</td></tr><tr><td>Map(vectorType -> dense, length -> 4, values -> List(34.599998474121094, 21.100000381469727, 198.0, 4400.0))</td><td>Map(vectorType -> dense, length -> 4, values -> List(0.09090909090909091, 0.9523809956314903, 0.4406779661016949, 0.484375))</td></tr><tr><td>Map(vectorType -> dense, length -> 4, values -> List(35.099998474121094, 19.399999618530273, 193.0, 4200.0))</td><td>Map(vectorType -> dense, length -> 4, values -> List(0.10909090909090909, 0.749999943233669, 0.3559322033898305, 0.421875))</td></tr><tr><td>Map(vectorType -> dense, length -> 4, values -> List(35.20000076293945, 15.899999618530273, 186.0, 3050.0))</td><td>Map(vectorType -> dense, length -> 4, values -> List(0.11272735595703125, 0.3333332576448921, 0.23728813559322035, 0.0625))</td></tr><tr><td>Map(vectorType -> dense, length -> 4, values -> List(35.5, 17.5, 190.0, 3700.0))</td><td>Map(vectorType -> dense, length -> 4, values -> List(0.12363641912286931, 0.5238095021842549, 0.3050847457627119, 0.265625))</td></tr><tr><td>Map(vectorType -> dense, length -> 4, values -> List(35.70000076293945, 17.0, 189.0, 3350.0))</td><td>Map(vectorType -> dense, length -> 4, values -> List(0.13090917413884942, 0.46428568995728675, 0.288135593220339, 0.15625))</td></tr><tr><td>Map(vectorType -> dense, length -> 4, values -> List(35.900001525878906, 16.600000381469727, 190.0, 3050.0))</td><td>Map(vectorType -> dense, length -> 4, values -> List(0.13818192915482955, 0.416666685588777, 0.3050847457627119, 0.0625))</td></tr><tr><td>Map(vectorType -> dense, length -> 4, values -> List(36.20000076293945, 17.200000762939453, 187.0, 3150.0))</td><td>Map(vectorType -> dense, length -> 4, values -> List(0.1490909923206676, 0.4880953056742035, 0.2542372881355932, 0.09375))</td></tr><tr><td>Map(vectorType -> dense, length -> 4, values -> List(36.599998474121094, 17.799999237060547, 185.0, 3700.0))</td><td>Map(vectorType -> dense, length -> 4, values -> List(0.16363636363636364, 0.5595236986943063, 0.22033898305084745, 0.265625))</td></tr><tr><td>Map(vectorType -> dense, length -> 4, values -> List(36.70000076293945, 18.799999237060547, 187.0, 3800.0))</td><td>Map(vectorType -> dense, length -> 4, values -> List(0.1672728105024858, 0.6785713231482425, 0.2542372881355932, 0.296875))</td></tr><tr><td>Map(vectorType -> dense, length -> 4, values -> List(37.70000076293945, 19.799999237060547, 198.0, 3500.0))</td><td>Map(vectorType -> dense, length -> 4, values -> List(0.20363644686612214, 0.7976189476021789, 0.4406779661016949, 0.203125))</td></tr><tr><td>Map(vectorType -> dense, length -> 4, values -> List(37.79999923706055, 17.100000381469727, 186.0, 3300.0))</td><td>Map(vectorType -> dense, length -> 4, values -> List(0.2072727550159801, 0.47619049781574513, 0.23728813559322035, 0.140625))</td></tr><tr><td>Map(vectorType -> dense, length -> 4, values -> List(37.79999923706055, 17.299999237060547, 180.0, 3700.0))</td><td>Map(vectorType -> dense, length -> 4, values -> List(0.2072727550159801, 0.4999998864673381, 0.13559322033898305, 0.265625))</td></tr><tr><td>Map(vectorType -> dense, length -> 4, values -> List(38.5, 17.899999618530273, 190.0, 3325.0))</td><td>Map(vectorType -> dense, length -> 4, values -> List(0.2327273282137784, 0.5714285065527647, 0.3050847457627119, 0.1484375))</td></tr><tr><td>Map(vectorType -> dense, length -> 4, values -> List(38.599998474121094, 21.200000762939453, 191.0, 3800.0))</td><td>Map(vectorType -> dense, length -> 4, values -> List(0.23636363636363636, 0.9642858034899486, 0.3220338983050847, 0.296875))</td></tr><tr><td>Map(vectorType -> dense, length -> 4, values -> List(38.79999923706055, 17.600000381469727, 191.0, 3275.0))</td><td>Map(vectorType -> dense, length -> 4, values -> List(0.24363639137961646, 0.5357143100427133, 0.3220338983050847, 0.1328125))</td></tr><tr><td>Map(vectorType -> dense, length -> 4, values -> List(38.900001525878906, 17.799999237060547, 181.0, 3625.0))</td><td>Map(vectorType -> dense, length -> 4, values -> List(0.24727283824573862, 0.5595236986943063, 0.15254237288135594, 0.2421875))</td></tr><tr><td>Map(vectorType -> dense, length -> 4, values -> List(39.0, 17.100000381469727, 191.0, 3050.0))</td><td>Map(vectorType -> dense, length -> 4, values -> List(0.2509091463955966, 0.47619049781574513, 0.3220338983050847, 0.0625))</td></tr><tr><td>Map(vectorType -> dense, length -> 4, values -> List(39.099998474121094, 18.700000762939453, 181.0, 3750.0))</td><td>Map(vectorType -> dense, length -> 4, values -> List(0.2545454545454545, 0.6666667423551079, 0.15254237288135594, 0.28125))</td></tr><tr><td>Map(vectorType -> dense, length -> 4, values -> List(39.20000076293945, 19.600000381469727, 195.0, 4675.0))</td><td>Map(vectorType -> dense, length -> 4, values -> List(0.2581819014115767, 0.7738095589505858, 0.3898305084745763, 0.5703125))</td></tr><tr><td>Map(vectorType -> dense, length -> 4, values -> List(39.29999923706055, 20.600000381469727, 190.0, 3650.0))</td><td>Map(vectorType -> dense, length -> 4, values -> List(0.26181820956143464, 0.8928571834045221, 0.3050847457627119, 0.25))</td></tr><tr><td>Map(vectorType -> dense, length -> 4, values -> List(39.5, 17.399999618530273, 186.0, 3800.0))</td><td>Map(vectorType -> dense, length -> 4, values -> List(0.26909096457741477, 0.5119046943257965, 0.23728813559322035, 0.296875))</td></tr><tr><td>Map(vectorType -> dense, length -> 4, values -> List(40.20000076293945, 17.0, 176.0, 3450.0))</td><td>Map(vectorType -> dense, length -> 4, values -> List(0.29454553777521303, 0.46428568995728675, 0.06779661016949153, 0.1875))</td></tr><tr><td>Map(vectorType -> dense, length -> 4, values -> List(40.29999923706055, 18.0, 195.0, 3250.0))</td><td>Map(vectorType -> dense, length -> 4, values -> List(0.298181845925071, 0.583333314411223, 0.3898305084745763, 0.125))</td></tr><tr><td>Map(vectorType -> dense, length -> 4, values -> List(40.599998474121094, 19.0, 199.0, 4000.0))</td><td>Map(vectorType -> dense, length -> 4, values -> List(0.3090909090909091, 0.7023809388651593, 0.4576271186440678, 0.359375))</td></tr><tr><td>Map(vectorType -> dense, length -> 4, values -> List(40.900001525878906, 16.799999237060547, 191.0, 3700.0))</td><td>Map(vectorType -> dense, length -> 4, values -> List(0.32000011097301134, 0.44047607424037, 0.3220338983050847, 0.265625))</td></tr><tr><td>Map(vectorType -> dense, length -> 4, values -> List(41.099998474121094, 17.600000381469727, 182.0, 3200.0))</td><td>Map(vectorType -> dense, length -> 4, values -> List(0.32727272727272727, 0.5357143100427133, 0.1694915254237288, 0.109375))</td></tr><tr><td>Map(vectorType -> dense, length -> 4, values -> List(41.099998474121094, 18.600000381469727, 189.0, 3325.0))</td><td>Map(vectorType -> dense, length -> 4, values -> List(0.32727272727272727, 0.6547619344966495, 0.288135593220339, 0.1484375))</td></tr><tr><td>Map(vectorType -> dense, length -> 4, values -> List(41.400001525878906, 18.5, 202.0, 3875.0))</td><td>Map(vectorType -> dense, length -> 4, values -> List(0.33818192915482953, 0.6428571266381912, 0.5084745762711864, 0.3203125))</td></tr><tr><td>Map(vectorType -> dense, length -> 4, values -> List(41.5, 18.299999237060547, 195.0, 4300.0))</td><td>Map(vectorType -> dense, length -> 4, values -> List(0.34181823730468747, 0.6190475109212744, 0.3898305084745763, 0.453125))</td></tr><tr><td>Map(vectorType -> dense, length -> 4, values -> List(42.0, 20.200000762939453, 190.0, 4250.0))</td><td>Map(vectorType -> dense, length -> 4, values -> List(0.36000005548650565, 0.8452381790360124, 0.3050847457627119, 0.4375))</td></tr><tr><td>Map(vectorType -> dense, length -> 4, values -> List(42.099998474121094, 19.100000381469727, 195.0, 4000.0))</td><td>Map(vectorType -> dense, length -> 4, values -> List(0.36363636363636365, 0.7142857467236177, 0.3898305084745763, 0.359375))</td></tr><tr><td>Map(vectorType -> dense, length -> 4, values -> List(42.79999923706055, 18.5, 195.0, 4250.0))</td><td>Map(vectorType -> dense, length -> 4, values -> List(0.3890909368341619, 0.6428571266381912, 0.3898305084745763, 0.4375))</td></tr><tr><td>Map(vectorType -> dense, length -> 4, values -> List(43.099998474121094, 19.200000762939453, 197.0, 3500.0))</td><td>Map(vectorType -> dense, length -> 4, values -> List(0.39999999999999997, 0.726190554582076, 0.423728813559322, 0.203125))</td></tr><tr><td>Map(vectorType -> dense, length -> 4, values -> List(44.099998474121094, 18.0, 210.0, 4000.0))</td><td>Map(vectorType -> dense, length -> 4, values -> List(0.43636363636363634, 0.583333314411223, 0.6440677966101694, 0.359375))</td></tr><tr><td>Map(vectorType -> dense, length -> 4, values -> List(45.79999923706055, 18.899999618530273, 197.0, 4150.0))</td><td>Map(vectorType -> dense, length -> 4, values -> List(0.498181845925071, 0.6904761310067009, 0.423728813559322, 0.40625))</td></tr><tr><td>Map(vectorType -> dense, length -> 4, values -> List(46.0, 21.5, 194.0, 4200.0))</td><td>Map(vectorType -> dense, length -> 4, values -> List(0.5054546009410511, 1.0, 0.3728813559322034, 0.421875))</td></tr></tbody></table></div>"
      ]
     },
     "metadata": {
      "application/vnd.databricks.v1+output": {
       "addedWidgets": {},
       "aggData": [],
       "aggError": "",
       "aggOverflow": false,
       "aggSchema": [],
       "aggSeriesLimitReached": false,
       "aggType": "",
       "arguments": {},
       "columnCustomDisplayInfos": {},
       "data": [
        [
         {
          "length": 4,
          "values": [
           35,
           17.899999618530273,
           190,
           3450
          ],
          "vectorType": "dense"
         },
         {
          "length": 4,
          "values": [
           0.10545460094105114,
           0.5714285065527647,
           0.3050847457627119,
           0.1875
          ],
          "vectorType": "dense"
         }
        ],
        [
         {
          "length": 4,
          "values": [
           35.70000076293945,
           16.899999618530273,
           185,
           3150
          ],
          "vectorType": "dense"
         },
         {
          "length": 4,
          "values": [
           0.13090917413884942,
           0.4523808820988284,
           0.22033898305084745,
           0.09375
          ],
          "vectorType": "dense"
         }
        ],
        [
         {
          "length": 4,
          "values": [
           35.900001525878906,
           19.200000762939453,
           189,
           3800
          ],
          "vectorType": "dense"
         },
         {
          "length": 4,
          "values": [
           0.13818192915482955,
           0.726190554582076,
           0.288135593220339,
           0.296875
          ],
          "vectorType": "dense"
         }
        ],
        [
         {
          "length": 4,
          "values": [
           36.5,
           16.600000381469727,
           181,
           2850
          ],
          "vectorType": "dense"
         },
         {
          "length": 4,
          "values": [
           0.16000005548650567,
           0.416666685588777,
           0.15254237288135594,
           0
          ],
          "vectorType": "dense"
         }
        ],
        [
         {
          "length": 4,
          "values": [
           37.599998474121094,
           17,
           185,
           3600
          ],
          "vectorType": "dense"
         },
         {
          "length": 4,
          "values": [
           0.19999999999999998,
           0.46428568995728675,
           0.22033898305084745,
           0.234375
          ],
          "vectorType": "dense"
         }
        ],
        [
         {
          "length": 4,
          "values": [
           37.599998474121094,
           19.100000381469727,
           194,
           3750
          ],
          "vectorType": "dense"
         },
         {
          "length": 4,
          "values": [
           0.19999999999999998,
           0.7142857467236177,
           0.3728813559322034,
           0.28125
          ],
          "vectorType": "dense"
         }
        ],
        [
         {
          "length": 4,
          "values": [
           37.70000076293945,
           16,
           183,
           3075
          ],
          "vectorType": "dense"
         },
         {
          "length": 4,
          "values": [
           0.20363644686612214,
           0.34523806550335046,
           0.1864406779661017,
           0.0703125
          ],
          "vectorType": "dense"
         }
        ],
        [
         {
          "length": 4,
          "values": [
           37.70000076293945,
           18.700000762939453,
           180,
           3600
          ],
          "vectorType": "dense"
         },
         {
          "length": 4,
          "values": [
           0.20363644686612214,
           0.6666667423551079,
           0.13559322033898305,
           0.234375
          ],
          "vectorType": "dense"
         }
        ],
        [
         {
          "length": 4,
          "values": [
           37.79999923706055,
           18.299999237060547,
           174,
           3400
          ],
          "vectorType": "dense"
         },
         {
          "length": 4,
          "values": [
           0.2072727550159801,
           0.6190475109212744,
           0.03389830508474576,
           0.171875
          ],
          "vectorType": "dense"
         }
        ],
        [
         {
          "length": 4,
          "values": [
           37.79999923706055,
           20,
           190,
           4250
          ],
          "vectorType": "dense"
         },
         {
          "length": 4,
          "values": [
           0.2072727550159801,
           0.8214285633190956,
           0.3050847457627119,
           0.4375
          ],
          "vectorType": "dense"
         }
        ],
        [
         {
          "length": 4,
          "values": [
           37.900001525878906,
           18.600000381469727,
           172,
           3150
          ],
          "vectorType": "dense"
         },
         {
          "length": 4,
          "values": [
           0.21090920188210227,
           0.6547619344966495,
           0,
           0.09375
          ],
          "vectorType": "dense"
         }
        ],
        [
         {
          "length": 4,
          "values": [
           38.099998474121094,
           16.5,
           198,
           3825
          ],
          "vectorType": "dense"
         },
         {
          "length": 4,
          "values": [
           0.21818181818181817,
           0.40476187773031863,
           0.4406779661016949,
           0.3046875
          ],
          "vectorType": "dense"
         }
        ],
        [
         {
          "length": 4,
          "values": [
           38.099998474121094,
           17,
           181,
           3175
          ],
          "vectorType": "dense"
         },
         {
          "length": 4,
          "values": [
           0.21818181818181817,
           0.46428568995728675,
           0.15254237288135594,
           0.1015625
          ],
          "vectorType": "dense"
         }
        ],
        [
         {
          "length": 4,
          "values": [
           38.20000076293945,
           18.100000381469727,
           185,
           3950
          ],
          "vectorType": "dense"
         },
         {
          "length": 4,
          "values": [
           0.22181826504794033,
           0.5952381222696814,
           0.22033898305084745,
           0.34375
          ],
          "vectorType": "dense"
         }
        ],
        [
         {
          "length": 4,
          "values": [
           38.20000076293945,
           20,
           190,
           3900
          ],
          "vectorType": "dense"
         },
         {
          "length": 4,
          "values": [
           0.22181826504794033,
           0.8214285633190956,
           0.3050847457627119,
           0.328125
          ],
          "vectorType": "dense"
         }
        ],
        [
         {
          "length": 4,
          "values": [
           38.599998474121094,
           17.200000762939453,
           199,
           3750
          ],
          "vectorType": "dense"
         },
         {
          "length": 4,
          "values": [
           0.23636363636363636,
           0.4880953056742035,
           0.4576271186440678,
           0.28125
          ],
          "vectorType": "dense"
         }
        ],
        [
         {
          "length": 4,
          "values": [
           38.79999923706055,
           17.200000762939453,
           180,
           3800
          ],
          "vectorType": "dense"
         },
         {
          "length": 4,
          "values": [
           0.24363639137961646,
           0.4880953056742035,
           0.13559322033898305,
           0.296875
          ],
          "vectorType": "dense"
         }
        ],
        [
         {
          "length": 4,
          "values": [
           39,
           17.5,
           186,
           3550
          ],
          "vectorType": "dense"
         },
         {
          "length": 4,
          "values": [
           0.2509091463955966,
           0.5238095021842549,
           0.23728813559322035,
           0.21875
          ],
          "vectorType": "dense"
         }
        ],
        [
         {
          "length": 4,
          "values": [
           39.599998474121094,
           17.700000762939453,
           186,
           3500
          ],
          "vectorType": "dense"
         },
         {
          "length": 4,
          "values": [
           0.2727272727272727,
           0.5476191179011717,
           0.23728813559322035,
           0.203125
          ],
          "vectorType": "dense"
         }
        ],
        [
         {
          "length": 4,
          "values": [
           39.599998474121094,
           20.700000762939453,
           191,
           3900
          ],
          "vectorType": "dense"
         },
         {
          "length": 4,
          "values": [
           0.2727272727272727,
           0.9047619912629805,
           0.3220338983050847,
           0.328125
          ],
          "vectorType": "dense"
         }
        ],
        [
         {
          "length": 4,
          "values": [
           39.70000076293945,
           17.700000762939453,
           193,
           3200
          ],
          "vectorType": "dense"
         },
         {
          "length": 4,
          "values": [
           0.2763637195933949,
           0.5476191179011717,
           0.3559322033898305,
           0.109375
          ],
          "vectorType": "dense"
         }
        ],
        [
         {
          "length": 4,
          "values": [
           39.70000076293945,
           18.899999618530273,
           184,
           3550
          ],
          "vectorType": "dense"
         },
         {
          "length": 4,
          "values": [
           0.2763637195933949,
           0.6904761310067009,
           0.2033898305084746,
           0.21875
          ],
          "vectorType": "dense"
         }
        ],
        [
         {
          "length": 4,
          "values": [
           40.099998474121094,
           18.899999618530273,
           188,
           4300
          ],
          "vectorType": "dense"
         },
         {
          "length": 4,
          "values": [
           0.2909090909090909,
           0.6904761310067009,
           0.2711864406779661,
           0.453125
          ],
          "vectorType": "dense"
         }
        ],
        [
         {
          "length": 4,
          "values": [
           40.5,
           17.899999618530273,
           187,
           3200
          ],
          "vectorType": "dense"
         },
         {
          "length": 4,
          "values": [
           0.30545460094105115,
           0.5714285065527647,
           0.2542372881355932,
           0.109375
          ],
          "vectorType": "dense"
         }
        ],
        [
         {
          "length": 4,
          "values": [
           40.5,
           18.899999618530273,
           180,
           3950
          ],
          "vectorType": "dense"
         },
         {
          "length": 4,
          "values": [
           0.30545460094105115,
           0.6904761310067009,
           0.13559322033898305,
           0.34375
          ],
          "vectorType": "dense"
         }
        ],
        [
         {
          "length": 4,
          "values": [
           40.599998474121094,
           18.600000381469727,
           183,
           3550
          ],
          "vectorType": "dense"
         },
         {
          "length": 4,
          "values": [
           0.3090909090909091,
           0.6547619344966495,
           0.1864406779661017,
           0.21875
          ],
          "vectorType": "dense"
         }
        ],
        [
         {
          "length": 4,
          "values": [
           41,
           20,
           203,
           4725
          ],
          "vectorType": "dense"
         },
         {
          "length": 4,
          "values": [
           0.3236364191228693,
           0.8214285633190956,
           0.5254237288135594,
           0.5859375
          ],
          "vectorType": "dense"
         }
        ],
        [
         {
          "length": 4,
          "values": [
           41.099998474121094,
           19.100000381469727,
           188,
           4100
          ],
          "vectorType": "dense"
         },
         {
          "length": 4,
          "values": [
           0.32727272727272727,
           0.7142857467236177,
           0.2711864406779661,
           0.390625
          ],
          "vectorType": "dense"
         }
        ],
        [
         {
          "length": 4,
          "values": [
           41.29999923706055,
           21.100000381469727,
           195,
           4400
          ],
          "vectorType": "dense"
         },
         {
          "length": 4,
          "values": [
           0.3345454822887074,
           0.9523809956314903,
           0.3898305084745763,
           0.484375
          ],
          "vectorType": "dense"
         }
        ],
        [
         {
          "length": 4,
          "values": [
           41.400001525878906,
           18.600000381469727,
           191,
           3700
          ],
          "vectorType": "dense"
         },
         {
          "length": 4,
          "values": [
           0.33818192915482953,
           0.6547619344966495,
           0.3220338983050847,
           0.265625
          ],
          "vectorType": "dense"
         }
        ],
        [
         {
          "length": 4,
          "values": [
           42,
           13.5,
           210,
           4150
          ],
          "vectorType": "dense"
         },
         {
          "length": 4,
          "values": [
           0.36000005548650565,
           0.047619004368509764,
           0.6440677966101694,
           0.40625
          ],
          "vectorType": "dense"
         }
        ],
        [
         {
          "length": 4,
          "values": [
           42,
           19.5,
           200,
           4050
          ],
          "vectorType": "dense"
         },
         {
          "length": 4,
          "values": [
           0.36000005548650565,
           0.7619047510921274,
           0.4745762711864407,
           0.375
          ],
          "vectorType": "dense"
         }
        ],
        [
         {
          "length": 4,
          "values": [
           42.20000076293945,
           19.5,
           197,
           4275
          ],
          "vectorType": "dense"
         },
         {
          "length": 4,
          "values": [
           0.3672728105024858,
           0.7619047510921274,
           0.423728813559322,
           0.4453125
          ],
          "vectorType": "dense"
         }
        ],
        [
         {
          "length": 4,
          "values": [
           42.599998474121094,
           13.699999809265137,
           213,
           4950
          ],
          "vectorType": "dense"
         },
         {
          "length": 4,
          "values": [
           0.3818181818181818,
           0.07142850655276464,
           0.6949152542372882,
           0.65625
          ],
          "vectorType": "dense"
         }
        ],
        [
         {
          "length": 4,
          "values": [
           42.70000076293945,
           13.699999809265137,
           208,
           3950
          ],
          "vectorType": "dense"
         },
         {
          "length": 4,
          "values": [
           0.38545462868430397,
           0.07142850655276464,
           0.6101694915254238,
           0.34375
          ],
          "vectorType": "dense"
         }
        ],
        [
         {
          "length": 4,
          "values": [
           42.70000076293945,
           18.299999237060547,
           196,
           4075
          ],
          "vectorType": "dense"
         },
         {
          "length": 4,
          "values": [
           0.38545462868430397,
           0.6190475109212744,
           0.4067796610169492,
           0.3828125
          ],
          "vectorType": "dense"
         }
        ],
        [
         {
          "length": 4,
          "values": [
           42.900001525878906,
           13.100000381469727,
           215,
           5000
          ],
          "vectorType": "dense"
         },
         {
          "length": 4,
          "values": [
           0.3927273837002841,
           0,
           0.7288135593220338,
           0.671875
          ],
          "vectorType": "dense"
         }
        ],
        [
         {
          "length": 4,
          "values": [
           43.20000076293945,
           14.5,
           208,
           4450
          ],
          "vectorType": "dense"
         },
         {
          "length": 4,
          "values": [
           0.40363644686612216,
           0.16666662882244604,
           0.6101694915254238,
           0.5
          ],
          "vectorType": "dense"
         }
        ],
        [
         {
          "length": 4,
          "values": [
           43.20000076293945,
           19,
           197,
           4775
          ],
          "vectorType": "dense"
         },
         {
          "length": 4,
          "values": [
           0.40363644686612216,
           0.7023809388651593,
           0.423728813559322,
           0.6015625
          ],
          "vectorType": "dense"
         }
        ],
        [
         {
          "length": 4,
          "values": [
           43.29999923706055,
           13.399999618530273,
           209,
           4400
          ],
          "vectorType": "dense"
         },
         {
          "length": 4,
          "values": [
           0.4072727550159801,
           0.03571419651005139,
           0.6271186440677966,
           0.484375
          ],
          "vectorType": "dense"
         }
        ],
        [
         {
          "length": 4,
          "values": [
           43.29999923706055,
           14,
           208,
           4575
          ],
          "vectorType": "dense"
         },
         {
          "length": 4,
          "values": [
           0.4072727550159801,
           0.1071428165954779,
           0.6101694915254238,
           0.5390625
          ],
          "vectorType": "dense"
         }
        ],
        [
         {
          "length": 4,
          "values": [
           43.400001525878906,
           14.399999618530273,
           218,
           4600
          ],
          "vectorType": "dense"
         },
         {
          "length": 4,
          "values": [
           0.4109092018821022,
           0.15476182096398766,
           0.7796610169491526,
           0.546875
          ],
          "vectorType": "dense"
         }
        ],
        [
         {
          "length": 4,
          "values": [
           43.5,
           15.199999809265137,
           213,
           4650
          ],
          "vectorType": "dense"
         },
         {
          "length": 4,
          "values": [
           0.4145455100319602,
           0.24999994323366906,
           0.6949152542372882,
           0.5625
          ],
          "vectorType": "dense"
         }
        ],
        [
         {
          "length": 4,
          "values": [
           43.599998474121094,
           13.899999618530273,
           217,
           4900
          ],
          "vectorType": "dense"
         },
         {
          "length": 4,
          "values": [
           0.41818181818181815,
           0.09523800873701953,
           0.7627118644067796,
           0.640625
          ],
          "vectorType": "dense"
         }
        ],
        [
         {
          "length": 4,
          "values": [
           44,
           13.600000381469727,
           208,
           4350
          ],
          "vectorType": "dense"
         },
         {
          "length": 4,
          "values": [
           0.4327273282137784,
           0.05952381222696814,
           0.6101694915254238,
           0.46875
          ],
          "vectorType": "dense"
         }
        ],
        [
         {
          "length": 4,
          "values": [
           44.5,
           14.300000190734863,
           216,
           4100
          ],
          "vectorType": "dense"
         },
         {
          "length": 4,
          "values": [
           0.4509091463955966,
           0.14285712663819117,
           0.7457627118644068,
           0.390625
          ],
          "vectorType": "dense"
         }
        ],
        [
         {
          "length": 4,
          "values": [
           44.5,
           14.699999809265137,
           214,
           4850
          ],
          "vectorType": "dense"
         },
         {
          "length": 4,
          "values": [
           0.4509091463955966,
           0.19047613100670094,
           0.711864406779661,
           0.625
          ],
          "vectorType": "dense"
         }
        ],
        [
         {
          "length": 4,
          "values": [
           44.5,
           15.699999809265137,
           217,
           4875
          ],
          "vectorType": "dense"
         },
         {
          "length": 4,
          "values": [
           0.4509091463955966,
           0.3095237554606372,
           0.7627118644067796,
           0.6328125
          ],
          "vectorType": "dense"
         }
        ],
        [
         {
          "length": 4,
          "values": [
           44.900001525878906,
           13.300000190734863,
           213,
           5100
          ],
          "vectorType": "dense"
         },
         {
          "length": 4,
          "values": [
           0.4654546564275568,
           0.023809502184254882,
           0.6949152542372882,
           0.703125
          ],
          "vectorType": "dense"
         }
        ],
        [
         {
          "length": 4,
          "values": [
           44.900001525878906,
           13.800000190734863,
           212,
           4750
          ],
          "vectorType": "dense"
         },
         {
          "length": 4,
          "values": [
           0.4654546564275568,
           0.08333331441122302,
           0.6779661016949152,
           0.59375
          ],
          "vectorType": "dense"
         }
        ],
        [
         {
          "length": 4,
          "values": [
           45,
           15.399999618530273,
           220,
           5050
          ],
          "vectorType": "dense"
         },
         {
          "length": 4,
          "values": [
           0.4690909645774147,
           0.27380944541792396,
           0.8135593220338984,
           0.6875
          ],
          "vectorType": "dense"
         }
        ],
        [
         {
          "length": 4,
          "values": [
           45.20000076293945,
           13.800000190734863,
           215,
           4750
          ],
          "vectorType": "dense"
         },
         {
          "length": 4,
          "values": [
           0.47636371959339485,
           0.08333331441122302,
           0.7288135593220338,
           0.59375
          ],
          "vectorType": "dense"
         }
        ],
        [
         {
          "length": 4,
          "values": [
           45.20000076293945,
           15.800000190734863,
           215,
           5300
          ],
          "vectorType": "dense"
         },
         {
          "length": 4,
          "values": [
           0.47636371959339485,
           0.3214285633190956,
           0.7288135593220338,
           0.765625
          ],
          "vectorType": "dense"
         }
        ],
        [
         {
          "length": 4,
          "values": [
           45.29999923706055,
           13.699999809265137,
           210,
           4300
          ],
          "vectorType": "dense"
         },
         {
          "length": 4,
          "values": [
           0.48000002774325284,
           0.07142850655276464,
           0.6440677966101694,
           0.453125
          ],
          "vectorType": "dense"
         }
        ],
        [
         {
          "length": 4,
          "values": [
           45.29999923706055,
           13.800000190734863,
           208,
           4200
          ],
          "vectorType": "dense"
         },
         {
          "length": 4,
          "values": [
           0.48000002774325284,
           0.08333331441122302,
           0.6101694915254238,
           0.421875
          ],
          "vectorType": "dense"
         }
        ],
        [
         {
          "length": 4,
          "values": [
           45.400001525878906,
           14.600000381469727,
           211,
           4800
          ],
          "vectorType": "dense"
         },
         {
          "length": 4,
          "values": [
           0.483636474609375,
           0.17857143668090442,
           0.6610169491525424,
           0.609375
          ],
          "vectorType": "dense"
         }
        ],
        [
         {
          "length": 4,
          "values": [
           45.5,
           13.699999809265137,
           214,
           4650
          ],
          "vectorType": "dense"
         },
         {
          "length": 4,
          "values": [
           0.4872727827592329,
           0.07142850655276464,
           0.711864406779661,
           0.5625
          ],
          "vectorType": "dense"
         }
        ],
        [
         {
          "length": 4,
          "values": [
           45.5,
           13.899999618530273,
           210,
           4200
          ],
          "vectorType": "dense"
         },
         {
          "length": 4,
          "values": [
           0.4872727827592329,
           0.09523800873701953,
           0.6440677966101694,
           0.421875
          ],
          "vectorType": "dense"
         }
        ],
        [
         {
          "length": 4,
          "values": [
           45.5,
           14.5,
           212,
           4750
          ],
          "vectorType": "dense"
         },
         {
          "length": 4,
          "values": [
           0.4872727827592329,
           0.16666662882244604,
           0.6779661016949152,
           0.59375
          ],
          "vectorType": "dense"
         }
        ],
        [
         {
          "length": 4,
          "values": [
           45.5,
           15,
           220,
           5000
          ],
          "vectorType": "dense"
         },
         {
          "length": 4,
          "values": [
           0.4872727827592329,
           0.2261904410494142,
           0.8135593220338984,
           0.671875
          ],
          "vectorType": "dense"
         }
        ],
        [
         {
          "length": 4,
          "values": [
           45.70000076293945,
           13.899999618530273,
           214,
           4400
          ],
          "vectorType": "dense"
         },
         {
          "length": 4,
          "values": [
           0.49454553777521304,
           0.09523800873701953,
           0.711864406779661,
           0.484375
          ],
          "vectorType": "dense"
         }
        ],
        [
         {
          "length": 4,
          "values": [
           45.79999923706055,
           14.600000381469727,
           210,
           4200
          ],
          "vectorType": "dense"
         },
         {
          "length": 4,
          "values": [
           0.498181845925071,
           0.17857143668090442,
           0.6440677966101694,
           0.421875
          ],
          "vectorType": "dense"
         }
        ],
        [
         {
          "length": 4,
          "values": [
           46.099998474121094,
           13.199999809265137,
           211,
           4500
          ],
          "vectorType": "dense"
         },
         {
          "length": 4,
          "values": [
           0.509090909090909,
           0.011904694325796506,
           0.6610169491525424,
           0.515625
          ],
          "vectorType": "dense"
         }
        ],
        [
         {
          "length": 4,
          "values": [
           46.099998474121094,
           15.100000381469727,
           215,
           5100
          ],
          "vectorType": "dense"
         },
         {
          "length": 4,
          "values": [
           0.509090909090909,
           0.23809524890787256,
           0.7288135593220338,
           0.703125
          ],
          "vectorType": "dense"
         }
        ],
        [
         {
          "length": 4,
          "values": [
           46.20000076293945,
           14.100000381469727,
           217,
           4375
          ],
          "vectorType": "dense"
         },
         {
          "length": 4,
          "values": [
           0.5127273559570312,
           0.11904762445393628,
           0.7627118644067796,
           0.4765625
          ],
          "vectorType": "dense"
         }
        ],
        [
         {
          "length": 4,
          "values": [
           46.20000076293945,
           14.5,
           209,
           4800
          ],
          "vectorType": "dense"
         },
         {
          "length": 4,
          "values": [
           0.5127273559570312,
           0.16666662882244604,
           0.6271186440677966,
           0.609375
          ],
          "vectorType": "dense"
         }
        ],
        [
         {
          "length": 4,
          "values": [
           46.20000076293945,
           14.899999618530273,
           221,
           5300
          ],
          "vectorType": "dense"
         },
         {
          "length": 4,
          "values": [
           0.5127273559570312,
           0.2142856331909558,
           0.8305084745762712,
           0.765625
          ],
          "vectorType": "dense"
         }
        ],
        [
         {
          "length": 4,
          "values": [
           46.29999923706055,
           15.800000190734863,
           215,
           5050
          ],
          "vectorType": "dense"
         },
         {
          "length": 4,
          "values": [
           0.5163636641068892,
           0.3214285633190956,
           0.7288135593220338,
           0.6875
          ],
          "vectorType": "dense"
         }
        ],
        [
         {
          "length": 4,
          "values": [
           46.400001525878906,
           15,
           216,
           4700
          ],
          "vectorType": "dense"
         },
         {
          "length": 4,
          "values": [
           0.5200001109730114,
           0.2261904410494142,
           0.7457627118644068,
           0.578125
          ],
          "vectorType": "dense"
         }
        ],
        [
         {
          "length": 4,
          "values": [
           46.5,
           13.5,
           210,
           4550
          ],
          "vectorType": "dense"
         },
         {
          "length": 4,
          "values": [
           0.5236364191228693,
           0.047619004368509764,
           0.6440677966101694,
           0.53125
          ],
          "vectorType": "dense"
         }
        ],
        [
         {
          "length": 4,
          "values": [
           46.5,
           14.399999618530273,
           217,
           4900
          ],
          "vectorType": "dense"
         },
         {
          "length": 4,
          "values": [
           0.5236364191228693,
           0.15476182096398766,
           0.7627118644067796,
           0.640625
          ],
          "vectorType": "dense"
         }
        ],
        [
         {
          "length": 4,
          "values": [
           46.5,
           14.5,
           213,
           4400
          ],
          "vectorType": "dense"
         },
         {
          "length": 4,
          "values": [
           0.5236364191228693,
           0.16666662882244604,
           0.6949152542372882,
           0.484375
          ],
          "vectorType": "dense"
         }
        ],
        [
         {
          "length": 4,
          "values": [
           46.5,
           14.800000190734863,
           217,
           5200
          ],
          "vectorType": "dense"
         },
         {
          "length": 4,
          "values": [
           0.5236364191228693,
           0.20238093886515932,
           0.7627118644067796,
           0.734375
          ],
          "vectorType": "dense"
         }
        ],
        [
         {
          "length": 4,
          "values": [
           46.599998474121094,
           14.199999809265137,
           210,
           4850
          ],
          "vectorType": "dense"
         },
         {
          "length": 4,
          "values": [
           0.5272727272727272,
           0.1309523187797328,
           0.6440677966101694,
           0.625
          ],
          "vectorType": "dense"
         }
        ],
        [
         {
          "length": 4,
          "values": [
           46.70000076293945,
           15.300000190734863,
           219,
           5200
          ],
          "vectorType": "dense"
         },
         {
          "length": 4,
          "values": [
           0.5309091741388494,
           0.26190475109212746,
           0.7966101694915254,
           0.734375
          ],
          "vectorType": "dense"
         }
        ],
        [
         {
          "length": 4,
          "values": [
           46.79999923706055,
           14.300000190734863,
           215,
           4850
          ],
          "vectorType": "dense"
         },
         {
          "length": 4,
          "values": [
           0.5345454822887074,
           0.14285712663819117,
           0.7288135593220338,
           0.625
          ],
          "vectorType": "dense"
         }
        ],
        [
         {
          "length": 4,
          "values": [
           46.79999923706055,
           15.399999618530273,
           215,
           5150
          ],
          "vectorType": "dense"
         },
         {
          "length": 4,
          "values": [
           0.5345454822887074,
           0.27380944541792396,
           0.7288135593220338,
           0.71875
          ],
          "vectorType": "dense"
         }
        ],
        [
         {
          "length": 4,
          "values": [
           46.79999923706055,
           16.100000381469727,
           215,
           5500
          ],
          "vectorType": "dense"
         },
         {
          "length": 4,
          "values": [
           0.5345454822887074,
           0.35714287336180883,
           0.7288135593220338,
           0.828125
          ],
          "vectorType": "dense"
         }
        ],
        [
         {
          "length": 4,
          "values": [
           46.900001525878906,
           14.600000381469727,
           222,
           4875
          ],
          "vectorType": "dense"
         },
         {
          "length": 4,
          "values": [
           0.5381819291548295,
           0.17857143668090442,
           0.847457627118644,
           0.6328125
          ],
          "vectorType": "dense"
         }
        ],
        [
         {
          "length": 4,
          "values": [
           47.20000076293945,
           13.699999809265137,
           214,
           4925
          ],
          "vectorType": "dense"
         },
         {
          "length": 4,
          "values": [
           0.5490909923206676,
           0.07142850655276464,
           0.711864406779661,
           0.6484375
          ],
          "vectorType": "dense"
         }
        ],
        [
         {
          "length": 4,
          "values": [
           47.20000076293945,
           15.5,
           215,
           4975
          ],
          "vectorType": "dense"
         },
         {
          "length": 4,
          "values": [
           0.5490909923206676,
           0.28571425327638234,
           0.7288135593220338,
           0.6640625
          ],
          "vectorType": "dense"
         }
        ],
        [
         {
          "length": 4,
          "values": [
           47.29999923706055,
           13.800000190734863,
           216,
           4725
          ],
          "vectorType": "dense"
         },
         {
          "length": 4,
          "values": [
           0.5527273004705255,
           0.08333331441122302,
           0.7457627118644068,
           0.5859375
          ],
          "vectorType": "dense"
         }
        ],
        [
         {
          "length": 4,
          "values": [
           47.29999923706055,
           15.300000190734863,
           222,
           5250
          ],
          "vectorType": "dense"
         },
         {
          "length": 4,
          "values": [
           0.5527273004705255,
           0.26190475109212746,
           0.847457627118644,
           0.75
          ],
          "vectorType": "dense"
         }
        ],
        [
         {
          "length": 4,
          "values": [
           47.400001525878906,
           14.600000381469727,
           212,
           4725
          ],
          "vectorType": "dense"
         },
         {
          "length": 4,
          "values": [
           0.5563637473366477,
           0.17857143668090442,
           0.6779661016949152,
           0.5859375
          ],
          "vectorType": "dense"
         }
        ],
        [
         {
          "length": 4,
          "values": [
           47.5,
           14,
           212,
           4875
          ],
          "vectorType": "dense"
         },
         {
          "length": 4,
          "values": [
           0.5600000554865057,
           0.1071428165954779,
           0.6779661016949152,
           0.6328125
          ],
          "vectorType": "dense"
         }
        ],
        [
         {
          "length": 4,
          "values": [
           47.5,
           14.199999809265137,
           209,
           4600
          ],
          "vectorType": "dense"
         },
         {
          "length": 4,
          "values": [
           0.5600000554865057,
           0.1309523187797328,
           0.6271186440677966,
           0.546875
          ],
          "vectorType": "dense"
         }
        ],
        [
         {
          "length": 4,
          "values": [
           47.5,
           15,
           218,
           4950
          ],
          "vectorType": "dense"
         },
         {
          "length": 4,
          "values": [
           0.5600000554865057,
           0.2261904410494142,
           0.7796610169491526,
           0.65625
          ],
          "vectorType": "dense"
         }
        ],
        [
         {
          "length": 4,
          "values": [
           47.599998474121094,
           14.5,
           215,
           5400
          ],
          "vectorType": "dense"
         },
         {
          "length": 4,
          "values": [
           0.5636363636363636,
           0.16666662882244604,
           0.7288135593220338,
           0.796875
          ],
          "vectorType": "dense"
         }
        ],
        [
         {
          "length": 4,
          "values": [
           47.70000076293945,
           15,
           216,
           4750
          ],
          "vectorType": "dense"
         },
         {
          "length": 4,
          "values": [
           0.5672728105024858,
           0.2261904410494142,
           0.7457627118644068,
           0.59375
          ],
          "vectorType": "dense"
         }
        ],
        [
         {
          "length": 4,
          "values": [
           47.79999923706055,
           15,
           215,
           5650
          ],
          "vectorType": "dense"
         },
         {
          "length": 4,
          "values": [
           0.5709091186523437,
           0.2261904410494142,
           0.7288135593220338,
           0.875
          ],
          "vectorType": "dense"
         }
        ],
        [
         {
          "length": 4,
          "values": [
           48.099998474121094,
           15.100000381469727,
           209,
           5500
          ],
          "vectorType": "dense"
         },
         {
          "length": 4,
          "values": [
           0.5818181818181818,
           0.23809524890787256,
           0.6271186440677966,
           0.828125
          ],
          "vectorType": "dense"
         }
        ],
        [
         {
          "length": 4,
          "values": [
           48.20000076293945,
           14.300000190734863,
           210,
           4600
          ],
          "vectorType": "dense"
         },
         {
          "length": 4,
          "values": [
           0.585454628684304,
           0.14285712663819117,
           0.6440677966101694,
           0.546875
          ],
          "vectorType": "dense"
         }
        ],
        [
         {
          "length": 4,
          "values": [
           48.400001525878906,
           14.399999618530273,
           203,
           4625
          ],
          "vectorType": "dense"
         },
         {
          "length": 4,
          "values": [
           0.5927273837002841,
           0.15476182096398766,
           0.5254237288135594,
           0.5546875
          ],
          "vectorType": "dense"
         }
        ],
        [
         {
          "length": 4,
          "values": [
           48.5,
           14.100000381469727,
           220,
           5300
          ],
          "vectorType": "dense"
         },
         {
          "length": 4,
          "values": [
           0.596363691850142,
           0.11904762445393628,
           0.8135593220338984,
           0.765625
          ],
          "vectorType": "dense"
         }
        ],
        [
         {
          "length": 4,
          "values": [
           48.5,
           15,
           219,
           4850
          ],
          "vectorType": "dense"
         },
         {
          "length": 4,
          "values": [
           0.596363691850142,
           0.2261904410494142,
           0.7966101694915254,
           0.625
          ],
          "vectorType": "dense"
         }
        ],
        [
         {
          "length": 4,
          "values": [
           48.599998474121094,
           16,
           230,
           5800
          ],
          "vectorType": "dense"
         },
         {
          "length": 4,
          "values": [
           0.6,
           0.34523806550335046,
           0.9830508474576272,
           0.921875
          ],
          "vectorType": "dense"
         }
        ],
        [
         {
          "length": 4,
          "values": [
           48.70000076293945,
           14.100000381469727,
           210,
           4450
          ],
          "vectorType": "dense"
         },
         {
          "length": 4,
          "values": [
           0.6036364468661222,
           0.11904762445393628,
           0.6440677966101694,
           0.5
          ],
          "vectorType": "dense"
         }
        ],
        [
         {
          "length": 4,
          "values": [
           48.70000076293945,
           15.699999809265137,
           208,
           5350
          ],
          "vectorType": "dense"
         },
         {
          "length": 4,
          "values": [
           0.6036364468661222,
           0.3095237554606372,
           0.6101694915254238,
           0.78125
          ],
          "vectorType": "dense"
         }
        ],
        [
         {
          "length": 4,
          "values": [
           48.79999923706055,
           16.200000762939453,
           222,
           6000
          ],
          "vectorType": "dense"
         },
         {
          "length": 4,
          "values": [
           0.6072727550159801,
           0.3690476812202672,
           0.847457627118644,
           0.984375
          ],
          "vectorType": "dense"
         }
        ],
        [
         {
          "length": 4,
          "values": [
           49,
           16.100000381469727,
           216,
           5550
          ],
          "vectorType": "dense"
         },
         {
          "length": 4,
          "values": [
           0.6145455100319602,
           0.35714287336180883,
           0.7457627118644068,
           0.84375
          ],
          "vectorType": "dense"
         }
        ],
        [
         {
          "length": 4,
          "values": [
           49.099998474121094,
           14.5,
           212,
           4625
          ],
          "vectorType": "dense"
         },
         {
          "length": 4,
          "values": [
           0.6181818181818182,
           0.16666662882244604,
           0.6779661016949152,
           0.5546875
          ],
          "vectorType": "dense"
         }
        ],
        [
         {
          "length": 4,
          "values": [
           49.099998474121094,
           14.800000190734863,
           220,
           5150
          ],
          "vectorType": "dense"
         },
         {
          "length": 4,
          "values": [
           0.6181818181818182,
           0.20238093886515932,
           0.8135593220338984,
           0.71875
          ],
          "vectorType": "dense"
         }
        ],
        [
         {
          "length": 4,
          "values": [
           49.099998474121094,
           15,
           228,
           5500
          ],
          "vectorType": "dense"
         },
         {
          "length": 4,
          "values": [
           0.6181818181818182,
           0.2261904410494142,
           0.9491525423728814,
           0.828125
          ],
          "vectorType": "dense"
         }
        ],
        [
         {
          "length": 4,
          "values": [
           49.29999923706055,
           15.699999809265137,
           217,
           5850
          ],
          "vectorType": "dense"
         },
         {
          "length": 4,
          "values": [
           0.6254545731977983,
           0.3095237554606372,
           0.7627118644067796,
           0.9375
          ],
          "vectorType": "dense"
         }
        ],
        [
         {
          "length": 4,
          "values": [
           49.5,
           16.100000381469727,
           224,
           5650
          ],
          "vectorType": "dense"
         },
         {
          "length": 4,
          "values": [
           0.6327273282137784,
           0.35714287336180883,
           0.8813559322033898,
           0.875
          ],
          "vectorType": "dense"
         }
        ],
        [
         {
          "length": 4,
          "values": [
           49.5,
           16.200000762939453,
           229,
           5800
          ],
          "vectorType": "dense"
         },
         {
          "length": 4,
          "values": [
           0.6327273282137784,
           0.3690476812202672,
           0.9661016949152542,
           0.921875
          ],
          "vectorType": "dense"
         }
        ],
        [
         {
          "length": 4,
          "values": [
           49.599998474121094,
           15,
           216,
           4750
          ],
          "vectorType": "dense"
         },
         {
          "length": 4,
          "values": [
           0.6363636363636364,
           0.2261904410494142,
           0.7457627118644068,
           0.59375
          ],
          "vectorType": "dense"
         }
        ],
        [
         {
          "length": 4,
          "values": [
           49.79999923706055,
           15.899999618530273,
           229,
           5950
          ],
          "vectorType": "dense"
         },
         {
          "length": 4,
          "values": [
           0.6436363913796165,
           0.3333332576448921,
           0.9661016949152542,
           0.96875
          ],
          "vectorType": "dense"
         }
        ],
        [
         {
          "length": 4,
          "values": [
           49.79999923706055,
           16.799999237060547,
           230,
           5700
          ],
          "vectorType": "dense"
         },
         {
          "length": 4,
          "values": [
           0.6436363913796165,
           0.44047607424037,
           0.9830508474576272,
           0.890625
          ],
          "vectorType": "dense"
         }
        ],
        [
         {
          "length": 4,
          "values": [
           49.900001525878906,
           16.100000381469727,
           213,
           5400
          ],
          "vectorType": "dense"
         },
         {
          "length": 4,
          "values": [
           0.6472728382457386,
           0.35714287336180883,
           0.6949152542372882,
           0.796875
          ],
          "vectorType": "dense"
         }
        ],
        [
         {
          "length": 4,
          "values": [
           50,
           16.299999237060547,
           230,
           5700
          ],
          "vectorType": "dense"
         },
         {
          "length": 4,
          "values": [
           0.6509091463955966,
           0.3809522620134019,
           0.9830508474576272,
           0.890625
          ],
          "vectorType": "dense"
         }
        ],
        [
         {
          "length": 4,
          "values": [
           50.20000076293945,
           14.300000190734863,
           218,
           5700
          ],
          "vectorType": "dense"
         },
         {
          "length": 4,
          "values": [
           0.6581819014115766,
           0.14285712663819117,
           0.7796610169491526,
           0.890625
          ],
          "vectorType": "dense"
         }
        ],
        [
         {
          "length": 4,
          "values": [
           50.400001525878906,
           15.699999809265137,
           222,
           5750
          ],
          "vectorType": "dense"
         },
         {
          "length": 4,
          "values": [
           0.6654546564275567,
           0.3095237554606372,
           0.847457627118644,
           0.90625
          ],
          "vectorType": "dense"
         }
        ],
        [
         {
          "length": 4,
          "values": [
           50.5,
           15.199999809265137,
           216,
           5000
          ],
          "vectorType": "dense"
         },
         {
          "length": 4,
          "values": [
           0.6690909645774148,
           0.24999994323366906,
           0.7457627118644068,
           0.671875
          ],
          "vectorType": "dense"
         }
        ],
        [
         {
          "length": 4,
          "values": [
           50.5,
           15.899999618530273,
           225,
           5400
          ],
          "vectorType": "dense"
         },
         {
          "length": 4,
          "values": [
           0.6690909645774148,
           0.3333332576448921,
           0.8983050847457628,
           0.796875
          ],
          "vectorType": "dense"
         }
        ],
        [
         {
          "length": 4,
          "values": [
           50.70000076293945,
           15,
           223,
           5550
          ],
          "vectorType": "dense"
         },
         {
          "length": 4,
          "values": [
           0.6763637195933948,
           0.2261904410494142,
           0.864406779661017,
           0.84375
          ],
          "vectorType": "dense"
         }
        ],
        [
         {
          "length": 4,
          "values": [
           50.79999923706055,
           15.699999809265137,
           226,
           5200
          ],
          "vectorType": "dense"
         },
         {
          "length": 4,
          "values": [
           0.6800000277432529,
           0.3095237554606372,
           0.9152542372881356,
           0.734375
          ],
          "vectorType": "dense"
         }
        ],
        [
         {
          "length": 4,
          "values": [
           50.79999923706055,
           17.299999237060547,
           228,
           5600
          ],
          "vectorType": "dense"
         },
         {
          "length": 4,
          "values": [
           0.6800000277432529,
           0.4999998864673381,
           0.9491525423728814,
           0.859375
          ],
          "vectorType": "dense"
         }
        ],
        [
         {
          "length": 4,
          "values": [
           51.099998474121094,
           16.5,
           225,
           5250
          ],
          "vectorType": "dense"
         },
         {
          "length": 4,
          "values": [
           0.6909090909090909,
           0.40476187773031863,
           0.8983050847457628,
           0.75
          ],
          "vectorType": "dense"
         }
        ],
        [
         {
          "length": 4,
          "values": [
           51.5,
           16.299999237060547,
           230,
           5500
          ],
          "vectorType": "dense"
         },
         {
          "length": 4,
          "values": [
           0.7054546009410511,
           0.3809522620134019,
           0.9830508474576272,
           0.828125
          ],
          "vectorType": "dense"
         }
        ],
        [
         {
          "length": 4,
          "values": [
           52.20000076293945,
           17.100000381469727,
           228,
           5400
          ],
          "vectorType": "dense"
         },
         {
          "length": 4,
          "values": [
           0.7309091741388494,
           0.47619049781574513,
           0.9491525423728814,
           0.796875
          ],
          "vectorType": "dense"
         }
        ],
        [
         {
          "length": 4,
          "values": [
           52.5,
           15.600000381469727,
           221,
           5450
          ],
          "vectorType": "dense"
         },
         {
          "length": 4,
          "values": [
           0.7418182373046874,
           0.2976190611348407,
           0.8305084745762712,
           0.8125
          ],
          "vectorType": "dense"
         }
        ],
        [
         {
          "length": 4,
          "values": [
           53.400001525878906,
           15.800000190734863,
           219,
           5500
          ],
          "vectorType": "dense"
         },
         {
          "length": 4,
          "values": [
           0.7745455655184659,
           0.3214285633190956,
           0.7966101694915254,
           0.828125
          ],
          "vectorType": "dense"
         }
        ],
        [
         {
          "length": 4,
          "values": [
           54.29999923706055,
           15.699999809265137,
           231,
           5650
          ],
          "vectorType": "dense"
         },
         {
          "length": 4,
          "values": [
           0.8072727550159801,
           0.3095237554606372,
           1,
           0.875
          ],
          "vectorType": "dense"
         }
        ],
        [
         {
          "length": 4,
          "values": [
           55.900001525878906,
           17,
           228,
           5600
          ],
          "vectorType": "dense"
         },
         {
          "length": 4,
          "values": [
           0.8654546564275568,
           0.46428568995728675,
           0.9491525423728814,
           0.859375
          ],
          "vectorType": "dense"
         }
        ],
        [
         {
          "length": 4,
          "values": [
           59.599998474121094,
           17,
           230,
           6050
          ],
          "vectorType": "dense"
         },
         {
          "length": 4,
          "values": [
           1,
           0.46428568995728675,
           0.9830508474576272,
           1
          ],
          "vectorType": "dense"
         }
        ],
        [
         {
          "length": 4,
          "values": [
           32.099998474121094,
           15.5,
           188,
           3050
          ],
          "vectorType": "dense"
         },
         {
          "length": 4,
          "values": [
           0,
           0.28571425327638234,
           0.2711864406779661,
           0.0625
          ],
          "vectorType": "dense"
         }
        ],
        [
         {
          "length": 4,
          "values": [
           33.099998474121094,
           16.100000381469727,
           178,
           2900
          ],
          "vectorType": "dense"
         },
         {
          "length": 4,
          "values": [
           0.03636363636363636,
           0.35714287336180883,
           0.1016949152542373,
           0.015625
          ],
          "vectorType": "dense"
         }
        ],
        [
         {
          "length": 4,
          "values": [
           34,
           17.100000381469727,
           185,
           3400
          ],
          "vectorType": "dense"
         },
         {
          "length": 4,
          "values": [
           0.06909096457741477,
           0.47619049781574513,
           0.22033898305084745,
           0.171875
          ],
          "vectorType": "dense"
         }
        ],
        [
         {
          "length": 4,
          "values": [
           35.599998474121094,
           17.5,
           191,
           3175
          ],
          "vectorType": "dense"
         },
         {
          "length": 4,
          "values": [
           0.12727272727272726,
           0.5238095021842549,
           0.3220338983050847,
           0.1015625
          ],
          "vectorType": "dense"
         }
        ],
        [
         {
          "length": 4,
          "values": [
           35.70000076293945,
           18,
           202,
           3550
          ],
          "vectorType": "dense"
         },
         {
          "length": 4,
          "values": [
           0.13090917413884942,
           0.583333314411223,
           0.5084745762711864,
           0.21875
          ],
          "vectorType": "dense"
         }
        ],
        [
         {
          "length": 4,
          "values": [
           36,
           17.799999237060547,
           195,
           3450
          ],
          "vectorType": "dense"
         },
         {
          "length": 4,
          "values": [
           0.14181823730468748,
           0.5595236986943063,
           0.3898305084745763,
           0.1875
          ],
          "vectorType": "dense"
         }
        ],
        [
         {
          "length": 4,
          "values": [
           36,
           17.899999618530273,
           190,
           3450
          ],
          "vectorType": "dense"
         },
         {
          "length": 4,
          "values": [
           0.14181823730468748,
           0.5714285065527647,
           0.3050847457627119,
           0.1875
          ],
          "vectorType": "dense"
         }
        ],
        [
         {
          "length": 4,
          "values": [
           36,
           18.5,
           186,
           3100
          ],
          "vectorType": "dense"
         },
         {
          "length": 4,
          "values": [
           0.14181823730468748,
           0.6428571266381912,
           0.23728813559322035,
           0.078125
          ],
          "vectorType": "dense"
         }
        ],
        [
         {
          "length": 4,
          "values": [
           36.20000076293945,
           17.299999237060547,
           187,
           3300
          ],
          "vectorType": "dense"
         },
         {
          "length": 4,
          "values": [
           0.1490909923206676,
           0.4999998864673381,
           0.2542372881355932,
           0.140625
          ],
          "vectorType": "dense"
         }
        ],
        [
         {
          "length": 4,
          "values": [
           36.400001525878906,
           17,
           195,
           3325
          ],
          "vectorType": "dense"
         },
         {
          "length": 4,
          "values": [
           0.1563637473366477,
           0.46428568995728675,
           0.3898305084745763,
           0.1484375
          ],
          "vectorType": "dense"
         }
        ],
        [
         {
          "length": 4,
          "values": [
           36.5,
           18,
           182,
           3150
          ],
          "vectorType": "dense"
         },
         {
          "length": 4,
          "values": [
           0.16000005548650567,
           0.583333314411223,
           0.1694915254237288,
           0.09375
          ],
          "vectorType": "dense"
         }
        ],
        [
         {
          "length": 4,
          "values": [
           36.599998474121094,
           18.399999618530273,
           184,
           3475
          ],
          "vectorType": "dense"
         },
         {
          "length": 4,
          "values": [
           0.16363636363636364,
           0.6309523187797328,
           0.2033898305084746,
           0.1953125
          ],
          "vectorType": "dense"
         }
        ],
        [
         {
          "length": 4,
          "values": [
           36.79999923706055,
           18.5,
           193,
           3500
          ],
          "vectorType": "dense"
         },
         {
          "length": 4,
          "values": [
           0.17090911865234373,
           0.6428571266381912,
           0.3559322033898305,
           0.203125
          ],
          "vectorType": "dense"
         }
        ],
        [
         {
          "length": 4,
          "values": [
           36.900001525878906,
           18.600000381469727,
           189,
           3500
          ],
          "vectorType": "dense"
         },
         {
          "length": 4,
          "values": [
           0.1745455655184659,
           0.6547619344966495,
           0.288135593220339,
           0.203125
          ],
          "vectorType": "dense"
         }
        ],
        [
         {
          "length": 4,
          "values": [
           37,
           16.899999618530273,
           185,
           3000
          ],
          "vectorType": "dense"
         },
         {
          "length": 4,
          "values": [
           0.17818187366832386,
           0.4523808820988284,
           0.22033898305084745,
           0.046875
          ],
          "vectorType": "dense"
         }
        ],
        [
         {
          "length": 4,
          "values": [
           37.20000076293945,
           18.100000381469727,
           178,
           3900
          ],
          "vectorType": "dense"
         },
         {
          "length": 4,
          "values": [
           0.18545462868430396,
           0.5952381222696814,
           0.1016949152542373,
           0.328125
          ],
          "vectorType": "dense"
         }
        ],
        [
         {
          "length": 4,
          "values": [
           37.29999923706055,
           16.799999237060547,
           192,
           3000
          ],
          "vectorType": "dense"
         },
         {
          "length": 4,
          "values": [
           0.18909093683416192,
           0.44047607424037,
           0.3389830508474576,
           0.046875
          ],
          "vectorType": "dense"
         }
        ],
        [
         {
          "length": 4,
          "values": [
           37.5,
           18.5,
           199,
           4475
          ],
          "vectorType": "dense"
         },
         {
          "length": 4,
          "values": [
           0.19636369185014205,
           0.6428571266381912,
           0.4576271186440678,
           0.5078125
          ],
          "vectorType": "dense"
         }
        ],
        [
         {
          "length": 4,
          "values": [
           37.5,
           18.899999618530273,
           179,
           2975
          ],
          "vectorType": "dense"
         },
         {
          "length": 4,
          "values": [
           0.19636369185014205,
           0.6904761310067009,
           0.11864406779661017,
           0.0390625
          ],
          "vectorType": "dense"
         }
        ],
        [
         {
          "length": 4,
          "values": [
           37.599998474121094,
           19.299999237060547,
           181,
           3300
          ],
          "vectorType": "dense"
         },
         {
          "length": 4,
          "values": [
           0.19999999999999998,
           0.7380951353752107,
           0.15254237288135594,
           0.140625
          ],
          "vectorType": "dense"
         }
        ],
        [
         {
          "length": 4,
          "values": [
           37.79999923706055,
           18.100000381469727,
           193,
           3750
          ],
          "vectorType": "dense"
         },
         {
          "length": 4,
          "values": [
           0.2072727550159801,
           0.5952381222696814,
           0.3559322033898305,
           0.28125
          ],
          "vectorType": "dense"
         }
        ],
        [
         {
          "length": 4,
          "values": [
           38.099998474121094,
           18.600000381469727,
           190,
           3700
          ],
          "vectorType": "dense"
         },
         {
          "length": 4,
          "values": [
           0.21818181818181817,
           0.6547619344966495,
           0.3050847457627119,
           0.265625
          ],
          "vectorType": "dense"
         }
        ],
        [
         {
          "length": 4,
          "values": [
           38.79999923706055,
           20,
           190,
           3950
          ],
          "vectorType": "dense"
         },
         {
          "length": 4,
          "values": [
           0.24363639137961646,
           0.8214285633190956,
           0.3050847457627119,
           0.34375
          ],
          "vectorType": "dense"
         }
        ],
        [
         {
          "length": 4,
          "values": [
           38.900001525878906,
           18.799999237060547,
           190,
           3600
          ],
          "vectorType": "dense"
         },
         {
          "length": 4,
          "values": [
           0.24727283824573862,
           0.6785713231482425,
           0.3050847457627119,
           0.234375
          ],
          "vectorType": "dense"
         }
        ],
        [
         {
          "length": 4,
          "values": [
           39.20000076293945,
           18.600000381469727,
           190,
           4250
          ],
          "vectorType": "dense"
         },
         {
          "length": 4,
          "values": [
           0.2581819014115767,
           0.6547619344966495,
           0.3050847457627119,
           0.4375
          ],
          "vectorType": "dense"
         }
        ],
        [
         {
          "length": 4,
          "values": [
           39.5,
           16.700000762939453,
           178,
           3250
          ],
          "vectorType": "dense"
         },
         {
          "length": 4,
          "values": [
           0.26909096457741477,
           0.4285714934472354,
           0.1016949152542373,
           0.125
          ],
          "vectorType": "dense"
         }
        ],
        [
         {
          "length": 4,
          "values": [
           39.5,
           17.799999237060547,
           188,
           3300
          ],
          "vectorType": "dense"
         },
         {
          "length": 4,
          "values": [
           0.26909096457741477,
           0.5595236986943063,
           0.2711864406779661,
           0.140625
          ],
          "vectorType": "dense"
         }
        ],
        [
         {
          "length": 4,
          "values": [
           39.599998474121094,
           18.100000381469727,
           186,
           4450
          ],
          "vectorType": "dense"
         },
         {
          "length": 4,
          "values": [
           0.2727272727272727,
           0.5952381222696814,
           0.23728813559322035,
           0.5
          ],
          "vectorType": "dense"
         }
        ],
        [
         {
          "length": 4,
          "values": [
           39.599998474121094,
           18.799999237060547,
           190,
           4600
          ],
          "vectorType": "dense"
         },
         {
          "length": 4,
          "values": [
           0.2727272727272727,
           0.6785713231482425,
           0.3050847457627119,
           0.546875
          ],
          "vectorType": "dense"
         }
        ],
        [
         {
          "length": 4,
          "values": [
           39.79999923706055,
           19.100000381469727,
           184,
           4650
          ],
          "vectorType": "dense"
         },
         {
          "length": 4,
          "values": [
           0.28000002774325283,
           0.7142857467236177,
           0.2033898305084746,
           0.5625
          ],
          "vectorType": "dense"
         }
        ],
        [
         {
          "length": 4,
          "values": [
           40.20000076293945,
           20.100000381469727,
           200,
           3975
          ],
          "vectorType": "dense"
         },
         {
          "length": 4,
          "values": [
           0.29454553777521303,
           0.833333371177554,
           0.4745762711864407,
           0.3515625
          ],
          "vectorType": "dense"
         }
        ],
        [
         {
          "length": 4,
          "values": [
           40.79999923706055,
           18.399999618530273,
           195,
           3900
          ],
          "vectorType": "dense"
         },
         {
          "length": 4,
          "values": [
           0.3163636641068892,
           0.6309523187797328,
           0.3898305084745763,
           0.328125
          ],
          "vectorType": "dense"
         }
        ],
        [
         {
          "length": 4,
          "values": [
           40.79999923706055,
           18.899999618530273,
           208,
           4300
          ],
          "vectorType": "dense"
         },
         {
          "length": 4,
          "values": [
           0.3163636641068892,
           0.6904761310067009,
           0.6101694915254238,
           0.453125
          ],
          "vectorType": "dense"
         }
        ],
        [
         {
          "length": 4,
          "values": [
           40.900001525878906,
           16.600000381469727,
           187,
           3200
          ],
          "vectorType": "dense"
         },
         {
          "length": 4,
          "values": [
           0.32000011097301134,
           0.416666685588777,
           0.2542372881355932,
           0.109375
          ],
          "vectorType": "dense"
         }
        ],
        [
         {
          "length": 4,
          "values": [
           41.099998474121094,
           17.5,
           190,
           3900
          ],
          "vectorType": "dense"
         },
         {
          "length": 4,
          "values": [
           0.32727272727272727,
           0.5238095021842549,
           0.3050847457627119,
           0.328125
          ],
          "vectorType": "dense"
         }
        ],
        [
         {
          "length": 4,
          "values": [
           41.099998474121094,
           18.100000381469727,
           205,
           4300
          ],
          "vectorType": "dense"
         },
         {
          "length": 4,
          "values": [
           0.32727272727272727,
           0.5952381222696814,
           0.559322033898305,
           0.453125
          ],
          "vectorType": "dense"
         }
        ],
        [
         {
          "length": 4,
          "values": [
           41.099998474121094,
           19,
           182,
           3425
          ],
          "vectorType": "dense"
         },
         {
          "length": 4,
          "values": [
           0.32727272727272727,
           0.7023809388651593,
           0.1694915254237288,
           0.1796875
          ],
          "vectorType": "dense"
         }
        ],
        [
         {
          "length": 4,
          "values": [
           41.29999923706055,
           20.299999237060547,
           194,
           3550
          ],
          "vectorType": "dense"
         },
         {
          "length": 4,
          "values": [
           0.3345454822887074,
           0.857142759829147,
           0.3728813559322034,
           0.21875
          ],
          "vectorType": "dense"
         }
        ],
        [
         {
          "length": 4,
          "values": [
           41.5,
           18.5,
           201,
           4000
          ],
          "vectorType": "dense"
         },
         {
          "length": 4,
          "values": [
           0.34181823730468747,
           0.6428571266381912,
           0.4915254237288136,
           0.359375
          ],
          "vectorType": "dense"
         }
        ],
        [
         {
          "length": 4,
          "values": [
           42.20000076293945,
           18.5,
           180,
           3550
          ],
          "vectorType": "dense"
         },
         {
          "length": 4,
          "values": [
           0.3672728105024858,
           0.6428571266381912,
           0.13559322033898305,
           0.21875
          ],
          "vectorType": "dense"
         }
        ],
        [
         {
          "length": 4,
          "values": [
           42.400001525878906,
           17.299999237060547,
           181,
           3600
          ],
          "vectorType": "dense"
         },
         {
          "length": 4,
          "values": [
           0.3745455655184659,
           0.4999998864673381,
           0.15254237288135594,
           0.234375
          ],
          "vectorType": "dense"
         }
        ],
        [
         {
          "length": 4,
          "values": [
           42.5,
           16.700000762939453,
           187,
           3350
          ],
          "vectorType": "dense"
         },
         {
          "length": 4,
          "values": [
           0.37818187366832384,
           0.4285714934472354,
           0.2542372881355932,
           0.15625
          ],
          "vectorType": "dense"
         }
        ],
        [
         {
          "length": 4,
          "values": [
           42.5,
           17.299999237060547,
           187,
           3350
          ],
          "vectorType": "dense"
         },
         {
          "length": 4,
          "values": [
           0.37818187366832384,
           0.4999998864673381,
           0.2542372881355932,
           0.15625
          ],
          "vectorType": "dense"
         }
        ],
        [
         {
          "length": 4,
          "values": [
           43.20000076293945,
           16.600000381469727,
           187,
           2900
          ],
          "vectorType": "dense"
         },
         {
          "length": 4,
          "values": [
           0.40363644686612216,
           0.416666685588777,
           0.2542372881355932,
           0.015625
          ],
          "vectorType": "dense"
         }
        ],
        [
         {
          "length": 4,
          "values": [
           43.20000076293945,
           18.5,
           192,
           4100
          ],
          "vectorType": "dense"
         },
         {
          "length": 4,
          "values": [
           0.40363644686612216,
           0.6428571266381912,
           0.3389830508474576,
           0.390625
          ],
          "vectorType": "dense"
         }
        ],
        [
         {
          "length": 4,
          "values": [
           44.099998474121094,
           19.700000762939453,
           196,
           4400
          ],
          "vectorType": "dense"
         },
         {
          "length": 4,
          "values": [
           0.43636363636363634,
           0.7857143668090442,
           0.4067796610169492,
           0.484375
          ],
          "vectorType": "dense"
         }
        ],
        [
         {
          "length": 4,
          "values": [
           45.20000076293945,
           16.600000381469727,
           191,
           3250
          ],
          "vectorType": "dense"
         },
         {
          "length": 4,
          "values": [
           0.47636371959339485,
           0.416666685588777,
           0.3220338983050847,
           0.125
          ],
          "vectorType": "dense"
         }
        ],
        [
         {
          "length": 4,
          "values": [
           45.20000076293945,
           17.799999237060547,
           198,
           3950
          ],
          "vectorType": "dense"
         },
         {
          "length": 4,
          "values": [
           0.47636371959339485,
           0.5595236986943063,
           0.4406779661016949,
           0.34375
          ],
          "vectorType": "dense"
         }
        ],
        [
         {
          "length": 4,
          "values": [
           45.599998474121094,
           19.399999618530273,
           194,
           3525
          ],
          "vectorType": "dense"
         },
         {
          "length": 4,
          "values": [
           0.4909090909090909,
           0.749999943233669,
           0.3728813559322034,
           0.2109375
          ],
          "vectorType": "dense"
         }
        ],
        [
         {
          "length": 4,
          "values": [
           45.70000076293945,
           17,
           195,
           3650
          ],
          "vectorType": "dense"
         },
         {
          "length": 4,
          "values": [
           0.49454553777521304,
           0.46428568995728675,
           0.3898305084745763,
           0.25
          ],
          "vectorType": "dense"
         }
        ],
        [
         {
          "length": 4,
          "values": [
           45.70000076293945,
           17.299999237060547,
           193,
           3600
          ],
          "vectorType": "dense"
         },
         {
          "length": 4,
          "values": [
           0.49454553777521304,
           0.4999998864673381,
           0.3559322033898305,
           0.234375
          ],
          "vectorType": "dense"
         }
        ],
        [
         {
          "length": 4,
          "values": [
           45.900001525878906,
           17.100000381469727,
           190,
           3575
          ],
          "vectorType": "dense"
         },
         {
          "length": 4,
          "values": [
           0.5018182927911932,
           0.47619049781574513,
           0.3050847457627119,
           0.2265625
          ],
          "vectorType": "dense"
         }
        ],
        [
         {
          "length": 4,
          "values": [
           46.20000076293945,
           17.5,
           187,
           3650
          ],
          "vectorType": "dense"
         },
         {
          "length": 4,
          "values": [
           0.5127273559570312,
           0.5238095021842549,
           0.2542372881355932,
           0.25
          ],
          "vectorType": "dense"
         }
        ],
        [
         {
          "length": 4,
          "values": [
           46.599998474121094,
           17.799999237060547,
           193,
           3800
          ],
          "vectorType": "dense"
         },
         {
          "length": 4,
          "values": [
           0.5272727272727272,
           0.5595236986943063,
           0.3559322033898305,
           0.296875
          ],
          "vectorType": "dense"
         }
        ],
        [
         {
          "length": 4,
          "values": [
           46.70000076293945,
           17.899999618530273,
           195,
           3300
          ],
          "vectorType": "dense"
         },
         {
          "length": 4,
          "values": [
           0.5309091741388494,
           0.5714285065527647,
           0.3898305084745763,
           0.140625
          ],
          "vectorType": "dense"
         }
        ],
        [
         {
          "length": 4,
          "values": [
           46.79999923706055,
           16.5,
           189,
           3650
          ],
          "vectorType": "dense"
         },
         {
          "length": 4,
          "values": [
           0.5345454822887074,
           0.40476187773031863,
           0.288135593220339,
           0.25
          ],
          "vectorType": "dense"
         }
        ],
        [
         {
          "length": 4,
          "values": [
           47.5,
           16.799999237060547,
           199,
           3900
          ],
          "vectorType": "dense"
         },
         {
          "length": 4,
          "values": [
           0.5600000554865057,
           0.44047607424037,
           0.4576271186440678,
           0.328125
          ],
          "vectorType": "dense"
         }
        ],
        [
         {
          "length": 4,
          "values": [
           47.599998474121094,
           18.299999237060547,
           195,
           3850
          ],
          "vectorType": "dense"
         },
         {
          "length": 4,
          "values": [
           0.5636363636363636,
           0.6190475109212744,
           0.3898305084745763,
           0.3125
          ],
          "vectorType": "dense"
         }
        ],
        [
         {
          "length": 4,
          "values": [
           48.099998474121094,
           16.399999618530273,
           199,
           3325
          ],
          "vectorType": "dense"
         },
         {
          "length": 4,
          "values": [
           0.5818181818181818,
           0.39285706987186025,
           0.4576271186440678,
           0.1484375
          ],
          "vectorType": "dense"
         }
        ],
        [
         {
          "length": 4,
          "values": [
           48.5,
           17.5,
           191,
           3400
          ],
          "vectorType": "dense"
         },
         {
          "length": 4,
          "values": [
           0.596363691850142,
           0.5238095021842549,
           0.3220338983050847,
           0.171875
          ],
          "vectorType": "dense"
         }
        ],
        [
         {
          "length": 4,
          "values": [
           49,
           19.600000381469727,
           212,
           4300
          ],
          "vectorType": "dense"
         },
         {
          "length": 4,
          "values": [
           0.6145455100319602,
           0.7738095589505858,
           0.6779661016949152,
           0.453125
          ],
          "vectorType": "dense"
         }
        ],
        [
         {
          "length": 4,
          "values": [
           49.20000076293945,
           18.200000762939453,
           195,
           4400
          ],
          "vectorType": "dense"
         },
         {
          "length": 4,
          "values": [
           0.6218182650479404,
           0.6071429301281398,
           0.3898305084745763,
           0.484375
          ],
          "vectorType": "dense"
         }
        ],
        [
         {
          "length": 4,
          "values": [
           49.29999923706055,
           19.899999618530273,
           203,
           4050
          ],
          "vectorType": "dense"
         },
         {
          "length": 4,
          "values": [
           0.6254545731977983,
           0.8095237554606373,
           0.5254237288135594,
           0.375
          ],
          "vectorType": "dense"
         }
        ],
        [
         {
          "length": 4,
          "values": [
           49.5,
           19,
           200,
           3800
          ],
          "vectorType": "dense"
         },
         {
          "length": 4,
          "values": [
           0.6327273282137784,
           0.7023809388651593,
           0.4745762711864407,
           0.296875
          ],
          "vectorType": "dense"
         }
        ],
        [
         {
          "length": 4,
          "values": [
           49.599998474121094,
           18.200000762939453,
           193,
           3775
          ],
          "vectorType": "dense"
         },
         {
          "length": 4,
          "values": [
           0.6363636363636364,
           0.6071429301281398,
           0.3559322033898305,
           0.2890625
          ],
          "vectorType": "dense"
         }
        ],
        [
         {
          "length": 4,
          "values": [
           49.70000076293945,
           18.600000381469727,
           195,
           3600
          ],
          "vectorType": "dense"
         },
         {
          "length": 4,
          "values": [
           0.6400000832297585,
           0.6547619344966495,
           0.3898305084745763,
           0.234375
          ],
          "vectorType": "dense"
         }
        ],
        [
         {
          "length": 4,
          "values": [
           49.79999923706055,
           17.299999237060547,
           198,
           3675
          ],
          "vectorType": "dense"
         },
         {
          "length": 4,
          "values": [
           0.6436363913796165,
           0.4999998864673381,
           0.4406779661016949,
           0.2578125
          ],
          "vectorType": "dense"
         }
        ],
        [
         {
          "length": 4,
          "values": [
           50.099998474121094,
           17.899999618530273,
           190,
           3400
          ],
          "vectorType": "dense"
         },
         {
          "length": 4,
          "values": [
           0.6545454545454545,
           0.5714285065527647,
           0.3050847457627119,
           0.171875
          ],
          "vectorType": "dense"
         }
        ],
        [
         {
          "length": 4,
          "values": [
           50.20000076293945,
           18.700000762939453,
           198,
           3775
          ],
          "vectorType": "dense"
         },
         {
          "length": 4,
          "values": [
           0.6581819014115766,
           0.6666667423551079,
           0.4406779661016949,
           0.2890625
          ],
          "vectorType": "dense"
         }
        ],
        [
         {
          "length": 4,
          "values": [
           50.20000076293945,
           18.799999237060547,
           202,
           3800
          ],
          "vectorType": "dense"
         },
         {
          "length": 4,
          "values": [
           0.6581819014115766,
           0.6785713231482425,
           0.5084745762711864,
           0.296875
          ],
          "vectorType": "dense"
         }
        ],
        [
         {
          "length": 4,
          "values": [
           50.29999923706055,
           20,
           197,
           3300
          ],
          "vectorType": "dense"
         },
         {
          "length": 4,
          "values": [
           0.6618182095614347,
           0.8214285633190956,
           0.423728813559322,
           0.140625
          ],
          "vectorType": "dense"
         }
        ],
        [
         {
          "length": 4,
          "values": [
           50.5,
           18.399999618530273,
           200,
           3400
          ],
          "vectorType": "dense"
         },
         {
          "length": 4,
          "values": [
           0.6690909645774148,
           0.6309523187797328,
           0.4745762711864407,
           0.171875
          ],
          "vectorType": "dense"
         }
        ],
        [
         {
          "length": 4,
          "values": [
           50.599998474121094,
           19.399999618530273,
           193,
           3800
          ],
          "vectorType": "dense"
         },
         {
          "length": 4,
          "values": [
           0.6727272727272727,
           0.749999943233669,
           0.3559322033898305,
           0.296875
          ],
          "vectorType": "dense"
         }
        ],
        [
         {
          "length": 4,
          "values": [
           50.70000076293945,
           19.700000762939453,
           203,
           4050
          ],
          "vectorType": "dense"
         },
         {
          "length": 4,
          "values": [
           0.6763637195933948,
           0.7857143668090442,
           0.5254237288135594,
           0.375
          ],
          "vectorType": "dense"
         }
        ],
        [
         {
          "length": 4,
          "values": [
           51,
           18.799999237060547,
           203,
           4100
          ],
          "vectorType": "dense"
         },
         {
          "length": 4,
          "values": [
           0.6872727827592329,
           0.6785713231482425,
           0.5254237288135594,
           0.390625
          ],
          "vectorType": "dense"
         }
        ],
        [
         {
          "length": 4,
          "values": [
           51.29999923706055,
           18.200000762939453,
           197,
           3750
          ],
          "vectorType": "dense"
         },
         {
          "length": 4,
          "values": [
           0.698181845925071,
           0.6071429301281398,
           0.423728813559322,
           0.28125
          ],
          "vectorType": "dense"
         }
        ],
        [
         {
          "length": 4,
          "values": [
           51.400001525878906,
           19,
           201,
           3950
          ],
          "vectorType": "dense"
         },
         {
          "length": 4,
          "values": [
           0.7018182927911931,
           0.7023809388651593,
           0.4915254237288136,
           0.34375
          ],
          "vectorType": "dense"
         }
        ],
        [
         {
          "length": 4,
          "values": [
           51.5,
           18.700000762939453,
           187,
           3250
          ],
          "vectorType": "dense"
         },
         {
          "length": 4,
          "values": [
           0.7054546009410511,
           0.6666667423551079,
           0.2542372881355932,
           0.125
          ],
          "vectorType": "dense"
         }
        ],
        [
         {
          "length": 4,
          "values": [
           51.70000076293945,
           20.299999237060547,
           194,
           3775
          ],
          "vectorType": "dense"
         },
         {
          "length": 4,
          "values": [
           0.7127273559570312,
           0.857142759829147,
           0.3728813559322034,
           0.2890625
          ],
          "vectorType": "dense"
         }
        ],
        [
         {
          "length": 4,
          "values": [
           51.900001525878906,
           19.5,
           206,
           3950
          ],
          "vectorType": "dense"
         },
         {
          "length": 4,
          "values": [
           0.7200001109730113,
           0.7619047510921274,
           0.576271186440678,
           0.34375
          ],
          "vectorType": "dense"
         }
        ],
        [
         {
          "length": 4,
          "values": [
           52,
           18.100000381469727,
           201,
           4050
          ],
          "vectorType": "dense"
         },
         {
          "length": 4,
          "values": [
           0.7236364191228692,
           0.5952381222696814,
           0.4915254237288136,
           0.375
          ],
          "vectorType": "dense"
         }
        ],
        [
         {
          "length": 4,
          "values": [
           52,
           20.700000762939453,
           210,
           4800
          ],
          "vectorType": "dense"
         },
         {
          "length": 4,
          "values": [
           0.7236364191228692,
           0.9047619912629805,
           0.6440677966101694,
           0.609375
          ],
          "vectorType": "dense"
         }
        ],
        [
         {
          "length": 4,
          "values": [
           52.20000076293945,
           18.799999237060547,
           197,
           3450
          ],
          "vectorType": "dense"
         },
         {
          "length": 4,
          "values": [
           0.7309091741388494,
           0.6785713231482425,
           0.423728813559322,
           0.1875
          ],
          "vectorType": "dense"
         }
        ],
        [
         {
          "length": 4,
          "values": [
           52.70000076293945,
           19.799999237060547,
           197,
           3725
          ],
          "vectorType": "dense"
         },
         {
          "length": 4,
          "values": [
           0.7490909923206676,
           0.7976189476021789,
           0.423728813559322,
           0.2734375
          ],
          "vectorType": "dense"
         }
        ],
        [
         {
          "length": 4,
          "values": [
           52.79999923706055,
           20,
           205,
           4550
          ],
          "vectorType": "dense"
         },
         {
          "length": 4,
          "values": [
           0.7527273004705255,
           0.8214285633190956,
           0.559322033898305,
           0.53125
          ],
          "vectorType": "dense"
         }
        ],
        [
         {
          "length": 4,
          "values": [
           33.5,
           19,
           190,
           3600
          ],
          "vectorType": "dense"
         },
         {
          "length": 4,
          "values": [
           0.050909146395596586,
           0.7023809388651593,
           0.3050847457627119,
           0.234375
          ],
          "vectorType": "dense"
         }
        ],
        [
         {
          "length": 4,
          "values": [
           34.099998474121094,
           18.100000381469727,
           193,
           3475
          ],
          "vectorType": "dense"
         },
         {
          "length": 4,
          "values": [
           0.07272727272727272,
           0.5952381222696814,
           0.3559322033898305,
           0.1953125
          ],
          "vectorType": "dense"
         }
        ],
        [
         {
          "length": 4,
          "values": [
           34.400001525878906,
           18.399999618530273,
           184,
           3325
          ],
          "vectorType": "dense"
         },
         {
          "length": 4,
          "values": [
           0.083636474609375,
           0.6309523187797328,
           0.2033898305084746,
           0.1484375
          ],
          "vectorType": "dense"
         }
        ],
        [
         {
          "length": 4,
          "values": [
           34.599998474121094,
           17.200000762939453,
           189,
           3200
          ],
          "vectorType": "dense"
         },
         {
          "length": 4,
          "values": [
           0.09090909090909091,
           0.4880953056742035,
           0.288135593220339,
           0.109375
          ],
          "vectorType": "dense"
         }
        ],
        [
         {
          "length": 4,
          "values": [
           34.599998474121094,
           21.100000381469727,
           198,
           4400
          ],
          "vectorType": "dense"
         },
         {
          "length": 4,
          "values": [
           0.09090909090909091,
           0.9523809956314903,
           0.4406779661016949,
           0.484375
          ],
          "vectorType": "dense"
         }
        ],
        [
         {
          "length": 4,
          "values": [
           35.099998474121094,
           19.399999618530273,
           193,
           4200
          ],
          "vectorType": "dense"
         },
         {
          "length": 4,
          "values": [
           0.10909090909090909,
           0.749999943233669,
           0.3559322033898305,
           0.421875
          ],
          "vectorType": "dense"
         }
        ],
        [
         {
          "length": 4,
          "values": [
           35.20000076293945,
           15.899999618530273,
           186,
           3050
          ],
          "vectorType": "dense"
         },
         {
          "length": 4,
          "values": [
           0.11272735595703125,
           0.3333332576448921,
           0.23728813559322035,
           0.0625
          ],
          "vectorType": "dense"
         }
        ],
        [
         {
          "length": 4,
          "values": [
           35.5,
           17.5,
           190,
           3700
          ],
          "vectorType": "dense"
         },
         {
          "length": 4,
          "values": [
           0.12363641912286931,
           0.5238095021842549,
           0.3050847457627119,
           0.265625
          ],
          "vectorType": "dense"
         }
        ],
        [
         {
          "length": 4,
          "values": [
           35.70000076293945,
           17,
           189,
           3350
          ],
          "vectorType": "dense"
         },
         {
          "length": 4,
          "values": [
           0.13090917413884942,
           0.46428568995728675,
           0.288135593220339,
           0.15625
          ],
          "vectorType": "dense"
         }
        ],
        [
         {
          "length": 4,
          "values": [
           35.900001525878906,
           16.600000381469727,
           190,
           3050
          ],
          "vectorType": "dense"
         },
         {
          "length": 4,
          "values": [
           0.13818192915482955,
           0.416666685588777,
           0.3050847457627119,
           0.0625
          ],
          "vectorType": "dense"
         }
        ],
        [
         {
          "length": 4,
          "values": [
           36.20000076293945,
           17.200000762939453,
           187,
           3150
          ],
          "vectorType": "dense"
         },
         {
          "length": 4,
          "values": [
           0.1490909923206676,
           0.4880953056742035,
           0.2542372881355932,
           0.09375
          ],
          "vectorType": "dense"
         }
        ],
        [
         {
          "length": 4,
          "values": [
           36.599998474121094,
           17.799999237060547,
           185,
           3700
          ],
          "vectorType": "dense"
         },
         {
          "length": 4,
          "values": [
           0.16363636363636364,
           0.5595236986943063,
           0.22033898305084745,
           0.265625
          ],
          "vectorType": "dense"
         }
        ],
        [
         {
          "length": 4,
          "values": [
           36.70000076293945,
           18.799999237060547,
           187,
           3800
          ],
          "vectorType": "dense"
         },
         {
          "length": 4,
          "values": [
           0.1672728105024858,
           0.6785713231482425,
           0.2542372881355932,
           0.296875
          ],
          "vectorType": "dense"
         }
        ],
        [
         {
          "length": 4,
          "values": [
           37.70000076293945,
           19.799999237060547,
           198,
           3500
          ],
          "vectorType": "dense"
         },
         {
          "length": 4,
          "values": [
           0.20363644686612214,
           0.7976189476021789,
           0.4406779661016949,
           0.203125
          ],
          "vectorType": "dense"
         }
        ],
        [
         {
          "length": 4,
          "values": [
           37.79999923706055,
           17.100000381469727,
           186,
           3300
          ],
          "vectorType": "dense"
         },
         {
          "length": 4,
          "values": [
           0.2072727550159801,
           0.47619049781574513,
           0.23728813559322035,
           0.140625
          ],
          "vectorType": "dense"
         }
        ],
        [
         {
          "length": 4,
          "values": [
           37.79999923706055,
           17.299999237060547,
           180,
           3700
          ],
          "vectorType": "dense"
         },
         {
          "length": 4,
          "values": [
           0.2072727550159801,
           0.4999998864673381,
           0.13559322033898305,
           0.265625
          ],
          "vectorType": "dense"
         }
        ],
        [
         {
          "length": 4,
          "values": [
           38.5,
           17.899999618530273,
           190,
           3325
          ],
          "vectorType": "dense"
         },
         {
          "length": 4,
          "values": [
           0.2327273282137784,
           0.5714285065527647,
           0.3050847457627119,
           0.1484375
          ],
          "vectorType": "dense"
         }
        ],
        [
         {
          "length": 4,
          "values": [
           38.599998474121094,
           21.200000762939453,
           191,
           3800
          ],
          "vectorType": "dense"
         },
         {
          "length": 4,
          "values": [
           0.23636363636363636,
           0.9642858034899486,
           0.3220338983050847,
           0.296875
          ],
          "vectorType": "dense"
         }
        ],
        [
         {
          "length": 4,
          "values": [
           38.79999923706055,
           17.600000381469727,
           191,
           3275
          ],
          "vectorType": "dense"
         },
         {
          "length": 4,
          "values": [
           0.24363639137961646,
           0.5357143100427133,
           0.3220338983050847,
           0.1328125
          ],
          "vectorType": "dense"
         }
        ],
        [
         {
          "length": 4,
          "values": [
           38.900001525878906,
           17.799999237060547,
           181,
           3625
          ],
          "vectorType": "dense"
         },
         {
          "length": 4,
          "values": [
           0.24727283824573862,
           0.5595236986943063,
           0.15254237288135594,
           0.2421875
          ],
          "vectorType": "dense"
         }
        ],
        [
         {
          "length": 4,
          "values": [
           39,
           17.100000381469727,
           191,
           3050
          ],
          "vectorType": "dense"
         },
         {
          "length": 4,
          "values": [
           0.2509091463955966,
           0.47619049781574513,
           0.3220338983050847,
           0.0625
          ],
          "vectorType": "dense"
         }
        ],
        [
         {
          "length": 4,
          "values": [
           39.099998474121094,
           18.700000762939453,
           181,
           3750
          ],
          "vectorType": "dense"
         },
         {
          "length": 4,
          "values": [
           0.2545454545454545,
           0.6666667423551079,
           0.15254237288135594,
           0.28125
          ],
          "vectorType": "dense"
         }
        ],
        [
         {
          "length": 4,
          "values": [
           39.20000076293945,
           19.600000381469727,
           195,
           4675
          ],
          "vectorType": "dense"
         },
         {
          "length": 4,
          "values": [
           0.2581819014115767,
           0.7738095589505858,
           0.3898305084745763,
           0.5703125
          ],
          "vectorType": "dense"
         }
        ],
        [
         {
          "length": 4,
          "values": [
           39.29999923706055,
           20.600000381469727,
           190,
           3650
          ],
          "vectorType": "dense"
         },
         {
          "length": 4,
          "values": [
           0.26181820956143464,
           0.8928571834045221,
           0.3050847457627119,
           0.25
          ],
          "vectorType": "dense"
         }
        ],
        [
         {
          "length": 4,
          "values": [
           39.5,
           17.399999618530273,
           186,
           3800
          ],
          "vectorType": "dense"
         },
         {
          "length": 4,
          "values": [
           0.26909096457741477,
           0.5119046943257965,
           0.23728813559322035,
           0.296875
          ],
          "vectorType": "dense"
         }
        ],
        [
         {
          "length": 4,
          "values": [
           40.20000076293945,
           17,
           176,
           3450
          ],
          "vectorType": "dense"
         },
         {
          "length": 4,
          "values": [
           0.29454553777521303,
           0.46428568995728675,
           0.06779661016949153,
           0.1875
          ],
          "vectorType": "dense"
         }
        ],
        [
         {
          "length": 4,
          "values": [
           40.29999923706055,
           18,
           195,
           3250
          ],
          "vectorType": "dense"
         },
         {
          "length": 4,
          "values": [
           0.298181845925071,
           0.583333314411223,
           0.3898305084745763,
           0.125
          ],
          "vectorType": "dense"
         }
        ],
        [
         {
          "length": 4,
          "values": [
           40.599998474121094,
           19,
           199,
           4000
          ],
          "vectorType": "dense"
         },
         {
          "length": 4,
          "values": [
           0.3090909090909091,
           0.7023809388651593,
           0.4576271186440678,
           0.359375
          ],
          "vectorType": "dense"
         }
        ],
        [
         {
          "length": 4,
          "values": [
           40.900001525878906,
           16.799999237060547,
           191,
           3700
          ],
          "vectorType": "dense"
         },
         {
          "length": 4,
          "values": [
           0.32000011097301134,
           0.44047607424037,
           0.3220338983050847,
           0.265625
          ],
          "vectorType": "dense"
         }
        ],
        [
         {
          "length": 4,
          "values": [
           41.099998474121094,
           17.600000381469727,
           182,
           3200
          ],
          "vectorType": "dense"
         },
         {
          "length": 4,
          "values": [
           0.32727272727272727,
           0.5357143100427133,
           0.1694915254237288,
           0.109375
          ],
          "vectorType": "dense"
         }
        ],
        [
         {
          "length": 4,
          "values": [
           41.099998474121094,
           18.600000381469727,
           189,
           3325
          ],
          "vectorType": "dense"
         },
         {
          "length": 4,
          "values": [
           0.32727272727272727,
           0.6547619344966495,
           0.288135593220339,
           0.1484375
          ],
          "vectorType": "dense"
         }
        ],
        [
         {
          "length": 4,
          "values": [
           41.400001525878906,
           18.5,
           202,
           3875
          ],
          "vectorType": "dense"
         },
         {
          "length": 4,
          "values": [
           0.33818192915482953,
           0.6428571266381912,
           0.5084745762711864,
           0.3203125
          ],
          "vectorType": "dense"
         }
        ],
        [
         {
          "length": 4,
          "values": [
           41.5,
           18.299999237060547,
           195,
           4300
          ],
          "vectorType": "dense"
         },
         {
          "length": 4,
          "values": [
           0.34181823730468747,
           0.6190475109212744,
           0.3898305084745763,
           0.453125
          ],
          "vectorType": "dense"
         }
        ],
        [
         {
          "length": 4,
          "values": [
           42,
           20.200000762939453,
           190,
           4250
          ],
          "vectorType": "dense"
         },
         {
          "length": 4,
          "values": [
           0.36000005548650565,
           0.8452381790360124,
           0.3050847457627119,
           0.4375
          ],
          "vectorType": "dense"
         }
        ],
        [
         {
          "length": 4,
          "values": [
           42.099998474121094,
           19.100000381469727,
           195,
           4000
          ],
          "vectorType": "dense"
         },
         {
          "length": 4,
          "values": [
           0.36363636363636365,
           0.7142857467236177,
           0.3898305084745763,
           0.359375
          ],
          "vectorType": "dense"
         }
        ],
        [
         {
          "length": 4,
          "values": [
           42.79999923706055,
           18.5,
           195,
           4250
          ],
          "vectorType": "dense"
         },
         {
          "length": 4,
          "values": [
           0.3890909368341619,
           0.6428571266381912,
           0.3898305084745763,
           0.4375
          ],
          "vectorType": "dense"
         }
        ],
        [
         {
          "length": 4,
          "values": [
           43.099998474121094,
           19.200000762939453,
           197,
           3500
          ],
          "vectorType": "dense"
         },
         {
          "length": 4,
          "values": [
           0.39999999999999997,
           0.726190554582076,
           0.423728813559322,
           0.203125
          ],
          "vectorType": "dense"
         }
        ],
        [
         {
          "length": 4,
          "values": [
           44.099998474121094,
           18,
           210,
           4000
          ],
          "vectorType": "dense"
         },
         {
          "length": 4,
          "values": [
           0.43636363636363634,
           0.583333314411223,
           0.6440677966101694,
           0.359375
          ],
          "vectorType": "dense"
         }
        ],
        [
         {
          "length": 4,
          "values": [
           45.79999923706055,
           18.899999618530273,
           197,
           4150
          ],
          "vectorType": "dense"
         },
         {
          "length": 4,
          "values": [
           0.498181845925071,
           0.6904761310067009,
           0.423728813559322,
           0.40625
          ],
          "vectorType": "dense"
         }
        ],
        [
         {
          "length": 4,
          "values": [
           46,
           21.5,
           194,
           4200
          ],
          "vectorType": "dense"
         },
         {
          "length": 4,
          "values": [
           0.5054546009410511,
           1,
           0.3728813559322034,
           0.421875
          ],
          "vectorType": "dense"
         }
        ]
       ],
       "datasetInfos": [],
       "dbfsResultPath": null,
       "isJsonSchema": true,
       "metadata": {},
       "overflow": false,
       "plotOptions": {
        "customPlotOptions": {},
        "displayType": "table",
        "pivotAggregation": null,
        "pivotColumns": null,
        "xColumns": null,
        "yColumns": null
       },
       "removedWidgets": [],
       "schema": [
        {
         "metadata": "{\"ml_attr\":{\"attrs\":{\"numeric\":[{\"idx\":0,\"name\":\"CulmenLength\"},{\"idx\":1,\"name\":\"CulmenDepth\"},{\"idx\":2,\"name\":\"FlipperLength\"},{\"idx\":3,\"name\":\"BodyMass\"}]},\"num_attrs\":4}}",
         "name": "numericFeatures",
         "type": "{\"type\":\"udt\",\"class\":\"org.apache.spark.ml.linalg.VectorUDT\",\"pyClass\":\"pyspark.ml.linalg.VectorUDT\",\"sqlType\":{\"type\":\"struct\",\"fields\":[{\"name\":\"type\",\"type\":\"byte\",\"nullable\":false,\"metadata\":{}},{\"name\":\"size\",\"type\":\"integer\",\"nullable\":true,\"metadata\":{}},{\"name\":\"indices\",\"type\":{\"type\":\"array\",\"elementType\":\"integer\",\"containsNull\":false},\"nullable\":true,\"metadata\":{}},{\"name\":\"values\",\"type\":{\"type\":\"array\",\"elementType\":\"double\",\"containsNull\":false},\"nullable\":true,\"metadata\":{}}]}}"
        },
        {
         "metadata": "{\"ml_attr\":{\"num_attrs\":4}}",
         "name": "normalizedFeatures",
         "type": "{\"type\":\"udt\",\"class\":\"org.apache.spark.ml.linalg.VectorUDT\",\"pyClass\":\"pyspark.ml.linalg.VectorUDT\",\"sqlType\":{\"type\":\"struct\",\"fields\":[{\"name\":\"type\",\"type\":\"byte\",\"nullable\":false,\"metadata\":{}},{\"name\":\"size\",\"type\":\"integer\",\"nullable\":true,\"metadata\":{}},{\"name\":\"indices\",\"type\":{\"type\":\"array\",\"elementType\":\"integer\",\"containsNull\":false},\"nullable\":true,\"metadata\":{}},{\"name\":\"values\",\"type\":{\"type\":\"array\",\"elementType\":\"double\",\"containsNull\":false},\"nullable\":true,\"metadata\":{}}]}}"
        }
       ],
       "type": "table"
      }
     },
     "output_type": "display_data"
    }
   ],
   "source": [
    "from pyspark.ml.feature import VectorAssembler, MinMaxScaler\n",
    "\n",
    "# Create a vector column containing all numeric features\n",
    "numericFeatures = [\"CulmenLength\", \"CulmenDepth\", \"FlipperLength\", \"BodyMass\"]\n",
    "numericColVector = VectorAssembler(inputCols=numericFeatures, outputCol=\"numericFeatures\")\n",
    "vectorizedData = numericColVector.transform(indexedData)\n",
    "   \n",
    "# Use a MinMax scaler to normalize the numeric values in the vector\n",
    "minMax = MinMaxScaler(inputCol = numericColVector.getOutputCol(), outputCol=\"normalizedFeatures\")\n",
    "scaledData = minMax.fit(vectorizedData).transform(vectorizedData)\n",
    "   \n",
    "# Display the data with numeric feature vectors (before and after scaling)\n",
    "compareNumerics = scaledData.select(\"numericFeatures\", \"normalizedFeatures\")\n",
    "display(compareNumerics)"
   ]
  },
  {
   "cell_type": "markdown",
   "metadata": {
    "application/vnd.databricks.v1+cell": {
     "cellMetadata": {},
     "inputWidgets": {},
     "nuid": "2e69a1d6-de55-4955-b242-825c1c07e93f",
     "showTitle": false,
     "tableResultSettingsMap": {},
     "title": ""
    }
   },
   "source": [
    "The numericFeatures column in the results contains a vector for each row. The vector includes four unscaled numeric values (the original measurements of the penguin). The normalizedFeatures column also contains a vector for each penguin observation, but this time the values in the vector are normalized to a relative scale based on the minimum and maximum values for each measurement."
   ]
  },
  {
   "cell_type": "markdown",
   "metadata": {
    "application/vnd.databricks.v1+cell": {
     "cellMetadata": {},
     "inputWidgets": {},
     "nuid": "a9a0e6f2-f2a1-4a1e-9e48-6c0c2ad89382",
     "showTitle": false,
     "tableResultSettingsMap": {},
     "title": ""
    }
   },
   "source": [
    "* Prepare features and labels for training\n",
    "\n",
    "Now, let’s bring everything together and create a single column containing all of the features (the encoded categorical island name and the normalized penguin measurements), and another column containing the class label we want to train a model to predict (the penguin species)."
   ]
  },
  {
   "cell_type": "code",
   "execution_count": 0,
   "metadata": {
    "application/vnd.databricks.v1+cell": {
     "cellMetadata": {
      "byteLimit": 2048000,
      "rowLimit": 10000
     },
     "inputWidgets": {},
     "nuid": "d118ae10-e62f-4e15-82e3-3cb7b8b399ac",
     "showTitle": false,
     "tableResultSettingsMap": {},
     "title": ""
    }
   },
   "outputs": [
    {
     "data": {
      "text/html": [
       "<style scoped>\n",
       "  .table-result-container {\n",
       "    max-height: 300px;\n",
       "    overflow: auto;\n",
       "  }\n",
       "  table, th, td {\n",
       "    border: 1px solid black;\n",
       "    border-collapse: collapse;\n",
       "  }\n",
       "  th, td {\n",
       "    padding: 5px;\n",
       "  }\n",
       "  th {\n",
       "    text-align: left;\n",
       "  }\n",
       "</style><div class='table-result-container'><table class='table-result'><thead style='background-color: white'><tr><th>features</th><th>label</th></tr></thead><tbody><tr><td>Map(vectorType -> dense, length -> 5, values -> List(0.0, 0.10545460094105114, 0.5714285065527647, 0.3050847457627119, 0.1875))</td><td>0</td></tr><tr><td>Map(vectorType -> dense, length -> 5, values -> List(0.0, 0.13090917413884942, 0.4523808820988284, 0.22033898305084745, 0.09375))</td><td>0</td></tr><tr><td>Map(vectorType -> dense, length -> 5, values -> List(0.0, 0.13818192915482955, 0.726190554582076, 0.288135593220339, 0.296875))</td><td>0</td></tr><tr><td>Map(vectorType -> dense, length -> 5, values -> List(0.0, 0.16000005548650567, 0.416666685588777, 0.15254237288135594, 0.0))</td><td>0</td></tr><tr><td>Map(vectorType -> dense, length -> 5, values -> List(0.0, 0.19999999999999998, 0.46428568995728675, 0.22033898305084745, 0.234375))</td><td>0</td></tr><tr><td>Map(vectorType -> dense, length -> 5, values -> List(0.0, 0.19999999999999998, 0.7142857467236177, 0.3728813559322034, 0.28125))</td><td>0</td></tr><tr><td>Map(vectorType -> dense, length -> 5, values -> List(0.0, 0.20363644686612214, 0.34523806550335046, 0.1864406779661017, 0.0703125))</td><td>0</td></tr><tr><td>Map(vectorType -> dense, length -> 5, values -> List(0.0, 0.20363644686612214, 0.6666667423551079, 0.13559322033898305, 0.234375))</td><td>0</td></tr><tr><td>Map(vectorType -> dense, length -> 5, values -> List(0.0, 0.2072727550159801, 0.6190475109212744, 0.03389830508474576, 0.171875))</td><td>0</td></tr><tr><td>Map(vectorType -> dense, length -> 5, values -> List(0.0, 0.2072727550159801, 0.8214285633190956, 0.3050847457627119, 0.4375))</td><td>0</td></tr><tr><td>Map(vectorType -> dense, length -> 5, values -> List(0.0, 0.21090920188210227, 0.6547619344966495, 0.0, 0.09375))</td><td>0</td></tr><tr><td>Map(vectorType -> dense, length -> 5, values -> List(0.0, 0.21818181818181817, 0.40476187773031863, 0.4406779661016949, 0.3046875))</td><td>0</td></tr><tr><td>Map(vectorType -> dense, length -> 5, values -> List(0.0, 0.21818181818181817, 0.46428568995728675, 0.15254237288135594, 0.1015625))</td><td>0</td></tr><tr><td>Map(vectorType -> dense, length -> 5, values -> List(0.0, 0.22181826504794033, 0.5952381222696814, 0.22033898305084745, 0.34375))</td><td>0</td></tr><tr><td>Map(vectorType -> dense, length -> 5, values -> List(0.0, 0.22181826504794033, 0.8214285633190956, 0.3050847457627119, 0.328125))</td><td>0</td></tr><tr><td>Map(vectorType -> dense, length -> 5, values -> List(0.0, 0.23636363636363636, 0.4880953056742035, 0.4576271186440678, 0.28125))</td><td>0</td></tr><tr><td>Map(vectorType -> dense, length -> 5, values -> List(0.0, 0.24363639137961646, 0.4880953056742035, 0.13559322033898305, 0.296875))</td><td>0</td></tr><tr><td>Map(vectorType -> dense, length -> 5, values -> List(0.0, 0.2509091463955966, 0.5238095021842549, 0.23728813559322035, 0.21875))</td><td>0</td></tr><tr><td>Map(vectorType -> dense, length -> 5, values -> List(0.0, 0.2727272727272727, 0.5476191179011717, 0.23728813559322035, 0.203125))</td><td>0</td></tr><tr><td>Map(vectorType -> dense, length -> 5, values -> List(0.0, 0.2727272727272727, 0.9047619912629805, 0.3220338983050847, 0.328125))</td><td>0</td></tr><tr><td>Map(vectorType -> dense, length -> 5, values -> List(0.0, 0.2763637195933949, 0.5476191179011717, 0.3559322033898305, 0.109375))</td><td>0</td></tr><tr><td>Map(vectorType -> dense, length -> 5, values -> List(0.0, 0.2763637195933949, 0.6904761310067009, 0.2033898305084746, 0.21875))</td><td>0</td></tr><tr><td>Map(vectorType -> dense, length -> 5, values -> List(0.0, 0.2909090909090909, 0.6904761310067009, 0.2711864406779661, 0.453125))</td><td>0</td></tr><tr><td>Map(vectorType -> dense, length -> 5, values -> List(0.0, 0.30545460094105115, 0.5714285065527647, 0.2542372881355932, 0.109375))</td><td>0</td></tr><tr><td>Map(vectorType -> dense, length -> 5, values -> List(0.0, 0.30545460094105115, 0.6904761310067009, 0.13559322033898305, 0.34375))</td><td>0</td></tr><tr><td>Map(vectorType -> dense, length -> 5, values -> List(0.0, 0.3090909090909091, 0.6547619344966495, 0.1864406779661017, 0.21875))</td><td>0</td></tr><tr><td>Map(vectorType -> dense, length -> 5, values -> List(0.0, 0.3236364191228693, 0.8214285633190956, 0.5254237288135594, 0.5859375))</td><td>0</td></tr><tr><td>Map(vectorType -> dense, length -> 5, values -> List(0.0, 0.32727272727272727, 0.7142857467236177, 0.2711864406779661, 0.390625))</td><td>0</td></tr><tr><td>Map(vectorType -> dense, length -> 5, values -> List(0.0, 0.3345454822887074, 0.9523809956314903, 0.3898305084745763, 0.484375))</td><td>0</td></tr><tr><td>Map(vectorType -> dense, length -> 5, values -> List(0.0, 0.33818192915482953, 0.6547619344966495, 0.3220338983050847, 0.265625))</td><td>0</td></tr><tr><td>Map(vectorType -> dense, length -> 5, values -> List(0.0, 0.36000005548650565, 0.047619004368509764, 0.6440677966101694, 0.40625))</td><td>1</td></tr><tr><td>Map(vectorType -> dense, length -> 5, values -> List(0.0, 0.36000005548650565, 0.7619047510921274, 0.4745762711864407, 0.375))</td><td>0</td></tr><tr><td>Map(vectorType -> dense, length -> 5, values -> List(0.0, 0.3672728105024858, 0.7619047510921274, 0.423728813559322, 0.4453125))</td><td>0</td></tr><tr><td>Map(vectorType -> dense, length -> 5, values -> List(0.0, 0.3818181818181818, 0.07142850655276464, 0.6949152542372882, 0.65625))</td><td>1</td></tr><tr><td>Map(vectorType -> dense, length -> 5, values -> List(0.0, 0.38545462868430397, 0.07142850655276464, 0.6101694915254238, 0.34375))</td><td>1</td></tr><tr><td>Map(vectorType -> dense, length -> 5, values -> List(0.0, 0.38545462868430397, 0.6190475109212744, 0.4067796610169492, 0.3828125))</td><td>0</td></tr><tr><td>Map(vectorType -> dense, length -> 5, values -> List(0.0, 0.3927273837002841, 0.0, 0.7288135593220338, 0.671875))</td><td>1</td></tr><tr><td>Map(vectorType -> dense, length -> 5, values -> List(0.0, 0.40363644686612216, 0.16666662882244604, 0.6101694915254238, 0.5))</td><td>1</td></tr><tr><td>Map(vectorType -> dense, length -> 5, values -> List(0.0, 0.40363644686612216, 0.7023809388651593, 0.423728813559322, 0.6015625))</td><td>0</td></tr><tr><td>Map(vectorType -> dense, length -> 5, values -> List(0.0, 0.4072727550159801, 0.03571419651005139, 0.6271186440677966, 0.484375))</td><td>1</td></tr><tr><td>Map(vectorType -> dense, length -> 5, values -> List(0.0, 0.4072727550159801, 0.1071428165954779, 0.6101694915254238, 0.5390625))</td><td>1</td></tr><tr><td>Map(vectorType -> dense, length -> 5, values -> List(0.0, 0.4109092018821022, 0.15476182096398766, 0.7796610169491526, 0.546875))</td><td>1</td></tr><tr><td>Map(vectorType -> dense, length -> 5, values -> List(0.0, 0.4145455100319602, 0.24999994323366906, 0.6949152542372882, 0.5625))</td><td>1</td></tr><tr><td>Map(vectorType -> dense, length -> 5, values -> List(0.0, 0.41818181818181815, 0.09523800873701953, 0.7627118644067796, 0.640625))</td><td>1</td></tr><tr><td>Map(vectorType -> dense, length -> 5, values -> List(0.0, 0.4327273282137784, 0.05952381222696814, 0.6101694915254238, 0.46875))</td><td>1</td></tr><tr><td>Map(vectorType -> dense, length -> 5, values -> List(0.0, 0.4509091463955966, 0.14285712663819117, 0.7457627118644068, 0.390625))</td><td>1</td></tr><tr><td>Map(vectorType -> dense, length -> 5, values -> List(0.0, 0.4509091463955966, 0.19047613100670094, 0.711864406779661, 0.625))</td><td>1</td></tr><tr><td>Map(vectorType -> dense, length -> 5, values -> List(0.0, 0.4509091463955966, 0.3095237554606372, 0.7627118644067796, 0.6328125))</td><td>1</td></tr><tr><td>Map(vectorType -> dense, length -> 5, values -> List(0.0, 0.4654546564275568, 0.023809502184254882, 0.6949152542372882, 0.703125))</td><td>1</td></tr><tr><td>Map(vectorType -> dense, length -> 5, values -> List(0.0, 0.4654546564275568, 0.08333331441122302, 0.6779661016949152, 0.59375))</td><td>1</td></tr><tr><td>Map(vectorType -> dense, length -> 5, values -> List(0.0, 0.4690909645774147, 0.27380944541792396, 0.8135593220338984, 0.6875))</td><td>1</td></tr><tr><td>Map(vectorType -> dense, length -> 5, values -> List(0.0, 0.47636371959339485, 0.08333331441122302, 0.7288135593220338, 0.59375))</td><td>1</td></tr><tr><td>Map(vectorType -> dense, length -> 5, values -> List(0.0, 0.47636371959339485, 0.3214285633190956, 0.7288135593220338, 0.765625))</td><td>1</td></tr><tr><td>Map(vectorType -> dense, length -> 5, values -> List(0.0, 0.48000002774325284, 0.07142850655276464, 0.6440677966101694, 0.453125))</td><td>1</td></tr><tr><td>Map(vectorType -> dense, length -> 5, values -> List(0.0, 0.48000002774325284, 0.08333331441122302, 0.6101694915254238, 0.421875))</td><td>1</td></tr><tr><td>Map(vectorType -> dense, length -> 5, values -> List(0.0, 0.483636474609375, 0.17857143668090442, 0.6610169491525424, 0.609375))</td><td>1</td></tr><tr><td>Map(vectorType -> dense, length -> 5, values -> List(0.0, 0.4872727827592329, 0.07142850655276464, 0.711864406779661, 0.5625))</td><td>1</td></tr><tr><td>Map(vectorType -> dense, length -> 5, values -> List(0.0, 0.4872727827592329, 0.09523800873701953, 0.6440677966101694, 0.421875))</td><td>1</td></tr><tr><td>Map(vectorType -> dense, length -> 5, values -> List(0.0, 0.4872727827592329, 0.16666662882244604, 0.6779661016949152, 0.59375))</td><td>1</td></tr><tr><td>Map(vectorType -> dense, length -> 5, values -> List(0.0, 0.4872727827592329, 0.2261904410494142, 0.8135593220338984, 0.671875))</td><td>1</td></tr><tr><td>Map(vectorType -> dense, length -> 5, values -> List(0.0, 0.49454553777521304, 0.09523800873701953, 0.711864406779661, 0.484375))</td><td>1</td></tr><tr><td>Map(vectorType -> dense, length -> 5, values -> List(0.0, 0.498181845925071, 0.17857143668090442, 0.6440677966101694, 0.421875))</td><td>1</td></tr><tr><td>Map(vectorType -> dense, length -> 5, values -> List(0.0, 0.509090909090909, 0.011904694325796506, 0.6610169491525424, 0.515625))</td><td>1</td></tr><tr><td>Map(vectorType -> dense, length -> 5, values -> List(0.0, 0.509090909090909, 0.23809524890787256, 0.7288135593220338, 0.703125))</td><td>1</td></tr><tr><td>Map(vectorType -> dense, length -> 5, values -> List(0.0, 0.5127273559570312, 0.11904762445393628, 0.7627118644067796, 0.4765625))</td><td>1</td></tr><tr><td>Map(vectorType -> dense, length -> 5, values -> List(0.0, 0.5127273559570312, 0.16666662882244604, 0.6271186440677966, 0.609375))</td><td>1</td></tr><tr><td>Map(vectorType -> dense, length -> 5, values -> List(0.0, 0.5127273559570312, 0.2142856331909558, 0.8305084745762712, 0.765625))</td><td>1</td></tr><tr><td>Map(vectorType -> dense, length -> 5, values -> List(0.0, 0.5163636641068892, 0.3214285633190956, 0.7288135593220338, 0.6875))</td><td>1</td></tr><tr><td>Map(vectorType -> dense, length -> 5, values -> List(0.0, 0.5200001109730114, 0.2261904410494142, 0.7457627118644068, 0.578125))</td><td>1</td></tr><tr><td>Map(vectorType -> dense, length -> 5, values -> List(0.0, 0.5236364191228693, 0.047619004368509764, 0.6440677966101694, 0.53125))</td><td>1</td></tr><tr><td>Map(vectorType -> dense, length -> 5, values -> List(0.0, 0.5236364191228693, 0.15476182096398766, 0.7627118644067796, 0.640625))</td><td>1</td></tr><tr><td>Map(vectorType -> dense, length -> 5, values -> List(0.0, 0.5236364191228693, 0.16666662882244604, 0.6949152542372882, 0.484375))</td><td>1</td></tr><tr><td>Map(vectorType -> dense, length -> 5, values -> List(0.0, 0.5236364191228693, 0.20238093886515932, 0.7627118644067796, 0.734375))</td><td>1</td></tr><tr><td>Map(vectorType -> dense, length -> 5, values -> List(0.0, 0.5272727272727272, 0.1309523187797328, 0.6440677966101694, 0.625))</td><td>1</td></tr><tr><td>Map(vectorType -> dense, length -> 5, values -> List(0.0, 0.5309091741388494, 0.26190475109212746, 0.7966101694915254, 0.734375))</td><td>1</td></tr><tr><td>Map(vectorType -> dense, length -> 5, values -> List(0.0, 0.5345454822887074, 0.14285712663819117, 0.7288135593220338, 0.625))</td><td>1</td></tr><tr><td>Map(vectorType -> dense, length -> 5, values -> List(0.0, 0.5345454822887074, 0.27380944541792396, 0.7288135593220338, 0.71875))</td><td>1</td></tr><tr><td>Map(vectorType -> dense, length -> 5, values -> List(0.0, 0.5345454822887074, 0.35714287336180883, 0.7288135593220338, 0.828125))</td><td>1</td></tr><tr><td>Map(vectorType -> dense, length -> 5, values -> List(0.0, 0.5381819291548295, 0.17857143668090442, 0.847457627118644, 0.6328125))</td><td>1</td></tr><tr><td>Map(vectorType -> dense, length -> 5, values -> List(0.0, 0.5490909923206676, 0.07142850655276464, 0.711864406779661, 0.6484375))</td><td>1</td></tr><tr><td>Map(vectorType -> dense, length -> 5, values -> List(0.0, 0.5490909923206676, 0.28571425327638234, 0.7288135593220338, 0.6640625))</td><td>1</td></tr><tr><td>Map(vectorType -> dense, length -> 5, values -> List(0.0, 0.5527273004705255, 0.08333331441122302, 0.7457627118644068, 0.5859375))</td><td>1</td></tr><tr><td>Map(vectorType -> dense, length -> 5, values -> List(0.0, 0.5527273004705255, 0.26190475109212746, 0.847457627118644, 0.75))</td><td>1</td></tr><tr><td>Map(vectorType -> dense, length -> 5, values -> List(0.0, 0.5563637473366477, 0.17857143668090442, 0.6779661016949152, 0.5859375))</td><td>1</td></tr><tr><td>Map(vectorType -> dense, length -> 5, values -> List(0.0, 0.5600000554865057, 0.1071428165954779, 0.6779661016949152, 0.6328125))</td><td>1</td></tr><tr><td>Map(vectorType -> dense, length -> 5, values -> List(0.0, 0.5600000554865057, 0.1309523187797328, 0.6271186440677966, 0.546875))</td><td>1</td></tr><tr><td>Map(vectorType -> dense, length -> 5, values -> List(0.0, 0.5600000554865057, 0.2261904410494142, 0.7796610169491526, 0.65625))</td><td>1</td></tr><tr><td>Map(vectorType -> dense, length -> 5, values -> List(0.0, 0.5636363636363636, 0.16666662882244604, 0.7288135593220338, 0.796875))</td><td>1</td></tr><tr><td>Map(vectorType -> dense, length -> 5, values -> List(0.0, 0.5672728105024858, 0.2261904410494142, 0.7457627118644068, 0.59375))</td><td>1</td></tr><tr><td>Map(vectorType -> dense, length -> 5, values -> List(0.0, 0.5709091186523437, 0.2261904410494142, 0.7288135593220338, 0.875))</td><td>1</td></tr><tr><td>Map(vectorType -> dense, length -> 5, values -> List(0.0, 0.5818181818181818, 0.23809524890787256, 0.6271186440677966, 0.828125))</td><td>1</td></tr><tr><td>Map(vectorType -> dense, length -> 5, values -> List(0.0, 0.585454628684304, 0.14285712663819117, 0.6440677966101694, 0.546875))</td><td>1</td></tr><tr><td>Map(vectorType -> dense, length -> 5, values -> List(0.0, 0.5927273837002841, 0.15476182096398766, 0.5254237288135594, 0.5546875))</td><td>1</td></tr><tr><td>Map(vectorType -> dense, length -> 5, values -> List(0.0, 0.596363691850142, 0.11904762445393628, 0.8135593220338984, 0.765625))</td><td>1</td></tr><tr><td>Map(vectorType -> dense, length -> 5, values -> List(0.0, 0.596363691850142, 0.2261904410494142, 0.7966101694915254, 0.625))</td><td>1</td></tr><tr><td>Map(vectorType -> dense, length -> 5, values -> List(0.0, 0.6, 0.34523806550335046, 0.9830508474576272, 0.921875))</td><td>1</td></tr><tr><td>Map(vectorType -> dense, length -> 5, values -> List(0.0, 0.6036364468661222, 0.11904762445393628, 0.6440677966101694, 0.5))</td><td>1</td></tr><tr><td>Map(vectorType -> dense, length -> 5, values -> List(0.0, 0.6036364468661222, 0.3095237554606372, 0.6101694915254238, 0.78125))</td><td>1</td></tr><tr><td>Map(vectorType -> dense, length -> 5, values -> List(0.0, 0.6072727550159801, 0.3690476812202672, 0.847457627118644, 0.984375))</td><td>1</td></tr><tr><td>Map(vectorType -> dense, length -> 5, values -> List(0.0, 0.6145455100319602, 0.35714287336180883, 0.7457627118644068, 0.84375))</td><td>1</td></tr><tr><td>Map(vectorType -> dense, length -> 5, values -> List(0.0, 0.6181818181818182, 0.16666662882244604, 0.6779661016949152, 0.5546875))</td><td>1</td></tr><tr><td>Map(vectorType -> dense, length -> 5, values -> List(0.0, 0.6181818181818182, 0.20238093886515932, 0.8135593220338984, 0.71875))</td><td>1</td></tr><tr><td>Map(vectorType -> dense, length -> 5, values -> List(0.0, 0.6181818181818182, 0.2261904410494142, 0.9491525423728814, 0.828125))</td><td>1</td></tr><tr><td>Map(vectorType -> dense, length -> 5, values -> List(0.0, 0.6254545731977983, 0.3095237554606372, 0.7627118644067796, 0.9375))</td><td>1</td></tr><tr><td>Map(vectorType -> dense, length -> 5, values -> List(0.0, 0.6327273282137784, 0.35714287336180883, 0.8813559322033898, 0.875))</td><td>1</td></tr><tr><td>Map(vectorType -> dense, length -> 5, values -> List(0.0, 0.6327273282137784, 0.3690476812202672, 0.9661016949152542, 0.921875))</td><td>1</td></tr><tr><td>Map(vectorType -> dense, length -> 5, values -> List(0.0, 0.6363636363636364, 0.2261904410494142, 0.7457627118644068, 0.59375))</td><td>1</td></tr><tr><td>Map(vectorType -> dense, length -> 5, values -> List(0.0, 0.6436363913796165, 0.3333332576448921, 0.9661016949152542, 0.96875))</td><td>1</td></tr><tr><td>Map(vectorType -> dense, length -> 5, values -> List(0.0, 0.6436363913796165, 0.44047607424037, 0.9830508474576272, 0.890625))</td><td>1</td></tr><tr><td>Map(vectorType -> dense, length -> 5, values -> List(0.0, 0.6472728382457386, 0.35714287336180883, 0.6949152542372882, 0.796875))</td><td>1</td></tr><tr><td>Map(vectorType -> dense, length -> 5, values -> List(0.0, 0.6509091463955966, 0.3809522620134019, 0.9830508474576272, 0.890625))</td><td>1</td></tr><tr><td>Map(vectorType -> dense, length -> 5, values -> List(0.0, 0.6581819014115766, 0.14285712663819117, 0.7796610169491526, 0.890625))</td><td>1</td></tr><tr><td>Map(vectorType -> dense, length -> 5, values -> List(0.0, 0.6654546564275567, 0.3095237554606372, 0.847457627118644, 0.90625))</td><td>1</td></tr><tr><td>Map(vectorType -> dense, length -> 5, values -> List(0.0, 0.6690909645774148, 0.24999994323366906, 0.7457627118644068, 0.671875))</td><td>1</td></tr><tr><td>Map(vectorType -> dense, length -> 5, values -> List(0.0, 0.6690909645774148, 0.3333332576448921, 0.8983050847457628, 0.796875))</td><td>1</td></tr><tr><td>Map(vectorType -> dense, length -> 5, values -> List(0.0, 0.6763637195933948, 0.2261904410494142, 0.864406779661017, 0.84375))</td><td>1</td></tr><tr><td>Map(vectorType -> dense, length -> 5, values -> List(0.0, 0.6800000277432529, 0.3095237554606372, 0.9152542372881356, 0.734375))</td><td>1</td></tr><tr><td>Map(vectorType -> dense, length -> 5, values -> List(0.0, 0.6800000277432529, 0.4999998864673381, 0.9491525423728814, 0.859375))</td><td>1</td></tr><tr><td>Map(vectorType -> dense, length -> 5, values -> List(0.0, 0.6909090909090909, 0.40476187773031863, 0.8983050847457628, 0.75))</td><td>1</td></tr><tr><td>Map(vectorType -> dense, length -> 5, values -> List(0.0, 0.7054546009410511, 0.3809522620134019, 0.9830508474576272, 0.828125))</td><td>1</td></tr><tr><td>Map(vectorType -> dense, length -> 5, values -> List(0.0, 0.7309091741388494, 0.47619049781574513, 0.9491525423728814, 0.796875))</td><td>1</td></tr><tr><td>Map(vectorType -> dense, length -> 5, values -> List(0.0, 0.7418182373046874, 0.2976190611348407, 0.8305084745762712, 0.8125))</td><td>1</td></tr><tr><td>Map(vectorType -> dense, length -> 5, values -> List(0.0, 0.7745455655184659, 0.3214285633190956, 0.7966101694915254, 0.828125))</td><td>1</td></tr><tr><td>Map(vectorType -> dense, length -> 5, values -> List(0.0, 0.8072727550159801, 0.3095237554606372, 1.0, 0.875))</td><td>1</td></tr><tr><td>Map(vectorType -> dense, length -> 5, values -> List(0.0, 0.8654546564275568, 0.46428568995728675, 0.9491525423728814, 0.859375))</td><td>1</td></tr><tr><td>Map(vectorType -> dense, length -> 5, values -> List(0.0, 1.0, 0.46428568995728675, 0.9830508474576272, 1.0))</td><td>1</td></tr><tr><td>Map(vectorType -> dense, length -> 5, values -> List(1.0, 0.0, 0.28571425327638234, 0.2711864406779661, 0.0625))</td><td>0</td></tr><tr><td>Map(vectorType -> dense, length -> 5, values -> List(1.0, 0.03636363636363636, 0.35714287336180883, 0.1016949152542373, 0.015625))</td><td>0</td></tr><tr><td>Map(vectorType -> dense, length -> 5, values -> List(1.0, 0.06909096457741477, 0.47619049781574513, 0.22033898305084745, 0.171875))</td><td>0</td></tr><tr><td>Map(vectorType -> dense, length -> 5, values -> List(1.0, 0.12727272727272726, 0.5238095021842549, 0.3220338983050847, 0.1015625))</td><td>0</td></tr><tr><td>Map(vectorType -> dense, length -> 5, values -> List(1.0, 0.13090917413884942, 0.583333314411223, 0.5084745762711864, 0.21875))</td><td>0</td></tr><tr><td>Map(vectorType -> dense, length -> 5, values -> List(1.0, 0.14181823730468748, 0.5595236986943063, 0.3898305084745763, 0.1875))</td><td>0</td></tr><tr><td>Map(vectorType -> dense, length -> 5, values -> List(1.0, 0.14181823730468748, 0.5714285065527647, 0.3050847457627119, 0.1875))</td><td>0</td></tr><tr><td>Map(vectorType -> dense, length -> 5, values -> List(1.0, 0.14181823730468748, 0.6428571266381912, 0.23728813559322035, 0.078125))</td><td>0</td></tr><tr><td>Map(vectorType -> dense, length -> 5, values -> List(1.0, 0.1490909923206676, 0.4999998864673381, 0.2542372881355932, 0.140625))</td><td>0</td></tr><tr><td>Map(vectorType -> dense, length -> 5, values -> List(1.0, 0.1563637473366477, 0.46428568995728675, 0.3898305084745763, 0.1484375))</td><td>0</td></tr><tr><td>Map(vectorType -> dense, length -> 5, values -> List(1.0, 0.16000005548650567, 0.583333314411223, 0.1694915254237288, 0.09375))</td><td>0</td></tr><tr><td>Map(vectorType -> dense, length -> 5, values -> List(1.0, 0.16363636363636364, 0.6309523187797328, 0.2033898305084746, 0.1953125))</td><td>0</td></tr><tr><td>Map(vectorType -> dense, length -> 5, values -> List(1.0, 0.17090911865234373, 0.6428571266381912, 0.3559322033898305, 0.203125))</td><td>0</td></tr><tr><td>Map(vectorType -> dense, length -> 5, values -> List(1.0, 0.1745455655184659, 0.6547619344966495, 0.288135593220339, 0.203125))</td><td>0</td></tr><tr><td>Map(vectorType -> dense, length -> 5, values -> List(1.0, 0.17818187366832386, 0.4523808820988284, 0.22033898305084745, 0.046875))</td><td>0</td></tr><tr><td>Map(vectorType -> dense, length -> 5, values -> List(1.0, 0.18545462868430396, 0.5952381222696814, 0.1016949152542373, 0.328125))</td><td>0</td></tr><tr><td>Map(vectorType -> dense, length -> 5, values -> List(1.0, 0.18909093683416192, 0.44047607424037, 0.3389830508474576, 0.046875))</td><td>0</td></tr><tr><td>Map(vectorType -> dense, length -> 5, values -> List(1.0, 0.19636369185014205, 0.6428571266381912, 0.4576271186440678, 0.5078125))</td><td>0</td></tr><tr><td>Map(vectorType -> dense, length -> 5, values -> List(1.0, 0.19636369185014205, 0.6904761310067009, 0.11864406779661017, 0.0390625))</td><td>0</td></tr><tr><td>Map(vectorType -> dense, length -> 5, values -> List(1.0, 0.19999999999999998, 0.7380951353752107, 0.15254237288135594, 0.140625))</td><td>0</td></tr><tr><td>Map(vectorType -> dense, length -> 5, values -> List(1.0, 0.2072727550159801, 0.5952381222696814, 0.3559322033898305, 0.28125))</td><td>0</td></tr><tr><td>Map(vectorType -> dense, length -> 5, values -> List(1.0, 0.21818181818181817, 0.6547619344966495, 0.3050847457627119, 0.265625))</td><td>0</td></tr><tr><td>Map(vectorType -> dense, length -> 5, values -> List(1.0, 0.24363639137961646, 0.8214285633190956, 0.3050847457627119, 0.34375))</td><td>0</td></tr><tr><td>Map(vectorType -> dense, length -> 5, values -> List(1.0, 0.24727283824573862, 0.6785713231482425, 0.3050847457627119, 0.234375))</td><td>0</td></tr><tr><td>Map(vectorType -> dense, length -> 5, values -> List(1.0, 0.2581819014115767, 0.6547619344966495, 0.3050847457627119, 0.4375))</td><td>0</td></tr><tr><td>Map(vectorType -> dense, length -> 5, values -> List(1.0, 0.26909096457741477, 0.4285714934472354, 0.1016949152542373, 0.125))</td><td>0</td></tr><tr><td>Map(vectorType -> dense, length -> 5, values -> List(1.0, 0.26909096457741477, 0.5595236986943063, 0.2711864406779661, 0.140625))</td><td>0</td></tr><tr><td>Map(vectorType -> dense, length -> 5, values -> List(1.0, 0.2727272727272727, 0.5952381222696814, 0.23728813559322035, 0.5))</td><td>0</td></tr><tr><td>Map(vectorType -> dense, length -> 5, values -> List(1.0, 0.2727272727272727, 0.6785713231482425, 0.3050847457627119, 0.546875))</td><td>0</td></tr><tr><td>Map(vectorType -> dense, length -> 5, values -> List(1.0, 0.28000002774325283, 0.7142857467236177, 0.2033898305084746, 0.5625))</td><td>0</td></tr><tr><td>Map(vectorType -> dense, length -> 5, values -> List(1.0, 0.29454553777521303, 0.833333371177554, 0.4745762711864407, 0.3515625))</td><td>0</td></tr><tr><td>Map(vectorType -> dense, length -> 5, values -> List(1.0, 0.3163636641068892, 0.6309523187797328, 0.3898305084745763, 0.328125))</td><td>0</td></tr><tr><td>Map(vectorType -> dense, length -> 5, values -> List(1.0, 0.3163636641068892, 0.6904761310067009, 0.6101694915254238, 0.453125))</td><td>0</td></tr><tr><td>Map(vectorType -> dense, length -> 5, values -> List(1.0, 0.32000011097301134, 0.416666685588777, 0.2542372881355932, 0.109375))</td><td>2</td></tr><tr><td>Map(vectorType -> dense, length -> 5, values -> List(1.0, 0.32727272727272727, 0.5238095021842549, 0.3050847457627119, 0.328125))</td><td>0</td></tr><tr><td>Map(vectorType -> dense, length -> 5, values -> List(1.0, 0.32727272727272727, 0.5952381222696814, 0.559322033898305, 0.453125))</td><td>0</td></tr><tr><td>Map(vectorType -> dense, length -> 5, values -> List(1.0, 0.32727272727272727, 0.7023809388651593, 0.1694915254237288, 0.1796875))</td><td>0</td></tr><tr><td>Map(vectorType -> dense, length -> 5, values -> List(1.0, 0.3345454822887074, 0.857142759829147, 0.3728813559322034, 0.21875))</td><td>0</td></tr><tr><td>Map(vectorType -> dense, length -> 5, values -> List(1.0, 0.34181823730468747, 0.6428571266381912, 0.4915254237288136, 0.359375))</td><td>0</td></tr><tr><td>Map(vectorType -> dense, length -> 5, values -> List(1.0, 0.3672728105024858, 0.6428571266381912, 0.13559322033898305, 0.21875))</td><td>0</td></tr><tr><td>Map(vectorType -> dense, length -> 5, values -> List(1.0, 0.3745455655184659, 0.4999998864673381, 0.15254237288135594, 0.234375))</td><td>2</td></tr><tr><td>Map(vectorType -> dense, length -> 5, values -> List(1.0, 0.37818187366832384, 0.4285714934472354, 0.2542372881355932, 0.15625))</td><td>2</td></tr><tr><td>Map(vectorType -> dense, length -> 5, values -> List(1.0, 0.37818187366832384, 0.4999998864673381, 0.2542372881355932, 0.15625))</td><td>2</td></tr><tr><td>Map(vectorType -> dense, length -> 5, values -> List(1.0, 0.40363644686612216, 0.416666685588777, 0.2542372881355932, 0.015625))</td><td>2</td></tr><tr><td>Map(vectorType -> dense, length -> 5, values -> List(1.0, 0.40363644686612216, 0.6428571266381912, 0.3389830508474576, 0.390625))</td><td>0</td></tr><tr><td>Map(vectorType -> dense, length -> 5, values -> List(1.0, 0.43636363636363634, 0.7857143668090442, 0.4067796610169492, 0.484375))</td><td>0</td></tr><tr><td>Map(vectorType -> dense, length -> 5, values -> List(1.0, 0.47636371959339485, 0.416666685588777, 0.3220338983050847, 0.125))</td><td>2</td></tr><tr><td>Map(vectorType -> dense, length -> 5, values -> List(1.0, 0.47636371959339485, 0.5595236986943063, 0.4406779661016949, 0.34375))</td><td>2</td></tr><tr><td>Map(vectorType -> dense, length -> 5, values -> List(1.0, 0.4909090909090909, 0.749999943233669, 0.3728813559322034, 0.2109375))</td><td>2</td></tr><tr><td>Map(vectorType -> dense, length -> 5, values -> List(1.0, 0.49454553777521304, 0.46428568995728675, 0.3898305084745763, 0.25))</td><td>2</td></tr><tr><td>Map(vectorType -> dense, length -> 5, values -> List(1.0, 0.49454553777521304, 0.4999998864673381, 0.3559322033898305, 0.234375))</td><td>2</td></tr><tr><td>Map(vectorType -> dense, length -> 5, values -> List(1.0, 0.5018182927911932, 0.47619049781574513, 0.3050847457627119, 0.2265625))</td><td>2</td></tr><tr><td>Map(vectorType -> dense, length -> 5, values -> List(1.0, 0.5127273559570312, 0.5238095021842549, 0.2542372881355932, 0.25))</td><td>2</td></tr><tr><td>Map(vectorType -> dense, length -> 5, values -> List(1.0, 0.5272727272727272, 0.5595236986943063, 0.3559322033898305, 0.296875))</td><td>2</td></tr><tr><td>Map(vectorType -> dense, length -> 5, values -> List(1.0, 0.5309091741388494, 0.5714285065527647, 0.3898305084745763, 0.140625))</td><td>2</td></tr><tr><td>Map(vectorType -> dense, length -> 5, values -> List(1.0, 0.5345454822887074, 0.40476187773031863, 0.288135593220339, 0.25))</td><td>2</td></tr><tr><td>Map(vectorType -> dense, length -> 5, values -> List(1.0, 0.5600000554865057, 0.44047607424037, 0.4576271186440678, 0.328125))</td><td>2</td></tr><tr><td>Map(vectorType -> dense, length -> 5, values -> List(1.0, 0.5636363636363636, 0.6190475109212744, 0.3898305084745763, 0.3125))</td><td>2</td></tr><tr><td>Map(vectorType -> dense, length -> 5, values -> List(1.0, 0.5818181818181818, 0.39285706987186025, 0.4576271186440678, 0.1484375))</td><td>2</td></tr><tr><td>Map(vectorType -> dense, length -> 5, values -> List(1.0, 0.596363691850142, 0.5238095021842549, 0.3220338983050847, 0.171875))</td><td>2</td></tr><tr><td>Map(vectorType -> dense, length -> 5, values -> List(1.0, 0.6145455100319602, 0.7738095589505858, 0.6779661016949152, 0.453125))</td><td>2</td></tr><tr><td>Map(vectorType -> dense, length -> 5, values -> List(1.0, 0.6218182650479404, 0.6071429301281398, 0.3898305084745763, 0.484375))</td><td>2</td></tr><tr><td>Map(vectorType -> dense, length -> 5, values -> List(1.0, 0.6254545731977983, 0.8095237554606373, 0.5254237288135594, 0.375))</td><td>2</td></tr><tr><td>Map(vectorType -> dense, length -> 5, values -> List(1.0, 0.6327273282137784, 0.7023809388651593, 0.4745762711864407, 0.296875))</td><td>2</td></tr><tr><td>Map(vectorType -> dense, length -> 5, values -> List(1.0, 0.6363636363636364, 0.6071429301281398, 0.3559322033898305, 0.2890625))</td><td>2</td></tr><tr><td>Map(vectorType -> dense, length -> 5, values -> List(1.0, 0.6400000832297585, 0.6547619344966495, 0.3898305084745763, 0.234375))</td><td>2</td></tr><tr><td>Map(vectorType -> dense, length -> 5, values -> List(1.0, 0.6436363913796165, 0.4999998864673381, 0.4406779661016949, 0.2578125))</td><td>2</td></tr><tr><td>Map(vectorType -> dense, length -> 5, values -> List(1.0, 0.6545454545454545, 0.5714285065527647, 0.3050847457627119, 0.171875))</td><td>2</td></tr><tr><td>Map(vectorType -> dense, length -> 5, values -> List(1.0, 0.6581819014115766, 0.6666667423551079, 0.4406779661016949, 0.2890625))</td><td>2</td></tr><tr><td>Map(vectorType -> dense, length -> 5, values -> List(1.0, 0.6581819014115766, 0.6785713231482425, 0.5084745762711864, 0.296875))</td><td>2</td></tr><tr><td>Map(vectorType -> dense, length -> 5, values -> List(1.0, 0.6618182095614347, 0.8214285633190956, 0.423728813559322, 0.140625))</td><td>2</td></tr><tr><td>Map(vectorType -> dense, length -> 5, values -> List(1.0, 0.6690909645774148, 0.6309523187797328, 0.4745762711864407, 0.171875))</td><td>2</td></tr><tr><td>Map(vectorType -> dense, length -> 5, values -> List(1.0, 0.6727272727272727, 0.749999943233669, 0.3559322033898305, 0.296875))</td><td>2</td></tr><tr><td>Map(vectorType -> dense, length -> 5, values -> List(1.0, 0.6763637195933948, 0.7857143668090442, 0.5254237288135594, 0.375))</td><td>2</td></tr><tr><td>Map(vectorType -> dense, length -> 5, values -> List(1.0, 0.6872727827592329, 0.6785713231482425, 0.5254237288135594, 0.390625))</td><td>2</td></tr><tr><td>Map(vectorType -> dense, length -> 5, values -> List(1.0, 0.698181845925071, 0.6071429301281398, 0.423728813559322, 0.28125))</td><td>2</td></tr><tr><td>Map(vectorType -> dense, length -> 5, values -> List(1.0, 0.7018182927911931, 0.7023809388651593, 0.4915254237288136, 0.34375))</td><td>2</td></tr><tr><td>Map(vectorType -> dense, length -> 5, values -> List(1.0, 0.7054546009410511, 0.6666667423551079, 0.2542372881355932, 0.125))</td><td>2</td></tr><tr><td>Map(vectorType -> dense, length -> 5, values -> List(1.0, 0.7127273559570312, 0.857142759829147, 0.3728813559322034, 0.2890625))</td><td>2</td></tr><tr><td>Map(vectorType -> dense, length -> 5, values -> List(1.0, 0.7200001109730113, 0.7619047510921274, 0.576271186440678, 0.34375))</td><td>2</td></tr><tr><td>Map(vectorType -> dense, length -> 5, values -> List(1.0, 0.7236364191228692, 0.5952381222696814, 0.4915254237288136, 0.375))</td><td>2</td></tr><tr><td>Map(vectorType -> dense, length -> 5, values -> List(1.0, 0.7236364191228692, 0.9047619912629805, 0.6440677966101694, 0.609375))</td><td>2</td></tr><tr><td>Map(vectorType -> dense, length -> 5, values -> List(1.0, 0.7309091741388494, 0.6785713231482425, 0.423728813559322, 0.1875))</td><td>2</td></tr><tr><td>Map(vectorType -> dense, length -> 5, values -> List(1.0, 0.7490909923206676, 0.7976189476021789, 0.423728813559322, 0.2734375))</td><td>2</td></tr><tr><td>Map(vectorType -> dense, length -> 5, values -> List(1.0, 0.7527273004705255, 0.8214285633190956, 0.559322033898305, 0.53125))</td><td>2</td></tr><tr><td>Map(vectorType -> dense, length -> 5, values -> List(2.0, 0.050909146395596586, 0.7023809388651593, 0.3050847457627119, 0.234375))</td><td>0</td></tr><tr><td>Map(vectorType -> dense, length -> 5, values -> List(2.0, 0.07272727272727272, 0.5952381222696814, 0.3559322033898305, 0.1953125))</td><td>0</td></tr><tr><td>Map(vectorType -> dense, length -> 5, values -> List(2.0, 0.083636474609375, 0.6309523187797328, 0.2033898305084746, 0.1484375))</td><td>0</td></tr><tr><td>Map(vectorType -> dense, length -> 5, values -> List(2.0, 0.09090909090909091, 0.4880953056742035, 0.288135593220339, 0.109375))</td><td>0</td></tr><tr><td>Map(vectorType -> dense, length -> 5, values -> List(2.0, 0.09090909090909091, 0.9523809956314903, 0.4406779661016949, 0.484375))</td><td>0</td></tr><tr><td>Map(vectorType -> dense, length -> 5, values -> List(2.0, 0.10909090909090909, 0.749999943233669, 0.3559322033898305, 0.421875))</td><td>0</td></tr><tr><td>Map(vectorType -> dense, length -> 5, values -> List(2.0, 0.11272735595703125, 0.3333332576448921, 0.23728813559322035, 0.0625))</td><td>0</td></tr><tr><td>Map(vectorType -> dense, length -> 5, values -> List(2.0, 0.12363641912286931, 0.5238095021842549, 0.3050847457627119, 0.265625))</td><td>0</td></tr><tr><td>Map(vectorType -> dense, length -> 5, values -> List(2.0, 0.13090917413884942, 0.46428568995728675, 0.288135593220339, 0.15625))</td><td>0</td></tr><tr><td>Map(vectorType -> dense, length -> 5, values -> List(2.0, 0.13818192915482955, 0.416666685588777, 0.3050847457627119, 0.0625))</td><td>0</td></tr><tr><td>Map(vectorType -> dense, length -> 5, values -> List(2.0, 0.1490909923206676, 0.4880953056742035, 0.2542372881355932, 0.09375))</td><td>0</td></tr><tr><td>Map(vectorType -> dense, length -> 5, values -> List(2.0, 0.16363636363636364, 0.5595236986943063, 0.22033898305084745, 0.265625))</td><td>0</td></tr><tr><td>Map(vectorType -> dense, length -> 5, values -> List(2.0, 0.1672728105024858, 0.6785713231482425, 0.2542372881355932, 0.296875))</td><td>0</td></tr><tr><td>Map(vectorType -> dense, length -> 5, values -> List(2.0, 0.20363644686612214, 0.7976189476021789, 0.4406779661016949, 0.203125))</td><td>0</td></tr><tr><td>Map(vectorType -> dense, length -> 5, values -> List(2.0, 0.2072727550159801, 0.47619049781574513, 0.23728813559322035, 0.140625))</td><td>0</td></tr><tr><td>Map(vectorType -> dense, length -> 5, values -> List(2.0, 0.2072727550159801, 0.4999998864673381, 0.13559322033898305, 0.265625))</td><td>0</td></tr><tr><td>Map(vectorType -> dense, length -> 5, values -> List(2.0, 0.2327273282137784, 0.5714285065527647, 0.3050847457627119, 0.1484375))</td><td>0</td></tr><tr><td>Map(vectorType -> dense, length -> 5, values -> List(2.0, 0.23636363636363636, 0.9642858034899486, 0.3220338983050847, 0.296875))</td><td>0</td></tr><tr><td>Map(vectorType -> dense, length -> 5, values -> List(2.0, 0.24363639137961646, 0.5357143100427133, 0.3220338983050847, 0.1328125))</td><td>0</td></tr><tr><td>Map(vectorType -> dense, length -> 5, values -> List(2.0, 0.24727283824573862, 0.5595236986943063, 0.15254237288135594, 0.2421875))</td><td>0</td></tr><tr><td>Map(vectorType -> dense, length -> 5, values -> List(2.0, 0.2509091463955966, 0.47619049781574513, 0.3220338983050847, 0.0625))</td><td>0</td></tr><tr><td>Map(vectorType -> dense, length -> 5, values -> List(2.0, 0.2545454545454545, 0.6666667423551079, 0.15254237288135594, 0.28125))</td><td>0</td></tr><tr><td>Map(vectorType -> dense, length -> 5, values -> List(2.0, 0.2581819014115767, 0.7738095589505858, 0.3898305084745763, 0.5703125))</td><td>0</td></tr><tr><td>Map(vectorType -> dense, length -> 5, values -> List(2.0, 0.26181820956143464, 0.8928571834045221, 0.3050847457627119, 0.25))</td><td>0</td></tr><tr><td>Map(vectorType -> dense, length -> 5, values -> List(2.0, 0.26909096457741477, 0.5119046943257965, 0.23728813559322035, 0.296875))</td><td>0</td></tr><tr><td>Map(vectorType -> dense, length -> 5, values -> List(2.0, 0.29454553777521303, 0.46428568995728675, 0.06779661016949153, 0.1875))</td><td>0</td></tr><tr><td>Map(vectorType -> dense, length -> 5, values -> List(2.0, 0.298181845925071, 0.583333314411223, 0.3898305084745763, 0.125))</td><td>0</td></tr><tr><td>Map(vectorType -> dense, length -> 5, values -> List(2.0, 0.3090909090909091, 0.7023809388651593, 0.4576271186440678, 0.359375))</td><td>0</td></tr><tr><td>Map(vectorType -> dense, length -> 5, values -> List(2.0, 0.32000011097301134, 0.44047607424037, 0.3220338983050847, 0.265625))</td><td>0</td></tr><tr><td>Map(vectorType -> dense, length -> 5, values -> List(2.0, 0.32727272727272727, 0.5357143100427133, 0.1694915254237288, 0.109375))</td><td>0</td></tr><tr><td>Map(vectorType -> dense, length -> 5, values -> List(2.0, 0.32727272727272727, 0.6547619344966495, 0.288135593220339, 0.1484375))</td><td>0</td></tr><tr><td>Map(vectorType -> dense, length -> 5, values -> List(2.0, 0.33818192915482953, 0.6428571266381912, 0.5084745762711864, 0.3203125))</td><td>0</td></tr><tr><td>Map(vectorType -> dense, length -> 5, values -> List(2.0, 0.34181823730468747, 0.6190475109212744, 0.3898305084745763, 0.453125))</td><td>0</td></tr><tr><td>Map(vectorType -> dense, length -> 5, values -> List(2.0, 0.36000005548650565, 0.8452381790360124, 0.3050847457627119, 0.4375))</td><td>0</td></tr><tr><td>Map(vectorType -> dense, length -> 5, values -> List(2.0, 0.36363636363636365, 0.7142857467236177, 0.3898305084745763, 0.359375))</td><td>0</td></tr><tr><td>Map(vectorType -> dense, length -> 5, values -> List(2.0, 0.3890909368341619, 0.6428571266381912, 0.3898305084745763, 0.4375))</td><td>0</td></tr><tr><td>Map(vectorType -> dense, length -> 5, values -> List(2.0, 0.39999999999999997, 0.726190554582076, 0.423728813559322, 0.203125))</td><td>0</td></tr><tr><td>Map(vectorType -> dense, length -> 5, values -> List(2.0, 0.43636363636363634, 0.583333314411223, 0.6440677966101694, 0.359375))</td><td>0</td></tr><tr><td>Map(vectorType -> dense, length -> 5, values -> List(2.0, 0.498181845925071, 0.6904761310067009, 0.423728813559322, 0.40625))</td><td>0</td></tr><tr><td>Map(vectorType -> dense, length -> 5, values -> List(2.0, 0.5054546009410511, 1.0, 0.3728813559322034, 0.421875))</td><td>0</td></tr></tbody></table></div>"
      ]
     },
     "metadata": {
      "application/vnd.databricks.v1+output": {
       "addedWidgets": {},
       "aggData": [],
       "aggError": "",
       "aggOverflow": false,
       "aggSchema": [],
       "aggSeriesLimitReached": false,
       "aggType": "",
       "arguments": {},
       "columnCustomDisplayInfos": {},
       "data": [
        [
         {
          "length": 5,
          "values": [
           0,
           0.10545460094105114,
           0.5714285065527647,
           0.3050847457627119,
           0.1875
          ],
          "vectorType": "dense"
         },
         0
        ],
        [
         {
          "length": 5,
          "values": [
           0,
           0.13090917413884942,
           0.4523808820988284,
           0.22033898305084745,
           0.09375
          ],
          "vectorType": "dense"
         },
         0
        ],
        [
         {
          "length": 5,
          "values": [
           0,
           0.13818192915482955,
           0.726190554582076,
           0.288135593220339,
           0.296875
          ],
          "vectorType": "dense"
         },
         0
        ],
        [
         {
          "length": 5,
          "values": [
           0,
           0.16000005548650567,
           0.416666685588777,
           0.15254237288135594,
           0
          ],
          "vectorType": "dense"
         },
         0
        ],
        [
         {
          "length": 5,
          "values": [
           0,
           0.19999999999999998,
           0.46428568995728675,
           0.22033898305084745,
           0.234375
          ],
          "vectorType": "dense"
         },
         0
        ],
        [
         {
          "length": 5,
          "values": [
           0,
           0.19999999999999998,
           0.7142857467236177,
           0.3728813559322034,
           0.28125
          ],
          "vectorType": "dense"
         },
         0
        ],
        [
         {
          "length": 5,
          "values": [
           0,
           0.20363644686612214,
           0.34523806550335046,
           0.1864406779661017,
           0.0703125
          ],
          "vectorType": "dense"
         },
         0
        ],
        [
         {
          "length": 5,
          "values": [
           0,
           0.20363644686612214,
           0.6666667423551079,
           0.13559322033898305,
           0.234375
          ],
          "vectorType": "dense"
         },
         0
        ],
        [
         {
          "length": 5,
          "values": [
           0,
           0.2072727550159801,
           0.6190475109212744,
           0.03389830508474576,
           0.171875
          ],
          "vectorType": "dense"
         },
         0
        ],
        [
         {
          "length": 5,
          "values": [
           0,
           0.2072727550159801,
           0.8214285633190956,
           0.3050847457627119,
           0.4375
          ],
          "vectorType": "dense"
         },
         0
        ],
        [
         {
          "length": 5,
          "values": [
           0,
           0.21090920188210227,
           0.6547619344966495,
           0,
           0.09375
          ],
          "vectorType": "dense"
         },
         0
        ],
        [
         {
          "length": 5,
          "values": [
           0,
           0.21818181818181817,
           0.40476187773031863,
           0.4406779661016949,
           0.3046875
          ],
          "vectorType": "dense"
         },
         0
        ],
        [
         {
          "length": 5,
          "values": [
           0,
           0.21818181818181817,
           0.46428568995728675,
           0.15254237288135594,
           0.1015625
          ],
          "vectorType": "dense"
         },
         0
        ],
        [
         {
          "length": 5,
          "values": [
           0,
           0.22181826504794033,
           0.5952381222696814,
           0.22033898305084745,
           0.34375
          ],
          "vectorType": "dense"
         },
         0
        ],
        [
         {
          "length": 5,
          "values": [
           0,
           0.22181826504794033,
           0.8214285633190956,
           0.3050847457627119,
           0.328125
          ],
          "vectorType": "dense"
         },
         0
        ],
        [
         {
          "length": 5,
          "values": [
           0,
           0.23636363636363636,
           0.4880953056742035,
           0.4576271186440678,
           0.28125
          ],
          "vectorType": "dense"
         },
         0
        ],
        [
         {
          "length": 5,
          "values": [
           0,
           0.24363639137961646,
           0.4880953056742035,
           0.13559322033898305,
           0.296875
          ],
          "vectorType": "dense"
         },
         0
        ],
        [
         {
          "length": 5,
          "values": [
           0,
           0.2509091463955966,
           0.5238095021842549,
           0.23728813559322035,
           0.21875
          ],
          "vectorType": "dense"
         },
         0
        ],
        [
         {
          "length": 5,
          "values": [
           0,
           0.2727272727272727,
           0.5476191179011717,
           0.23728813559322035,
           0.203125
          ],
          "vectorType": "dense"
         },
         0
        ],
        [
         {
          "length": 5,
          "values": [
           0,
           0.2727272727272727,
           0.9047619912629805,
           0.3220338983050847,
           0.328125
          ],
          "vectorType": "dense"
         },
         0
        ],
        [
         {
          "length": 5,
          "values": [
           0,
           0.2763637195933949,
           0.5476191179011717,
           0.3559322033898305,
           0.109375
          ],
          "vectorType": "dense"
         },
         0
        ],
        [
         {
          "length": 5,
          "values": [
           0,
           0.2763637195933949,
           0.6904761310067009,
           0.2033898305084746,
           0.21875
          ],
          "vectorType": "dense"
         },
         0
        ],
        [
         {
          "length": 5,
          "values": [
           0,
           0.2909090909090909,
           0.6904761310067009,
           0.2711864406779661,
           0.453125
          ],
          "vectorType": "dense"
         },
         0
        ],
        [
         {
          "length": 5,
          "values": [
           0,
           0.30545460094105115,
           0.5714285065527647,
           0.2542372881355932,
           0.109375
          ],
          "vectorType": "dense"
         },
         0
        ],
        [
         {
          "length": 5,
          "values": [
           0,
           0.30545460094105115,
           0.6904761310067009,
           0.13559322033898305,
           0.34375
          ],
          "vectorType": "dense"
         },
         0
        ],
        [
         {
          "length": 5,
          "values": [
           0,
           0.3090909090909091,
           0.6547619344966495,
           0.1864406779661017,
           0.21875
          ],
          "vectorType": "dense"
         },
         0
        ],
        [
         {
          "length": 5,
          "values": [
           0,
           0.3236364191228693,
           0.8214285633190956,
           0.5254237288135594,
           0.5859375
          ],
          "vectorType": "dense"
         },
         0
        ],
        [
         {
          "length": 5,
          "values": [
           0,
           0.32727272727272727,
           0.7142857467236177,
           0.2711864406779661,
           0.390625
          ],
          "vectorType": "dense"
         },
         0
        ],
        [
         {
          "length": 5,
          "values": [
           0,
           0.3345454822887074,
           0.9523809956314903,
           0.3898305084745763,
           0.484375
          ],
          "vectorType": "dense"
         },
         0
        ],
        [
         {
          "length": 5,
          "values": [
           0,
           0.33818192915482953,
           0.6547619344966495,
           0.3220338983050847,
           0.265625
          ],
          "vectorType": "dense"
         },
         0
        ],
        [
         {
          "length": 5,
          "values": [
           0,
           0.36000005548650565,
           0.047619004368509764,
           0.6440677966101694,
           0.40625
          ],
          "vectorType": "dense"
         },
         1
        ],
        [
         {
          "length": 5,
          "values": [
           0,
           0.36000005548650565,
           0.7619047510921274,
           0.4745762711864407,
           0.375
          ],
          "vectorType": "dense"
         },
         0
        ],
        [
         {
          "length": 5,
          "values": [
           0,
           0.3672728105024858,
           0.7619047510921274,
           0.423728813559322,
           0.4453125
          ],
          "vectorType": "dense"
         },
         0
        ],
        [
         {
          "length": 5,
          "values": [
           0,
           0.3818181818181818,
           0.07142850655276464,
           0.6949152542372882,
           0.65625
          ],
          "vectorType": "dense"
         },
         1
        ],
        [
         {
          "length": 5,
          "values": [
           0,
           0.38545462868430397,
           0.07142850655276464,
           0.6101694915254238,
           0.34375
          ],
          "vectorType": "dense"
         },
         1
        ],
        [
         {
          "length": 5,
          "values": [
           0,
           0.38545462868430397,
           0.6190475109212744,
           0.4067796610169492,
           0.3828125
          ],
          "vectorType": "dense"
         },
         0
        ],
        [
         {
          "length": 5,
          "values": [
           0,
           0.3927273837002841,
           0,
           0.7288135593220338,
           0.671875
          ],
          "vectorType": "dense"
         },
         1
        ],
        [
         {
          "length": 5,
          "values": [
           0,
           0.40363644686612216,
           0.16666662882244604,
           0.6101694915254238,
           0.5
          ],
          "vectorType": "dense"
         },
         1
        ],
        [
         {
          "length": 5,
          "values": [
           0,
           0.40363644686612216,
           0.7023809388651593,
           0.423728813559322,
           0.6015625
          ],
          "vectorType": "dense"
         },
         0
        ],
        [
         {
          "length": 5,
          "values": [
           0,
           0.4072727550159801,
           0.03571419651005139,
           0.6271186440677966,
           0.484375
          ],
          "vectorType": "dense"
         },
         1
        ],
        [
         {
          "length": 5,
          "values": [
           0,
           0.4072727550159801,
           0.1071428165954779,
           0.6101694915254238,
           0.5390625
          ],
          "vectorType": "dense"
         },
         1
        ],
        [
         {
          "length": 5,
          "values": [
           0,
           0.4109092018821022,
           0.15476182096398766,
           0.7796610169491526,
           0.546875
          ],
          "vectorType": "dense"
         },
         1
        ],
        [
         {
          "length": 5,
          "values": [
           0,
           0.4145455100319602,
           0.24999994323366906,
           0.6949152542372882,
           0.5625
          ],
          "vectorType": "dense"
         },
         1
        ],
        [
         {
          "length": 5,
          "values": [
           0,
           0.41818181818181815,
           0.09523800873701953,
           0.7627118644067796,
           0.640625
          ],
          "vectorType": "dense"
         },
         1
        ],
        [
         {
          "length": 5,
          "values": [
           0,
           0.4327273282137784,
           0.05952381222696814,
           0.6101694915254238,
           0.46875
          ],
          "vectorType": "dense"
         },
         1
        ],
        [
         {
          "length": 5,
          "values": [
           0,
           0.4509091463955966,
           0.14285712663819117,
           0.7457627118644068,
           0.390625
          ],
          "vectorType": "dense"
         },
         1
        ],
        [
         {
          "length": 5,
          "values": [
           0,
           0.4509091463955966,
           0.19047613100670094,
           0.711864406779661,
           0.625
          ],
          "vectorType": "dense"
         },
         1
        ],
        [
         {
          "length": 5,
          "values": [
           0,
           0.4509091463955966,
           0.3095237554606372,
           0.7627118644067796,
           0.6328125
          ],
          "vectorType": "dense"
         },
         1
        ],
        [
         {
          "length": 5,
          "values": [
           0,
           0.4654546564275568,
           0.023809502184254882,
           0.6949152542372882,
           0.703125
          ],
          "vectorType": "dense"
         },
         1
        ],
        [
         {
          "length": 5,
          "values": [
           0,
           0.4654546564275568,
           0.08333331441122302,
           0.6779661016949152,
           0.59375
          ],
          "vectorType": "dense"
         },
         1
        ],
        [
         {
          "length": 5,
          "values": [
           0,
           0.4690909645774147,
           0.27380944541792396,
           0.8135593220338984,
           0.6875
          ],
          "vectorType": "dense"
         },
         1
        ],
        [
         {
          "length": 5,
          "values": [
           0,
           0.47636371959339485,
           0.08333331441122302,
           0.7288135593220338,
           0.59375
          ],
          "vectorType": "dense"
         },
         1
        ],
        [
         {
          "length": 5,
          "values": [
           0,
           0.47636371959339485,
           0.3214285633190956,
           0.7288135593220338,
           0.765625
          ],
          "vectorType": "dense"
         },
         1
        ],
        [
         {
          "length": 5,
          "values": [
           0,
           0.48000002774325284,
           0.07142850655276464,
           0.6440677966101694,
           0.453125
          ],
          "vectorType": "dense"
         },
         1
        ],
        [
         {
          "length": 5,
          "values": [
           0,
           0.48000002774325284,
           0.08333331441122302,
           0.6101694915254238,
           0.421875
          ],
          "vectorType": "dense"
         },
         1
        ],
        [
         {
          "length": 5,
          "values": [
           0,
           0.483636474609375,
           0.17857143668090442,
           0.6610169491525424,
           0.609375
          ],
          "vectorType": "dense"
         },
         1
        ],
        [
         {
          "length": 5,
          "values": [
           0,
           0.4872727827592329,
           0.07142850655276464,
           0.711864406779661,
           0.5625
          ],
          "vectorType": "dense"
         },
         1
        ],
        [
         {
          "length": 5,
          "values": [
           0,
           0.4872727827592329,
           0.09523800873701953,
           0.6440677966101694,
           0.421875
          ],
          "vectorType": "dense"
         },
         1
        ],
        [
         {
          "length": 5,
          "values": [
           0,
           0.4872727827592329,
           0.16666662882244604,
           0.6779661016949152,
           0.59375
          ],
          "vectorType": "dense"
         },
         1
        ],
        [
         {
          "length": 5,
          "values": [
           0,
           0.4872727827592329,
           0.2261904410494142,
           0.8135593220338984,
           0.671875
          ],
          "vectorType": "dense"
         },
         1
        ],
        [
         {
          "length": 5,
          "values": [
           0,
           0.49454553777521304,
           0.09523800873701953,
           0.711864406779661,
           0.484375
          ],
          "vectorType": "dense"
         },
         1
        ],
        [
         {
          "length": 5,
          "values": [
           0,
           0.498181845925071,
           0.17857143668090442,
           0.6440677966101694,
           0.421875
          ],
          "vectorType": "dense"
         },
         1
        ],
        [
         {
          "length": 5,
          "values": [
           0,
           0.509090909090909,
           0.011904694325796506,
           0.6610169491525424,
           0.515625
          ],
          "vectorType": "dense"
         },
         1
        ],
        [
         {
          "length": 5,
          "values": [
           0,
           0.509090909090909,
           0.23809524890787256,
           0.7288135593220338,
           0.703125
          ],
          "vectorType": "dense"
         },
         1
        ],
        [
         {
          "length": 5,
          "values": [
           0,
           0.5127273559570312,
           0.11904762445393628,
           0.7627118644067796,
           0.4765625
          ],
          "vectorType": "dense"
         },
         1
        ],
        [
         {
          "length": 5,
          "values": [
           0,
           0.5127273559570312,
           0.16666662882244604,
           0.6271186440677966,
           0.609375
          ],
          "vectorType": "dense"
         },
         1
        ],
        [
         {
          "length": 5,
          "values": [
           0,
           0.5127273559570312,
           0.2142856331909558,
           0.8305084745762712,
           0.765625
          ],
          "vectorType": "dense"
         },
         1
        ],
        [
         {
          "length": 5,
          "values": [
           0,
           0.5163636641068892,
           0.3214285633190956,
           0.7288135593220338,
           0.6875
          ],
          "vectorType": "dense"
         },
         1
        ],
        [
         {
          "length": 5,
          "values": [
           0,
           0.5200001109730114,
           0.2261904410494142,
           0.7457627118644068,
           0.578125
          ],
          "vectorType": "dense"
         },
         1
        ],
        [
         {
          "length": 5,
          "values": [
           0,
           0.5236364191228693,
           0.047619004368509764,
           0.6440677966101694,
           0.53125
          ],
          "vectorType": "dense"
         },
         1
        ],
        [
         {
          "length": 5,
          "values": [
           0,
           0.5236364191228693,
           0.15476182096398766,
           0.7627118644067796,
           0.640625
          ],
          "vectorType": "dense"
         },
         1
        ],
        [
         {
          "length": 5,
          "values": [
           0,
           0.5236364191228693,
           0.16666662882244604,
           0.6949152542372882,
           0.484375
          ],
          "vectorType": "dense"
         },
         1
        ],
        [
         {
          "length": 5,
          "values": [
           0,
           0.5236364191228693,
           0.20238093886515932,
           0.7627118644067796,
           0.734375
          ],
          "vectorType": "dense"
         },
         1
        ],
        [
         {
          "length": 5,
          "values": [
           0,
           0.5272727272727272,
           0.1309523187797328,
           0.6440677966101694,
           0.625
          ],
          "vectorType": "dense"
         },
         1
        ],
        [
         {
          "length": 5,
          "values": [
           0,
           0.5309091741388494,
           0.26190475109212746,
           0.7966101694915254,
           0.734375
          ],
          "vectorType": "dense"
         },
         1
        ],
        [
         {
          "length": 5,
          "values": [
           0,
           0.5345454822887074,
           0.14285712663819117,
           0.7288135593220338,
           0.625
          ],
          "vectorType": "dense"
         },
         1
        ],
        [
         {
          "length": 5,
          "values": [
           0,
           0.5345454822887074,
           0.27380944541792396,
           0.7288135593220338,
           0.71875
          ],
          "vectorType": "dense"
         },
         1
        ],
        [
         {
          "length": 5,
          "values": [
           0,
           0.5345454822887074,
           0.35714287336180883,
           0.7288135593220338,
           0.828125
          ],
          "vectorType": "dense"
         },
         1
        ],
        [
         {
          "length": 5,
          "values": [
           0,
           0.5381819291548295,
           0.17857143668090442,
           0.847457627118644,
           0.6328125
          ],
          "vectorType": "dense"
         },
         1
        ],
        [
         {
          "length": 5,
          "values": [
           0,
           0.5490909923206676,
           0.07142850655276464,
           0.711864406779661,
           0.6484375
          ],
          "vectorType": "dense"
         },
         1
        ],
        [
         {
          "length": 5,
          "values": [
           0,
           0.5490909923206676,
           0.28571425327638234,
           0.7288135593220338,
           0.6640625
          ],
          "vectorType": "dense"
         },
         1
        ],
        [
         {
          "length": 5,
          "values": [
           0,
           0.5527273004705255,
           0.08333331441122302,
           0.7457627118644068,
           0.5859375
          ],
          "vectorType": "dense"
         },
         1
        ],
        [
         {
          "length": 5,
          "values": [
           0,
           0.5527273004705255,
           0.26190475109212746,
           0.847457627118644,
           0.75
          ],
          "vectorType": "dense"
         },
         1
        ],
        [
         {
          "length": 5,
          "values": [
           0,
           0.5563637473366477,
           0.17857143668090442,
           0.6779661016949152,
           0.5859375
          ],
          "vectorType": "dense"
         },
         1
        ],
        [
         {
          "length": 5,
          "values": [
           0,
           0.5600000554865057,
           0.1071428165954779,
           0.6779661016949152,
           0.6328125
          ],
          "vectorType": "dense"
         },
         1
        ],
        [
         {
          "length": 5,
          "values": [
           0,
           0.5600000554865057,
           0.1309523187797328,
           0.6271186440677966,
           0.546875
          ],
          "vectorType": "dense"
         },
         1
        ],
        [
         {
          "length": 5,
          "values": [
           0,
           0.5600000554865057,
           0.2261904410494142,
           0.7796610169491526,
           0.65625
          ],
          "vectorType": "dense"
         },
         1
        ],
        [
         {
          "length": 5,
          "values": [
           0,
           0.5636363636363636,
           0.16666662882244604,
           0.7288135593220338,
           0.796875
          ],
          "vectorType": "dense"
         },
         1
        ],
        [
         {
          "length": 5,
          "values": [
           0,
           0.5672728105024858,
           0.2261904410494142,
           0.7457627118644068,
           0.59375
          ],
          "vectorType": "dense"
         },
         1
        ],
        [
         {
          "length": 5,
          "values": [
           0,
           0.5709091186523437,
           0.2261904410494142,
           0.7288135593220338,
           0.875
          ],
          "vectorType": "dense"
         },
         1
        ],
        [
         {
          "length": 5,
          "values": [
           0,
           0.5818181818181818,
           0.23809524890787256,
           0.6271186440677966,
           0.828125
          ],
          "vectorType": "dense"
         },
         1
        ],
        [
         {
          "length": 5,
          "values": [
           0,
           0.585454628684304,
           0.14285712663819117,
           0.6440677966101694,
           0.546875
          ],
          "vectorType": "dense"
         },
         1
        ],
        [
         {
          "length": 5,
          "values": [
           0,
           0.5927273837002841,
           0.15476182096398766,
           0.5254237288135594,
           0.5546875
          ],
          "vectorType": "dense"
         },
         1
        ],
        [
         {
          "length": 5,
          "values": [
           0,
           0.596363691850142,
           0.11904762445393628,
           0.8135593220338984,
           0.765625
          ],
          "vectorType": "dense"
         },
         1
        ],
        [
         {
          "length": 5,
          "values": [
           0,
           0.596363691850142,
           0.2261904410494142,
           0.7966101694915254,
           0.625
          ],
          "vectorType": "dense"
         },
         1
        ],
        [
         {
          "length": 5,
          "values": [
           0,
           0.6,
           0.34523806550335046,
           0.9830508474576272,
           0.921875
          ],
          "vectorType": "dense"
         },
         1
        ],
        [
         {
          "length": 5,
          "values": [
           0,
           0.6036364468661222,
           0.11904762445393628,
           0.6440677966101694,
           0.5
          ],
          "vectorType": "dense"
         },
         1
        ],
        [
         {
          "length": 5,
          "values": [
           0,
           0.6036364468661222,
           0.3095237554606372,
           0.6101694915254238,
           0.78125
          ],
          "vectorType": "dense"
         },
         1
        ],
        [
         {
          "length": 5,
          "values": [
           0,
           0.6072727550159801,
           0.3690476812202672,
           0.847457627118644,
           0.984375
          ],
          "vectorType": "dense"
         },
         1
        ],
        [
         {
          "length": 5,
          "values": [
           0,
           0.6145455100319602,
           0.35714287336180883,
           0.7457627118644068,
           0.84375
          ],
          "vectorType": "dense"
         },
         1
        ],
        [
         {
          "length": 5,
          "values": [
           0,
           0.6181818181818182,
           0.16666662882244604,
           0.6779661016949152,
           0.5546875
          ],
          "vectorType": "dense"
         },
         1
        ],
        [
         {
          "length": 5,
          "values": [
           0,
           0.6181818181818182,
           0.20238093886515932,
           0.8135593220338984,
           0.71875
          ],
          "vectorType": "dense"
         },
         1
        ],
        [
         {
          "length": 5,
          "values": [
           0,
           0.6181818181818182,
           0.2261904410494142,
           0.9491525423728814,
           0.828125
          ],
          "vectorType": "dense"
         },
         1
        ],
        [
         {
          "length": 5,
          "values": [
           0,
           0.6254545731977983,
           0.3095237554606372,
           0.7627118644067796,
           0.9375
          ],
          "vectorType": "dense"
         },
         1
        ],
        [
         {
          "length": 5,
          "values": [
           0,
           0.6327273282137784,
           0.35714287336180883,
           0.8813559322033898,
           0.875
          ],
          "vectorType": "dense"
         },
         1
        ],
        [
         {
          "length": 5,
          "values": [
           0,
           0.6327273282137784,
           0.3690476812202672,
           0.9661016949152542,
           0.921875
          ],
          "vectorType": "dense"
         },
         1
        ],
        [
         {
          "length": 5,
          "values": [
           0,
           0.6363636363636364,
           0.2261904410494142,
           0.7457627118644068,
           0.59375
          ],
          "vectorType": "dense"
         },
         1
        ],
        [
         {
          "length": 5,
          "values": [
           0,
           0.6436363913796165,
           0.3333332576448921,
           0.9661016949152542,
           0.96875
          ],
          "vectorType": "dense"
         },
         1
        ],
        [
         {
          "length": 5,
          "values": [
           0,
           0.6436363913796165,
           0.44047607424037,
           0.9830508474576272,
           0.890625
          ],
          "vectorType": "dense"
         },
         1
        ],
        [
         {
          "length": 5,
          "values": [
           0,
           0.6472728382457386,
           0.35714287336180883,
           0.6949152542372882,
           0.796875
          ],
          "vectorType": "dense"
         },
         1
        ],
        [
         {
          "length": 5,
          "values": [
           0,
           0.6509091463955966,
           0.3809522620134019,
           0.9830508474576272,
           0.890625
          ],
          "vectorType": "dense"
         },
         1
        ],
        [
         {
          "length": 5,
          "values": [
           0,
           0.6581819014115766,
           0.14285712663819117,
           0.7796610169491526,
           0.890625
          ],
          "vectorType": "dense"
         },
         1
        ],
        [
         {
          "length": 5,
          "values": [
           0,
           0.6654546564275567,
           0.3095237554606372,
           0.847457627118644,
           0.90625
          ],
          "vectorType": "dense"
         },
         1
        ],
        [
         {
          "length": 5,
          "values": [
           0,
           0.6690909645774148,
           0.24999994323366906,
           0.7457627118644068,
           0.671875
          ],
          "vectorType": "dense"
         },
         1
        ],
        [
         {
          "length": 5,
          "values": [
           0,
           0.6690909645774148,
           0.3333332576448921,
           0.8983050847457628,
           0.796875
          ],
          "vectorType": "dense"
         },
         1
        ],
        [
         {
          "length": 5,
          "values": [
           0,
           0.6763637195933948,
           0.2261904410494142,
           0.864406779661017,
           0.84375
          ],
          "vectorType": "dense"
         },
         1
        ],
        [
         {
          "length": 5,
          "values": [
           0,
           0.6800000277432529,
           0.3095237554606372,
           0.9152542372881356,
           0.734375
          ],
          "vectorType": "dense"
         },
         1
        ],
        [
         {
          "length": 5,
          "values": [
           0,
           0.6800000277432529,
           0.4999998864673381,
           0.9491525423728814,
           0.859375
          ],
          "vectorType": "dense"
         },
         1
        ],
        [
         {
          "length": 5,
          "values": [
           0,
           0.6909090909090909,
           0.40476187773031863,
           0.8983050847457628,
           0.75
          ],
          "vectorType": "dense"
         },
         1
        ],
        [
         {
          "length": 5,
          "values": [
           0,
           0.7054546009410511,
           0.3809522620134019,
           0.9830508474576272,
           0.828125
          ],
          "vectorType": "dense"
         },
         1
        ],
        [
         {
          "length": 5,
          "values": [
           0,
           0.7309091741388494,
           0.47619049781574513,
           0.9491525423728814,
           0.796875
          ],
          "vectorType": "dense"
         },
         1
        ],
        [
         {
          "length": 5,
          "values": [
           0,
           0.7418182373046874,
           0.2976190611348407,
           0.8305084745762712,
           0.8125
          ],
          "vectorType": "dense"
         },
         1
        ],
        [
         {
          "length": 5,
          "values": [
           0,
           0.7745455655184659,
           0.3214285633190956,
           0.7966101694915254,
           0.828125
          ],
          "vectorType": "dense"
         },
         1
        ],
        [
         {
          "length": 5,
          "values": [
           0,
           0.8072727550159801,
           0.3095237554606372,
           1,
           0.875
          ],
          "vectorType": "dense"
         },
         1
        ],
        [
         {
          "length": 5,
          "values": [
           0,
           0.8654546564275568,
           0.46428568995728675,
           0.9491525423728814,
           0.859375
          ],
          "vectorType": "dense"
         },
         1
        ],
        [
         {
          "length": 5,
          "values": [
           0,
           1,
           0.46428568995728675,
           0.9830508474576272,
           1
          ],
          "vectorType": "dense"
         },
         1
        ],
        [
         {
          "length": 5,
          "values": [
           1,
           0,
           0.28571425327638234,
           0.2711864406779661,
           0.0625
          ],
          "vectorType": "dense"
         },
         0
        ],
        [
         {
          "length": 5,
          "values": [
           1,
           0.03636363636363636,
           0.35714287336180883,
           0.1016949152542373,
           0.015625
          ],
          "vectorType": "dense"
         },
         0
        ],
        [
         {
          "length": 5,
          "values": [
           1,
           0.06909096457741477,
           0.47619049781574513,
           0.22033898305084745,
           0.171875
          ],
          "vectorType": "dense"
         },
         0
        ],
        [
         {
          "length": 5,
          "values": [
           1,
           0.12727272727272726,
           0.5238095021842549,
           0.3220338983050847,
           0.1015625
          ],
          "vectorType": "dense"
         },
         0
        ],
        [
         {
          "length": 5,
          "values": [
           1,
           0.13090917413884942,
           0.583333314411223,
           0.5084745762711864,
           0.21875
          ],
          "vectorType": "dense"
         },
         0
        ],
        [
         {
          "length": 5,
          "values": [
           1,
           0.14181823730468748,
           0.5595236986943063,
           0.3898305084745763,
           0.1875
          ],
          "vectorType": "dense"
         },
         0
        ],
        [
         {
          "length": 5,
          "values": [
           1,
           0.14181823730468748,
           0.5714285065527647,
           0.3050847457627119,
           0.1875
          ],
          "vectorType": "dense"
         },
         0
        ],
        [
         {
          "length": 5,
          "values": [
           1,
           0.14181823730468748,
           0.6428571266381912,
           0.23728813559322035,
           0.078125
          ],
          "vectorType": "dense"
         },
         0
        ],
        [
         {
          "length": 5,
          "values": [
           1,
           0.1490909923206676,
           0.4999998864673381,
           0.2542372881355932,
           0.140625
          ],
          "vectorType": "dense"
         },
         0
        ],
        [
         {
          "length": 5,
          "values": [
           1,
           0.1563637473366477,
           0.46428568995728675,
           0.3898305084745763,
           0.1484375
          ],
          "vectorType": "dense"
         },
         0
        ],
        [
         {
          "length": 5,
          "values": [
           1,
           0.16000005548650567,
           0.583333314411223,
           0.1694915254237288,
           0.09375
          ],
          "vectorType": "dense"
         },
         0
        ],
        [
         {
          "length": 5,
          "values": [
           1,
           0.16363636363636364,
           0.6309523187797328,
           0.2033898305084746,
           0.1953125
          ],
          "vectorType": "dense"
         },
         0
        ],
        [
         {
          "length": 5,
          "values": [
           1,
           0.17090911865234373,
           0.6428571266381912,
           0.3559322033898305,
           0.203125
          ],
          "vectorType": "dense"
         },
         0
        ],
        [
         {
          "length": 5,
          "values": [
           1,
           0.1745455655184659,
           0.6547619344966495,
           0.288135593220339,
           0.203125
          ],
          "vectorType": "dense"
         },
         0
        ],
        [
         {
          "length": 5,
          "values": [
           1,
           0.17818187366832386,
           0.4523808820988284,
           0.22033898305084745,
           0.046875
          ],
          "vectorType": "dense"
         },
         0
        ],
        [
         {
          "length": 5,
          "values": [
           1,
           0.18545462868430396,
           0.5952381222696814,
           0.1016949152542373,
           0.328125
          ],
          "vectorType": "dense"
         },
         0
        ],
        [
         {
          "length": 5,
          "values": [
           1,
           0.18909093683416192,
           0.44047607424037,
           0.3389830508474576,
           0.046875
          ],
          "vectorType": "dense"
         },
         0
        ],
        [
         {
          "length": 5,
          "values": [
           1,
           0.19636369185014205,
           0.6428571266381912,
           0.4576271186440678,
           0.5078125
          ],
          "vectorType": "dense"
         },
         0
        ],
        [
         {
          "length": 5,
          "values": [
           1,
           0.19636369185014205,
           0.6904761310067009,
           0.11864406779661017,
           0.0390625
          ],
          "vectorType": "dense"
         },
         0
        ],
        [
         {
          "length": 5,
          "values": [
           1,
           0.19999999999999998,
           0.7380951353752107,
           0.15254237288135594,
           0.140625
          ],
          "vectorType": "dense"
         },
         0
        ],
        [
         {
          "length": 5,
          "values": [
           1,
           0.2072727550159801,
           0.5952381222696814,
           0.3559322033898305,
           0.28125
          ],
          "vectorType": "dense"
         },
         0
        ],
        [
         {
          "length": 5,
          "values": [
           1,
           0.21818181818181817,
           0.6547619344966495,
           0.3050847457627119,
           0.265625
          ],
          "vectorType": "dense"
         },
         0
        ],
        [
         {
          "length": 5,
          "values": [
           1,
           0.24363639137961646,
           0.8214285633190956,
           0.3050847457627119,
           0.34375
          ],
          "vectorType": "dense"
         },
         0
        ],
        [
         {
          "length": 5,
          "values": [
           1,
           0.24727283824573862,
           0.6785713231482425,
           0.3050847457627119,
           0.234375
          ],
          "vectorType": "dense"
         },
         0
        ],
        [
         {
          "length": 5,
          "values": [
           1,
           0.2581819014115767,
           0.6547619344966495,
           0.3050847457627119,
           0.4375
          ],
          "vectorType": "dense"
         },
         0
        ],
        [
         {
          "length": 5,
          "values": [
           1,
           0.26909096457741477,
           0.4285714934472354,
           0.1016949152542373,
           0.125
          ],
          "vectorType": "dense"
         },
         0
        ],
        [
         {
          "length": 5,
          "values": [
           1,
           0.26909096457741477,
           0.5595236986943063,
           0.2711864406779661,
           0.140625
          ],
          "vectorType": "dense"
         },
         0
        ],
        [
         {
          "length": 5,
          "values": [
           1,
           0.2727272727272727,
           0.5952381222696814,
           0.23728813559322035,
           0.5
          ],
          "vectorType": "dense"
         },
         0
        ],
        [
         {
          "length": 5,
          "values": [
           1,
           0.2727272727272727,
           0.6785713231482425,
           0.3050847457627119,
           0.546875
          ],
          "vectorType": "dense"
         },
         0
        ],
        [
         {
          "length": 5,
          "values": [
           1,
           0.28000002774325283,
           0.7142857467236177,
           0.2033898305084746,
           0.5625
          ],
          "vectorType": "dense"
         },
         0
        ],
        [
         {
          "length": 5,
          "values": [
           1,
           0.29454553777521303,
           0.833333371177554,
           0.4745762711864407,
           0.3515625
          ],
          "vectorType": "dense"
         },
         0
        ],
        [
         {
          "length": 5,
          "values": [
           1,
           0.3163636641068892,
           0.6309523187797328,
           0.3898305084745763,
           0.328125
          ],
          "vectorType": "dense"
         },
         0
        ],
        [
         {
          "length": 5,
          "values": [
           1,
           0.3163636641068892,
           0.6904761310067009,
           0.6101694915254238,
           0.453125
          ],
          "vectorType": "dense"
         },
         0
        ],
        [
         {
          "length": 5,
          "values": [
           1,
           0.32000011097301134,
           0.416666685588777,
           0.2542372881355932,
           0.109375
          ],
          "vectorType": "dense"
         },
         2
        ],
        [
         {
          "length": 5,
          "values": [
           1,
           0.32727272727272727,
           0.5238095021842549,
           0.3050847457627119,
           0.328125
          ],
          "vectorType": "dense"
         },
         0
        ],
        [
         {
          "length": 5,
          "values": [
           1,
           0.32727272727272727,
           0.5952381222696814,
           0.559322033898305,
           0.453125
          ],
          "vectorType": "dense"
         },
         0
        ],
        [
         {
          "length": 5,
          "values": [
           1,
           0.32727272727272727,
           0.7023809388651593,
           0.1694915254237288,
           0.1796875
          ],
          "vectorType": "dense"
         },
         0
        ],
        [
         {
          "length": 5,
          "values": [
           1,
           0.3345454822887074,
           0.857142759829147,
           0.3728813559322034,
           0.21875
          ],
          "vectorType": "dense"
         },
         0
        ],
        [
         {
          "length": 5,
          "values": [
           1,
           0.34181823730468747,
           0.6428571266381912,
           0.4915254237288136,
           0.359375
          ],
          "vectorType": "dense"
         },
         0
        ],
        [
         {
          "length": 5,
          "values": [
           1,
           0.3672728105024858,
           0.6428571266381912,
           0.13559322033898305,
           0.21875
          ],
          "vectorType": "dense"
         },
         0
        ],
        [
         {
          "length": 5,
          "values": [
           1,
           0.3745455655184659,
           0.4999998864673381,
           0.15254237288135594,
           0.234375
          ],
          "vectorType": "dense"
         },
         2
        ],
        [
         {
          "length": 5,
          "values": [
           1,
           0.37818187366832384,
           0.4285714934472354,
           0.2542372881355932,
           0.15625
          ],
          "vectorType": "dense"
         },
         2
        ],
        [
         {
          "length": 5,
          "values": [
           1,
           0.37818187366832384,
           0.4999998864673381,
           0.2542372881355932,
           0.15625
          ],
          "vectorType": "dense"
         },
         2
        ],
        [
         {
          "length": 5,
          "values": [
           1,
           0.40363644686612216,
           0.416666685588777,
           0.2542372881355932,
           0.015625
          ],
          "vectorType": "dense"
         },
         2
        ],
        [
         {
          "length": 5,
          "values": [
           1,
           0.40363644686612216,
           0.6428571266381912,
           0.3389830508474576,
           0.390625
          ],
          "vectorType": "dense"
         },
         0
        ],
        [
         {
          "length": 5,
          "values": [
           1,
           0.43636363636363634,
           0.7857143668090442,
           0.4067796610169492,
           0.484375
          ],
          "vectorType": "dense"
         },
         0
        ],
        [
         {
          "length": 5,
          "values": [
           1,
           0.47636371959339485,
           0.416666685588777,
           0.3220338983050847,
           0.125
          ],
          "vectorType": "dense"
         },
         2
        ],
        [
         {
          "length": 5,
          "values": [
           1,
           0.47636371959339485,
           0.5595236986943063,
           0.4406779661016949,
           0.34375
          ],
          "vectorType": "dense"
         },
         2
        ],
        [
         {
          "length": 5,
          "values": [
           1,
           0.4909090909090909,
           0.749999943233669,
           0.3728813559322034,
           0.2109375
          ],
          "vectorType": "dense"
         },
         2
        ],
        [
         {
          "length": 5,
          "values": [
           1,
           0.49454553777521304,
           0.46428568995728675,
           0.3898305084745763,
           0.25
          ],
          "vectorType": "dense"
         },
         2
        ],
        [
         {
          "length": 5,
          "values": [
           1,
           0.49454553777521304,
           0.4999998864673381,
           0.3559322033898305,
           0.234375
          ],
          "vectorType": "dense"
         },
         2
        ],
        [
         {
          "length": 5,
          "values": [
           1,
           0.5018182927911932,
           0.47619049781574513,
           0.3050847457627119,
           0.2265625
          ],
          "vectorType": "dense"
         },
         2
        ],
        [
         {
          "length": 5,
          "values": [
           1,
           0.5127273559570312,
           0.5238095021842549,
           0.2542372881355932,
           0.25
          ],
          "vectorType": "dense"
         },
         2
        ],
        [
         {
          "length": 5,
          "values": [
           1,
           0.5272727272727272,
           0.5595236986943063,
           0.3559322033898305,
           0.296875
          ],
          "vectorType": "dense"
         },
         2
        ],
        [
         {
          "length": 5,
          "values": [
           1,
           0.5309091741388494,
           0.5714285065527647,
           0.3898305084745763,
           0.140625
          ],
          "vectorType": "dense"
         },
         2
        ],
        [
         {
          "length": 5,
          "values": [
           1,
           0.5345454822887074,
           0.40476187773031863,
           0.288135593220339,
           0.25
          ],
          "vectorType": "dense"
         },
         2
        ],
        [
         {
          "length": 5,
          "values": [
           1,
           0.5600000554865057,
           0.44047607424037,
           0.4576271186440678,
           0.328125
          ],
          "vectorType": "dense"
         },
         2
        ],
        [
         {
          "length": 5,
          "values": [
           1,
           0.5636363636363636,
           0.6190475109212744,
           0.3898305084745763,
           0.3125
          ],
          "vectorType": "dense"
         },
         2
        ],
        [
         {
          "length": 5,
          "values": [
           1,
           0.5818181818181818,
           0.39285706987186025,
           0.4576271186440678,
           0.1484375
          ],
          "vectorType": "dense"
         },
         2
        ],
        [
         {
          "length": 5,
          "values": [
           1,
           0.596363691850142,
           0.5238095021842549,
           0.3220338983050847,
           0.171875
          ],
          "vectorType": "dense"
         },
         2
        ],
        [
         {
          "length": 5,
          "values": [
           1,
           0.6145455100319602,
           0.7738095589505858,
           0.6779661016949152,
           0.453125
          ],
          "vectorType": "dense"
         },
         2
        ],
        [
         {
          "length": 5,
          "values": [
           1,
           0.6218182650479404,
           0.6071429301281398,
           0.3898305084745763,
           0.484375
          ],
          "vectorType": "dense"
         },
         2
        ],
        [
         {
          "length": 5,
          "values": [
           1,
           0.6254545731977983,
           0.8095237554606373,
           0.5254237288135594,
           0.375
          ],
          "vectorType": "dense"
         },
         2
        ],
        [
         {
          "length": 5,
          "values": [
           1,
           0.6327273282137784,
           0.7023809388651593,
           0.4745762711864407,
           0.296875
          ],
          "vectorType": "dense"
         },
         2
        ],
        [
         {
          "length": 5,
          "values": [
           1,
           0.6363636363636364,
           0.6071429301281398,
           0.3559322033898305,
           0.2890625
          ],
          "vectorType": "dense"
         },
         2
        ],
        [
         {
          "length": 5,
          "values": [
           1,
           0.6400000832297585,
           0.6547619344966495,
           0.3898305084745763,
           0.234375
          ],
          "vectorType": "dense"
         },
         2
        ],
        [
         {
          "length": 5,
          "values": [
           1,
           0.6436363913796165,
           0.4999998864673381,
           0.4406779661016949,
           0.2578125
          ],
          "vectorType": "dense"
         },
         2
        ],
        [
         {
          "length": 5,
          "values": [
           1,
           0.6545454545454545,
           0.5714285065527647,
           0.3050847457627119,
           0.171875
          ],
          "vectorType": "dense"
         },
         2
        ],
        [
         {
          "length": 5,
          "values": [
           1,
           0.6581819014115766,
           0.6666667423551079,
           0.4406779661016949,
           0.2890625
          ],
          "vectorType": "dense"
         },
         2
        ],
        [
         {
          "length": 5,
          "values": [
           1,
           0.6581819014115766,
           0.6785713231482425,
           0.5084745762711864,
           0.296875
          ],
          "vectorType": "dense"
         },
         2
        ],
        [
         {
          "length": 5,
          "values": [
           1,
           0.6618182095614347,
           0.8214285633190956,
           0.423728813559322,
           0.140625
          ],
          "vectorType": "dense"
         },
         2
        ],
        [
         {
          "length": 5,
          "values": [
           1,
           0.6690909645774148,
           0.6309523187797328,
           0.4745762711864407,
           0.171875
          ],
          "vectorType": "dense"
         },
         2
        ],
        [
         {
          "length": 5,
          "values": [
           1,
           0.6727272727272727,
           0.749999943233669,
           0.3559322033898305,
           0.296875
          ],
          "vectorType": "dense"
         },
         2
        ],
        [
         {
          "length": 5,
          "values": [
           1,
           0.6763637195933948,
           0.7857143668090442,
           0.5254237288135594,
           0.375
          ],
          "vectorType": "dense"
         },
         2
        ],
        [
         {
          "length": 5,
          "values": [
           1,
           0.6872727827592329,
           0.6785713231482425,
           0.5254237288135594,
           0.390625
          ],
          "vectorType": "dense"
         },
         2
        ],
        [
         {
          "length": 5,
          "values": [
           1,
           0.698181845925071,
           0.6071429301281398,
           0.423728813559322,
           0.28125
          ],
          "vectorType": "dense"
         },
         2
        ],
        [
         {
          "length": 5,
          "values": [
           1,
           0.7018182927911931,
           0.7023809388651593,
           0.4915254237288136,
           0.34375
          ],
          "vectorType": "dense"
         },
         2
        ],
        [
         {
          "length": 5,
          "values": [
           1,
           0.7054546009410511,
           0.6666667423551079,
           0.2542372881355932,
           0.125
          ],
          "vectorType": "dense"
         },
         2
        ],
        [
         {
          "length": 5,
          "values": [
           1,
           0.7127273559570312,
           0.857142759829147,
           0.3728813559322034,
           0.2890625
          ],
          "vectorType": "dense"
         },
         2
        ],
        [
         {
          "length": 5,
          "values": [
           1,
           0.7200001109730113,
           0.7619047510921274,
           0.576271186440678,
           0.34375
          ],
          "vectorType": "dense"
         },
         2
        ],
        [
         {
          "length": 5,
          "values": [
           1,
           0.7236364191228692,
           0.5952381222696814,
           0.4915254237288136,
           0.375
          ],
          "vectorType": "dense"
         },
         2
        ],
        [
         {
          "length": 5,
          "values": [
           1,
           0.7236364191228692,
           0.9047619912629805,
           0.6440677966101694,
           0.609375
          ],
          "vectorType": "dense"
         },
         2
        ],
        [
         {
          "length": 5,
          "values": [
           1,
           0.7309091741388494,
           0.6785713231482425,
           0.423728813559322,
           0.1875
          ],
          "vectorType": "dense"
         },
         2
        ],
        [
         {
          "length": 5,
          "values": [
           1,
           0.7490909923206676,
           0.7976189476021789,
           0.423728813559322,
           0.2734375
          ],
          "vectorType": "dense"
         },
         2
        ],
        [
         {
          "length": 5,
          "values": [
           1,
           0.7527273004705255,
           0.8214285633190956,
           0.559322033898305,
           0.53125
          ],
          "vectorType": "dense"
         },
         2
        ],
        [
         {
          "length": 5,
          "values": [
           2,
           0.050909146395596586,
           0.7023809388651593,
           0.3050847457627119,
           0.234375
          ],
          "vectorType": "dense"
         },
         0
        ],
        [
         {
          "length": 5,
          "values": [
           2,
           0.07272727272727272,
           0.5952381222696814,
           0.3559322033898305,
           0.1953125
          ],
          "vectorType": "dense"
         },
         0
        ],
        [
         {
          "length": 5,
          "values": [
           2,
           0.083636474609375,
           0.6309523187797328,
           0.2033898305084746,
           0.1484375
          ],
          "vectorType": "dense"
         },
         0
        ],
        [
         {
          "length": 5,
          "values": [
           2,
           0.09090909090909091,
           0.4880953056742035,
           0.288135593220339,
           0.109375
          ],
          "vectorType": "dense"
         },
         0
        ],
        [
         {
          "length": 5,
          "values": [
           2,
           0.09090909090909091,
           0.9523809956314903,
           0.4406779661016949,
           0.484375
          ],
          "vectorType": "dense"
         },
         0
        ],
        [
         {
          "length": 5,
          "values": [
           2,
           0.10909090909090909,
           0.749999943233669,
           0.3559322033898305,
           0.421875
          ],
          "vectorType": "dense"
         },
         0
        ],
        [
         {
          "length": 5,
          "values": [
           2,
           0.11272735595703125,
           0.3333332576448921,
           0.23728813559322035,
           0.0625
          ],
          "vectorType": "dense"
         },
         0
        ],
        [
         {
          "length": 5,
          "values": [
           2,
           0.12363641912286931,
           0.5238095021842549,
           0.3050847457627119,
           0.265625
          ],
          "vectorType": "dense"
         },
         0
        ],
        [
         {
          "length": 5,
          "values": [
           2,
           0.13090917413884942,
           0.46428568995728675,
           0.288135593220339,
           0.15625
          ],
          "vectorType": "dense"
         },
         0
        ],
        [
         {
          "length": 5,
          "values": [
           2,
           0.13818192915482955,
           0.416666685588777,
           0.3050847457627119,
           0.0625
          ],
          "vectorType": "dense"
         },
         0
        ],
        [
         {
          "length": 5,
          "values": [
           2,
           0.1490909923206676,
           0.4880953056742035,
           0.2542372881355932,
           0.09375
          ],
          "vectorType": "dense"
         },
         0
        ],
        [
         {
          "length": 5,
          "values": [
           2,
           0.16363636363636364,
           0.5595236986943063,
           0.22033898305084745,
           0.265625
          ],
          "vectorType": "dense"
         },
         0
        ],
        [
         {
          "length": 5,
          "values": [
           2,
           0.1672728105024858,
           0.6785713231482425,
           0.2542372881355932,
           0.296875
          ],
          "vectorType": "dense"
         },
         0
        ],
        [
         {
          "length": 5,
          "values": [
           2,
           0.20363644686612214,
           0.7976189476021789,
           0.4406779661016949,
           0.203125
          ],
          "vectorType": "dense"
         },
         0
        ],
        [
         {
          "length": 5,
          "values": [
           2,
           0.2072727550159801,
           0.47619049781574513,
           0.23728813559322035,
           0.140625
          ],
          "vectorType": "dense"
         },
         0
        ],
        [
         {
          "length": 5,
          "values": [
           2,
           0.2072727550159801,
           0.4999998864673381,
           0.13559322033898305,
           0.265625
          ],
          "vectorType": "dense"
         },
         0
        ],
        [
         {
          "length": 5,
          "values": [
           2,
           0.2327273282137784,
           0.5714285065527647,
           0.3050847457627119,
           0.1484375
          ],
          "vectorType": "dense"
         },
         0
        ],
        [
         {
          "length": 5,
          "values": [
           2,
           0.23636363636363636,
           0.9642858034899486,
           0.3220338983050847,
           0.296875
          ],
          "vectorType": "dense"
         },
         0
        ],
        [
         {
          "length": 5,
          "values": [
           2,
           0.24363639137961646,
           0.5357143100427133,
           0.3220338983050847,
           0.1328125
          ],
          "vectorType": "dense"
         },
         0
        ],
        [
         {
          "length": 5,
          "values": [
           2,
           0.24727283824573862,
           0.5595236986943063,
           0.15254237288135594,
           0.2421875
          ],
          "vectorType": "dense"
         },
         0
        ],
        [
         {
          "length": 5,
          "values": [
           2,
           0.2509091463955966,
           0.47619049781574513,
           0.3220338983050847,
           0.0625
          ],
          "vectorType": "dense"
         },
         0
        ],
        [
         {
          "length": 5,
          "values": [
           2,
           0.2545454545454545,
           0.6666667423551079,
           0.15254237288135594,
           0.28125
          ],
          "vectorType": "dense"
         },
         0
        ],
        [
         {
          "length": 5,
          "values": [
           2,
           0.2581819014115767,
           0.7738095589505858,
           0.3898305084745763,
           0.5703125
          ],
          "vectorType": "dense"
         },
         0
        ],
        [
         {
          "length": 5,
          "values": [
           2,
           0.26181820956143464,
           0.8928571834045221,
           0.3050847457627119,
           0.25
          ],
          "vectorType": "dense"
         },
         0
        ],
        [
         {
          "length": 5,
          "values": [
           2,
           0.26909096457741477,
           0.5119046943257965,
           0.23728813559322035,
           0.296875
          ],
          "vectorType": "dense"
         },
         0
        ],
        [
         {
          "length": 5,
          "values": [
           2,
           0.29454553777521303,
           0.46428568995728675,
           0.06779661016949153,
           0.1875
          ],
          "vectorType": "dense"
         },
         0
        ],
        [
         {
          "length": 5,
          "values": [
           2,
           0.298181845925071,
           0.583333314411223,
           0.3898305084745763,
           0.125
          ],
          "vectorType": "dense"
         },
         0
        ],
        [
         {
          "length": 5,
          "values": [
           2,
           0.3090909090909091,
           0.7023809388651593,
           0.4576271186440678,
           0.359375
          ],
          "vectorType": "dense"
         },
         0
        ],
        [
         {
          "length": 5,
          "values": [
           2,
           0.32000011097301134,
           0.44047607424037,
           0.3220338983050847,
           0.265625
          ],
          "vectorType": "dense"
         },
         0
        ],
        [
         {
          "length": 5,
          "values": [
           2,
           0.32727272727272727,
           0.5357143100427133,
           0.1694915254237288,
           0.109375
          ],
          "vectorType": "dense"
         },
         0
        ],
        [
         {
          "length": 5,
          "values": [
           2,
           0.32727272727272727,
           0.6547619344966495,
           0.288135593220339,
           0.1484375
          ],
          "vectorType": "dense"
         },
         0
        ],
        [
         {
          "length": 5,
          "values": [
           2,
           0.33818192915482953,
           0.6428571266381912,
           0.5084745762711864,
           0.3203125
          ],
          "vectorType": "dense"
         },
         0
        ],
        [
         {
          "length": 5,
          "values": [
           2,
           0.34181823730468747,
           0.6190475109212744,
           0.3898305084745763,
           0.453125
          ],
          "vectorType": "dense"
         },
         0
        ],
        [
         {
          "length": 5,
          "values": [
           2,
           0.36000005548650565,
           0.8452381790360124,
           0.3050847457627119,
           0.4375
          ],
          "vectorType": "dense"
         },
         0
        ],
        [
         {
          "length": 5,
          "values": [
           2,
           0.36363636363636365,
           0.7142857467236177,
           0.3898305084745763,
           0.359375
          ],
          "vectorType": "dense"
         },
         0
        ],
        [
         {
          "length": 5,
          "values": [
           2,
           0.3890909368341619,
           0.6428571266381912,
           0.3898305084745763,
           0.4375
          ],
          "vectorType": "dense"
         },
         0
        ],
        [
         {
          "length": 5,
          "values": [
           2,
           0.39999999999999997,
           0.726190554582076,
           0.423728813559322,
           0.203125
          ],
          "vectorType": "dense"
         },
         0
        ],
        [
         {
          "length": 5,
          "values": [
           2,
           0.43636363636363634,
           0.583333314411223,
           0.6440677966101694,
           0.359375
          ],
          "vectorType": "dense"
         },
         0
        ],
        [
         {
          "length": 5,
          "values": [
           2,
           0.498181845925071,
           0.6904761310067009,
           0.423728813559322,
           0.40625
          ],
          "vectorType": "dense"
         },
         0
        ],
        [
         {
          "length": 5,
          "values": [
           2,
           0.5054546009410511,
           1,
           0.3728813559322034,
           0.421875
          ],
          "vectorType": "dense"
         },
         0
        ]
       ],
       "datasetInfos": [],
       "dbfsResultPath": null,
       "isJsonSchema": true,
       "metadata": {},
       "overflow": false,
       "plotOptions": {
        "customPlotOptions": {},
        "displayType": "table",
        "pivotAggregation": null,
        "pivotColumns": null,
        "xColumns": null,
        "yColumns": null
       },
       "removedWidgets": [],
       "schema": [
        {
         "metadata": "{\"ml_attr\":{\"attrs\":{\"numeric\":[{\"idx\":1,\"name\":\"normalizedFeatures_0\"},{\"idx\":2,\"name\":\"normalizedFeatures_1\"},{\"idx\":3,\"name\":\"normalizedFeatures_2\"},{\"idx\":4,\"name\":\"normalizedFeatures_3\"}],\"nominal\":[{\"vals\":[\"Biscoe\",\"Dream\",\"Torgersen\"],\"idx\":0,\"name\":\"IslandIdx\"}]},\"num_attrs\":5}}",
         "name": "features",
         "type": "{\"type\":\"udt\",\"class\":\"org.apache.spark.ml.linalg.VectorUDT\",\"pyClass\":\"pyspark.ml.linalg.VectorUDT\",\"sqlType\":{\"type\":\"struct\",\"fields\":[{\"name\":\"type\",\"type\":\"byte\",\"nullable\":false,\"metadata\":{}},{\"name\":\"size\",\"type\":\"integer\",\"nullable\":true,\"metadata\":{}},{\"name\":\"indices\",\"type\":{\"type\":\"array\",\"elementType\":\"integer\",\"containsNull\":false},\"nullable\":true,\"metadata\":{}},{\"name\":\"values\",\"type\":{\"type\":\"array\",\"elementType\":\"double\",\"containsNull\":false},\"nullable\":true,\"metadata\":{}}]}}"
        },
        {
         "metadata": "{}",
         "name": "label",
         "type": "\"integer\""
        }
       ],
       "type": "table"
      }
     },
     "output_type": "display_data"
    }
   ],
   "source": [
    "featVect = VectorAssembler(inputCols=[\"IslandIdx\", \"normalizedFeatures\"], outputCol=\"featuresVector\")\n",
    "preppedData = featVect.transform(scaledData)[col(\"featuresVector\").alias(\"features\"), col(\"Species\").alias(\"label\")]\n",
    "display(preppedData)"
   ]
  },
  {
   "cell_type": "markdown",
   "metadata": {
    "application/vnd.databricks.v1+cell": {
     "cellMetadata": {},
     "inputWidgets": {},
     "nuid": "983afcb2-9cf0-4786-8e4e-a71fe58fe7b0",
     "showTitle": false,
     "tableResultSettingsMap": {},
     "title": ""
    }
   },
   "source": [
    "The features vector contains five values (the encoded island and the normalized culmen length, culmen depth, flipper length, and body mass). The label contains a simple integer code that indicates the class of penguin species."
   ]
  },
  {
   "cell_type": "markdown",
   "metadata": {
    "application/vnd.databricks.v1+cell": {
     "cellMetadata": {},
     "inputWidgets": {},
     "nuid": "214b84d9-c432-4c3b-bfa2-f181e893ba95",
     "showTitle": false,
     "tableResultSettingsMap": {},
     "title": ""
    }
   },
   "source": [
    "### Train a ML model\n",
    "\n",
    "logistic regression, which iteratively attempts to find the optimal coefficients that can be applied to the features data in a logistic calculation that predicts the probability for each class label value. To train the model, you will fit the logistic regression algorithm to the training data. You specify the maximum number of iterations performed to find optimal coeficients for the logistic calculation, and a regularization parameter that is used to prevent the model from overfitting."
   ]
  },
  {
   "cell_type": "code",
   "execution_count": 0,
   "metadata": {
    "application/vnd.databricks.v1+cell": {
     "cellMetadata": {
      "byteLimit": 2048000,
      "rowLimit": 10000
     },
     "inputWidgets": {},
     "nuid": "a3e098fc-5538-499b-b3b3-ee24b8573a49",
     "showTitle": false,
     "tableResultSettingsMap": {},
     "title": ""
    }
   },
   "outputs": [
    {
     "data": {
      "application/vnd.jupyter.widget-view+json": {
       "model_id": "eb6b1e3ca8e74494996c7de051bc1383",
       "version_major": 2,
       "version_minor": 0
      },
      "text/plain": [
       "Downloading artifacts:   0%|          | 0/15 [00:00<?, ?it/s]"
      ]
     },
     "metadata": {},
     "output_type": "display_data"
    },
    {
     "data": {
      "application/vnd.jupyter.widget-view+json": {
       "model_id": "004f4303c0af44cf86dc58fcbe60e401",
       "version_major": 2,
       "version_minor": 0
      },
      "text/plain": [
       "Uploading artifacts:   0%|          | 0/4 [00:00<?, ?it/s]"
      ]
     },
     "metadata": {},
     "output_type": "display_data"
    },
    {
     "name": "stdout",
     "output_type": "stream",
     "text": [
      "Model trained!\n"
     ]
    }
   ],
   "source": [
    "from pyspark.ml.classification import LogisticRegression\n",
    "\n",
    "lr = LogisticRegression(labelCol=\"label\", featuresCol=\"features\", maxIter=10, regParam=0.3)\n",
    "model = lr.fit(preppedData)\n",
    "print (\"Model trained!\")"
   ]
  },
  {
   "cell_type": "markdown",
   "metadata": {
    "application/vnd.databricks.v1+cell": {
     "cellMetadata": {},
     "inputWidgets": {},
     "nuid": "e5ddf95a-d2de-4488-905c-579da583e6d3",
     "showTitle": false,
     "tableResultSettingsMap": {},
     "title": ""
    }
   },
   "source": [
    "### Test the model\n",
    "\n",
    "prepare the test data and then generate predictions"
   ]
  },
  {
   "cell_type": "code",
   "execution_count": 0,
   "metadata": {
    "application/vnd.databricks.v1+cell": {
     "cellMetadata": {
      "byteLimit": 2048000,
      "rowLimit": 10000
     },
     "inputWidgets": {},
     "nuid": "9a79b393-bd6d-4078-ad58-4f56b54dad7b",
     "showTitle": false,
     "tableResultSettingsMap": {},
     "title": ""
    }
   },
   "outputs": [
    {
     "data": {
      "text/html": [
       "<style scoped>\n",
       "  .table-result-container {\n",
       "    max-height: 300px;\n",
       "    overflow: auto;\n",
       "  }\n",
       "  table, th, td {\n",
       "    border: 1px solid black;\n",
       "    border-collapse: collapse;\n",
       "  }\n",
       "  th, td {\n",
       "    padding: 5px;\n",
       "  }\n",
       "  th {\n",
       "    text-align: left;\n",
       "  }\n",
       "</style><div class='table-result-container'><table class='table-result'><thead style='background-color: white'><tr><th>features</th><th>probability</th><th>prediction</th><th>trueLabel</th></tr></thead><tbody><tr><td>Map(vectorType -> dense, length -> 5, values -> List(0.0, 0.0, 0.5866666683620875, 0.17307692307692307, 0.05555555555555555))</td><td>Map(vectorType -> dense, length -> 3, values -> List(0.9044455472067027, 0.03732982651059977, 0.05822462628269763))</td><td>0</td><td>0</td></tr><tr><td>Map(vectorType -> dense, length -> 5, values -> List(0.0, 0.02127659574468085, 0.5599999033610149, 0.2692307692307693, 0.2847222222222222))</td><td>Map(vectorType -> dense, length -> 3, values -> List(0.8610205002371472, 0.07821972732117789, 0.06075977244167493))</td><td>0</td><td>0</td></tr><tr><td>Map(vectorType -> dense, length -> 5, values -> List(0.0, 0.03404252072598072, 0.6933332197401404, 0.17307692307692307, 0.3055555555555556))</td><td>Map(vectorType -> dense, length -> 3, values -> List(0.8933948146599047, 0.04775491452805716, 0.058850270812038245))</td><td>0</td><td>0</td></tr><tr><td>Map(vectorType -> dense, length -> 5, values -> List(0.0, 0.0425531914893617, 0.33333341810437295, 0.3269230769230769, 0.18055555555555555))</td><td>Map(vectorType -> dense, length -> 3, values -> List(0.7883351742657827, 0.13910254823774043, 0.07256227749647698))</td><td>0</td><td>0</td></tr><tr><td>Map(vectorType -> dense, length -> 5, values -> List(0.0, 0.08085112876080452, 0.4533333519829621, 0.11538461538461539, 0.041666666666666664))</td><td>Map(vectorType -> dense, length -> 3, values -> List(0.8608783088017331, 0.05734325469572048, 0.08177843650254632))</td><td>0</td><td>0</td></tr><tr><td>Map(vectorType -> dense, length -> 5, values -> List(0.0, 0.14468091599484706, 0.6533333265516502, 0.2884615384615385, 0.0625))</td><td>Map(vectorType -> dense, length -> 3, values -> List(0.8309874786628647, 0.06196598730610369, 0.10704653403103173))</td><td>0</td><td>0</td></tr><tr><td>Map(vectorType -> dense, length -> 5, values -> List(0.0, 0.2595744031540891, 0.6799998372396041, 0.2884615384615385, 0.3055555555555556))</td><td>Map(vectorType -> dense, length -> 3, values -> List(0.7389654282886562, 0.1156282644418229, 0.14540630726952097))</td><td>0</td><td>0</td></tr><tr><td>Map(vectorType -> dense, length -> 5, values -> List(0.0, 0.2723404904629322, 0.0, 0.6923076923076923, 0.5416666666666666))</td><td>Map(vectorType -> dense, length -> 3, values -> List(0.17105237919019448, 0.7717155092249804, 0.05723211158482511))</td><td>1</td><td>1</td></tr><tr><td>Map(vectorType -> dense, length -> 5, values -> List(0.0, 0.28085099889876997, 0.6000000508626238, 0.2692307692307693, 0.375))</td><td>Map(vectorType -> dense, length -> 3, values -> List(0.6928545042547388, 0.15728006636198907, 0.1498654293832722))</td><td>0</td><td>0</td></tr><tr><td>Map(vectorType -> dense, length -> 5, values -> List(0.0, 0.3021275946434508, 0.5733332858615512, 0.2692307692307693, 0.3472222222222222))</td><td>Map(vectorType -> dense, length -> 3, values -> List(0.669755170765458, 0.16746217196142363, 0.16278265727311833))</td><td>0</td><td>0</td></tr><tr><td>Map(vectorType -> dense, length -> 5, values -> List(0.0, 0.30638301118891287, 0.13333331637912543, 0.6153846153846154, 0.5555555555555556))</td><td>Map(vectorType -> dense, length -> 3, values -> List(0.23256136591319906, 0.6863264193908107, 0.0811122146959901))</td><td>1</td><td>1</td></tr><tr><td>Map(vectorType -> dense, length -> 5, values -> List(0.0, 0.35319145689619347, 0.06666665818956272, 0.5961538461538461, 0.5555555555555556))</td><td>Map(vectorType -> dense, length -> 3, values -> List(0.1849231959763861, 0.734137531659099, 0.08093927236451479))</td><td>1</td><td>1</td></tr><tr><td>Map(vectorType -> dense, length -> 5, values -> List(0.0, 0.3829787234042553, 0.06666665818956272, 0.8076923076923077, 0.5555555555555556))</td><td>Map(vectorType -> dense, length -> 3, values -> List(0.11188457304885314, 0.8239931111626634, 0.06412231578848356))</td><td>1</td><td>1</td></tr><tr><td>Map(vectorType -> dense, length -> 5, values -> List(0.0, 0.3957446483855552, 0.026666637844513216, 0.576923076923077, 0.4444444444444444))</td><td>Map(vectorType -> dense, length -> 3, values -> List(0.17976957036407473, 0.7208262008797549, 0.09940422875617022))</td><td>1</td><td>1</td></tr><tr><td>Map(vectorType -> dense, length -> 5, values -> List(0.0, 0.42127666067569813, 0.47999986267091593, 0.7884615384615385, 0.7083333333333334))</td><td>Map(vectorType -> dense, length -> 3, values -> List(0.20763589031469987, 0.6814225334924513, 0.11094157619284872))</td><td>1</td><td>1</td></tr><tr><td>Map(vectorType -> dense, length -> 5, values -> List(0.0, 0.45106376485621674, 0.09333329603407593, 0.6153846153846154, 0.4722222222222222))</td><td>Map(vectorType -> dense, length -> 3, values -> List(0.15827660524349588, 0.7309803472110301, 0.11074304754547401))</td><td>1</td><td>1</td></tr><tr><td>Map(vectorType -> dense, length -> 5, values -> List(0.0, 0.45106376485621674, 0.10666667853461222, 0.5576923076923077, 0.6527777777777778))</td><td>Map(vectorType -> dense, length -> 3, values -> List(0.1437932252515519, 0.765484037828943, 0.09072273691950514))</td><td>1</td><td>1</td></tr><tr><td>Map(vectorType -> dense, length -> 5, values -> List(0.0, 0.45106376485621674, 0.10666667853461222, 0.7115384615384616, 0.6388888888888888))</td><td>Map(vectorType -> dense, length -> 3, values -> List(0.10785807122413117, 0.8166891266011377, 0.07545280217473105))</td><td>1</td><td>1</td></tr><tr><td>Map(vectorType -> dense, length -> 5, values -> List(0.0, 0.4553191814016788, 0.14666669887966172, 0.6538461538461539, 0.6944444444444444))</td><td>Map(vectorType -> dense, length -> 3, values -> List(0.12134820782832463, 0.7982082178371122, 0.0804435743345633))</td><td>1</td><td>1</td></tr><tr><td>Map(vectorType -> dense, length -> 5, values -> List(0.0, 0.4553191814016788, 0.3599999287923268, 0.8653846153846154, 0.9027777777777778))</td><td>Map(vectorType -> dense, length -> 3, values -> List(0.095855563970978, 0.8422755252620827, 0.06186891076693937))</td><td>1</td><td>1</td></tr><tr><td>Map(vectorType -> dense, length -> 5, values -> List(0.0, 0.47234036060089757, 0.8799998118082922, 0.25, 0.5277777777777778))</td><td>Map(vectorType -> dense, length -> 3, values -> List(0.5984376800218949, 0.14689748963379148, 0.2546648303443137))</td><td>0</td><td>0</td></tr><tr><td>Map(vectorType -> dense, length -> 5, values -> List(0.0, 0.4808510313642786, 0.06666665818956272, 0.7884615384615385, 0.5555555555555556))</td><td>Map(vectorType -> dense, length -> 3, values -> List(0.08602902243030501, 0.8383309197786709, 0.075640057791024))</td><td>1</td><td>1</td></tr><tr><td>Map(vectorType -> dense, length -> 5, values -> List(0.0, 0.4978723728910405, 0.09333329603407593, 0.6923076923076923, 0.5416666666666666))</td><td>Map(vectorType -> dense, length -> 3, values -> List(0.10794625055925437, 0.79637180955757, 0.09568193988317575))</td><td>1</td><td>1</td></tr><tr><td>Map(vectorType -> dense, length -> 5, values -> List(0.0, 0.5063830436544215, 0.2533333774142739, 0.826923076923077, 0.6388888888888888))</td><td>Map(vectorType -> dense, length -> 3, values -> List(0.10087698487779456, 0.8076551878061571, 0.09146782731604844))</td><td>1</td><td>1</td></tr><tr><td>Map(vectorType -> dense, length -> 5, values -> List(0.0, 0.582978755869764, 0.2533333774142739, 0.826923076923077, 0.6666666666666666))</td><td>Map(vectorType -> dense, length -> 3, values -> List(0.0761389744857045, 0.8273275253343074, 0.09653350017998805))</td><td>1</td><td>1</td></tr><tr><td>Map(vectorType -> dense, length -> 5, values -> List(0.0, 0.591489426633145, 0.1200000610351485, 0.6730769230769231, 0.875))</td><td>Map(vectorType -> dense, length -> 3, values -> List(0.0545643165029265, 0.8811062518106971, 0.06432943168637643))</td><td>1</td><td>1</td></tr><tr><td>Map(vectorType -> dense, length -> 5, values -> List(0.0, 0.591489426633145, 0.3466665462917905, 0.8076923076923077, 0.75))</td><td>Map(vectorType -> dense, length -> 3, values -> List(0.08524257799292198, 0.8111691496414303, 0.10358827236564788))</td><td>1</td><td>1</td></tr><tr><td>Map(vectorType -> dense, length -> 5, values -> List(0.0, 0.6042553516144448, 0.18666671922471123, 0.8461538461538463, 0.7361111111111112))</td><td>Map(vectorType -> dense, length -> 3, values -> List(0.052340856929076085, 0.8733208129216483, 0.07433833014927572))</td><td>1</td><td>1</td></tr><tr><td>Map(vectorType -> dense, length -> 5, values -> List(0.0, 0.6255319473591257, 0.19999997456868815, 0.826923076923077, 1.0))</td><td>Map(vectorType -> dense, length -> 3, values -> List(0.034820776628739517, 0.9162694928457765, 0.04890973052548383))</td><td>1</td><td>1</td></tr><tr><td>Map(vectorType -> dense, length -> 5, values -> List(0.0, 0.6340426181225066, 0.28000001525878715, 0.7307692307692308, 0.6180555555555556))</td><td>Map(vectorType -> dense, length -> 3, values -> List(0.08949865044875333, 0.7756100531988661, 0.1348912963523806))</td><td>1</td><td>1</td></tr><tr><td>Map(vectorType -> dense, length -> 5, values -> List(0.0, 0.6425531265583444, 0.3066666531033004, 0.9038461538461539, 0.8333333333333334))</td><td>Map(vectorType -> dense, length -> 3, values -> List(0.04729224552409282, 0.8766198857076348, 0.07608786876827227))</td><td>1</td><td>1</td></tr><tr><td>Map(vectorType -> dense, length -> 5, values -> List(0.0, 0.6595744680851063, 0.19999997456868815, 0.7692307692307693, 0.8333333333333334))</td><td>Map(vectorType -> dense, length -> 3, values -> List(0.046074674491067995, 0.8770462797518989, 0.076879045757033))</td><td>1</td><td>1</td></tr><tr><td>Map(vectorType -> dense, length -> 5, values -> List(0.0, 0.6595744680851063, 0.21333335706922443, 0.8076923076923077, 0.7916666666666666))</td><td>Map(vectorType -> dense, length -> 3, values -> List(0.046654502246002615, 0.8728959911734361, 0.08044950658056146))</td><td>1</td><td>1</td></tr><tr><td>Map(vectorType -> dense, length -> 5, values -> List(0.0, 0.6595744680851063, 0.2933332706027641, 0.8846153846153847, 0.7361111111111112))</td><td>Map(vectorType -> dense, length -> 3, values -> List(0.052269572996094936, 0.8545388540272926, 0.09319157297661244))</td><td>1</td><td>1</td></tr><tr><td>Map(vectorType -> dense, length -> 5, values -> List(0.0, 0.6638297223030253, 0.17333333672417495, 0.9038461538461539, 0.6388888888888888))</td><td>Map(vectorType -> dense, length -> 3, values -> List(0.04257652082425815, 0.8721739907442356, 0.08524948843150623))</td><td>1</td><td>1</td></tr><tr><td>Map(vectorType -> dense, length -> 5, values -> List(0.0, 0.6765958096118684, 0.21333335706922443, 0.8846153846153847, 0.7916666666666666))</td><td>Map(vectorType -> dense, length -> 3, values -> List(0.03721742394327418, 0.8899978065641024, 0.07278476949262346))</td><td>1</td><td>1</td></tr><tr><td>Map(vectorType -> dense, length -> 5, values -> List(0.0, 0.6808510638297872, 0.2933332706027641, 0.8461538461538463, 0.7916666666666666))</td><td>Map(vectorType -> dense, length -> 3, values -> List(0.048752908832324374, 0.8596498988682258, 0.0915971922994498))</td><td>1</td><td>1</td></tr><tr><td>Map(vectorType -> dense, length -> 5, values -> List(0.0, 0.7063829137923869, 0.3466665462917905, 0.8076923076923077, 0.9166666666666666))</td><td>Map(vectorType -> dense, length -> 3, values -> List(0.0460506156443153, 0.8652274723413191, 0.08872191201436558))</td><td>1</td><td>1</td></tr><tr><td>Map(vectorType -> dense, length -> 5, values -> List(0.0, 0.7148935845557679, 0.06666665818956272, 0.7692307692307693, 0.7222222222222222))</td><td>Map(vectorType -> dense, length -> 3, values -> List(0.03258589813505604, 0.8907281571447804, 0.07668594472016367))</td><td>1</td><td>1</td></tr><tr><td>Map(vectorType -> dense, length -> 5, values -> List(0.0, 0.7489361052817487, 0.4399999694824258, 1.0, 0.7916666666666666))</td><td>Map(vectorType -> dense, length -> 3, values -> List(0.03996185519078346, 0.8543986104879421, 0.10563953432127432))</td><td>1</td><td>1</td></tr><tr><td>Map(vectorType -> dense, length -> 5, values -> List(0.0, 0.8765956797498338, 0.3066666531033004, 1.0, 0.875))</td><td>Map(vectorType -> dense, length -> 3, values -> List(0.0163723251308213, 0.9044544241934257, 0.07917325067575297))</td><td>1</td><td>1</td></tr><tr><td>Map(vectorType -> dense, length -> 5, values -> List(1.0, 0.06382978723404255, 0.4533333519829621, 0.17307692307692307, 0.2777777777777778))</td><td>Map(vectorType -> dense, length -> 3, values -> List(0.8720557005004257, 0.055362204258865566, 0.07258209524070879))</td><td>0</td><td>0</td></tr><tr><td>Map(vectorType -> dense, length -> 5, values -> List(1.0, 0.07659571221534242, 0.7733332604302394, 0.23076923076923078, 0.3055555555555556))</td><td>Map(vectorType -> dense, length -> 3, values -> List(0.8996422750340057, 0.029365751827205647, 0.07099197313878858))</td><td>0</td><td>0</td></tr><tr><td>Map(vectorType -> dense, length -> 5, values -> List(1.0, 0.10638297872340426, 0.37333331129286307, 0.13461538461538464, 0.19444444444444445))</td><td>Map(vectorType -> dense, length -> 3, values -> List(0.8499097239352059, 0.061112392147024325, 0.0889778839177699))</td><td>0</td><td>0</td></tr><tr><td>Map(vectorType -> dense, length -> 5, values -> List(1.0, 0.11914890370470411, 0.5466665208604786, 0.25, 0.18055555555555555))</td><td>Map(vectorType -> dense, length -> 3, values -> List(0.8539811967759475, 0.05098192741519784, 0.09503687580885452))</td><td>0</td><td>0</td></tr><tr><td>Map(vectorType -> dense, length -> 5, values -> List(1.0, 0.15319142443068484, 0.5200000101725248, 0.17307692307692307, 0.2013888888888889))</td><td>Map(vectorType -> dense, length -> 3, values -> List(0.8431787474611748, 0.052245317451621975, 0.10457593508720314))</td><td>0</td><td>0</td></tr><tr><td>Map(vectorType -> dense, length -> 5, values -> List(1.0, 0.1617020951940658, 0.7333333672417492, 0.21153846153846156, 0.3472222222222222))</td><td>Map(vectorType -> dense, length -> 3, values -> List(0.8587029678185071, 0.04281975043669155, 0.09847728174480133))</td><td>0</td><td>0</td></tr><tr><td>Map(vectorType -> dense, length -> 5, values -> List(1.0, 0.19148936170212766, 0.6666667090521865, 0.13461538461538464, 0.2638888888888889))</td><td>Map(vectorType -> dense, length -> 3, values -> List(0.8477725622665515, 0.04022002233241702, 0.11200741540103146))</td><td>0</td><td>0</td></tr><tr><td>Map(vectorType -> dense, length -> 5, values -> List(1.0, 0.20000003246550863, 0.9866666174994638, 0.34615384615384615, 0.4027777777777778))</td><td>Map(vectorType -> dense, length -> 3, values -> List(0.852251377252723, 0.03640382824801696, 0.11134479449925992))</td><td>0</td><td>0</td></tr><tr><td>Map(vectorType -> dense, length -> 5, values -> List(1.0, 0.22127662821018948, 0.5599999033610149, 0.2884615384615385, 0.4305555555555556))</td><td>Map(vectorType -> dense, length -> 3, values -> List(0.767043211036093, 0.10633824561335459, 0.12661854335055245))</td><td>0</td><td>0</td></tr><tr><td>Map(vectorType -> dense, length -> 5, values -> List(1.0, 0.24255322395487033, 0.4533333519829621, 0.2884615384615385, 0.19444444444444445))</td><td>Map(vectorType -> dense, length -> 3, values -> List(0.7474113762781535, 0.09866352239833931, 0.15392510132350712))</td><td>0</td><td>0</td></tr><tr><td>Map(vectorType -> dense, length -> 5, values -> List(1.0, 0.24680847817278923, 0.6399999440511139, 0.34615384615384615, 0.4583333333333333))</td><td>Map(vectorType -> dense, length -> 3, values -> List(0.751974226857204, 0.1097511517865506, 0.1382746213562453))</td><td>0</td><td>0</td></tr><tr><td>Map(vectorType -> dense, length -> 5, values -> List(1.0, 0.2595744031540891, 0.4666667344834984, 0.17307692307692307, 0.2152777777777778))</td><td>Map(vectorType -> dense, length -> 3, values -> List(0.7638582424133936, 0.08041628158112733, 0.155725476005479))</td><td>0</td><td>0</td></tr><tr><td>Map(vectorType -> dense, length -> 5, values -> List(1.0, 0.2638298196995512, 0.4399999694824258, 0.23076923076923078, 0.2847222222222222))</td><td>Map(vectorType -> dense, length -> 3, values -> List(0.7336323278852757, 0.11002983751855858, 0.1563378345961657))</td><td>0</td><td>0</td></tr><tr><td>Map(vectorType -> dense, length -> 5, values -> List(1.0, 0.2723404904629322, 0.6933332197401404, 0.11538461538461539, 0.3333333333333333))</td><td>Map(vectorType -> dense, length -> 3, values -> List(0.8041387688197164, 0.05005895855131687, 0.14580227262896678))</td><td>0</td><td>0</td></tr><tr><td>Map(vectorType -> dense, length -> 5, values -> List(1.0, 0.33191486115151264, 1.0, 0.25, 0.4027777777777778))</td><td>Map(vectorType -> dense, length -> 3, values -> List(0.7864025941367279, 0.03973166541056144, 0.17386574045271055))</td><td>0</td><td>0</td></tr><tr><td>Map(vectorType -> dense, length -> 5, values -> List(1.0, 0.3829787234042553, 0.5866666683620875, 0.46153846153846156, 0.19444444444444445))</td><td>Map(vectorType -> dense, length -> 3, values -> List(0.6133522918662591, 0.1360648101115985, 0.2505828980221424))</td><td>0</td><td>2</td></tr><tr><td>Map(vectorType -> dense, length -> 5, values -> List(1.0, 0.46382985216505984, 0.6666667090521865, 0.19230769230769232, 0.22916666666666666))</td><td>Map(vectorType -> dense, length -> 3, values -> List(0.6250223757591453, 0.07980246094422394, 0.2951751632966307))</td><td>0</td><td>2</td></tr><tr><td>Map(vectorType -> dense, length -> 5, values -> List(1.0, 0.46808510638297873, 0.4399999694824258, 0.34615384615384615, 0.2222222222222222))</td><td>Map(vectorType -> dense, length -> 3, values -> List(0.5155171863537702, 0.1816974591959588, 0.30278535445027105))</td><td>0</td><td>2</td></tr><tr><td>Map(vectorType -> dense, length -> 5, values -> List(1.0, 0.48936170212765956, 0.6933332197401404, 0.3269230769230769, 0.4027777777777778))</td><td>Map(vectorType -> dense, length -> 3, values -> List(0.5609171740467476, 0.1370347546177966, 0.30204807133545597))</td><td>0</td><td>2</td></tr><tr><td>Map(vectorType -> dense, length -> 5, values -> List(1.0, 0.49361695634557845, 0.6000000508626238, 0.0, 0.1527777777777778))</td><td>Map(vectorType -> dense, length -> 3, values -> List(0.6262484957840995, 0.05804890175183003, 0.31570260246407045))</td><td>0</td><td>2</td></tr><tr><td>Map(vectorType -> dense, length -> 5, values -> List(1.0, 0.5063830436544215, 0.5466665208604786, 0.25, 0.2777777777777778))</td><td>Map(vectorType -> dense, length -> 3, values -> List(0.533664502568551, 0.1381768149797122, 0.32815868245173674))</td><td>0</td><td>2</td></tr><tr><td>Map(vectorType -> dense, length -> 5, values -> List(1.0, 0.5063830436544215, 0.6533333265516502, 0.23076923076923078, 0.20833333333333334))</td><td>Map(vectorType -> dense, length -> 3, values -> List(0.5696319949557439, 0.09217273617439527, 0.33819526886986073))</td><td>0</td><td>2</td></tr><tr><td>Map(vectorType -> dense, length -> 5, values -> List(1.0, 0.5106382978723404, 0.5599999033610149, 0.2692307692307693, 0.2222222222222222))</td><td>Map(vectorType -> dense, length -> 3, values -> List(0.5310472978452514, 0.12758503449784095, 0.3413676676569076))</td><td>0</td><td>2</td></tr><tr><td>Map(vectorType -> dense, length -> 5, values -> List(1.0, 0.5276596393991024, 0.38666669379339935, 0.2692307692307693, 0.0))</td><td>Map(vectorType -> dense, length -> 3, values -> List(0.4796683056418095, 0.13371621120849772, 0.3866154831496928))</td><td>0</td><td>2</td></tr><tr><td>Map(vectorType -> dense, length -> 5, values -> List(1.0, 0.5319148936170213, 0.47999986267091593, 0.13461538461538464, 0.2777777777777778))</td><td>Map(vectorType -> dense, length -> 3, values -> List(0.5220217341869061, 0.13379236903748934, 0.3441858967756045))</td><td>0</td><td>2</td></tr><tr><td>Map(vectorType -> dense, length -> 5, values -> List(1.0, 0.6170212765957447, 0.7733332604302394, 0.6153846153846154, 0.3472222222222222))</td><td>Map(vectorType -> dense, length -> 3, values -> List(0.37291234131218287, 0.20483437819753797, 0.42225328049027927))</td><td>2</td><td>2</td></tr><tr><td>Map(vectorType -> dense, length -> 5, values -> List(1.0, 0.6595744680851063, 0.7733332604302394, 0.34615384615384615, 0.3333333333333333))</td><td>Map(vectorType -> dense, length -> 3, values -> List(0.403434837177138, 0.12885518309354643, 0.4677099797293156))</td><td>2</td><td>2</td></tr><tr><td>Map(vectorType -> dense, length -> 5, values -> List(1.0, 0.6808510638297872, 0.7866666429307757, 0.44230769230769235, 0.375))</td><td>Map(vectorType -> dense, length -> 3, values -> List(0.3596434029915333, 0.1619265521122823, 0.47843004489618424))</td><td>2</td><td>2</td></tr><tr><td>Map(vectorType -> dense, length -> 5, values -> List(1.0, 0.6936169888110871, 0.6399999440511139, 0.44230769230769235, 0.4861111111111111))</td><td>Map(vectorType -> dense, length -> 3, values -> List(0.3020847069225685, 0.26106305406922176, 0.4368522390082097))</td><td>2</td><td>2</td></tr><tr><td>Map(vectorType -> dense, length -> 5, values -> List(1.0, 0.6936169888110871, 0.7066666022406767, 0.6153846153846154, 0.3888888888888889))</td><td>Map(vectorType -> dense, length -> 3, values -> List(0.28221271815579696, 0.2600374598476943, 0.45774982199650877))</td><td>2</td><td>2</td></tr><tr><td>Map(vectorType -> dense, length -> 5, values -> List(1.0, 0.6978724053565492, 0.5599999033610149, 0.34615384615384615, 0.2708333333333333))</td><td>Map(vectorType -> dense, length -> 3, values -> List(0.31909821397599336, 0.18870682260767518, 0.4921949634163314))</td><td>2</td><td>2</td></tr><tr><td>Map(vectorType -> dense, length -> 5, values -> List(1.0, 0.6978724053565492, 0.719999984741213, 0.34615384615384615, 0.2361111111111111))</td><td>Map(vectorType -> dense, length -> 3, values -> List(0.3557438522110937, 0.1262014675538409, 0.5180546802350654))</td><td>2</td><td>2</td></tr><tr><td>Map(vectorType -> dense, length -> 5, values -> List(1.0, 0.7148935845557679, 0.7333333672417492, 0.2884615384615385, 0.2638888888888889))</td><td>Map(vectorType -> dense, length -> 3, values -> List(0.35432060343635735, 0.11690030192890356, 0.5287790946347389))</td><td>2</td><td>2</td></tr><tr><td>Map(vectorType -> dense, length -> 5, values -> List(1.0, 0.7148935845557679, 0.8266665361192658, 0.38461538461538464, 0.2777777777777778))</td><td>Map(vectorType -> dense, length -> 3, values -> List(0.35128583915766126, 0.11569150775585961, 0.5330226530864791))</td><td>2</td><td>2</td></tr><tr><td>Map(vectorType -> dense, length -> 5, values -> List(1.0, 0.7446808510638298, 0.7066666022406767, 0.3653846153846154, 0.4027777777777778))</td><td>Map(vectorType -> dense, length -> 3, values -> List(0.29960250468278404, 0.18188602090561418, 0.5185114744116018))</td><td>2</td><td>2</td></tr><tr><td>Map(vectorType -> dense, length -> 5, values -> List(1.0, 0.8085106382978723, 0.8266665361192658, 0.5192307692307693, 0.5))</td><td>Map(vectorType -> dense, length -> 3, values -> List(0.23426977280570996, 0.21779765379882018, 0.54793257339547))</td><td>2</td><td>2</td></tr><tr><td>Map(vectorType -> dense, length -> 5, values -> List(1.0, 0.8382979048059341, 0.946666469997855, 0.44230769230769235, 0.4444444444444444))</td><td>Map(vectorType -> dense, length -> 3, values -> List(0.24921110991077447, 0.13710405181299212, 0.6136848382762334))</td><td>2</td><td>2</td></tr><tr><td>Map(vectorType -> dense, length -> 5, values -> List(1.0, 0.9063829462578956, 0.8133331536187295, 0.5576923076923077, 0.3611111111111111))</td><td>Map(vectorType -> dense, length -> 3, values -> List(0.1646598965776469, 0.1892321517688945, 0.6461079516534586))</td><td>2</td><td>2</td></tr><tr><td>Map(vectorType -> dense, length -> 5, values -> List(1.0, 1.0, 0.5466665208604786, 0.057692307692307696, 0.2777777777777778))</td><td>Map(vectorType -> dense, length -> 3, values -> List(0.145983313801951, 0.12285815627023439, 0.7311585299278146))</td><td>2</td><td>2</td></tr><tr><td>Map(vectorType -> dense, length -> 5, values -> List(2.0, 0.07234045799742353, 0.32000003560383666, 0.17307692307692307, 0.2361111111111111))</td><td>Map(vectorType -> dense, length -> 3, values -> List(0.8753033844206349, 0.044445154581072656, 0.08025146099829253))</td><td>0</td><td>0</td></tr><tr><td>Map(vectorType -> dense, length -> 5, values -> List(2.0, 0.09361705374210438, 0.7466664954291669, 0.2884615384615385, 0.20833333333333334))</td><td>Map(vectorType -> dense, length -> 3, values -> List(0.8993141045196721, 0.01868357907231436, 0.08200231640801342))</td><td>0</td><td>0</td></tr><tr><td>Map(vectorType -> dense, length -> 5, values -> List(2.0, 0.11489364948678524, 0.7599998779297031, 0.11538461538461539, 0.3333333333333333))</td><td>Map(vectorType -> dense, length -> 3, values -> List(0.9064746263226989, 0.015915602343679437, 0.07760977133362175))</td><td>0</td><td>0</td></tr><tr><td>Map(vectorType -> dense, length -> 5, values -> List(2.0, 0.11914890370470411, 0.9066665768093648, 0.40384615384615385, 0.2986111111111111))</td><td>Map(vectorType -> dense, length -> 3, values -> List(0.8911176887767626, 0.020039786794039526, 0.08884252442919785))</td><td>0</td><td>0</td></tr><tr><td>Map(vectorType -> dense, length -> 5, values -> List(2.0, 0.1744680201753657, 0.4399999694824258, 0.19230769230769232, 0.05555555555555555))</td><td>Map(vectorType -> dense, length -> 3, values -> List(0.842431042224182, 0.03267442247469209, 0.12489453530112592))</td><td>0</td><td>0</td></tr><tr><td>Map(vectorType -> dense, length -> 5, values -> List(2.0, 0.1787234367208278, 0.7066666022406767, 0.3269230769230769, 0.20833333333333334))</td><td>Map(vectorType -> dense, length -> 3, values -> List(0.8522281126659265, 0.028931455604367762, 0.11884043172970582))</td><td>0</td><td>0</td></tr><tr><td>Map(vectorType -> dense, length -> 5, values -> List(2.0, 0.21702121166472738, 0.4666667344834984, 0.34615384615384615, 0.2361111111111111))</td><td>Map(vectorType -> dense, length -> 3, values -> List(0.7888288136047051, 0.06576633530128807, 0.14540485109400675))</td><td>0</td><td>0</td></tr><tr><td>Map(vectorType -> dense, length -> 5, values -> List(2.0, 0.22127662821018948, 0.6266665615505776, 0.23076923076923078, 0.3333333333333333))</td><td>Map(vectorType -> dense, length -> 3, values -> List(0.8292276341164593, 0.04008544694642617, 0.13068691893711457))</td><td>0</td><td>0</td></tr><tr><td>Map(vectorType -> dense, length -> 5, values -> List(2.0, 0.31063826540683176, 0.7599998779297031, 0.38461538461538464, 0.4861111111111111))</td><td>Map(vectorType -> dense, length -> 3, values -> List(0.7582281816324035, 0.0649953165916557, 0.17677650177594084))</td><td>0</td><td>0</td></tr><tr><td>Map(vectorType -> dense, length -> 5, values -> List(2.0, 0.3404255319148936, 0.9333333418104374, 0.3653846153846154, 0.5))</td><td>Map(vectorType -> dense, length -> 3, values -> List(0.769189049391544, 0.04377403922470341, 0.18703691138375267))</td><td>0</td><td>0</td></tr><tr><td>Map(vectorType -> dense, length -> 5, values -> List(2.0, 0.3574468734416556, 0.5200000101725248, 0.34615384615384615, 0.5555555555555556))</td><td>Map(vectorType -> dense, length -> 3, values -> List(0.663661972629006, 0.13438629908362607, 0.20195172828736796))</td><td>0</td><td>0</td></tr></tbody></table></div>"
      ]
     },
     "metadata": {
      "application/vnd.databricks.v1+output": {
       "addedWidgets": {},
       "aggData": [],
       "aggError": "",
       "aggOverflow": false,
       "aggSchema": [],
       "aggSeriesLimitReached": false,
       "aggType": "",
       "arguments": {},
       "columnCustomDisplayInfos": {},
       "data": [
        [
         {
          "length": 5,
          "values": [
           0,
           0,
           0.5866666683620875,
           0.17307692307692307,
           0.05555555555555555
          ],
          "vectorType": "dense"
         },
         {
          "length": 3,
          "values": [
           0.9044455472067027,
           0.03732982651059977,
           0.05822462628269763
          ],
          "vectorType": "dense"
         },
         0,
         0
        ],
        [
         {
          "length": 5,
          "values": [
           0,
           0.02127659574468085,
           0.5599999033610149,
           0.2692307692307693,
           0.2847222222222222
          ],
          "vectorType": "dense"
         },
         {
          "length": 3,
          "values": [
           0.8610205002371472,
           0.07821972732117789,
           0.06075977244167493
          ],
          "vectorType": "dense"
         },
         0,
         0
        ],
        [
         {
          "length": 5,
          "values": [
           0,
           0.03404252072598072,
           0.6933332197401404,
           0.17307692307692307,
           0.3055555555555556
          ],
          "vectorType": "dense"
         },
         {
          "length": 3,
          "values": [
           0.8933948146599047,
           0.04775491452805716,
           0.058850270812038245
          ],
          "vectorType": "dense"
         },
         0,
         0
        ],
        [
         {
          "length": 5,
          "values": [
           0,
           0.0425531914893617,
           0.33333341810437295,
           0.3269230769230769,
           0.18055555555555555
          ],
          "vectorType": "dense"
         },
         {
          "length": 3,
          "values": [
           0.7883351742657827,
           0.13910254823774043,
           0.07256227749647698
          ],
          "vectorType": "dense"
         },
         0,
         0
        ],
        [
         {
          "length": 5,
          "values": [
           0,
           0.08085112876080452,
           0.4533333519829621,
           0.11538461538461539,
           0.041666666666666664
          ],
          "vectorType": "dense"
         },
         {
          "length": 3,
          "values": [
           0.8608783088017331,
           0.05734325469572048,
           0.08177843650254632
          ],
          "vectorType": "dense"
         },
         0,
         0
        ],
        [
         {
          "length": 5,
          "values": [
           0,
           0.14468091599484706,
           0.6533333265516502,
           0.2884615384615385,
           0.0625
          ],
          "vectorType": "dense"
         },
         {
          "length": 3,
          "values": [
           0.8309874786628647,
           0.06196598730610369,
           0.10704653403103173
          ],
          "vectorType": "dense"
         },
         0,
         0
        ],
        [
         {
          "length": 5,
          "values": [
           0,
           0.2595744031540891,
           0.6799998372396041,
           0.2884615384615385,
           0.3055555555555556
          ],
          "vectorType": "dense"
         },
         {
          "length": 3,
          "values": [
           0.7389654282886562,
           0.1156282644418229,
           0.14540630726952097
          ],
          "vectorType": "dense"
         },
         0,
         0
        ],
        [
         {
          "length": 5,
          "values": [
           0,
           0.2723404904629322,
           0,
           0.6923076923076923,
           0.5416666666666666
          ],
          "vectorType": "dense"
         },
         {
          "length": 3,
          "values": [
           0.17105237919019448,
           0.7717155092249804,
           0.05723211158482511
          ],
          "vectorType": "dense"
         },
         1,
         1
        ],
        [
         {
          "length": 5,
          "values": [
           0,
           0.28085099889876997,
           0.6000000508626238,
           0.2692307692307693,
           0.375
          ],
          "vectorType": "dense"
         },
         {
          "length": 3,
          "values": [
           0.6928545042547388,
           0.15728006636198907,
           0.1498654293832722
          ],
          "vectorType": "dense"
         },
         0,
         0
        ],
        [
         {
          "length": 5,
          "values": [
           0,
           0.3021275946434508,
           0.5733332858615512,
           0.2692307692307693,
           0.3472222222222222
          ],
          "vectorType": "dense"
         },
         {
          "length": 3,
          "values": [
           0.669755170765458,
           0.16746217196142363,
           0.16278265727311833
          ],
          "vectorType": "dense"
         },
         0,
         0
        ],
        [
         {
          "length": 5,
          "values": [
           0,
           0.30638301118891287,
           0.13333331637912543,
           0.6153846153846154,
           0.5555555555555556
          ],
          "vectorType": "dense"
         },
         {
          "length": 3,
          "values": [
           0.23256136591319906,
           0.6863264193908107,
           0.0811122146959901
          ],
          "vectorType": "dense"
         },
         1,
         1
        ],
        [
         {
          "length": 5,
          "values": [
           0,
           0.35319145689619347,
           0.06666665818956272,
           0.5961538461538461,
           0.5555555555555556
          ],
          "vectorType": "dense"
         },
         {
          "length": 3,
          "values": [
           0.1849231959763861,
           0.734137531659099,
           0.08093927236451479
          ],
          "vectorType": "dense"
         },
         1,
         1
        ],
        [
         {
          "length": 5,
          "values": [
           0,
           0.3829787234042553,
           0.06666665818956272,
           0.8076923076923077,
           0.5555555555555556
          ],
          "vectorType": "dense"
         },
         {
          "length": 3,
          "values": [
           0.11188457304885314,
           0.8239931111626634,
           0.06412231578848356
          ],
          "vectorType": "dense"
         },
         1,
         1
        ],
        [
         {
          "length": 5,
          "values": [
           0,
           0.3957446483855552,
           0.026666637844513216,
           0.576923076923077,
           0.4444444444444444
          ],
          "vectorType": "dense"
         },
         {
          "length": 3,
          "values": [
           0.17976957036407473,
           0.7208262008797549,
           0.09940422875617022
          ],
          "vectorType": "dense"
         },
         1,
         1
        ],
        [
         {
          "length": 5,
          "values": [
           0,
           0.42127666067569813,
           0.47999986267091593,
           0.7884615384615385,
           0.7083333333333334
          ],
          "vectorType": "dense"
         },
         {
          "length": 3,
          "values": [
           0.20763589031469987,
           0.6814225334924513,
           0.11094157619284872
          ],
          "vectorType": "dense"
         },
         1,
         1
        ],
        [
         {
          "length": 5,
          "values": [
           0,
           0.45106376485621674,
           0.09333329603407593,
           0.6153846153846154,
           0.4722222222222222
          ],
          "vectorType": "dense"
         },
         {
          "length": 3,
          "values": [
           0.15827660524349588,
           0.7309803472110301,
           0.11074304754547401
          ],
          "vectorType": "dense"
         },
         1,
         1
        ],
        [
         {
          "length": 5,
          "values": [
           0,
           0.45106376485621674,
           0.10666667853461222,
           0.5576923076923077,
           0.6527777777777778
          ],
          "vectorType": "dense"
         },
         {
          "length": 3,
          "values": [
           0.1437932252515519,
           0.765484037828943,
           0.09072273691950514
          ],
          "vectorType": "dense"
         },
         1,
         1
        ],
        [
         {
          "length": 5,
          "values": [
           0,
           0.45106376485621674,
           0.10666667853461222,
           0.7115384615384616,
           0.6388888888888888
          ],
          "vectorType": "dense"
         },
         {
          "length": 3,
          "values": [
           0.10785807122413117,
           0.8166891266011377,
           0.07545280217473105
          ],
          "vectorType": "dense"
         },
         1,
         1
        ],
        [
         {
          "length": 5,
          "values": [
           0,
           0.4553191814016788,
           0.14666669887966172,
           0.6538461538461539,
           0.6944444444444444
          ],
          "vectorType": "dense"
         },
         {
          "length": 3,
          "values": [
           0.12134820782832463,
           0.7982082178371122,
           0.0804435743345633
          ],
          "vectorType": "dense"
         },
         1,
         1
        ],
        [
         {
          "length": 5,
          "values": [
           0,
           0.4553191814016788,
           0.3599999287923268,
           0.8653846153846154,
           0.9027777777777778
          ],
          "vectorType": "dense"
         },
         {
          "length": 3,
          "values": [
           0.095855563970978,
           0.8422755252620827,
           0.06186891076693937
          ],
          "vectorType": "dense"
         },
         1,
         1
        ],
        [
         {
          "length": 5,
          "values": [
           0,
           0.47234036060089757,
           0.8799998118082922,
           0.25,
           0.5277777777777778
          ],
          "vectorType": "dense"
         },
         {
          "length": 3,
          "values": [
           0.5984376800218949,
           0.14689748963379148,
           0.2546648303443137
          ],
          "vectorType": "dense"
         },
         0,
         0
        ],
        [
         {
          "length": 5,
          "values": [
           0,
           0.4808510313642786,
           0.06666665818956272,
           0.7884615384615385,
           0.5555555555555556
          ],
          "vectorType": "dense"
         },
         {
          "length": 3,
          "values": [
           0.08602902243030501,
           0.8383309197786709,
           0.075640057791024
          ],
          "vectorType": "dense"
         },
         1,
         1
        ],
        [
         {
          "length": 5,
          "values": [
           0,
           0.4978723728910405,
           0.09333329603407593,
           0.6923076923076923,
           0.5416666666666666
          ],
          "vectorType": "dense"
         },
         {
          "length": 3,
          "values": [
           0.10794625055925437,
           0.79637180955757,
           0.09568193988317575
          ],
          "vectorType": "dense"
         },
         1,
         1
        ],
        [
         {
          "length": 5,
          "values": [
           0,
           0.5063830436544215,
           0.2533333774142739,
           0.826923076923077,
           0.6388888888888888
          ],
          "vectorType": "dense"
         },
         {
          "length": 3,
          "values": [
           0.10087698487779456,
           0.8076551878061571,
           0.09146782731604844
          ],
          "vectorType": "dense"
         },
         1,
         1
        ],
        [
         {
          "length": 5,
          "values": [
           0,
           0.582978755869764,
           0.2533333774142739,
           0.826923076923077,
           0.6666666666666666
          ],
          "vectorType": "dense"
         },
         {
          "length": 3,
          "values": [
           0.0761389744857045,
           0.8273275253343074,
           0.09653350017998805
          ],
          "vectorType": "dense"
         },
         1,
         1
        ],
        [
         {
          "length": 5,
          "values": [
           0,
           0.591489426633145,
           0.1200000610351485,
           0.6730769230769231,
           0.875
          ],
          "vectorType": "dense"
         },
         {
          "length": 3,
          "values": [
           0.0545643165029265,
           0.8811062518106971,
           0.06432943168637643
          ],
          "vectorType": "dense"
         },
         1,
         1
        ],
        [
         {
          "length": 5,
          "values": [
           0,
           0.591489426633145,
           0.3466665462917905,
           0.8076923076923077,
           0.75
          ],
          "vectorType": "dense"
         },
         {
          "length": 3,
          "values": [
           0.08524257799292198,
           0.8111691496414303,
           0.10358827236564788
          ],
          "vectorType": "dense"
         },
         1,
         1
        ],
        [
         {
          "length": 5,
          "values": [
           0,
           0.6042553516144448,
           0.18666671922471123,
           0.8461538461538463,
           0.7361111111111112
          ],
          "vectorType": "dense"
         },
         {
          "length": 3,
          "values": [
           0.052340856929076085,
           0.8733208129216483,
           0.07433833014927572
          ],
          "vectorType": "dense"
         },
         1,
         1
        ],
        [
         {
          "length": 5,
          "values": [
           0,
           0.6255319473591257,
           0.19999997456868815,
           0.826923076923077,
           1
          ],
          "vectorType": "dense"
         },
         {
          "length": 3,
          "values": [
           0.034820776628739517,
           0.9162694928457765,
           0.04890973052548383
          ],
          "vectorType": "dense"
         },
         1,
         1
        ],
        [
         {
          "length": 5,
          "values": [
           0,
           0.6340426181225066,
           0.28000001525878715,
           0.7307692307692308,
           0.6180555555555556
          ],
          "vectorType": "dense"
         },
         {
          "length": 3,
          "values": [
           0.08949865044875333,
           0.7756100531988661,
           0.1348912963523806
          ],
          "vectorType": "dense"
         },
         1,
         1
        ],
        [
         {
          "length": 5,
          "values": [
           0,
           0.6425531265583444,
           0.3066666531033004,
           0.9038461538461539,
           0.8333333333333334
          ],
          "vectorType": "dense"
         },
         {
          "length": 3,
          "values": [
           0.04729224552409282,
           0.8766198857076348,
           0.07608786876827227
          ],
          "vectorType": "dense"
         },
         1,
         1
        ],
        [
         {
          "length": 5,
          "values": [
           0,
           0.6595744680851063,
           0.19999997456868815,
           0.7692307692307693,
           0.8333333333333334
          ],
          "vectorType": "dense"
         },
         {
          "length": 3,
          "values": [
           0.046074674491067995,
           0.8770462797518989,
           0.076879045757033
          ],
          "vectorType": "dense"
         },
         1,
         1
        ],
        [
         {
          "length": 5,
          "values": [
           0,
           0.6595744680851063,
           0.21333335706922443,
           0.8076923076923077,
           0.7916666666666666
          ],
          "vectorType": "dense"
         },
         {
          "length": 3,
          "values": [
           0.046654502246002615,
           0.8728959911734361,
           0.08044950658056146
          ],
          "vectorType": "dense"
         },
         1,
         1
        ],
        [
         {
          "length": 5,
          "values": [
           0,
           0.6595744680851063,
           0.2933332706027641,
           0.8846153846153847,
           0.7361111111111112
          ],
          "vectorType": "dense"
         },
         {
          "length": 3,
          "values": [
           0.052269572996094936,
           0.8545388540272926,
           0.09319157297661244
          ],
          "vectorType": "dense"
         },
         1,
         1
        ],
        [
         {
          "length": 5,
          "values": [
           0,
           0.6638297223030253,
           0.17333333672417495,
           0.9038461538461539,
           0.6388888888888888
          ],
          "vectorType": "dense"
         },
         {
          "length": 3,
          "values": [
           0.04257652082425815,
           0.8721739907442356,
           0.08524948843150623
          ],
          "vectorType": "dense"
         },
         1,
         1
        ],
        [
         {
          "length": 5,
          "values": [
           0,
           0.6765958096118684,
           0.21333335706922443,
           0.8846153846153847,
           0.7916666666666666
          ],
          "vectorType": "dense"
         },
         {
          "length": 3,
          "values": [
           0.03721742394327418,
           0.8899978065641024,
           0.07278476949262346
          ],
          "vectorType": "dense"
         },
         1,
         1
        ],
        [
         {
          "length": 5,
          "values": [
           0,
           0.6808510638297872,
           0.2933332706027641,
           0.8461538461538463,
           0.7916666666666666
          ],
          "vectorType": "dense"
         },
         {
          "length": 3,
          "values": [
           0.048752908832324374,
           0.8596498988682258,
           0.0915971922994498
          ],
          "vectorType": "dense"
         },
         1,
         1
        ],
        [
         {
          "length": 5,
          "values": [
           0,
           0.7063829137923869,
           0.3466665462917905,
           0.8076923076923077,
           0.9166666666666666
          ],
          "vectorType": "dense"
         },
         {
          "length": 3,
          "values": [
           0.0460506156443153,
           0.8652274723413191,
           0.08872191201436558
          ],
          "vectorType": "dense"
         },
         1,
         1
        ],
        [
         {
          "length": 5,
          "values": [
           0,
           0.7148935845557679,
           0.06666665818956272,
           0.7692307692307693,
           0.7222222222222222
          ],
          "vectorType": "dense"
         },
         {
          "length": 3,
          "values": [
           0.03258589813505604,
           0.8907281571447804,
           0.07668594472016367
          ],
          "vectorType": "dense"
         },
         1,
         1
        ],
        [
         {
          "length": 5,
          "values": [
           0,
           0.7489361052817487,
           0.4399999694824258,
           1,
           0.7916666666666666
          ],
          "vectorType": "dense"
         },
         {
          "length": 3,
          "values": [
           0.03996185519078346,
           0.8543986104879421,
           0.10563953432127432
          ],
          "vectorType": "dense"
         },
         1,
         1
        ],
        [
         {
          "length": 5,
          "values": [
           0,
           0.8765956797498338,
           0.3066666531033004,
           1,
           0.875
          ],
          "vectorType": "dense"
         },
         {
          "length": 3,
          "values": [
           0.0163723251308213,
           0.9044544241934257,
           0.07917325067575297
          ],
          "vectorType": "dense"
         },
         1,
         1
        ],
        [
         {
          "length": 5,
          "values": [
           1,
           0.06382978723404255,
           0.4533333519829621,
           0.17307692307692307,
           0.2777777777777778
          ],
          "vectorType": "dense"
         },
         {
          "length": 3,
          "values": [
           0.8720557005004257,
           0.055362204258865566,
           0.07258209524070879
          ],
          "vectorType": "dense"
         },
         0,
         0
        ],
        [
         {
          "length": 5,
          "values": [
           1,
           0.07659571221534242,
           0.7733332604302394,
           0.23076923076923078,
           0.3055555555555556
          ],
          "vectorType": "dense"
         },
         {
          "length": 3,
          "values": [
           0.8996422750340057,
           0.029365751827205647,
           0.07099197313878858
          ],
          "vectorType": "dense"
         },
         0,
         0
        ],
        [
         {
          "length": 5,
          "values": [
           1,
           0.10638297872340426,
           0.37333331129286307,
           0.13461538461538464,
           0.19444444444444445
          ],
          "vectorType": "dense"
         },
         {
          "length": 3,
          "values": [
           0.8499097239352059,
           0.061112392147024325,
           0.0889778839177699
          ],
          "vectorType": "dense"
         },
         0,
         0
        ],
        [
         {
          "length": 5,
          "values": [
           1,
           0.11914890370470411,
           0.5466665208604786,
           0.25,
           0.18055555555555555
          ],
          "vectorType": "dense"
         },
         {
          "length": 3,
          "values": [
           0.8539811967759475,
           0.05098192741519784,
           0.09503687580885452
          ],
          "vectorType": "dense"
         },
         0,
         0
        ],
        [
         {
          "length": 5,
          "values": [
           1,
           0.15319142443068484,
           0.5200000101725248,
           0.17307692307692307,
           0.2013888888888889
          ],
          "vectorType": "dense"
         },
         {
          "length": 3,
          "values": [
           0.8431787474611748,
           0.052245317451621975,
           0.10457593508720314
          ],
          "vectorType": "dense"
         },
         0,
         0
        ],
        [
         {
          "length": 5,
          "values": [
           1,
           0.1617020951940658,
           0.7333333672417492,
           0.21153846153846156,
           0.3472222222222222
          ],
          "vectorType": "dense"
         },
         {
          "length": 3,
          "values": [
           0.8587029678185071,
           0.04281975043669155,
           0.09847728174480133
          ],
          "vectorType": "dense"
         },
         0,
         0
        ],
        [
         {
          "length": 5,
          "values": [
           1,
           0.19148936170212766,
           0.6666667090521865,
           0.13461538461538464,
           0.2638888888888889
          ],
          "vectorType": "dense"
         },
         {
          "length": 3,
          "values": [
           0.8477725622665515,
           0.04022002233241702,
           0.11200741540103146
          ],
          "vectorType": "dense"
         },
         0,
         0
        ],
        [
         {
          "length": 5,
          "values": [
           1,
           0.20000003246550863,
           0.9866666174994638,
           0.34615384615384615,
           0.4027777777777778
          ],
          "vectorType": "dense"
         },
         {
          "length": 3,
          "values": [
           0.852251377252723,
           0.03640382824801696,
           0.11134479449925992
          ],
          "vectorType": "dense"
         },
         0,
         0
        ],
        [
         {
          "length": 5,
          "values": [
           1,
           0.22127662821018948,
           0.5599999033610149,
           0.2884615384615385,
           0.4305555555555556
          ],
          "vectorType": "dense"
         },
         {
          "length": 3,
          "values": [
           0.767043211036093,
           0.10633824561335459,
           0.12661854335055245
          ],
          "vectorType": "dense"
         },
         0,
         0
        ],
        [
         {
          "length": 5,
          "values": [
           1,
           0.24255322395487033,
           0.4533333519829621,
           0.2884615384615385,
           0.19444444444444445
          ],
          "vectorType": "dense"
         },
         {
          "length": 3,
          "values": [
           0.7474113762781535,
           0.09866352239833931,
           0.15392510132350712
          ],
          "vectorType": "dense"
         },
         0,
         0
        ],
        [
         {
          "length": 5,
          "values": [
           1,
           0.24680847817278923,
           0.6399999440511139,
           0.34615384615384615,
           0.4583333333333333
          ],
          "vectorType": "dense"
         },
         {
          "length": 3,
          "values": [
           0.751974226857204,
           0.1097511517865506,
           0.1382746213562453
          ],
          "vectorType": "dense"
         },
         0,
         0
        ],
        [
         {
          "length": 5,
          "values": [
           1,
           0.2595744031540891,
           0.4666667344834984,
           0.17307692307692307,
           0.2152777777777778
          ],
          "vectorType": "dense"
         },
         {
          "length": 3,
          "values": [
           0.7638582424133936,
           0.08041628158112733,
           0.155725476005479
          ],
          "vectorType": "dense"
         },
         0,
         0
        ],
        [
         {
          "length": 5,
          "values": [
           1,
           0.2638298196995512,
           0.4399999694824258,
           0.23076923076923078,
           0.2847222222222222
          ],
          "vectorType": "dense"
         },
         {
          "length": 3,
          "values": [
           0.7336323278852757,
           0.11002983751855858,
           0.1563378345961657
          ],
          "vectorType": "dense"
         },
         0,
         0
        ],
        [
         {
          "length": 5,
          "values": [
           1,
           0.2723404904629322,
           0.6933332197401404,
           0.11538461538461539,
           0.3333333333333333
          ],
          "vectorType": "dense"
         },
         {
          "length": 3,
          "values": [
           0.8041387688197164,
           0.05005895855131687,
           0.14580227262896678
          ],
          "vectorType": "dense"
         },
         0,
         0
        ],
        [
         {
          "length": 5,
          "values": [
           1,
           0.33191486115151264,
           1,
           0.25,
           0.4027777777777778
          ],
          "vectorType": "dense"
         },
         {
          "length": 3,
          "values": [
           0.7864025941367279,
           0.03973166541056144,
           0.17386574045271055
          ],
          "vectorType": "dense"
         },
         0,
         0
        ],
        [
         {
          "length": 5,
          "values": [
           1,
           0.3829787234042553,
           0.5866666683620875,
           0.46153846153846156,
           0.19444444444444445
          ],
          "vectorType": "dense"
         },
         {
          "length": 3,
          "values": [
           0.6133522918662591,
           0.1360648101115985,
           0.2505828980221424
          ],
          "vectorType": "dense"
         },
         0,
         2
        ],
        [
         {
          "length": 5,
          "values": [
           1,
           0.46382985216505984,
           0.6666667090521865,
           0.19230769230769232,
           0.22916666666666666
          ],
          "vectorType": "dense"
         },
         {
          "length": 3,
          "values": [
           0.6250223757591453,
           0.07980246094422394,
           0.2951751632966307
          ],
          "vectorType": "dense"
         },
         0,
         2
        ],
        [
         {
          "length": 5,
          "values": [
           1,
           0.46808510638297873,
           0.4399999694824258,
           0.34615384615384615,
           0.2222222222222222
          ],
          "vectorType": "dense"
         },
         {
          "length": 3,
          "values": [
           0.5155171863537702,
           0.1816974591959588,
           0.30278535445027105
          ],
          "vectorType": "dense"
         },
         0,
         2
        ],
        [
         {
          "length": 5,
          "values": [
           1,
           0.48936170212765956,
           0.6933332197401404,
           0.3269230769230769,
           0.4027777777777778
          ],
          "vectorType": "dense"
         },
         {
          "length": 3,
          "values": [
           0.5609171740467476,
           0.1370347546177966,
           0.30204807133545597
          ],
          "vectorType": "dense"
         },
         0,
         2
        ],
        [
         {
          "length": 5,
          "values": [
           1,
           0.49361695634557845,
           0.6000000508626238,
           0,
           0.1527777777777778
          ],
          "vectorType": "dense"
         },
         {
          "length": 3,
          "values": [
           0.6262484957840995,
           0.05804890175183003,
           0.31570260246407045
          ],
          "vectorType": "dense"
         },
         0,
         2
        ],
        [
         {
          "length": 5,
          "values": [
           1,
           0.5063830436544215,
           0.5466665208604786,
           0.25,
           0.2777777777777778
          ],
          "vectorType": "dense"
         },
         {
          "length": 3,
          "values": [
           0.533664502568551,
           0.1381768149797122,
           0.32815868245173674
          ],
          "vectorType": "dense"
         },
         0,
         2
        ],
        [
         {
          "length": 5,
          "values": [
           1,
           0.5063830436544215,
           0.6533333265516502,
           0.23076923076923078,
           0.20833333333333334
          ],
          "vectorType": "dense"
         },
         {
          "length": 3,
          "values": [
           0.5696319949557439,
           0.09217273617439527,
           0.33819526886986073
          ],
          "vectorType": "dense"
         },
         0,
         2
        ],
        [
         {
          "length": 5,
          "values": [
           1,
           0.5106382978723404,
           0.5599999033610149,
           0.2692307692307693,
           0.2222222222222222
          ],
          "vectorType": "dense"
         },
         {
          "length": 3,
          "values": [
           0.5310472978452514,
           0.12758503449784095,
           0.3413676676569076
          ],
          "vectorType": "dense"
         },
         0,
         2
        ],
        [
         {
          "length": 5,
          "values": [
           1,
           0.5276596393991024,
           0.38666669379339935,
           0.2692307692307693,
           0
          ],
          "vectorType": "dense"
         },
         {
          "length": 3,
          "values": [
           0.4796683056418095,
           0.13371621120849772,
           0.3866154831496928
          ],
          "vectorType": "dense"
         },
         0,
         2
        ],
        [
         {
          "length": 5,
          "values": [
           1,
           0.5319148936170213,
           0.47999986267091593,
           0.13461538461538464,
           0.2777777777777778
          ],
          "vectorType": "dense"
         },
         {
          "length": 3,
          "values": [
           0.5220217341869061,
           0.13379236903748934,
           0.3441858967756045
          ],
          "vectorType": "dense"
         },
         0,
         2
        ],
        [
         {
          "length": 5,
          "values": [
           1,
           0.6170212765957447,
           0.7733332604302394,
           0.6153846153846154,
           0.3472222222222222
          ],
          "vectorType": "dense"
         },
         {
          "length": 3,
          "values": [
           0.37291234131218287,
           0.20483437819753797,
           0.42225328049027927
          ],
          "vectorType": "dense"
         },
         2,
         2
        ],
        [
         {
          "length": 5,
          "values": [
           1,
           0.6595744680851063,
           0.7733332604302394,
           0.34615384615384615,
           0.3333333333333333
          ],
          "vectorType": "dense"
         },
         {
          "length": 3,
          "values": [
           0.403434837177138,
           0.12885518309354643,
           0.4677099797293156
          ],
          "vectorType": "dense"
         },
         2,
         2
        ],
        [
         {
          "length": 5,
          "values": [
           1,
           0.6808510638297872,
           0.7866666429307757,
           0.44230769230769235,
           0.375
          ],
          "vectorType": "dense"
         },
         {
          "length": 3,
          "values": [
           0.3596434029915333,
           0.1619265521122823,
           0.47843004489618424
          ],
          "vectorType": "dense"
         },
         2,
         2
        ],
        [
         {
          "length": 5,
          "values": [
           1,
           0.6936169888110871,
           0.6399999440511139,
           0.44230769230769235,
           0.4861111111111111
          ],
          "vectorType": "dense"
         },
         {
          "length": 3,
          "values": [
           0.3020847069225685,
           0.26106305406922176,
           0.4368522390082097
          ],
          "vectorType": "dense"
         },
         2,
         2
        ],
        [
         {
          "length": 5,
          "values": [
           1,
           0.6936169888110871,
           0.7066666022406767,
           0.6153846153846154,
           0.3888888888888889
          ],
          "vectorType": "dense"
         },
         {
          "length": 3,
          "values": [
           0.28221271815579696,
           0.2600374598476943,
           0.45774982199650877
          ],
          "vectorType": "dense"
         },
         2,
         2
        ],
        [
         {
          "length": 5,
          "values": [
           1,
           0.6978724053565492,
           0.5599999033610149,
           0.34615384615384615,
           0.2708333333333333
          ],
          "vectorType": "dense"
         },
         {
          "length": 3,
          "values": [
           0.31909821397599336,
           0.18870682260767518,
           0.4921949634163314
          ],
          "vectorType": "dense"
         },
         2,
         2
        ],
        [
         {
          "length": 5,
          "values": [
           1,
           0.6978724053565492,
           0.719999984741213,
           0.34615384615384615,
           0.2361111111111111
          ],
          "vectorType": "dense"
         },
         {
          "length": 3,
          "values": [
           0.3557438522110937,
           0.1262014675538409,
           0.5180546802350654
          ],
          "vectorType": "dense"
         },
         2,
         2
        ],
        [
         {
          "length": 5,
          "values": [
           1,
           0.7148935845557679,
           0.7333333672417492,
           0.2884615384615385,
           0.2638888888888889
          ],
          "vectorType": "dense"
         },
         {
          "length": 3,
          "values": [
           0.35432060343635735,
           0.11690030192890356,
           0.5287790946347389
          ],
          "vectorType": "dense"
         },
         2,
         2
        ],
        [
         {
          "length": 5,
          "values": [
           1,
           0.7148935845557679,
           0.8266665361192658,
           0.38461538461538464,
           0.2777777777777778
          ],
          "vectorType": "dense"
         },
         {
          "length": 3,
          "values": [
           0.35128583915766126,
           0.11569150775585961,
           0.5330226530864791
          ],
          "vectorType": "dense"
         },
         2,
         2
        ],
        [
         {
          "length": 5,
          "values": [
           1,
           0.7446808510638298,
           0.7066666022406767,
           0.3653846153846154,
           0.4027777777777778
          ],
          "vectorType": "dense"
         },
         {
          "length": 3,
          "values": [
           0.29960250468278404,
           0.18188602090561418,
           0.5185114744116018
          ],
          "vectorType": "dense"
         },
         2,
         2
        ],
        [
         {
          "length": 5,
          "values": [
           1,
           0.8085106382978723,
           0.8266665361192658,
           0.5192307692307693,
           0.5
          ],
          "vectorType": "dense"
         },
         {
          "length": 3,
          "values": [
           0.23426977280570996,
           0.21779765379882018,
           0.54793257339547
          ],
          "vectorType": "dense"
         },
         2,
         2
        ],
        [
         {
          "length": 5,
          "values": [
           1,
           0.8382979048059341,
           0.946666469997855,
           0.44230769230769235,
           0.4444444444444444
          ],
          "vectorType": "dense"
         },
         {
          "length": 3,
          "values": [
           0.24921110991077447,
           0.13710405181299212,
           0.6136848382762334
          ],
          "vectorType": "dense"
         },
         2,
         2
        ],
        [
         {
          "length": 5,
          "values": [
           1,
           0.9063829462578956,
           0.8133331536187295,
           0.5576923076923077,
           0.3611111111111111
          ],
          "vectorType": "dense"
         },
         {
          "length": 3,
          "values": [
           0.1646598965776469,
           0.1892321517688945,
           0.6461079516534586
          ],
          "vectorType": "dense"
         },
         2,
         2
        ],
        [
         {
          "length": 5,
          "values": [
           1,
           1,
           0.5466665208604786,
           0.057692307692307696,
           0.2777777777777778
          ],
          "vectorType": "dense"
         },
         {
          "length": 3,
          "values": [
           0.145983313801951,
           0.12285815627023439,
           0.7311585299278146
          ],
          "vectorType": "dense"
         },
         2,
         2
        ],
        [
         {
          "length": 5,
          "values": [
           2,
           0.07234045799742353,
           0.32000003560383666,
           0.17307692307692307,
           0.2361111111111111
          ],
          "vectorType": "dense"
         },
         {
          "length": 3,
          "values": [
           0.8753033844206349,
           0.044445154581072656,
           0.08025146099829253
          ],
          "vectorType": "dense"
         },
         0,
         0
        ],
        [
         {
          "length": 5,
          "values": [
           2,
           0.09361705374210438,
           0.7466664954291669,
           0.2884615384615385,
           0.20833333333333334
          ],
          "vectorType": "dense"
         },
         {
          "length": 3,
          "values": [
           0.8993141045196721,
           0.01868357907231436,
           0.08200231640801342
          ],
          "vectorType": "dense"
         },
         0,
         0
        ],
        [
         {
          "length": 5,
          "values": [
           2,
           0.11489364948678524,
           0.7599998779297031,
           0.11538461538461539,
           0.3333333333333333
          ],
          "vectorType": "dense"
         },
         {
          "length": 3,
          "values": [
           0.9064746263226989,
           0.015915602343679437,
           0.07760977133362175
          ],
          "vectorType": "dense"
         },
         0,
         0
        ],
        [
         {
          "length": 5,
          "values": [
           2,
           0.11914890370470411,
           0.9066665768093648,
           0.40384615384615385,
           0.2986111111111111
          ],
          "vectorType": "dense"
         },
         {
          "length": 3,
          "values": [
           0.8911176887767626,
           0.020039786794039526,
           0.08884252442919785
          ],
          "vectorType": "dense"
         },
         0,
         0
        ],
        [
         {
          "length": 5,
          "values": [
           2,
           0.1744680201753657,
           0.4399999694824258,
           0.19230769230769232,
           0.05555555555555555
          ],
          "vectorType": "dense"
         },
         {
          "length": 3,
          "values": [
           0.842431042224182,
           0.03267442247469209,
           0.12489453530112592
          ],
          "vectorType": "dense"
         },
         0,
         0
        ],
        [
         {
          "length": 5,
          "values": [
           2,
           0.1787234367208278,
           0.7066666022406767,
           0.3269230769230769,
           0.20833333333333334
          ],
          "vectorType": "dense"
         },
         {
          "length": 3,
          "values": [
           0.8522281126659265,
           0.028931455604367762,
           0.11884043172970582
          ],
          "vectorType": "dense"
         },
         0,
         0
        ],
        [
         {
          "length": 5,
          "values": [
           2,
           0.21702121166472738,
           0.4666667344834984,
           0.34615384615384615,
           0.2361111111111111
          ],
          "vectorType": "dense"
         },
         {
          "length": 3,
          "values": [
           0.7888288136047051,
           0.06576633530128807,
           0.14540485109400675
          ],
          "vectorType": "dense"
         },
         0,
         0
        ],
        [
         {
          "length": 5,
          "values": [
           2,
           0.22127662821018948,
           0.6266665615505776,
           0.23076923076923078,
           0.3333333333333333
          ],
          "vectorType": "dense"
         },
         {
          "length": 3,
          "values": [
           0.8292276341164593,
           0.04008544694642617,
           0.13068691893711457
          ],
          "vectorType": "dense"
         },
         0,
         0
        ],
        [
         {
          "length": 5,
          "values": [
           2,
           0.31063826540683176,
           0.7599998779297031,
           0.38461538461538464,
           0.4861111111111111
          ],
          "vectorType": "dense"
         },
         {
          "length": 3,
          "values": [
           0.7582281816324035,
           0.0649953165916557,
           0.17677650177594084
          ],
          "vectorType": "dense"
         },
         0,
         0
        ],
        [
         {
          "length": 5,
          "values": [
           2,
           0.3404255319148936,
           0.9333333418104374,
           0.3653846153846154,
           0.5
          ],
          "vectorType": "dense"
         },
         {
          "length": 3,
          "values": [
           0.769189049391544,
           0.04377403922470341,
           0.18703691138375267
          ],
          "vectorType": "dense"
         },
         0,
         0
        ],
        [
         {
          "length": 5,
          "values": [
           2,
           0.3574468734416556,
           0.5200000101725248,
           0.34615384615384615,
           0.5555555555555556
          ],
          "vectorType": "dense"
         },
         {
          "length": 3,
          "values": [
           0.663661972629006,
           0.13438629908362607,
           0.20195172828736796
          ],
          "vectorType": "dense"
         },
         0,
         0
        ]
       ],
       "datasetInfos": [],
       "dbfsResultPath": null,
       "isJsonSchema": true,
       "metadata": {},
       "overflow": false,
       "plotOptions": {
        "customPlotOptions": {},
        "displayType": "table",
        "pivotAggregation": null,
        "pivotColumns": null,
        "xColumns": null,
        "yColumns": null
       },
       "removedWidgets": [],
       "schema": [
        {
         "metadata": "{\"ml_attr\":{\"attrs\":{\"numeric\":[{\"idx\":1,\"name\":\"normalizedFeatures_0\"},{\"idx\":2,\"name\":\"normalizedFeatures_1\"},{\"idx\":3,\"name\":\"normalizedFeatures_2\"},{\"idx\":4,\"name\":\"normalizedFeatures_3\"}],\"nominal\":[{\"vals\":[\"Biscoe\",\"Dream\",\"Torgersen\"],\"idx\":0,\"name\":\"IslandIdx\"}]},\"num_attrs\":5}}",
         "name": "features",
         "type": "{\"type\":\"udt\",\"class\":\"org.apache.spark.ml.linalg.VectorUDT\",\"pyClass\":\"pyspark.ml.linalg.VectorUDT\",\"sqlType\":{\"type\":\"struct\",\"fields\":[{\"name\":\"type\",\"type\":\"byte\",\"nullable\":false,\"metadata\":{}},{\"name\":\"size\",\"type\":\"integer\",\"nullable\":true,\"metadata\":{}},{\"name\":\"indices\",\"type\":{\"type\":\"array\",\"elementType\":\"integer\",\"containsNull\":false},\"nullable\":true,\"metadata\":{}},{\"name\":\"values\",\"type\":{\"type\":\"array\",\"elementType\":\"double\",\"containsNull\":false},\"nullable\":true,\"metadata\":{}}]}}"
        },
        {
         "metadata": "{\"ml_attr\":{\"num_attrs\":3}}",
         "name": "probability",
         "type": "{\"type\":\"udt\",\"class\":\"org.apache.spark.ml.linalg.VectorUDT\",\"pyClass\":\"pyspark.ml.linalg.VectorUDT\",\"sqlType\":{\"type\":\"struct\",\"fields\":[{\"name\":\"type\",\"type\":\"byte\",\"nullable\":false,\"metadata\":{}},{\"name\":\"size\",\"type\":\"integer\",\"nullable\":true,\"metadata\":{}},{\"name\":\"indices\",\"type\":{\"type\":\"array\",\"elementType\":\"integer\",\"containsNull\":false},\"nullable\":true,\"metadata\":{}},{\"name\":\"values\",\"type\":{\"type\":\"array\",\"elementType\":\"double\",\"containsNull\":false},\"nullable\":true,\"metadata\":{}}]}}"
        },
        {
         "metadata": "{}",
         "name": "prediction",
         "type": "\"integer\""
        },
        {
         "metadata": "{}",
         "name": "trueLabel",
         "type": "\"integer\""
        }
       ],
       "type": "table"
      }
     },
     "output_type": "display_data"
    }
   ],
   "source": [
    "# Prepare the test data\n",
    "indexedTestData = indexer.fit(test).transform(test).drop(\"Island\")\n",
    "vectorizedTestData = numericColVector.transform(indexedTestData)\n",
    "scaledTestData = minMax.fit(vectorizedTestData).transform(vectorizedTestData)\n",
    "preppedTestData = featVect.transform(scaledTestData)[col(\"featuresVector\").alias(\"features\"), col(\"Species\").alias(\"label\")]\n",
    "   \n",
    "# Get predictions\n",
    "prediction = model.transform(preppedTestData)\n",
    "predicted = prediction.select(\"features\", \"probability\", col(\"prediction\").astype(\"Int\"), col(\"label\").alias(\"trueLabel\"))\n",
    "display(predicted)"
   ]
  },
  {
   "cell_type": "markdown",
   "metadata": {
    "application/vnd.databricks.v1+cell": {
     "cellMetadata": {},
     "inputWidgets": {},
     "nuid": "fda1e743-eb6b-42a7-9228-96125ca7b78d",
     "showTitle": false,
     "tableResultSettingsMap": {},
     "title": ""
    }
   },
   "source": [
    "* features: The prepared features data from the test dataset.\n",
    "* probability: The probability calculated by the model for each class. This consists of a vector containing three probability values (because there are three classes) which add up to a total of 1.0 (its assumed that there’s a 100% probability that the penguin belongs to one of the three species classes).\n",
    "* prediction: The predicted class label (the one with the highest probability).\n",
    "* trueLabel: The actual known label value from the test data.\n",
    "\n",
    "get evaluation metrics for a classification model based on the results from the test data"
   ]
  },
  {
   "cell_type": "code",
   "execution_count": 0,
   "metadata": {
    "application/vnd.databricks.v1+cell": {
     "cellMetadata": {
      "byteLimit": 2048000,
      "rowLimit": 10000
     },
     "inputWidgets": {},
     "nuid": "c014cbd5-5722-4785-8067-5ae7f6b44338",
     "showTitle": false,
     "tableResultSettingsMap": {},
     "title": ""
    }
   },
   "outputs": [
    {
     "name": "stdout",
     "output_type": "stream",
     "text": [
      "Accuracy: 0.8901098901098901\n",
      "\n",
      "Individual class metrics:\n",
      "Class 0\n",
      "\tPrecision: 0.782608695652174\n",
      "\tRecall: 1.0\n",
      "\tF1 Score: 0.878048780487805\n",
      "Class 1\n",
      "\tPrecision: 1.0\n",
      "\tRecall: 1.0\n",
      "\tF1 Score: 1.0\n",
      "Class 2\n",
      "\tPrecision: 1.0\n",
      "\tRecall: 0.5833333333333334\n",
      "\tF1 Score: 0.7368421052631579\n",
      "Overall Precision: 0.9139990444338271\n",
      "Overall Recall: 0.8901098901098901\n",
      "Overall F1 Score: 0.8823512815810634\n"
     ]
    }
   ],
   "source": [
    "from pyspark.ml.evaluation import MulticlassClassificationEvaluator\n",
    "   \n",
    "evaluator = MulticlassClassificationEvaluator(labelCol=\"label\", predictionCol=\"prediction\")\n",
    "   \n",
    "# Simple accuracy\n",
    "accuracy = evaluator.evaluate(prediction, {evaluator.metricName:\"accuracy\"})\n",
    "print(\"Accuracy:\", accuracy)\n",
    "   \n",
    "# Individual class metrics\n",
    "labels = [0,1,2]\n",
    "print(\"\\nIndividual class metrics:\")\n",
    "for label in sorted(labels):\n",
    "  print (\"Class %s\" % (label))\n",
    "  \n",
    "  # Precision\n",
    "  precision = evaluator.evaluate(prediction, {evaluator.metricLabel:label,\n",
    "    evaluator.metricName:\"precisionByLabel\"})\n",
    "  print(\"\\tPrecision:\", precision)\n",
    "  \n",
    "  # Recall\n",
    "  recall = evaluator.evaluate(prediction, {evaluator.metricLabel:label,\n",
    "    evaluator.metricName:\"recallByLabel\"})\n",
    "  print(\"\\tRecall:\", recall)\n",
    "  \n",
    "  # F1 score\n",
    "  f1 = evaluator.evaluate(prediction, {evaluator.metricLabel:label,\n",
    "    evaluator.metricName:\"fMeasureByLabel\"})\n",
    "  print(\"\\tF1 Score:\", f1)\n",
    "   \n",
    "# Weighted (overall) metrics\n",
    "overallPrecision = evaluator.evaluate(prediction, {evaluator.metricName:\"weightedPrecision\"})\n",
    "print(\"Overall Precision:\", overallPrecision)\n",
    "overallRecall = evaluator.evaluate(prediction, {evaluator.metricName:\"weightedRecall\"})\n",
    "print(\"Overall Recall:\", overallRecall)\n",
    "overallF1 = evaluator.evaluate(prediction, {evaluator.metricName:\"weightedFMeasure\"})\n",
    "print(\"Overall F1 Score:\", overallF1)"
   ]
  },
  {
   "cell_type": "markdown",
   "metadata": {
    "application/vnd.databricks.v1+cell": {
     "cellMetadata": {},
     "inputWidgets": {},
     "nuid": "02f033dd-3b17-4fb1-8bf7-799cc2fbc1b4",
     "showTitle": false,
     "tableResultSettingsMap": {},
     "title": ""
    }
   },
   "source": [
    "* Accuracy: The proportion of overall predictions that were correct.\n",
    "* Per-class metrics:\n",
    "  * Precision: The proportion of predictions of this class that were correct.\n",
    "  * Recall: The proportion of actual instances of this class that were correctly predicted.\n",
    "  * F1 score: A combined metric for precision and recall\n",
    "* Combined (weighted) precision, recall, and F1 metrics for all classes."
   ]
  },
  {
   "cell_type": "markdown",
   "metadata": {
    "application/vnd.databricks.v1+cell": {
     "cellMetadata": {},
     "inputWidgets": {},
     "nuid": "67b946c6-e3ec-4744-a975-c951e54456f1",
     "showTitle": false,
     "tableResultSettingsMap": {},
     "title": ""
    }
   },
   "source": [
    "### Use a pipeline\n",
    "\n",
    "You trained your model by performing the required feature engineering steps and then fitting an algorithm to the data. To use the model with some test data to generate predictions (referred to as inferencing), you had to apply the same feature engineering steps to the test data. A more efficient way to build and use models is to encapsulate the transformers used to prepare the data and the model used to train it in a pipeline.\n",
    "\n",
    "Create a pipeline that encapsulates the data preparation and model training steps"
   ]
  },
  {
   "cell_type": "code",
   "execution_count": 0,
   "metadata": {
    "application/vnd.databricks.v1+cell": {
     "cellMetadata": {
      "byteLimit": 2048000,
      "rowLimit": 10000
     },
     "inputWidgets": {},
     "nuid": "a9a0db19-ebb9-4a0b-8a88-3c2855bf70a0",
     "showTitle": false,
     "tableResultSettingsMap": {},
     "title": ""
    }
   },
   "outputs": [
    {
     "data": {
      "application/vnd.jupyter.widget-view+json": {
       "model_id": "75c61a1556514a55a489658bb26d492a",
       "version_major": 2,
       "version_minor": 0
      },
      "text/plain": [
       "Downloading artifacts:   0%|          | 0/45 [00:00<?, ?it/s]"
      ]
     },
     "metadata": {},
     "output_type": "display_data"
    },
    {
     "data": {
      "application/vnd.jupyter.widget-view+json": {
       "model_id": "d3e11f9d023542c492fe40bbcdc3ef14",
       "version_major": 2,
       "version_minor": 0
      },
      "text/plain": [
       "Uploading artifacts:   0%|          | 0/4 [00:00<?, ?it/s]"
      ]
     },
     "metadata": {},
     "output_type": "display_data"
    },
    {
     "name": "stdout",
     "output_type": "stream",
     "text": [
      "Model trained!\n"
     ]
    }
   ],
   "source": [
    "from pyspark.ml import Pipeline\n",
    "from pyspark.ml.feature import StringIndexer, VectorAssembler, MinMaxScaler\n",
    "from pyspark.ml.classification import LogisticRegression\n",
    "   \n",
    "catFeature = \"Island\"\n",
    "numFeatures = [\"CulmenLength\", \"CulmenDepth\", \"FlipperLength\", \"BodyMass\"]\n",
    "   \n",
    "# Define the feature engineering and model training algorithm steps\n",
    "catIndexer = StringIndexer(inputCol=catFeature, outputCol=catFeature + \"Idx\")\n",
    "numVector = VectorAssembler(inputCols=numFeatures, outputCol=\"numericFeatures\")\n",
    "numScaler = MinMaxScaler(inputCol = numVector.getOutputCol(), outputCol=\"normalizedFeatures\")\n",
    "featureVector = VectorAssembler(inputCols=[\"IslandIdx\", \"normalizedFeatures\"], outputCol=\"Features\")\n",
    "algo = LogisticRegression(labelCol=\"Species\", featuresCol=\"Features\", maxIter=10, regParam=0.3)\n",
    "   \n",
    "# Chain the steps as stages in a pipeline\n",
    "pipeline = Pipeline(stages=[catIndexer, numVector, numScaler, featureVector, algo])\n",
    "   \n",
    "# Use the pipeline to prepare data and fit the model algorithm\n",
    "model = pipeline.fit(train)\n",
    "print (\"Model trained!\")"
   ]
  },
  {
   "cell_type": "markdown",
   "metadata": {
    "application/vnd.databricks.v1+cell": {
     "cellMetadata": {},
     "inputWidgets": {},
     "nuid": "2784bda9-0948-48fb-9d3d-a09d1c1a5537",
     "showTitle": false,
     "tableResultSettingsMap": {},
     "title": ""
    }
   },
   "source": [
    "Since the feature engineering steps are now encapsulated in the model trained by the pipeline, you can use the model with the test data without needing to apply each transformation (they’ll be applied automatically by the model).\n",
    "\n",
    "Apply the pipeline to the test data"
   ]
  },
  {
   "cell_type": "code",
   "execution_count": 0,
   "metadata": {
    "application/vnd.databricks.v1+cell": {
     "cellMetadata": {
      "byteLimit": 2048000,
      "rowLimit": 10000
     },
     "inputWidgets": {},
     "nuid": "5bcd7b4a-03b8-4d46-a0d1-6efe70cf349b",
     "showTitle": false,
     "tableResultSettingsMap": {},
     "title": ""
    }
   },
   "outputs": [
    {
     "data": {
      "text/html": [
       "<style scoped>\n",
       "  .table-result-container {\n",
       "    max-height: 300px;\n",
       "    overflow: auto;\n",
       "  }\n",
       "  table, th, td {\n",
       "    border: 1px solid black;\n",
       "    border-collapse: collapse;\n",
       "  }\n",
       "  th, td {\n",
       "    padding: 5px;\n",
       "  }\n",
       "  th {\n",
       "    text-align: left;\n",
       "  }\n",
       "</style><div class='table-result-container'><table class='table-result'><thead style='background-color: white'><tr><th>Features</th><th>probability</th><th>prediction</th><th>trueLabel</th></tr></thead><tbody><tr><td>Map(vectorType -> dense, length -> 5, values -> List(0.0, 0.08727278275923295, 0.5952381222696814, 0.2542372881355932, 0.015625))</td><td>Map(vectorType -> dense, length -> 3, values -> List(0.8600654621440087, 0.05272275500971718, 0.08721178284627418))</td><td>0</td><td>0</td></tr><tr><td>Map(vectorType -> dense, length -> 5, values -> List(0.0, 0.10545460094105114, 0.5714285065527647, 0.3389830508474576, 0.2734375))</td><td>Map(vectorType -> dense, length -> 3, values -> List(0.8043831315095489, 0.10903148871629018, 0.08658537977416107))</td><td>0</td><td>0</td></tr><tr><td>Map(vectorType -> dense, length -> 5, values -> List(0.0, 0.1163636641068892, 0.6904761310067009, 0.2542372881355932, 0.296875))</td><td>Map(vectorType -> dense, length -> 3, values -> List(0.843064474421891, 0.07186204450202806, 0.08507348107608095))</td><td>0</td><td>0</td></tr><tr><td>Map(vectorType -> dense, length -> 5, values -> List(0.0, 0.12363641912286931, 0.3690476812202672, 0.3898305084745763, 0.15625))</td><td>Map(vectorType -> dense, length -> 3, values -> List(0.7294587650054535, 0.17059439702997495, 0.09994683796457159))</td><td>0</td><td>0</td></tr><tr><td>Map(vectorType -> dense, length -> 5, values -> List(0.0, 0.1563637473366477, 0.47619049781574513, 0.2033898305084746, 0.0))</td><td>Map(vectorType -> dense, length -> 3, values -> List(0.8101205090029675, 0.07504685201824543, 0.11483263897878696))</td><td>0</td><td>0</td></tr><tr><td>Map(vectorType -> dense, length -> 5, values -> List(0.0, 0.21090920188210227, 0.6547619344966495, 0.3559322033898305, 0.0234375))</td><td>Map(vectorType -> dense, length -> 3, values -> List(0.7779183297320522, 0.0793501455030605, 0.14273152476488735))</td><td>0</td><td>0</td></tr><tr><td>Map(vectorType -> dense, length -> 5, values -> List(0.0, 0.3090909090909091, 0.6785713231482425, 0.3559322033898305, 0.296875))</td><td>Map(vectorType -> dense, length -> 3, values -> List(0.6788846725124053, 0.1462061812806686, 0.174909146206926))</td><td>0</td><td>0</td></tr><tr><td>Map(vectorType -> dense, length -> 5, values -> List(0.0, 0.32000011097301134, 0.07142850655276464, 0.711864406779661, 0.5625))</td><td>Map(vectorType -> dense, length -> 3, values -> List(0.16347329710551844, 0.7704479304646414, 0.06607877242984007))</td><td>1</td><td>1</td></tr><tr><td>Map(vectorType -> dense, length -> 5, values -> List(0.0, 0.32727272727272727, 0.6071429301281398, 0.3389830508474576, 0.375))</td><td>Map(vectorType -> dense, length -> 3, values -> List(0.6304612397533593, 0.1943578352797864, 0.1751809249668543))</td><td>0</td><td>0</td></tr><tr><td>Map(vectorType -> dense, length -> 5, values -> List(0.0, 0.34545454545454546, 0.583333314411223, 0.3389830508474576, 0.34375))</td><td>Map(vectorType -> dense, length -> 3, values -> List(0.6100505977506275, 0.20212548600597946, 0.1878239162433929))</td><td>0</td><td>0</td></tr><tr><td>Map(vectorType -> dense, length -> 5, values -> List(0.0, 0.3490909923206676, 0.19047613100670094, 0.6440677966101694, 0.578125))</td><td>Map(vectorType -> dense, length -> 3, values -> List(0.21484085356993868, 0.6956093259314041, 0.0895498204986572))</td><td>1</td><td>1</td></tr><tr><td>Map(vectorType -> dense, length -> 5, values -> List(0.0, 0.3890909368341619, 0.1309523187797328, 0.6271186440677966, 0.578125))</td><td>Map(vectorType -> dense, length -> 3, values -> List(0.1753509309729075, 0.7358380940076451, 0.08881097501944746))</td><td>1</td><td>1</td></tr><tr><td>Map(vectorType -> dense, length -> 5, values -> List(0.0, 0.4145455100319602, 0.1309523187797328, 0.8135593220338984, 0.578125))</td><td>Map(vectorType -> dense, length -> 3, values -> List(0.11292936041605306, 0.8147959187146953, 0.07227472086925166))</td><td>1</td><td>1</td></tr><tr><td>Map(vectorType -> dense, length -> 5, values -> List(0.0, 0.4254545731977983, 0.09523800873701953, 0.6101694915254238, 0.453125))</td><td>Map(vectorType -> dense, length -> 3, values -> List(0.17701252164245662, 0.7123637120668975, 0.11062376629064578))</td><td>1</td><td>1</td></tr><tr><td>Map(vectorType -> dense, length -> 5, values -> List(0.0, 0.4472728382457386, 0.4999998864673381, 0.7966101694915254, 0.75))</td><td>Map(vectorType -> dense, length -> 3, values -> List(0.1883915436742234, 0.7004166738602114, 0.11119178246556523))</td><td>1</td><td>1</td></tr><tr><td>Map(vectorType -> dense, length -> 5, values -> List(0.0, 0.4727272727272727, 0.15476182096398766, 0.6440677966101694, 0.484375))</td><td>Map(vectorType -> dense, length -> 3, values -> List(0.15766542126347738, 0.7222090215096194, 0.12012555722690307))</td><td>1</td><td>1</td></tr><tr><td>Map(vectorType -> dense, length -> 5, values -> List(0.0, 0.4727272727272727, 0.16666662882244604, 0.5932203389830508, 0.6875))</td><td>Map(vectorType -> dense, length -> 3, values -> List(0.1370461883652603, 0.7690416338961935, 0.09391217773854621))</td><td>1</td><td>1</td></tr><tr><td>Map(vectorType -> dense, length -> 5, values -> List(0.0, 0.4727272727272727, 0.16666662882244604, 0.7288135593220338, 0.671875))</td><td>Map(vectorType -> dense, length -> 3, values -> List(0.10683371576209476, 0.8128910158655583, 0.08027526837234697))</td><td>1</td><td>1</td></tr><tr><td>Map(vectorType -> dense, length -> 5, values -> List(0.0, 0.47636371959339485, 0.20238093886515932, 0.6779661016949152, 0.734375))</td><td>Map(vectorType -> dense, length -> 3, values -> List(0.11646446830093278, 0.8005143977443395, 0.08302113395472781))</td><td>1</td><td>1</td></tr><tr><td>Map(vectorType -> dense, length -> 5, values -> List(0.0, 0.47636371959339485, 0.39285706987186025, 0.864406779661017, 0.96875))</td><td>Map(vectorType -> dense, length -> 3, values -> List(0.08828912663840138, 0.8513432052506097, 0.060367668110989085))</td><td>1</td><td>1</td></tr><tr><td>Map(vectorType -> dense, length -> 5, values -> List(0.0, 0.4909090909090909, 0.857142759829147, 0.3220338983050847, 0.546875))</td><td>Map(vectorType -> dense, length -> 3, values -> List(0.5464776245901074, 0.18784592465909253, 0.2656764507508))</td><td>0</td><td>0</td></tr><tr><td>Map(vectorType -> dense, length -> 5, values -> List(0.0, 0.498181845925071, 0.1309523187797328, 0.7966101694915254, 0.578125))</td><td>Map(vectorType -> dense, length -> 3, values -> List(0.09028124695168371, 0.8264530492829022, 0.08326570376541415))</td><td>1</td><td>1</td></tr><tr><td>Map(vectorType -> dense, length -> 5, values -> List(0.0, 0.5127273559570312, 0.15476182096398766, 0.711864406779661, 0.5625))</td><td>Map(vectorType -> dense, length -> 3, values -> List(0.11072911469056933, 0.786522795061995, 0.10274809024743559))</td><td>1</td><td>1</td></tr><tr><td>Map(vectorType -> dense, length -> 5, values -> List(0.0, 0.5200001109730114, 0.2976190611348407, 0.8305084745762712, 0.671875))</td><td>Map(vectorType -> dense, length -> 3, values -> List(0.10149429511042031, 0.8033601563098106, 0.095145548579769))</td><td>1</td><td>1</td></tr><tr><td>Map(vectorType -> dense, length -> 5, values -> List(0.0, 0.585454628684304, 0.2976190611348407, 0.8305084745762712, 0.703125))</td><td>Map(vectorType -> dense, length -> 3, values -> List(0.07899433949338004, 0.822635522792135, 0.0983701377144848))</td><td>1</td><td>1</td></tr><tr><td>Map(vectorType -> dense, length -> 5, values -> List(0.0, 0.5927273837002841, 0.17857143668090442, 0.6949152542372882, 0.9375))</td><td>Map(vectorType -> dense, length -> 3, values -> List(0.05445230997995524, 0.8830462142614235, 0.06250147575862121))</td><td>1</td><td>1</td></tr><tr><td>Map(vectorType -> dense, length -> 5, values -> List(0.0, 0.5927273837002841, 0.3809522620134019, 0.8135593220338984, 0.796875))</td><td>Map(vectorType -> dense, length -> 3, values -> List(0.08504421593250508, 0.8137819178822912, 0.10117386618520373))</td><td>1</td><td>1</td></tr><tr><td>Map(vectorType -> dense, length -> 5, values -> List(0.0, 0.6036364468661222, 0.23809524890787256, 0.847457627118644, 0.78125))</td><td>Map(vectorType -> dense, length -> 3, values -> List(0.05546040876926222, 0.8688107736324834, 0.07572881759825432))</td><td>1</td><td>1</td></tr><tr><td>Map(vectorType -> dense, length -> 5, values -> List(0.0, 0.6218182650479404, 0.24999994323366906, 0.8305084745762712, 1.078125))</td><td>Map(vectorType -> dense, length -> 3, values -> List(0.03509070263869778, 0.9185970701249971, 0.04631222723630503))</td><td>1</td><td>1</td></tr><tr><td>Map(vectorType -> dense, length -> 5, values -> List(0.0, 0.6290910200639204, 0.3214285633190956, 0.7457627118644068, 0.6484375))</td><td>Map(vectorType -> dense, length -> 3, values -> List(0.09297655791865612, 0.772491846630254, 0.13453159545108986))</td><td>1</td><td>1</td></tr><tr><td>Map(vectorType -> dense, length -> 5, values -> List(0.0, 0.6363636363636364, 0.34523806550335046, 0.8983050847457628, 0.890625))</td><td>Map(vectorType -> dense, length -> 3, values -> List(0.04926101809427107, 0.876644432898083, 0.07409454900764585))</td><td>1</td><td>1</td></tr><tr><td>Map(vectorType -> dense, length -> 5, values -> List(0.0, 0.6509091463955966, 0.24999994323366906, 0.7796610169491526, 0.890625))</td><td>Map(vectorType -> dense, length -> 3, values -> List(0.04806909610406802, 0.8773837886333877, 0.07454711526254428))</td><td>1</td><td>1</td></tr><tr><td>Map(vectorType -> dense, length -> 5, values -> List(0.0, 0.6509091463955966, 0.26190475109212746, 0.8135593220338984, 0.84375))</td><td>Map(vectorType -> dense, length -> 3, values -> List(0.04938295085314908, 0.8715155470036015, 0.0791015021432496))</td><td>1</td><td>1</td></tr><tr><td>Map(vectorType -> dense, length -> 5, values -> List(0.0, 0.6509091463955966, 0.3333332576448921, 0.8813559322033898, 0.78125))</td><td>Map(vectorType -> dense, length -> 3, values -> List(0.055821267622413545, 0.851711325960759, 0.09246740641682731))</td><td>1</td><td>1</td></tr><tr><td>Map(vectorType -> dense, length -> 5, values -> List(0.0, 0.6545454545454545, 0.2261904410494142, 0.8983050847457628, 0.671875))</td><td>Map(vectorType -> dense, length -> 3, values -> List(0.04817414389995553, 0.8627186699395212, 0.08910718616052332))</td><td>1</td><td>1</td></tr><tr><td>Map(vectorType -> dense, length -> 5, values -> List(0.0, 0.6654546564275567, 0.26190475109212746, 0.8813559322033898, 0.84375))</td><td>Map(vectorType -> dense, length -> 3, values -> List(0.04054836572090186, 0.8870300172450002, 0.07242161703409816))</td><td>1</td><td>1</td></tr><tr><td>Map(vectorType -> dense, length -> 5, values -> List(0.0, 0.6690909645774148, 0.3333332576448921, 0.847457627118644, 0.84375))</td><td>Map(vectorType -> dense, length -> 3, values -> List(0.05155423192033316, 0.8596449762674165, 0.08880079181225023))</td><td>1</td><td>1</td></tr><tr><td>Map(vectorType -> dense, length -> 5, values -> List(0.0, 0.6909090909090909, 0.3809522620134019, 0.8135593220338984, 0.984375))</td><td>Map(vectorType -> dense, length -> 3, values -> List(0.04699718229293068, 0.8713550934757581, 0.08164772423131121))</td><td>1</td><td>1</td></tr><tr><td>Map(vectorType -> dense, length -> 5, values -> List(0.0, 0.698181845925071, 0.1309523187797328, 0.7796610169491526, 0.765625))</td><td>Map(vectorType -> dense, length -> 3, values -> List(0.03700897887807215, 0.8850373032728687, 0.07795371784905909))</td><td>1</td><td>1</td></tr><tr><td>Map(vectorType -> dense, length -> 5, values -> List(0.0, 0.7272727272727273, 0.46428568995728675, 0.9830508474576272, 0.84375))</td><td>Map(vectorType -> dense, length -> 3, values -> List(0.04375405417306124, 0.8553225040410105, 0.10092344178592813))</td><td>1</td><td>1</td></tr><tr><td>Map(vectorType -> dense, length -> 5, values -> List(0.0, 0.8363636363636363, 0.34523806550335046, 0.9830508474576272, 0.9375))</td><td>Map(vectorType -> dense, length -> 3, values -> List(0.019493498490280863, 0.905574294926586, 0.07493220658313321))</td><td>1</td><td>1</td></tr><tr><td>Map(vectorType -> dense, length -> 5, values -> List(1.0, 0.14181823730468748, 0.47619049781574513, 0.2542372881355932, 0.265625))</td><td>Map(vectorType -> dense, length -> 3, values -> List(0.8223282038027661, 0.0758660735723761, 0.10180572262485788))</td><td>0</td><td>0</td></tr><tr><td>Map(vectorType -> dense, length -> 5, values -> List(1.0, 0.15272730047052557, 0.7619047510921274, 0.3050847457627119, 0.296875))</td><td>Map(vectorType -> dense, length -> 3, values -> List(0.8555465619619013, 0.04394027132226408, 0.10051316671583478))</td><td>0</td><td>0</td></tr><tr><td>Map(vectorType -> dense, length -> 5, values -> List(1.0, 0.17818187366832386, 0.40476187773031863, 0.22033898305084745, 0.171875))</td><td>Map(vectorType -> dense, length -> 3, values -> List(0.7993296571725859, 0.07928525603495962, 0.12138508679245451))</td><td>0</td><td>0</td></tr><tr><td>Map(vectorType -> dense, length -> 5, values -> List(1.0, 0.18909093683416192, 0.5595236986943063, 0.3220338983050847, 0.15625))</td><td>Map(vectorType -> dense, length -> 3, values -> List(0.8043880289315033, 0.06686339586337103, 0.1287485752051258))</td><td>0</td><td>0</td></tr><tr><td>Map(vectorType -> dense, length -> 5, values -> List(1.0, 0.21818181818181817, 0.5357143100427133, 0.2542372881355932, 0.1796875))</td><td>Map(vectorType -> dense, length -> 3, values -> List(0.7926527388878568, 0.06855125292712416, 0.13879600818501903))</td><td>0</td><td>0</td></tr><tr><td>Map(vectorType -> dense, length -> 5, values -> List(1.0, 0.2254545731977983, 0.726190554582076, 0.288135593220339, 0.34375))</td><td>Map(vectorType -> dense, length -> 3, values -> List(0.8086448802010006, 0.061046029359125537, 0.13030909043987374))</td><td>0</td><td>0</td></tr><tr><td>Map(vectorType -> dense, length -> 5, values -> List(1.0, 0.2509091463955966, 0.6666667423551079, 0.22033898305084745, 0.25))</td><td>Map(vectorType -> dense, length -> 3, values -> List(0.7981735557870954, 0.055594223801419734, 0.14623222041148495))</td><td>0</td><td>0</td></tr><tr><td>Map(vectorType -> dense, length -> 5, values -> List(1.0, 0.2581819014115767, 0.9523809956314903, 0.4067796610169492, 0.40625))</td><td>Map(vectorType -> dense, length -> 3, values -> List(0.8028407612369565, 0.0535410114531294, 0.14361822730991422))</td><td>0</td><td>0</td></tr><tr><td>Map(vectorType -> dense, length -> 5, values -> List(1.0, 0.2763637195933949, 0.5714285065527647, 0.3559322033898305, 0.4375))</td><td>Map(vectorType -> dense, length -> 3, values -> List(0.7082034274565882, 0.13652892731984537, 0.15526764522356662))</td><td>0</td><td>0</td></tr><tr><td>Map(vectorType -> dense, length -> 5, values -> List(1.0, 0.29454553777521303, 0.47619049781574513, 0.3559322033898305, 0.171875))</td><td>Map(vectorType -> dense, length -> 3, values -> List(0.6953923080871219, 0.11609449829257402, 0.18851319362030397))</td><td>0</td><td>0</td></tr><tr><td>Map(vectorType -> dense, length -> 5, values -> List(1.0, 0.298181845925071, 0.6428571266381912, 0.4067796610169492, 0.46875))</td><td>Map(vectorType -> dense, length -> 3, values -> List(0.6930472050503703, 0.14080691276316035, 0.16614588218646945))</td><td>0</td><td>0</td></tr><tr><td>Map(vectorType -> dense, length -> 5, values -> List(1.0, 0.3090909090909091, 0.4880953056742035, 0.2542372881355932, 0.1953125))</td><td>Map(vectorType -> dense, length -> 3, values -> List(0.7115481444831503, 0.09800483316278513, 0.19044702235406452))</td><td>0</td><td>0</td></tr><tr><td>Map(vectorType -> dense, length -> 5, values -> List(1.0, 0.3127273559570312, 0.46428568995728675, 0.3050847457627119, 0.2734375))</td><td>Map(vectorType -> dense, length -> 3, values -> List(0.6799884566549736, 0.13191018067718047, 0.18810136266784588))</td><td>0</td><td>0</td></tr><tr><td>Map(vectorType -> dense, length -> 5, values -> List(1.0, 0.32000011097301134, 0.6904761310067009, 0.2033898305084746, 0.328125))</td><td>Map(vectorType -> dense, length -> 3, values -> List(0.7525140266435351, 0.06807307914546105, 0.17941289421100384))</td><td>0</td><td>0</td></tr><tr><td>Map(vectorType -> dense, length -> 5, values -> List(1.0, 0.3709091186523437, 0.9642858034899486, 0.3220338983050847, 0.40625))</td><td>Map(vectorType -> dense, length -> 3, values -> List(0.7373094401815525, 0.05631803417990022, 0.2063725256385473))</td><td>0</td><td>0</td></tr><tr><td>Map(vectorType -> dense, length -> 5, values -> List(1.0, 0.4145455100319602, 0.5952381222696814, 0.5084745762711864, 0.171875))</td><td>Map(vectorType -> dense, length -> 3, values -> List(0.5725630330310714, 0.14851187723577097, 0.27892508973315777))</td><td>0</td><td>2</td></tr><tr><td>Map(vectorType -> dense, length -> 5, values -> List(1.0, 0.483636474609375, 0.6666667423551079, 0.2711864406779661, 0.2109375))</td><td>Map(vectorType -> dense, length -> 3, values -> List(0.5859557630883424, 0.09388866042129437, 0.3201555764903632))</td><td>0</td><td>2</td></tr><tr><td>Map(vectorType -> dense, length -> 5, values -> List(1.0, 0.4872727827592329, 0.46428568995728675, 0.4067796610169492, 0.203125))</td><td>Map(vectorType -> dense, length -> 3, values -> List(0.486237105353861, 0.1914119147270681, 0.32235097991907097))</td><td>0</td><td>2</td></tr><tr><td>Map(vectorType -> dense, length -> 5, values -> List(1.0, 0.5054546009410511, 0.6904761310067009, 0.3898305084745763, 0.40625))</td><td>Map(vectorType -> dense, length -> 3, values -> List(0.5241497070690057, 0.15990498724057883, 0.3159453056904157))</td><td>0</td><td>2</td></tr><tr><td>Map(vectorType -> dense, length -> 5, values -> List(1.0, 0.509090909090909, 0.6071429301281398, 0.1016949152542373, 0.125))</td><td>Map(vectorType -> dense, length -> 3, values -> List(0.5891674803090324, 0.06883727104656737, 0.3419952486444003))</td><td>0</td><td>2</td></tr><tr><td>Map(vectorType -> dense, length -> 5, values -> List(1.0, 0.5200001109730114, 0.5595236986943063, 0.3220338983050847, 0.265625))</td><td>Map(vectorType -> dense, length -> 3, values -> List(0.5028143026669293, 0.15344117551237108, 0.34374452182069964))</td><td>0</td><td>2</td></tr><tr><td>Map(vectorType -> dense, length -> 5, values -> List(1.0, 0.5200001109730114, 0.6547619344966495, 0.3050847457627119, 0.1875))</td><td>Map(vectorType -> dense, length -> 3, values -> List(0.5372738063357625, 0.10477005708467506, 0.3579561365795625))</td><td>0</td><td>2</td></tr><tr><td>Map(vectorType -> dense, length -> 5, values -> List(1.0, 0.5236364191228693, 0.5714285065527647, 0.3389830508474576, 0.203125))</td><td>Map(vectorType -> dense, length -> 3, values -> List(0.5019050420733665, 0.13986556910178255, 0.3582293888248509))</td><td>0</td><td>2</td></tr><tr><td>Map(vectorType -> dense, length -> 5, values -> List(1.0, 0.5381819291548295, 0.416666685588777, 0.3389830508474576, -0.046875))</td><td>Map(vectorType -> dense, length -> 3, values -> List(0.4595804881795811, 0.13315039291963937, 0.40726911890077966))</td><td>0</td><td>2</td></tr><tr><td>Map(vectorType -> dense, length -> 5, values -> List(1.0, 0.5418182373046875, 0.4999998864673381, 0.22033898305084745, 0.265625))</td><td>Map(vectorType -> dense, length -> 3, values -> List(0.4932467070975224, 0.14915598303106828, 0.3575973098714093))</td><td>0</td><td>2</td></tr><tr><td>Map(vectorType -> dense, length -> 5, values -> List(1.0, 0.6145455100319602, 0.7619047510921274, 0.6440677966101694, 0.34375))</td><td>Map(vectorType -> dense, length -> 3, values -> List(0.36399329404658637, 0.21831254804798214, 0.4176941579054315))</td><td>2</td><td>2</td></tr><tr><td>Map(vectorType -> dense, length -> 5, values -> List(1.0, 0.6509091463955966, 0.7619047510921274, 0.4067796610169492, 0.328125))</td><td>Map(vectorType -> dense, length -> 3, values -> List(0.3944403459394693, 0.14526722906674736, 0.4602924249937833))</td><td>2</td><td>2</td></tr><tr><td>Map(vectorType -> dense, length -> 5, values -> List(1.0, 0.6690909645774148, 0.7738095589505858, 0.4915254237288136, 0.375))</td><td>Map(vectorType -> dense, length -> 3, values -> List(0.3551441696191097, 0.17981978191507283, 0.4650360484658175))</td><td>2</td><td>2</td></tr><tr><td>Map(vectorType -> dense, length -> 5, values -> List(1.0, 0.6800000277432529, 0.6428571266381912, 0.4915254237288136, 0.5))</td><td>Map(vectorType -> dense, length -> 3, values -> List(0.2991536536359769, 0.28337253400684, 0.4174738123571831))</td><td>2</td><td>2</td></tr><tr><td>Map(vectorType -> dense, length -> 5, values -> List(1.0, 0.6800000277432529, 0.7023809388651593, 0.6440677966101694, 0.390625))</td><td>Map(vectorType -> dense, length -> 3, values -> List(0.28450948765984097, 0.27282257481988775, 0.4426679375202712))</td><td>2</td><td>2</td></tr><tr><td>Map(vectorType -> dense, length -> 5, values -> List(1.0, 0.6836364746093749, 0.5714285065527647, 0.4067796610169492, 0.2578125))</td><td>Map(vectorType -> dense, length -> 3, values -> List(0.3202779669046664, 0.19826885153524823, 0.4814531815600852))</td><td>2</td><td>2</td></tr><tr><td>Map(vectorType -> dense, length -> 5, values -> List(1.0, 0.6836364746093749, 0.7142857467236177, 0.4067796610169492, 0.21875))</td><td>Map(vectorType -> dense, length -> 3, values -> List(0.3547921072478811, 0.13718992929688284, 0.5080179634552361))</td><td>2</td><td>2</td></tr><tr><td>Map(vectorType -> dense, length -> 5, values -> List(1.0, 0.698181845925071, 0.726190554582076, 0.3559322033898305, 0.25))</td><td>Map(vectorType -> dense, length -> 3, values -> List(0.35421917420461396, 0.1297852345800078, 0.5159955912153783))</td><td>2</td><td>2</td></tr><tr><td>Map(vectorType -> dense, length -> 5, values -> List(1.0, 0.698181845925071, 0.8095237554606373, 0.4406779661016949, 0.265625))</td><td>Map(vectorType -> dense, length -> 3, values -> List(0.35177471125910975, 0.12907276834900955, 0.5191525203918808))</td><td>2</td><td>2</td></tr><tr><td>Map(vectorType -> dense, length -> 5, values -> List(1.0, 0.7236364191228692, 0.7023809388651593, 0.423728813559322, 0.40625))</td><td>Map(vectorType -> dense, length -> 3, values -> List(0.3030074780365509, 0.2014442778167844, 0.4955482441466648))</td><td>2</td><td>2</td></tr><tr><td>Map(vectorType -> dense, length -> 5, values -> List(1.0, 0.7781818736683238, 0.8095237554606373, 0.559322033898305, 0.515625))</td><td>Map(vectorType -> dense, length -> 3, values -> List(0.2440163240809581, 0.24398380719456883, 0.5119998687244731))</td><td>2</td><td>2</td></tr><tr><td>Map(vectorType -> dense, length -> 5, values -> List(1.0, 0.8036364468661221, 0.9166665720561151, 0.4915254237288136, 0.453125))</td><td>Map(vectorType -> dense, length -> 3, values -> List(0.262663420395008, 0.16040968123743504, 0.5769268983675568))</td><td>2</td><td>2</td></tr><tr><td>Map(vectorType -> dense, length -> 5, values -> List(1.0, 0.8618182095614346, 0.7976189476021789, 0.5932203389830508, 0.359375))</td><td>Map(vectorType -> dense, length -> 3, values -> List(0.18399832207360334, 0.20709050856102243, 0.6089111693653743))</td><td>2</td><td>2</td></tr><tr><td>Map(vectorType -> dense, length -> 5, values -> List(1.0, 0.9418182373046875, 0.5595236986943063, 0.15254237288135594, 0.265625))</td><td>Map(vectorType -> dense, length -> 3, values -> List(0.16903960511469787, 0.13947827388494435, 0.6914821210003578))</td><td>2</td><td>2</td></tr><tr><td>Map(vectorType -> dense, length -> 5, values -> List(2.0, 0.1490909923206676, 0.35714287336180883, 0.2542372881355932, 0.21875))</td><td>Map(vectorType -> dense, length -> 3, values -> List(0.8298999400194337, 0.058047669110700376, 0.112052390869866))</td><td>0</td><td>0</td></tr><tr><td>Map(vectorType -> dense, length -> 5, values -> List(2.0, 0.1672728105024858, 0.7380951353752107, 0.3559322033898305, 0.1875))</td><td>Map(vectorType -> dense, length -> 3, values -> List(0.8583732761610497, 0.026566168903477412, 0.11506055493547292))</td><td>0</td><td>0</td></tr><tr><td>Map(vectorType -> dense, length -> 5, values -> List(2.0, 0.18545462868430396, 0.749999943233669, 0.2033898305084746, 0.328125))</td><td>Map(vectorType -> dense, length -> 3, values -> List(0.8670870759093366, 0.0243667607276914, 0.1085461633629719))</td><td>0</td><td>0</td></tr><tr><td>Map(vectorType -> dense, length -> 5, values -> List(2.0, 0.18909093683416192, 0.8809523755460638, 0.4576271186440678, 0.2890625))</td><td>Map(vectorType -> dense, length -> 3, values -> List(0.8491506390794554, 0.029087364974329594, 0.12176199594621497))</td><td>0</td><td>0</td></tr><tr><td>Map(vectorType -> dense, length -> 5, values -> List(2.0, 0.23636363636363636, 0.46428568995728675, 0.2711864406779661, 0.015625))</td><td>Map(vectorType -> dense, length -> 3, values -> List(0.7955647393932118, 0.04005977378867535, 0.1643754868181129))</td><td>0</td><td>0</td></tr><tr><td>Map(vectorType -> dense, length -> 5, values -> List(2.0, 0.24000008322975852, 0.7023809388651593, 0.3898305084745763, 0.1875))</td><td>Map(vectorType -> dense, length -> 3, values -> List(0.8062068390002741, 0.0382217784365685, 0.15557138256315728))</td><td>0</td><td>0</td></tr><tr><td>Map(vectorType -> dense, length -> 5, values -> List(2.0, 0.2727272727272727, 0.4880953056742035, 0.4067796610169492, 0.21875))</td><td>Map(vectorType -> dense, length -> 3, values -> List(0.7397811607486938, 0.07870065313340234, 0.18151818611790368))</td><td>0</td><td>0</td></tr><tr><td>Map(vectorType -> dense, length -> 5, values -> List(2.0, 0.2763637195933949, 0.6309523187797328, 0.3050847457627119, 0.328125))</td><td>Map(vectorType -> dense, length -> 3, values -> List(0.7812475315376047, 0.05332291947419191, 0.1654295489882033))</td><td>0</td><td>0</td></tr><tr><td>Map(vectorType -> dense, length -> 5, values -> List(2.0, 0.35272730047052553, 0.749999943233669, 0.4406779661016949, 0.5))</td><td>Map(vectorType -> dense, length -> 3, values -> List(0.708574327375534, 0.08455681585090051, 0.20686885677356537))</td><td>0</td><td>0</td></tr><tr><td>Map(vectorType -> dense, length -> 5, values -> List(2.0, 0.37818187366832384, 0.9047619912629805, 0.423728813559322, 0.515625))</td><td>Map(vectorType -> dense, length -> 3, values -> List(0.7224011335767949, 0.05994748069058953, 0.2176513857326156))</td><td>0</td><td>0</td></tr><tr><td>Map(vectorType -> dense, length -> 5, values -> List(2.0, 0.3927273837002841, 0.5357143100427133, 0.4067796610169492, 0.578125))</td><td>Map(vectorType -> dense, length -> 3, values -> List(0.6139698141839475, 0.1616396492054536, 0.22439053661059888))</td><td>0</td><td>0</td></tr></tbody></table></div>"
      ]
     },
     "metadata": {
      "application/vnd.databricks.v1+output": {
       "addedWidgets": {},
       "aggData": [],
       "aggError": "",
       "aggOverflow": false,
       "aggSchema": [],
       "aggSeriesLimitReached": false,
       "aggType": "",
       "arguments": {},
       "columnCustomDisplayInfos": {},
       "data": [
        [
         {
          "length": 5,
          "values": [
           0,
           0.08727278275923295,
           0.5952381222696814,
           0.2542372881355932,
           0.015625
          ],
          "vectorType": "dense"
         },
         {
          "length": 3,
          "values": [
           0.8600654621440087,
           0.05272275500971718,
           0.08721178284627418
          ],
          "vectorType": "dense"
         },
         0,
         0
        ],
        [
         {
          "length": 5,
          "values": [
           0,
           0.10545460094105114,
           0.5714285065527647,
           0.3389830508474576,
           0.2734375
          ],
          "vectorType": "dense"
         },
         {
          "length": 3,
          "values": [
           0.8043831315095489,
           0.10903148871629018,
           0.08658537977416107
          ],
          "vectorType": "dense"
         },
         0,
         0
        ],
        [
         {
          "length": 5,
          "values": [
           0,
           0.1163636641068892,
           0.6904761310067009,
           0.2542372881355932,
           0.296875
          ],
          "vectorType": "dense"
         },
         {
          "length": 3,
          "values": [
           0.843064474421891,
           0.07186204450202806,
           0.08507348107608095
          ],
          "vectorType": "dense"
         },
         0,
         0
        ],
        [
         {
          "length": 5,
          "values": [
           0,
           0.12363641912286931,
           0.3690476812202672,
           0.3898305084745763,
           0.15625
          ],
          "vectorType": "dense"
         },
         {
          "length": 3,
          "values": [
           0.7294587650054535,
           0.17059439702997495,
           0.09994683796457159
          ],
          "vectorType": "dense"
         },
         0,
         0
        ],
        [
         {
          "length": 5,
          "values": [
           0,
           0.1563637473366477,
           0.47619049781574513,
           0.2033898305084746,
           0
          ],
          "vectorType": "dense"
         },
         {
          "length": 3,
          "values": [
           0.8101205090029675,
           0.07504685201824543,
           0.11483263897878696
          ],
          "vectorType": "dense"
         },
         0,
         0
        ],
        [
         {
          "length": 5,
          "values": [
           0,
           0.21090920188210227,
           0.6547619344966495,
           0.3559322033898305,
           0.0234375
          ],
          "vectorType": "dense"
         },
         {
          "length": 3,
          "values": [
           0.7779183297320522,
           0.0793501455030605,
           0.14273152476488735
          ],
          "vectorType": "dense"
         },
         0,
         0
        ],
        [
         {
          "length": 5,
          "values": [
           0,
           0.3090909090909091,
           0.6785713231482425,
           0.3559322033898305,
           0.296875
          ],
          "vectorType": "dense"
         },
         {
          "length": 3,
          "values": [
           0.6788846725124053,
           0.1462061812806686,
           0.174909146206926
          ],
          "vectorType": "dense"
         },
         0,
         0
        ],
        [
         {
          "length": 5,
          "values": [
           0,
           0.32000011097301134,
           0.07142850655276464,
           0.711864406779661,
           0.5625
          ],
          "vectorType": "dense"
         },
         {
          "length": 3,
          "values": [
           0.16347329710551844,
           0.7704479304646414,
           0.06607877242984007
          ],
          "vectorType": "dense"
         },
         1,
         1
        ],
        [
         {
          "length": 5,
          "values": [
           0,
           0.32727272727272727,
           0.6071429301281398,
           0.3389830508474576,
           0.375
          ],
          "vectorType": "dense"
         },
         {
          "length": 3,
          "values": [
           0.6304612397533593,
           0.1943578352797864,
           0.1751809249668543
          ],
          "vectorType": "dense"
         },
         0,
         0
        ],
        [
         {
          "length": 5,
          "values": [
           0,
           0.34545454545454546,
           0.583333314411223,
           0.3389830508474576,
           0.34375
          ],
          "vectorType": "dense"
         },
         {
          "length": 3,
          "values": [
           0.6100505977506275,
           0.20212548600597946,
           0.1878239162433929
          ],
          "vectorType": "dense"
         },
         0,
         0
        ],
        [
         {
          "length": 5,
          "values": [
           0,
           0.3490909923206676,
           0.19047613100670094,
           0.6440677966101694,
           0.578125
          ],
          "vectorType": "dense"
         },
         {
          "length": 3,
          "values": [
           0.21484085356993868,
           0.6956093259314041,
           0.0895498204986572
          ],
          "vectorType": "dense"
         },
         1,
         1
        ],
        [
         {
          "length": 5,
          "values": [
           0,
           0.3890909368341619,
           0.1309523187797328,
           0.6271186440677966,
           0.578125
          ],
          "vectorType": "dense"
         },
         {
          "length": 3,
          "values": [
           0.1753509309729075,
           0.7358380940076451,
           0.08881097501944746
          ],
          "vectorType": "dense"
         },
         1,
         1
        ],
        [
         {
          "length": 5,
          "values": [
           0,
           0.4145455100319602,
           0.1309523187797328,
           0.8135593220338984,
           0.578125
          ],
          "vectorType": "dense"
         },
         {
          "length": 3,
          "values": [
           0.11292936041605306,
           0.8147959187146953,
           0.07227472086925166
          ],
          "vectorType": "dense"
         },
         1,
         1
        ],
        [
         {
          "length": 5,
          "values": [
           0,
           0.4254545731977983,
           0.09523800873701953,
           0.6101694915254238,
           0.453125
          ],
          "vectorType": "dense"
         },
         {
          "length": 3,
          "values": [
           0.17701252164245662,
           0.7123637120668975,
           0.11062376629064578
          ],
          "vectorType": "dense"
         },
         1,
         1
        ],
        [
         {
          "length": 5,
          "values": [
           0,
           0.4472728382457386,
           0.4999998864673381,
           0.7966101694915254,
           0.75
          ],
          "vectorType": "dense"
         },
         {
          "length": 3,
          "values": [
           0.1883915436742234,
           0.7004166738602114,
           0.11119178246556523
          ],
          "vectorType": "dense"
         },
         1,
         1
        ],
        [
         {
          "length": 5,
          "values": [
           0,
           0.4727272727272727,
           0.15476182096398766,
           0.6440677966101694,
           0.484375
          ],
          "vectorType": "dense"
         },
         {
          "length": 3,
          "values": [
           0.15766542126347738,
           0.7222090215096194,
           0.12012555722690307
          ],
          "vectorType": "dense"
         },
         1,
         1
        ],
        [
         {
          "length": 5,
          "values": [
           0,
           0.4727272727272727,
           0.16666662882244604,
           0.5932203389830508,
           0.6875
          ],
          "vectorType": "dense"
         },
         {
          "length": 3,
          "values": [
           0.1370461883652603,
           0.7690416338961935,
           0.09391217773854621
          ],
          "vectorType": "dense"
         },
         1,
         1
        ],
        [
         {
          "length": 5,
          "values": [
           0,
           0.4727272727272727,
           0.16666662882244604,
           0.7288135593220338,
           0.671875
          ],
          "vectorType": "dense"
         },
         {
          "length": 3,
          "values": [
           0.10683371576209476,
           0.8128910158655583,
           0.08027526837234697
          ],
          "vectorType": "dense"
         },
         1,
         1
        ],
        [
         {
          "length": 5,
          "values": [
           0,
           0.47636371959339485,
           0.20238093886515932,
           0.6779661016949152,
           0.734375
          ],
          "vectorType": "dense"
         },
         {
          "length": 3,
          "values": [
           0.11646446830093278,
           0.8005143977443395,
           0.08302113395472781
          ],
          "vectorType": "dense"
         },
         1,
         1
        ],
        [
         {
          "length": 5,
          "values": [
           0,
           0.47636371959339485,
           0.39285706987186025,
           0.864406779661017,
           0.96875
          ],
          "vectorType": "dense"
         },
         {
          "length": 3,
          "values": [
           0.08828912663840138,
           0.8513432052506097,
           0.060367668110989085
          ],
          "vectorType": "dense"
         },
         1,
         1
        ],
        [
         {
          "length": 5,
          "values": [
           0,
           0.4909090909090909,
           0.857142759829147,
           0.3220338983050847,
           0.546875
          ],
          "vectorType": "dense"
         },
         {
          "length": 3,
          "values": [
           0.5464776245901074,
           0.18784592465909253,
           0.2656764507508
          ],
          "vectorType": "dense"
         },
         0,
         0
        ],
        [
         {
          "length": 5,
          "values": [
           0,
           0.498181845925071,
           0.1309523187797328,
           0.7966101694915254,
           0.578125
          ],
          "vectorType": "dense"
         },
         {
          "length": 3,
          "values": [
           0.09028124695168371,
           0.8264530492829022,
           0.08326570376541415
          ],
          "vectorType": "dense"
         },
         1,
         1
        ],
        [
         {
          "length": 5,
          "values": [
           0,
           0.5127273559570312,
           0.15476182096398766,
           0.711864406779661,
           0.5625
          ],
          "vectorType": "dense"
         },
         {
          "length": 3,
          "values": [
           0.11072911469056933,
           0.786522795061995,
           0.10274809024743559
          ],
          "vectorType": "dense"
         },
         1,
         1
        ],
        [
         {
          "length": 5,
          "values": [
           0,
           0.5200001109730114,
           0.2976190611348407,
           0.8305084745762712,
           0.671875
          ],
          "vectorType": "dense"
         },
         {
          "length": 3,
          "values": [
           0.10149429511042031,
           0.8033601563098106,
           0.095145548579769
          ],
          "vectorType": "dense"
         },
         1,
         1
        ],
        [
         {
          "length": 5,
          "values": [
           0,
           0.585454628684304,
           0.2976190611348407,
           0.8305084745762712,
           0.703125
          ],
          "vectorType": "dense"
         },
         {
          "length": 3,
          "values": [
           0.07899433949338004,
           0.822635522792135,
           0.0983701377144848
          ],
          "vectorType": "dense"
         },
         1,
         1
        ],
        [
         {
          "length": 5,
          "values": [
           0,
           0.5927273837002841,
           0.17857143668090442,
           0.6949152542372882,
           0.9375
          ],
          "vectorType": "dense"
         },
         {
          "length": 3,
          "values": [
           0.05445230997995524,
           0.8830462142614235,
           0.06250147575862121
          ],
          "vectorType": "dense"
         },
         1,
         1
        ],
        [
         {
          "length": 5,
          "values": [
           0,
           0.5927273837002841,
           0.3809522620134019,
           0.8135593220338984,
           0.796875
          ],
          "vectorType": "dense"
         },
         {
          "length": 3,
          "values": [
           0.08504421593250508,
           0.8137819178822912,
           0.10117386618520373
          ],
          "vectorType": "dense"
         },
         1,
         1
        ],
        [
         {
          "length": 5,
          "values": [
           0,
           0.6036364468661222,
           0.23809524890787256,
           0.847457627118644,
           0.78125
          ],
          "vectorType": "dense"
         },
         {
          "length": 3,
          "values": [
           0.05546040876926222,
           0.8688107736324834,
           0.07572881759825432
          ],
          "vectorType": "dense"
         },
         1,
         1
        ],
        [
         {
          "length": 5,
          "values": [
           0,
           0.6218182650479404,
           0.24999994323366906,
           0.8305084745762712,
           1.078125
          ],
          "vectorType": "dense"
         },
         {
          "length": 3,
          "values": [
           0.03509070263869778,
           0.9185970701249971,
           0.04631222723630503
          ],
          "vectorType": "dense"
         },
         1,
         1
        ],
        [
         {
          "length": 5,
          "values": [
           0,
           0.6290910200639204,
           0.3214285633190956,
           0.7457627118644068,
           0.6484375
          ],
          "vectorType": "dense"
         },
         {
          "length": 3,
          "values": [
           0.09297655791865612,
           0.772491846630254,
           0.13453159545108986
          ],
          "vectorType": "dense"
         },
         1,
         1
        ],
        [
         {
          "length": 5,
          "values": [
           0,
           0.6363636363636364,
           0.34523806550335046,
           0.8983050847457628,
           0.890625
          ],
          "vectorType": "dense"
         },
         {
          "length": 3,
          "values": [
           0.04926101809427107,
           0.876644432898083,
           0.07409454900764585
          ],
          "vectorType": "dense"
         },
         1,
         1
        ],
        [
         {
          "length": 5,
          "values": [
           0,
           0.6509091463955966,
           0.24999994323366906,
           0.7796610169491526,
           0.890625
          ],
          "vectorType": "dense"
         },
         {
          "length": 3,
          "values": [
           0.04806909610406802,
           0.8773837886333877,
           0.07454711526254428
          ],
          "vectorType": "dense"
         },
         1,
         1
        ],
        [
         {
          "length": 5,
          "values": [
           0,
           0.6509091463955966,
           0.26190475109212746,
           0.8135593220338984,
           0.84375
          ],
          "vectorType": "dense"
         },
         {
          "length": 3,
          "values": [
           0.04938295085314908,
           0.8715155470036015,
           0.0791015021432496
          ],
          "vectorType": "dense"
         },
         1,
         1
        ],
        [
         {
          "length": 5,
          "values": [
           0,
           0.6509091463955966,
           0.3333332576448921,
           0.8813559322033898,
           0.78125
          ],
          "vectorType": "dense"
         },
         {
          "length": 3,
          "values": [
           0.055821267622413545,
           0.851711325960759,
           0.09246740641682731
          ],
          "vectorType": "dense"
         },
         1,
         1
        ],
        [
         {
          "length": 5,
          "values": [
           0,
           0.6545454545454545,
           0.2261904410494142,
           0.8983050847457628,
           0.671875
          ],
          "vectorType": "dense"
         },
         {
          "length": 3,
          "values": [
           0.04817414389995553,
           0.8627186699395212,
           0.08910718616052332
          ],
          "vectorType": "dense"
         },
         1,
         1
        ],
        [
         {
          "length": 5,
          "values": [
           0,
           0.6654546564275567,
           0.26190475109212746,
           0.8813559322033898,
           0.84375
          ],
          "vectorType": "dense"
         },
         {
          "length": 3,
          "values": [
           0.04054836572090186,
           0.8870300172450002,
           0.07242161703409816
          ],
          "vectorType": "dense"
         },
         1,
         1
        ],
        [
         {
          "length": 5,
          "values": [
           0,
           0.6690909645774148,
           0.3333332576448921,
           0.847457627118644,
           0.84375
          ],
          "vectorType": "dense"
         },
         {
          "length": 3,
          "values": [
           0.05155423192033316,
           0.8596449762674165,
           0.08880079181225023
          ],
          "vectorType": "dense"
         },
         1,
         1
        ],
        [
         {
          "length": 5,
          "values": [
           0,
           0.6909090909090909,
           0.3809522620134019,
           0.8135593220338984,
           0.984375
          ],
          "vectorType": "dense"
         },
         {
          "length": 3,
          "values": [
           0.04699718229293068,
           0.8713550934757581,
           0.08164772423131121
          ],
          "vectorType": "dense"
         },
         1,
         1
        ],
        [
         {
          "length": 5,
          "values": [
           0,
           0.698181845925071,
           0.1309523187797328,
           0.7796610169491526,
           0.765625
          ],
          "vectorType": "dense"
         },
         {
          "length": 3,
          "values": [
           0.03700897887807215,
           0.8850373032728687,
           0.07795371784905909
          ],
          "vectorType": "dense"
         },
         1,
         1
        ],
        [
         {
          "length": 5,
          "values": [
           0,
           0.7272727272727273,
           0.46428568995728675,
           0.9830508474576272,
           0.84375
          ],
          "vectorType": "dense"
         },
         {
          "length": 3,
          "values": [
           0.04375405417306124,
           0.8553225040410105,
           0.10092344178592813
          ],
          "vectorType": "dense"
         },
         1,
         1
        ],
        [
         {
          "length": 5,
          "values": [
           0,
           0.8363636363636363,
           0.34523806550335046,
           0.9830508474576272,
           0.9375
          ],
          "vectorType": "dense"
         },
         {
          "length": 3,
          "values": [
           0.019493498490280863,
           0.905574294926586,
           0.07493220658313321
          ],
          "vectorType": "dense"
         },
         1,
         1
        ],
        [
         {
          "length": 5,
          "values": [
           1,
           0.14181823730468748,
           0.47619049781574513,
           0.2542372881355932,
           0.265625
          ],
          "vectorType": "dense"
         },
         {
          "length": 3,
          "values": [
           0.8223282038027661,
           0.0758660735723761,
           0.10180572262485788
          ],
          "vectorType": "dense"
         },
         0,
         0
        ],
        [
         {
          "length": 5,
          "values": [
           1,
           0.15272730047052557,
           0.7619047510921274,
           0.3050847457627119,
           0.296875
          ],
          "vectorType": "dense"
         },
         {
          "length": 3,
          "values": [
           0.8555465619619013,
           0.04394027132226408,
           0.10051316671583478
          ],
          "vectorType": "dense"
         },
         0,
         0
        ],
        [
         {
          "length": 5,
          "values": [
           1,
           0.17818187366832386,
           0.40476187773031863,
           0.22033898305084745,
           0.171875
          ],
          "vectorType": "dense"
         },
         {
          "length": 3,
          "values": [
           0.7993296571725859,
           0.07928525603495962,
           0.12138508679245451
          ],
          "vectorType": "dense"
         },
         0,
         0
        ],
        [
         {
          "length": 5,
          "values": [
           1,
           0.18909093683416192,
           0.5595236986943063,
           0.3220338983050847,
           0.15625
          ],
          "vectorType": "dense"
         },
         {
          "length": 3,
          "values": [
           0.8043880289315033,
           0.06686339586337103,
           0.1287485752051258
          ],
          "vectorType": "dense"
         },
         0,
         0
        ],
        [
         {
          "length": 5,
          "values": [
           1,
           0.21818181818181817,
           0.5357143100427133,
           0.2542372881355932,
           0.1796875
          ],
          "vectorType": "dense"
         },
         {
          "length": 3,
          "values": [
           0.7926527388878568,
           0.06855125292712416,
           0.13879600818501903
          ],
          "vectorType": "dense"
         },
         0,
         0
        ],
        [
         {
          "length": 5,
          "values": [
           1,
           0.2254545731977983,
           0.726190554582076,
           0.288135593220339,
           0.34375
          ],
          "vectorType": "dense"
         },
         {
          "length": 3,
          "values": [
           0.8086448802010006,
           0.061046029359125537,
           0.13030909043987374
          ],
          "vectorType": "dense"
         },
         0,
         0
        ],
        [
         {
          "length": 5,
          "values": [
           1,
           0.2509091463955966,
           0.6666667423551079,
           0.22033898305084745,
           0.25
          ],
          "vectorType": "dense"
         },
         {
          "length": 3,
          "values": [
           0.7981735557870954,
           0.055594223801419734,
           0.14623222041148495
          ],
          "vectorType": "dense"
         },
         0,
         0
        ],
        [
         {
          "length": 5,
          "values": [
           1,
           0.2581819014115767,
           0.9523809956314903,
           0.4067796610169492,
           0.40625
          ],
          "vectorType": "dense"
         },
         {
          "length": 3,
          "values": [
           0.8028407612369565,
           0.0535410114531294,
           0.14361822730991422
          ],
          "vectorType": "dense"
         },
         0,
         0
        ],
        [
         {
          "length": 5,
          "values": [
           1,
           0.2763637195933949,
           0.5714285065527647,
           0.3559322033898305,
           0.4375
          ],
          "vectorType": "dense"
         },
         {
          "length": 3,
          "values": [
           0.7082034274565882,
           0.13652892731984537,
           0.15526764522356662
          ],
          "vectorType": "dense"
         },
         0,
         0
        ],
        [
         {
          "length": 5,
          "values": [
           1,
           0.29454553777521303,
           0.47619049781574513,
           0.3559322033898305,
           0.171875
          ],
          "vectorType": "dense"
         },
         {
          "length": 3,
          "values": [
           0.6953923080871219,
           0.11609449829257402,
           0.18851319362030397
          ],
          "vectorType": "dense"
         },
         0,
         0
        ],
        [
         {
          "length": 5,
          "values": [
           1,
           0.298181845925071,
           0.6428571266381912,
           0.4067796610169492,
           0.46875
          ],
          "vectorType": "dense"
         },
         {
          "length": 3,
          "values": [
           0.6930472050503703,
           0.14080691276316035,
           0.16614588218646945
          ],
          "vectorType": "dense"
         },
         0,
         0
        ],
        [
         {
          "length": 5,
          "values": [
           1,
           0.3090909090909091,
           0.4880953056742035,
           0.2542372881355932,
           0.1953125
          ],
          "vectorType": "dense"
         },
         {
          "length": 3,
          "values": [
           0.7115481444831503,
           0.09800483316278513,
           0.19044702235406452
          ],
          "vectorType": "dense"
         },
         0,
         0
        ],
        [
         {
          "length": 5,
          "values": [
           1,
           0.3127273559570312,
           0.46428568995728675,
           0.3050847457627119,
           0.2734375
          ],
          "vectorType": "dense"
         },
         {
          "length": 3,
          "values": [
           0.6799884566549736,
           0.13191018067718047,
           0.18810136266784588
          ],
          "vectorType": "dense"
         },
         0,
         0
        ],
        [
         {
          "length": 5,
          "values": [
           1,
           0.32000011097301134,
           0.6904761310067009,
           0.2033898305084746,
           0.328125
          ],
          "vectorType": "dense"
         },
         {
          "length": 3,
          "values": [
           0.7525140266435351,
           0.06807307914546105,
           0.17941289421100384
          ],
          "vectorType": "dense"
         },
         0,
         0
        ],
        [
         {
          "length": 5,
          "values": [
           1,
           0.3709091186523437,
           0.9642858034899486,
           0.3220338983050847,
           0.40625
          ],
          "vectorType": "dense"
         },
         {
          "length": 3,
          "values": [
           0.7373094401815525,
           0.05631803417990022,
           0.2063725256385473
          ],
          "vectorType": "dense"
         },
         0,
         0
        ],
        [
         {
          "length": 5,
          "values": [
           1,
           0.4145455100319602,
           0.5952381222696814,
           0.5084745762711864,
           0.171875
          ],
          "vectorType": "dense"
         },
         {
          "length": 3,
          "values": [
           0.5725630330310714,
           0.14851187723577097,
           0.27892508973315777
          ],
          "vectorType": "dense"
         },
         0,
         2
        ],
        [
         {
          "length": 5,
          "values": [
           1,
           0.483636474609375,
           0.6666667423551079,
           0.2711864406779661,
           0.2109375
          ],
          "vectorType": "dense"
         },
         {
          "length": 3,
          "values": [
           0.5859557630883424,
           0.09388866042129437,
           0.3201555764903632
          ],
          "vectorType": "dense"
         },
         0,
         2
        ],
        [
         {
          "length": 5,
          "values": [
           1,
           0.4872727827592329,
           0.46428568995728675,
           0.4067796610169492,
           0.203125
          ],
          "vectorType": "dense"
         },
         {
          "length": 3,
          "values": [
           0.486237105353861,
           0.1914119147270681,
           0.32235097991907097
          ],
          "vectorType": "dense"
         },
         0,
         2
        ],
        [
         {
          "length": 5,
          "values": [
           1,
           0.5054546009410511,
           0.6904761310067009,
           0.3898305084745763,
           0.40625
          ],
          "vectorType": "dense"
         },
         {
          "length": 3,
          "values": [
           0.5241497070690057,
           0.15990498724057883,
           0.3159453056904157
          ],
          "vectorType": "dense"
         },
         0,
         2
        ],
        [
         {
          "length": 5,
          "values": [
           1,
           0.509090909090909,
           0.6071429301281398,
           0.1016949152542373,
           0.125
          ],
          "vectorType": "dense"
         },
         {
          "length": 3,
          "values": [
           0.5891674803090324,
           0.06883727104656737,
           0.3419952486444003
          ],
          "vectorType": "dense"
         },
         0,
         2
        ],
        [
         {
          "length": 5,
          "values": [
           1,
           0.5200001109730114,
           0.5595236986943063,
           0.3220338983050847,
           0.265625
          ],
          "vectorType": "dense"
         },
         {
          "length": 3,
          "values": [
           0.5028143026669293,
           0.15344117551237108,
           0.34374452182069964
          ],
          "vectorType": "dense"
         },
         0,
         2
        ],
        [
         {
          "length": 5,
          "values": [
           1,
           0.5200001109730114,
           0.6547619344966495,
           0.3050847457627119,
           0.1875
          ],
          "vectorType": "dense"
         },
         {
          "length": 3,
          "values": [
           0.5372738063357625,
           0.10477005708467506,
           0.3579561365795625
          ],
          "vectorType": "dense"
         },
         0,
         2
        ],
        [
         {
          "length": 5,
          "values": [
           1,
           0.5236364191228693,
           0.5714285065527647,
           0.3389830508474576,
           0.203125
          ],
          "vectorType": "dense"
         },
         {
          "length": 3,
          "values": [
           0.5019050420733665,
           0.13986556910178255,
           0.3582293888248509
          ],
          "vectorType": "dense"
         },
         0,
         2
        ],
        [
         {
          "length": 5,
          "values": [
           1,
           0.5381819291548295,
           0.416666685588777,
           0.3389830508474576,
           -0.046875
          ],
          "vectorType": "dense"
         },
         {
          "length": 3,
          "values": [
           0.4595804881795811,
           0.13315039291963937,
           0.40726911890077966
          ],
          "vectorType": "dense"
         },
         0,
         2
        ],
        [
         {
          "length": 5,
          "values": [
           1,
           0.5418182373046875,
           0.4999998864673381,
           0.22033898305084745,
           0.265625
          ],
          "vectorType": "dense"
         },
         {
          "length": 3,
          "values": [
           0.4932467070975224,
           0.14915598303106828,
           0.3575973098714093
          ],
          "vectorType": "dense"
         },
         0,
         2
        ],
        [
         {
          "length": 5,
          "values": [
           1,
           0.6145455100319602,
           0.7619047510921274,
           0.6440677966101694,
           0.34375
          ],
          "vectorType": "dense"
         },
         {
          "length": 3,
          "values": [
           0.36399329404658637,
           0.21831254804798214,
           0.4176941579054315
          ],
          "vectorType": "dense"
         },
         2,
         2
        ],
        [
         {
          "length": 5,
          "values": [
           1,
           0.6509091463955966,
           0.7619047510921274,
           0.4067796610169492,
           0.328125
          ],
          "vectorType": "dense"
         },
         {
          "length": 3,
          "values": [
           0.3944403459394693,
           0.14526722906674736,
           0.4602924249937833
          ],
          "vectorType": "dense"
         },
         2,
         2
        ],
        [
         {
          "length": 5,
          "values": [
           1,
           0.6690909645774148,
           0.7738095589505858,
           0.4915254237288136,
           0.375
          ],
          "vectorType": "dense"
         },
         {
          "length": 3,
          "values": [
           0.3551441696191097,
           0.17981978191507283,
           0.4650360484658175
          ],
          "vectorType": "dense"
         },
         2,
         2
        ],
        [
         {
          "length": 5,
          "values": [
           1,
           0.6800000277432529,
           0.6428571266381912,
           0.4915254237288136,
           0.5
          ],
          "vectorType": "dense"
         },
         {
          "length": 3,
          "values": [
           0.2991536536359769,
           0.28337253400684,
           0.4174738123571831
          ],
          "vectorType": "dense"
         },
         2,
         2
        ],
        [
         {
          "length": 5,
          "values": [
           1,
           0.6800000277432529,
           0.7023809388651593,
           0.6440677966101694,
           0.390625
          ],
          "vectorType": "dense"
         },
         {
          "length": 3,
          "values": [
           0.28450948765984097,
           0.27282257481988775,
           0.4426679375202712
          ],
          "vectorType": "dense"
         },
         2,
         2
        ],
        [
         {
          "length": 5,
          "values": [
           1,
           0.6836364746093749,
           0.5714285065527647,
           0.4067796610169492,
           0.2578125
          ],
          "vectorType": "dense"
         },
         {
          "length": 3,
          "values": [
           0.3202779669046664,
           0.19826885153524823,
           0.4814531815600852
          ],
          "vectorType": "dense"
         },
         2,
         2
        ],
        [
         {
          "length": 5,
          "values": [
           1,
           0.6836364746093749,
           0.7142857467236177,
           0.4067796610169492,
           0.21875
          ],
          "vectorType": "dense"
         },
         {
          "length": 3,
          "values": [
           0.3547921072478811,
           0.13718992929688284,
           0.5080179634552361
          ],
          "vectorType": "dense"
         },
         2,
         2
        ],
        [
         {
          "length": 5,
          "values": [
           1,
           0.698181845925071,
           0.726190554582076,
           0.3559322033898305,
           0.25
          ],
          "vectorType": "dense"
         },
         {
          "length": 3,
          "values": [
           0.35421917420461396,
           0.1297852345800078,
           0.5159955912153783
          ],
          "vectorType": "dense"
         },
         2,
         2
        ],
        [
         {
          "length": 5,
          "values": [
           1,
           0.698181845925071,
           0.8095237554606373,
           0.4406779661016949,
           0.265625
          ],
          "vectorType": "dense"
         },
         {
          "length": 3,
          "values": [
           0.35177471125910975,
           0.12907276834900955,
           0.5191525203918808
          ],
          "vectorType": "dense"
         },
         2,
         2
        ],
        [
         {
          "length": 5,
          "values": [
           1,
           0.7236364191228692,
           0.7023809388651593,
           0.423728813559322,
           0.40625
          ],
          "vectorType": "dense"
         },
         {
          "length": 3,
          "values": [
           0.3030074780365509,
           0.2014442778167844,
           0.4955482441466648
          ],
          "vectorType": "dense"
         },
         2,
         2
        ],
        [
         {
          "length": 5,
          "values": [
           1,
           0.7781818736683238,
           0.8095237554606373,
           0.559322033898305,
           0.515625
          ],
          "vectorType": "dense"
         },
         {
          "length": 3,
          "values": [
           0.2440163240809581,
           0.24398380719456883,
           0.5119998687244731
          ],
          "vectorType": "dense"
         },
         2,
         2
        ],
        [
         {
          "length": 5,
          "values": [
           1,
           0.8036364468661221,
           0.9166665720561151,
           0.4915254237288136,
           0.453125
          ],
          "vectorType": "dense"
         },
         {
          "length": 3,
          "values": [
           0.262663420395008,
           0.16040968123743504,
           0.5769268983675568
          ],
          "vectorType": "dense"
         },
         2,
         2
        ],
        [
         {
          "length": 5,
          "values": [
           1,
           0.8618182095614346,
           0.7976189476021789,
           0.5932203389830508,
           0.359375
          ],
          "vectorType": "dense"
         },
         {
          "length": 3,
          "values": [
           0.18399832207360334,
           0.20709050856102243,
           0.6089111693653743
          ],
          "vectorType": "dense"
         },
         2,
         2
        ],
        [
         {
          "length": 5,
          "values": [
           1,
           0.9418182373046875,
           0.5595236986943063,
           0.15254237288135594,
           0.265625
          ],
          "vectorType": "dense"
         },
         {
          "length": 3,
          "values": [
           0.16903960511469787,
           0.13947827388494435,
           0.6914821210003578
          ],
          "vectorType": "dense"
         },
         2,
         2
        ],
        [
         {
          "length": 5,
          "values": [
           2,
           0.1490909923206676,
           0.35714287336180883,
           0.2542372881355932,
           0.21875
          ],
          "vectorType": "dense"
         },
         {
          "length": 3,
          "values": [
           0.8298999400194337,
           0.058047669110700376,
           0.112052390869866
          ],
          "vectorType": "dense"
         },
         0,
         0
        ],
        [
         {
          "length": 5,
          "values": [
           2,
           0.1672728105024858,
           0.7380951353752107,
           0.3559322033898305,
           0.1875
          ],
          "vectorType": "dense"
         },
         {
          "length": 3,
          "values": [
           0.8583732761610497,
           0.026566168903477412,
           0.11506055493547292
          ],
          "vectorType": "dense"
         },
         0,
         0
        ],
        [
         {
          "length": 5,
          "values": [
           2,
           0.18545462868430396,
           0.749999943233669,
           0.2033898305084746,
           0.328125
          ],
          "vectorType": "dense"
         },
         {
          "length": 3,
          "values": [
           0.8670870759093366,
           0.0243667607276914,
           0.1085461633629719
          ],
          "vectorType": "dense"
         },
         0,
         0
        ],
        [
         {
          "length": 5,
          "values": [
           2,
           0.18909093683416192,
           0.8809523755460638,
           0.4576271186440678,
           0.2890625
          ],
          "vectorType": "dense"
         },
         {
          "length": 3,
          "values": [
           0.8491506390794554,
           0.029087364974329594,
           0.12176199594621497
          ],
          "vectorType": "dense"
         },
         0,
         0
        ],
        [
         {
          "length": 5,
          "values": [
           2,
           0.23636363636363636,
           0.46428568995728675,
           0.2711864406779661,
           0.015625
          ],
          "vectorType": "dense"
         },
         {
          "length": 3,
          "values": [
           0.7955647393932118,
           0.04005977378867535,
           0.1643754868181129
          ],
          "vectorType": "dense"
         },
         0,
         0
        ],
        [
         {
          "length": 5,
          "values": [
           2,
           0.24000008322975852,
           0.7023809388651593,
           0.3898305084745763,
           0.1875
          ],
          "vectorType": "dense"
         },
         {
          "length": 3,
          "values": [
           0.8062068390002741,
           0.0382217784365685,
           0.15557138256315728
          ],
          "vectorType": "dense"
         },
         0,
         0
        ],
        [
         {
          "length": 5,
          "values": [
           2,
           0.2727272727272727,
           0.4880953056742035,
           0.4067796610169492,
           0.21875
          ],
          "vectorType": "dense"
         },
         {
          "length": 3,
          "values": [
           0.7397811607486938,
           0.07870065313340234,
           0.18151818611790368
          ],
          "vectorType": "dense"
         },
         0,
         0
        ],
        [
         {
          "length": 5,
          "values": [
           2,
           0.2763637195933949,
           0.6309523187797328,
           0.3050847457627119,
           0.328125
          ],
          "vectorType": "dense"
         },
         {
          "length": 3,
          "values": [
           0.7812475315376047,
           0.05332291947419191,
           0.1654295489882033
          ],
          "vectorType": "dense"
         },
         0,
         0
        ],
        [
         {
          "length": 5,
          "values": [
           2,
           0.35272730047052553,
           0.749999943233669,
           0.4406779661016949,
           0.5
          ],
          "vectorType": "dense"
         },
         {
          "length": 3,
          "values": [
           0.708574327375534,
           0.08455681585090051,
           0.20686885677356537
          ],
          "vectorType": "dense"
         },
         0,
         0
        ],
        [
         {
          "length": 5,
          "values": [
           2,
           0.37818187366832384,
           0.9047619912629805,
           0.423728813559322,
           0.515625
          ],
          "vectorType": "dense"
         },
         {
          "length": 3,
          "values": [
           0.7224011335767949,
           0.05994748069058953,
           0.2176513857326156
          ],
          "vectorType": "dense"
         },
         0,
         0
        ],
        [
         {
          "length": 5,
          "values": [
           2,
           0.3927273837002841,
           0.5357143100427133,
           0.4067796610169492,
           0.578125
          ],
          "vectorType": "dense"
         },
         {
          "length": 3,
          "values": [
           0.6139698141839475,
           0.1616396492054536,
           0.22439053661059888
          ],
          "vectorType": "dense"
         },
         0,
         0
        ]
       ],
       "datasetInfos": [],
       "dbfsResultPath": null,
       "isJsonSchema": true,
       "metadata": {},
       "overflow": false,
       "plotOptions": {
        "customPlotOptions": {},
        "displayType": "table",
        "pivotAggregation": null,
        "pivotColumns": null,
        "xColumns": null,
        "yColumns": null
       },
       "removedWidgets": [],
       "schema": [
        {
         "metadata": "{\"ml_attr\":{\"attrs\":{\"numeric\":[{\"idx\":1,\"name\":\"normalizedFeatures_0\"},{\"idx\":2,\"name\":\"normalizedFeatures_1\"},{\"idx\":3,\"name\":\"normalizedFeatures_2\"},{\"idx\":4,\"name\":\"normalizedFeatures_3\"}],\"nominal\":[{\"vals\":[\"Biscoe\",\"Dream\",\"Torgersen\"],\"idx\":0,\"name\":\"IslandIdx\"}]},\"num_attrs\":5}}",
         "name": "Features",
         "type": "{\"type\":\"udt\",\"class\":\"org.apache.spark.ml.linalg.VectorUDT\",\"pyClass\":\"pyspark.ml.linalg.VectorUDT\",\"sqlType\":{\"type\":\"struct\",\"fields\":[{\"name\":\"type\",\"type\":\"byte\",\"nullable\":false,\"metadata\":{}},{\"name\":\"size\",\"type\":\"integer\",\"nullable\":true,\"metadata\":{}},{\"name\":\"indices\",\"type\":{\"type\":\"array\",\"elementType\":\"integer\",\"containsNull\":false},\"nullable\":true,\"metadata\":{}},{\"name\":\"values\",\"type\":{\"type\":\"array\",\"elementType\":\"double\",\"containsNull\":false},\"nullable\":true,\"metadata\":{}}]}}"
        },
        {
         "metadata": "{\"ml_attr\":{\"num_attrs\":3}}",
         "name": "probability",
         "type": "{\"type\":\"udt\",\"class\":\"org.apache.spark.ml.linalg.VectorUDT\",\"pyClass\":\"pyspark.ml.linalg.VectorUDT\",\"sqlType\":{\"type\":\"struct\",\"fields\":[{\"name\":\"type\",\"type\":\"byte\",\"nullable\":false,\"metadata\":{}},{\"name\":\"size\",\"type\":\"integer\",\"nullable\":true,\"metadata\":{}},{\"name\":\"indices\",\"type\":{\"type\":\"array\",\"elementType\":\"integer\",\"containsNull\":false},\"nullable\":true,\"metadata\":{}},{\"name\":\"values\",\"type\":{\"type\":\"array\",\"elementType\":\"double\",\"containsNull\":false},\"nullable\":true,\"metadata\":{}}]}}"
        },
        {
         "metadata": "{}",
         "name": "prediction",
         "type": "\"integer\""
        },
        {
         "metadata": "{}",
         "name": "trueLabel",
         "type": "\"integer\""
        }
       ],
       "type": "table"
      }
     },
     "output_type": "display_data"
    }
   ],
   "source": [
    "prediction = model.transform(test)\n",
    "predicted = prediction.select(\"Features\", \"probability\", col(\"prediction\").astype(\"Int\"), col(\"Species\").alias(\"trueLabel\"))\n",
    "display(predicted)"
   ]
  },
  {
   "cell_type": "markdown",
   "metadata": {
    "application/vnd.databricks.v1+cell": {
     "cellMetadata": {},
     "inputWidgets": {},
     "nuid": "cb1ce068-69ad-4199-ba87-92a8e301abf7",
     "showTitle": false,
     "tableResultSettingsMap": {},
     "title": ""
    }
   },
   "source": [
    "### Try a different algorithm\n",
    "\n",
    "create a pipeline that uses a Decision tree algorithm"
   ]
  },
  {
   "cell_type": "code",
   "execution_count": 0,
   "metadata": {
    "application/vnd.databricks.v1+cell": {
     "cellMetadata": {
      "byteLimit": 2048000,
      "rowLimit": 10000
     },
     "inputWidgets": {},
     "nuid": "f594446a-eb47-470b-9243-8a840e7854f6",
     "showTitle": false,
     "tableResultSettingsMap": {},
     "title": ""
    }
   },
   "outputs": [
    {
     "data": {
      "application/vnd.jupyter.widget-view+json": {
       "model_id": "0eb966b0c9104b51a9fb2329b944649f",
       "version_major": 2,
       "version_minor": 0
      },
      "text/plain": [
       "Downloading artifacts:   0%|          | 0/45 [00:00<?, ?it/s]"
      ]
     },
     "metadata": {},
     "output_type": "display_data"
    },
    {
     "data": {
      "application/vnd.jupyter.widget-view+json": {
       "model_id": "1442bc935dd541449ecda4990305f16d",
       "version_major": 2,
       "version_minor": 0
      },
      "text/plain": [
       "Uploading artifacts:   0%|          | 0/4 [00:00<?, ?it/s]"
      ]
     },
     "metadata": {},
     "output_type": "display_data"
    },
    {
     "name": "stdout",
     "output_type": "stream",
     "text": [
      "Model trained!\n"
     ]
    }
   ],
   "source": [
    "from pyspark.ml import Pipeline\n",
    "from pyspark.ml.feature import StringIndexer, VectorAssembler, MinMaxScaler\n",
    "from pyspark.ml.classification import DecisionTreeClassifier\n",
    "   \n",
    "catFeature = \"Island\"\n",
    "numFeatures = [\"CulmenLength\", \"CulmenDepth\", \"FlipperLength\", \"BodyMass\"]\n",
    "   \n",
    "# Define the feature engineering and model steps\n",
    "catIndexer = StringIndexer(inputCol=catFeature, outputCol=catFeature + \"Idx\")\n",
    "numVector = VectorAssembler(inputCols=numFeatures, outputCol=\"numericFeatures\")\n",
    "numScaler = MinMaxScaler(inputCol = numVector.getOutputCol(), outputCol=\"normalizedFeatures\")\n",
    "featureVector = VectorAssembler(inputCols=[\"IslandIdx\", \"normalizedFeatures\"], outputCol=\"Features\")\n",
    "algo = DecisionTreeClassifier(labelCol=\"Species\", featuresCol=\"Features\", maxDepth=10)\n",
    "   \n",
    "# Chain the steps as stages in a pipeline\n",
    "pipeline = Pipeline(stages=[catIndexer, numVector, numScaler, featureVector, algo])\n",
    "   \n",
    "# Use the pipeline to prepare data and fit the model algorithm\n",
    "model = pipeline.fit(train)\n",
    "print (\"Model trained!\")"
   ]
  },
  {
   "cell_type": "markdown",
   "metadata": {
    "application/vnd.databricks.v1+cell": {
     "cellMetadata": {},
     "inputWidgets": {},
     "nuid": "eac88348-5da9-456e-95d4-8008c864c497",
     "showTitle": false,
     "tableResultSettingsMap": {},
     "title": ""
    }
   },
   "source": [
    "use the new pipeline with the test data"
   ]
  },
  {
   "cell_type": "code",
   "execution_count": 0,
   "metadata": {
    "application/vnd.databricks.v1+cell": {
     "cellMetadata": {
      "byteLimit": 2048000,
      "rowLimit": 10000
     },
     "inputWidgets": {},
     "nuid": "45e8fd12-92e3-43b3-9c56-8912f5e9e5fc",
     "showTitle": false,
     "tableResultSettingsMap": {},
     "title": ""
    }
   },
   "outputs": [
    {
     "name": "stdout",
     "output_type": "stream",
     "text": [
      "Accuracy: 0.978021978021978\n",
      "\n",
      "Individual class metrics:\n",
      "Class 0\n",
      "\tPrecision: 0.9722222222222222\n",
      "\tRecall: 0.9722222222222222\n",
      "\tF1 Score: 0.9722222222222222\n",
      "Class 1\n",
      "\tPrecision: 0.96875\n",
      "\tRecall: 1.0\n",
      "\tF1 Score: 0.9841269841269841\n",
      "Class 2\n",
      "\tPrecision: 1.0\n",
      "\tRecall: 0.9583333333333334\n",
      "\tF1 Score: 0.9787234042553191\n",
      "Overall Precision: 0.9783653846153846\n",
      "Overall Recall: 0.9780219780219781\n",
      "Overall F1 Score: 0.9779922880226832\n"
     ]
    }
   ],
   "source": [
    "# Get predictions\n",
    "prediction = model.transform(test)\n",
    "predicted = prediction.select(\"Features\", \"probability\", col(\"prediction\").astype(\"Int\"), col(\"Species\").alias(\"trueLabel\"))\n",
    "   \n",
    "# Generate evaluation metrics\n",
    "from pyspark.ml.evaluation import MulticlassClassificationEvaluator\n",
    "   \n",
    "evaluator = MulticlassClassificationEvaluator(labelCol=\"Species\", predictionCol=\"prediction\")\n",
    "   \n",
    "# Simple accuracy\n",
    "accuracy = evaluator.evaluate(prediction, {evaluator.metricName:\"accuracy\"})\n",
    "print(\"Accuracy:\", accuracy)\n",
    "   \n",
    "# Class metrics\n",
    "labels = [0,1,2]\n",
    "print(\"\\nIndividual class metrics:\")\n",
    "for label in sorted(labels):\n",
    "    print (\"Class %s\" % (label))\n",
    "   \n",
    "    # Precision\n",
    "    precision = evaluator.evaluate(prediction, {evaluator.metricLabel:label,\n",
    "      evaluator.metricName:\"precisionByLabel\"})\n",
    "    print(\"\\tPrecision:\", precision)\n",
    "   \n",
    "    # Recall\n",
    "    recall = evaluator.evaluate(prediction, {evaluator.metricLabel:label,\n",
    "      evaluator.metricName:\"recallByLabel\"})\n",
    "    print(\"\\tRecall:\", recall)\n",
    "   \n",
    "    # F1 score\n",
    "    f1 = evaluator.evaluate(prediction, {evaluator.metricLabel:label,\n",
    "      evaluator.metricName:\"fMeasureByLabel\"})\n",
    "    print(\"\\tF1 Score:\", f1)\n",
    "   \n",
    "# Weighed (overall) metrics\n",
    "overallPrecision = evaluator.evaluate(prediction, {evaluator.metricName:\"weightedPrecision\"})\n",
    "print(\"Overall Precision:\", overallPrecision)\n",
    "overallRecall = evaluator.evaluate(prediction, {evaluator.metricName:\"weightedRecall\"})\n",
    "print(\"Overall Recall:\", overallRecall)\n",
    "overallF1 = evaluator.evaluate(prediction, {evaluator.metricName:\"weightedFMeasure\"})\n",
    "print(\"Overall F1 Score:\", overallF1)"
   ]
  },
  {
   "cell_type": "markdown",
   "metadata": {
    "application/vnd.databricks.v1+cell": {
     "cellMetadata": {},
     "inputWidgets": {},
     "nuid": "e2615e97-2d5d-45ab-a240-2e0ef964e541",
     "showTitle": false,
     "tableResultSettingsMap": {},
     "title": ""
    }
   },
   "source": [
    "### Save the model\n",
    "\n",
    "In reality, you’d iteratively try training the model with different algorithms (and parameters) to find the best model for your data. For now, we’ll stick with the decision trees model we’ve trained. Let’s save it so we can use it later with some new penguin observations."
   ]
  },
  {
   "cell_type": "code",
   "execution_count": 0,
   "metadata": {
    "application/vnd.databricks.v1+cell": {
     "cellMetadata": {
      "byteLimit": 2048000,
      "rowLimit": 10000
     },
     "inputWidgets": {},
     "nuid": "646a2177-94b8-4eb4-b184-d7bc4ded994b",
     "showTitle": false,
     "tableResultSettingsMap": {},
     "title": ""
    }
   },
   "outputs": [],
   "source": [
    "model.save(\"/models/penguin.model\")"
   ]
  },
  {
   "cell_type": "markdown",
   "metadata": {
    "application/vnd.databricks.v1+cell": {
     "cellMetadata": {},
     "inputWidgets": {},
     "nuid": "b51d66c7-300b-4240-8ea6-9afaa70d73d1",
     "showTitle": false,
     "tableResultSettingsMap": {},
     "title": ""
    }
   },
   "source": [
    "load the model and use it to predict the species for a new penguin observation"
   ]
  },
  {
   "cell_type": "code",
   "execution_count": 0,
   "metadata": {
    "application/vnd.databricks.v1+cell": {
     "cellMetadata": {
      "byteLimit": 2048000,
      "rowLimit": 10000
     },
     "inputWidgets": {},
     "nuid": "2ca13f60-fb1d-4488-8d23-60e2fc9c2227",
     "showTitle": false,
     "tableResultSettingsMap": {},
     "title": ""
    }
   },
   "outputs": [
    {
     "data": {
      "text/html": [
       "<style scoped>\n",
       "  .table-result-container {\n",
       "    max-height: 300px;\n",
       "    overflow: auto;\n",
       "  }\n",
       "  table, th, td {\n",
       "    border: 1px solid black;\n",
       "    border-collapse: collapse;\n",
       "  }\n",
       "  th, td {\n",
       "    padding: 5px;\n",
       "  }\n",
       "  th {\n",
       "    text-align: left;\n",
       "  }\n",
       "</style><div class='table-result-container'><table class='table-result'><thead style='background-color: white'><tr><th>Island</th><th>CulmenDepth</th><th>CulmenLength</th><th>FlipperLength</th><th>BodyMass</th><th>PredictedSpecies</th></tr></thead><tbody><tr><td>Biscoe</td><td>14.5</td><td>47.6</td><td>215</td><td>5400</td><td>1.0</td></tr></tbody></table></div>"
      ]
     },
     "metadata": {
      "application/vnd.databricks.v1+output": {
       "addedWidgets": {},
       "aggData": [],
       "aggError": "",
       "aggOverflow": false,
       "aggSchema": [],
       "aggSeriesLimitReached": false,
       "aggType": "",
       "arguments": {},
       "columnCustomDisplayInfos": {},
       "data": [
        [
         "Biscoe",
         14.5,
         47.6,
         215,
         5400,
         1
        ]
       ],
       "datasetInfos": [],
       "dbfsResultPath": null,
       "isJsonSchema": true,
       "metadata": {},
       "overflow": false,
       "plotOptions": {
        "customPlotOptions": {},
        "displayType": "table",
        "pivotAggregation": null,
        "pivotColumns": null,
        "xColumns": null,
        "yColumns": null
       },
       "removedWidgets": [],
       "schema": [
        {
         "metadata": "{}",
         "name": "Island",
         "type": "\"string\""
        },
        {
         "metadata": "{}",
         "name": "CulmenDepth",
         "type": "\"double\""
        },
        {
         "metadata": "{}",
         "name": "CulmenLength",
         "type": "\"double\""
        },
        {
         "metadata": "{}",
         "name": "FlipperLength",
         "type": "\"long\""
        },
        {
         "metadata": "{}",
         "name": "BodyMass",
         "type": "\"long\""
        },
        {
         "metadata": "{\"ml_attr\":{\"type\":\"nominal\",\"num_vals\":3}}",
         "name": "PredictedSpecies",
         "type": "\"double\""
        }
       ],
       "type": "table"
      }
     },
     "output_type": "display_data"
    }
   ],
   "source": [
    "from pyspark.ml.pipeline import PipelineModel\n",
    "\n",
    "persistedModel = PipelineModel.load(\"/models/penguin.model\")\n",
    "   \n",
    "newData = spark.createDataFrame ([{\n",
    "  \"Island\": \"Biscoe\",\n",
    "  \"CulmenLength\": 47.6,\n",
    "  \"CulmenDepth\": 14.5,\n",
    "  \"FlipperLength\": 215,\n",
    "  \"BodyMass\": 5400\n",
    "  }])\n",
    "\n",
    "predictions = persistedModel.transform(newData)\n",
    "display(predictions.select(\"Island\", \"CulmenDepth\", \"CulmenLength\", \"FlipperLength\", \"BodyMass\", col(\"prediction\").alias(\"PredictedSpecies\")))"
   ]
  }
 ],
 "metadata": {
  "application/vnd.databricks.v1+notebook": {
   "computePreferences": null,
   "dashboards": [],
   "environmentMetadata": {
    "base_environment": "",
    "client": "1"
   },
   "language": "python",
   "notebookMetadata": {
    "mostRecentlyExecutedCommandWithImplicitDF": {
     "commandId": 7502733645367163,
     "dataframes": [
      "_sqldf"
     ]
    },
    "pythonIndentUnit": 4
   },
   "notebookName": "Machine Learning",
   "widgets": {}
  },
  "language_info": {
   "name": "python"
  }
 },
 "nbformat": 4,
 "nbformat_minor": 0
}
