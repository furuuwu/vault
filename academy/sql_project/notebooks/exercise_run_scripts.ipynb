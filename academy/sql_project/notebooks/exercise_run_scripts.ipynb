{
 "cells": [
  {
   "cell_type": "code",
   "execution_count": 1,
   "metadata": {},
   "outputs": [],
   "source": [
    "import pymysql"
   ]
  },
  {
   "cell_type": "markdown",
   "metadata": {},
   "source": [
    "connect to the database\n",
    "- using your MySQL/MariaDB credentials and database name"
   ]
  },
  {
   "cell_type": "code",
   "execution_count": 2,
   "metadata": {},
   "outputs": [],
   "source": [
    "db_url = '172.18.0.1'\n",
    "db_port = 3306\n",
    "db_name = 'sakila'\n",
    "db_user = 'root'\n",
    "db_password = 'rootpassword'"
   ]
  },
  {
   "cell_type": "code",
   "execution_count": 4,
   "metadata": {},
   "outputs": [],
   "source": [
    "connection = pymysql.connect(\n",
    "    host=db_url,\n",
    "    user=db_user,\n",
    "    password=db_password,\n",
    "    database=db_name\n",
    ")"
   ]
  },
  {
   "cell_type": "markdown",
   "metadata": {},
   "source": [
    "execute SQL commands in the Jupyter notebook using the connection object."
   ]
  },
  {
   "cell_type": "code",
   "execution_count": 12,
   "metadata": {},
   "outputs": [],
   "source": [
    "# Create a cursor object to interact with the database\n",
    "# cursor = connection.cursor()"
   ]
  },
  {
   "cell_type": "code",
   "execution_count": 17,
   "metadata": {},
   "outputs": [
    {
     "data": {
      "text/plain": [
       "\"\\ndef execute_sql_script(file_path):\\n    with open(file_path, 'r') as file:\\n        sql_script = file.read()\\n    for statement in sql_script.split(';'):\\n        if statement.strip():  # Only execute non-empty statements\\n            cursor.execute(statement)\\n            connection.commit()  # Commit each statement\\n\""
      ]
     },
     "execution_count": 17,
     "metadata": {},
     "output_type": "execute_result"
    }
   ],
   "source": [
    "# Function to read and execute SQL script\n",
    "\"\"\"\n",
    "def execute_sql_script(file_path):\n",
    "    with open(file_path, 'r') as file:\n",
    "        sql_script = file.read()\n",
    "    for statement in sql_script.split(';'):\n",
    "        if statement.strip():  # Only execute non-empty statements\n",
    "            cursor.execute(statement)\n",
    "            connection.commit()  # Commit each statement\n",
    "\"\"\"\n"
   ]
  },
  {
   "cell_type": "code",
   "execution_count": 20,
   "metadata": {},
   "outputs": [],
   "source": [
    "def execute_sql_script(file_path):\n",
    "    connection = pymysql.connect(\n",
    "        host=db_url,\n",
    "        user=db_user,\n",
    "        password=db_password,\n",
    "        database=db_name\n",
    "    )\n",
    "    try:\n",
    "        cursor = connection.cursor()\n",
    "        with open(file_path, 'r') as file:\n",
    "            sql_script = file.read()\n",
    "        \n",
    "        for statement in sql_script.split(';'):\n",
    "            if statement.strip():\n",
    "                print(f\"Executing: {statement[:30]}...\")  # Log the start of execution\n",
    "                cursor.execute(statement)\n",
    "                connection.commit()\n",
    "    except pymysql.MySQLError as e:\n",
    "        print(f\"MySQL Error: {e}\")\n",
    "    except FileNotFoundError:\n",
    "        print(\"SQL file not found.\")\n",
    "    finally:\n",
    "        if connection:\n",
    "            connection.close()"
   ]
  },
  {
   "cell_type": "code",
   "execution_count": 28,
   "metadata": {},
   "outputs": [
    {
     "name": "stdout",
     "output_type": "stream",
     "text": [
      "Executing: SET NAMES utf8mb4...\n",
      "Executing: \n",
      "SET @OLD_UNIQUE_CHECKS=@@UNIQ...\n",
      "Executing: \n",
      "SET @OLD_FOREIGN_KEY_CHECKS=@...\n",
      "Executing: \n",
      "SET @OLD_SQL_MODE=@@SQL_MODE,...\n",
      "Executing: \n",
      "\n",
      "DROP SCHEMA IF EXISTS sakila...\n",
      "Executing: \n",
      "CREATE SCHEMA sakila...\n",
      "Executing: \n",
      "USE sakila...\n",
      "Executing: \n",
      "\n",
      "--\n",
      "-- Table structure for ta...\n",
      "Executing: \n",
      "\n",
      "--\n",
      "-- Table structure for ta...\n",
      "Executing: \n",
      "\n",
      "--\n",
      "-- Table structure for ta...\n",
      "Executing: \n",
      "\n",
      "--\n",
      "-- Table structure for ta...\n",
      "Executing: \n",
      "\n",
      "--\n",
      "-- Table structure for ta...\n",
      "Executing: \n",
      "\n",
      "--\n",
      "-- Table structure for ta...\n",
      "Executing: \n",
      "\n",
      "--\n",
      "-- Table structure for ta...\n",
      "Executing: \n",
      "\n",
      "--\n",
      "-- Table structure for ta...\n",
      "Executing: \n",
      "\n",
      "--\n",
      "-- Table structure for ta...\n",
      "Executing: \n",
      "\n",
      "--\n",
      "-- Table structure for ta...\n",
      "Executing: \n",
      "SET @@default_storage_engine ...\n",
      "Executing: \n",
      "/*!50610 SET @@default_storag...\n",
      "Executing: \n",
      "\n",
      "CREATE TABLE film_text (\n",
      "  f...\n",
      "Executing: \n",
      "\n",
      "SET @@default_storage_engine...\n",
      "Executing: \n",
      "\n",
      "--\n",
      "-- Triggers for loading f...\n",
      "MySQL Error: (1064, \"You have an error in your SQL syntax; check the manual that corresponds to your MariaDB server version for the right syntax to use near 'DELIMITER //\\nCREATE TRIGGER `ins_film` AFTER INSERT ON `film` FOR EACH ROW BE...' at line 5\")\n"
     ]
    }
   ],
   "source": [
    "execute_sql_script('sakila/1. sakila-schema-v3.sql')"
   ]
  },
  {
   "cell_type": "code",
   "execution_count": 26,
   "metadata": {},
   "outputs": [
    {
     "name": "stdout",
     "output_type": "stream",
     "text": [
      "Executing: -- Sakila Sample Database Data...\n",
      "Executing:  LOSS OF USE, DATA, OR\n",
      "-- PROF...\n",
      "MySQL Error: (1064, \"You have an error in your SQL syntax; check the manual that corresponds to your MariaDB server version for the right syntax to use near 'LOSS OF USE, DATA, OR\\n-- PROFITS' at line 1\")\n"
     ]
    }
   ],
   "source": [
    "execute_sql_script('sakila/2. sakila-data_dspa.sql')"
   ]
  },
  {
   "cell_type": "code",
   "execution_count": 10,
   "metadata": {},
   "outputs": [],
   "source": [
    "# Close the cursor and connection after the operation\n",
    "cursor.close()\n",
    "connection.close()"
   ]
  },
  {
   "cell_type": "code",
   "execution_count": null,
   "metadata": {},
   "outputs": [],
   "source": []
  }
 ],
 "metadata": {
  "kernelspec": {
   "display_name": "venv",
   "language": "python",
   "name": "python3"
  },
  "language_info": {
   "codemirror_mode": {
    "name": "ipython",
    "version": 3
   },
   "file_extension": ".py",
   "mimetype": "text/x-python",
   "name": "python",
   "nbconvert_exporter": "python",
   "pygments_lexer": "ipython3",
   "version": "3.10.0"
  }
 },
 "nbformat": 4,
 "nbformat_minor": 2
}
