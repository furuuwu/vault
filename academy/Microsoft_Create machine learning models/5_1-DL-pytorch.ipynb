{
 "cells": [
  {
   "cell_type": "markdown",
   "metadata": {},
   "source": [
    "# Deep Learning with PyTorch\n",
    "\n",
    "Classical machine learning relies on using statistics to determine relationships between features and labels, and can be very effective for creating predictive models. However, a massive growth in the availability of data coupled with advances in the computing technology required to process it has led to the emergence of new machine learning techniques that mimic the way the brain processes information in a structure called an artificial neural network.\n",
    "\n",
    "PyTorch is a framework for creating machine learning models, including deep neural networks (DNNs). In this example, we'll use PyTorch to create a simple neural network that classifies penguins into species based on the length and depth of their culmen (bill), their flipper length, and their body mass.\n",
    "\n",
    "> **Citation**: The penguins dataset used in the this exercise is a subset of data collected and made available by [Dr. Kristen\n",
    "Gorman](https://www.uaf.edu/cfos/people/faculty/detail/kristen-gorman.php)\n",
    "and the [Palmer Station, Antarctica LTER](https://pal.lternet.edu/), a\n",
    "member of the [Long Term Ecological Research\n",
    "Network](https://lternet.edu/).\n",
    "\n",
    "## Explore the Dataset\n",
    "\n",
    "Before we start using PyTorch to create a model, let's load the data we need from the Palmer Islands penguins dataset, which contains observations of three different species of penguin.\n",
    "\n",
    "> **Note**: In reality, you can solve the penguin classification problem easily using classical machine learning techniques without the need for a deep learning model; but it's a useful, easy to understand dataset with which to demonstrate the principles of neural networks in this notebook."
   ]
  },
  {
   "cell_type": "code",
   "execution_count": 1,
   "metadata": {},
   "outputs": [],
   "source": [
    "import numpy as np\n",
    "import pandas as pd"
   ]
  },
  {
   "cell_type": "code",
   "execution_count": 2,
   "metadata": {},
   "outputs": [],
   "source": [
    "# load the training dataset (excluding rows with null values)\n",
    "penguins = pd.read_csv('data/penguins.csv').dropna()"
   ]
  },
  {
   "cell_type": "code",
   "execution_count": 3,
   "metadata": {},
   "outputs": [
    {
     "data": {
      "text/html": [
       "<div>\n",
       "<style scoped>\n",
       "    .dataframe tbody tr th:only-of-type {\n",
       "        vertical-align: middle;\n",
       "    }\n",
       "\n",
       "    .dataframe tbody tr th {\n",
       "        vertical-align: top;\n",
       "    }\n",
       "\n",
       "    .dataframe thead th {\n",
       "        text-align: right;\n",
       "    }\n",
       "</style>\n",
       "<table border=\"1\" class=\"dataframe\">\n",
       "  <thead>\n",
       "    <tr style=\"text-align: right;\">\n",
       "      <th></th>\n",
       "      <th>CulmenLength</th>\n",
       "      <th>CulmenDepth</th>\n",
       "      <th>FlipperLength</th>\n",
       "      <th>BodyMass</th>\n",
       "      <th>Species</th>\n",
       "    </tr>\n",
       "  </thead>\n",
       "  <tbody>\n",
       "    <tr>\n",
       "      <th>0</th>\n",
       "      <td>39.1</td>\n",
       "      <td>18.7</td>\n",
       "      <td>181.0</td>\n",
       "      <td>3750.0</td>\n",
       "      <td>0</td>\n",
       "    </tr>\n",
       "    <tr>\n",
       "      <th>1</th>\n",
       "      <td>39.5</td>\n",
       "      <td>17.4</td>\n",
       "      <td>186.0</td>\n",
       "      <td>3800.0</td>\n",
       "      <td>0</td>\n",
       "    </tr>\n",
       "    <tr>\n",
       "      <th>2</th>\n",
       "      <td>40.3</td>\n",
       "      <td>18.0</td>\n",
       "      <td>195.0</td>\n",
       "      <td>3250.0</td>\n",
       "      <td>0</td>\n",
       "    </tr>\n",
       "    <tr>\n",
       "      <th>4</th>\n",
       "      <td>36.7</td>\n",
       "      <td>19.3</td>\n",
       "      <td>193.0</td>\n",
       "      <td>3450.0</td>\n",
       "      <td>0</td>\n",
       "    </tr>\n",
       "    <tr>\n",
       "      <th>5</th>\n",
       "      <td>39.3</td>\n",
       "      <td>20.6</td>\n",
       "      <td>190.0</td>\n",
       "      <td>3650.0</td>\n",
       "      <td>0</td>\n",
       "    </tr>\n",
       "  </tbody>\n",
       "</table>\n",
       "</div>"
      ],
      "text/plain": [
       "   CulmenLength  CulmenDepth  FlipperLength  BodyMass  Species\n",
       "0          39.1         18.7          181.0    3750.0        0\n",
       "1          39.5         17.4          186.0    3800.0        0\n",
       "2          40.3         18.0          195.0    3250.0        0\n",
       "4          36.7         19.3          193.0    3450.0        0\n",
       "5          39.3         20.6          190.0    3650.0        0"
      ]
     },
     "execution_count": 3,
     "metadata": {},
     "output_type": "execute_result"
    }
   ],
   "source": [
    "penguins.head()"
   ]
  },
  {
   "cell_type": "code",
   "execution_count": 4,
   "metadata": {},
   "outputs": [
    {
     "name": "stdout",
     "output_type": "stream",
     "text": [
      "<class 'pandas.core.frame.DataFrame'>\n",
      "Index: 342 entries, 0 to 343\n",
      "Data columns (total 5 columns):\n",
      " #   Column         Non-Null Count  Dtype  \n",
      "---  ------         --------------  -----  \n",
      " 0   CulmenLength   342 non-null    float64\n",
      " 1   CulmenDepth    342 non-null    float64\n",
      " 2   FlipperLength  342 non-null    float64\n",
      " 3   BodyMass       342 non-null    float64\n",
      " 4   Species        342 non-null    int64  \n",
      "dtypes: float64(4), int64(1)\n",
      "memory usage: 16.0 KB\n"
     ]
    }
   ],
   "source": [
    "penguins.info()"
   ]
  },
  {
   "cell_type": "code",
   "execution_count": 5,
   "metadata": {},
   "outputs": [],
   "source": [
    "use_StandardScaler = True"
   ]
  },
  {
   "cell_type": "code",
   "execution_count": 6,
   "metadata": {},
   "outputs": [],
   "source": [
    "# Deep Learning models work best when features are on similar scales\n",
    "\n",
    "if use_StandardScaler:\n",
    "    from sklearn.preprocessing import StandardScaler\n",
    "    # Initialize the StandardScaler\n",
    "    scaler = StandardScaler()\n",
    "\n",
    "    # Select the columns to scale\n",
    "    columns_to_scale = ['FlipperLength', 'BodyMass', 'CulmenLength', 'CulmenDepth']\n",
    "\n",
    "    # Fit the scaler and transform the data\n",
    "    penguins[columns_to_scale] = scaler.fit_transform(penguins[columns_to_scale])\n",
    "else:\n",
    "    # In a real solution, we'd implement some custom normalization for each feature, but to keep things simple\n",
    "    # we'll just rescale the FlipperLength and BodyMass so they're on a similar scale to the bill measurements\n",
    "    penguins['FlipperLength'] = penguins['FlipperLength']/10\n",
    "    penguins['BodyMass'] = penguins['BodyMass']/100"
   ]
  },
  {
   "cell_type": "code",
   "execution_count": 7,
   "metadata": {},
   "outputs": [
    {
     "data": {
      "text/html": [
       "<div>\n",
       "<style scoped>\n",
       "    .dataframe tbody tr th:only-of-type {\n",
       "        vertical-align: middle;\n",
       "    }\n",
       "\n",
       "    .dataframe tbody tr th {\n",
       "        vertical-align: top;\n",
       "    }\n",
       "\n",
       "    .dataframe thead th {\n",
       "        text-align: right;\n",
       "    }\n",
       "</style>\n",
       "<table border=\"1\" class=\"dataframe\">\n",
       "  <thead>\n",
       "    <tr style=\"text-align: right;\">\n",
       "      <th></th>\n",
       "      <th>CulmenLength</th>\n",
       "      <th>CulmenDepth</th>\n",
       "      <th>FlipperLength</th>\n",
       "      <th>BodyMass</th>\n",
       "      <th>Species</th>\n",
       "    </tr>\n",
       "  </thead>\n",
       "  <tbody>\n",
       "    <tr>\n",
       "      <th>0</th>\n",
       "      <td>-0.884499</td>\n",
       "      <td>0.785449</td>\n",
       "      <td>-1.418347</td>\n",
       "      <td>-0.564142</td>\n",
       "      <td>0</td>\n",
       "    </tr>\n",
       "    <tr>\n",
       "      <th>1</th>\n",
       "      <td>-0.811126</td>\n",
       "      <td>0.126188</td>\n",
       "      <td>-1.062250</td>\n",
       "      <td>-0.501703</td>\n",
       "      <td>0</td>\n",
       "    </tr>\n",
       "    <tr>\n",
       "      <th>2</th>\n",
       "      <td>-0.664380</td>\n",
       "      <td>0.430462</td>\n",
       "      <td>-0.421277</td>\n",
       "      <td>-1.188532</td>\n",
       "      <td>0</td>\n",
       "    </tr>\n",
       "    <tr>\n",
       "      <th>4</th>\n",
       "      <td>-1.324737</td>\n",
       "      <td>1.089724</td>\n",
       "      <td>-0.563715</td>\n",
       "      <td>-0.938776</td>\n",
       "      <td>0</td>\n",
       "    </tr>\n",
       "    <tr>\n",
       "      <th>5</th>\n",
       "      <td>-0.847812</td>\n",
       "      <td>1.748985</td>\n",
       "      <td>-0.777373</td>\n",
       "      <td>-0.689020</td>\n",
       "      <td>0</td>\n",
       "    </tr>\n",
       "  </tbody>\n",
       "</table>\n",
       "</div>"
      ],
      "text/plain": [
       "   CulmenLength  CulmenDepth  FlipperLength  BodyMass  Species\n",
       "0     -0.884499     0.785449      -1.418347 -0.564142        0\n",
       "1     -0.811126     0.126188      -1.062250 -0.501703        0\n",
       "2     -0.664380     0.430462      -0.421277 -1.188532        0\n",
       "4     -1.324737     1.089724      -0.563715 -0.938776        0\n",
       "5     -0.847812     1.748985      -0.777373 -0.689020        0"
      ]
     },
     "execution_count": 7,
     "metadata": {},
     "output_type": "execute_result"
    }
   ],
   "source": [
    "penguins.head()"
   ]
  },
  {
   "cell_type": "code",
   "execution_count": 8,
   "metadata": {},
   "outputs": [],
   "source": [
    "use_SMOTE = True"
   ]
  },
  {
   "cell_type": "code",
   "execution_count": 9,
   "metadata": {},
   "outputs": [
    {
     "name": "stdout",
     "output_type": "stream",
     "text": [
      "Original dataset shape: (342, 5)\n",
      "Resampled dataset shape: (453, 5)\n"
     ]
    }
   ],
   "source": [
    "# The dataset is too small to be useful for deep learning\n",
    "# So we'll oversample it to increase its size\n",
    "\n",
    "if use_SMOTE:\n",
    "    from imblearn.over_sampling import SMOTE\n",
    "    # Separate features (X) and target (y)\n",
    "    X = penguins.drop(columns=['Species'])  # Replace 'Species' with your target column\n",
    "    y = penguins['Species']\n",
    "\n",
    "    # Initialize the SMOTE oversampler\n",
    "    smote = SMOTE(random_state=42)\n",
    "\n",
    "    # Generate oversampled data\n",
    "    X_resampled, y_resampled = smote.fit_resample(X, y)\n",
    "\n",
    "    # Combine the resampled features and target into a new DataFrame\n",
    "    penguins_resampled = pd.concat([pd.DataFrame(X_resampled, columns=X.columns), \n",
    "                                    pd.DataFrame(y_resampled, columns=['Species'])], axis=1)\n",
    "\n",
    "    # Display the shape of the original and resampled datasets\n",
    "    print(f\"Original dataset shape: {penguins.shape}\")\n",
    "    print(f\"Resampled dataset shape: {penguins_resampled.shape}\")\n",
    "\n",
    "else:\n",
    "\n",
    "    # Oversample the dataset by concatenating it multiple times\n",
    "    for i in range(1,3):\n",
    "        # penguins = penguins.append(penguins)\n",
    "        penguins_resampled = pd.concat([penguins, penguins], ignore_index=True)"
   ]
  },
  {
   "cell_type": "code",
   "execution_count": 10,
   "metadata": {},
   "outputs": [
    {
     "name": "stdout",
     "output_type": "stream",
     "text": [
      "(453, 5)\n"
     ]
    },
    {
     "data": {
      "text/html": [
       "<div>\n",
       "<style scoped>\n",
       "    .dataframe tbody tr th:only-of-type {\n",
       "        vertical-align: middle;\n",
       "    }\n",
       "\n",
       "    .dataframe tbody tr th {\n",
       "        vertical-align: top;\n",
       "    }\n",
       "\n",
       "    .dataframe thead th {\n",
       "        text-align: right;\n",
       "    }\n",
       "</style>\n",
       "<table border=\"1\" class=\"dataframe\">\n",
       "  <thead>\n",
       "    <tr style=\"text-align: right;\">\n",
       "      <th></th>\n",
       "      <th>CulmenLength</th>\n",
       "      <th>CulmenDepth</th>\n",
       "      <th>FlipperLength</th>\n",
       "      <th>BodyMass</th>\n",
       "      <th>Species</th>\n",
       "    </tr>\n",
       "  </thead>\n",
       "  <tbody>\n",
       "    <tr>\n",
       "      <th>363</th>\n",
       "      <td>-0.042196</td>\n",
       "      <td>-1.845526</td>\n",
       "      <td>0.535921</td>\n",
       "      <td>0.212609</td>\n",
       "      <td>1</td>\n",
       "    </tr>\n",
       "    <tr>\n",
       "      <th>381</th>\n",
       "      <td>1.036135</td>\n",
       "      <td>0.531887</td>\n",
       "      <td>-0.553218</td>\n",
       "      <td>-0.475401</td>\n",
       "      <td>2</td>\n",
       "    </tr>\n",
       "    <tr>\n",
       "      <th>380</th>\n",
       "      <td>1.837652</td>\n",
       "      <td>0.759253</td>\n",
       "      <td>-0.900474</td>\n",
       "      <td>-0.664417</td>\n",
       "      <td>2</td>\n",
       "    </tr>\n",
       "    <tr>\n",
       "      <th>22</th>\n",
       "      <td>-1.049588</td>\n",
       "      <td>0.481175</td>\n",
       "      <td>-1.133470</td>\n",
       "      <td>-0.314386</td>\n",
       "      <td>0</td>\n",
       "    </tr>\n",
       "    <tr>\n",
       "      <th>400</th>\n",
       "      <td>1.312314</td>\n",
       "      <td>1.439303</td>\n",
       "      <td>0.292722</td>\n",
       "      <td>0.081481</td>\n",
       "      <td>2</td>\n",
       "    </tr>\n",
       "    <tr>\n",
       "      <th>227</th>\n",
       "      <td>0.656334</td>\n",
       "      <td>-1.496609</td>\n",
       "      <td>0.575793</td>\n",
       "      <td>0.497321</td>\n",
       "      <td>1</td>\n",
       "    </tr>\n",
       "    <tr>\n",
       "      <th>245</th>\n",
       "      <td>0.106037</td>\n",
       "      <td>-1.243047</td>\n",
       "      <td>0.931890</td>\n",
       "      <td>0.809516</td>\n",
       "      <td>1</td>\n",
       "    </tr>\n",
       "    <tr>\n",
       "      <th>37</th>\n",
       "      <td>-1.159648</td>\n",
       "      <td>1.089724</td>\n",
       "      <td>-1.418347</td>\n",
       "      <td>-1.126093</td>\n",
       "      <td>0</td>\n",
       "    </tr>\n",
       "    <tr>\n",
       "      <th>232</th>\n",
       "      <td>1.573497</td>\n",
       "      <td>-0.786635</td>\n",
       "      <td>1.430425</td>\n",
       "      <td>1.558785</td>\n",
       "      <td>1</td>\n",
       "    </tr>\n",
       "    <tr>\n",
       "      <th>60</th>\n",
       "      <td>-0.480947</td>\n",
       "      <td>2.002547</td>\n",
       "      <td>-0.421277</td>\n",
       "      <td>0.247565</td>\n",
       "      <td>0</td>\n",
       "    </tr>\n",
       "  </tbody>\n",
       "</table>\n",
       "</div>"
      ],
      "text/plain": [
       "     CulmenLength  CulmenDepth  FlipperLength  BodyMass  Species\n",
       "363     -0.042196    -1.845526       0.535921  0.212609        1\n",
       "381      1.036135     0.531887      -0.553218 -0.475401        2\n",
       "380      1.837652     0.759253      -0.900474 -0.664417        2\n",
       "22      -1.049588     0.481175      -1.133470 -0.314386        0\n",
       "400      1.312314     1.439303       0.292722  0.081481        2\n",
       "227      0.656334    -1.496609       0.575793  0.497321        1\n",
       "245      0.106037    -1.243047       0.931890  0.809516        1\n",
       "37      -1.159648     1.089724      -1.418347 -1.126093        0\n",
       "232      1.573497    -0.786635       1.430425  1.558785        1\n",
       "60      -0.480947     2.002547      -0.421277  0.247565        0"
      ]
     },
     "execution_count": 10,
     "metadata": {},
     "output_type": "execute_result"
    }
   ],
   "source": [
    "penguins = penguins_resampled # shorter name...\n",
    "print(penguins.shape)\n",
    "\n",
    "# Display a random sample of 10 observations\n",
    "sample = penguins.sample(10)\n",
    "sample"
   ]
  },
  {
   "cell_type": "markdown",
   "metadata": {},
   "source": [
    "The **Species** column is the label our model will predict. Each label value represents a class of penguin species, encoded as 0, 1, or 2. The following code shows the actual species to which these class labels corrrespond."
   ]
  },
  {
   "cell_type": "code",
   "execution_count": 11,
   "metadata": {
    "tags": []
   },
   "outputs": [
    {
     "name": "stdout",
     "output_type": "stream",
     "text": [
      "['CulmenLength' 'CulmenDepth' 'FlipperLength' 'BodyMass' 'Species'] SpeciesName\n",
      "[ 0.5279316668386169 -0.5330734325566336 1.0031090603241999 1.6212238332181281 1 ] Gentoo\n",
      "[ 0.2519191764240326 -1.3515460623403297 1.0229783665206065 0.9794138515406439 1 ] Gentoo\n",
      "[ 1.3123144834010965 1.4393031489389543 0.29272230939925026 0.08148098929941061 2 ] Chinstrap\n",
      "[ 0.3811856503324245 2.2053967072085756 -0.4924959368209963 -0.0021908430178622556 0 ] Adelie\n",
      "[ -1.636572076627728 0.3797499473651016 -0.777373079134367 -0.9387762331540105 0 ] Adelie\n",
      "[ 1.151602236989938 0.7854492273303183 -0.20761879450762555 -0.5329225640950129 2 ] Chinstrap\n",
      "[ 0.3995289023956989 -2.003733322430544 0.7182319180108293 0.37244331303659706 1 ] Gentoo\n",
      "[ -0.1874551636290733 0.22761271737814692 -0.3500573656643109 0.6221994170729033 0 ] Adelie\n",
      "[ -0.1324254074392502 -1.344471992487067 0.5045740612758013 0.3100042870275205 1 ] Gentoo\n",
      "[ -0.36069071786744183 -0.029697717053611516 -1.2917443248672364 -0.8994513881544408 2 ] Chinstrap\n"
     ]
    }
   ],
   "source": [
    "penguin_classes = ['Adelie', 'Gentoo', 'Chinstrap']\n",
    "print(sample.columns[0:5].values, 'SpeciesName')\n",
    "for index, row in penguins.sample(10).iterrows():\n",
    "    # print('[',row[0], row[1], row[2],row[3], int(row[4]), ']',penguin_classes[int(row[-1])])\n",
    "    print('[', row.iloc[0], row.iloc[1], row.iloc[2], row.iloc[3], int(row.iloc[4]), ']', penguin_classes[int(row.iloc[4])])"
   ]
  },
  {
   "cell_type": "markdown",
   "metadata": {},
   "source": [
    "As is common in a supervised learning problem, we'll split the dataset into a set of records with which to train the model, and a smaller set with which to validate the trained model."
   ]
  },
  {
   "cell_type": "code",
   "execution_count": 12,
   "metadata": {
    "tags": []
   },
   "outputs": [
    {
     "name": "stdout",
     "output_type": "stream",
     "text": [
      "Training Set: 317, Test Set: 136 \n",
      "\n",
      "Sample of features and labels:\n",
      "[ 1.61018354  1.34328574 -0.27883808 -0.59536159] 2 (Chinstrap)\n",
      "[-0.22414167 -1.75017127  0.50457406 -0.31438597] 1 (Gentoo)\n",
      "[ 0.65633443 -1.59803404  0.7894512   0.84073601] 1 (Gentoo)\n",
      "[-0.26082817  0.06317258 -0.99103094 -1.06365429] 2 (Chinstrap)\n",
      "[ 1.20663199 -0.98948512  1.07432835  0.99683357] 1 (Gentoo)\n",
      "[ 1.20663199  0.633312   -0.06518022 -1.00121526] 2 (Chinstrap)\n",
      "[-1.04958801  1.44471056 -0.77737308 -0.376825  ] 0 (Adelie)\n",
      "[ 1.68178436  1.23758308  0.38387269 -0.29532864] 2 (Chinstrap)\n",
      "[-1.37976655 -0.02594933 -1.20468879 -1.68804455] 0 (Adelie)\n",
      "[ 0.54627492 -0.27951138 -0.63493451 -1.87536162] 2 (Chinstrap)\n",
      "[ 1.20601834  0.83616164  0.10366776 -0.36278187] 2 (Chinstrap)\n",
      "[ 1.26854983  0.83616164  0.13401576 -0.20314257] 2 (Chinstrap)\n",
      "[-0.07739565 -0.98948512  0.86067049  0.55976039] 1 (Gentoo)\n",
      "[-1.50816931  0.43046236  0.07725835 -0.81389818] 0 (Adelie)\n",
      "[ 1.35337801  1.39399815 -0.20761879 -0.6265811 ] 2 (Chinstrap)\n",
      "[-1.41645305  0.07547549 -0.99103094 -1.12609331] 0 (Adelie)\n",
      "[ 0.50617028  0.37974995 -0.44118349 -1.10282315] 2 (Chinstrap)\n",
      "[ 1.00076275  1.13794499  0.64701263 -0.27508227] 2 (Chinstrap)\n",
      "[ 1.35337801  1.03901128 -0.56371522 -0.68902013] 2 (Chinstrap)\n",
      "[-0.79278248  0.48117477 -1.06225022  0.31000429] 0 (Adelie)\n",
      "[ 3.81185650e-01  2.20539671e+00 -4.92495937e-01 -2.19084302e-03] 0 (Adelie)\n",
      "[-0.86615549  0.73473682 -0.77737308  0.06024818] 0 (Adelie)\n",
      "[-0.44426069  0.68402441  0.00603906 -0.25194695] 0 (Adelie)\n",
      "[ 0.45455866 -1.09090994  1.07432835  0.62219942] 1 (Gentoo)\n"
     ]
    }
   ],
   "source": [
    "from sklearn.model_selection import train_test_split\n",
    "\n",
    "features = ['CulmenLength','CulmenDepth','FlipperLength','BodyMass']\n",
    "label = 'Species'\n",
    "   \n",
    "# Split data 70%-30% into training set and test set\n",
    "x_train, x_test, y_train, y_test = train_test_split(penguins[features].values,\n",
    "                                                    penguins[label].values,\n",
    "                                                    test_size=0.30,\n",
    "                                                    random_state=0)\n",
    "\n",
    "print ('Training Set: %d, Test Set: %d \\n' % (len(x_train), len(x_test)))\n",
    "print(\"Sample of features and labels:\")\n",
    "\n",
    "# Take a look at the first 25 training features and corresponding labels\n",
    "for n in range(0,24):\n",
    "    print(x_train[n], y_train[n], '(' + penguin_classes[y_train[n]] + ')')"
   ]
  },
  {
   "cell_type": "markdown",
   "metadata": {},
   "source": [
    "The *features* are the measurements for each penguin observation, and the *label* is a numeric value that indicates the species of penguin that the observation represents (Adelie, Gentoo, or Chinstrap).\n",
    "\n",
    "## Install and import the PyTorch libraries\n",
    "\n",
    "Since we plan to use PyTorch to create our penguin classifier, we'll need to run the following two cells to install and import the PyTorch libraries we intend to use. The specific installation of of PyTorch depends on your operating system and whether your computer has graphics processing units (GPUs) that can be used for high-performance processing via *cuda*. You can find detailed instructions at https://pytorch.org/get-started/locally/."
   ]
  },
  {
   "cell_type": "code",
   "execution_count": null,
   "metadata": {},
   "outputs": [],
   "source": [
    "# !pip install torch==1.9.0+cpu torchvision==0.10.0+cpu torchaudio==0.9.0 -f https://download.pytorch.org/whl/torch_stable.html"
   ]
  },
  {
   "cell_type": "code",
   "execution_count": 13,
   "metadata": {
    "tags": []
   },
   "outputs": [
    {
     "name": "stdout",
     "output_type": "stream",
     "text": [
      "Libraries imported - ready to use PyTorch 2.5.1+cpu\n"
     ]
    }
   ],
   "source": [
    "import torch\n",
    "import torch.nn as nn\n",
    "import torch.utils.data as td\n",
    "\n",
    "print(\"Libraries imported - ready to use PyTorch\", torch.__version__)"
   ]
  },
  {
   "cell_type": "code",
   "execution_count": 14,
   "metadata": {},
   "outputs": [
    {
     "data": {
      "text/plain": [
       "<torch._C.Generator at 0x1cac5df0530>"
      ]
     },
     "execution_count": 14,
     "metadata": {},
     "output_type": "execute_result"
    }
   ],
   "source": [
    "# Set random seed for reproducability\n",
    "torch.manual_seed(0)"
   ]
  },
  {
   "cell_type": "markdown",
   "metadata": {},
   "source": [
    "## Prepare the data for PyTorch\n",
    "\n",
    "PyTorch makes use of *data loaders* to load training and validation data in batches. We've already loaded the data into numpy arrays, but we need to wrap those in PyTorch datasets (in which the data is converted to PyTorch *tensor* objects) and create loaders to read batches from those datasets."
   ]
  },
  {
   "cell_type": "code",
   "execution_count": 15,
   "metadata": {
    "tags": []
   },
   "outputs": [
    {
     "name": "stdout",
     "output_type": "stream",
     "text": [
      "Ready to load data\n"
     ]
    }
   ],
   "source": [
    "# Create a dataset and loader for the training data and labels\n",
    "train_x = torch.Tensor(x_train).float()\n",
    "train_y = torch.Tensor(y_train).long()\n",
    "train_ds = td.TensorDataset(train_x,train_y)\n",
    "train_loader = td.DataLoader(train_ds, batch_size=20,\n",
    "    shuffle=False, num_workers=1)\n",
    "\n",
    "# Create a dataset and loader for the test data and labels\n",
    "test_x = torch.Tensor(x_test).float()\n",
    "test_y = torch.Tensor(y_test).long()\n",
    "test_ds = td.TensorDataset(test_x,test_y)\n",
    "test_loader = td.DataLoader(test_ds, batch_size=20,\n",
    "    shuffle=False, num_workers=1)\n",
    "print('Ready to load data')"
   ]
  },
  {
   "cell_type": "markdown",
   "metadata": {},
   "source": [
    "## Define a neural network\n",
    "\n",
    "Now we're ready to define our neural network. In this case, we'll create a network that consists of 3 fully-connected layers:\n",
    "* An input layer that receives an input value for each feature (in this case, the four penguin measurements) and applies a *ReLU* activation function.\n",
    "* A hidden layer that receives ten inputs and applies a *ReLU* activation function.\n",
    "* An output layer that generates a non-negative numeric output for each penguin species (which a loss function will translate into classification probabilities for each of the three possible penguin species)."
   ]
  },
  {
   "cell_type": "code",
   "execution_count": 16,
   "metadata": {
    "tags": []
   },
   "outputs": [
    {
     "name": "stdout",
     "output_type": "stream",
     "text": [
      "PenguinNet(\n",
      "  (fc1): Linear(in_features=4, out_features=10, bias=True)\n",
      "  (fc2): Linear(in_features=10, out_features=10, bias=True)\n",
      "  (fc3): Linear(in_features=10, out_features=3, bias=True)\n",
      ")\n"
     ]
    }
   ],
   "source": [
    "# Number of hidden layer nodes\n",
    "hl = 10\n",
    "\n",
    "# Define the neural network\n",
    "class PenguinNet(nn.Module):\n",
    "    def __init__(self):\n",
    "        super(PenguinNet, self).__init__()\n",
    "        self.fc1 = nn.Linear(len(features), hl)\n",
    "        self.fc2 = nn.Linear(hl, hl)\n",
    "        self.fc3 = nn.Linear(hl, len(penguin_classes))\n",
    "\n",
    "    def forward(self, x) -> torch.Tensor:\n",
    "        x = torch.relu(self.fc1(x))\n",
    "        # same thing\n",
    "        # x = nn.ReLU(self.fc1(x))\n",
    "        x = torch.relu(self.fc2(x))\n",
    "        x = torch.relu(self.fc3(x))\n",
    "        return x\n",
    "\n",
    "# Create a model instance from the network\n",
    "model = PenguinNet()\n",
    "print(model)"
   ]
  },
  {
   "cell_type": "markdown",
   "metadata": {},
   "source": [
    "## Train the model\n",
    "\n",
    "To train the model, we need to repeatedly feed the training values forward through the network, use a loss function to calculate the loss, use an optimizer to backpropagate the weight and bias value adjustments, and validate the model using the test data we withheld.\n",
    "\n",
    "To do this, we'll create a function to train and optimize the model, and function to test the model. Then we'll call these functions iteratively over 50 epochs, logging the loss and accuracy statistics for each epoch."
   ]
  },
  {
   "cell_type": "code",
   "execution_count": 17,
   "metadata": {
    "tags": []
   },
   "outputs": [],
   "source": [
    "def train(model: nn.Module, data_loader: td.DataLoader, \n",
    "          optimizer: torch.optim.Optimizer, loss_criteria: nn.Module):\n",
    "    # Set the model to training mode\n",
    "    model.train()\n",
    "    train_loss = 0\n",
    "    \n",
    "    for batch, tensor in enumerate(data_loader):\n",
    "        batch: int; tensor: torch.Tensor\n",
    "        data, target = tensor # data is a tensor of features, target is a tensor of labels\n",
    "        \n",
    "        # feedforward\n",
    "        optimizer.zero_grad()\n",
    "        out: torch.Tensor = model(data)\n",
    "        loss: torch.Tensor = loss_criteria(out, target)\n",
    "        train_loss += loss.item()\n",
    "\n",
    "        # backpropagate\n",
    "        loss.backward()\n",
    "        optimizer.step()\n",
    "\n",
    "    # Return average loss\n",
    "    avg_loss = train_loss / (batch+1)\n",
    "    print('Training set: Average loss: {:.6f}'.format(avg_loss))\n",
    "    return avg_loss"
   ]
  },
  {
   "cell_type": "code",
   "execution_count": 18,
   "metadata": {},
   "outputs": [],
   "source": [
    "def test(model: nn.Module, data_loader: td.DataLoader, loss_criteria: nn.Module):\n",
    "    # Switch the model to evaluation mode (so we don't backpropagate)\n",
    "    model.eval()\n",
    "    test_loss = 0\n",
    "    correct = 0\n",
    "\n",
    "    with torch.no_grad():\n",
    "        batch_count = 0\n",
    "        for batch, tensor in enumerate(data_loader):\n",
    "            batch: int; tensor: torch.Tensor\n",
    "            batch_count += 1\n",
    "            data, target = tensor\n",
    "            \n",
    "            # Get the predictions\n",
    "            out: torch.Tensor = model(data)\n",
    "\n",
    "            # Calculate the loss\n",
    "            # test_loss += loss_criteria(out, target).item()\n",
    "            loss: torch.Tensor = loss_criteria(out, target)  # loss is a scalar tensor\n",
    "            test_loss += loss.item()\n",
    "\n",
    "            # Calculate the accuracy\n",
    "            _, predicted = torch.max(out.data, 1) # predicted is a tensor of predicted indices\n",
    "            correct += torch.sum(target==predicted).item() # correct is an integer count\n",
    "            \n",
    "    # Calculate the average loss and total accuracy for this epoch\n",
    "    avg_loss = test_loss/batch_count\n",
    "    print('Validation set: Average loss: {:.6f}, Accuracy: {}/{} ({:.0f}%)\\n'.format(\n",
    "        avg_loss, correct, len(data_loader.dataset),\n",
    "        100. * correct / len(data_loader.dataset)))\n",
    "    \n",
    "    # return average loss for the epoch\n",
    "    return avg_loss"
   ]
  },
  {
   "cell_type": "code",
   "execution_count": 20,
   "metadata": {},
   "outputs": [
    {
     "name": "stdout",
     "output_type": "stream",
     "text": [
      "Epoch: 1\n",
      "Training set: Average loss: 1.087530\n",
      "Validation set: Average loss: 1.070329, Accuracy: 72/136 (53%)\n",
      "\n",
      "Epoch: 2\n",
      "Training set: Average loss: 1.071054\n",
      "Validation set: Average loss: 1.055387, Accuracy: 94/136 (69%)\n",
      "\n",
      "Epoch: 3\n",
      "Training set: Average loss: 1.056633\n",
      "Validation set: Average loss: 1.040429, Accuracy: 94/136 (69%)\n",
      "\n",
      "Epoch: 4\n",
      "Training set: Average loss: 1.040864\n",
      "Validation set: Average loss: 1.022893, Accuracy: 93/136 (68%)\n",
      "\n",
      "Epoch: 5\n",
      "Training set: Average loss: 1.022941\n",
      "Validation set: Average loss: 1.002998, Accuracy: 93/136 (68%)\n",
      "\n",
      "Epoch: 6\n",
      "Training set: Average loss: 1.001774\n",
      "Validation set: Average loss: 0.978962, Accuracy: 93/136 (68%)\n",
      "\n",
      "Epoch: 7\n",
      "Training set: Average loss: 0.971617\n",
      "Validation set: Average loss: 0.939998, Accuracy: 105/136 (77%)\n",
      "\n",
      "Epoch: 8\n",
      "Training set: Average loss: 0.918300\n",
      "Validation set: Average loss: 0.883363, Accuracy: 122/136 (90%)\n",
      "\n",
      "Epoch: 9\n",
      "Training set: Average loss: 0.851917\n",
      "Validation set: Average loss: 0.819597, Accuracy: 125/136 (92%)\n",
      "\n",
      "Epoch: 10\n",
      "Training set: Average loss: 0.779809\n",
      "Validation set: Average loss: 0.749831, Accuracy: 126/136 (93%)\n",
      "\n",
      "Epoch: 11\n",
      "Training set: Average loss: 0.703216\n",
      "Validation set: Average loss: 0.674895, Accuracy: 129/136 (95%)\n",
      "\n",
      "Epoch: 12\n",
      "Training set: Average loss: 0.623336\n",
      "Validation set: Average loss: 0.595802, Accuracy: 131/136 (96%)\n",
      "\n",
      "Epoch: 13\n",
      "Training set: Average loss: 0.542643\n",
      "Validation set: Average loss: 0.517963, Accuracy: 132/136 (97%)\n",
      "\n",
      "Epoch: 14\n",
      "Training set: Average loss: 0.465806\n",
      "Validation set: Average loss: 0.445348, Accuracy: 132/136 (97%)\n",
      "\n",
      "Epoch: 15\n",
      "Training set: Average loss: 0.396023\n",
      "Validation set: Average loss: 0.379308, Accuracy: 130/136 (96%)\n",
      "\n",
      "Epoch: 16\n",
      "Training set: Average loss: 0.332522\n",
      "Validation set: Average loss: 0.318974, Accuracy: 130/136 (96%)\n",
      "\n",
      "Epoch: 17\n",
      "Training set: Average loss: 0.277179\n",
      "Validation set: Average loss: 0.268489, Accuracy: 130/136 (96%)\n",
      "\n",
      "Epoch: 18\n",
      "Training set: Average loss: 0.232240\n",
      "Validation set: Average loss: 0.227510, Accuracy: 130/136 (96%)\n",
      "\n",
      "Epoch: 19\n",
      "Training set: Average loss: 0.196799\n",
      "Validation set: Average loss: 0.194434, Accuracy: 130/136 (96%)\n",
      "\n",
      "Epoch: 20\n",
      "Training set: Average loss: 0.169201\n",
      "Validation set: Average loss: 0.168132, Accuracy: 130/136 (96%)\n",
      "\n",
      "Epoch: 21\n",
      "Training set: Average loss: 0.147615\n",
      "Validation set: Average loss: 0.147113, Accuracy: 134/136 (99%)\n",
      "\n",
      "Epoch: 22\n",
      "Training set: Average loss: 0.130471\n",
      "Validation set: Average loss: 0.130039, Accuracy: 134/136 (99%)\n",
      "\n",
      "Epoch: 23\n",
      "Training set: Average loss: 0.116670\n",
      "Validation set: Average loss: 0.115988, Accuracy: 134/136 (99%)\n",
      "\n",
      "Epoch: 24\n",
      "Training set: Average loss: 0.105312\n",
      "Validation set: Average loss: 0.104245, Accuracy: 134/136 (99%)\n",
      "\n",
      "Epoch: 25\n",
      "Training set: Average loss: 0.095835\n",
      "Validation set: Average loss: 0.094370, Accuracy: 134/136 (99%)\n",
      "\n",
      "Epoch: 26\n",
      "Training set: Average loss: 0.087838\n",
      "Validation set: Average loss: 0.086014, Accuracy: 135/136 (99%)\n",
      "\n",
      "Epoch: 27\n",
      "Training set: Average loss: 0.080965\n",
      "Validation set: Average loss: 0.078841, Accuracy: 136/136 (100%)\n",
      "\n",
      "Epoch: 28\n",
      "Training set: Average loss: 0.074984\n",
      "Validation set: Average loss: 0.072622, Accuracy: 136/136 (100%)\n",
      "\n",
      "Epoch: 29\n",
      "Training set: Average loss: 0.069737\n",
      "Validation set: Average loss: 0.067164, Accuracy: 136/136 (100%)\n",
      "\n",
      "Epoch: 30\n",
      "Training set: Average loss: 0.065105\n",
      "Validation set: Average loss: 0.062399, Accuracy: 136/136 (100%)\n",
      "\n",
      "Epoch: 31\n",
      "Training set: Average loss: 0.060992\n",
      "Validation set: Average loss: 0.058174, Accuracy: 136/136 (100%)\n",
      "\n",
      "Epoch: 32\n",
      "Training set: Average loss: 0.057311\n",
      "Validation set: Average loss: 0.054444, Accuracy: 136/136 (100%)\n",
      "\n",
      "Epoch: 33\n",
      "Training set: Average loss: 0.053963\n",
      "Validation set: Average loss: 0.051114, Accuracy: 136/136 (100%)\n",
      "\n",
      "Epoch: 34\n",
      "Training set: Average loss: 0.050948\n",
      "Validation set: Average loss: 0.048109, Accuracy: 136/136 (100%)\n",
      "\n",
      "Epoch: 35\n",
      "Training set: Average loss: 0.048246\n",
      "Validation set: Average loss: 0.045402, Accuracy: 136/136 (100%)\n",
      "\n",
      "Epoch: 36\n",
      "Training set: Average loss: 0.045800\n",
      "Validation set: Average loss: 0.042974, Accuracy: 136/136 (100%)\n",
      "\n",
      "Epoch: 37\n",
      "Training set: Average loss: 0.043571\n",
      "Validation set: Average loss: 0.040796, Accuracy: 136/136 (100%)\n",
      "\n",
      "Epoch: 38\n",
      "Training set: Average loss: 0.041537\n",
      "Validation set: Average loss: 0.038786, Accuracy: 136/136 (100%)\n",
      "\n",
      "Epoch: 39\n",
      "Training set: Average loss: 0.039685\n",
      "Validation set: Average loss: 0.036961, Accuracy: 136/136 (100%)\n",
      "\n",
      "Epoch: 40\n",
      "Training set: Average loss: 0.037991\n",
      "Validation set: Average loss: 0.035294, Accuracy: 136/136 (100%)\n",
      "\n",
      "Epoch: 41\n",
      "Training set: Average loss: 0.036427\n",
      "Validation set: Average loss: 0.033761, Accuracy: 136/136 (100%)\n",
      "\n",
      "Epoch: 42\n",
      "Training set: Average loss: 0.034979\n",
      "Validation set: Average loss: 0.032346, Accuracy: 136/136 (100%)\n",
      "\n",
      "Epoch: 43\n",
      "Training set: Average loss: 0.033634\n",
      "Validation set: Average loss: 0.031049, Accuracy: 136/136 (100%)\n",
      "\n",
      "Epoch: 44\n",
      "Training set: Average loss: 0.032381\n",
      "Validation set: Average loss: 0.029850, Accuracy: 136/136 (100%)\n",
      "\n",
      "Epoch: 45\n",
      "Training set: Average loss: 0.031208\n",
      "Validation set: Average loss: 0.028733, Accuracy: 136/136 (100%)\n",
      "\n",
      "Epoch: 46\n",
      "Training set: Average loss: 0.030108\n",
      "Validation set: Average loss: 0.027693, Accuracy: 136/136 (100%)\n",
      "\n",
      "Epoch: 47\n",
      "Training set: Average loss: 0.029075\n",
      "Validation set: Average loss: 0.026728, Accuracy: 136/136 (100%)\n",
      "\n",
      "Epoch: 48\n",
      "Training set: Average loss: 0.028103\n",
      "Validation set: Average loss: 0.025831, Accuracy: 136/136 (100%)\n",
      "\n",
      "Epoch: 49\n",
      "Training set: Average loss: 0.027180\n",
      "Validation set: Average loss: 0.024982, Accuracy: 136/136 (100%)\n",
      "\n",
      "Epoch: 50\n",
      "Training set: Average loss: 0.026304\n",
      "Validation set: Average loss: 0.024179, Accuracy: 136/136 (100%)\n",
      "\n"
     ]
    }
   ],
   "source": [
    "# Specify the loss criteria (we'll use CrossEntropyLoss for multi-class classification)\n",
    "loss_criteria = nn.CrossEntropyLoss()\n",
    "\n",
    "# Use an \"Adam\" optimizer to adjust weights\n",
    "# (see https://pytorch.org/docs/stable/optim.html#algorithms for details of supported algorithms)\n",
    "learning_rate = 0.001\n",
    "optimizer = torch.optim.Adam(model.parameters(), lr=learning_rate)\n",
    "optimizer.zero_grad()\n",
    "\n",
    "# We'll track metrics for each epoch in these arrays\n",
    "epoch_nums = []\n",
    "training_loss = []\n",
    "validation_loss = []\n",
    "\n",
    "# Train over 50 epochs\n",
    "epochs = 50\n",
    "for epoch in range(1, epochs + 1):\n",
    "\n",
    "    # print the epoch number\n",
    "    print('Epoch: {}'.format(epoch))\n",
    "    \n",
    "    # Feed training data into the model to optimize the weights\n",
    "    train_loss = train(model, train_loader, optimizer, loss_criteria)\n",
    "    \n",
    "    # Feed the test data into the model to check its performance\n",
    "    test_loss = test(model, test_loader, loss_criteria)\n",
    "    \n",
    "    # Log the metrics for this epoch\n",
    "    epoch_nums.append(epoch)\n",
    "    training_loss.append(train_loss)\n",
    "    validation_loss.append(test_loss)"
   ]
  },
  {
   "cell_type": "markdown",
   "metadata": {},
   "source": [
    "While the training process is running, let's try to understand what's happening:\n",
    "\n",
    "1. In each *epoch*, the full set of training data is passed forward through the network. There are four features for each observation, and four corresponding nodes in the input layer - so the features for each observation are passed as a vector of four values to that layer. However, for efficiency, the feature vectors are grouped into batches; so actually a matrix of multiple feature vectors is fed in each time.\n",
    "2. The matrix of feature values is processed by a function that performs a weighted sum using initialized weights and bias values. The result of this function is then processed by the activation function for the input layer to constrain the values passed to the nodes in the next layer.\n",
    "3. The weighted sum and activation functions are repeated in each layer. Note that the functions operate on vectors and matrices rather than individual scalar values. In other words, the forward pass is essentially a series of nested linear algebra functions. This is the reason data scientists prefer to use computers with graphical processing units (GPUs), since these are optimized for matrix and vector calculations.\n",
    "4. In the final layer of the network, the output vectors contain a calculated value for each possible class (in this case, classes 0, 1, and 2). This vector is processed by a *loss function* that converts these values to probabilities and determines how far they are from the expected values based on the actual classes - so for example, suppose the output for a Gentoo penguin (class 1) observation is \\[0.3, 0.4, 0.3\\]. The correct prediction would be \\[0.0, 1.0, 0.0\\], so the variance between the predicted and actual values (how far away each predicted value is from what it should be) is \\[0.3, 0.6, 0.3\\]. This variance is aggregated for each batch and maintained as a running aggregate to calculate the overall level of error (*loss*) incurred by the training data for the epoch. \n",
    "5. At the end of each epoch, the validation data is passed through the network, and its loss and accuracy (proportion of correct predictions based on the highest probability value in the output vector) are also calculated. It's important to do this because it enables us to compare the performance of the model using data on which it was not trained, helping us determine if it will generalize well for new data or if it's *overfitted* to the training data.\n",
    "6. After all the data has been passed forward through the network, the output of the loss function for the *training* data (but <u>not</u> the *validation* data) is passed to the opimizer. The precise details of how the optimizer processes the loss vary depending on the specific optimization algorithm being used; but fundamentally you can think of the entire network, from the input layer to the loss function as being one big nested (*composite*) function. The optimizer applies some differential calculus to calculate *partial derivatives* for the function with respect to each weight and bias value that was used in the network. It's possible to do this efficiently for a nested function due to something called the *chain rule*, which enables you to determine the derivative of a composite function from the derivatives of its inner function and outer functions. You don't really need to worry about the details of the math here (the optimizer does it for you), but the end result is that the partial derivatives tell us about the slope (or *gradient*) of the loss function with respect to each weight and bias value - in other words, we can determine whether to increase or decrease the weight and bias values in order to decrease the loss.\n",
    "7. Having determined in which direction to adjust the weights and biases, the optimizer uses the *learning rate* to determine by how much to adjust them; and then works backwards through the network in a process called *backpropagation* to assign new values to the weights and biases in each layer.\n",
    "8. Now the next epoch repeats the whole training, validation, and backpropagation process starting with the revised weights and biases from the previous epoch - which hopefully will result in a lower level of loss.\n",
    "9. The process continues like this for 50 epochs.\n",
    "\n",
    "## Review training and validation loss\n",
    "\n",
    "After training is complete, we can examine the loss metrics we recorded while training and validating the model. We're really looking for two things:\n",
    "* The loss should reduce with each epoch, showing that the model is learning the right weights and biases to predict the correct labels.\n",
    "* The training loss and validation loss should follow a similar trend, showing that the model is not overfitting to the training data.\n",
    "\n",
    "Let's plot the loss metrics and see:"
   ]
  },
  {
   "cell_type": "code",
   "execution_count": 21,
   "metadata": {},
   "outputs": [
    {
     "data": {
      "image/png": "[encoded data removed]",
      "text/plain": [
       "<Figure size 640x480 with 1 Axes>"
      ]
     },
     "metadata": {},
     "output_type": "display_data"
    }
   ],
   "source": [
    "%matplotlib inline\n",
    "from matplotlib import pyplot as plt\n",
    "\n",
    "plt.plot(epoch_nums, training_loss)\n",
    "plt.plot(epoch_nums, validation_loss)\n",
    "plt.xlabel('epoch')\n",
    "plt.ylabel('loss')\n",
    "plt.legend(['training', 'validation'], loc='upper right')\n",
    "plt.show()"
   ]
  },
  {
   "cell_type": "markdown",
   "metadata": {},
   "source": [
    "## View the learned weights and biases\n",
    "\n",
    "The trained model consists of the final weights and biases that were determined by the optimizer during training. Based on our network model we should expect the following values for each layer:\n",
    "* Layer 1: There are four input values going to ten output nodes, so there should be 10 x 4 weights and 10 bias values.\n",
    "* Layer 2: There are ten input values going to ten output nodes, so there should be 10 x 10 weights and 10 bias values.\n",
    "* Layer 3: There are ten input values going to three output nodes, so there should be 3 x 10 weights and 3 bias values."
   ]
  },
  {
   "cell_type": "code",
   "execution_count": 26,
   "metadata": {
    "tags": []
   },
   "outputs": [
    {
     "name": "stdout",
     "output_type": "stream",
     "text": [
      "fc1.weight \n",
      " [[-0.4232455   0.84234494 -0.59498614 -0.44524032]\n",
      " [ 0.16766438 -0.4726563   0.442096    0.78539103]\n",
      " [ 0.39092842  0.31694767 -0.42950895 -0.4959504 ]\n",
      " [-0.8589093   0.24746403 -0.23310056 -0.08105578]\n",
      " [ 0.7017496  -0.02527512 -0.53969216 -0.5645163 ]\n",
      " [ 0.44863638  0.0390758   0.37187114  0.6834406 ]\n",
      " [ 0.27324533  0.35931924  0.0424476  -0.8713362 ]\n",
      " [-0.84789205  0.48431516 -0.24723232  0.3920623 ]\n",
      " [-0.73989266  0.08296796 -0.25869036 -0.37588826]\n",
      " [-0.39768025  0.02415503  0.5378161   0.5794288 ]]\n",
      "fc1.bias \n",
      " [ 0.50665     0.2082794   0.518513   -0.29338667 -0.08019046 -0.07088128\n",
      "  0.72779524  0.46194986 -0.16979913  0.45622656]\n",
      "fc2.weight \n",
      " [[ 0.22839774  0.872004    0.42330635 -0.26107773  0.70684487  0.14650378\n",
      "   0.3546024  -0.68488723 -0.29836464 -0.22209044]\n",
      " [ 0.5615795  -0.19491814 -0.06832794  0.6518979  -0.26415783 -0.3266869\n",
      "   0.1572348   0.61714804  0.58556366  0.57344633]\n",
      " [-0.14590567  0.01455724  0.45923638 -0.01880883  0.78276205  0.52279454\n",
      "   0.3849933  -0.6720883  -0.06798033 -0.32405412]\n",
      " [-0.3157424   0.6997731   0.39866507 -0.36781037  0.5629785   0.252719\n",
      "   0.17870605 -0.44447607  0.0898319   0.00342294]\n",
      " [ 0.49337295 -0.16633102  0.68995863  0.2980333   0.14800034  0.06105967\n",
      "   0.60183495  0.03459246 -0.11236491 -0.22891995]\n",
      " [ 0.61498874  0.7006072  -0.11320321  0.44415894 -0.71605915  0.25855753\n",
      "   0.02163041  0.35800612  0.29919633  0.57449186]\n",
      " [-0.16560447  0.6670111  -0.04882953  0.07782251  0.7200073   0.07615881\n",
      "   0.11118041 -0.41902256 -0.02097515  0.20449702]\n",
      " [ 0.12409672  0.01894209 -0.15429662  0.1496355  -0.30334112 -0.1874303\n",
      "  -0.07916126 -0.15403877 -0.11062703 -0.25918713]\n",
      " [-0.36430353  0.5546826  -0.53257376 -0.05293618  0.02417732  0.23798873\n",
      "  -0.03494077 -0.03051751  0.07106551  0.6162655 ]\n",
      " [ 0.73979515 -0.14062521  0.7717706   0.45802298  0.15011384  0.18123154\n",
      "   0.6724604   0.4931783   0.20434369 -0.10350473]]\n",
      "fc2.bias \n",
      " [-0.0199425  -0.04705251  0.19858404  0.43136737  0.29932415  0.16459115\n",
      "  0.4686981  -0.24745122  0.27771345  0.16945733]\n",
      "fc3.weight \n",
      " [[-0.37290314  0.5023145  -0.71698225 -0.56460714  0.34135628  0.6212058\n",
      "  -0.41832593  0.11912274 -0.05933442  0.46190673]\n",
      " [ 0.49832278 -0.32331544  0.1380507   0.5250915  -0.551651    0.7163147\n",
      "   0.37820867 -0.14116624  0.75920784 -0.57593375]\n",
      " [ 0.54698503 -0.46737745  0.70380026  0.5006916   0.47107786 -0.45320275\n",
      "   0.32001552 -0.06650442 -0.61316025  0.4009129 ]]\n",
      "fc3.bias \n",
      " [ 0.47812152  0.45001942 -0.08239796]\n"
     ]
    },
    {
     "data": {
      "text/plain": [
       "\"\\nmodel.state_dict() returns a dictionary where the keys are parameter names \\n(as strings) and the values are the actual parameters (as torch.Tensor objects). \\nThese tensors contain the model's weights, biases, etc.\\n\""
      ]
     },
     "execution_count": 26,
     "metadata": {},
     "output_type": "execute_result"
    }
   ],
   "source": [
    "for param_tensor in model.state_dict():\n",
    "    val: torch.Tensor = model.state_dict()[param_tensor]\n",
    "    print(param_tensor, \"\\n\", val.numpy())\n",
    "\"\"\"\n",
    "model.state_dict() returns a dictionary where the keys are parameter names \n",
    "(as strings) and the values are the actual parameters (as torch.Tensor objects). \n",
    "These tensors contain the model's weights, biases, etc.\n",
    "\"\"\""
   ]
  },
  {
   "cell_type": "code",
   "execution_count": 27,
   "metadata": {},
   "outputs": [
    {
     "name": "stdout",
     "output_type": "stream",
     "text": [
      "fc3.bias \n",
      " [[-0.4232455   0.84234494 -0.59498614 -0.44524032]\n",
      " [ 0.16766438 -0.4726563   0.442096    0.78539103]\n",
      " [ 0.39092842  0.31694767 -0.42950895 -0.4959504 ]\n",
      " [-0.8589093   0.24746403 -0.23310056 -0.08105578]\n",
      " [ 0.7017496  -0.02527512 -0.53969216 -0.5645163 ]\n",
      " [ 0.44863638  0.0390758   0.37187114  0.6834406 ]\n",
      " [ 0.27324533  0.35931924  0.0424476  -0.8713362 ]\n",
      " [-0.84789205  0.48431516 -0.24723232  0.3920623 ]\n",
      " [-0.73989266  0.08296796 -0.25869036 -0.37588826]\n",
      " [-0.39768025  0.02415503  0.5378161   0.5794288 ]]\n",
      "fc3.bias \n",
      " [ 0.50665     0.2082794   0.518513   -0.29338667 -0.08019046 -0.07088128\n",
      "  0.72779524  0.46194986 -0.16979913  0.45622656]\n",
      "fc3.bias \n",
      " [[ 0.22839774  0.872004    0.42330635 -0.26107773  0.70684487  0.14650378\n",
      "   0.3546024  -0.68488723 -0.29836464 -0.22209044]\n",
      " [ 0.5615795  -0.19491814 -0.06832794  0.6518979  -0.26415783 -0.3266869\n",
      "   0.1572348   0.61714804  0.58556366  0.57344633]\n",
      " [-0.14590567  0.01455724  0.45923638 -0.01880883  0.78276205  0.52279454\n",
      "   0.3849933  -0.6720883  -0.06798033 -0.32405412]\n",
      " [-0.3157424   0.6997731   0.39866507 -0.36781037  0.5629785   0.252719\n",
      "   0.17870605 -0.44447607  0.0898319   0.00342294]\n",
      " [ 0.49337295 -0.16633102  0.68995863  0.2980333   0.14800034  0.06105967\n",
      "   0.60183495  0.03459246 -0.11236491 -0.22891995]\n",
      " [ 0.61498874  0.7006072  -0.11320321  0.44415894 -0.71605915  0.25855753\n",
      "   0.02163041  0.35800612  0.29919633  0.57449186]\n",
      " [-0.16560447  0.6670111  -0.04882953  0.07782251  0.7200073   0.07615881\n",
      "   0.11118041 -0.41902256 -0.02097515  0.20449702]\n",
      " [ 0.12409672  0.01894209 -0.15429662  0.1496355  -0.30334112 -0.1874303\n",
      "  -0.07916126 -0.15403877 -0.11062703 -0.25918713]\n",
      " [-0.36430353  0.5546826  -0.53257376 -0.05293618  0.02417732  0.23798873\n",
      "  -0.03494077 -0.03051751  0.07106551  0.6162655 ]\n",
      " [ 0.73979515 -0.14062521  0.7717706   0.45802298  0.15011384  0.18123154\n",
      "   0.6724604   0.4931783   0.20434369 -0.10350473]]\n",
      "fc3.bias \n",
      " [-0.0199425  -0.04705251  0.19858404  0.43136737  0.29932415  0.16459115\n",
      "  0.4686981  -0.24745122  0.27771345  0.16945733]\n",
      "fc3.bias \n",
      " [[-0.37290314  0.5023145  -0.71698225 -0.56460714  0.34135628  0.6212058\n",
      "  -0.41832593  0.11912274 -0.05933442  0.46190673]\n",
      " [ 0.49832278 -0.32331544  0.1380507   0.5250915  -0.551651    0.7163147\n",
      "   0.37820867 -0.14116624  0.75920784 -0.57593375]\n",
      " [ 0.54698503 -0.46737745  0.70380026  0.5006916   0.47107786 -0.45320275\n",
      "   0.32001552 -0.06650442 -0.61316025  0.4009129 ]]\n",
      "fc3.bias \n",
      " [ 0.47812152  0.45001942 -0.08239796]\n"
     ]
    }
   ],
   "source": [
    "# same thing\n",
    "\n",
    "for param_name, param_value in model.state_dict().items():\n",
    "    param_value: torch.Tensor\n",
    "    print(param_tensor, \"\\n\", param_value.numpy())"
   ]
  },
  {
   "cell_type": "markdown",
   "metadata": {},
   "source": [
    "## Evaluate model performance\n",
    "\n",
    "So, is the model any good? The raw accuracy reported from the validation data would seem to indicate that it predicts pretty well; but it's typically useful to dig a little deeper and compare the predictions for each possible class. A common way to visualize the performance of a classification model is to create a *confusion matrix* that shows a crosstab of correct and incorrect predictions for each class."
   ]
  },
  {
   "cell_type": "code",
   "execution_count": 28,
   "metadata": {},
   "outputs": [
    {
     "data": {
      "image/png": "[encoded data removed]",
      "text/plain": [
       "<Figure size 640x480 with 2 Axes>"
      ]
     },
     "metadata": {},
     "output_type": "display_data"
    }
   ],
   "source": [
    "#Pytorch doesn't have a built-in confusion matrix metric, so we'll use SciKit-Learn\n",
    "from sklearn.metrics import confusion_matrix\n",
    "import numpy as np\n",
    "\n",
    "# Set the model to evaluate mode\n",
    "model.eval()\n",
    "\n",
    "# Get predictions for the test data\n",
    "x = torch.Tensor(x_test).float()\n",
    "_, predicted = torch.max(model(x).data, 1)\n",
    "\n",
    "# Plot the confusion matrix\n",
    "cm = confusion_matrix(y_test, predicted.numpy())\n",
    "plt.imshow(cm, interpolation=\"nearest\", cmap=plt.cm.Blues)\n",
    "plt.colorbar()\n",
    "tick_marks = np.arange(len(penguin_classes))\n",
    "plt.xticks(tick_marks, penguin_classes, rotation=45)\n",
    "plt.yticks(tick_marks, penguin_classes)\n",
    "plt.xlabel(\"Predicted Species\")\n",
    "plt.ylabel(\"Actual Species\")\n",
    "plt.show()"
   ]
  },
  {
   "cell_type": "markdown",
   "metadata": {},
   "source": [
    "The confusion matrix should show a strong diagonal line indicating that there are more correct than incorrect predictions for each class.\n",
    "\n",
    "## Save the trained model\n",
    "Now that we have a model we believe is reasonably accurate, we can save its trained weights for use later."
   ]
  },
  {
   "cell_type": "code",
   "execution_count": 29,
   "metadata": {},
   "outputs": [
    {
     "name": "stdout",
     "output_type": "stream",
     "text": [
      "model saved as models/penguin_classifier.pt\n"
     ]
    }
   ],
   "source": [
    "# Save the model weights\n",
    "model_file = 'models/penguin_classifier.pt'\n",
    "torch.save(model.state_dict(), model_file)\n",
    "print('model saved as', model_file)"
   ]
  },
  {
   "cell_type": "code",
   "execution_count": 30,
   "metadata": {},
   "outputs": [],
   "source": [
    "del model"
   ]
  },
  {
   "cell_type": "markdown",
   "metadata": {},
   "source": [
    "## Use the trained model\n",
    "\n",
    "When we have a new penguin observation, we can use the model to predict the species."
   ]
  },
  {
   "cell_type": "code",
   "execution_count": 31,
   "metadata": {},
   "outputs": [
    {
     "name": "stdout",
     "output_type": "stream",
     "text": [
      "New sample: [[50.4, 15.3, 20, 50]]\n"
     ]
    }
   ],
   "source": [
    "# New penguin features (this is your new data sample for prediction)\n",
    "x_new = [[50.4, 15.3, 20, 50]]\n",
    "print('New sample: {}'.format(x_new))"
   ]
  },
  {
   "cell_type": "code",
   "execution_count": 33,
   "metadata": {},
   "outputs": [
    {
     "data": {
      "text/plain": [
       "\"\\n# there's a better way now\\nmodel = PenguinNet()\\nmodel.load_state_dict(torch.load(model_file))\\n\""
      ]
     },
     "execution_count": 33,
     "metadata": {},
     "output_type": "execute_result"
    }
   ],
   "source": [
    "# Load the pre-trained model\n",
    "\"\"\"\n",
    "# there's a better way now\n",
    "model = PenguinNet()\n",
    "model.load_state_dict(torch.load(model_file))\n",
    "\"\"\""
   ]
  },
  {
   "cell_type": "code",
   "execution_count": 35,
   "metadata": {},
   "outputs": [
    {
     "data": {
      "text/plain": [
       "<All keys matched successfully>"
      ]
     },
     "execution_count": 35,
     "metadata": {},
     "output_type": "execute_result"
    }
   ],
   "source": [
    "# Load the pre-trained model's weights only (safer approach)\n",
    "model = PenguinNet()\n",
    "\n",
    "# Use weights_only=True to ensure only the model's state dict is loaded\n",
    "model.load_state_dict(torch.load(model_file, weights_only=True))"
   ]
  },
  {
   "cell_type": "code",
   "execution_count": 36,
   "metadata": {},
   "outputs": [
    {
     "data": {
      "text/plain": [
       "PenguinNet(\n",
       "  (fc1): Linear(in_features=4, out_features=10, bias=True)\n",
       "  (fc2): Linear(in_features=10, out_features=10, bias=True)\n",
       "  (fc3): Linear(in_features=10, out_features=3, bias=True)\n",
       ")"
      ]
     },
     "execution_count": 36,
     "metadata": {},
     "output_type": "execute_result"
    }
   ],
   "source": [
    "# Set the model to evaluation mode\n",
    "model.eval()"
   ]
  },
  {
   "cell_type": "code",
   "execution_count": 37,
   "metadata": {},
   "outputs": [
    {
     "name": "stderr",
     "output_type": "stream",
     "text": [
      "c:\\Users\\rabreu\\vault\\academy\\Microsoft_Create machine learning models\\venv\\Lib\\site-packages\\sklearn\\utils\\validation.py:2739: UserWarning: X does not have valid feature names, but StandardScaler was fitted with feature names\n",
      "  warnings.warn(\n"
     ]
    }
   ],
   "source": [
    "# Perform prediction on the new data\n",
    "x_new_scaled = scaler.transform(x_new) # this is actually wrong because of the order"
   ]
  },
  {
   "cell_type": "code",
   "execution_count": 38,
   "metadata": {
    "tags": []
   },
   "outputs": [
    {
     "name": "stdout",
     "output_type": "stream",
     "text": [
      "Prediction: Gentoo\n"
     ]
    }
   ],
   "source": [
    "# Get a prediction for the new data sample\n",
    "x = torch.Tensor(x_new).float()\n",
    "res: torch.Tensor = model(x)\n",
    "_, predicted = torch.max(res.data, 1)\n",
    "\n",
    "print('Prediction:',penguin_classes[predicted.item()])"
   ]
  },
  {
   "cell_type": "code",
   "execution_count": 40,
   "metadata": {},
   "outputs": [
    {
     "name": "stdout",
     "output_type": "stream",
     "text": [
      "Class probabilities: tensor([[1.0000e+00, 1.9025e-11, 1.9025e-11]], grad_fn=<SoftmaxBackward0>)\n",
      "Predicted class: Adelie\n"
     ]
    }
   ],
   "source": [
    "# to avoid the warning (and correct the wrong scaling)\n",
    "\n",
    "features = ['CulmenLength', 'CulmenDepth', 'FlipperLength', 'BodyMass']\n",
    "x_new_df = pd.DataFrame(x_new, columns=features)  # 'features' is your list of feature names\n",
    "\n",
    "# Standardize the new sample using the same scaler as used during training\n",
    "columns_to_scale = ['FlipperLength', 'BodyMass', 'CulmenLength', 'CulmenDepth']\n",
    "x_new_scaled = scaler.transform(x_new_df[columns_to_scale])\n",
    "\n",
    "# Since `model.predict` isn't a standard PyTorch method, \n",
    "# you will typically have to use `model.forward` or directly use \n",
    "# the model to get class probabilities.\n",
    "# Assuming you're working with a classification model that outputs raw logits, \n",
    "# you'll need to apply a softmax to get class probabilities.\n",
    "\n",
    "# Convert the scaled features to a torch tensor\n",
    "x = torch.Tensor(x_new_scaled).float()\n",
    "\n",
    "# Get raw logits from the model\n",
    "logits: torch.Tensor = model(x)\n",
    "\n",
    "# Apply softmax to get class probabilities\n",
    "class_probabilities: torch.Tensor = torch.nn.functional.softmax(logits, dim=1)\n",
    "\n",
    "# Get the predicted class by choosing the class with the highest probability\n",
    "predictions = np.argmax(class_probabilities.detach().numpy(), axis=1)\n",
    "\n",
    "print(f'Class probabilities: {class_probabilities}')\n",
    "print(f'Predicted class: {penguin_classes[predictions[0]]}')"
   ]
  },
  {
   "cell_type": "markdown",
   "metadata": {},
   "source": [
    "## Learn more\n",
    "\n",
    "This notebook was designed to help you understand the basic concepts and principles involved in deep neural networks, using a simple PyTorch example. To learn more about PyTorch, take a look at the [tutorials on the PyTorch web site](https://pytorch.org/tutorials/)."
   ]
  }
 ],
 "metadata": {
  "kernelspec": {
   "display_name": "venv",
   "language": "python",
   "name": "python3"
  },
  "language_info": {
   "codemirror_mode": {
    "name": "ipython",
    "version": 3
   },
   "file_extension": ".py",
   "mimetype": "text/x-python",
   "name": "python",
   "nbconvert_exporter": "python",
   "pygments_lexer": "ipython3",
   "version": "3.12.7"
  }
 },
 "nbformat": 4,
 "nbformat_minor": 2
}
