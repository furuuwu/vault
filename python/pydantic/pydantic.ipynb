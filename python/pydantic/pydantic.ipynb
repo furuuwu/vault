{
 "cells": [
  {
   "cell_type": "code",
   "execution_count": 48,
   "metadata": {},
   "outputs": [
    {
     "name": "stdout",
     "output_type": "stream",
     "text": [
      "2.10.6\n"
     ]
    }
   ],
   "source": [
    "import pydantic\n",
    "print(pydantic.__version__)"
   ]
  },
  {
   "cell_type": "markdown",
   "metadata": {},
   "source": [
    "## Defining schemas in pydantic"
   ]
  },
  {
   "cell_type": "markdown",
   "metadata": {},
   "source": [
    "Create a model for a user with\n",
    "* a username\n",
    "* an email address\n",
    "* an ID (keep it as an integer for now)\n",
    "* a date of birth"
   ]
  },
  {
   "cell_type": "markdown",
   "metadata": {},
   "source": [
    "Without pydantic (and any library), it would look like this"
   ]
  },
  {
   "cell_type": "code",
   "execution_count": 49,
   "metadata": {},
   "outputs": [],
   "source": [
    "from datetime import datetime\n",
    "\n",
    "class User:\n",
    "    def __init__(self, id, username, email, dob):\n",
    "        # Validate id (must be an int)\n",
    "        # if i want `id` to be an integer, i check if it is an instance of the int type\n",
    "        # and if not i raise a error\n",
    "        if not isinstance(id, int):\n",
    "            raise TypeError(f'Expected id to be an int, got {type(id).__name__}')\n",
    "        \n",
    "        # Validate username (must be a string)\n",
    "        if not isinstance(username, str):\n",
    "            raise TypeError(f'Expected username to be a str, got {type(username).__name__}')\n",
    "        \n",
    "        # Validate email (must be a string and basic email format check)\n",
    "        if not isinstance(email, str):\n",
    "            raise TypeError(f'Expected email to be a str, got {type(email).__name__}')\n",
    "        if '@' not in email or '.' not in email.split('@')[-1]:\n",
    "            raise ValueError(f'Invalid email format: {email}')\n",
    "        \n",
    "        # Validate dob (must be a datetime object)\n",
    "        if not isinstance(dob, datetime):\n",
    "            raise TypeError(f'Expected dob to be a datetime, got {type(dob).__name__}')\n",
    "        \n",
    "        # Assign values to instance variables\n",
    "        self.id = id\n",
    "        self.username = username\n",
    "        self.email = email\n",
    "        self.dob = dob"
   ]
  },
  {
   "cell_type": "code",
   "execution_count": 50,
   "metadata": {},
   "outputs": [
    {
     "name": "stdout",
     "output_type": "stream",
     "text": [
      "User created successfully: {'id': 123, 'username': 'john_doe', 'email': 'john.doe@example.com', 'dob': datetime.datetime(1990, 5, 10, 0, 0)}\n",
      "Error: Invalid email format: john.doe@example\n"
     ]
    }
   ],
   "source": [
    "# Example usage\n",
    "try:\n",
    "    user = User(id=123, username='john_doe', email='john.doe@example.com', dob=datetime(1990, 5, 10))\n",
    "    print(\"User created successfully:\", user.__dict__)\n",
    "except (TypeError, ValueError) as e:\n",
    "    print(f\"Error: {e}\")\n",
    "\n",
    "# Example with invalid email\n",
    "try:\n",
    "    invalid_user = User(id=123, username='john_doe', email='john.doe@example', dob=datetime(1990, 5, 10))\n",
    "except (TypeError, ValueError) as e:\n",
    "    print(f\"Error: {e}\")"
   ]
  },
  {
   "cell_type": "markdown",
   "metadata": {},
   "source": [
    "That did the following validations\n",
    "* id validation: The id must be an integer (int). If it's not, a TypeError is raised.\n",
    "* username validation: The username must be a string (str).\n",
    "* email validation: The email must be a string, and we perform a basic validation to check that it contains both @ and . to simulate a basic email format check.\n",
    "* dob validation: The dob must be a datetime object."
   ]
  },
  {
   "cell_type": "markdown",
   "metadata": {},
   "source": [
    "`dataclasses` can somewhat simplify the syntax but still not ideal"
   ]
  },
  {
   "cell_type": "code",
   "execution_count": 51,
   "metadata": {},
   "outputs": [],
   "source": [
    "from dataclasses import dataclass, field\n",
    "\n",
    "@dataclass\n",
    "class User:\n",
    "    id: int\n",
    "    username: str\n",
    "    email: str\n",
    "    dob: datetime\n",
    "\n",
    "    def __post_init__(self):\n",
    "        # Validate id (must be an int)\n",
    "        if not isinstance(self.id, int):\n",
    "            raise TypeError(f'Expected id to be an int, got {type(self.id).__name__}')\n",
    "        \n",
    "        # Validate username (must be a string)\n",
    "        if not isinstance(self.username, str):\n",
    "            raise TypeError(f'Expected username to be a str, got {type(self.username).__name__}')\n",
    "        \n",
    "        # Validate email (must be a string and basic email format check)\n",
    "        if not isinstance(self.email, str):\n",
    "            raise TypeError(f'Expected email to be a str, got {type(self.email).__name__}')\n",
    "        if '@' not in self.email or '.' not in self.email.split('@')[-1]:\n",
    "            raise ValueError(f'Invalid email format: {self.email}')\n",
    "        \n",
    "        # Validate dob (must be a datetime object)\n",
    "        if not isinstance(self.dob, datetime):\n",
    "            raise TypeError(f'Expected dob to be a datetime, got {type(self.dob).__name__}')"
   ]
  },
  {
   "cell_type": "code",
   "execution_count": 52,
   "metadata": {},
   "outputs": [
    {
     "name": "stdout",
     "output_type": "stream",
     "text": [
      "User created successfully: User(id=123, username='john_doe', email='john.doe@example.com', dob=datetime.datetime(1990, 5, 10, 0, 0))\n",
      "Error: Invalid email format: john.doe@example\n"
     ]
    }
   ],
   "source": [
    "# Example usage\n",
    "try:\n",
    "    user = User(id=123, username='john_doe', email='john.doe@example.com', dob=datetime(1990, 5, 10))\n",
    "    print(\"User created successfully:\", user)\n",
    "except (TypeError, ValueError) as e:\n",
    "    print(f\"Error: {e}\")\n",
    "\n",
    "# Example with invalid email\n",
    "try:\n",
    "    invalid_user = User(id=123, username='john_doe', email='john.doe@example', dob=datetime(1990, 5, 10))\n",
    "except (TypeError, ValueError) as e:\n",
    "    print(f\"Error: {e}\")"
   ]
  },
  {
   "cell_type": "markdown",
   "metadata": {},
   "source": [
    "With Pydantic, it looks like this"
   ]
  },
  {
   "cell_type": "code",
   "execution_count": 53,
   "metadata": {},
   "outputs": [],
   "source": [
    "from pydantic import BaseModel\n",
    "\n",
    "class User(BaseModel):\n",
    "    id: int\n",
    "    username: str\n",
    "    email: str\n",
    "    dob: datetime\n",
    "\n",
    "# basically, extend the BaseModel class and use type annotations to define the expected data types"
   ]
  },
  {
   "cell_type": "code",
   "execution_count": 54,
   "metadata": {},
   "outputs": [],
   "source": [
    "# Example usage\n",
    "u = User(id=1, username=\"freethrow\", email=\"email@gmail.com\", dob=datetime(1975, 5, 13))"
   ]
  },
  {
   "cell_type": "markdown",
   "metadata": {},
   "source": [
    "if you create a user with the wrong data, it will throw an error"
   ]
  },
  {
   "cell_type": "code",
   "execution_count": 55,
   "metadata": {},
   "outputs": [],
   "source": [
    "if False:\n",
    "    # Example with invalid id\n",
    "    u = User(\n",
    "        id=\"one\",\n",
    "        username=\"freethrow\",\n",
    "        email=\"email@gmail.com\",\n",
    "        dob=datetime(1975, 5, 13),\n",
    "    )"
   ]
  },
  {
   "cell_type": "markdown",
   "metadata": {},
   "source": [
    "catch the error"
   ]
  },
  {
   "cell_type": "code",
   "execution_count": 56,
   "metadata": {},
   "outputs": [
    {
     "name": "stdout",
     "output_type": "stream",
     "text": [
      "1 validation error for User\n",
      "id\n",
      "  Input should be a valid integer, unable to parse string as an integer [type=int_parsing, input_value='one', input_type=str]\n",
      "    For further information visit https://errors.pydantic.dev/2.10/v/int_parsing\n"
     ]
    }
   ],
   "source": [
    "try:\n",
    "    u = User(\n",
    "        id=\"one\",\n",
    "        username=\"freethrow\",\n",
    "        email=\"email@gmail.com\",\n",
    "        dob=datetime(1975, 5, 13),\n",
    "    )\n",
    "    print(u)\n",
    "except Exception as e:\n",
    "    print(e)"
   ]
  },
  {
   "cell_type": "markdown",
   "metadata": {},
   "source": [
    "To get more error details"
   ]
  },
  {
   "cell_type": "code",
   "execution_count": 57,
   "metadata": {},
   "outputs": [
    {
     "name": "stdout",
     "output_type": "stream",
     "text": [
      "[{'type': 'int_parsing', 'loc': ('id',), 'msg': 'Input should be a valid integer, unable to parse string as an integer', 'input': 'one', 'url': 'https://errors.pydantic.dev/2.10/v/int_parsing'}]\n"
     ]
    }
   ],
   "source": [
    "from pydantic import ValidationError\n",
    "\n",
    "try:\n",
    "    u = User(\n",
    "        id=\"one\",\n",
    "        username=\"freethrow\",\n",
    "        email=\"email@gmail.com\",\n",
    "        dob=datetime(1975, 5, 13),\n",
    "    )\n",
    "    print(u)\n",
    "except ValidationError as e:\n",
    "    print(e.errors())"
   ]
  },
  {
   "cell_type": "markdown",
   "metadata": {},
   "source": [
    "When we write\n",
    "\n",
    "```python\n",
    "class User(BaseModel):\n",
    "    id: int\n",
    "    username: str\n",
    "    email: str\n",
    "    dob: datetime\n",
    "```\n",
    "\n",
    "we are defining schema in Pydantic by creating a Model. This is one of the primary ways of defining schema in Pydantic. Models are simply classes which inherit from `BaseModel` and define fields as annotated attributes.\n",
    "\n",
    "User is a model with two fields:\n",
    "\n",
    "* id, which is an integer and is required\n",
    "* name, which is a string and is not required (it has a default value).\n",
    "\n",
    "The model can then be instantiated:\n",
    "\n",
    "```python\n",
    "user = User(id='123')\n",
    "```\n",
    "\n",
    "user is an instance of User. Initialization of the object will perform all parsing and validation. If no ValidationError exception is raised, you know the resulting model instance is valid."
   ]
  },
  {
   "cell_type": "markdown",
   "metadata": {},
   "source": [
    "### validating data"
   ]
  },
  {
   "cell_type": "markdown",
   "metadata": {},
   "source": [
    "Pydantic provides three methods on models classes for parsing data:\n",
    "\n",
    "* `model_validate()`: this is very similar to the __init__ method of the model, except it takes a dictionary or an object rather than keyword arguments. If the object passed cannot be validated, or if it's not a dictionary or instance of the model in question, a ValidationError will be raised.\n",
    "* `model_validate_json()`: this validates the provided data as a JSON string or bytes object. If your incoming data is a JSON payload, this is generally considered faster (instead of manually parsing the data as a dictionary). Learn more about JSON parsing in the JSON section of the docs.\n",
    "* `model_validate_strings()`: this takes a dictionary (can be nested) with string keys and values and validates the data in JSON mode so that said strings can be coerced into the correct types."
   ]
  },
  {
   "cell_type": "code",
   "execution_count": 58,
   "metadata": {},
   "outputs": [],
   "source": [
    "class User(BaseModel):\n",
    "    id: int\n",
    "    name: str = 'John Doe'\n",
    "    signup_ts: datetime|None = None"
   ]
  },
  {
   "cell_type": "code",
   "execution_count": 59,
   "metadata": {},
   "outputs": [
    {
     "data": {
      "text/plain": [
       "User(id=123, name='James', signup_ts=None)"
      ]
     },
     "execution_count": 59,
     "metadata": {},
     "output_type": "execute_result"
    }
   ],
   "source": [
    "m = User.model_validate({'id': 123, 'name': 'James'})\n",
    "\n",
    "m"
   ]
  },
  {
   "cell_type": "code",
   "execution_count": 60,
   "metadata": {},
   "outputs": [
    {
     "name": "stdout",
     "output_type": "stream",
     "text": [
      "1 validation error for User\n",
      "  Input should be a valid dictionary or instance of User [type=model_type, input_value=['not', 'a', 'dict'], input_type=list]\n",
      "    For further information visit https://errors.pydantic.dev/2.10/v/model_type\n"
     ]
    }
   ],
   "source": [
    "try:\n",
    "    User.model_validate(['not', 'a', 'dict'])\n",
    "except ValidationError as e:\n",
    "    print(e)"
   ]
  },
  {
   "cell_type": "code",
   "execution_count": 61,
   "metadata": {},
   "outputs": [
    {
     "data": {
      "text/plain": [
       "User(id=123, name='James', signup_ts=None)"
      ]
     },
     "execution_count": 61,
     "metadata": {},
     "output_type": "execute_result"
    }
   ],
   "source": [
    "m = User.model_validate_json('{\"id\": 123, \"name\": \"James\"}')\n",
    "\n",
    "m"
   ]
  },
  {
   "cell_type": "code",
   "execution_count": 62,
   "metadata": {},
   "outputs": [
    {
     "name": "stdout",
     "output_type": "stream",
     "text": [
      "1 validation error for User\n",
      "name\n",
      "  Input should be a valid string [type=string_type, input_value=123, input_type=int]\n",
      "    For further information visit https://errors.pydantic.dev/2.10/v/string_type\n"
     ]
    }
   ],
   "source": [
    "try:\n",
    "    m = User.model_validate_json('{\"id\": 123, \"name\": 123}')\n",
    "except ValidationError as e:\n",
    "    print(e)"
   ]
  },
  {
   "cell_type": "code",
   "execution_count": 63,
   "metadata": {},
   "outputs": [
    {
     "data": {
      "text/plain": [
       "User(id=123, name='James', signup_ts=None)"
      ]
     },
     "execution_count": 63,
     "metadata": {},
     "output_type": "execute_result"
    }
   ],
   "source": [
    "m = User.model_validate_strings({'id': '123', 'name': 'James'})\n",
    "\n",
    "m"
   ]
  },
  {
   "cell_type": "code",
   "execution_count": 64,
   "metadata": {},
   "outputs": [
    {
     "data": {
      "text/plain": [
       "User(id=123, name='James', signup_ts=datetime.datetime(2024, 4, 1, 12, 0))"
      ]
     },
     "execution_count": 64,
     "metadata": {},
     "output_type": "execute_result"
    }
   ],
   "source": [
    "m = User.model_validate_strings(\n",
    "    {'id': '123', 'name': 'James', 'signup_ts': '2024-04-01T12:00:00'}\n",
    ")\n",
    "\n",
    "m"
   ]
  },
  {
   "cell_type": "code",
   "execution_count": 65,
   "metadata": {},
   "outputs": [
    {
     "name": "stdout",
     "output_type": "stream",
     "text": [
      "1 validation error for User\n",
      "signup_ts\n",
      "  Input should be a valid datetime, invalid datetime separator, expected `T`, `t`, `_` or space [type=datetime_parsing, input_value='2024-04-01', input_type=str]\n",
      "    For further information visit https://errors.pydantic.dev/2.10/v/datetime_parsing\n"
     ]
    }
   ],
   "source": [
    "try:\n",
    "    m = User.model_validate_strings(\n",
    "        {'id': '123', 'name': 'James', 'signup_ts': '2024-04-01'}, strict=True\n",
    "    )\n",
    "except ValidationError as e:\n",
    "    print(e)"
   ]
  },
  {
   "cell_type": "markdown",
   "metadata": {},
   "source": [
    "### Required vs Optional/Nullable fields"
   ]
  },
  {
   "cell_type": "code",
   "execution_count": 66,
   "metadata": {},
   "outputs": [],
   "source": [
    "class User(BaseModel):\n",
    "    id: int\n",
    "    name: str = 'Jane Doe' # by givin it a default, you make it optional"
   ]
  },
  {
   "cell_type": "markdown",
   "metadata": {},
   "source": [
    "Required Fields:\n",
    "* The field id is required because there is no default value assigned to it. In Pydantic, any field without a default value is considered required.\n",
    "\n",
    "Optional (nullable) Fields:\n",
    "* The field name has a default value 'Jane Doe', so it’s optional. If no value is provided for name, the default will be used."
   ]
  },
  {
   "cell_type": "code",
   "execution_count": 67,
   "metadata": {},
   "outputs": [],
   "source": [
    "# you can say it can be null without proving the default value explicitly\n",
    "class User(BaseModel):\n",
    "    id: int\n",
    "    name: str | None = None"
   ]
  },
  {
   "cell_type": "code",
   "execution_count": 68,
   "metadata": {},
   "outputs": [
    {
     "data": {
      "text/plain": [
       "User(id=123, name=None)"
      ]
     },
     "execution_count": 68,
     "metadata": {},
     "output_type": "execute_result"
    }
   ],
   "source": [
    "user = User(id=123)\n",
    "\n",
    "user"
   ]
  },
  {
   "cell_type": "code",
   "execution_count": 69,
   "metadata": {},
   "outputs": [
    {
     "data": {
      "text/plain": [
       "123"
      ]
     },
     "execution_count": 69,
     "metadata": {},
     "output_type": "execute_result"
    }
   ],
   "source": [
    "user.id"
   ]
  },
  {
   "cell_type": "code",
   "execution_count": 70,
   "metadata": {},
   "outputs": [
    {
     "name": "stdout",
     "output_type": "stream",
     "text": [
      "{'id'}\n",
      "{'id', 'name'}\n"
     ]
    }
   ],
   "source": [
    "print(user.model_fields_set)\n",
    "user = User(id=123, name=\"Jane Doe\")\n",
    "print(user.model_fields_set)"
   ]
  },
  {
   "cell_type": "code",
   "execution_count": 71,
   "metadata": {},
   "outputs": [],
   "source": [
    "class User(BaseModel):\n",
    "    id: int\n",
    "    username: str\n",
    "    email: str\n",
    "    dob: datetime | None = None\n",
    "    fav_colors: list[str] | None = [\"red\", \"blue\"]"
   ]
  },
  {
   "cell_type": "code",
   "execution_count": 72,
   "metadata": {},
   "outputs": [
    {
     "name": "stdout",
     "output_type": "stream",
     "text": [
      "id=2 username='freethrow' email='email@gmail.com' dob=datetime.datetime(1975, 5, 13, 0, 0) fav_colors=['red', 'blue']\n"
     ]
    }
   ],
   "source": [
    "try:\n",
    "    u = User(\n",
    "        id=2,\n",
    "        username=\"freethrow\",\n",
    "        email=\"email@gmail.com\",\n",
    "        dob=datetime(1975, 5, 13),\n",
    "    )\n",
    "    print(u)\n",
    "except Exception as e:\n",
    "    print(e)"
   ]
  },
  {
   "cell_type": "code",
   "execution_count": 73,
   "metadata": {},
   "outputs": [],
   "source": [
    "from pydantic import PositiveInt\n",
    "\n",
    "class User(BaseModel):\n",
    "    id: int\n",
    "    name: str = 'John Doe'\n",
    "    signup_ts: datetime | None\n",
    "    tastes: dict[str, PositiveInt]"
   ]
  },
  {
   "cell_type": "code",
   "execution_count": 74,
   "metadata": {},
   "outputs": [],
   "source": [
    "external_data = {\n",
    "    'id': 123,\n",
    "    'signup_ts': '2019-06-01 12:22',\n",
    "    'tastes': {\n",
    "        'wine': 9,\n",
    "        b'cheese': 7,\n",
    "        'cabbage': '1',\n",
    "    },\n",
    "}\n",
    "\n",
    "user = User(**external_data)"
   ]
  },
  {
   "cell_type": "code",
   "execution_count": 75,
   "metadata": {},
   "outputs": [
    {
     "data": {
      "text/plain": [
       "User(id=123, name='John Doe', signup_ts=datetime.datetime(2019, 6, 1, 12, 22), tastes={'wine': 9, 'cheese': 7, 'cabbage': 1})"
      ]
     },
     "execution_count": 75,
     "metadata": {},
     "output_type": "execute_result"
    }
   ],
   "source": [
    "user"
   ]
  },
  {
   "cell_type": "code",
   "execution_count": 76,
   "metadata": {},
   "outputs": [
    {
     "name": "stdout",
     "output_type": "stream",
     "text": [
      "123\n",
      "{'id': 123, 'name': 'John Doe', 'signup_ts': datetime.datetime(2019, 6, 1, 12, 22), 'tastes': {'wine': 9, 'cheese': 7, 'cabbage': 1}}\n"
     ]
    }
   ],
   "source": [
    "print(user.id)\n",
    "print(user.model_dump())"
   ]
  },
  {
   "cell_type": "code",
   "execution_count": 77,
   "metadata": {},
   "outputs": [
    {
     "name": "stdout",
     "output_type": "stream",
     "text": [
      "[{'type': 'int_parsing', 'loc': ('id',), 'msg': 'Input should be a valid integer, unable to parse string as an integer', 'input': 'not an int', 'url': 'https://errors.pydantic.dev/2.10/v/int_parsing'}, {'type': 'missing', 'loc': ('signup_ts',), 'msg': 'Field required', 'input': {'id': 'not an int', 'tastes': {}}, 'url': 'https://errors.pydantic.dev/2.10/v/missing'}]\n"
     ]
    }
   ],
   "source": [
    "external_data = {'id': 'not an int', 'tastes': {}}\n",
    "\n",
    "try:\n",
    "    User(**external_data)\n",
    "except ValidationError as e:\n",
    "    print(e.errors())"
   ]
  },
  {
   "cell_type": "markdown",
   "metadata": {},
   "source": [
    "## Serialization"
   ]
  },
  {
   "cell_type": "markdown",
   "metadata": {},
   "source": [
    "Beyond accessing model attributes directly via their field names (e.g. model.foobar), models can be converted, dumped, serialized, and exported in a number of ways. Pydantic uses the terms \"serialize\" and \"dump\" interchangeably. Both refer to the process of converting a model to a dictionary or JSON-encoded string.\n",
    "\n",
    "Pydantic provides functionality to serialize model in three ways:\n",
    "\n",
    "* To a Python dict made up of the associated Python objects.\n",
    "* To a Python dict made up only of \"jsonable\" types.\n",
    "* To a JSON\n",
    "\n",
    "In all three modes, the output can be customized by excluding specific fields, excluding unset fields, excluding default values, and excluding None values.\n",
    "\n",
    "https://docs.pydantic.dev/latest/concepts/serialization/"
   ]
  },
  {
   "cell_type": "code",
   "execution_count": 78,
   "metadata": {},
   "outputs": [],
   "source": [
    "class User(BaseModel):\n",
    "    id: int\n",
    "    name: str = 'Jane Doe'"
   ]
  },
  {
   "cell_type": "code",
   "execution_count": 79,
   "metadata": {},
   "outputs": [
    {
     "name": "stdout",
     "output_type": "stream",
     "text": [
      "{'id': 123, 'name': 'John Doe', 'signup_ts': datetime.datetime(2019, 6, 1, 12, 22), 'tastes': {'wine': 9, 'cheese': 7, 'cabbage': 1}}\n",
      "{'id': 123, 'name': 'John Doe', 'signup_ts': '2019-06-01T12:22:00', 'tastes': {'wine': 9, 'cheese': 7, 'cabbage': 1}}\n",
      "{\"id\":123,\"name\":\"John Doe\",\"signup_ts\":\"2019-06-01T12:22:00\",\"tastes\":{\"wine\":9,\"cheese\":7,\"cabbage\":1}}\n",
      "{'properties': {'id': {'title': 'Id', 'type': 'integer'}, 'name': {'default': 'John Doe', 'title': 'Name', 'type': 'string'}, 'signup_ts': {'anyOf': [{'format': 'date-time', 'type': 'string'}, {'type': 'null'}], 'title': 'Signup Ts'}, 'tastes': {'additionalProperties': {'exclusiveMinimum': 0, 'type': 'integer'}, 'title': 'Tastes', 'type': 'object'}}, 'required': ['id', 'signup_ts', 'tastes'], 'title': 'User', 'type': 'object'}\n"
     ]
    }
   ],
   "source": [
    "print(user.model_dump()) # convert to a dict\n",
    "print(user.model_dump(mode='json')) # convert to a dict made up only of \"jsonable\" types\n",
    "print(user.model_dump_json()) # convert to json\n",
    "print(user.model_json_schema())"
   ]
  },
  {
   "cell_type": "code",
   "execution_count": 80,
   "metadata": {},
   "outputs": [],
   "source": [
    "class Meeting(BaseModel):\n",
    "    when: datetime\n",
    "    where: bytes\n",
    "    why: str = 'No idea'"
   ]
  },
  {
   "cell_type": "code",
   "execution_count": 81,
   "metadata": {},
   "outputs": [
    {
     "name": "stdout",
     "output_type": "stream",
     "text": [
      "{'when': datetime.datetime(2020, 1, 1, 12, 0), 'where': b'home'}\n",
      "{'when': '2020-01-01T12:00:00', 'why': 'No idea'}\n",
      "{\"when\":\"2020-01-01T12:00:00\",\"where\":\"home\"}\n"
     ]
    }
   ],
   "source": [
    "m = Meeting(when='2020-01-01T12:00', where='home')\n",
    "\n",
    "print(m.model_dump(exclude_unset=True))\n",
    "#> {'when': datetime.datetime(2020, 1, 1, 12, 0), 'where': b'home'}\n",
    "\n",
    "print(m.model_dump(exclude={'where'}, mode='json'))\n",
    "#> {'when': '2020-01-01T12:00:00', 'why': 'No idea'}\n",
    "\n",
    "print(m.model_dump_json(exclude_defaults=True))\n",
    "#> {\"when\":\"2020-01-01T12:00:00\",\"where\":\"home\"}"
   ]
  },
  {
   "cell_type": "markdown",
   "metadata": {},
   "source": [
    "## Nested models"
   ]
  },
  {
   "cell_type": "code",
   "execution_count": 82,
   "metadata": {},
   "outputs": [],
   "source": [
    "from typing import List, Optional\n",
    "from pydantic import BaseModel\n",
    "\n",
    "class Food(BaseModel):\n",
    "    name: str\n",
    "    price: float\n",
    "    # ingredients: Optional[List[str]] = None\n",
    "    ingredients: List[str] | None = None\n",
    "\n",
    "class Restaurant(BaseModel):\n",
    "    name: str\n",
    "    location: str\n",
    "    foods: List[Food]"
   ]
  },
  {
   "cell_type": "code",
   "execution_count": 83,
   "metadata": {},
   "outputs": [
    {
     "name": "stdout",
     "output_type": "stream",
     "text": [
      "name='Tasty Bites' location='123, Flavor Street' foods=[Food(name='Cheese Pizza', price=12.5, ingredients=['Cheese', 'Tomato Sauce', 'Dough']), Food(name='Veggie Burger', price=8.99, ingredients=None)]\n",
      "{'name': 'Tasty Bites', 'location': '123, Flavor Street', 'foods': [{'name': 'Cheese Pizza', 'price': 12.5, 'ingredients': ['Cheese', 'Tomato Sauce', 'Dough']}, {'name': 'Veggie Burger', 'price': 8.99, 'ingredients': None}]}\n"
     ]
    }
   ],
   "source": [
    "restaurant_instance = Restaurant(\n",
    "    name=\"Tasty Bites\",\n",
    "    location=\"123, Flavor Street\",\n",
    "    foods=[\n",
    "        {\"name\": \"Cheese Pizza\", \"price\": 12.50, \"ingredients\": [\"Cheese\", \"Tomato Sauce\", \"Dough\"]},\n",
    "        {\"name\": \"Veggie Burger\", \"price\": 8.99}\n",
    "    ]\n",
    ")\n",
    "\n",
    "print(restaurant_instance)\n",
    "print(restaurant_instance.model_dump())"
   ]
  },
  {
   "cell_type": "markdown",
   "metadata": {},
   "source": [
    "## Validation on pydantic fields"
   ]
  },
  {
   "cell_type": "markdown",
   "metadata": {},
   "source": [
    "* email validation\n",
    "\n",
    "```shell\n",
    "pipenv install email-validator\n",
    "# or\n",
    "pipenc install pydantic[email]\n",
    "```"
   ]
  },
  {
   "cell_type": "code",
   "execution_count": 84,
   "metadata": {},
   "outputs": [],
   "source": [
    "from pydantic import EmailStr\n",
    "\n",
    "class Model(BaseModel):\n",
    "    email: EmailStr"
   ]
  },
  {
   "cell_type": "code",
   "execution_count": 85,
   "metadata": {},
   "outputs": [
    {
     "name": "stdout",
     "output_type": "stream",
     "text": [
      "email='contact@mail.com'\n"
     ]
    }
   ],
   "source": [
    "print(Model(email='contact@mail.com'))"
   ]
  },
  {
   "cell_type": "markdown",
   "metadata": {},
   "source": [
    "* various other types"
   ]
  },
  {
   "cell_type": "code",
   "execution_count": 86,
   "metadata": {},
   "outputs": [],
   "source": [
    "from pydantic import BaseModel, EmailStr, PositiveInt, conlist, Field, HttpUrl\n",
    "\n",
    "class Address(BaseModel):\n",
    "    street: str\n",
    "    city: str\n",
    "    state: str\n",
    "    zip_code: str\n",
    "\n",
    "class Employee(BaseModel):\n",
    "    name: str\n",
    "    position: str\n",
    "    email: EmailStr\n",
    "    \n",
    "class Owner(BaseModel):\n",
    "    name: str\n",
    "    email: EmailStr\n",
    "    \n",
    "class Restaurant(BaseModel):\n",
    "    name: str = Field(..., pattern=r\"^[a-zA-Z0-9-' ]+$\")\n",
    "    # Must match the regex pattern ^[a-zA-Z0-9-' ]+$.\n",
    "\n",
    "    owner: Owner\n",
    "    # Must be a dictionary with keys name (a string) and email (valid EmailStr)\n",
    "\n",
    "    address: Address\n",
    "    # Must be a dictionary with keys street, city, state, and zip_code, all as strings.\n",
    "\n",
    "    employees: conlist(Employee, min_length=2)\n",
    "    # Must be a list of Employee objects, with at least two items (min_length=2).\n",
    "\n",
    "    number_of_seats: PositiveInt\n",
    "    # Must be a positive integer\n",
    "\n",
    "    delivery: bool\n",
    "\n",
    "    website: HttpUrl\n",
    "    # Must be a valid HttpUrl"
   ]
  },
  {
   "cell_type": "code",
   "execution_count": 87,
   "metadata": {},
   "outputs": [
    {
     "name": "stdout",
     "output_type": "stream",
     "text": [
      "name='Tasty Bites' owner=Owner(name='John Doe', email='john.doe@example.com') address=Address(street='123, Flavor Street', city='Tastytown', state='TS', zip_code='12345') employees=[Employee(name='Jane Doe', position='Chef', email='jane.doe@example.com'), Employee(name='Mike Roe', position='Waiter', email='mike.roe@example.com')] number_of_seats=50 delivery=True website=HttpUrl('http://tastybites.com/')\n"
     ]
    }
   ],
   "source": [
    "# Creating an instance of the Restaurant class\n",
    "restaurant_instance = Restaurant(\n",
    "    name=\"Tasty Bites\",\n",
    "    owner={\n",
    "        \"name\": \"John Doe\",\n",
    "        \"email\": \"john.doe@example.com\"\n",
    "    },\n",
    "    address={\n",
    "        \"street\": \"123, Flavor Street\",\n",
    "        \"city\": \"Tastytown\",\n",
    "        \"state\": \"TS\",\n",
    "        \"zip_code\": \"12345\",\n",
    "    },\n",
    "    employees=[\n",
    "        {\n",
    "            \"name\": \"Jane Doe\",\n",
    "            \"position\": \"Chef\",\n",
    "            \"email\": \"jane.doe@example.com\"\n",
    "        },\n",
    "        {\n",
    "            \"name\": \"Mike Roe\",\n",
    "            \"position\": \"Waiter\",\n",
    "            \"email\": \"mike.roe@example.com\"\n",
    "        }\n",
    "    ],\n",
    "    number_of_seats=50,\n",
    "    delivery=True,\n",
    "    website=\"http://tastybites.com\"\n",
    ")\n",
    "\n",
    "# Printing the instance\n",
    "print(restaurant_instance)"
   ]
  },
  {
   "cell_type": "markdown",
   "metadata": {},
   "source": [
    "The `Field` class is used to customize models and add metadata to the model fields.\n",
    "\n",
    "https://docs.pydantic.dev/latest/api/fields/"
   ]
  },
  {
   "cell_type": "code",
   "execution_count": 88,
   "metadata": {},
   "outputs": [],
   "source": [
    "from pydantic import  Field\n",
    "\n",
    "# eg. model a product\n",
    "class Product(BaseModel):\n",
    "    product_id: int = Field(..., alias=\"id\", gt=0, description=\"Unique identifier for the product\")\n",
    "    product_name: str = Field(..., alias=\"name\", max_length=50, description=\"Name of the product\")\n",
    "    price: float = Field(..., alias=\"productPrice\", ge=0.0, description=\"Price of the product\")\n",
    "    in_stock: bool = Field(..., alias=\"isAvailable\", description=\"Availability status of the product\")"
   ]
  },
  {
   "cell_type": "code",
   "execution_count": 89,
   "metadata": {},
   "outputs": [],
   "source": [
    "# Creating an instance using aliases\n",
    "data = {\n",
    "    \"id\": 101,\n",
    "    \"name\": \"Laptop\",\n",
    "    \"productPrice\": 999.99,\n",
    "    \"isAvailable\": True,\n",
    "}\n",
    "\n",
    "product = Product(**data)"
   ]
  },
  {
   "cell_type": "code",
   "execution_count": 90,
   "metadata": {},
   "outputs": [
    {
     "name": "stdout",
     "output_type": "stream",
     "text": [
      "101\n",
      "Laptop\n",
      "{'id': 101, 'name': 'Laptop', 'productPrice': 999.99, 'isAvailable': True}\n"
     ]
    }
   ],
   "source": [
    "# Accessing attributes with original field names\n",
    "print(product.product_id)\n",
    "print(product.product_name)\n",
    "\n",
    "# Accessing the original dict with aliases\n",
    "print(product.model_dump(by_alias=True))"
   ]
  },
  {
   "cell_type": "code",
   "execution_count": 91,
   "metadata": {},
   "outputs": [],
   "source": [
    "# eg. model a chess event\n",
    "\n",
    "from uuid import uuid4\n",
    "\n",
    "class ChessTournament(BaseModel):\n",
    "    id: int = Field(strict=True) # Ensures the value must strictly be an integer, rejecting float values (e.g., 5.0)\n",
    "    dt: datetime = Field(default_factory=datetime.now) # Automatically assigns the current datetime when the model instance is created, unless a value for dt is explicitly provided\n",
    "    name: str = Field(min_length=10, max_length=30)\n",
    "    num_players: int = Field(ge=4, le=16, multiple_of=2)\n",
    "    code: str = Field(default_factory=uuid4) # Generates a unique identifier to each tournament"
   ]
  },
  {
   "cell_type": "markdown",
   "metadata": {},
   "source": [
    "in `dt: datetime = Field(default_factory=datetime.now)`, `default_factory` executes the function (datetime.now) each time a new model instance is created.\n",
    "\n",
    "in `dt: datetime = datetime.now()`, `datetime.now()` function is evaluated once at the time the code is loaded, i.e., when the Python interpreter executes the class definition. All instances of the model share this same value as their default."
   ]
  },
  {
   "cell_type": "code",
   "execution_count": 92,
   "metadata": {},
   "outputs": [],
   "source": [
    "class UserModel(BaseModel):\n",
    "    id: int = Field()\n",
    "    username: str = Field(min_length=5, max_length=20)\n",
    "    email: EmailStr = Field()\n",
    "    password: str = Field(min_length=5, max_length=20, pattern=\"^[a-zA-Z0-9]+$\") # only alphanumeric characters and no spaces"
   ]
  },
  {
   "cell_type": "code",
   "execution_count": 93,
   "metadata": {},
   "outputs": [
    {
     "name": "stdout",
     "output_type": "stream",
     "text": [
      "{'id': 1, 'username': 'freethrow', 'email': 'email@gmail.com', 'password': 'password123'}\n"
     ]
    }
   ],
   "source": [
    "u = UserModel(\n",
    "    id=1,\n",
    "    username=\"freethrow\",\n",
    "    email=\"email@gmail.com\",\n",
    "    password=\"password123\",\n",
    ")\n",
    "\n",
    "print(u.model_dump())"
   ]
  },
  {
   "cell_type": "code",
   "execution_count": 94,
   "metadata": {},
   "outputs": [
    {
     "name": "stdout",
     "output_type": "stream",
     "text": [
      "{\"id\":1,\"username\":\"freethrow\",\"email\":\"email@gmail.com\",\"password\":\"password123\"}\n"
     ]
    }
   ],
   "source": [
    "# dump the model to a JSON representation and omit the password for security reasons\n",
    "print(u.model_dump_json(exclude=set(\"password\")))"
   ]
  },
  {
   "cell_type": "markdown",
   "metadata": {},
   "source": [
    "## Custom serializers and custom field validators"
   ]
  },
  {
   "cell_type": "code",
   "execution_count": 95,
   "metadata": {},
   "outputs": [],
   "source": [
    "from pydantic import BaseModel, Field, EmailStr, field_validator, model_serializer\n",
    "from datetime import datetime\n",
    "\n",
    "class User(BaseModel):\n",
    "    id: int\n",
    "    username: str = Field(min_length=5, max_length=20)\n",
    "    email: EmailStr\n",
    "    date_joined: datetime = Field(default_factory=datetime.now)\n",
    "    is_active: bool = True\n",
    "\n",
    "    # Custom validator for username\n",
    "    @field_validator(\"username\")\n",
    "    def validate_username(cls, value):\n",
    "        if not value.isalnum():\n",
    "            raise ValueError(\"Username must be alphanumeric.\")\n",
    "        if value.lower() == \"admin\":\n",
    "            raise ValueError(\"Username 'admin' is not allowed.\")\n",
    "        return value\n",
    "\n",
    "    # Custom validator for email\n",
    "    @field_validator(\"email\")\n",
    "    def validate_email_domain(cls, value):\n",
    "        allowed_domains = {\"example.com\", \"test.com\"}\n",
    "        if value.split(\"@\")[-1] not in allowed_domains:\n",
    "            raise ValueError(\"Email domain must be one of: example.com, test.com.\")\n",
    "        return value\n",
    "\n",
    "    # Custom serializer to modify how the object is represented in JSON\n",
    "    @model_serializer\n",
    "    def serialize_model(self) -> dict:\n",
    "        data = self.__dict__.copy()\n",
    "        # Custom serialization: convert `date_joined` to a string\n",
    "        data[\"date_joined\"] = self.date_joined.strftime(\"%Y-%m-%d %H:%M:%S\")\n",
    "        # Exclude email from output\n",
    "        data.pop(\"email\")\n",
    "        return data"
   ]
  },
  {
   "cell_type": "code",
   "execution_count": 96,
   "metadata": {},
   "outputs": [
    {
     "name": "stdout",
     "output_type": "stream",
     "text": [
      "User created successfully!\n",
      "Serialized user: {\"id\":1,\"username\":\"testuser\",\"date_joined\":\"2025-02-07 15:20:33\",\"is_active\":true}\n"
     ]
    }
   ],
   "source": [
    "# Example usage\n",
    "try:\n",
    "    user = User(\n",
    "        id=1,\n",
    "        username=\"testuser\",\n",
    "        email=\"user@example.com\",\n",
    "    )\n",
    "    print(\"User created successfully!\")\n",
    "    print(\"Serialized user:\", user.model_dump_json())\n",
    "except ValueError as e:\n",
    "    print(\"Validation error:\", e)"
   ]
  },
  {
   "cell_type": "markdown",
   "metadata": {},
   "source": [
    "## Strict mode and data coercion"
   ]
  },
  {
   "cell_type": "markdown",
   "metadata": {},
   "source": [
    "By default, Pydantic is tolerant to common incorrect types and coerces data to the right type — e.g. a numeric string passed to an int field will be parsed as an int.\n",
    "\n",
    "Pydantic also has as strict mode, where types are not coerced and a validation error is raised unless the input data exactly matches the expected schema.\n",
    "\n",
    "But strict mode would be pretty useless when validating JSON data since JSON doesn't have types matching many common Python types like datetime, UUID or bytes.\n",
    "\n",
    "To solve this, Pydantic can parse and validate JSON in one step. This allows sensible data conversion (e.g. when parsing strings into datetime objects)."
   ]
  },
  {
   "cell_type": "code",
   "execution_count": 97,
   "metadata": {},
   "outputs": [],
   "source": [
    "class Meeting(BaseModel):\n",
    "    when: datetime\n",
    "    where: bytes"
   ]
  },
  {
   "cell_type": "code",
   "execution_count": 98,
   "metadata": {},
   "outputs": [
    {
     "data": {
      "text/plain": [
       "Meeting(when=datetime.datetime(2020, 1, 1, 12, 0), where=b'home')"
      ]
     },
     "execution_count": 98,
     "metadata": {},
     "output_type": "execute_result"
    }
   ],
   "source": [
    "m = Meeting.model_validate({'when': '2020-01-01T12:00', 'where': 'home'})\n",
    "\n",
    "m"
   ]
  },
  {
   "cell_type": "code",
   "execution_count": 99,
   "metadata": {},
   "outputs": [
    {
     "name": "stdout",
     "output_type": "stream",
     "text": [
      "2 validation errors for Meeting\n",
      "when\n",
      "  Input should be a valid datetime [type=datetime_type, input_value='2020-01-01T12:00', input_type=str]\n",
      "    For further information visit https://errors.pydantic.dev/2.10/v/datetime_type\n",
      "where\n",
      "  Input should be a valid bytes [type=bytes_type, input_value='home', input_type=str]\n",
      "    For further information visit https://errors.pydantic.dev/2.10/v/bytes_type\n"
     ]
    }
   ],
   "source": [
    "try:\n",
    "    m = Meeting.model_validate(\n",
    "        {'when': '2020-01-01T12:00', 'where': 'home'}, strict=True\n",
    "    )\n",
    "except ValidationError as e:\n",
    "    print(e)"
   ]
  },
  {
   "cell_type": "code",
   "execution_count": 100,
   "metadata": {},
   "outputs": [
    {
     "data": {
      "text/plain": [
       "Meeting(when=datetime.datetime(2020, 1, 1, 12, 0), where=b'home')"
      ]
     },
     "execution_count": 100,
     "metadata": {},
     "output_type": "execute_result"
    }
   ],
   "source": [
    "m_json = Meeting.model_validate_json(\n",
    "    '{\"when\": \"2020-01-01T12:00\", \"where\": \"home\"}'\n",
    ")\n",
    "\n",
    "m_json"
   ]
  },
  {
   "cell_type": "markdown",
   "metadata": {},
   "source": [
    "`model_validate()`\n",
    "\n",
    "Purpose: Validate and parse data (usually untrusted or externally sourced) into a Pydantic model.\n",
    "\n",
    "Behavior: Takes a dictionary as input and validates it according to the model’s schema.\n",
    "\n",
    "Common Use Case: When data comes from external sources (e.g., APIs, JSON payloads, or user input) and you want to ensure it adheres to the model's rules."
   ]
  },
  {
   "cell_type": "code",
   "execution_count": 101,
   "metadata": {},
   "outputs": [],
   "source": [
    "class User(BaseModel):\n",
    "    id: int\n",
    "    username: str\n",
    "    email: str\n",
    "    password: str\n",
    "    dob: datetime|None = None"
   ]
  },
  {
   "cell_type": "code",
   "execution_count": 102,
   "metadata": {},
   "outputs": [
    {
     "data": {
      "text/plain": [
       "User(id=1, username='freethrow', email='email@gmail.com', password='somesecret', dob=None)"
      ]
     },
     "execution_count": 102,
     "metadata": {},
     "output_type": "execute_result"
    }
   ],
   "source": [
    "data = {\n",
    "    \"id\": 1,\n",
    "    \"username\": \"freethrow\",\n",
    "    \"email\": \"email@gmail.com\",\n",
    "    \"password\": \"somesecret\",  # Suppose this came from an API payload\n",
    "}\n",
    "user = User.model_validate(data)\n",
    "user"
   ]
  },
  {
   "cell_type": "code",
   "execution_count": 103,
   "metadata": {},
   "outputs": [
    {
     "name": "stdout",
     "output_type": "stream",
     "text": [
      "1 validation error for User\n",
      "id\n",
      "  Input should be a valid integer, unable to parse string as an integer [type=int_parsing, input_value='one', input_type=str]\n",
      "    For further information visit https://errors.pydantic.dev/2.10/v/int_parsing\n"
     ]
    }
   ],
   "source": [
    "data = {\n",
    "    \"id\": \"one\",\n",
    "    \"username\": \"freethrow\",\n",
    "    \"email\": \"email@gmail.com\",\n",
    "    \"password\": \"somesecret\",\n",
    "}\n",
    "\n",
    "try:\n",
    "    user = User.model_validate(data)\n",
    "except Exception as e:\n",
    "    print(e)"
   ]
  },
  {
   "cell_type": "markdown",
   "metadata": {},
   "source": [
    "`model_validate_json()` accepts a JSON string (useful when working with APIs)\n",
    "* you could use this instead of `model_validate(json.loads(...))`, since it should be faster"
   ]
  },
  {
   "cell_type": "code",
   "execution_count": 104,
   "metadata": {},
   "outputs": [
    {
     "data": {
      "text/plain": [
       "User(id=1, username='freethrow', email='email@gmail.com', password='somesecret', dob=datetime.datetime(1975, 5, 13, 0, 0))"
      ]
     },
     "execution_count": 104,
     "metadata": {},
     "output_type": "execute_result"
    }
   ],
   "source": [
    "import json\n",
    "\n",
    "# Example JSON data\n",
    "json_data = '''\n",
    "{\n",
    "    \"id\": 1,\n",
    "    \"username\": \"freethrow\",\n",
    "    \"email\": \"email@gmail.com\",\n",
    "    \"password\": \"somesecret\",\n",
    "    \"dob\": \"1975-05-13T00:00:00\"\n",
    "}\n",
    "'''\n",
    "\n",
    "# Use model_validate_json to validate and parse the JSON string\n",
    "user = User.model_validate_json(json_data)\n",
    "\n",
    "user"
   ]
  },
  {
   "cell_type": "markdown",
   "metadata": {},
   "source": [
    "## Other ways of creating schemas"
   ]
  },
  {
   "cell_type": "markdown",
   "metadata": {},
   "source": [
    "Pydantic provides four ways to create schemas and perform validation and serialization:\n",
    "\n",
    "* BaseModel — Pydantic's own super class with many common utilities available via instance methods.\n",
    "* Pydantic dataclasses — a wrapper around standard dataclasses with additional validation performed.\n",
    "* TypeAdapter — a general way to adapt any type for validation and serialization. This allows types like TypedDict and NamedTuple to be validated as well as simple types (like int or timedelta) — all types supported can be used with TypeAdapter.\n",
    "* validate_call — a decorator to perform validation when calling a function."
   ]
  },
  {
   "cell_type": "code",
   "execution_count": 105,
   "metadata": {},
   "outputs": [],
   "source": [
    "# Example - schema based on a TypedDict\n",
    "\n",
    "from typing_extensions import NotRequired, TypedDict\n",
    "\n",
    "class Meeting(TypedDict):\n",
    "    when: datetime\n",
    "    where: bytes\n",
    "    why: NotRequired[str]"
   ]
  },
  {
   "cell_type": "code",
   "execution_count": 106,
   "metadata": {},
   "outputs": [
    {
     "data": {
      "text/plain": [
       "{'when': datetime.datetime(2020, 1, 1, 12, 0), 'where': b'home'}"
      ]
     },
     "execution_count": 106,
     "metadata": {},
     "output_type": "execute_result"
    }
   ],
   "source": [
    "from pydantic import TypeAdapter\n",
    "\n",
    "meeting_adapter = TypeAdapter(Meeting)\n",
    "m = meeting_adapter.validate_python(  \n",
    "    {'when': '2020-01-01T12:00', 'where': 'home'}\n",
    ")\n",
    "\n",
    "m"
   ]
  },
  {
   "cell_type": "code",
   "execution_count": 107,
   "metadata": {},
   "outputs": [
    {
     "name": "stdout",
     "output_type": "stream",
     "text": [
      "{'properties': {'when': {'format': 'date-time', 'title': 'When', 'type': 'string'}, 'where': {'format': 'binary', 'title': 'Where', 'type': 'string'}, 'why': {'title': 'Why', 'type': 'string'}}, 'required': ['when', 'where'], 'title': 'Meeting', 'type': 'object'}\n"
     ]
    }
   ],
   "source": [
    "meeting_adapter.dump_python(m, exclude={'where'})  \n",
    "\n",
    "print(meeting_adapter.json_schema())"
   ]
  },
  {
   "cell_type": "markdown",
   "metadata": {},
   "source": [
    "## pydantic Settings"
   ]
  },
  {
   "cell_type": "markdown",
   "metadata": {},
   "source": [
    "```shell\n",
    "pipenv install pydantic-settings\n",
    "```"
   ]
  },
  {
   "cell_type": "code",
   "execution_count": 108,
   "metadata": {},
   "outputs": [],
   "source": [
    "# from pydantic import BaseSettings # this was moved to pydantic-settings\n",
    "from pydantic_settings import BaseSettings\n",
    "\n",
    "class Settings(BaseSettings):\n",
    "    api_url: str = Field(default=\"\")\n",
    "    secret_key: str = Field(default=\"\")\n",
    "    \n",
    "    class Config:\n",
    "        env_file = \".env\""
   ]
  },
  {
   "cell_type": "code",
   "execution_count": 109,
   "metadata": {},
   "outputs": [
    {
     "name": "stdout",
     "output_type": "stream",
     "text": [
      "{'api_url': 'https://api.com/v2', 'secret_key': 's3cretstr1n6'}\n"
     ]
    }
   ],
   "source": [
    "print(Settings().model_dump())"
   ]
  },
  {
   "cell_type": "markdown",
   "metadata": {},
   "source": [
    "But, if you set an environment variable, it will take precedence over the .env file"
   ]
  },
  {
   "cell_type": "code",
   "execution_count": 110,
   "metadata": {},
   "outputs": [
    {
     "name": "stdout",
     "output_type": "stream",
     "text": [
      "{'api_url': 'http://localhost:8000', 'secret_key': 's3cretstr1n6'}\n"
     ]
    }
   ],
   "source": [
    "# eg\n",
    "import os\n",
    "os.environ[\"API_URL\"] = 'http://localhost:8000'\n",
    "\n",
    "print(Settings().model_dump())"
   ]
  },
  {
   "cell_type": "markdown",
   "metadata": {},
   "source": [
    "import BaseSettings\n",
    "class Settings(BaseSettings):\n",
    "api_url: str = Field(default=\"\")\n",
    "secret_key: str = Field(default=\"\")\n",
    "class Config:\n",
    "env_file = \".env\"\n",
    "print(Settings().model_dump())"
   ]
  }
 ],
 "metadata": {
  "kernelspec": {
   "display_name": "3_0_-_pydantic-g-318Jar",
   "language": "python",
   "name": "python3"
  },
  "language_info": {
   "codemirror_mode": {
    "name": "ipython",
    "version": 3
   },
   "file_extension": ".py",
   "mimetype": "text/x-python",
   "name": "python",
   "nbconvert_exporter": "python",
   "pygments_lexer": "ipython3",
   "version": "3.10.16"
  }
 },
 "nbformat": 4,
 "nbformat_minor": 2
}
