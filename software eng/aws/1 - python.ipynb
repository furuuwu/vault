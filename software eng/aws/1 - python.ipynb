{
 "cells": [
  {
   "cell_type": "markdown",
   "metadata": {},
   "source": [
    "Python\n",
    "\n",
    "* a general-purpose, dynamically typed programming language\n",
    "* can used for scripting, object-oriented, procedural, or functional programming\n",
    "* built on top of C"
   ]
  },
  {
   "cell_type": "markdown",
   "metadata": {},
   "source": [
    "some data structures"
   ]
  },
  {
   "cell_type": "markdown",
   "metadata": {},
   "source": [
    "* **List**: This is like a one-dimensional dynamic array but can hold heterogeneous or homogeneous\n",
    "elements separated by commas. Python lists are mutable and ordered. Like arrays, the index\n",
    "of the first item is 0. The index of the last item in a list starts from -1 and counts arguments\n",
    "toward the beginning in descending order. Lists are represented by []. An index can be used\n",
    "to get a value from a list."
   ]
  },
  {
   "cell_type": "code",
   "execution_count": 1,
   "metadata": {},
   "outputs": [
    {
     "name": "stdout",
     "output_type": "stream",
     "text": [
      "1\n",
      "another\n",
      "[3, 4]\n",
      "['another', 'list', 'a']\n",
      "[1, 'another', 'list', 'a']\n",
      "['a', [3, 4]]\n"
     ]
    }
   ],
   "source": [
    "sample_list = [1, \"another\", \"list\", \"a\", [3,4]]\n",
    "print(sample_list[0]) # 1\n",
    "print(sample_list[1]) # \"another\",\n",
    "print(sample_list[-1]) # [3,4]]\n",
    "print(sample_list[1:4])# [\"another\", \"list\", \"a\"]\n",
    "print(sample_list[:4])# [1, \"another\", \"list\", \"a\"]\n",
    "print(sample_list[3:])# [\"a\",[3,4]]]"
   ]
  },
  {
   "cell_type": "markdown",
   "metadata": {},
   "source": [
    "* **Dictionary**: Dictionaries are like HashMaps in Python. Dictionaries are represented by\n",
    "key-value comma-separated pairs inside curly braces. Dictionary keys are unique and can be\n",
    "of any Python immutable data type except for a few. The main purpose of a dictionary is to\n",
    "store a value with some key and return the value for that key when needed. "
   ]
  },
  {
   "cell_type": "code",
   "execution_count": 2,
   "metadata": {},
   "outputs": [
    {
     "name": "stdout",
     "output_type": "stream",
     "text": [
      "23\n",
      "3\n"
     ]
    }
   ],
   "source": [
    "sample_dict = {\"Key1\": \"Value1\", 2: 3, \"Age\": 23}\n",
    "print(sample_dict[\"Age\"]) # 23\n",
    "print(sample_dict[2]) # 3"
   ]
  },
  {
   "cell_type": "markdown",
   "metadata": {},
   "source": [
    "* **Tuple**: Tuples are an ordered collection of elements. Like lists, they can hold both heterogeneous\n",
    "and homogenous data. The only major difference between a tuple and a list is that tuples are\n",
    "immutable while lists aren’t. \n",
    "Tuples are represented by parentheses or round brackets:"
   ]
  },
  {
   "cell_type": "code",
   "execution_count": 3,
   "metadata": {},
   "outputs": [
    {
     "name": "stdout",
     "output_type": "stream",
     "text": [
      "1\n"
     ]
    }
   ],
   "source": [
    "sample_tuple = (1,\"2\",\"brij\")\n",
    "print(sample_tuple [0]) # 1"
   ]
  },
  {
   "cell_type": "markdown",
   "metadata": {},
   "source": [
    "* **Sets**: Python sets are collections of items that are unordered, changeable, and do not allow\n",
    "duplicate values. It is useful to use sets when you need to store a collection of elements, but do\n",
    "not care about order or duplicates.\n",
    "Like dictionaries, sets are represented by curly braces"
   ]
  },
  {
   "cell_type": "code",
   "execution_count": 4,
   "metadata": {},
   "outputs": [
    {
     "name": "stdout",
     "output_type": "stream",
     "text": [
      "{9, 4, 5}\n",
      "{4, 5}\n"
     ]
    }
   ],
   "source": [
    "sample_set = {5,9}\n",
    "sample_set.add(4)\n",
    "print(sample_set) # {5,9,4}\n",
    "sample_set.remove(9)\n",
    "print(sample_set) # {5, 4}"
   ]
  },
  {
   "cell_type": "markdown",
   "metadata": {},
   "source": [
    "conditional statements (conditions) if `if...else`"
   ]
  },
  {
   "cell_type": "code",
   "execution_count": 5,
   "metadata": {},
   "outputs": [
    {
     "name": "stdout",
     "output_type": "stream",
     "text": [
      "Number 9.00 is odd\n",
      "Number 9 is divisible by 3\n"
     ]
    }
   ],
   "source": [
    "'''In this program,\n",
    "we check if a number is divisible by 3 and\n",
    "display an appropriate message'''\n",
    "\n",
    "num = 9\n",
    "if num == 0:\n",
    "    print(\"This is a Zero\")\n",
    "if num%2 == 0:\n",
    "    print(f\"Number {num} is even\")\n",
    "else:\n",
    "    print(f\"Number {num:.2f} is odd\")\n",
    "if num%3 == 0:\n",
    "    print(\"Number {} is divisible by 3\".format(num))\n",
    "else:\n",
    "    print(\"Number %d is not divisible by 3\" % num)\n"
   ]
  },
  {
   "cell_type": "markdown",
   "metadata": {},
   "source": [
    "Looping with `for` loops"
   ]
  },
  {
   "cell_type": "code",
   "execution_count": 6,
   "metadata": {},
   "outputs": [
    {
     "name": "stdout",
     "output_type": "stream",
     "text": [
      "The Even number list is  [4, 8, 8, 6, 14]\n"
     ]
    }
   ],
   "source": [
    "# Program to return a list of even number from a given list\n",
    "\n",
    "# Given list\n",
    "numbers = [7,4,3,5,8,9,8,6,14]\n",
    "\n",
    "# Declare an empty list\n",
    "even_numbers = [] # iterate over the list\n",
    "for num in numbers:\n",
    "    # Add the even numbers to even_numbers list\n",
    "    if num%2 == 0:\n",
    "        even_numbers.append(num)\n",
    "\n",
    "print(\"The Even number list is \", even_numbers)"
   ]
  },
  {
   "cell_type": "markdown",
   "metadata": {},
   "source": [
    "Looping with `while` loops"
   ]
  },
  {
   "cell_type": "code",
   "execution_count": 7,
   "metadata": {},
   "outputs": [
    {
     "name": "stdout",
     "output_type": "stream",
     "text": [
      "The current number is : 0\n",
      "The current number is : 1\n",
      "The current number is : 2\n",
      "The current number is : 3\n",
      "The current number is : 4\n",
      "The current number is : 5\n",
      "The current number is : 6\n",
      "The current number is : 7\n",
      "The current number is : 8\n",
      "The current number is : 9\n",
      "The current number is : 10\n",
      "While loop terminates here.\n"
     ]
    }
   ],
   "source": [
    "count = 0\n",
    "while (count < 11):\n",
    "    print ('The current number is :', count)\n",
    "    count = count + 1\n",
    "print('While loop terminates here.')"
   ]
  },
  {
   "cell_type": "markdown",
   "metadata": {},
   "source": [
    "Python functions\n",
    "\n",
    "* A function is a reusable block of code that can be used to execute certain tasks. You give a function a name,\n",
    "and then use that name to call the function whenever you need to perform that task.\n",
    "* Functions can also accept input (arguments) and can return a result (return values)\n",
    "* A Python function starts with the `def` keyword."
   ]
  },
  {
   "cell_type": "code",
   "execution_count": 8,
   "metadata": {},
   "outputs": [],
   "source": [
    "def div_of_numbers(num1, num2):\n",
    "    \"\"\"This function returns the division of num1 by num2\"\"\"\n",
    "    # This function takes two parameters namely num1 and num2.\n",
    "    if num2==0:\n",
    "        #Below is a return statement.\n",
    "        return 'num2 is zero.'\n",
    "    else:\n",
    "        #Below is another return statement.\n",
    "        return num1/num2"
   ]
  },
  {
   "cell_type": "code",
   "execution_count": 9,
   "metadata": {},
   "outputs": [
    {
     "name": "stdout",
     "output_type": "stream",
     "text": [
      "num2 is zero.\n",
      "2.0\n"
     ]
    }
   ],
   "source": [
    "# This is how a python function is called.\n",
    "print(div_of_numbers(8,0))\n",
    "print(div_of_numbers(8,4))"
   ]
  },
  {
   "cell_type": "markdown",
   "metadata": {},
   "source": [
    "Object-oriented programming"
   ]
  },
  {
   "cell_type": "markdown",
   "metadata": {},
   "source": [
    "* **Class**: A class is the blueprint of objects. Python uses the Class keyword to create a class\n",
    "\n",
    "    We can pass parameters while creating an instance of the class. These parameters are collected in an initializer method known as `__init__`. This method is called as soon as the object is created.\n",
    "    \n",
    "    We can also write functions inside a class. A function inside a class is known as a method.\n",
    "    A method can be called using a dot operator on the instance of the class. The first parameter is `self`. We can use any names other than self but it is discouraged as it will impair the readability of the code."
   ]
  },
  {
   "cell_type": "code",
   "execution_count": 10,
   "metadata": {},
   "outputs": [],
   "source": [
    "class DataPipeline():\n",
    "    first_tool = \"AirFlow\""
   ]
  },
  {
   "cell_type": "code",
   "execution_count": 11,
   "metadata": {},
   "outputs": [],
   "source": [
    "# The following is how we can create an instance (or object) of this class\n",
    "datapipeline = DataPipeline()"
   ]
  },
  {
   "cell_type": "markdown",
   "metadata": {},
   "source": [
    "* **Inheritance**: we can create a new class that inherits the data and methods of an\n",
    "existing class without having to modify the original class in any way. This means that we can\n",
    "create a new class that has all the same features as the original class but with the added ability to\n",
    "modify or extend the inherited data and methods to fit the needs of the new class"
   ]
  },
  {
   "cell_type": "code",
   "execution_count": 12,
   "metadata": {},
   "outputs": [],
   "source": [
    "# parent class\n",
    "class DataPipelineBook:\n",
    "    def __init__(self):\n",
    "        print(\"This book is very hot in market\")\n",
    "        self.pages =300\n",
    "\n",
    "    def what_is_this(self):\n",
    "        print(\"Book\")\n",
    "        \n",
    "    def pages(self):\n",
    "        return self.pages"
   ]
  },
  {
   "cell_type": "markdown",
   "metadata": {},
   "source": [
    "To use this class, you would need to create an object from it and then call its methods. The next\n",
    "step is to create a child class. The child class has a constructor method that calls the `super()` function to initialize the parent class."
   ]
  },
  {
   "cell_type": "code",
   "execution_count": 13,
   "metadata": {},
   "outputs": [],
   "source": [
    "# child class\n",
    "class PythonDataPipelineBook(DataPipelineBook):\n",
    "    def __init__(self):\n",
    "        # call super() function\n",
    "        super().__init__()\n",
    "        print(\"Create Data Pipeline with Python\")\n",
    "        \n",
    "    def what_technology_is_used(self):\n",
    "        return \"Python\""
   ]
  },
  {
   "cell_type": "code",
   "execution_count": 14,
   "metadata": {},
   "outputs": [
    {
     "name": "stdout",
     "output_type": "stream",
     "text": [
      "This book is very hot in market\n",
      "Create Data Pipeline with Python\n",
      "Book\n"
     ]
    },
    {
     "data": {
      "text/plain": [
       "'Python'"
      ]
     },
     "execution_count": 14,
     "metadata": {},
     "output_type": "execute_result"
    }
   ],
   "source": [
    "pipeline = PythonDataPipelineBook()\n",
    "pipeline.what_is_this()\n",
    "pipeline.what_technology_is_used()"
   ]
  },
  {
   "cell_type": "markdown",
   "metadata": {},
   "source": [
    "Working with files"
   ]
  },
  {
   "cell_type": "markdown",
   "metadata": {},
   "source": [
    "* **Open**: To read or write to a file, you first need to open it. You can open it for reading, writing, appeding, ..."
   ]
  },
  {
   "cell_type": "code",
   "execution_count": 15,
   "metadata": {},
   "outputs": [],
   "source": [
    "# Open for reading (the default)\n",
    "f = open(file=\"message.txt\", mode=\"r\")"
   ]
  },
  {
   "cell_type": "code",
   "execution_count": 16,
   "metadata": {},
   "outputs": [
    {
     "data": {
      "text/plain": [
       "['If you are reading this, you may be alive.']"
      ]
     },
     "execution_count": 16,
     "metadata": {},
     "output_type": "execute_result"
    }
   ],
   "source": [
    "f.readlines()"
   ]
  },
  {
   "cell_type": "markdown",
   "metadata": {},
   "source": [
    "|Character|Meaning|\n",
    "|---|---|\n",
    "|'r'|open for reading (default)|\n",
    "|'w'|open for writing, truncating the file first|\n",
    "|'x'|create a new file and open it for writing|\n",
    "|'a'|open for writing, appending to the end of the file if it exists|\n",
    "|'b'|binary mode|\n",
    "|'t'|text mode (default)|\n",
    "|'+'|open a disk file for updating (reading and writing)|"
   ]
  },
  {
   "cell_type": "markdown",
   "metadata": {},
   "source": [
    "* **Close**: it’s important to close it once you’re finished with it It’s easy to do – just use the f.close() function."
   ]
  },
  {
   "cell_type": "code",
   "execution_count": 17,
   "metadata": {},
   "outputs": [],
   "source": [
    "f.close()"
   ]
  },
  {
   "cell_type": "code",
   "execution_count": 18,
   "metadata": {},
   "outputs": [],
   "source": [
    "# open for writing\n",
    "f = open(\"test_file.txt\", \"w\")"
   ]
  },
  {
   "cell_type": "code",
   "execution_count": 19,
   "metadata": {},
   "outputs": [
    {
     "data": {
      "text/plain": [
       "17"
      ]
     },
     "execution_count": 19,
     "metadata": {},
     "output_type": "execute_result"
    }
   ],
   "source": [
    "f.write(\"This is test data\")"
   ]
  },
  {
   "cell_type": "code",
   "execution_count": 20,
   "metadata": {},
   "outputs": [],
   "source": [
    "# f.read()\n",
    "# f.readlines()\n",
    "# UnsupportedOperation: not readable"
   ]
  },
  {
   "cell_type": "code",
   "execution_count": 21,
   "metadata": {},
   "outputs": [],
   "source": [
    "f.close()"
   ]
  },
  {
   "cell_type": "markdown",
   "metadata": {},
   "source": [
    "* use a context manager\n",
    "\n",
    "    if you open it in a context manager, it will be automatically closed"
   ]
  },
  {
   "cell_type": "code",
   "execution_count": 22,
   "metadata": {},
   "outputs": [],
   "source": [
    "with open(\"test_file.txt\", \"w\") as f:\n",
    "    f.write(\"This is test data\")"
   ]
  }
 ],
 "metadata": {
  "kernelspec": {
   "display_name": "aws-DLmBe1Fh",
   "language": "python",
   "name": "python3"
  },
  "language_info": {
   "codemirror_mode": {
    "name": "ipython",
    "version": 3
   },
   "file_extension": ".py",
   "mimetype": "text/x-python",
   "name": "python",
   "nbconvert_exporter": "python",
   "pygments_lexer": "ipython3",
   "version": "3.10.16"
  }
 },
 "nbformat": 4,
 "nbformat_minor": 2
}
