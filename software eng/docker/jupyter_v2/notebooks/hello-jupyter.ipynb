{
 "cells": [
  {
   "cell_type": "code",
   "execution_count": 1,
   "id": "d6b4b1d0-310f-4517-8531-6e4b7d8797c4",
   "metadata": {},
   "outputs": [
    {
     "name": "stdout",
     "output_type": "stream",
     "text": [
      "Hellow\n"
     ]
    }
   ],
   "source": [
    "print(\"Hellow\")"
   ]
  },
  {
   "cell_type": "code",
   "execution_count": 2,
   "id": "63cf81f8-81db-40ce-b109-75d0fe086b5c",
   "metadata": {},
   "outputs": [
    {
     "name": "stdout",
     "output_type": "stream",
     "text": [
      "Everything is better inside a jupyter notebook\n"
     ]
    }
   ],
   "source": [
    "print(\"Everything is better inside a jupyter notebook\")"
   ]
  },
  {
   "cell_type": "code",
   "execution_count": 3,
   "id": "34bbfe7f-4438-4e85-b0c7-cc0ca252e1a1",
   "metadata": {},
   "outputs": [
    {
     "name": "stdout",
     "output_type": "stream",
     "text": [
      "True, i have no idea what is happening but still, there is no ugliness in this world\n",
      "For what the eyes don't see the heart doesn't feel.\n"
     ]
    }
   ],
   "source": [
    "print(\"True, i have no idea what is happening but still, there is no ugliness in this world\")\n",
    "print(\"For what the eyes don't see the heart doesn't feel.\")"
   ]
  },
  {
   "cell_type": "code",
   "execution_count": null,
   "id": "e6fe3567-6cc3-4004-83eb-694374b1be58",
   "metadata": {},
   "outputs": [],
   "source": []
  }
 ],
 "metadata": {
  "kernelspec": {
   "display_name": "Python 3 (ipykernel)",
   "language": "python",
   "name": "python3"
  },
  "language_info": {
   "codemirror_mode": {
    "name": "ipython",
    "version": 3
   },
   "file_extension": ".py",
   "mimetype": "text/x-python",
   "name": "python",
   "nbconvert_exporter": "python",
   "pygments_lexer": "ipython3",
   "version": "3.10.15"
  }
 },
 "nbformat": 4,
 "nbformat_minor": 5
}
