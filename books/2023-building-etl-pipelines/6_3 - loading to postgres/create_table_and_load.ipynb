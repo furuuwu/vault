{
 "cells": [
  {
   "cell_type": "code",
   "execution_count": 1,
   "metadata": {},
   "outputs": [],
   "source": [
    "import psycopg2\n",
    "import json"
   ]
  },
  {
   "cell_type": "code",
   "execution_count": 2,
   "metadata": {},
   "outputs": [],
   "source": [
    "# Database connection details\n",
    "DB_NAME = \"chicago_dmv\"\n",
    "DB_USER = \"myuser\"\n",
    "DB_PASSWORD = \"mypassword\"\n",
    "DB_HOST = \"localhost\"  # Since it's running in Docker\n",
    "DB_PORT = \"5432\""
   ]
  },
  {
   "cell_type": "code",
   "execution_count": 3,
   "metadata": {},
   "outputs": [],
   "source": [
    "# SQL statement to create the table\n",
    "CREATE_TABLE_SQL = \"\"\"\n",
    "CREATE TABLE IF NOT EXISTS my_table (\n",
    "    primaryID SERIAL PRIMARY KEY,\n",
    "    num_column BIGINT DEFAULT 6749380428,\n",
    "    string_column CHAR(255) DEFAULT 'this is a string',\n",
    "    json_column JSON DEFAULT '{\"key\": 1}'\n",
    ");\n",
    "\"\"\""
   ]
  },
  {
   "cell_type": "code",
   "execution_count": 4,
   "metadata": {},
   "outputs": [],
   "source": [
    "# Sample data to insert\n",
    "SAMPLE_DATA = [\n",
    "    (None, None, None),  # Uses default values\n",
    "    (1234567890, 'Custom String', json.dumps({\"key\": 42, \"name\": \"sample\"})),\n",
    "    (9876543210, 'Another String', json.dumps({\"flag\": True, \"value\": 99}))\n",
    "]"
   ]
  },
  {
   "cell_type": "code",
   "execution_count": 5,
   "metadata": {},
   "outputs": [],
   "source": [
    "# SQL statement to insert data\n",
    "INSERT_SQL = \"\"\"\n",
    "INSERT INTO my_table (num_column, string_column, json_column)\n",
    "VALUES (%s, %s, %s);\n",
    "\"\"\""
   ]
  },
  {
   "cell_type": "code",
   "execution_count": 6,
   "metadata": {},
   "outputs": [
    {
     "name": "stdout",
     "output_type": "stream",
     "text": [
      "Table created and sample data inserted successfully!\n"
     ]
    }
   ],
   "source": [
    "try:\n",
    "    # Connect to the PostgreSQL database\n",
    "    conn = psycopg2.connect(\n",
    "        dbname=DB_NAME, user=DB_USER, password=DB_PASSWORD, host=DB_HOST, port=DB_PORT\n",
    "    )\n",
    "    cursor = conn.cursor()\n",
    "\n",
    "    # Create table\n",
    "    cursor.execute(CREATE_TABLE_SQL)\n",
    "    conn.commit()\n",
    "\n",
    "    # Insert sample data\n",
    "    cursor.executemany(INSERT_SQL, SAMPLE_DATA)\n",
    "    conn.commit()\n",
    "\n",
    "    print(\"Table created and sample data inserted successfully!\")\n",
    "\n",
    "except Exception as e:\n",
    "    print(\"Error:\", e)\n",
    "\n",
    "finally:\n",
    "    cursor.close()\n",
    "    conn.close()"
   ]
  },
  {
   "cell_type": "code",
   "execution_count": 7,
   "metadata": {},
   "outputs": [],
   "source": [
    "def fetch_data():\n",
    "    try:\n",
    "        # Connect to PostgreSQL\n",
    "        conn = psycopg2.connect(\n",
    "            dbname=DB_NAME, user=DB_USER, password=DB_PASSWORD, host=DB_HOST, port=DB_PORT\n",
    "        )\n",
    "        cursor = conn.cursor()\n",
    "\n",
    "        # Execute SQL query\n",
    "        cursor.execute(\"SELECT * FROM my_table;\")\n",
    "        rows = cursor.fetchall()\n",
    "\n",
    "        # Print results\n",
    "        for row in rows:\n",
    "            print(row)\n",
    "\n",
    "    except Exception as e:\n",
    "        print(\"Error:\", e)\n",
    "\n",
    "    finally:\n",
    "        cursor.close()\n",
    "        conn.close()"
   ]
  },
  {
   "cell_type": "code",
   "execution_count": 8,
   "metadata": {},
   "outputs": [
    {
     "name": "stdout",
     "output_type": "stream",
     "text": [
      "(1, None, None, None)\n",
      "(2, 1234567890, 'Custom String                                                                                                                                                                                                                                                  ', {'key': 42, 'name': 'sample'})\n",
      "(3, 9876543210, 'Another String                                                                                                                                                                                                                                                 ', {'flag': True, 'value': 99})\n",
      "(4, None, None, None)\n",
      "(5, 1234567890, 'Custom String                                                                                                                                                                                                                                                  ', {'key': 42, 'name': 'sample'})\n",
      "(6, 9876543210, 'Another String                                                                                                                                                                                                                                                 ', {'flag': True, 'value': 99})\n"
     ]
    }
   ],
   "source": [
    "fetch_data()"
   ]
  }
 ],
 "metadata": {
  "kernelspec": {
   "display_name": "aws-DLmBe1Fh",
   "language": "python",
   "name": "python3"
  },
  "language_info": {
   "codemirror_mode": {
    "name": "ipython",
    "version": 3
   },
   "file_extension": ".py",
   "mimetype": "text/x-python",
   "name": "python",
   "nbconvert_exporter": "python",
   "pygments_lexer": "ipython3",
   "version": "3.10.16"
  }
 },
 "nbformat": 4,
 "nbformat_minor": 2
}
