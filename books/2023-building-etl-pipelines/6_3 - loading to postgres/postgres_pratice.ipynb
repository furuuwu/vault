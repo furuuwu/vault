{
 "cells": [
  {
   "cell_type": "code",
   "execution_count": 1,
   "metadata": {},
   "outputs": [],
   "source": [
    "import psycopg2"
   ]
  },
  {
   "cell_type": "code",
   "execution_count": 2,
   "metadata": {},
   "outputs": [],
   "source": [
    "# Database connection details\n",
    "DB_NAME = \"chicago_dmv\"\n",
    "DB_USER = \"myuser\"\n",
    "DB_PASSWORD = \"mypassword\"\n",
    "DB_HOST = \"localhost\"  # If using Docker, use \"localhost\"\n",
    "DB_PORT = \"5432\""
   ]
  },
  {
   "cell_type": "code",
   "execution_count": 9,
   "metadata": {},
   "outputs": [],
   "source": [
    "CREATE_TABLE_SQL = \"\"\"\n",
    "CREATE TABLE IF NOT EXISTS laundry_mat (\n",
    "    id SERIAL PRIMARY KEY,\n",
    "    product TEXT NOT NULL,\n",
    "    dollar_price_per_unit REAL NOT NULL,\n",
    "    quantity INTEGER NOT NULL,\n",
    "    total_cost REAL NOT NULL\n",
    ");\n",
    "\"\"\""
   ]
  },
  {
   "cell_type": "code",
   "execution_count": 10,
   "metadata": {},
   "outputs": [],
   "source": [
    "laundry_mat_data = [\n",
    "    {\"product\": \"Detergent\", \"dollar_price_per_unit\": 4.5, \"quantity\": 100, \"total_cost\": 200},\n",
    "    {\"product\": \"Dryer Sheets Box\", \"dollar_price_per_unit\": 3.5, \"quantity\": 100, \"total_cost\": 350},\n",
    "    {\"product\": \"Washing Machine\", \"dollar_price_per_unit\": 400, \"quantity\": 25, \"total_cost\": 10000},\n",
    "    {\"product\": \"Dryer\", \"dollar_price_per_unit\": 400, \"quantity\": 25, \"total_cost\": 10000},\n",
    "]"
   ]
  },
  {
   "cell_type": "code",
   "execution_count": 11,
   "metadata": {},
   "outputs": [],
   "source": [
    "# Function to create table and insert data\n",
    "def setup_database():\n",
    "    try:\n",
    "        # Connect to PostgreSQL\n",
    "        conn = psycopg2.connect(\n",
    "            dbname=DB_NAME, user=DB_USER, password=DB_PASSWORD, host=DB_HOST, port=DB_PORT\n",
    "        )\n",
    "        cursor = conn.cursor()\n",
    "\n",
    "        # Create table\n",
    "        cursor.execute(CREATE_TABLE_SQL)\n",
    "        conn.commit()\n",
    "\n",
    "        # Insert data\n",
    "        for record in laundry_mat_data:\n",
    "            cursor.execute(\n",
    "                \"INSERT INTO laundry_mat (product, dollar_price_per_unit, quantity, total_cost) VALUES (%s, %s, %s, %s)\",\n",
    "                (record[\"product\"], record[\"dollar_price_per_unit\"], record[\"quantity\"], record[\"total_cost\"]),\n",
    "            )\n",
    "\n",
    "        conn.commit()\n",
    "        print(\"Table created and data inserted successfully!\")\n",
    "\n",
    "    except Exception as e:\n",
    "        print(\"Error:\", e)\n",
    "\n",
    "    finally:\n",
    "        cursor.close()\n",
    "        conn.close()"
   ]
  },
  {
   "cell_type": "code",
   "execution_count": 12,
   "metadata": {},
   "outputs": [
    {
     "name": "stdout",
     "output_type": "stream",
     "text": [
      "Table created and data inserted successfully!\n"
     ]
    }
   ],
   "source": [
    "setup_database()"
   ]
  },
  {
   "cell_type": "markdown",
   "metadata": {},
   "source": [
    "* Query and fetch all data"
   ]
  },
  {
   "cell_type": "code",
   "execution_count": 13,
   "metadata": {},
   "outputs": [],
   "source": [
    "def fetch_all_data():\n",
    "    conn = psycopg2.connect(\n",
    "        dbname=DB_NAME, user=DB_USER, password=DB_PASSWORD, host=DB_HOST, port=DB_PORT\n",
    "    )\n",
    "    cursor = conn.cursor()\n",
    "\n",
    "    cursor.execute(\"SELECT * FROM laundry_mat\")\n",
    "    rows = cursor.fetchall()  # Fetch all rows\n",
    "\n",
    "    conn.close()\n",
    "    return rows"
   ]
  },
  {
   "cell_type": "code",
   "execution_count": 14,
   "metadata": {},
   "outputs": [
    {
     "name": "stdout",
     "output_type": "stream",
     "text": [
      "(1, 'Detergent', 4.5, 100, 200.0)\n",
      "(2, 'Dryer Sheets Box', 3.5, 100, 350.0)\n",
      "(3, 'Washing Machine', 400.0, 25, 10000.0)\n",
      "(4, 'Dryer', 400.0, 25, 10000.0)\n"
     ]
    }
   ],
   "source": [
    "data = fetch_all_data()\n",
    "for row in data:\n",
    "    print(row)"
   ]
  },
  {
   "cell_type": "markdown",
   "metadata": {},
   "source": [
    "* Query with a filter (WHERE clause)"
   ]
  },
  {
   "cell_type": "code",
   "execution_count": 15,
   "metadata": {},
   "outputs": [],
   "source": [
    "def fetch_filtered_data(product_name):\n",
    "    conn = psycopg2.connect(\n",
    "        dbname=DB_NAME, user=DB_USER, password=DB_PASSWORD, host=DB_HOST, port=DB_PORT\n",
    "    )\n",
    "    cursor = conn.cursor()\n",
    "\n",
    "    cursor.execute(\"SELECT * FROM laundry_mat WHERE product = %s\", (product_name,))\n",
    "    rows = cursor.fetchall()\n",
    "\n",
    "    conn.close()\n",
    "    return rows"
   ]
  },
  {
   "cell_type": "code",
   "execution_count": 16,
   "metadata": {},
   "outputs": [
    {
     "name": "stdout",
     "output_type": "stream",
     "text": [
      "(1, 'Detergent', 4.5, 100, 200.0)\n"
     ]
    }
   ],
   "source": [
    "filtered_data = fetch_filtered_data(\"Detergent\")\n",
    "for row in filtered_data:\n",
    "    print(row)"
   ]
  },
  {
   "cell_type": "markdown",
   "metadata": {},
   "source": [
    "* Query specific columns"
   ]
  },
  {
   "cell_type": "code",
   "execution_count": 17,
   "metadata": {},
   "outputs": [],
   "source": [
    "def fetch_selected_columns():\n",
    "    conn = psycopg2.connect(\n",
    "        dbname=DB_NAME, user=DB_USER, password=DB_PASSWORD, host=DB_HOST, port=DB_PORT\n",
    "    )\n",
    "    cursor = conn.cursor()\n",
    "\n",
    "    cursor.execute(\"SELECT product, total_cost FROM laundry_mat\")\n",
    "    rows = cursor.fetchall()\n",
    "\n",
    "    conn.close()\n",
    "    return rows"
   ]
  },
  {
   "cell_type": "code",
   "execution_count": 18,
   "metadata": {},
   "outputs": [
    {
     "name": "stdout",
     "output_type": "stream",
     "text": [
      "('Detergent', 200.0)\n",
      "('Dryer Sheets Box', 350.0)\n",
      "('Washing Machine', 10000.0)\n",
      "('Dryer', 10000.0)\n"
     ]
    }
   ],
   "source": [
    "selected_data = fetch_selected_columns()\n",
    "for row in selected_data:\n",
    "    print(row)"
   ]
  },
  {
   "cell_type": "markdown",
   "metadata": {},
   "source": [
    "* Query with sorting (ORDER BY)"
   ]
  },
  {
   "cell_type": "code",
   "execution_count": 19,
   "metadata": {},
   "outputs": [],
   "source": [
    "def fetch_sorted_data():\n",
    "    conn = psycopg2.connect(\n",
    "        dbname=DB_NAME, user=DB_USER, password=DB_PASSWORD, host=DB_HOST, port=DB_PORT\n",
    "    )\n",
    "    cursor = conn.cursor()\n",
    "\n",
    "    cursor.execute(\"SELECT * FROM laundry_mat ORDER BY total_cost DESC\")\n",
    "    rows = cursor.fetchall()\n",
    "\n",
    "    conn.close()\n",
    "    return rows"
   ]
  },
  {
   "cell_type": "code",
   "execution_count": 20,
   "metadata": {},
   "outputs": [
    {
     "name": "stdout",
     "output_type": "stream",
     "text": [
      "(3, 'Washing Machine', 400.0, 25, 10000.0)\n",
      "(4, 'Dryer', 400.0, 25, 10000.0)\n",
      "(2, 'Dryer Sheets Box', 3.5, 100, 350.0)\n",
      "(1, 'Detergent', 4.5, 100, 200.0)\n"
     ]
    }
   ],
   "source": [
    "sorted_data = fetch_sorted_data()\n",
    "for row in sorted_data:\n",
    "    print(row)"
   ]
  },
  {
   "cell_type": "markdown",
   "metadata": {},
   "source": [
    "* Query with a limit (LIMIT)"
   ]
  },
  {
   "cell_type": "code",
   "execution_count": 21,
   "metadata": {},
   "outputs": [],
   "source": [
    "def fetch_limited_data(limit):\n",
    "    conn = psycopg2.connect(\n",
    "        dbname=DB_NAME, user=DB_USER, password=DB_PASSWORD, host=DB_HOST, port=DB_PORT\n",
    "    )\n",
    "    cursor = conn.cursor()\n",
    "\n",
    "    cursor.execute(\"SELECT * FROM laundry_mat LIMIT %s\", (limit,))\n",
    "    rows = cursor.fetchall()\n",
    "\n",
    "    conn.close()\n",
    "    return rows"
   ]
  },
  {
   "cell_type": "code",
   "execution_count": 22,
   "metadata": {},
   "outputs": [
    {
     "name": "stdout",
     "output_type": "stream",
     "text": [
      "(1, 'Detergent', 4.5, 100, 200.0)\n",
      "(2, 'Dryer Sheets Box', 3.5, 100, 350.0)\n"
     ]
    }
   ],
   "source": [
    "limited_data = fetch_limited_data(2)  # Fetch only 2 rows\n",
    "for row in limited_data:\n",
    "    print(row)"
   ]
  },
  {
   "cell_type": "markdown",
   "metadata": {},
   "source": [
    "* Query aggregate functions (SUM, COUNT, AVG)"
   ]
  },
  {
   "cell_type": "code",
   "execution_count": 23,
   "metadata": {},
   "outputs": [],
   "source": [
    "def fetch_total_cost():\n",
    "    conn = psycopg2.connect(\n",
    "        dbname=DB_NAME, user=DB_USER, password=DB_PASSWORD, host=DB_HOST, port=DB_PORT\n",
    "    )\n",
    "    cursor = conn.cursor()\n",
    "\n",
    "    cursor.execute(\"SELECT SUM(total_cost) FROM laundry_mat\")\n",
    "    total = cursor.fetchone()[0]\n",
    "\n",
    "    conn.close()\n",
    "    return total"
   ]
  },
  {
   "cell_type": "code",
   "execution_count": 24,
   "metadata": {},
   "outputs": [
    {
     "name": "stdout",
     "output_type": "stream",
     "text": [
      "Total cost of all products: 20550.0\n"
     ]
    }
   ],
   "source": [
    "print(\"Total cost of all products:\", fetch_total_cost())"
   ]
  },
  {
   "cell_type": "markdown",
   "metadata": {},
   "source": [
    "* Query distinct values"
   ]
  },
  {
   "cell_type": "code",
   "execution_count": 25,
   "metadata": {},
   "outputs": [],
   "source": [
    "def fetch_unique_products():\n",
    "    conn = psycopg2.connect(\n",
    "        dbname=DB_NAME, user=DB_USER, password=DB_PASSWORD, host=DB_HOST, port=DB_PORT\n",
    "    )\n",
    "    cursor = conn.cursor()\n",
    "\n",
    "    cursor.execute(\"SELECT DISTINCT product FROM laundry_mat\")\n",
    "    rows = cursor.fetchall()\n",
    "\n",
    "    conn.close()\n",
    "    return rows"
   ]
  },
  {
   "cell_type": "code",
   "execution_count": 26,
   "metadata": {},
   "outputs": [
    {
     "name": "stdout",
     "output_type": "stream",
     "text": [
      "Unique products: [('Dryer Sheets Box',), ('Washing Machine',), ('Dryer',), ('Detergent',)]\n"
     ]
    }
   ],
   "source": [
    "unique_products = fetch_unique_products()\n",
    "print(\"Unique products:\", unique_products)"
   ]
  }
 ],
 "metadata": {
  "kernelspec": {
   "display_name": "aws-DLmBe1Fh",
   "language": "python",
   "name": "python3"
  },
  "language_info": {
   "codemirror_mode": {
    "name": "ipython",
    "version": 3
   },
   "file_extension": ".py",
   "mimetype": "text/x-python",
   "name": "python",
   "nbconvert_exporter": "python",
   "pygments_lexer": "ipython3",
   "version": "3.10.16"
  }
 },
 "nbformat": 4,
 "nbformat_minor": 2
}
