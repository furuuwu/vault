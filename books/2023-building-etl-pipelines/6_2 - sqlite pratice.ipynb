{
 "cells": [
  {
   "cell_type": "code",
   "execution_count": 1,
   "metadata": {},
   "outputs": [],
   "source": [
    "import sqlite3"
   ]
  },
  {
   "cell_type": "markdown",
   "metadata": {},
   "source": [
    "* Query and fetch all data\n",
    "\n",
    "    retrieve all records"
   ]
  },
  {
   "cell_type": "code",
   "execution_count": 2,
   "metadata": {},
   "outputs": [],
   "source": [
    "def fetch_all_data():\n",
    "    conn = sqlite3.connect(\"laundry_mat.db\")\n",
    "    cursor = conn.cursor()\n",
    "\n",
    "    cursor.execute(\"SELECT * FROM laundry_mat\")\n",
    "    rows = cursor.fetchall()  # Fetch all rows\n",
    "\n",
    "    conn.close()\n",
    "    return rows"
   ]
  },
  {
   "cell_type": "code",
   "execution_count": 3,
   "metadata": {},
   "outputs": [
    {
     "name": "stdout",
     "output_type": "stream",
     "text": [
      "(1, 'Detergent', 4.5, 100, 200.0)\n",
      "(2, 'Dryer Sheets Box', 3.5, 100, 350.0)\n",
      "(3, 'Washing Machine', 400.0, 25, 10000.0)\n",
      "(4, 'Dryer', 400.0, 25, 10000.0)\n",
      "(5, 'Detergent', 4.5, 100, 200.0)\n",
      "(6, 'Dryer Sheets Box', 3.5, 100, 350.0)\n",
      "(7, 'Washing Machine', 400.0, 25, 10000.0)\n",
      "(8, 'Dryer', 400.0, 25, 10000.0)\n"
     ]
    }
   ],
   "source": [
    "data = fetch_all_data()\n",
    "for row in data:\n",
    "    print(row)"
   ]
  },
  {
   "cell_type": "markdown",
   "metadata": {},
   "source": [
    "* Query with a filter (WHERE clause)\n",
    "\n",
    "    retrieve data based on conditions"
   ]
  },
  {
   "cell_type": "code",
   "execution_count": 4,
   "metadata": {},
   "outputs": [],
   "source": [
    "def fetch_filtered_data(product_name):\n",
    "    conn = sqlite3.connect(\"laundry_mat.db\")\n",
    "    cursor = conn.cursor()\n",
    "\n",
    "    cursor.execute(\"SELECT * FROM laundry_mat WHERE product = ?\", (product_name,))\n",
    "    rows = cursor.fetchall()\n",
    "\n",
    "    conn.close()\n",
    "    return rows"
   ]
  },
  {
   "cell_type": "code",
   "execution_count": 5,
   "metadata": {},
   "outputs": [
    {
     "name": "stdout",
     "output_type": "stream",
     "text": [
      "(1, 'Detergent', 4.5, 100, 200.0)\n",
      "(5, 'Detergent', 4.5, 100, 200.0)\n"
     ]
    }
   ],
   "source": [
    "filtered_data = fetch_filtered_data(\"Detergent\")\n",
    "for row in filtered_data:\n",
    "    print(row)"
   ]
  },
  {
   "cell_type": "markdown",
   "metadata": {},
   "source": [
    "* Query specific columns"
   ]
  },
  {
   "cell_type": "code",
   "execution_count": 6,
   "metadata": {},
   "outputs": [],
   "source": [
    "def fetch_selected_columns():\n",
    "    conn = sqlite3.connect(\"laundry_mat.db\")\n",
    "    cursor = conn.cursor()\n",
    "\n",
    "    cursor.execute(\"SELECT product, total_cost FROM laundry_mat\")\n",
    "    rows = cursor.fetchall()\n",
    "\n",
    "    conn.close()\n",
    "    return rows"
   ]
  },
  {
   "cell_type": "code",
   "execution_count": 7,
   "metadata": {},
   "outputs": [
    {
     "name": "stdout",
     "output_type": "stream",
     "text": [
      "('Detergent', 200.0)\n",
      "('Dryer Sheets Box', 350.0)\n",
      "('Washing Machine', 10000.0)\n",
      "('Dryer', 10000.0)\n",
      "('Detergent', 200.0)\n",
      "('Dryer Sheets Box', 350.0)\n",
      "('Washing Machine', 10000.0)\n",
      "('Dryer', 10000.0)\n"
     ]
    }
   ],
   "source": [
    "selected_data = fetch_selected_columns()\n",
    "for row in selected_data:\n",
    "    print(row)"
   ]
  },
  {
   "cell_type": "markdown",
   "metadata": {},
   "source": [
    "* Query with sorting (ORDER BY)"
   ]
  },
  {
   "cell_type": "code",
   "execution_count": 8,
   "metadata": {},
   "outputs": [],
   "source": [
    "def fetch_sorted_data():\n",
    "    conn = sqlite3.connect(\"laundry_mat.db\")\n",
    "    cursor = conn.cursor()\n",
    "\n",
    "    cursor.execute(\"SELECT * FROM laundry_mat ORDER BY total_cost DESC\")\n",
    "    rows = cursor.fetchall()\n",
    "\n",
    "    conn.close()\n",
    "    return rows"
   ]
  },
  {
   "cell_type": "code",
   "execution_count": 9,
   "metadata": {},
   "outputs": [
    {
     "name": "stdout",
     "output_type": "stream",
     "text": [
      "(3, 'Washing Machine', 400.0, 25, 10000.0)\n",
      "(4, 'Dryer', 400.0, 25, 10000.0)\n",
      "(7, 'Washing Machine', 400.0, 25, 10000.0)\n",
      "(8, 'Dryer', 400.0, 25, 10000.0)\n",
      "(2, 'Dryer Sheets Box', 3.5, 100, 350.0)\n",
      "(6, 'Dryer Sheets Box', 3.5, 100, 350.0)\n",
      "(1, 'Detergent', 4.5, 100, 200.0)\n",
      "(5, 'Detergent', 4.5, 100, 200.0)\n"
     ]
    }
   ],
   "source": [
    "sorted_data = fetch_sorted_data()\n",
    "for row in sorted_data:\n",
    "    print(row)"
   ]
  },
  {
   "cell_type": "markdown",
   "metadata": {},
   "source": [
    "* Query with a limit (LIMIT)\n",
    "\n",
    "    fetch a limited number of rows"
   ]
  },
  {
   "cell_type": "code",
   "execution_count": 10,
   "metadata": {},
   "outputs": [],
   "source": [
    "def fetch_limited_data(limit):\n",
    "    conn = sqlite3.connect(\"laundry_mat.db\")\n",
    "    cursor = conn.cursor()\n",
    "\n",
    "    cursor.execute(\"SELECT * FROM laundry_mat LIMIT ?\", (limit,))\n",
    "    rows = cursor.fetchall()\n",
    "\n",
    "    conn.close()\n",
    "    return rows"
   ]
  },
  {
   "cell_type": "code",
   "execution_count": 11,
   "metadata": {},
   "outputs": [
    {
     "name": "stdout",
     "output_type": "stream",
     "text": [
      "(1, 'Detergent', 4.5, 100, 200.0)\n",
      "(2, 'Dryer Sheets Box', 3.5, 100, 350.0)\n"
     ]
    }
   ],
   "source": [
    "limited_data = fetch_limited_data(2)  # Fetch only 2 rows\n",
    "for row in limited_data:\n",
    "    print(row)"
   ]
  },
  {
   "cell_type": "markdown",
   "metadata": {},
   "source": [
    "* Query aggregate functions (SUM, COUNT, AVG)"
   ]
  },
  {
   "cell_type": "code",
   "execution_count": 12,
   "metadata": {},
   "outputs": [],
   "source": [
    "def fetch_total_cost():\n",
    "    conn = sqlite3.connect(\"laundry_mat.db\")\n",
    "    cursor = conn.cursor()\n",
    "\n",
    "    cursor.execute(\"SELECT SUM(total_cost) FROM laundry_mat\")\n",
    "    total = cursor.fetchone()[0]\n",
    "\n",
    "    conn.close()\n",
    "    return total"
   ]
  },
  {
   "cell_type": "code",
   "execution_count": 13,
   "metadata": {},
   "outputs": [
    {
     "name": "stdout",
     "output_type": "stream",
     "text": [
      "Total cost of all products: 41100.0\n"
     ]
    }
   ],
   "source": [
    "print(\"Total cost of all products:\", fetch_total_cost())"
   ]
  },
  {
   "cell_type": "markdown",
   "metadata": {},
   "source": [
    "* Query distinct values"
   ]
  },
  {
   "cell_type": "code",
   "execution_count": 14,
   "metadata": {},
   "outputs": [],
   "source": [
    "def fetch_unique_products():\n",
    "    conn = sqlite3.connect(\"laundry_mat.db\")\n",
    "    cursor = conn.cursor()\n",
    "\n",
    "    cursor.execute(\"SELECT DISTINCT product FROM laundry_mat\")\n",
    "    rows = cursor.fetchall()\n",
    "\n",
    "    conn.close()\n",
    "    return rows"
   ]
  },
  {
   "cell_type": "code",
   "execution_count": 15,
   "metadata": {},
   "outputs": [
    {
     "name": "stdout",
     "output_type": "stream",
     "text": [
      "Unique products: [('Detergent',), ('Dryer Sheets Box',), ('Washing Machine',), ('Dryer',)]\n"
     ]
    }
   ],
   "source": [
    "unique_products = fetch_unique_products()\n",
    "print(\"Unique products:\", unique_products)"
   ]
  }
 ],
 "metadata": {
  "kernelspec": {
   "display_name": "aws-DLmBe1Fh",
   "language": "python",
   "name": "python3"
  },
  "language_info": {
   "codemirror_mode": {
    "name": "ipython",
    "version": 3
   },
   "file_extension": ".py",
   "mimetype": "text/x-python",
   "name": "python",
   "nbconvert_exporter": "python",
   "pygments_lexer": "ipython3",
   "version": "3.10.16"
  }
 },
 "nbformat": 4,
 "nbformat_minor": 2
}
