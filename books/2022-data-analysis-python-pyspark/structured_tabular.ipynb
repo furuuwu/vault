{
  "nbformat": 4,
  "nbformat_minor": 0,
  "metadata": {
    "colab": {
      "provenance": []
    },
    "kernelspec": {
      "name": "python3",
      "display_name": "Python 3"
    },
    "language_info": {
      "name": "python"
    }
  },
  "cells": [
    {
      "cell_type": "markdown",
      "source": [
        "Example tabular data processing (structured relational data) with pyspark\n",
        "\n",
        "look at `broadcast_logs/` folder\n",
        "* CRTC (Canadian Radio-Television and Telecommunications Commission). Every broadcaster is mandated to provide a complete log of the programs and\n",
        "commercials showcased to the Canadian public."
      ],
      "metadata": {
        "id": "ATNnEItghD5p"
      }
    },
    {
      "cell_type": "code",
      "execution_count": 72,
      "metadata": {
        "id": "sSArFm4XgjCB"
      },
      "outputs": [],
      "source": [
        "from pyspark.sql import SparkSession, DataFrame\n",
        "import pyspark.sql.functions as F"
      ]
    },
    {
      "cell_type": "code",
      "source": [
        "spark = SparkSession.builder.getOrCreate()"
      ],
      "metadata": {
        "id": "iuZA670BgnyG"
      },
      "execution_count": 73,
      "outputs": []
    },
    {
      "cell_type": "code",
      "source": [
        "my_grocery_list = [\n",
        "    [\"Banana\", 2, 1.74],\n",
        "    [\"Apple\", 4, 2.04],\n",
        "    [\"Carrot\", 1, 1.09],\n",
        "    [\"Cake\", 1, 10.99],\n",
        "]"
      ],
      "metadata": {
        "id": "qUyeozPagt4F"
      },
      "execution_count": 74,
      "outputs": []
    },
    {
      "cell_type": "code",
      "source": [
        "# Let Spark infer the schema\n",
        "df_grocery_list: DataFrame = spark.createDataFrame(\n",
        "    data=my_grocery_list, schema=[\"Item\", \"Quantity\", \"Price\"]\n",
        ")"
      ],
      "metadata": {
        "id": "AaPEu2pSgy-d"
      },
      "execution_count": 75,
      "outputs": []
    },
    {
      "cell_type": "code",
      "source": [
        "df_grocery_list.printSchema()"
      ],
      "metadata": {
        "colab": {
          "base_uri": "https://localhost:8080/"
        },
        "id": "ebFDn9zPh0a9",
        "outputId": "a4fae3b6-1ad6-4ed2-a206-2e0ff0d7424f"
      },
      "execution_count": 76,
      "outputs": [
        {
          "output_type": "stream",
          "name": "stdout",
          "text": [
            "root\n",
            " |-- Item: string (nullable = true)\n",
            " |-- Quantity: long (nullable = true)\n",
            " |-- Price: double (nullable = true)\n",
            "\n"
          ]
        }
      ]
    },
    {
      "cell_type": "code",
      "source": [
        "# or you can be explicit\n",
        "\n",
        "from pyspark.sql.types import StructType, StructField, StringType, IntegerType, FloatType\n",
        "\n",
        "# Define the schema\n",
        "schema = StructType([\n",
        "    StructField(name=\"Item\", dataType=StringType(), nullable=True),\n",
        "    StructField(\"Quantity\", IntegerType(), True),\n",
        "    StructField(\"Price\", FloatType(), True),\n",
        "])\n",
        "\n",
        "df_grocery_list = spark.createDataFrame(\n",
        "    my_grocery_list, schema\n",
        ")"
      ],
      "metadata": {
        "id": "1RFnk9C1g1ys"
      },
      "execution_count": 77,
      "outputs": []
    },
    {
      "cell_type": "code",
      "source": [
        "df_grocery_list.printSchema()"
      ],
      "metadata": {
        "colab": {
          "base_uri": "https://localhost:8080/"
        },
        "id": "efQ91rZmhfm-",
        "outputId": "d1654108-1913-40a7-e6d9-773b559c14b5"
      },
      "execution_count": 78,
      "outputs": [
        {
          "output_type": "stream",
          "name": "stdout",
          "text": [
            "root\n",
            " |-- Item: string (nullable = true)\n",
            " |-- Quantity: integer (nullable = true)\n",
            " |-- Price: float (nullable = true)\n",
            "\n"
          ]
        }
      ]
    },
    {
      "cell_type": "markdown",
      "source": [
        "* PySpark doesn’t provide any charting capabilities and doesn’t play with other charting libraries (like Matplotlib, seaborn, Altair, or plot.ly), and this makes a lot of sense: PySpark distributes your data over many computers. It doesn’t make much sense to\n",
        "distribute a chart creation. The usual solution will be to transform your data using PySpark, use the toPandas() method to transform your PySpark data frame into a pandas data frame, and then use your favorite charting library.\n",
        "* You do not want to move your data between a pandas and a PySpark data frame all the time. Reserve toPandas() for either discrete operations or for moving your data into a pandas data frame once and for all. If you need pandas functionality on a Spark data frame, check out pandas UDFs"
      ],
      "metadata": {
        "id": "QN6snB0EiekT"
      }
    },
    {
      "cell_type": "markdown",
      "source": [
        "csv file format\n",
        "* a row delimiter. The row delimiter splits the file into logical records. The newline character (`\\n`) is the de facto record delimiter\n",
        "* field delimiter. Each record is made up of an identical number of fields, and the field delimiter tells where one field starts and ends. The comma character (`,`) is the most frequent field delimiter"
      ],
      "metadata": {
        "id": "MNn_OFt0lIub"
      }
    },
    {
      "cell_type": "code",
      "source": [
        "using_GoogleColab = True\n",
        "if using_GoogleColab:\n",
        "  # to work with files inside Google Colab,\n",
        "  from google.colab import drive\n",
        "  drive.mount('/content/drive')\n",
        "  # and right-click copy path of the files you want\n",
        "else:\n",
        "  # idk man\n",
        "  pass"
      ],
      "metadata": {
        "id": "2E04HCB9hmi9",
        "colab": {
          "base_uri": "https://localhost:8080/"
        },
        "outputId": "39a25a82-0c8e-47c0-ba28-e06e610982ac"
      },
      "execution_count": 79,
      "outputs": [
        {
          "output_type": "stream",
          "name": "stdout",
          "text": [
            "Drive already mounted at /content/drive; to attempt to forcibly remount, call drive.mount(\"/content/drive\", force_remount=True).\n"
          ]
        }
      ]
    },
    {
      "cell_type": "code",
      "source": [
        "from pathlib import Path"
      ],
      "metadata": {
        "id": "yCmePKeE2yzg"
      },
      "execution_count": 80,
      "outputs": []
    },
    {
      "cell_type": "code",
      "source": [
        "# Define the directory and file path using pathlib\n",
        "dir_path = Path(\"drive/MyDrive/Colab Notebooks/broadcast_logs\")\n",
        "file_path = dir_path / \"BroadcastLogs_2018_Q3_M8_sample.CSV\"\n",
        "file_path"
      ],
      "metadata": {
        "colab": {
          "base_uri": "https://localhost:8080/"
        },
        "id": "NwIgHu3d2_QL",
        "outputId": "3b5a5322-5882-42a7-9931-4130d080109b"
      },
      "execution_count": 81,
      "outputs": [
        {
          "output_type": "execute_result",
          "data": {
            "text/plain": [
              "PosixPath('drive/MyDrive/Colab Notebooks/broadcast_logs/BroadcastLogs_2018_Q3_M8_sample.CSV')"
            ]
          },
          "metadata": {},
          "execution_count": 81
        }
      ]
    },
    {
      "cell_type": "code",
      "source": [
        "logs = spark.read.csv(\n",
        "    str(file_path),  # Convert the Path object to a string\n",
        "    sep=\"|\",\n",
        "    header=True,\n",
        "    inferSchema=True,\n",
        "    timestampFormat=\"yyyy-MM-dd\",\n",
        ")"
      ],
      "metadata": {
        "id": "H8akLRUf3C1V"
      },
      "execution_count": 82,
      "outputs": []
    },
    {
      "cell_type": "code",
      "source": [
        "logs.printSchema()"
      ],
      "metadata": {
        "colab": {
          "base_uri": "https://localhost:8080/"
        },
        "id": "ult8yyKW3F9l",
        "outputId": "74aadf3c-d971-476a-df82-453f4c7c3b77"
      },
      "execution_count": 83,
      "outputs": [
        {
          "output_type": "stream",
          "name": "stdout",
          "text": [
            "root\n",
            " |-- BroadcastLogID: integer (nullable = true)\n",
            " |-- LogServiceID: integer (nullable = true)\n",
            " |-- LogDate: date (nullable = true)\n",
            " |-- SequenceNO: integer (nullable = true)\n",
            " |-- AudienceTargetAgeID: integer (nullable = true)\n",
            " |-- AudienceTargetEthnicID: integer (nullable = true)\n",
            " |-- CategoryID: integer (nullable = true)\n",
            " |-- ClosedCaptionID: integer (nullable = true)\n",
            " |-- CountryOfOriginID: integer (nullable = true)\n",
            " |-- DubDramaCreditID: integer (nullable = true)\n",
            " |-- EthnicProgramID: integer (nullable = true)\n",
            " |-- ProductionSourceID: integer (nullable = true)\n",
            " |-- ProgramClassID: integer (nullable = true)\n",
            " |-- FilmClassificationID: integer (nullable = true)\n",
            " |-- ExhibitionID: integer (nullable = true)\n",
            " |-- Duration: string (nullable = true)\n",
            " |-- EndTime: string (nullable = true)\n",
            " |-- LogEntryDate: date (nullable = true)\n",
            " |-- ProductionNO: string (nullable = true)\n",
            " |-- ProgramTitle: string (nullable = true)\n",
            " |-- StartTime: string (nullable = true)\n",
            " |-- Subtitle: string (nullable = true)\n",
            " |-- NetworkAffiliationID: integer (nullable = true)\n",
            " |-- SpecialAttentionID: integer (nullable = true)\n",
            " |-- BroadcastOriginPointID: integer (nullable = true)\n",
            " |-- CompositionID: integer (nullable = true)\n",
            " |-- Producer1: string (nullable = true)\n",
            " |-- Producer2: string (nullable = true)\n",
            " |-- Language1: integer (nullable = true)\n",
            " |-- Language2: integer (nullable = true)\n",
            "\n"
          ]
        }
      ]
    },
    {
      "cell_type": "markdown",
      "source": [
        "Selecting columns with .select()"
      ],
      "metadata": {
        "id": "YdI2-5X7Iyme"
      }
    },
    {
      "cell_type": "code",
      "source": [
        "logs.select(\"BroadcastLogID\", \"LogServiceID\", \"LogDate\").show(5, False)"
      ],
      "metadata": {
        "colab": {
          "base_uri": "https://localhost:8080/"
        },
        "id": "C6hkKMKe9RWo",
        "outputId": "a7635398-a6d1-4f4c-a046-ef6489148a97"
      },
      "execution_count": 84,
      "outputs": [
        {
          "output_type": "stream",
          "name": "stdout",
          "text": [
            "+--------------+------------+----------+\n",
            "|BroadcastLogID|LogServiceID|LogDate   |\n",
            "+--------------+------------+----------+\n",
            "|1196192316    |3157        |2018-08-01|\n",
            "|1196192317    |3157        |2018-08-01|\n",
            "|1196192318    |3157        |2018-08-01|\n",
            "|1196192319    |3157        |2018-08-01|\n",
            "|1196192320    |3157        |2018-08-01|\n",
            "+--------------+------------+----------+\n",
            "only showing top 5 rows\n",
            "\n"
          ]
        }
      ]
    },
    {
      "cell_type": "code",
      "source": [
        "logs.select(*[\"BroadCastLogID\", \"LogServiceID\", \"LogDate\"]).show(5) # same thing"
      ],
      "metadata": {
        "colab": {
          "base_uri": "https://localhost:8080/"
        },
        "id": "RH4gZb60HbPO",
        "outputId": "15dbe173-7170-4257-adc4-62512854125e"
      },
      "execution_count": 85,
      "outputs": [
        {
          "output_type": "stream",
          "name": "stdout",
          "text": [
            "+--------------+------------+----------+\n",
            "|BroadCastLogID|LogServiceID|   LogDate|\n",
            "+--------------+------------+----------+\n",
            "|    1196192316|        3157|2018-08-01|\n",
            "|    1196192317|        3157|2018-08-01|\n",
            "|    1196192318|        3157|2018-08-01|\n",
            "|    1196192319|        3157|2018-08-01|\n",
            "|    1196192320|        3157|2018-08-01|\n",
            "+--------------+------------+----------+\n",
            "only showing top 5 rows\n",
            "\n"
          ]
        }
      ]
    },
    {
      "cell_type": "code",
      "source": [
        "logs.select(\n",
        "F.col(\"BroadCastLogID\"), F.col(\"LogServiceID\"), F.col(\"LogDate\")\n",
        ").show(5) # same thing"
      ],
      "metadata": {
        "colab": {
          "base_uri": "https://localhost:8080/"
        },
        "id": "WvOBbxMtHwIf",
        "outputId": "a99fe85b-cc36-45c5-d9c9-75a36af881dd"
      },
      "execution_count": 86,
      "outputs": [
        {
          "output_type": "stream",
          "name": "stdout",
          "text": [
            "+--------------+------------+----------+\n",
            "|BroadCastLogID|LogServiceID|   LogDate|\n",
            "+--------------+------------+----------+\n",
            "|    1196192316|        3157|2018-08-01|\n",
            "|    1196192317|        3157|2018-08-01|\n",
            "|    1196192318|        3157|2018-08-01|\n",
            "|    1196192319|        3157|2018-08-01|\n",
            "|    1196192320|        3157|2018-08-01|\n",
            "+--------------+------------+----------+\n",
            "only showing top 5 rows\n",
            "\n"
          ]
        }
      ]
    },
    {
      "cell_type": "code",
      "source": [
        "import numpy as np"
      ],
      "metadata": {
        "id": "a0isd8AjIO7B"
      },
      "execution_count": 87,
      "outputs": []
    },
    {
      "cell_type": "code",
      "source": [
        "# see every column in groups of three\n",
        "column_split = np.array_split(\n",
        "    np.array(logs.columns), len(logs.columns) // 3\n",
        ")\n",
        "\n",
        "print(column_split)\n",
        "\n",
        "for x in column_split:\n",
        "    logs.select(*x).show(5)"
      ],
      "metadata": {
        "colab": {
          "base_uri": "https://localhost:8080/"
        },
        "id": "M8ffaVANH4MT",
        "outputId": "d6e996ed-0291-434d-affe-3b7efd22a83d"
      },
      "execution_count": 88,
      "outputs": [
        {
          "output_type": "stream",
          "name": "stdout",
          "text": [
            "[array(['BroadcastLogID', 'LogServiceID', 'LogDate'], dtype='<U22'), array(['SequenceNO', 'AudienceTargetAgeID', 'AudienceTargetEthnicID'],\n",
            "      dtype='<U22'), array(['CategoryID', 'ClosedCaptionID', 'CountryOfOriginID'], dtype='<U22'), array(['DubDramaCreditID', 'EthnicProgramID', 'ProductionSourceID'],\n",
            "      dtype='<U22'), array(['ProgramClassID', 'FilmClassificationID', 'ExhibitionID'],\n",
            "      dtype='<U22'), array(['Duration', 'EndTime', 'LogEntryDate'], dtype='<U22'), array(['ProductionNO', 'ProgramTitle', 'StartTime'], dtype='<U22'), array(['Subtitle', 'NetworkAffiliationID', 'SpecialAttentionID'],\n",
            "      dtype='<U22'), array(['BroadcastOriginPointID', 'CompositionID', 'Producer1'],\n",
            "      dtype='<U22'), array(['Producer2', 'Language1', 'Language2'], dtype='<U22')]\n",
            "+--------------+------------+----------+\n",
            "|BroadcastLogID|LogServiceID|   LogDate|\n",
            "+--------------+------------+----------+\n",
            "|    1196192316|        3157|2018-08-01|\n",
            "|    1196192317|        3157|2018-08-01|\n",
            "|    1196192318|        3157|2018-08-01|\n",
            "|    1196192319|        3157|2018-08-01|\n",
            "|    1196192320|        3157|2018-08-01|\n",
            "+--------------+------------+----------+\n",
            "only showing top 5 rows\n",
            "\n",
            "+----------+-------------------+----------------------+\n",
            "|SequenceNO|AudienceTargetAgeID|AudienceTargetEthnicID|\n",
            "+----------+-------------------+----------------------+\n",
            "|         1|                  4|                  NULL|\n",
            "|         2|               NULL|                  NULL|\n",
            "|         3|               NULL|                  NULL|\n",
            "|         4|               NULL|                  NULL|\n",
            "|         5|               NULL|                  NULL|\n",
            "+----------+-------------------+----------------------+\n",
            "only showing top 5 rows\n",
            "\n",
            "+----------+---------------+-----------------+\n",
            "|CategoryID|ClosedCaptionID|CountryOfOriginID|\n",
            "+----------+---------------+-----------------+\n",
            "|        13|              3|                3|\n",
            "|      NULL|              1|             NULL|\n",
            "|      NULL|              1|             NULL|\n",
            "|      NULL|              1|             NULL|\n",
            "|      NULL|              1|             NULL|\n",
            "+----------+---------------+-----------------+\n",
            "only showing top 5 rows\n",
            "\n",
            "+----------------+---------------+------------------+\n",
            "|DubDramaCreditID|EthnicProgramID|ProductionSourceID|\n",
            "+----------------+---------------+------------------+\n",
            "|            NULL|           NULL|                10|\n",
            "|            NULL|           NULL|              NULL|\n",
            "|            NULL|           NULL|              NULL|\n",
            "|            NULL|           NULL|              NULL|\n",
            "|            NULL|           NULL|              NULL|\n",
            "+----------------+---------------+------------------+\n",
            "only showing top 5 rows\n",
            "\n",
            "+--------------+--------------------+------------+\n",
            "|ProgramClassID|FilmClassificationID|ExhibitionID|\n",
            "+--------------+--------------------+------------+\n",
            "|            19|                NULL|           2|\n",
            "|            20|                NULL|        NULL|\n",
            "|             3|                NULL|        NULL|\n",
            "|             3|                NULL|        NULL|\n",
            "|             3|                NULL|        NULL|\n",
            "+--------------+--------------------+------------+\n",
            "only showing top 5 rows\n",
            "\n",
            "+----------------+----------------+------------+\n",
            "|        Duration|         EndTime|LogEntryDate|\n",
            "+----------------+----------------+------------+\n",
            "|02:00:00.0000000|08:00:00.0000000|  2018-08-01|\n",
            "|00:00:30.0000000|06:13:45.0000000|  2018-08-01|\n",
            "|00:00:15.0000000|06:14:00.0000000|  2018-08-01|\n",
            "|00:00:15.0000000|06:14:15.0000000|  2018-08-01|\n",
            "|00:00:15.0000000|06:14:30.0000000|  2018-08-01|\n",
            "+----------------+----------------+------------+\n",
            "only showing top 5 rows\n",
            "\n",
            "+------------+--------------------+----------------+\n",
            "|ProductionNO|        ProgramTitle|       StartTime|\n",
            "+------------+--------------------+----------------+\n",
            "|      A39082|   Newlywed and Dead|06:00:00.0000000|\n",
            "|        NULL|15-SPECIALTY CHAN...|06:13:15.0000000|\n",
            "|        NULL|3-PROCTER & GAMBL...|06:13:45.0000000|\n",
            "|        NULL|12-CREDIT KARMA-B...|06:14:00.0000000|\n",
            "|        NULL|3-L'OREAL CANADA-...|06:14:15.0000000|\n",
            "+------------+--------------------+----------------+\n",
            "only showing top 5 rows\n",
            "\n",
            "+--------+--------------------+------------------+\n",
            "|Subtitle|NetworkAffiliationID|SpecialAttentionID|\n",
            "+--------+--------------------+------------------+\n",
            "|    NULL|                NULL|              NULL|\n",
            "|    NULL|                NULL|              NULL|\n",
            "|    NULL|                NULL|              NULL|\n",
            "|    NULL|                NULL|              NULL|\n",
            "|    NULL|                NULL|              NULL|\n",
            "+--------+--------------------+------------------+\n",
            "only showing top 5 rows\n",
            "\n",
            "+----------------------+-------------+---------+\n",
            "|BroadcastOriginPointID|CompositionID|Producer1|\n",
            "+----------------------+-------------+---------+\n",
            "|                  NULL|         NULL|     NULL|\n",
            "|                  NULL|         NULL|     NULL|\n",
            "|                  NULL|         NULL|     NULL|\n",
            "|                  NULL|         NULL|     NULL|\n",
            "|                  NULL|         NULL|     NULL|\n",
            "+----------------------+-------------+---------+\n",
            "only showing top 5 rows\n",
            "\n",
            "+---------+---------+---------+\n",
            "|Producer2|Language1|Language2|\n",
            "+---------+---------+---------+\n",
            "|     NULL|       94|     NULL|\n",
            "|     NULL|     NULL|     NULL|\n",
            "|     NULL|     NULL|     NULL|\n",
            "|     NULL|     NULL|     NULL|\n",
            "|     NULL|     NULL|     NULL|\n",
            "+---------+---------+---------+\n",
            "only showing top 5 rows\n",
            "\n"
          ]
        }
      ]
    },
    {
      "cell_type": "code",
      "source": [
        "logs = logs.select(\n",
        "    *[x for x in logs.columns if x not in [\"BroadcastLogID\", \"SequenceNO\"]]\n",
        ")"
      ],
      "metadata": {
        "id": "5JPr9jDNJPHW"
      },
      "execution_count": 89,
      "outputs": []
    },
    {
      "cell_type": "markdown",
      "source": [
        "Dropping columns with .drop() and with .select()"
      ],
      "metadata": {
        "id": "_HEzrrDOI2l6"
      }
    },
    {
      "cell_type": "code",
      "source": [
        "logs = logs.drop(\"BroadcastLogID\", \"SequenceNO\")"
      ],
      "metadata": {
        "id": "w5xxR9nzIi9N"
      },
      "execution_count": 90,
      "outputs": []
    },
    {
      "cell_type": "code",
      "source": [
        "print(\"BroadcastLogID\" in logs.columns)"
      ],
      "metadata": {
        "colab": {
          "base_uri": "https://localhost:8080/"
        },
        "id": "LjaeTQz-JKQn",
        "outputId": "dbd2c2bb-b239-430c-cbb2-aa5299f32243"
      },
      "execution_count": 91,
      "outputs": [
        {
          "output_type": "stream",
          "name": "stdout",
          "text": [
            "False\n"
          ]
        }
      ]
    },
    {
      "cell_type": "code",
      "source": [
        "logs = logs.select(\n",
        "    *[x for x in logs.columns if x not in [\"BroadcastLogID\", \"SequenceNO\"]]\n",
        ")"
      ],
      "metadata": {
        "id": "JZ6vAH5cJLdR"
      },
      "execution_count": 92,
      "outputs": []
    },
    {
      "cell_type": "markdown",
      "source": [
        "Creating new columns with .withColumn() and with .select()"
      ],
      "metadata": {
        "id": "en3CmEgxJnFA"
      }
    },
    {
      "cell_type": "code",
      "source": [
        "logs.select(F.col(\"Duration\")).show(5)"
      ],
      "metadata": {
        "colab": {
          "base_uri": "https://localhost:8080/"
        },
        "id": "tIjt_q3sKQEM",
        "outputId": "e262e292-baa3-4c1c-d70b-ef36d34838f4"
      },
      "execution_count": 93,
      "outputs": [
        {
          "output_type": "stream",
          "name": "stdout",
          "text": [
            "+----------------+\n",
            "|        Duration|\n",
            "+----------------+\n",
            "|02:00:00.0000000|\n",
            "|00:00:30.0000000|\n",
            "|00:00:15.0000000|\n",
            "|00:00:15.0000000|\n",
            "|00:00:15.0000000|\n",
            "+----------------+\n",
            "only showing top 5 rows\n",
            "\n"
          ]
        }
      ]
    },
    {
      "cell_type": "code",
      "source": [
        "logs.select(F.col(\"Duration\")).dtypes # string is formatted like HH:MM:SS.mmmmmm"
      ],
      "metadata": {
        "colab": {
          "base_uri": "https://localhost:8080/"
        },
        "id": "jpZjb_snJe34",
        "outputId": "50e05892-f9da-40f0-d5ba-00813eea9646"
      },
      "execution_count": 94,
      "outputs": [
        {
          "output_type": "execute_result",
          "data": {
            "text/plain": [
              "[('Duration', 'string')]"
            ]
          },
          "metadata": {},
          "execution_count": 94
        }
      ]
    },
    {
      "cell_type": "code",
      "source": [
        "# Extracting the hours, minutes, and seconds from the Duration column\n",
        "logs.select(\n",
        "    F.col(\"Duration\"),\n",
        "    F.col(\"Duration\").substr(1, 2).cast(\"int\").alias(\"dur_hours\"),\n",
        "    F.col(\"Duration\").substr(4, 2).cast(\"int\").alias(\"dur_minutes\"),\n",
        "    F.col(\"Duration\").substr(7, 2).cast(\"int\").alias(\"dur_seconds\"),\n",
        ").distinct().show(5)\n",
        "\n",
        "# We could rely on the datetime and timedelta Python constructs through a UDF.\n",
        "# Depending on the type of UDF (simple versus vectorized), the performance can\n",
        "# be slower or comparable to using this approach"
      ],
      "metadata": {
        "colab": {
          "base_uri": "https://localhost:8080/"
        },
        "id": "c2QDWjopKGtU",
        "outputId": "582d9ffc-384a-4fb4-b216-706eee6e74ff"
      },
      "execution_count": 95,
      "outputs": [
        {
          "output_type": "stream",
          "name": "stdout",
          "text": [
            "+----------------+---------+-----------+-----------+\n",
            "|        Duration|dur_hours|dur_minutes|dur_seconds|\n",
            "+----------------+---------+-----------+-----------+\n",
            "|00:04:52.0000000|        0|          4|         52|\n",
            "|00:10:06.0000000|        0|         10|          6|\n",
            "|00:26:41.0000000|        0|         26|         41|\n",
            "|00:05:29.0000000|        0|          5|         29|\n",
            "|00:08:18.0000000|        0|          8|         18|\n",
            "+----------------+---------+-----------+-----------+\n",
            "only showing top 5 rows\n",
            "\n"
          ]
        }
      ]
    },
    {
      "cell_type": "code",
      "source": [
        "# Creating a new column - duration of the program in seconds\n",
        "logs.select(\n",
        "    F.col(\"Duration\"),\n",
        "    (\n",
        "    F.col(\"Duration\").substr(1, 2).cast(\"int\") * 60 * 60\n",
        "    + F.col(\"Duration\").substr(4, 2).cast(\"int\") * 60\n",
        "    + F.col(\"Duration\").substr(7, 2).cast(\"int\")\n",
        "    ).alias(\"Duration_seconds\"),\n",
        ").distinct().show(5)"
      ],
      "metadata": {
        "colab": {
          "base_uri": "https://localhost:8080/"
        },
        "id": "UMJFfMK5W8Gz",
        "outputId": "71f98407-f946-4d8e-fbee-227363348ec9"
      },
      "execution_count": 96,
      "outputs": [
        {
          "output_type": "stream",
          "name": "stdout",
          "text": [
            "+----------------+----------------+\n",
            "|        Duration|Duration_seconds|\n",
            "+----------------+----------------+\n",
            "|01:59:30.0000000|            7170|\n",
            "|00:31:00.0000000|            1860|\n",
            "|00:28:08.0000000|            1688|\n",
            "|00:10:30.0000000|             630|\n",
            "|00:32:00.0000000|            1920|\n",
            "+----------------+----------------+\n",
            "only showing top 5 rows\n",
            "\n"
          ]
        }
      ]
    },
    {
      "cell_type": "code",
      "source": [
        "# the other way, with .withColumn()\n",
        "logs = logs.withColumn(\n",
        "    \"Duration_seconds\",\n",
        "    (\n",
        "    F.col(\"Duration\").substr(1, 2).cast(\"int\") * 60 * 60\n",
        "    + F.col(\"Duration\").substr(4, 2).cast(\"int\") * 60\n",
        "    + F.col(\"Duration\").substr(7, 2).cast(\"int\")\n",
        "    ),\n",
        ")"
      ],
      "metadata": {
        "id": "5V83bbgEXfR5"
      },
      "execution_count": 97,
      "outputs": []
    },
    {
      "cell_type": "code",
      "source": [
        "logs.printSchema()"
      ],
      "metadata": {
        "colab": {
          "base_uri": "https://localhost:8080/"
        },
        "id": "XaaFssUSXwQR",
        "outputId": "0516d139-1ad3-4272-926a-f9f66f880d1f"
      },
      "execution_count": 98,
      "outputs": [
        {
          "output_type": "stream",
          "name": "stdout",
          "text": [
            "root\n",
            " |-- LogServiceID: integer (nullable = true)\n",
            " |-- LogDate: date (nullable = true)\n",
            " |-- AudienceTargetAgeID: integer (nullable = true)\n",
            " |-- AudienceTargetEthnicID: integer (nullable = true)\n",
            " |-- CategoryID: integer (nullable = true)\n",
            " |-- ClosedCaptionID: integer (nullable = true)\n",
            " |-- CountryOfOriginID: integer (nullable = true)\n",
            " |-- DubDramaCreditID: integer (nullable = true)\n",
            " |-- EthnicProgramID: integer (nullable = true)\n",
            " |-- ProductionSourceID: integer (nullable = true)\n",
            " |-- ProgramClassID: integer (nullable = true)\n",
            " |-- FilmClassificationID: integer (nullable = true)\n",
            " |-- ExhibitionID: integer (nullable = true)\n",
            " |-- Duration: string (nullable = true)\n",
            " |-- EndTime: string (nullable = true)\n",
            " |-- LogEntryDate: date (nullable = true)\n",
            " |-- ProductionNO: string (nullable = true)\n",
            " |-- ProgramTitle: string (nullable = true)\n",
            " |-- StartTime: string (nullable = true)\n",
            " |-- Subtitle: string (nullable = true)\n",
            " |-- NetworkAffiliationID: integer (nullable = true)\n",
            " |-- SpecialAttentionID: integer (nullable = true)\n",
            " |-- BroadcastOriginPointID: integer (nullable = true)\n",
            " |-- CompositionID: integer (nullable = true)\n",
            " |-- Producer1: string (nullable = true)\n",
            " |-- Producer2: string (nullable = true)\n",
            " |-- Language1: integer (nullable = true)\n",
            " |-- Language2: integer (nullable = true)\n",
            " |-- Duration_seconds: integer (nullable = true)\n",
            "\n"
          ]
        }
      ]
    },
    {
      "cell_type": "markdown",
      "source": [
        "Renaming columns with .withColumnRenamed() and .toDF()"
      ],
      "metadata": {
        "id": "NITgFHWhYQch"
      }
    },
    {
      "cell_type": "code",
      "source": [
        "logs = logs.withColumnRenamed(\"Duration_seconds\", \"duration_seconds\")\n",
        "logs.printSchema()"
      ],
      "metadata": {
        "colab": {
          "base_uri": "https://localhost:8080/"
        },
        "id": "Kn_XAC-eXygr",
        "outputId": "be44cdc6-d56c-4bdc-9937-13faf9ed0023"
      },
      "execution_count": 99,
      "outputs": [
        {
          "output_type": "stream",
          "name": "stdout",
          "text": [
            "root\n",
            " |-- LogServiceID: integer (nullable = true)\n",
            " |-- LogDate: date (nullable = true)\n",
            " |-- AudienceTargetAgeID: integer (nullable = true)\n",
            " |-- AudienceTargetEthnicID: integer (nullable = true)\n",
            " |-- CategoryID: integer (nullable = true)\n",
            " |-- ClosedCaptionID: integer (nullable = true)\n",
            " |-- CountryOfOriginID: integer (nullable = true)\n",
            " |-- DubDramaCreditID: integer (nullable = true)\n",
            " |-- EthnicProgramID: integer (nullable = true)\n",
            " |-- ProductionSourceID: integer (nullable = true)\n",
            " |-- ProgramClassID: integer (nullable = true)\n",
            " |-- FilmClassificationID: integer (nullable = true)\n",
            " |-- ExhibitionID: integer (nullable = true)\n",
            " |-- Duration: string (nullable = true)\n",
            " |-- EndTime: string (nullable = true)\n",
            " |-- LogEntryDate: date (nullable = true)\n",
            " |-- ProductionNO: string (nullable = true)\n",
            " |-- ProgramTitle: string (nullable = true)\n",
            " |-- StartTime: string (nullable = true)\n",
            " |-- Subtitle: string (nullable = true)\n",
            " |-- NetworkAffiliationID: integer (nullable = true)\n",
            " |-- SpecialAttentionID: integer (nullable = true)\n",
            " |-- BroadcastOriginPointID: integer (nullable = true)\n",
            " |-- CompositionID: integer (nullable = true)\n",
            " |-- Producer1: string (nullable = true)\n",
            " |-- Producer2: string (nullable = true)\n",
            " |-- Language1: integer (nullable = true)\n",
            " |-- Language2: integer (nullable = true)\n",
            " |-- duration_seconds: integer (nullable = true)\n",
            "\n"
          ]
        }
      ]
    },
    {
      "cell_type": "code",
      "source": [
        "logs.toDF(*[x.lower() for x in logs.columns]).printSchema()"
      ],
      "metadata": {
        "colab": {
          "base_uri": "https://localhost:8080/"
        },
        "id": "hTxeEgHUYctA",
        "outputId": "d793a57d-0eda-4a92-cfbd-258f6f7488d4"
      },
      "execution_count": 100,
      "outputs": [
        {
          "output_type": "stream",
          "name": "stdout",
          "text": [
            "root\n",
            " |-- logserviceid: integer (nullable = true)\n",
            " |-- logdate: date (nullable = true)\n",
            " |-- audiencetargetageid: integer (nullable = true)\n",
            " |-- audiencetargetethnicid: integer (nullable = true)\n",
            " |-- categoryid: integer (nullable = true)\n",
            " |-- closedcaptionid: integer (nullable = true)\n",
            " |-- countryoforiginid: integer (nullable = true)\n",
            " |-- dubdramacreditid: integer (nullable = true)\n",
            " |-- ethnicprogramid: integer (nullable = true)\n",
            " |-- productionsourceid: integer (nullable = true)\n",
            " |-- programclassid: integer (nullable = true)\n",
            " |-- filmclassificationid: integer (nullable = true)\n",
            " |-- exhibitionid: integer (nullable = true)\n",
            " |-- duration: string (nullable = true)\n",
            " |-- endtime: string (nullable = true)\n",
            " |-- logentrydate: date (nullable = true)\n",
            " |-- productionno: string (nullable = true)\n",
            " |-- programtitle: string (nullable = true)\n",
            " |-- starttime: string (nullable = true)\n",
            " |-- subtitle: string (nullable = true)\n",
            " |-- networkaffiliationid: integer (nullable = true)\n",
            " |-- specialattentionid: integer (nullable = true)\n",
            " |-- broadcastoriginpointid: integer (nullable = true)\n",
            " |-- compositionid: integer (nullable = true)\n",
            " |-- producer1: string (nullable = true)\n",
            " |-- producer2: string (nullable = true)\n",
            " |-- language1: integer (nullable = true)\n",
            " |-- language2: integer (nullable = true)\n",
            " |-- duration_seconds: integer (nullable = true)\n",
            "\n"
          ]
        }
      ]
    },
    {
      "cell_type": "markdown",
      "source": [
        "summary statistics with .describe() and .summary()"
      ],
      "metadata": {
        "id": "J_hB8ReNYrjN"
      }
    },
    {
      "cell_type": "code",
      "source": [
        "for i in logs.columns:\n",
        "    logs.describe(i).show()"
      ],
      "metadata": {
        "colab": {
          "base_uri": "https://localhost:8080/"
        },
        "id": "sC02mF2GYfVE",
        "outputId": "e8613d18-94e9-4c08-eeff-1ce7550732c8"
      },
      "execution_count": 101,
      "outputs": [
        {
          "output_type": "stream",
          "name": "stdout",
          "text": [
            "+-------+------------------+\n",
            "|summary|      LogServiceID|\n",
            "+-------+------------------+\n",
            "|  count|            238945|\n",
            "|   mean| 3450.890284375065|\n",
            "| stddev|199.50673962555592|\n",
            "|    min|              3157|\n",
            "|    max|              3925|\n",
            "+-------+------------------+\n",
            "\n",
            "+-------+\n",
            "|summary|\n",
            "+-------+\n",
            "|  count|\n",
            "|   mean|\n",
            "| stddev|\n",
            "|    min|\n",
            "|    max|\n",
            "+-------+\n",
            "\n",
            "+-------+-------------------+\n",
            "|summary|AudienceTargetAgeID|\n",
            "+-------+-------------------+\n",
            "|  count|              16112|\n",
            "|   mean| 3.4929245283018866|\n",
            "| stddev| 1.0415963394745125|\n",
            "|    min|                  1|\n",
            "|    max|                  4|\n",
            "+-------+-------------------+\n",
            "\n",
            "+-------+----------------------+\n",
            "|summary|AudienceTargetEthnicID|\n",
            "+-------+----------------------+\n",
            "|  count|                  1710|\n",
            "|   mean|    120.56432748538012|\n",
            "| stddev|     71.98694059436133|\n",
            "|    min|                     4|\n",
            "|    max|                   337|\n",
            "+-------+----------------------+\n",
            "\n",
            "+-------+------------------+\n",
            "|summary|        CategoryID|\n",
            "+-------+------------------+\n",
            "|  count|             25506|\n",
            "|   mean|18.485297577040697|\n",
            "| stddev| 9.655852252020834|\n",
            "|    min|                 1|\n",
            "|    max|                29|\n",
            "+-------+------------------+\n",
            "\n",
            "+-------+-------------------+\n",
            "|summary|    ClosedCaptionID|\n",
            "+-------+-------------------+\n",
            "|  count|             224117|\n",
            "|   mean| 1.0316174141185184|\n",
            "| stddev|0.24947032900378974|\n",
            "|    min|                  1|\n",
            "|    max|                  3|\n",
            "+-------+-------------------+\n",
            "\n",
            "+-------+------------------+\n",
            "|summary| CountryOfOriginID|\n",
            "+-------+------------------+\n",
            "|  count|             17822|\n",
            "|   mean|  4.06390977443609|\n",
            "| stddev|2.6159675821007298|\n",
            "|    min|                 2|\n",
            "|    max|                11|\n",
            "+-------+------------------+\n",
            "\n",
            "+-------+------------------+\n",
            "|summary|  DubDramaCreditID|\n",
            "+-------+------------------+\n",
            "|  count|               263|\n",
            "|   mean|5.1254752851711025|\n",
            "| stddev| 3.451329711438564|\n",
            "|    min|                 1|\n",
            "|    max|                10|\n",
            "+-------+------------------+\n",
            "\n",
            "+-------+------------------+\n",
            "|summary|   EthnicProgramID|\n",
            "+-------+------------------+\n",
            "|  count|              1895|\n",
            "|   mean| 4.316622691292876|\n",
            "| stddev|2.2966421456800274|\n",
            "|    min|                 1|\n",
            "|    max|                 6|\n",
            "+-------+------------------+\n",
            "\n",
            "+-------+------------------+\n",
            "|summary|ProductionSourceID|\n",
            "+-------+------------------+\n",
            "|  count|             16223|\n",
            "|   mean|11.193737286568453|\n",
            "| stddev| 6.079022239331335|\n",
            "|    min|                 1|\n",
            "|    max|                19|\n",
            "+-------+------------------+\n",
            "\n",
            "+-------+-----------------+\n",
            "|summary|   ProgramClassID|\n",
            "+-------+-----------------+\n",
            "|  count|           238945|\n",
            "|   mean| 8.49341061750612|\n",
            "| stddev|7.902116846905711|\n",
            "|    min|                3|\n",
            "|    max|               30|\n",
            "+-------+-----------------+\n",
            "\n",
            "+-------+--------------------+\n",
            "|summary|FilmClassificationID|\n",
            "+-------+--------------------+\n",
            "|  count|                1885|\n",
            "|   mean|   1.953315649867374|\n",
            "| stddev|  1.6420515263133848|\n",
            "|    min|                   1|\n",
            "|    max|                   8|\n",
            "+-------+--------------------+\n",
            "\n",
            "+-------+------------------+\n",
            "|summary|      ExhibitionID|\n",
            "+-------+------------------+\n",
            "|  count|              9263|\n",
            "|   mean|  4.52067364784627|\n",
            "| stddev|1.4418772626833427|\n",
            "|    min|                 1|\n",
            "|    max|                 8|\n",
            "+-------+------------------+\n",
            "\n",
            "+-------+----------------+\n",
            "|summary|        Duration|\n",
            "+-------+----------------+\n",
            "|  count|          236724|\n",
            "|   mean|            NULL|\n",
            "| stddev|            NULL|\n",
            "|    min|00:00:01.0000000|\n",
            "|    max|06:30:09.0000000|\n",
            "+-------+----------------+\n",
            "\n",
            "+-------+----------------+\n",
            "|summary|         EndTime|\n",
            "+-------+----------------+\n",
            "|  count|          169979|\n",
            "|   mean|            NULL|\n",
            "| stddev|            NULL|\n",
            "|    min|00:00:00.0000000|\n",
            "|    max|23:59:59.0000000|\n",
            "+-------+----------------+\n",
            "\n",
            "+-------+\n",
            "|summary|\n",
            "+-------+\n",
            "|  count|\n",
            "|   mean|\n",
            "| stddev|\n",
            "|    min|\n",
            "|    max|\n",
            "+-------+\n",
            "\n",
            "+-------+------------------+\n",
            "|summary|      ProductionNO|\n",
            "+-------+------------------+\n",
            "|  count|              3519|\n",
            "|   mean| 35710.61538461538|\n",
            "| stddev|3749.1340008607663|\n",
            "|    min|            030641|\n",
            "|    max|            c34183|\n",
            "+-------+------------------+\n",
            "\n",
            "+-------+------------------+\n",
            "|summary|      ProgramTitle|\n",
            "+-------+------------------+\n",
            "|  count|            238703|\n",
            "|   mean|            1999.0|\n",
            "| stddev|              NULL|\n",
            "|    min|  !NO 5PM A ID(:5)|\n",
            "|    max|�t� avec Jo�l 2/Un|\n",
            "+-------+------------------+\n",
            "\n",
            "+-------+----------------+\n",
            "|summary|       StartTime|\n",
            "+-------+----------------+\n",
            "|  count|          238945|\n",
            "|   mean|            NULL|\n",
            "| stddev|            NULL|\n",
            "|    min|00:00:00.0000000|\n",
            "|    max|23:59:59.0000000|\n",
            "+-------+----------------+\n",
            "\n",
            "+-------+--------------------+\n",
            "|summary|            Subtitle|\n",
            "+-------+--------------------+\n",
            "|  count|               15468|\n",
            "|   mean|   3463.573913043478|\n",
            "| stddev|  16251.272419144227|\n",
            "|    min|                #001|\n",
            "|    max|�tre dans le trou...|\n",
            "+-------+--------------------+\n",
            "\n",
            "+-------+--------------------+\n",
            "|summary|NetworkAffiliationID|\n",
            "+-------+--------------------+\n",
            "|  count|              108807|\n",
            "|   mean|   6.082200593711802|\n",
            "| stddev|  2.9908486752285115|\n",
            "|    min|                   1|\n",
            "|    max|                   9|\n",
            "+-------+--------------------+\n",
            "\n",
            "+-------+------------------+\n",
            "|summary|SpecialAttentionID|\n",
            "+-------+------------------+\n",
            "|  count|              2395|\n",
            "|   mean| 1.704384133611691|\n",
            "| stddev|0.5394635034869686|\n",
            "|    min|                 1|\n",
            "|    max|                 3|\n",
            "+-------+------------------+\n",
            "\n",
            "+-------+----------------------+\n",
            "|summary|BroadcastOriginPointID|\n",
            "+-------+----------------------+\n",
            "|  count|                  9978|\n",
            "|   mean|    2.1390058127881337|\n",
            "| stddev|    0.9323192037553304|\n",
            "|    min|                     1|\n",
            "|    max|                     3|\n",
            "+-------+----------------------+\n",
            "\n",
            "+-------+------------------+\n",
            "|summary|     CompositionID|\n",
            "+-------+------------------+\n",
            "|  count|              9978|\n",
            "|   mean|3.4141110442974543|\n",
            "| stddev|0.9338603403654618|\n",
            "|    min|                 1|\n",
            "|    max|                 4|\n",
            "+-------+------------------+\n",
            "\n",
            "+-------+---------+\n",
            "|summary|Producer1|\n",
            "+-------+---------+\n",
            "|  count|     2607|\n",
            "|   mean|     NULL|\n",
            "| stddev|     NULL|\n",
            "|    min|      AMI|\n",
            "|    max|   VISION|\n",
            "+-------+---------+\n",
            "\n",
            "+-------+---------+\n",
            "|summary|Producer2|\n",
            "+-------+---------+\n",
            "|  count|       38|\n",
            "|   mean|     NULL|\n",
            "| stddev|     NULL|\n",
            "|    min|    NEWSW|\n",
            "|    max|       QC|\n",
            "+-------+---------+\n",
            "\n",
            "+-------+------------------+\n",
            "|summary|         Language1|\n",
            "+-------+------------------+\n",
            "|  count|             12586|\n",
            "|   mean|101.75377403464167|\n",
            "| stddev| 45.68403685468214|\n",
            "|    min|                94|\n",
            "|    max|               437|\n",
            "+-------+------------------+\n",
            "\n",
            "+-------+------------------+\n",
            "|summary|         Language2|\n",
            "+-------+------------------+\n",
            "|  count|              2629|\n",
            "|   mean|175.49334347660707|\n",
            "| stddev| 86.03603792883942|\n",
            "|    min|                 3|\n",
            "|    max|               438|\n",
            "+-------+------------------+\n",
            "\n",
            "+-------+------------------+\n",
            "|summary|  duration_seconds|\n",
            "+-------+------------------+\n",
            "|  count|            236724|\n",
            "|   mean|124.30587942076004|\n",
            "| stddev| 573.7742807594947|\n",
            "|    min|                 1|\n",
            "|    max|             23409|\n",
            "+-------+------------------+\n",
            "\n"
          ]
        }
      ]
    },
    {
      "cell_type": "code",
      "source": [
        "# .summary() gives more information\n",
        "for i in logs.columns:\n",
        "    logs.select(i).summary(\"min\", \"10%\", \"90%\", \"max\").show()"
      ],
      "metadata": {
        "colab": {
          "base_uri": "https://localhost:8080/"
        },
        "id": "1WuR-8I0Y7UN",
        "outputId": "6b2fea51-4d0d-4c66-e6c2-6ba5d8c10fee"
      },
      "execution_count": 102,
      "outputs": [
        {
          "output_type": "stream",
          "name": "stdout",
          "text": [
            "+-------+------------+\n",
            "|summary|LogServiceID|\n",
            "+-------+------------+\n",
            "|    min|        3157|\n",
            "|    10%|        3236|\n",
            "|    90%|        3709|\n",
            "|    max|        3925|\n",
            "+-------+------------+\n",
            "\n",
            "+-------+\n",
            "|summary|\n",
            "+-------+\n",
            "|    min|\n",
            "|    10%|\n",
            "|    90%|\n",
            "|    max|\n",
            "+-------+\n",
            "\n",
            "+-------+-------------------+\n",
            "|summary|AudienceTargetAgeID|\n",
            "+-------+-------------------+\n",
            "|    min|                  1|\n",
            "|    10%|                  1|\n",
            "|    90%|                  4|\n",
            "|    max|                  4|\n",
            "+-------+-------------------+\n",
            "\n",
            "+-------+----------------------+\n",
            "|summary|AudienceTargetEthnicID|\n",
            "+-------+----------------------+\n",
            "|    min|                     4|\n",
            "|    10%|                    74|\n",
            "|    90%|                   258|\n",
            "|    max|                   337|\n",
            "+-------+----------------------+\n",
            "\n",
            "+-------+----------+\n",
            "|summary|CategoryID|\n",
            "+-------+----------+\n",
            "|    min|         1|\n",
            "|    10%|         3|\n",
            "|    90%|        29|\n",
            "|    max|        29|\n",
            "+-------+----------+\n",
            "\n",
            "+-------+---------------+\n",
            "|summary|ClosedCaptionID|\n",
            "+-------+---------------+\n",
            "|    min|              1|\n",
            "|    10%|              1|\n",
            "|    90%|              1|\n",
            "|    max|              3|\n",
            "+-------+---------------+\n",
            "\n",
            "+-------+-----------------+\n",
            "|summary|CountryOfOriginID|\n",
            "+-------+-----------------+\n",
            "|    min|                2|\n",
            "|    10%|                2|\n",
            "|    90%|                9|\n",
            "|    max|               11|\n",
            "+-------+-----------------+\n",
            "\n",
            "+-------+----------------+\n",
            "|summary|DubDramaCreditID|\n",
            "+-------+----------------+\n",
            "|    min|               1|\n",
            "|    10%|               2|\n",
            "|    90%|              10|\n",
            "|    max|              10|\n",
            "+-------+----------------+\n",
            "\n",
            "+-------+---------------+\n",
            "|summary|EthnicProgramID|\n",
            "+-------+---------------+\n",
            "|    min|              1|\n",
            "|    10%|              1|\n",
            "|    90%|              6|\n",
            "|    max|              6|\n",
            "+-------+---------------+\n",
            "\n",
            "+-------+------------------+\n",
            "|summary|ProductionSourceID|\n",
            "+-------+------------------+\n",
            "|    min|                 1|\n",
            "|    10%|                 1|\n",
            "|    90%|                19|\n",
            "|    max|                19|\n",
            "+-------+------------------+\n",
            "\n",
            "+-------+--------------+\n",
            "|summary|ProgramClassID|\n",
            "+-------+--------------+\n",
            "|    min|             3|\n",
            "|    10%|             3|\n",
            "|    90%|            20|\n",
            "|    max|            30|\n",
            "+-------+--------------+\n",
            "\n",
            "+-------+--------------------+\n",
            "|summary|FilmClassificationID|\n",
            "+-------+--------------------+\n",
            "|    min|                   1|\n",
            "|    10%|                   1|\n",
            "|    90%|                   5|\n",
            "|    max|                   8|\n",
            "+-------+--------------------+\n",
            "\n",
            "+-------+------------+\n",
            "|summary|ExhibitionID|\n",
            "+-------+------------+\n",
            "|    min|           1|\n",
            "|    10%|           2|\n",
            "|    90%|           5|\n",
            "|    max|           8|\n",
            "+-------+------------+\n",
            "\n",
            "+-------+----------------+\n",
            "|summary|        Duration|\n",
            "+-------+----------------+\n",
            "|    min|00:00:01.0000000|\n",
            "|    10%|            NULL|\n",
            "|    90%|            NULL|\n",
            "|    max|06:30:09.0000000|\n",
            "+-------+----------------+\n",
            "\n",
            "+-------+----------------+\n",
            "|summary|         EndTime|\n",
            "+-------+----------------+\n",
            "|    min|00:00:00.0000000|\n",
            "|    10%|            NULL|\n",
            "|    90%|            NULL|\n",
            "|    max|23:59:59.0000000|\n",
            "+-------+----------------+\n",
            "\n",
            "+-------+\n",
            "|summary|\n",
            "+-------+\n",
            "|    min|\n",
            "|    10%|\n",
            "|    90%|\n",
            "|    max|\n",
            "+-------+\n",
            "\n",
            "+-------+------------+\n",
            "|summary|ProductionNO|\n",
            "+-------+------------+\n",
            "|    min|      030641|\n",
            "|    10%|     30641.0|\n",
            "|    90%|     39949.0|\n",
            "|    max|      c34183|\n",
            "+-------+------------+\n",
            "\n",
            "+-------+------------------+\n",
            "|summary|      ProgramTitle|\n",
            "+-------+------------------+\n",
            "|    min|  !NO 5PM A ID(:5)|\n",
            "|    10%|            1999.0|\n",
            "|    90%|            1999.0|\n",
            "|    max|�t� avec Jo�l 2/Un|\n",
            "+-------+------------------+\n",
            "\n",
            "+-------+----------------+\n",
            "|summary|       StartTime|\n",
            "+-------+----------------+\n",
            "|    min|00:00:00.0000000|\n",
            "|    10%|            NULL|\n",
            "|    90%|            NULL|\n",
            "|    max|23:59:59.0000000|\n",
            "+-------+----------------+\n",
            "\n",
            "+-------+--------------------+\n",
            "|summary|            Subtitle|\n",
            "+-------+--------------------+\n",
            "|    min|                #001|\n",
            "|    10%|                 3.0|\n",
            "|    90%|              9513.0|\n",
            "|    max|�tre dans le trou...|\n",
            "+-------+--------------------+\n",
            "\n",
            "+-------+--------------------+\n",
            "|summary|NetworkAffiliationID|\n",
            "+-------+--------------------+\n",
            "|    min|                   1|\n",
            "|    10%|                   1|\n",
            "|    90%|                   9|\n",
            "|    max|                   9|\n",
            "+-------+--------------------+\n",
            "\n",
            "+-------+------------------+\n",
            "|summary|SpecialAttentionID|\n",
            "+-------+------------------+\n",
            "|    min|                 1|\n",
            "|    10%|                 1|\n",
            "|    90%|                 2|\n",
            "|    max|                 3|\n",
            "+-------+------------------+\n",
            "\n",
            "+-------+----------------------+\n",
            "|summary|BroadcastOriginPointID|\n",
            "+-------+----------------------+\n",
            "|    min|                     1|\n",
            "|    10%|                     1|\n",
            "|    90%|                     3|\n",
            "|    max|                     3|\n",
            "+-------+----------------------+\n",
            "\n",
            "+-------+-------------+\n",
            "|summary|CompositionID|\n",
            "+-------+-------------+\n",
            "|    min|            1|\n",
            "|    10%|            2|\n",
            "|    90%|            4|\n",
            "|    max|            4|\n",
            "+-------+-------------+\n",
            "\n",
            "+-------+---------+\n",
            "|summary|Producer1|\n",
            "+-------+---------+\n",
            "|    min|      AMI|\n",
            "|    10%|     NULL|\n",
            "|    90%|     NULL|\n",
            "|    max|   VISION|\n",
            "+-------+---------+\n",
            "\n",
            "+-------+---------+\n",
            "|summary|Producer2|\n",
            "+-------+---------+\n",
            "|    min|    NEWSW|\n",
            "|    10%|     NULL|\n",
            "|    90%|     NULL|\n",
            "|    max|       QC|\n",
            "+-------+---------+\n",
            "\n",
            "+-------+---------+\n",
            "|summary|Language1|\n",
            "+-------+---------+\n",
            "|    min|       94|\n",
            "|    10%|       94|\n",
            "|    90%|      110|\n",
            "|    max|      437|\n",
            "+-------+---------+\n",
            "\n",
            "+-------+---------+\n",
            "|summary|Language2|\n",
            "+-------+---------+\n",
            "|    min|        3|\n",
            "|    10%|       55|\n",
            "|    90%|      301|\n",
            "|    max|      438|\n",
            "+-------+---------+\n",
            "\n",
            "+-------+----------------+\n",
            "|summary|duration_seconds|\n",
            "+-------+----------------+\n",
            "|    min|               1|\n",
            "|    10%|              15|\n",
            "|    90%|              30|\n",
            "|    max|           23409|\n",
            "+-------+----------------+\n",
            "\n"
          ]
        }
      ]
    },
    {
      "cell_type": "markdown",
      "source": [
        "joining tables\n",
        "* syntax\n",
        "```none\n",
        "[LEFT].join(\n",
        "    [RIGHT],\n",
        "    on=[PREDICATES]\n",
        "    how=[METHOD]\n",
        ")\n",
        "```\n",
        "* types\n",
        "    * A cross join (how=\"cross\") returns a record for every record pair, regardless of the value the predicates return. Cross joins are seldom the operation you want, but they are useful when you want a table that contains every possible combination.\n",
        "\n",
        "    * an inner join (how=\"inner\") returns a record if the predicate is true and drops it if false.\n",
        "    \n",
        "    * a left (also called a left outer) join will add the unmatched records from the left table in the joined table, filling the columns coming from the right table with null.\n",
        "    \n",
        "    * a right (also called a right outer) join will add the unmatched records from the right in the joined table, filling the columns coming from the left table with null.\n",
        "    \n",
        "    * a full outer (how=\"outer\", how=\"full\", or how=\"full_outer\") join is simply the fusion of a left and right join. It will add the unmatched records from the left and the right table, padding with null.\n",
        "\n",
        "    * A left semi-join (how=\"left_semi\") is the same as an inner join, but keeps the columns in the left table. It also won’t duplicate the records in the left table if they fulfill the predicate with more than one record in the right table. Its main purpose is to filter records from a table based on a predicate that is depending on another table.\n",
        "\n",
        "    * A left anti-join (how=\"left_anti\") is the opposite of an inner join. It will keep only the records from the left table that do not match the predicate with any record in the right table. If a record from the left table matches a record from the right table, it gets dropped from the join operation."
      ],
      "metadata": {
        "id": "p9gI9zR4dPO2"
      }
    },
    {
      "cell_type": "code",
      "source": [
        "file_path = dir_path / \"ReferenceTables/LogIdentifier.csv\"\n",
        "file_path"
      ],
      "metadata": {
        "colab": {
          "base_uri": "https://localhost:8080/"
        },
        "id": "PEFS2Ko7ZQ5F",
        "outputId": "c1378ef1-c413-485b-f4b9-9b1aaf4dcfba"
      },
      "execution_count": 103,
      "outputs": [
        {
          "output_type": "execute_result",
          "data": {
            "text/plain": [
              "PosixPath('drive/MyDrive/Colab Notebooks/broadcast_logs/ReferenceTables/LogIdentifier.csv')"
            ]
          },
          "metadata": {},
          "execution_count": 103
        }
      ]
    },
    {
      "cell_type": "code",
      "source": [
        "log_identifier = spark.read.csv(\n",
        "    str(file_path),\n",
        "    sep=\"|\",\n",
        "    header=True,\n",
        "    inferSchema=True,\n",
        ")"
      ],
      "metadata": {
        "id": "SZHKnkTDdqTR"
      },
      "execution_count": 104,
      "outputs": []
    },
    {
      "cell_type": "code",
      "source": [
        "log_identifier.printSchema()"
      ],
      "metadata": {
        "colab": {
          "base_uri": "https://localhost:8080/"
        },
        "id": "Xic1AYs5dtnd",
        "outputId": "c433d101-a0ea-462f-c25f-5bbf26089735"
      },
      "execution_count": 105,
      "outputs": [
        {
          "output_type": "stream",
          "name": "stdout",
          "text": [
            "root\n",
            " |-- LogIdentifierID: string (nullable = true)\n",
            " |-- LogServiceID: integer (nullable = true)\n",
            " |-- PrimaryFG: integer (nullable = true)\n",
            "\n"
          ]
        }
      ]
    },
    {
      "cell_type": "code",
      "source": [
        "logs_and_channels = logs.join(\n",
        "    log_identifier,\n",
        "    on=logs[\"LogServiceID\"] == log_identifier[\"LogServiceID\"],\n",
        "    how=\"inner\" # this is the default\n",
        ")"
      ],
      "metadata": {
        "id": "hgJdLOLpgwlU"
      },
      "execution_count": 106,
      "outputs": []
    },
    {
      "cell_type": "code",
      "source": [
        "logs_and_channels.show(5)"
      ],
      "metadata": {
        "colab": {
          "base_uri": "https://localhost:8080/"
        },
        "id": "oSCuEj97g6m5",
        "outputId": "a9cc6049-e4ba-41f1-bbd5-4b3684926632"
      },
      "execution_count": 107,
      "outputs": [
        {
          "output_type": "stream",
          "name": "stdout",
          "text": [
            "+------------+----------+-------------------+----------------------+----------+---------------+-----------------+----------------+---------------+------------------+--------------+--------------------+------------+----------------+----------------+------------+------------+--------------------+----------------+--------+--------------------+------------------+----------------------+-------------+---------+---------+---------+---------+----------------+---------------+------------+---------+\n",
            "|LogServiceID|   LogDate|AudienceTargetAgeID|AudienceTargetEthnicID|CategoryID|ClosedCaptionID|CountryOfOriginID|DubDramaCreditID|EthnicProgramID|ProductionSourceID|ProgramClassID|FilmClassificationID|ExhibitionID|        Duration|         EndTime|LogEntryDate|ProductionNO|        ProgramTitle|       StartTime|Subtitle|NetworkAffiliationID|SpecialAttentionID|BroadcastOriginPointID|CompositionID|Producer1|Producer2|Language1|Language2|duration_seconds|LogIdentifierID|LogServiceID|PrimaryFG|\n",
            "+------------+----------+-------------------+----------------------+----------+---------------+-----------------+----------------+---------------+------------------+--------------+--------------------+------------+----------------+----------------+------------+------------+--------------------+----------------+--------+--------------------+------------------+----------------------+-------------+---------+---------+---------+---------+----------------+---------------+------------+---------+\n",
            "|        3157|2018-08-01|                  4|                  NULL|        13|              3|                3|            NULL|           NULL|                10|            19|                NULL|           2|02:00:00.0000000|08:00:00.0000000|  2018-08-01|      A39082|   Newlywed and Dead|06:00:00.0000000|    NULL|                NULL|              NULL|                  NULL|         NULL|     NULL|     NULL|       94|     NULL|            7200|             CI|        3157|        0|\n",
            "|        3157|2018-08-01|                  4|                  NULL|        13|              3|                3|            NULL|           NULL|                10|            19|                NULL|           2|02:00:00.0000000|08:00:00.0000000|  2018-08-01|      A39082|   Newlywed and Dead|06:00:00.0000000|    NULL|                NULL|              NULL|                  NULL|         NULL|     NULL|     NULL|       94|     NULL|            7200|           13ST|        3157|        1|\n",
            "|        3157|2018-08-01|               NULL|                  NULL|      NULL|              1|             NULL|            NULL|           NULL|              NULL|            20|                NULL|        NULL|00:00:30.0000000|06:13:45.0000000|  2018-08-01|        NULL|15-SPECIALTY CHAN...|06:13:15.0000000|    NULL|                NULL|              NULL|                  NULL|         NULL|     NULL|     NULL|     NULL|     NULL|              30|             CI|        3157|        0|\n",
            "|        3157|2018-08-01|               NULL|                  NULL|      NULL|              1|             NULL|            NULL|           NULL|              NULL|            20|                NULL|        NULL|00:00:30.0000000|06:13:45.0000000|  2018-08-01|        NULL|15-SPECIALTY CHAN...|06:13:15.0000000|    NULL|                NULL|              NULL|                  NULL|         NULL|     NULL|     NULL|     NULL|     NULL|              30|           13ST|        3157|        1|\n",
            "|        3157|2018-08-01|               NULL|                  NULL|      NULL|              1|             NULL|            NULL|           NULL|              NULL|             3|                NULL|        NULL|00:00:15.0000000|06:14:00.0000000|  2018-08-01|        NULL|3-PROCTER & GAMBL...|06:13:45.0000000|    NULL|                NULL|              NULL|                  NULL|         NULL|     NULL|     NULL|     NULL|     NULL|              15|             CI|        3157|        0|\n",
            "+------------+----------+-------------------+----------------------+----------+---------------+-----------------+----------------+---------------+------------------+--------------+--------------------+------------+----------------+----------------+------------+------------+--------------------+----------------+--------+--------------------+------------------+----------------------+-------------+---------+---------+---------+---------+----------------+---------------+------------+---------+\n",
            "only showing top 5 rows\n",
            "\n"
          ]
        }
      ]
    },
    {
      "cell_type": "code",
      "source": [
        "# same thing\n",
        "logs_and_channels = logs.join(\n",
        "    log_identifier,\n",
        "    on=\"LogServiceID\", # if the column name is the same in both tables\n",
        "    how=\"inner\"\n",
        ")\n",
        "\n",
        "# same thing\n",
        "# logs_and_channels = logs.join(log_identifier, \"LogServiceID\")"
      ],
      "metadata": {
        "id": "plads9wNd6_3"
      },
      "execution_count": 108,
      "outputs": []
    },
    {
      "cell_type": "markdown",
      "source": [
        "PySpark will not allow two columns to be named the same. If it already exists, it will overwrite (or shadow) the column. If they have different names and you want to keep only one, you could do it like\n",
        "\n",
        "```python\n",
        "logs_and_channels_verbose = logs.join(\n",
        "log_identifier,\n",
        "logs[\"LogServiceID\"] == log_identifier[\"LogServiceID2\"]\n",
        ")\n",
        "logs_and_channels.drop(log_identifier[\"LogServiceID2\"]).select(\"LogServiceID\")\n",
        "```"
      ],
      "metadata": {
        "id": "CKJXKht0hQh1"
      }
    },
    {
      "cell_type": "code",
      "source": [
        "logs_and_channels.printSchema()"
      ],
      "metadata": {
        "colab": {
          "base_uri": "https://localhost:8080/"
        },
        "id": "KsIHKPflgIrX",
        "outputId": "67269e64-ca3d-4c2a-89aa-916927dbb239"
      },
      "execution_count": 109,
      "outputs": [
        {
          "output_type": "stream",
          "name": "stdout",
          "text": [
            "root\n",
            " |-- LogServiceID: integer (nullable = true)\n",
            " |-- LogDate: date (nullable = true)\n",
            " |-- AudienceTargetAgeID: integer (nullable = true)\n",
            " |-- AudienceTargetEthnicID: integer (nullable = true)\n",
            " |-- CategoryID: integer (nullable = true)\n",
            " |-- ClosedCaptionID: integer (nullable = true)\n",
            " |-- CountryOfOriginID: integer (nullable = true)\n",
            " |-- DubDramaCreditID: integer (nullable = true)\n",
            " |-- EthnicProgramID: integer (nullable = true)\n",
            " |-- ProductionSourceID: integer (nullable = true)\n",
            " |-- ProgramClassID: integer (nullable = true)\n",
            " |-- FilmClassificationID: integer (nullable = true)\n",
            " |-- ExhibitionID: integer (nullable = true)\n",
            " |-- Duration: string (nullable = true)\n",
            " |-- EndTime: string (nullable = true)\n",
            " |-- LogEntryDate: date (nullable = true)\n",
            " |-- ProductionNO: string (nullable = true)\n",
            " |-- ProgramTitle: string (nullable = true)\n",
            " |-- StartTime: string (nullable = true)\n",
            " |-- Subtitle: string (nullable = true)\n",
            " |-- NetworkAffiliationID: integer (nullable = true)\n",
            " |-- SpecialAttentionID: integer (nullable = true)\n",
            " |-- BroadcastOriginPointID: integer (nullable = true)\n",
            " |-- CompositionID: integer (nullable = true)\n",
            " |-- Producer1: string (nullable = true)\n",
            " |-- Producer2: string (nullable = true)\n",
            " |-- Language1: integer (nullable = true)\n",
            " |-- Language2: integer (nullable = true)\n",
            " |-- duration_seconds: integer (nullable = true)\n",
            " |-- LogIdentifierID: string (nullable = true)\n",
            " |-- PrimaryFG: integer (nullable = true)\n",
            "\n"
          ]
        }
      ]
    },
    {
      "cell_type": "code",
      "source": [
        "# Linking the category and program class tables using two left joins\n",
        "\n",
        "file_path = dir_path / \"ReferenceTables/CD_Category.csv\"\n",
        "\n",
        "cd_category = spark.read.csv(\n",
        "    str(file_path),\n",
        "    sep=\"|\",\n",
        "    header=True,\n",
        "    inferSchema=True,\n",
        ")\n",
        "\n",
        "file_path = dir_path / \"ReferenceTables/CD_ProgramClass.csv\"\n",
        "cd_program_class = spark.read.csv(\n",
        "    str(file_path),\n",
        "    sep=\"|\",\n",
        "    header=True,\n",
        "    inferSchema=True,\n",
        ")"
      ],
      "metadata": {
        "id": "DulZ8GQugjEt"
      },
      "execution_count": 110,
      "outputs": []
    },
    {
      "cell_type": "code",
      "source": [
        "# aliasing columns\n",
        "cd_category = cd_category.select(\n",
        "    \"CategoryID\",\n",
        "    \"CategoryCD\",\n",
        "    F.col(\"EnglishDescription\").alias(\"Category_Description\"),\n",
        ")\n",
        "\n",
        "cd_program_class = cd_program_class.select(\n",
        "    \"ProgramClassID\",\n",
        "    \"ProgramClassCD\",\n",
        "    F.col(\"EnglishDescription\").alias(\"ProgramClass_Description\"),\n",
        ")"
      ],
      "metadata": {
        "id": "VKD3uGnejn-u"
      },
      "execution_count": 111,
      "outputs": []
    },
    {
      "cell_type": "code",
      "source": [
        "full_log = logs_and_channels.join(\n",
        "    cd_category,\n",
        "    \"CategoryID\",\n",
        "    how=\"left\"\n",
        "    ).join(\n",
        "    cd_program_class,\n",
        "    \"ProgramClassID\",\n",
        "    how=\"left\"\n",
        ")"
      ],
      "metadata": {
        "id": "m12N9abnkIQj"
      },
      "execution_count": 112,
      "outputs": []
    },
    {
      "cell_type": "code",
      "source": [
        "full_log.show(5)"
      ],
      "metadata": {
        "colab": {
          "base_uri": "https://localhost:8080/"
        },
        "id": "-BMNzrrckTy4",
        "outputId": "f89bcda2-6696-4686-a181-1964c6d1d91c"
      },
      "execution_count": 113,
      "outputs": [
        {
          "output_type": "stream",
          "name": "stdout",
          "text": [
            "+--------------+----------+------------+----------+-------------------+----------------------+---------------+-----------------+----------------+---------------+------------------+--------------------+------------+----------------+----------------+------------+------------+--------------------+----------------+--------+--------------------+------------------+----------------------+-------------+---------+---------+---------+---------+----------------+---------------+---------+----------+--------------------+--------------+------------------------+\n",
            "|ProgramClassID|CategoryID|LogServiceID|   LogDate|AudienceTargetAgeID|AudienceTargetEthnicID|ClosedCaptionID|CountryOfOriginID|DubDramaCreditID|EthnicProgramID|ProductionSourceID|FilmClassificationID|ExhibitionID|        Duration|         EndTime|LogEntryDate|ProductionNO|        ProgramTitle|       StartTime|Subtitle|NetworkAffiliationID|SpecialAttentionID|BroadcastOriginPointID|CompositionID|Producer1|Producer2|Language1|Language2|duration_seconds|LogIdentifierID|PrimaryFG|CategoryCD|Category_Description|ProgramClassCD|ProgramClass_Description|\n",
            "+--------------+----------+------------+----------+-------------------+----------------------+---------------+-----------------+----------------+---------------+------------------+--------------------+------------+----------------+----------------+------------+------------+--------------------+----------------+--------+--------------------+------------------+----------------------+-------------+---------+---------+---------+---------+----------------+---------------+---------+----------+--------------------+--------------+------------------------+\n",
            "|            19|        13|        3157|2018-08-01|                  4|                  NULL|              3|                3|            NULL|           NULL|                10|                NULL|           2|02:00:00.0000000|08:00:00.0000000|  2018-08-01|      A39082|   Newlywed and Dead|06:00:00.0000000|    NULL|                NULL|              NULL|                  NULL|         NULL|     NULL|     NULL|       94|     NULL|            7200|             CI|        0|       07C|SPECIALS,MINI-SER...|          PGR |                 PROGRAM|\n",
            "|            19|        13|        3157|2018-08-01|                  4|                  NULL|              3|                3|            NULL|           NULL|                10|                NULL|           2|02:00:00.0000000|08:00:00.0000000|  2018-08-01|      A39082|   Newlywed and Dead|06:00:00.0000000|    NULL|                NULL|              NULL|                  NULL|         NULL|     NULL|     NULL|       94|     NULL|            7200|           13ST|        1|       07C|SPECIALS,MINI-SER...|          PGR |                 PROGRAM|\n",
            "|            20|      NULL|        3157|2018-08-01|               NULL|                  NULL|              1|             NULL|            NULL|           NULL|              NULL|                NULL|        NULL|00:00:30.0000000|06:13:45.0000000|  2018-08-01|        NULL|15-SPECIALTY CHAN...|06:13:15.0000000|    NULL|                NULL|              NULL|                  NULL|         NULL|     NULL|     NULL|     NULL|     NULL|              30|             CI|        0|      NULL|                NULL|          PRC |    PROMOTION OF UPCO...|\n",
            "|            20|      NULL|        3157|2018-08-01|               NULL|                  NULL|              1|             NULL|            NULL|           NULL|              NULL|                NULL|        NULL|00:00:30.0000000|06:13:45.0000000|  2018-08-01|        NULL|15-SPECIALTY CHAN...|06:13:15.0000000|    NULL|                NULL|              NULL|                  NULL|         NULL|     NULL|     NULL|     NULL|     NULL|              30|           13ST|        1|      NULL|                NULL|          PRC |    PROMOTION OF UPCO...|\n",
            "|             3|      NULL|        3157|2018-08-01|               NULL|                  NULL|              1|             NULL|            NULL|           NULL|              NULL|                NULL|        NULL|00:00:15.0000000|06:14:00.0000000|  2018-08-01|        NULL|3-PROCTER & GAMBL...|06:13:45.0000000|    NULL|                NULL|              NULL|                  NULL|         NULL|     NULL|     NULL|     NULL|     NULL|              15|             CI|        0|      NULL|                NULL|          COM |      COMMERCIAL MESSAGE|\n",
            "+--------------+----------+------------+----------+-------------------+----------------------+---------------+-----------------+----------------+---------------+------------------+--------------------+------------+----------------+----------------+------------+------------+--------------------+----------------+--------+--------------------+------------------+----------------------+-------------+---------+---------+---------+---------+----------------+---------------+---------+----------+--------------------+--------------+------------------------+\n",
            "only showing top 5 rows\n",
            "\n"
          ]
        }
      ]
    },
    {
      "cell_type": "code",
      "source": [
        "# most popular types of programs - grouping and aggregating\n",
        "(full_log\n",
        ".groupby(\"ProgramClassCD\", \"ProgramClass_Description\")\n",
        ".agg(F.sum(\"duration_seconds\").alias(\"duration_total\"))\n",
        ".orderBy(\"duration_total\", ascending=False).show(100, False)\n",
        ")\n",
        "\n",
        "# You can also use groupby(), with the apply() (Spark 2.3+) and applyInPandas()\n",
        "# (Spark 3.0+)"
      ],
      "metadata": {
        "colab": {
          "base_uri": "https://localhost:8080/"
        },
        "id": "LEZ66MIdki0t",
        "outputId": "c47a1529-5a81-450b-ff60-a005fa4d1ae1"
      },
      "execution_count": 114,
      "outputs": [
        {
          "output_type": "stream",
          "name": "stdout",
          "text": [
            "+--------------+--------------------------------------+--------------+\n",
            "|ProgramClassCD|ProgramClass_Description              |duration_total|\n",
            "+--------------+--------------------------------------+--------------+\n",
            "|PGR           |PROGRAM                               |29440180      |\n",
            "|COM           |COMMERCIAL MESSAGE                    |4959005       |\n",
            "|PFS           |PROGRAM FIRST SEGMENT                 |1897637       |\n",
            "|SEG           |SEGMENT OF A PROGRAM                  |1535873       |\n",
            "|PRC           |PROMOTION OF UPCOMING CANADIAN PROGRAM|1359433       |\n",
            "|PGI           |PROGRAM INFOMERCIAL                   |765074        |\n",
            "|PRO           |PROMOTION OF NON-CANADIAN PROGRAM     |416717        |\n",
            "|OFF           |SCHEDULED OFF AIR TIME PERIOD         |187304        |\n",
            "|ID            |NETWORK IDENTIFICATION MESSAGE        |117735        |\n",
            "|MAG           |MAGAZINE PROGRAM                      |75624         |\n",
            "|NRN           |No recognized nationality             |72195         |\n",
            "|PSA           |PUBLIC SERVICE ANNOUNCEMENT           |70982         |\n",
            "|SO            |MAY IDENTIFY THE SIGN ON\\OFF OF A DAY |59115         |\n",
            "|LOC           |LOCAL ADVERTISING                     |24410         |\n",
            "|OFT           |OFF AIR DUE TO TECHNICAL DIFFICULTY   |21871         |\n",
            "|MVC           |MUSIC VIDEO CLIP                      |15814         |\n",
            "|REG           |REGIONAL                              |6749          |\n",
            "|SPO           |SPONSORSHIP MESSAGE                   |1766          |\n",
            "|MER           |MERCHANDISING                         |1680          |\n",
            "|SOL           |SOLICITATION MESSAGE                  |596           |\n",
            "|MOS           |Mosaic                                |NULL          |\n",
            "|COR           |CORNERSTONE                           |NULL          |\n",
            "+--------------+--------------------------------------+--------------+\n",
            "\n"
          ]
        }
      ]
    },
    {
      "cell_type": "code",
      "source": [
        "# commercial time for each program - aggregate on custom columns\n",
        "F.when(\n",
        "    F.trim(F.col(\"ProgramClassCD\")).isin(\n",
        "    [\"COM\", \"PRC\", \"PGI\", \"PRO\", \"PSA\", \"MAG\", \"LOC\", \"SPO\", \"MER\", \"SOL\"]\n",
        "    ),\n",
        "    F.col(\"duration_seconds\"),\n",
        ").otherwise(0)"
      ],
      "metadata": {
        "colab": {
          "base_uri": "https://localhost:8080/"
        },
        "id": "SYz2aA50k67X",
        "outputId": "236073c6-4f3b-408a-a17b-afe147694cdf"
      },
      "execution_count": 115,
      "outputs": [
        {
          "output_type": "execute_result",
          "data": {
            "text/plain": [
              "Column<'CASE WHEN (trim(ProgramClassCD) IN (COM, PRC, PGI, PRO, PSA, MAG, LOC, SPO, MER, SOL)) THEN duration_seconds ELSE 0 END'>"
            ]
          },
          "metadata": {},
          "execution_count": 115
        }
      ]
    },
    {
      "cell_type": "code",
      "source": [
        "answer = (\n",
        "full_log.groupby(\"LogIdentifierID\")\n",
        ".agg(F.sum(\n",
        "    F.when(\n",
        "        F.trim(F.col(\"ProgramClassCD\")).isin(\n",
        "        [\"COM\", \"PRC\", \"PGI\", \"PRO\", \"LOC\", \"SPO\", \"MER\", \"SOL\"]\n",
        "        ),\n",
        "        F.col(\"duration_seconds\"),\n",
        "    ).otherwise(0)\n",
        "    ).alias(\"duration_commercial\"),\n",
        "    F.sum(\"duration_seconds\").alias(\"duration_total\"),\n",
        ")\n",
        ".withColumn(\n",
        "\"commercial_ratio\", F.col(\"duration_commercial\") / F.col(\"duration_total\"))\n",
        ")\n",
        "answer.orderBy(\"commercial_ratio\", ascending=False).show(15, False)"
      ],
      "metadata": {
        "colab": {
          "base_uri": "https://localhost:8080/"
        },
        "id": "iK1o3qwxmwBD",
        "outputId": "31f682e9-d8fc-4f9e-d8b8-78826b79d8c1"
      },
      "execution_count": 117,
      "outputs": [
        {
          "output_type": "stream",
          "name": "stdout",
          "text": [
            "+---------------+-------------------+--------------+------------------+\n",
            "|LogIdentifierID|duration_commercial|duration_total|commercial_ratio  |\n",
            "+---------------+-------------------+--------------+------------------+\n",
            "|CIMT           |775                |775           |1.0               |\n",
            "|MSET           |2700               |2700          |1.0               |\n",
            "|TLNSP          |15480              |15480         |1.0               |\n",
            "|TELENO         |17790              |17790         |1.0               |\n",
            "|TRN            |13                 |13            |1.0               |\n",
            "|HPITV          |13                 |13            |1.0               |\n",
            "|TANG           |8125               |8125          |1.0               |\n",
            "|MUSIMAX        |23333              |23582         |0.9894410991434145|\n",
            "|MMAX           |23333              |23582         |0.9894410991434145|\n",
            "|MUSIP          |20587              |20912         |0.9844586840091814|\n",
            "|MPLU           |20587              |20912         |0.9844586840091814|\n",
            "|MUSIQUE PL     |20587              |20912         |0.9844586840091814|\n",
            "|INVST          |20094              |20470         |0.9816316560820714|\n",
            "|CANZ           |21542              |21965         |0.9807420896881403|\n",
            "|ZT�L�          |21542              |21965         |0.9807420896881403|\n",
            "+---------------+-------------------+--------------+------------------+\n",
            "only showing top 15 rows\n",
            "\n"
          ]
        }
      ]
    },
    {
      "cell_type": "code",
      "source": [
        "# simplified version (without the nested logic)\n",
        "\n",
        "# Define the commercial program classes\n",
        "commercial_classes = [\"COM\", \"PRC\", \"PGI\", \"PRO\", \"LOC\", \"SPO\", \"MER\", \"SOL\"]\n",
        "\n",
        "# Add a column for commercial duration\n",
        "full_log = full_log.withColumn(\n",
        "    \"commercial_duration\",\n",
        "    F.when(F.trim(F.col(\"ProgramClassCD\")).isin(commercial_classes), F.col(\"duration_seconds\")).otherwise(0)\n",
        ")\n",
        "\n",
        "# Group by LogIdentifierID and calculate aggregates\n",
        "answer = (\n",
        "    full_log.groupBy(\"LogIdentifierID\")\n",
        "    .agg(\n",
        "        F.sum(\"commercial_duration\").alias(\"duration_commercial\"),\n",
        "        F.sum(\"duration_seconds\").alias(\"duration_total\")\n",
        "    )\n",
        "    .withColumn(\n",
        "        \"commercial_ratio\", F.col(\"duration_commercial\") / F.col(\"duration_total\")\n",
        "    )\n",
        ")\n",
        "\n",
        "# Order by commercial ratio\n",
        "answer.orderBy(\"commercial_ratio\", ascending=False).show(15, False)"
      ],
      "metadata": {
        "colab": {
          "base_uri": "https://localhost:8080/"
        },
        "id": "R-_kEykznHwh",
        "outputId": "def2f6b8-04a4-4ed5-f57c-dc8f6de91cc4"
      },
      "execution_count": 118,
      "outputs": [
        {
          "output_type": "stream",
          "name": "stdout",
          "text": [
            "+---------------+-------------------+--------------+------------------+\n",
            "|LogIdentifierID|duration_commercial|duration_total|commercial_ratio  |\n",
            "+---------------+-------------------+--------------+------------------+\n",
            "|CIMT           |775                |775           |1.0               |\n",
            "|MSET           |2700               |2700          |1.0               |\n",
            "|TLNSP          |15480              |15480         |1.0               |\n",
            "|TELENO         |17790              |17790         |1.0               |\n",
            "|TRN            |13                 |13            |1.0               |\n",
            "|HPITV          |13                 |13            |1.0               |\n",
            "|TANG           |8125               |8125          |1.0               |\n",
            "|MUSIMAX        |23333              |23582         |0.9894410991434145|\n",
            "|MMAX           |23333              |23582         |0.9894410991434145|\n",
            "|MUSIP          |20587              |20912         |0.9844586840091814|\n",
            "|MPLU           |20587              |20912         |0.9844586840091814|\n",
            "|MUSIQUE PL     |20587              |20912         |0.9844586840091814|\n",
            "|INVST          |20094              |20470         |0.9816316560820714|\n",
            "|CANZ           |21542              |21965         |0.9807420896881403|\n",
            "|ZT�L�          |21542              |21965         |0.9807420896881403|\n",
            "+---------------+-------------------+--------------+------------------+\n",
            "only showing top 15 rows\n",
            "\n"
          ]
        }
      ]
    },
    {
      "cell_type": "markdown",
      "source": [
        "Dealing with null values - dropna() and fillna()"
      ],
      "metadata": {
        "id": "zfyRvxQaoJMf"
      }
    },
    {
      "cell_type": "code",
      "source": [
        "answer.count()"
      ],
      "metadata": {
        "colab": {
          "base_uri": "https://localhost:8080/"
        },
        "id": "kvfevoeUonMA",
        "outputId": "eedec960-3e33-4147-bd47-129fb22b6014"
      },
      "execution_count": 122,
      "outputs": [
        {
          "output_type": "execute_result",
          "data": {
            "text/plain": [
              "446"
            ]
          },
          "metadata": {},
          "execution_count": 122
        }
      ]
    },
    {
      "cell_type": "code",
      "source": [
        "answer_no_null = answer.dropna(subset=[\"commercial_ratio\"])\n",
        "answer_no_null.orderBy(\"commercial_ratio\", ascending=False).show(15, False)"
      ],
      "metadata": {
        "colab": {
          "base_uri": "https://localhost:8080/"
        },
        "id": "AXxZHf3pn6SA",
        "outputId": "181d49ea-b23e-4fc7-af59-5dc3acbf937a"
      },
      "execution_count": 123,
      "outputs": [
        {
          "output_type": "stream",
          "name": "stdout",
          "text": [
            "+---------------+-------------------+--------------+------------------+\n",
            "|LogIdentifierID|duration_commercial|duration_total|commercial_ratio  |\n",
            "+---------------+-------------------+--------------+------------------+\n",
            "|CIMT           |775                |775           |1.0               |\n",
            "|MSET           |2700               |2700          |1.0               |\n",
            "|TLNSP          |15480              |15480         |1.0               |\n",
            "|TELENO         |17790              |17790         |1.0               |\n",
            "|TRN            |13                 |13            |1.0               |\n",
            "|HPITV          |13                 |13            |1.0               |\n",
            "|TANG           |8125               |8125          |1.0               |\n",
            "|MUSIMAX        |23333              |23582         |0.9894410991434145|\n",
            "|MMAX           |23333              |23582         |0.9894410991434145|\n",
            "|MUSIP          |20587              |20912         |0.9844586840091814|\n",
            "|MPLU           |20587              |20912         |0.9844586840091814|\n",
            "|MUSIQUE PL     |20587              |20912         |0.9844586840091814|\n",
            "|INVST          |20094              |20470         |0.9816316560820714|\n",
            "|CANZ           |21542              |21965         |0.9807420896881403|\n",
            "|ZT�L�          |21542              |21965         |0.9807420896881403|\n",
            "+---------------+-------------------+--------------+------------------+\n",
            "only showing top 15 rows\n",
            "\n"
          ]
        }
      ]
    },
    {
      "cell_type": "code",
      "source": [
        "answer_no_null.count()"
      ],
      "metadata": {
        "colab": {
          "base_uri": "https://localhost:8080/"
        },
        "id": "H7PNAASlokhO",
        "outputId": "2e6b8243-1161-4a21-fdaf-2a2cf307305f"
      },
      "execution_count": 124,
      "outputs": [
        {
          "output_type": "execute_result",
          "data": {
            "text/plain": [
              "444"
            ]
          },
          "metadata": {},
          "execution_count": 124
        }
      ]
    },
    {
      "cell_type": "code",
      "source": [
        "answer_no_null = answer.fillna(0)\n",
        "answer_no_null.orderBy(\"commercial_ratio\", ascending=False).show(15, False)"
      ],
      "metadata": {
        "colab": {
          "base_uri": "https://localhost:8080/"
        },
        "id": "F6_QO96loaC-",
        "outputId": "e1172f69-e8c4-4dc1-87b8-7c2a6a49db66"
      },
      "execution_count": 125,
      "outputs": [
        {
          "output_type": "stream",
          "name": "stdout",
          "text": [
            "+---------------+-------------------+--------------+------------------+\n",
            "|LogIdentifierID|duration_commercial|duration_total|commercial_ratio  |\n",
            "+---------------+-------------------+--------------+------------------+\n",
            "|CIMT           |775                |775           |1.0               |\n",
            "|MSET           |2700               |2700          |1.0               |\n",
            "|TLNSP          |15480              |15480         |1.0               |\n",
            "|TELENO         |17790              |17790         |1.0               |\n",
            "|TRN            |13                 |13            |1.0               |\n",
            "|HPITV          |13                 |13            |1.0               |\n",
            "|TANG           |8125               |8125          |1.0               |\n",
            "|MUSIMAX        |23333              |23582         |0.9894410991434145|\n",
            "|MMAX           |23333              |23582         |0.9894410991434145|\n",
            "|MUSIP          |20587              |20912         |0.9844586840091814|\n",
            "|MPLU           |20587              |20912         |0.9844586840091814|\n",
            "|MUSIQUE PL     |20587              |20912         |0.9844586840091814|\n",
            "|INVST          |20094              |20470         |0.9816316560820714|\n",
            "|CANZ           |21542              |21965         |0.9807420896881403|\n",
            "|ZT�L�          |21542              |21965         |0.9807420896881403|\n",
            "+---------------+-------------------+--------------+------------------+\n",
            "only showing top 15 rows\n",
            "\n"
          ]
        }
      ]
    },
    {
      "cell_type": "code",
      "source": [
        "answer_no_null.count()"
      ],
      "metadata": {
        "colab": {
          "base_uri": "https://localhost:8080/"
        },
        "id": "TMeDwBhroeYb",
        "outputId": "e4687105-769b-4874-ce31-e3f949b4aabd"
      },
      "execution_count": 126,
      "outputs": [
        {
          "output_type": "execute_result",
          "data": {
            "text/plain": [
              "446"
            ]
          },
          "metadata": {},
          "execution_count": 126
        }
      ]
    },
    {
      "cell_type": "code",
      "source": [],
      "metadata": {
        "id": "C3sVqBUOojVK"
      },
      "execution_count": null,
      "outputs": []
    }
  ]
}